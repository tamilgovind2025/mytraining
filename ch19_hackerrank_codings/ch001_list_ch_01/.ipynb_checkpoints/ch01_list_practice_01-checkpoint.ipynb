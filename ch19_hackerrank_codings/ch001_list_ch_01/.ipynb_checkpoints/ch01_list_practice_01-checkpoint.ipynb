{
 "cells": [
  {
   "cell_type": "markdown",
   "id": "97661f30",
   "metadata": {},
   "source": [
    "# dict ex 1"
   ]
  },
  {
   "cell_type": "code",
   "execution_count": 2,
   "id": "632c64b6",
   "metadata": {},
   "outputs": [
    {
     "name": "stdout",
     "output_type": "stream",
     "text": [
      "3\n",
      "govind 22 33 44\n",
      "vinoth 33 44 55 \n",
      "kumar 44 55 66 \n",
      "kumar\n",
      "{'govind': [22.0, 33.0, 44.0], 'vinoth': [33.0, 44.0, 55.0], 'kumar': [44.0, 55.0, 66.0]}\n"
     ]
    }
   ],
   "source": [
    "if __name__ == '__main__':\n",
    "    n = int(input())\n",
    "    student_marks = {}\n",
    "    for _ in range(n):\n",
    "        name, *line = input().split()\n",
    "        scores = list(map(float, line))\n",
    "        student_marks[name] = scores\n",
    "    query_name = input()\n",
    "    \n",
    "    print(student_marks)"
   ]
  },
  {
   "cell_type": "code",
   "execution_count": 4,
   "id": "aa575f05",
   "metadata": {},
   "outputs": [
    {
     "data": {
      "text/plain": [
       "[44.0, 55.0, 66.0]"
      ]
     },
     "execution_count": 4,
     "metadata": {},
     "output_type": "execute_result"
    }
   ],
   "source": [
    "student_marks[query_name]"
   ]
  },
  {
   "cell_type": "code",
   "execution_count": 9,
   "id": "c2dac87c",
   "metadata": {},
   "outputs": [
    {
     "name": "stdout",
     "output_type": "stream",
     "text": [
      "55.00\n"
     ]
    }
   ],
   "source": [
    "total=0\n",
    "for i in student_marks[query_name]:\n",
    "    total+=i\n",
    "    avg=total/len(student_marks[query_name])\n",
    "    \n",
    "print(\"{:.2f}\".format(avg))\n",
    "    "
   ]
  },
  {
   "cell_type": "markdown",
   "id": "5584e005",
   "metadata": {},
   "source": [
    "# ex no 2"
   ]
  },
  {
   "cell_type": "code",
   "execution_count": 6,
   "id": "e0affc85",
   "metadata": {},
   "outputs": [
    {
     "name": "stdout",
     "output_type": "stream",
     "text": [
      "2\n",
      "insert 0 10\n",
      "print\n",
      "[10]\n"
     ]
    }
   ],
   "source": [
    "if __name__ == '__main__':\n",
    "    original_list=[]\n",
    "    N = int(input())\n",
    "    for i in range(N):\n",
    "        data = input().split()\n",
    "        #print(data)\n",
    "        \n",
    "        if data[0]==\"insert\":\n",
    "            original_list.insert(int(data[1]), int(data[2]))\n",
    "            \n",
    "        elif data[0]==\"print\":\n",
    "            print(original_list)\n",
    "        \n",
    "        elif data[0]==\"remove\":\n",
    "            original_list.remove(int(data[1]))\n",
    "            \n",
    "        elif data[0]==\"append\":\n",
    "            original_list.append(int(data[1]))\n",
    "            \n",
    "        elif data[0]==\"sort\":\n",
    "            original_list.sort()\n",
    "            \n",
    "        elif data[0]==\"pop\":\n",
    "            original_list.pop()\n",
    "            \n",
    "        elif data[0]==\"reverse\":\n",
    "            original_list.reverse()\n",
    "    \n",
    "    "
   ]
  },
  {
   "cell_type": "code",
   "execution_count": null,
   "id": "eeb0160c",
   "metadata": {},
   "outputs": [],
   "source": []
  }
 ],
 "metadata": {
  "kernelspec": {
   "display_name": "Python 3 (ipykernel)",
   "language": "python",
   "name": "python3"
  },
  "language_info": {
   "codemirror_mode": {
    "name": "ipython",
    "version": 3
   },
   "file_extension": ".py",
   "mimetype": "text/x-python",
   "name": "python",
   "nbconvert_exporter": "python",
   "pygments_lexer": "ipython3",
   "version": "3.11.5"
  }
 },
 "nbformat": 4,
 "nbformat_minor": 5
}
