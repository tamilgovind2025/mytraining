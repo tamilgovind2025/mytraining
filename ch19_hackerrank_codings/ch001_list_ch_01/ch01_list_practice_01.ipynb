{
 "cells": [
  {
   "cell_type": "markdown",
   "id": "97661f30",
   "metadata": {},
   "source": [
    "# dict ex 1"
   ]
  },
  {
   "cell_type": "code",
   "execution_count": 2,
   "id": "632c64b6",
   "metadata": {},
   "outputs": [
    {
     "name": "stdout",
     "output_type": "stream",
     "text": [
      "3\n",
      "govind 22 33 44\n",
      "vinoth 33 44 55 \n",
      "kumar 44 55 66 \n",
      "kumar\n",
      "{'govind': [22.0, 33.0, 44.0], 'vinoth': [33.0, 44.0, 55.0], 'kumar': [44.0, 55.0, 66.0]}\n"
     ]
    }
   ],
   "source": [
    "if __name__ == '__main__':\n",
    "    n = int(input())\n",
    "    student_marks = {}\n",
    "    for _ in range(n):\n",
    "        name, *line = input().split()\n",
    "        scores = list(map(float, line))\n",
    "        student_marks[name] = scores\n",
    "    query_name = input()\n",
    "    \n",
    "    print(student_marks)"
   ]
  },
  {
   "cell_type": "code",
   "execution_count": 4,
   "id": "aa575f05",
   "metadata": {},
   "outputs": [
    {
     "data": {
      "text/plain": [
       "[44.0, 55.0, 66.0]"
      ]
     },
     "execution_count": 4,
     "metadata": {},
     "output_type": "execute_result"
    }
   ],
   "source": [
    "student_marks[query_name]"
   ]
  },
  {
   "cell_type": "code",
   "execution_count": 9,
   "id": "c2dac87c",
   "metadata": {},
   "outputs": [
    {
     "name": "stdout",
     "output_type": "stream",
     "text": [
      "55.00\n"
     ]
    }
   ],
   "source": [
    "total=0\n",
    "for i in student_marks[query_name]:\n",
    "    total+=i\n",
    "    avg=total/len(student_marks[query_name])\n",
    "    \n",
    "print(\"{:.2f}\".format(avg))\n",
    "    "
   ]
  },
  {
   "cell_type": "markdown",
   "id": "5584e005",
   "metadata": {},
   "source": [
    "# ex no 2"
   ]
  },
  {
   "cell_type": "code",
   "execution_count": 6,
   "id": "e0affc85",
   "metadata": {},
   "outputs": [
    {
     "name": "stdout",
     "output_type": "stream",
     "text": [
      "2\n",
      "insert 0 10\n",
      "print\n",
      "[10]\n"
     ]
    }
   ],
   "source": [
    "if __name__ == '__main__':\n",
    "    original_list=[]\n",
    "    N = int(input())\n",
    "    for i in range(N):\n",
    "        data = input().split()\n",
    "        #print(data)\n",
    "        \n",
    "        if data[0]==\"insert\":\n",
    "            original_list.insert(int(data[1]), int(data[2]))\n",
    "            \n",
    "        elif data[0]==\"print\":\n",
    "            print(original_list)\n",
    "        \n",
    "        elif data[0]==\"remove\":\n",
    "            original_list.remove(int(data[1]))\n",
    "            \n",
    "        elif data[0]==\"append\":\n",
    "            original_list.append(int(data[1]))\n",
    "            \n",
    "        elif data[0]==\"sort\":\n",
    "            original_list.sort()\n",
    "            \n",
    "        elif data[0]==\"pop\":\n",
    "            original_list.pop()\n",
    "            \n",
    "        elif data[0]==\"reverse\":\n",
    "            original_list.reverse()\n",
    "    \n",
    "    "
   ]
  },
  {
   "cell_type": "markdown",
   "id": "a9cf608f",
   "metadata": {},
   "source": [
    "# loops"
   ]
  },
  {
   "cell_type": "code",
   "execution_count": 3,
   "id": "8a6996c8",
   "metadata": {},
   "outputs": [
    {
     "name": "stdout",
     "output_type": "stream",
     "text": [
      "5\n",
      "1\n",
      "22\n",
      "333\n",
      "4444\n"
     ]
    }
   ],
   "source": [
    "n=int(input())\n",
    "for i in range(1,n):\n",
    "    print(str(i)*i)"
   ]
  },
  {
   "cell_type": "code",
   "execution_count": 4,
   "id": "004b9718",
   "metadata": {},
   "outputs": [
    {
     "name": "stdout",
     "output_type": "stream",
     "text": [
      "5\n",
      "1 \n",
      "2 3 4 5 6 7 8 9 10 11 12 13 14 15 "
     ]
    }
   ],
   "source": [
    "# Read input from STDIN\n",
    "n = int(input())\n",
    "\n",
    "# Initialize the counter\n",
    "counter = 1\n",
    "\n",
    "# Single loop to print the triangle\n",
    "for i in range(1, n*(n+1)//2 + 1):\n",
    "    # Print the current counter value\n",
    "    print(counter, end=\" \")\n",
    "\n",
    "    # Increment the counter\n",
    "    counter += 1\n",
    "\n",
    "    # Move to the next line if it's the end of the row\n",
    "    if i == (counter * (counter - 1)) // 2:\n",
    "        print()\n"
   ]
  },
  {
   "cell_type": "code",
   "execution_count": 5,
   "id": "15b3e9cd",
   "metadata": {},
   "outputs": [
    {
     "name": "stdout",
     "output_type": "stream",
     "text": [
      "5\n",
      "1\n",
      "22\n",
      "333\n",
      "4444\n"
     ]
    }
   ],
   "source": [
    "# Enter your code here. Read input from STDIN. Print output to STDOUT\n",
    "n=int(input())\n",
    "for i in range(1,n):\n",
    "    print(str(i)*i) \n",
    "\n",
    "#num = i * 10**i"
   ]
  },
  {
   "cell_type": "code",
   "execution_count": 35,
   "id": "a19b8dd3",
   "metadata": {},
   "outputs": [
    {
     "name": "stdout",
     "output_type": "stream",
     "text": [
      "5\n",
      "1\n",
      "22\n",
      "333\n",
      "4444\n"
     ]
    }
   ],
   "source": [
    "for i in range(1,int(input())): #More than 2 lines will result in 0 score. Do not leave a blank line also\n",
    "    print((10**i)//9*i)\n",
    "\n"
   ]
  },
  {
   "cell_type": "code",
   "execution_count": 37,
   "id": "877c27e0",
   "metadata": {},
   "outputs": [
    {
     "data": {
      "text/plain": [
       "1"
      ]
     },
     "execution_count": 37,
     "metadata": {},
     "output_type": "execute_result"
    }
   ],
   "source": [
    "10//9\n"
   ]
  },
  {
   "cell_type": "code",
   "execution_count": 38,
   "id": "443f34d3",
   "metadata": {},
   "outputs": [
    {
     "data": {
      "text/plain": [
       "11"
      ]
     },
     "execution_count": 38,
     "metadata": {},
     "output_type": "execute_result"
    }
   ],
   "source": [
    "100//9"
   ]
  },
  {
   "cell_type": "code",
   "execution_count": 39,
   "id": "c6a4e429",
   "metadata": {},
   "outputs": [
    {
     "data": {
      "text/plain": [
       "111"
      ]
     },
     "execution_count": 39,
     "metadata": {},
     "output_type": "execute_result"
    }
   ],
   "source": [
    "1000//9\n"
   ]
  },
  {
   "cell_type": "markdown",
   "id": "8d49a46c",
   "metadata": {},
   "source": [
    "# swap case"
   ]
  },
  {
   "cell_type": "code",
   "execution_count": 1,
   "id": "c167dc47",
   "metadata": {},
   "outputs": [
    {
     "name": "stdout",
     "output_type": "stream",
     "text": [
      "Welcome\n"
     ]
    }
   ],
   "source": [
    "def convert_casing(s):\n",
    "  words = s.split()\n",
    "\n",
    "  # Convert each word to uppercase first letter and lowercase remaining\n",
    "  converted_words = [word.capitalize() for word in words]\n",
    "\n",
    "  # Join the converted words back into a string\n",
    "  return \" \".join(converted_words)\n",
    "\n",
    "# Example usage\n",
    "original_text = \"welCOME\"\n",
    "converted_text = convert_casing(original_text)\n",
    "\n",
    "print(converted_text)  # Output: WELcome\n"
   ]
  },
  {
   "cell_type": "code",
   "execution_count": 1,
   "id": "3e6ee15e",
   "metadata": {},
   "outputs": [
    {
     "name": "stdout",
     "output_type": "stream",
     "text": [
      "goivnda \"WECLOME\" adre.\n",
      "GOIVNDA \"weclome\" ADRE.\n"
     ]
    }
   ],
   "source": [
    "def swap_case(s):\n",
    "    newstring=\"\"\n",
    "    for i in s:\n",
    "        if i.islower():\n",
    "            newstring=newstring+i.upper()\n",
    "        elif i.isupper():\n",
    "            newstring=newstring+i.lower()\n",
    "        else:\n",
    "            newstring=newstring+i\n",
    "    \n",
    "    return newstring\n",
    "\n",
    "if __name__ == '__main__':\n",
    "    string=input()\n",
    "    nestr=swap_case(string)\n",
    "    print(nestr)"
   ]
  },
  {
   "cell_type": "markdown",
   "id": "7441df1a",
   "metadata": {},
   "source": [
    "# string"
   ]
  },
  {
   "cell_type": "code",
   "execution_count": 4,
   "id": "3af0530a",
   "metadata": {},
   "outputs": [
    {
     "name": "stdout",
     "output_type": "stream",
     "text": [
      "['this', 'is', 'a', 'string']\n"
     ]
    }
   ],
   "source": [
    "string=\"this is a string\"\n",
    "\n",
    "split=string.split(\" \")\n",
    "print(split)"
   ]
  },
  {
   "cell_type": "code",
   "execution_count": 5,
   "id": "63556e3b",
   "metadata": {},
   "outputs": [
    {
     "name": "stdout",
     "output_type": "stream",
     "text": [
      "this-is-a-string\n"
     ]
    }
   ],
   "source": [
    "split=\"-\".join(split)\n",
    "print(split)"
   ]
  },
  {
   "cell_type": "markdown",
   "id": "e61ab034",
   "metadata": {},
   "source": [
    "# string"
   ]
  },
  {
   "cell_type": "code",
   "execution_count": 9,
   "id": "5bf2c3a0",
   "metadata": {},
   "outputs": [
    {
     "name": "stdout",
     "output_type": "stream",
     "text": [
      "goivnda\n",
      "3 m\n",
      "goimnda\n"
     ]
    }
   ],
   "source": [
    "def mutate_string(string, position, character):\n",
    "    str_list=list(string)\n",
    "    str_list[position]=character\n",
    "    str_list=\"\".join(str_list)\n",
    "    return str_list\n",
    "\n",
    "if __name__ == '__main__':\n",
    "    s = input()\n",
    "    i, c = input().split()\n",
    "    s_new = mutate_string(s, int(i), c)\n",
    "    print(s_new)"
   ]
  },
  {
   "cell_type": "markdown",
   "id": "ccc6e0c5",
   "metadata": {},
   "source": [
    "# count sub string "
   ]
  },
  {
   "cell_type": "code",
   "execution_count": 10,
   "id": "8078312d",
   "metadata": {},
   "outputs": [
    {
     "name": "stdout",
     "output_type": "stream",
     "text": [
      "2\n"
     ]
    }
   ],
   "source": [
    "def count_substring(input_string, substring):\n",
    "  \"\"\"Counts the number of times a substring appears in a string.\n",
    "\n",
    "  Args:\n",
    "      input_string: The string to search.\n",
    "      substring: The substring to count.\n",
    "\n",
    "  Returns:\n",
    "      The number of occurrences of the substring in the input string.\n",
    "  \"\"\"\n",
    "\n",
    "  # Initialize a counter variable\n",
    "  count = 0\n",
    "\n",
    "  # Iterate through the input string with a sliding window of the substring length\n",
    "  for i in range(len(input_string) - len(substring) + 1):\n",
    "    # Check if the current window matches the substring\n",
    "    if input_string[i:i + len(substring)] == substring:\n",
    "      count += 1\n",
    "\n",
    "  return count\n",
    "\n",
    "# Example usage\n",
    "input_string = \"abcdcdc\"\n",
    "substring = \"cdc\"\n",
    "\n",
    "occurrence_count = count_substring(input_string, substring)\n",
    "\n",
    "print(occurrence_count)  # Output: 2\n"
   ]
  },
  {
   "cell_type": "code",
   "execution_count": null,
   "id": "2630626a",
   "metadata": {},
   "outputs": [],
   "source": [
    "def count_substring(input_string, substring):\n",
    "  count = 0\n",
    "  for i in range(len(input_string) - len(substring) + 1):\n",
    "    if input_string[i:i + len(substring)] == substring:\n",
    "      count += 1\n",
    "  return count\n",
    "\n",
    "\n",
    "input_string = \"abcdcdc\"\n",
    "substring = \"cdc\"\n",
    "\n",
    "occurrence_count = count_substring(input_string, substring)\n",
    "\n",
    "print(occurrence_count)  # Output: 2\n"
   ]
  }
 ],
 "metadata": {
  "kernelspec": {
   "display_name": "Python 3 (ipykernel)",
   "language": "python",
   "name": "python3"
  },
  "language_info": {
   "codemirror_mode": {
    "name": "ipython",
    "version": 3
   },
   "file_extension": ".py",
   "mimetype": "text/x-python",
   "name": "python",
   "nbconvert_exporter": "python",
   "pygments_lexer": "ipython3",
   "version": "3.11.5"
  }
 },
 "nbformat": 4,
 "nbformat_minor": 5
}
