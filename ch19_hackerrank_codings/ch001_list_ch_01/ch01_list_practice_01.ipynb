{
 "cells": [
  {
   "cell_type": "markdown",
   "id": "97661f30",
   "metadata": {},
   "source": [
    "# dict ex 1"
   ]
  },
  {
   "cell_type": "code",
   "execution_count": 2,
   "id": "632c64b6",
   "metadata": {},
   "outputs": [
    {
     "name": "stdout",
     "output_type": "stream",
     "text": [
      "3\n",
      "govind 22 33 44\n",
      "vinoth 33 44 55 \n",
      "kumar 44 55 66 \n",
      "kumar\n",
      "{'govind': [22.0, 33.0, 44.0], 'vinoth': [33.0, 44.0, 55.0], 'kumar': [44.0, 55.0, 66.0]}\n"
     ]
    }
   ],
   "source": [
    "if __name__ == '__main__':\n",
    "    n = int(input())\n",
    "    student_marks = {}\n",
    "    for _ in range(n):\n",
    "        name, *line = input().split()\n",
    "        scores = list(map(float, line))\n",
    "        student_marks[name] = scores\n",
    "    query_name = input()\n",
    "    \n",
    "    print(student_marks)"
   ]
  },
  {
   "cell_type": "code",
   "execution_count": 4,
   "id": "aa575f05",
   "metadata": {},
   "outputs": [
    {
     "data": {
      "text/plain": [
       "[44.0, 55.0, 66.0]"
      ]
     },
     "execution_count": 4,
     "metadata": {},
     "output_type": "execute_result"
    }
   ],
   "source": [
    "student_marks[query_name]"
   ]
  },
  {
   "cell_type": "code",
   "execution_count": 9,
   "id": "c2dac87c",
   "metadata": {},
   "outputs": [
    {
     "name": "stdout",
     "output_type": "stream",
     "text": [
      "55.00\n"
     ]
    }
   ],
   "source": [
    "total=0\n",
    "for i in student_marks[query_name]:\n",
    "    total+=i\n",
    "    avg=total/len(student_marks[query_name])\n",
    "    \n",
    "print(\"{:.2f}\".format(avg))\n",
    "    "
   ]
  },
  {
   "cell_type": "markdown",
   "id": "5584e005",
   "metadata": {},
   "source": [
    "# ex no 2"
   ]
  },
  {
   "cell_type": "code",
   "execution_count": 6,
   "id": "e0affc85",
   "metadata": {},
   "outputs": [
    {
     "name": "stdout",
     "output_type": "stream",
     "text": [
      "2\n",
      "insert 0 10\n",
      "print\n",
      "[10]\n"
     ]
    }
   ],
   "source": [
    "if __name__ == '__main__':\n",
    "    original_list=[]\n",
    "    N = int(input())\n",
    "    for i in range(N):\n",
    "        data = input().split()\n",
    "        #print(data)\n",
    "        \n",
    "        if data[0]==\"insert\":\n",
    "            original_list.insert(int(data[1]), int(data[2]))\n",
    "            \n",
    "        elif data[0]==\"print\":\n",
    "            print(original_list)\n",
    "        \n",
    "        elif data[0]==\"remove\":\n",
    "            original_list.remove(int(data[1]))\n",
    "            \n",
    "        elif data[0]==\"append\":\n",
    "            original_list.append(int(data[1]))\n",
    "            \n",
    "        elif data[0]==\"sort\":\n",
    "            original_list.sort()\n",
    "            \n",
    "        elif data[0]==\"pop\":\n",
    "            original_list.pop()\n",
    "            \n",
    "        elif data[0]==\"reverse\":\n",
    "            original_list.reverse()\n",
    "    \n",
    "    "
   ]
  },
  {
   "cell_type": "markdown",
   "id": "a9cf608f",
   "metadata": {},
   "source": [
    "# loops"
   ]
  },
  {
   "cell_type": "code",
   "execution_count": 3,
   "id": "8a6996c8",
   "metadata": {},
   "outputs": [
    {
     "name": "stdout",
     "output_type": "stream",
     "text": [
      "5\n",
      "1\n",
      "22\n",
      "333\n",
      "4444\n"
     ]
    }
   ],
   "source": [
    "n=int(input())\n",
    "for i in range(1,n):\n",
    "    print(str(i)*i)"
   ]
  },
  {
   "cell_type": "code",
   "execution_count": 4,
   "id": "004b9718",
   "metadata": {},
   "outputs": [
    {
     "name": "stdout",
     "output_type": "stream",
     "text": [
      "5\n",
      "1 \n",
      "2 3 4 5 6 7 8 9 10 11 12 13 14 15 "
     ]
    }
   ],
   "source": [
    "# Read input from STDIN\n",
    "n = int(input())\n",
    "\n",
    "# Initialize the counter\n",
    "counter = 1\n",
    "\n",
    "# Single loop to print the triangle\n",
    "for i in range(1, n*(n+1)//2 + 1):\n",
    "    # Print the current counter value\n",
    "    print(counter, end=\" \")\n",
    "\n",
    "    # Increment the counter\n",
    "    counter += 1\n",
    "\n",
    "    # Move to the next line if it's the end of the row\n",
    "    if i == (counter * (counter - 1)) // 2:\n",
    "        print()\n"
   ]
  },
  {
   "cell_type": "code",
   "execution_count": 5,
   "id": "15b3e9cd",
   "metadata": {},
   "outputs": [
    {
     "name": "stdout",
     "output_type": "stream",
     "text": [
      "5\n",
      "1\n",
      "22\n",
      "333\n",
      "4444\n"
     ]
    }
   ],
   "source": [
    "# Enter your code here. Read input from STDIN. Print output to STDOUT\n",
    "n=int(input())\n",
    "for i in range(1,n):\n",
    "    print(str(i)*i) \n",
    "\n",
    "#num = i * 10**i"
   ]
  },
  {
   "cell_type": "code",
   "execution_count": 35,
   "id": "a19b8dd3",
   "metadata": {},
   "outputs": [
    {
     "name": "stdout",
     "output_type": "stream",
     "text": [
      "5\n",
      "1\n",
      "22\n",
      "333\n",
      "4444\n"
     ]
    }
   ],
   "source": [
    "for i in range(1,int(input())): #More than 2 lines will result in 0 score. Do not leave a blank line also\n",
    "    print((10**i)//9*i)\n",
    "\n"
   ]
  },
  {
   "cell_type": "code",
   "execution_count": 37,
   "id": "877c27e0",
   "metadata": {},
   "outputs": [
    {
     "data": {
      "text/plain": [
       "1"
      ]
     },
     "execution_count": 37,
     "metadata": {},
     "output_type": "execute_result"
    }
   ],
   "source": [
    "10//9\n"
   ]
  },
  {
   "cell_type": "code",
   "execution_count": 38,
   "id": "443f34d3",
   "metadata": {},
   "outputs": [
    {
     "data": {
      "text/plain": [
       "11"
      ]
     },
     "execution_count": 38,
     "metadata": {},
     "output_type": "execute_result"
    }
   ],
   "source": [
    "100//9"
   ]
  },
  {
   "cell_type": "code",
   "execution_count": 39,
   "id": "c6a4e429",
   "metadata": {},
   "outputs": [
    {
     "data": {
      "text/plain": [
       "111"
      ]
     },
     "execution_count": 39,
     "metadata": {},
     "output_type": "execute_result"
    }
   ],
   "source": [
    "1000//9\n"
   ]
  },
  {
   "cell_type": "markdown",
   "id": "8d49a46c",
   "metadata": {},
   "source": [
    "# swap case"
   ]
  },
  {
   "cell_type": "code",
   "execution_count": 1,
   "id": "c167dc47",
   "metadata": {},
   "outputs": [
    {
     "name": "stdout",
     "output_type": "stream",
     "text": [
      "Welcome\n"
     ]
    }
   ],
   "source": [
    "def convert_casing(s):\n",
    "  words = s.split()\n",
    "\n",
    "  # Convert each word to uppercase first letter and lowercase remaining\n",
    "  converted_words = [word.capitalize() for word in words]\n",
    "\n",
    "  # Join the converted words back into a string\n",
    "  return \" \".join(converted_words)\n",
    "\n",
    "# Example usage\n",
    "original_text = \"welCOME\"\n",
    "converted_text = convert_casing(original_text)\n",
    "\n",
    "print(converted_text)  # Output: WELcome\n"
   ]
  },
  {
   "cell_type": "code",
   "execution_count": 1,
   "id": "3e6ee15e",
   "metadata": {},
   "outputs": [
    {
     "name": "stdout",
     "output_type": "stream",
     "text": [
      "goivnda \"WECLOME\" adre.\n",
      "GOIVNDA \"weclome\" ADRE.\n"
     ]
    }
   ],
   "source": [
    "def swap_case(s):\n",
    "    newstring=\"\"\n",
    "    for i in s:\n",
    "        if i.islower():\n",
    "            newstring=newstring+i.upper()\n",
    "        elif i.isupper():\n",
    "            newstring=newstring+i.lower()\n",
    "        else:\n",
    "            newstring=newstring+i\n",
    "    \n",
    "    return newstring\n",
    "\n",
    "if __name__ == '__main__':\n",
    "    string=input()\n",
    "    nestr=swap_case(string)\n",
    "    print(nestr)"
   ]
  },
  {
   "cell_type": "markdown",
   "id": "7441df1a",
   "metadata": {},
   "source": [
    "# string"
   ]
  },
  {
   "cell_type": "code",
   "execution_count": 4,
   "id": "3af0530a",
   "metadata": {},
   "outputs": [
    {
     "name": "stdout",
     "output_type": "stream",
     "text": [
      "['this', 'is', 'a', 'string']\n"
     ]
    }
   ],
   "source": [
    "string=\"this is a string\"\n",
    "\n",
    "split=string.split(\" \")\n",
    "print(split)"
   ]
  },
  {
   "cell_type": "code",
   "execution_count": 5,
   "id": "63556e3b",
   "metadata": {},
   "outputs": [
    {
     "name": "stdout",
     "output_type": "stream",
     "text": [
      "this-is-a-string\n"
     ]
    }
   ],
   "source": [
    "split=\"-\".join(split)\n",
    "print(split)"
   ]
  },
  {
   "cell_type": "markdown",
   "id": "e61ab034",
   "metadata": {},
   "source": [
    "# string"
   ]
  },
  {
   "cell_type": "code",
   "execution_count": 9,
   "id": "5bf2c3a0",
   "metadata": {},
   "outputs": [
    {
     "name": "stdout",
     "output_type": "stream",
     "text": [
      "goivnda\n",
      "3 m\n",
      "goimnda\n"
     ]
    }
   ],
   "source": [
    "def mutate_string(string, position, character):\n",
    "    str_list=list(string)\n",
    "    str_list[position]=character\n",
    "    str_list=\"\".join(str_list)\n",
    "    return str_list\n",
    "\n",
    "if __name__ == '__main__':\n",
    "    s = input()\n",
    "    i, c = input().split()\n",
    "    s_new = mutate_string(s, int(i), c)\n",
    "    print(s_new)"
   ]
  },
  {
   "cell_type": "markdown",
   "id": "ccc6e0c5",
   "metadata": {},
   "source": [
    "# count sub string "
   ]
  },
  {
   "cell_type": "code",
   "execution_count": 10,
   "id": "8078312d",
   "metadata": {},
   "outputs": [
    {
     "name": "stdout",
     "output_type": "stream",
     "text": [
      "2\n"
     ]
    }
   ],
   "source": [
    "def count_substring(input_string, substring):\n",
    "  \"\"\"Counts the number of times a substring appears in a string.\n",
    "\n",
    "  Args:\n",
    "      input_string: The string to search.\n",
    "      substring: The substring to count.\n",
    "\n",
    "  Returns:\n",
    "      The number of occurrences of the substring in the input string.\n",
    "  \"\"\"\n",
    "\n",
    "  # Initialize a counter variable\n",
    "  count = 0\n",
    "\n",
    "  # Iterate through the input string with a sliding window of the substring length\n",
    "  for i in range(len(input_string) - len(substring) + 1):\n",
    "    # Check if the current window matches the substring\n",
    "    if input_string[i:i + len(substring)] == substring:\n",
    "      count += 1\n",
    "\n",
    "  return count\n",
    "\n",
    "# Example usage\n",
    "input_string = \"abcdcdc\"\n",
    "substring = \"cdc\"\n",
    "\n",
    "occurrence_count = count_substring(input_string, substring)\n",
    "\n",
    "print(occurrence_count)  # Output: 2\n"
   ]
  },
  {
   "cell_type": "code",
   "execution_count": null,
   "id": "2630626a",
   "metadata": {},
   "outputs": [],
   "source": [
    "def count_substring(input_string, substring):\n",
    "  count = 0\n",
    "  for i in range(len(input_string) - len(substring) + 1):\n",
    "    if input_string[i:i + len(substring)] == substring:\n",
    "      count += 1\n",
    "  return count\n",
    "\n",
    "\n",
    "input_string = \"abcdcdc\"\n",
    "substring = \"cdc\"\n",
    "\n",
    "occurrence_count = count_substring(input_string, substring)\n",
    "\n",
    "print(occurrence_count)  # Output: 2\n"
   ]
  },
  {
   "cell_type": "markdown",
   "id": "36bf23bc",
   "metadata": {},
   "source": [
    "# find vowels"
   ]
  },
  {
   "cell_type": "code",
   "execution_count": 3,
   "id": "98b9b93b",
   "metadata": {},
   "outputs": [
    {
     "ename": "KeyError",
     "evalue": "'OUTPUT_PATH'",
     "output_type": "error",
     "traceback": [
      "\u001b[1;31m---------------------------------------------------------------------------\u001b[0m",
      "\u001b[1;31mKeyError\u001b[0m                                  Traceback (most recent call last)",
      "Cell \u001b[1;32mIn[3], line 17\u001b[0m\n\u001b[0;32m     14\u001b[0m     \u001b[38;5;28;01mpass\u001b[39;00m\n\u001b[0;32m     16\u001b[0m \u001b[38;5;28;01mif\u001b[39;00m \u001b[38;5;18m__name__\u001b[39m \u001b[38;5;241m==\u001b[39m \u001b[38;5;124m'\u001b[39m\u001b[38;5;124m__main__\u001b[39m\u001b[38;5;124m'\u001b[39m:\n\u001b[1;32m---> 17\u001b[0m     fptr \u001b[38;5;241m=\u001b[39m \u001b[38;5;28mopen\u001b[39m(os\u001b[38;5;241m.\u001b[39menviron[\u001b[38;5;124m'\u001b[39m\u001b[38;5;124mOUTPUT_PATH\u001b[39m\u001b[38;5;124m'\u001b[39m], \u001b[38;5;124m'\u001b[39m\u001b[38;5;124mw\u001b[39m\u001b[38;5;124m'\u001b[39m)\n\u001b[0;32m     19\u001b[0m     s \u001b[38;5;241m=\u001b[39m \u001b[38;5;28minput\u001b[39m()\n\u001b[0;32m     21\u001b[0m     k \u001b[38;5;241m=\u001b[39m \u001b[38;5;28mint\u001b[39m(\u001b[38;5;28minput\u001b[39m()\u001b[38;5;241m.\u001b[39mstrip())\n",
      "File \u001b[1;32m<frozen os>:679\u001b[0m, in \u001b[0;36m__getitem__\u001b[1;34m(self, key)\u001b[0m\n",
      "\u001b[1;31mKeyError\u001b[0m: 'OUTPUT_PATH'"
     ]
    }
   ],
   "source": [
    "#\n",
    "# Complete the 'findSubstring' function below.\n",
    "#\n",
    "# The function is expected to return a STRING.\n",
    "# The function accepts following parameters:\n",
    "#  1. STRING s\n",
    "#  2. INTEGER k\n",
    "#\n",
    "import os \n",
    "\n",
    "\n",
    "def findSubstring(s, k):\n",
    "    # Write your code here\n",
    "    pass\n",
    "\n",
    "if __name__ == '__main__':\n",
    "    fptr = open(os.environ['OUTPUT_PATH'], 'w')\n",
    "\n",
    "    s = input()\n",
    "\n",
    "    k = int(input().strip())\n",
    "\n",
    "    result = findSubstring(s, k)\n",
    "\n",
    "    fptr.write(result + '\\n')\n",
    "\n",
    "    fptr.close()\n"
   ]
  },
  {
   "cell_type": "code",
   "execution_count": null,
   "id": "2e8bf8c4",
   "metadata": {},
   "outputs": [],
   "source": [
    "#!/bin/python3\n",
    "\n",
    "import math\n",
    "import os\n",
    "import random\n",
    "import re\n",
    "import sys\n",
    "\n",
    "\n",
    "\n",
    "#\n",
    "# Complete the 'findSubstring' function below.\n",
    "#\n",
    "# The function is expected to return a STRING.\n",
    "# The function accepts following parameters:\n",
    "#  1. STRING s\n",
    "#  2. INTEGER k\n",
    "#\n",
    "\n",
    "def findSubstring(s, k):\n",
    "    # Write your code here\n",
    "    str1=list(s)\n",
    "    #print(str1)\n",
    "    print(len(str1)-k)\n",
    "    for i in range(0,len(str1)-k+1):\n",
    "        count=0\n",
    "        for j in range(i,k+i):\n",
    "            if str1[i] in [\"a\",\"e\",\"i\",\"o\",\"u\"]:\n",
    "                count+=1\n",
    "        #print(count)\n",
    "    return count\n",
    "    \n",
    "\n",
    "if __name__ == '__main__':\n",
    "\n",
    "    #s = input()\n",
    "    s=\"ascichariinm\"\n",
    "\n",
    "    #k = int(input().strip())\n",
    "    k=5\n",
    "\n",
    "    #result = findSubstring(s, k)\n",
    "    findSubstring(s, k)\n",
    "    \n",
    "    #print(result)\n",
    "\n",
    "    "
   ]
  },
  {
   "cell_type": "code",
   "execution_count": null,
   "id": "a1924a3d",
   "metadata": {},
   "outputs": [],
   "source": []
  },
  {
   "cell_type": "code",
   "execution_count": 1,
   "id": "3b76007a",
   "metadata": {},
   "outputs": [
    {
     "name": "stdout",
     "output_type": "stream",
     "text": [
      "lee\n"
     ]
    }
   ],
   "source": [
    "def findSubstring(s, k):\n",
    "    vowels = set('aeiou')\n",
    "    max_vowels = 0\n",
    "    max_substr = \"\"\n",
    "\n",
    "    for i in range(len(s) - k + 1):\n",
    "        substr = s[i:i + k]\n",
    "        vowel_count = sum(1 for char in substr if char in vowels)\n",
    "        if vowel_count > max_vowels:\n",
    "            max_vowels = vowel_count\n",
    "            max_substr = substr\n",
    "\n",
    "    return max_substr if max_substr else \"Not found\"\n",
    "\n",
    "# Example usage:\n",
    "s = \"leetcode\"\n",
    "k = 3\n",
    "print(findSubstring(s, k))  # Output will be \"eetcode\" as it has the maximum vowels among substrings of length 3.\n"
   ]
  },
  {
   "cell_type": "code",
   "execution_count": 3,
   "id": "03d6328d",
   "metadata": {},
   "outputs": [
    {
     "name": "stdout",
     "output_type": "stream",
     "text": [
      "qw\n"
     ]
    }
   ],
   "source": [
    "def findSubstring(s, k):\n",
    "    vowels = set('aeiou')\n",
    "    max_vowels = 0\n",
    "    max_substr = \"\"\n",
    "\n",
    "    vowel_count = sum(1 for char in s[:k] if char in vowels)\n",
    "    max_vowels = vowel_count\n",
    "    max_substr = s[:k]\n",
    "\n",
    "    for i in range(1, len(s) - k + 1):\n",
    "        if s[i - 1] in vowels:\n",
    "            vowel_count -= 1\n",
    "        if s[i + k - 1] in vowels:\n",
    "            vowel_count += 1\n",
    "        if vowel_count > max_vowels:\n",
    "            max_vowels = vowel_count\n",
    "            max_substr = s[i:i + k]\n",
    "\n",
    "    return max_substr if max_substr else \"Not found!\"\n",
    "\n",
    "# Example usage:\n",
    "s = \"qwdftr\"\n",
    "k = 2\n",
    "print(findSubstring(s, k))  # Output will be \"eetcode\" as it has the maximum vowels among substrings of length 3.\n"
   ]
  },
  {
   "cell_type": "code",
   "execution_count": 4,
   "id": "fcf890aa",
   "metadata": {},
   "outputs": [
    {
     "name": "stdout",
     "output_type": "stream",
     "text": [
      "qw\n"
     ]
    }
   ],
   "source": [
    "def findSubstring(s, k):\n",
    "    vowels = set('aeiou')\n",
    "    max_vowels = 0\n",
    "    max_substr = \"\"\n",
    "\n",
    "    vowel_count = sum(1 for char in s[:k] if char in vowels)\n",
    "    max_vowels = vowel_count\n",
    "    max_substr = s[:k]\n",
    "\n",
    "    for i in range(1, len(s) - k + 1):\n",
    "        if s[i - 1] in vowels:\n",
    "            vowel_count -= 1\n",
    "        if s[i + k - 1] in vowels:\n",
    "            vowel_count += 1\n",
    "        if vowel_count > max_vowels:\n",
    "            max_vowels = vowel_count\n",
    "            max_substr = s[i:i + k]\n",
    "\n",
    "    return max_substr if max_substr else \"Not found!\"\n",
    "\n",
    "# Example usage:\n",
    "s = \"qwdftr\"\n",
    "k = 2\n",
    "print(findSubstring(s, k))  # Output will be \"Not found!\"\n"
   ]
  },
  {
   "cell_type": "code",
   "execution_count": 5,
   "id": "c4beb628",
   "metadata": {},
   "outputs": [
    {
     "name": "stdout",
     "output_type": "stream",
     "text": [
      "qw\n"
     ]
    }
   ],
   "source": [
    "def findSubstring(s, k):\n",
    "    vowels = set('aeiou')\n",
    "    max_vowels = 0\n",
    "    max_substr = \"\"\n",
    "\n",
    "    vowel_count = sum(1 for char in s[:k] if char in vowels)\n",
    "    max_vowels = vowel_count\n",
    "    max_substr = s[:k]\n",
    "\n",
    "    for i in range(1, len(s) - k + 1):\n",
    "        if s[i - 1] in vowels:\n",
    "            vowel_count -= 1\n",
    "        if s[i + k - 1] in vowels:\n",
    "            vowel_count += 1\n",
    "        if vowel_count > max_vowels:\n",
    "            max_vowels = vowel_count\n",
    "            max_substr = s[i:i + k]\n",
    "\n",
    "    return max_substr if max_substr else \"Not found\"\n",
    "\n",
    "# Example usage:\n",
    "s = \"qwdftr\"\n",
    "k = 2\n",
    "print(findSubstring(s, k))  # Output will be \"Not found\" if no substring with 2 vowels is found.\n"
   ]
  },
  {
   "cell_type": "code",
   "execution_count": 6,
   "id": "204ec6f1",
   "metadata": {},
   "outputs": [
    {
     "name": "stdout",
     "output_type": "stream",
     "text": [
      "Not found\n"
     ]
    }
   ],
   "source": [
    "def findSubstring(s, k):\n",
    "    vowels = set('aeiou')\n",
    "    max_vowels = 0\n",
    "    max_substr = \"\"\n",
    "\n",
    "    vowel_count = sum(1 for char in s[:k] if char in vowels)\n",
    "    max_vowels = vowel_count\n",
    "    max_substr = s[:k]\n",
    "\n",
    "    for i in range(1, len(s) - k + 1):\n",
    "        if s[i - 1] in vowels:\n",
    "            vowel_count -= 1\n",
    "        if s[i + k - 1] in vowels:\n",
    "            vowel_count += 1\n",
    "        if vowel_count > max_vowels:\n",
    "            max_vowels = vowel_count\n",
    "            max_substr = s[i:i + k]\n",
    "\n",
    "    if max_vowels == 0:  \n",
    "        return \"Not found\"\n",
    "    else:\n",
    "        return max_substr\n",
    "\n",
    "# Example usage:\n",
    "s = \"qwdftr\"\n",
    "k = 2\n",
    "print(findSubstring(s, k))  # Output will be \"Not found\" if no substring with 2 vowels is found.\n"
   ]
  },
  {
   "cell_type": "code",
   "execution_count": 7,
   "id": "1d6775a0",
   "metadata": {},
   "outputs": [
    {
     "name": "stdout",
     "output_type": "stream",
     "text": [
      "81\n"
     ]
    }
   ],
   "source": [
    "def minTime(files, numCores, limit):\n",
    "    total_time = 0\n",
    "\n",
    "    # Iterate through each file\n",
    "    for file_size in files:\n",
    "        # Calculate the time required to process the file\n",
    "        time_per_file = file_size / numCores\n",
    "        total_time += time_per_file\n",
    "\n",
    "        # Apply limit if exceeded\n",
    "        if time_per_file > limit:\n",
    "            total_time += (time_per_file - limit)\n",
    "\n",
    "    return int(total_time)\n",
    "\n",
    "# Example usage:\n",
    "files = [20, 30, 40]  # Sizes of files\n",
    "numCores = 2  # Number of cores available\n",
    "limit = 3  # Limit for each core\n",
    "print(minTime(files, numCores, limit))  # Output: 45\n"
   ]
  },
  {
   "cell_type": "code",
   "execution_count": 10,
   "id": "54fb470d",
   "metadata": {},
   "outputs": [
    {
     "name": "stdout",
     "output_type": "stream",
     "text": [
      "3\n"
     ]
    }
   ],
   "source": [
    "def minTime(files, numCores, limit):\n",
    "    total_time = 0\n",
    "    for file_size in files:\n",
    "        time_per_file = file_size / numCores\n",
    "        total_time += time_per_file\n",
    "\n",
    "        # Apply limit if exceeded\n",
    "        if time_per_file > limit:\n",
    "            total_time += (time_per_file - limit)\n",
    "\n",
    "    return int(total_time)\n",
    "\n",
    "# Example usage:\n",
    "files = [3,3,1,5,1,5]  # Sizes of files\n",
    "numCores = 5  # Number of cores available\n",
    "limit = 5  # Limit for each core\n",
    "print(minTime(files, numCores, limit))  # Output: 45\n"
   ]
  },
  {
   "cell_type": "code",
   "execution_count": 11,
   "id": "483281bd",
   "metadata": {},
   "outputs": [],
   "source": [
    "def minTime(files, numCores, limit):\n",
    "    # Write your code here\n",
    "    total_time = 0\n",
    "    for file_size in files:\n",
    "        time_per_file = file_size / numCores\n",
    "        total_time += time_per_file\n",
    "\n",
    "        # Apply limit if exceeded\n",
    "        if time_per_file > limit:\n",
    "            total_time += (time_per_file - limit)\n",
    "\n",
    "    return int(total_time)"
   ]
  },
  {
   "cell_type": "code",
   "execution_count": 13,
   "id": "6c32e8cf",
   "metadata": {},
   "outputs": [
    {
     "name": "stdout",
     "output_type": "stream",
     "text": [
      "4\n"
     ]
    }
   ],
   "source": [
    "files = [3,5,3,1,5,5]  # Sizes of files\n",
    "numCores = 5  # Number of cores available\n",
    "limit = 5  # Limit for each core\n",
    "print(minTime(files, numCores, limit))  # Output: 45"
   ]
  },
  {
   "cell_type": "code",
   "execution_count": 14,
   "id": "5f576e42",
   "metadata": {},
   "outputs": [
    {
     "name": "stdout",
     "output_type": "stream",
     "text": [
      "4\n"
     ]
    }
   ],
   "source": [
    "def minTime(files, numCores, limit):\n",
    "    files.sort(reverse=True)  # Sort files in descending order to process larger files first\n",
    "    total_time = 0\n",
    "\n",
    "    # Iterate through each file\n",
    "    for file_size in files:\n",
    "        # Calculate the time required to process the file\n",
    "        time_per_file = file_size / numCores\n",
    "        total_time += time_per_file\n",
    "\n",
    "        # Apply limit if exceeded\n",
    "        if time_per_file > limit:\n",
    "            total_time += (time_per_file - limit)\n",
    "\n",
    "    return int(total_time)\n",
    "\n",
    "# Example usage:\n",
    "files = [3, 5, 3, 1, 5, 5]  # Sizes of files\n",
    "numCores = 5  # Number of cores available\n",
    "limit = 5  # Limit for each core\n",
    "print(minTime(files, numCores, limit))  # Output will be 5\n"
   ]
  },
  {
   "cell_type": "code",
   "execution_count": 15,
   "id": "d3b52489",
   "metadata": {},
   "outputs": [
    {
     "name": "stdout",
     "output_type": "stream",
     "text": [
      "5\n"
     ]
    }
   ],
   "source": [
    "def minTime(files, numCores, limit):\n",
    "    files.sort(reverse=True)  \n",
    "    total_time = 0\n",
    "    while files:\n",
    "        for i in range(min(numCores, len(files))):\n",
    "            file_size = files.pop(0)\n",
    "            time_per_file = file_size / (i + 1)  \n",
    "            total_time = max(total_time, time_per_file)  \n",
    "            if time_per_file > limit:\n",
    "                total_time += (time_per_file - limit) * (numCores - (i + 1))  \n",
    "\n",
    "    return int(total_time)\n",
    "\n",
    "# Example usage:\n",
    "files = [3, 5, 3, 1, 5, 5]  # Sizes of files\n",
    "numCores = 5  # Number of cores available\n",
    "limit = 5  # Limit for each core\n",
    "print(minTime(files, numCores, limit))  # Output will be 5\n"
   ]
  },
  {
   "cell_type": "code",
   "execution_count": 16,
   "id": "2f767860",
   "metadata": {},
   "outputs": [
    {
     "name": "stdout",
     "output_type": "stream",
     "text": [
      "14\n"
     ]
    }
   ],
   "source": [
    "def minTime(files, numCores, limit):\n",
    "    if numCores <= 1 or limit <= 0: \n",
    "        return sum(files) \n",
    "\n",
    "    files.sort(reverse=True)\n",
    "\n",
    "    total_time = 0\n",
    "    parallel_processed = 0  \n",
    "\n",
    "    for file_size in files:\n",
    "        if file_size % numCores == 0 and parallel_processed < limit:\n",
    "            total_time += file_size // numCores\n",
    "            parallel_processed += 1\n",
    "        else:\n",
    "            total_time += file_size\n",
    "\n",
    "    return total_time\n",
    "\n",
    "# Example usage:\n",
    "files = [3, 5, 3, 1, 5, 5]  # Sizes of files\n",
    "numCores = 5  # Number of cores available\n",
    "limit = 2  # Maximum number of files that can benefit from parallel processing\n",
    "print(minTime(files, numCores, limit))  # Output will depend on the interpretation of the limit\n"
   ]
  },
  {
   "cell_type": "code",
   "execution_count": 18,
   "id": "318b5af3",
   "metadata": {},
   "outputs": [
    {
     "name": "stdout",
     "output_type": "stream",
     "text": [
      "Enter the trophy size (e.g., 5): 5\n",
      "    H\n",
      "   HHH\n",
      "  HHHHH\n",
      " HHHHHHH\n",
      "HHHHHHHHH\n",
      "  HHHHH          HHHHH\n",
      "  HHHHH          HHHHH\n",
      "  HHHHHHHHHHHHHHHHHHHH\n",
      "  HHHHHHHHHHHHHHHHHHHH\n",
      "  HHHHH\n",
      "    HHHHHHHHHH\n",
      "    HHHHHHHHHH\n",
      "     HHHHH\n"
     ]
    }
   ],
   "source": [
    "def draw_trophy(size):\n",
    "    # Top part of the trophy\n",
    "    for i in range(size):\n",
    "        print(' ' * (size - i - 1) + 'H' * (2 * i + 1))\n",
    "    \n",
    "    # Handles and middle part of the trophy\n",
    "    for i in range(size // 2):\n",
    "        print(' ' * (size // 2) + 'H' * size + ' ' * (size * 2) + 'H' * size)\n",
    "    \n",
    "    # Bottom part of the trophy\n",
    "    for i in range(size // 2):\n",
    "        print(' ' * (size // 2) + 'H' * (size * 4))\n",
    "    \n",
    "    # Base of the trophy\n",
    "    print(' ' * (size // 2) + 'H' * size)\n",
    "    for i in range(size // 2):\n",
    "        print(' ' * (size - 1) + 'H' * (size * 2))\n",
    "    print(' ' * size + 'H' * size)\n",
    "\n",
    "size = int(input(\"Enter the trophy size (e.g., 5): \"))\n",
    "draw_trophy(size)\n"
   ]
  },
  {
   "cell_type": "code",
   "execution_count": 19,
   "id": "80f1555f",
   "metadata": {},
   "outputs": [
    {
     "name": "stdout",
     "output_type": "stream",
     "text": [
      "Enter the trophy size (e.g., 5): 5\n",
      "    H     \n",
      "   HHH    \n",
      "  HHHHH   \n",
      " HHHHHHH  \n",
      "HHHHHHHHH \n",
      "HHHHHHH      HHHHHHH\n",
      "HHHHHHH      HHHHHHH\n",
      "HHHHHHHHHHHHHHHHHHHHHHHHH\n",
      "HHHHHHHHHHHHHHHHHHHHHHHHH\n",
      "HHHHHHHHHHHHHHHHHHHHHHHHH\n",
      "HH                      HH\n",
      "HHHHHHHHHHHHHHHHHHHHHHHHHHH\n"
     ]
    }
   ],
   "source": [
    "def draw_trophy(size):\n",
    "    # Scale factor determines the size of various parts\n",
    "    scale = size // 2\n",
    "\n",
    "    # Top part\n",
    "    for i in range(1, size + 1):\n",
    "        print(('H' * (i * 2 - 1)).center(size * 2))\n",
    "\n",
    "    # Upper middle part (under the cup)\n",
    "    for i in range(scale):\n",
    "        print(('H' * (size + 2) + ' ' * (size * 2 - 4) + 'H' * (size + 2)).center(size * 2))\n",
    "\n",
    "    # Center part\n",
    "    for i in range(1, scale + 1):\n",
    "        print(('H' * (size * 5)).center(size * 2))\n",
    "\n",
    "    # Lower middle part (above the base)\n",
    "    print(('H' * (size * 5)).center(size * 2))\n",
    "\n",
    "    # Base of the trophy\n",
    "    base_height = max(2, scale // 3)\n",
    "    for i in range(base_height):\n",
    "        if i == base_height - 1:\n",
    "            print(('H' * (size * 5 + 2)).center(size * 2))\n",
    "        else:\n",
    "            print(('H' * (size // 2) + ' ' * (size * 4 + 2) + 'H' * (size // 2)).center(size * 2))\n",
    "\n",
    "size = int(input(\"Enter the trophy size (e.g., 5): \"))\n",
    "draw_trophy(size)\n"
   ]
  },
  {
   "cell_type": "code",
   "execution_count": null,
   "id": "b9f2af21",
   "metadata": {},
   "outputs": [],
   "source": [
    "def tropy(n):\n",
    "    for i in range(n):\n",
    "        print(\"H\".rjust(n-i,\" \"))\n",
    "\n",
    "if __name__==\"__main__\":\n",
    "    n=int(input().strip())\n",
    "    tropy(n)"
   ]
  },
  {
   "cell_type": "code",
   "execution_count": 10,
   "id": "14f2fc44",
   "metadata": {},
   "outputs": [
    {
     "name": "stdout",
     "output_type": "stream",
     "text": [
      "0.03629533421163837\n",
      "0.24443187750130502\n"
     ]
    }
   ],
   "source": [
    "# TODO: Edit the function\n",
    "def percentage_growth(num_users, yrs_ago):\n",
    "    growth = (num_users[len(num_users)-2] - num_users[len(num_users)-yrs_ago])/num_users[len(num_users)-2]\n",
    "    return abs(growth)\n",
    "\n",
    "# Do not change: Variable for calculating some test examples\n",
    "num_users_test = [920344, 1043553, 1204334, 1458996, 1503323, 1593432, 1623463, 1843064, 1930992, 2001078]\n",
    "\n",
    "# Do not change: Should return .036\n",
    "print(percentage_growth(num_users_test, 1))\n",
    "\n",
    "# Do not change: Should return 0.66\n",
    "print(percentage_growth(num_users_test, 7))\n",
    "\n"
   ]
  },
  {
   "cell_type": "code",
   "execution_count": 8,
   "id": "8082ad82",
   "metadata": {},
   "outputs": [
    {
     "data": {
      "text/plain": [
       "1930992"
      ]
     },
     "execution_count": 8,
     "metadata": {},
     "output_type": "execute_result"
    }
   ],
   "source": [
    "num_users_test[len(num_users_test)-2]"
   ]
  },
  {
   "cell_type": "code",
   "execution_count": 30,
   "id": "d98d39d3",
   "metadata": {},
   "outputs": [
    {
     "name": "stdout",
     "output_type": "stream",
     "text": [
      "Enter the height of the pyramid: 5\n",
      "    H    \n",
      "   HHH   \n",
      "  HHHHH  \n",
      " HHHHHHH \n",
      "HHHHHHHHH\n",
      "HHHHH   HHHHH   \n",
      "HHHHH   HHHHH   \n",
      "HHHHH   HHHHH   \n",
      "HHHHH   HHHHH   \n",
      "HHHHH   HHHHH   \n",
      "HHHHH   HHHHH   \n",
      "HHHHHHHHHHHHHHHHHHHHHHHHH\n",
      "HHHHHHHHHHHHHHHHHHHHHHHHH\n",
      "HHHHHHHHHHHHHHHHHHHHHHHHH\n",
      "HHHHH   HHHHH   \n",
      "HHHHH   HHHHH   \n",
      "HHHHH   HHHHH   \n",
      "HHHHH   HHHHH   \n",
      "HHHHH   HHHHH   \n",
      "HHHHH   HHHHH   \n",
      "HHHHHHHHH\n",
      " HHHHHHH\n",
      "  HHHHH\n",
      "   HHH\n",
      "    H\n"
     ]
    }
   ],
   "source": [
    "def draw_pyramid(n):\n",
    "    for i in range(1, n + 1):\n",
    "        print(('H' * (2*i - 1)).center(2*n - 1))\n",
    "        \n",
    "    for i in range(0,6):\n",
    "        print((\"H\"*5).ljust(8,\" \"),end=\"\")\n",
    "        print((\"H\"*5).ljust(8,\" \"))\n",
    "        \n",
    "    for i in range(0,3):\n",
    "        print(\"H\"*25)\n",
    "        \n",
    "    for i in range(0,6):\n",
    "        print((\"H\"*5).ljust(8,\" \"),end=\"\")\n",
    "        print((\"H\"*5).ljust(8,\" \"))\n",
    "        \n",
    "    for i in range(n, 0, -1):\n",
    "        print(' ' * (n - i) + 'H' * (2*i - 1))\n",
    "\n",
    "\n",
    "n = int(input(\"Enter the height of the pyramid: \"))\n",
    "draw_pyramid(n)\n"
   ]
  },
  {
   "cell_type": "code",
   "execution_count": 31,
   "id": "7beeb4c6",
   "metadata": {},
   "outputs": [
    {
     "name": "stdout",
     "output_type": "stream",
     "text": [
      "Enter the string containing letters from 'a' to 'z': abcdefghijklmnopqrstuvwxyz\n"
     ]
    },
    {
     "ename": "IndexError",
     "evalue": "list index out of range",
     "output_type": "error",
     "traceback": [
      "\u001b[1;31m---------------------------------------------------------------------------\u001b[0m",
      "\u001b[1;31mIndexError\u001b[0m                                Traceback (most recent call last)",
      "Cell \u001b[1;32mIn[31], line 26\u001b[0m\n\u001b[0;32m     23\u001b[0m     print_grid(grid)\n\u001b[0;32m     25\u001b[0m \u001b[38;5;28;01mif\u001b[39;00m \u001b[38;5;18m__name__\u001b[39m \u001b[38;5;241m==\u001b[39m \u001b[38;5;124m\"\u001b[39m\u001b[38;5;124m__main__\u001b[39m\u001b[38;5;124m\"\u001b[39m:\n\u001b[1;32m---> 26\u001b[0m     main()\n",
      "Cell \u001b[1;32mIn[31], line 21\u001b[0m, in \u001b[0;36mmain\u001b[1;34m()\u001b[0m\n\u001b[0;32m     19\u001b[0m input_string \u001b[38;5;241m=\u001b[39m \u001b[38;5;28minput\u001b[39m(\u001b[38;5;124m\"\u001b[39m\u001b[38;5;124mEnter the string containing letters from \u001b[39m\u001b[38;5;124m'\u001b[39m\u001b[38;5;124ma\u001b[39m\u001b[38;5;124m'\u001b[39m\u001b[38;5;124m to \u001b[39m\u001b[38;5;124m'\u001b[39m\u001b[38;5;124mz\u001b[39m\u001b[38;5;124m'\u001b[39m\u001b[38;5;124m: \u001b[39m\u001b[38;5;124m\"\u001b[39m)\u001b[38;5;241m.\u001b[39mlower()\n\u001b[0;32m     20\u001b[0m input_string \u001b[38;5;241m=\u001b[39m \u001b[38;5;124m'\u001b[39m\u001b[38;5;124m'\u001b[39m\u001b[38;5;241m.\u001b[39mjoin(\u001b[38;5;28msorted\u001b[39m(input_string))  \u001b[38;5;66;03m# Sort the input string alphabetically\u001b[39;00m\n\u001b[1;32m---> 21\u001b[0m grid \u001b[38;5;241m=\u001b[39m create_grid(input_string)\n\u001b[0;32m     22\u001b[0m \u001b[38;5;28mprint\u001b[39m(\u001b[38;5;124m\"\u001b[39m\u001b[38;5;130;01m\\n\u001b[39;00m\u001b[38;5;124mGrid:\u001b[39m\u001b[38;5;124m\"\u001b[39m)\n\u001b[0;32m     23\u001b[0m print_grid(grid)\n",
      "Cell \u001b[1;32mIn[31], line 10\u001b[0m, in \u001b[0;36mcreate_grid\u001b[1;34m(input_string)\u001b[0m\n\u001b[0;32m      8\u001b[0m     row \u001b[38;5;241m=\u001b[39m i \u001b[38;5;241m/\u001b[39m\u001b[38;5;241m/\u001b[39m \u001b[38;5;241m4\u001b[39m\n\u001b[0;32m      9\u001b[0m     col \u001b[38;5;241m=\u001b[39m i \u001b[38;5;241m%\u001b[39m \u001b[38;5;241m4\u001b[39m\n\u001b[1;32m---> 10\u001b[0m     grid[row][col] \u001b[38;5;241m=\u001b[39m char\n\u001b[0;32m     12\u001b[0m \u001b[38;5;28;01mreturn\u001b[39;00m grid\n",
      "\u001b[1;31mIndexError\u001b[0m: list index out of range"
     ]
    }
   ],
   "source": [
    "import string\n",
    "\n",
    "def create_grid(input_string):\n",
    "    alphabet = string.ascii_lowercase\n",
    "    grid = [['_' for _ in range(4)] for _ in range(6)]\n",
    "    \n",
    "    for i, char in enumerate(input_string):\n",
    "        row = i // 4\n",
    "        col = i % 4\n",
    "        grid[row][col] = char\n",
    "    \n",
    "    return grid\n",
    "\n",
    "def print_grid(grid):\n",
    "    for row in grid:\n",
    "        print(' '.join(row))\n",
    "\n",
    "def main():\n",
    "    input_string = input(\"Enter the string containing letters from 'a' to 'z': \").lower()\n",
    "    input_string = ''.join(sorted(input_string))  # Sort the input string alphabetically\n",
    "    grid = create_grid(input_string)\n",
    "    print(\"\\nGrid:\")\n",
    "    print_grid(grid)\n",
    "\n",
    "if __name__ == \"__main__\":\n",
    "    main()\n"
   ]
  },
  {
   "cell_type": "code",
   "execution_count": null,
   "id": "a2340a5a",
   "metadata": {},
   "outputs": [],
   "source": []
  }
 ],
 "metadata": {
  "kernelspec": {
   "display_name": "Python 3 (ipykernel)",
   "language": "python",
   "name": "python3"
  },
  "language_info": {
   "codemirror_mode": {
    "name": "ipython",
    "version": 3
   },
   "file_extension": ".py",
   "mimetype": "text/x-python",
   "name": "python",
   "nbconvert_exporter": "python",
   "pygments_lexer": "ipython3",
   "version": "3.11.5"
  }
 },
 "nbformat": 4,
 "nbformat_minor": 5
}
