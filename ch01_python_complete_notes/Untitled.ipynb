{
 "cells": [
  {
   "cell_type": "markdown",
   "id": "ca573046",
   "metadata": {},
   "source": [
    "# functions notes"
   ]
  },
  {
   "cell_type": "code",
   "execution_count": null,
   "id": "19c8c2c1",
   "metadata": {},
   "outputs": [],
   "source": [
    "introduction =\"\"\"\n",
    "functions are blocks of code that carry out a specific task and can be reused throughout your program.\n",
    "They are defined using the def keyword followed by the function name and parentheses containing any \n",
    "parameters the function accepts\n",
    "\n",
    "functions help to break our program into smaller and modular chunks \n",
    "\n",
    "it avoids repetition and make code reusable \n",
    "\n",
    "\n",
    "functions can divide into two types \n",
    "1. predefined or built in functions \n",
    "2. user defined functions \n",
    "\n",
    "always starts with def in python ex:\n",
    "\n",
    "def function_name(parameters or arguments ): #parameters are optional\n",
    "    \"\"\" doc string \"\"\"\n",
    "    statement(s)\n",
    "    return arg #return also optinal \n",
    "\n",
    "1. user defined functions: \n",
    "     which is already explain to python interpretor to do some specific task\n",
    "ex: print(),input(),max(),min()\n",
    "\n",
    "2. user defined functions:\n",
    "    fucntions defined by the users/developers themselves. let us discuss one by one in this chapter\n",
    "\n",
    "\"\"\""
   ]
  },
  {
   "cell_type": "code",
   "execution_count": 1,
   "id": "d4a6cf30",
   "metadata": {},
   "outputs": [
    {
     "name": "stdout",
     "output_type": "stream",
     "text": [
      "welcome to python programming world...\n",
      "have fun with python functions \n"
     ]
    }
   ],
   "source": [
    "#example of a function\n",
    "#note: funcntion cannot activate untill u call from outside the function \n",
    "\n",
    "#function definitions\n",
    "def welcome():\n",
    "    print(\"welcome to python programming world...\")\n",
    "    print(\"have fun with python functions... \")\n",
    "\n",
    "#calling fuctions \n",
    "welcome()"
   ]
  },
  {
   "cell_type": "code",
   "execution_count": 3,
   "id": "749ae6c9",
   "metadata": {},
   "outputs": [
    {
     "name": "stdout",
     "output_type": "stream",
     "text": [
      "hi,govind\n",
      "welcome to python programming world... \n",
      "have fun with python functions... \n"
     ]
    }
   ],
   "source": [
    "#function definitions\n",
    "def welcome(name):\n",
    "    print(\"hi,\"+name)\n",
    "    print(\"welcome to python programming world... \")\n",
    "    print(\"have fun with python functions... \")\n",
    "\n",
    "#calling fuctions \n",
    "welcome(\"govind\")"
   ]
  },
  {
   "cell_type": "markdown",
   "id": "57c0f39e",
   "metadata": {},
   "source": [
    "## variable scopes "
   ]
  },
  {
   "cell_type": "code",
   "execution_count": 10,
   "id": "12a4fd5d",
   "metadata": {},
   "outputs": [
    {
     "name": "stdout",
     "output_type": "stream",
     "text": [
      "the x value inside function =  25\n",
      "the y value inside function =  100\n",
      "the x value inside function =  25\n",
      "the y value inside function =  22\n"
     ]
    }
   ],
   "source": [
    "\n",
    "x=25\n",
    "y=22\n",
    "\n",
    "def my_func():\n",
    "    y=100\n",
    "    print(\"the x value inside function = \",x)\n",
    "    print(\"the y value inside function = \",y) #local variable\n",
    "\n",
    "#calling function \n",
    "my_func()\n",
    "#outside of function\n",
    "print(\"the x value inside function = \",x)\n",
    "print(\"the y value inside function = \",y) #global variable"
   ]
  },
  {
   "cell_type": "markdown",
   "id": "87278192",
   "metadata": {},
   "source": [
    "## functions types "
   ]
  },
  {
   "cell_type": "code",
   "execution_count": 5,
   "id": "fe8ca553",
   "metadata": {},
   "outputs": [
    {
     "name": "stdout",
     "output_type": "stream",
     "text": [
      "enter the a value = 25\n",
      "enter the b value = 25\n",
      "the addition value =  50\n"
     ]
    }
   ],
   "source": [
    "#1 no return with no arguments \n",
    "\n",
    "#addition function\n",
    "\n",
    "def addition():\n",
    "    a=int(input(\"enter the a value = \"))\n",
    "    b=int(input(\"enter the b value = \"))\n",
    "    c=a+b\n",
    "    print(\"the addition value = \",c)\n",
    "\n",
    "#callling the function \n",
    "addition()"
   ]
  },
  {
   "cell_type": "code",
   "execution_count": 6,
   "id": "627cd8af",
   "metadata": {},
   "outputs": [
    {
     "name": "stdout",
     "output_type": "stream",
     "text": [
      "enter the a value = 56\n",
      "enter the b value = 22\n",
      "the subtraction value =  34\n"
     ]
    }
   ],
   "source": [
    "#2 no return with arguments \n",
    "\n",
    "#subtraction function\n",
    "\n",
    "def subtraction(num1,num2):\n",
    "    c=num1-num2\n",
    "    print(\"the subtraction value = \",c)\n",
    "\n",
    "#getting values from the user\n",
    "a=int(input(\"enter the a value = \"))\n",
    "b=int(input(\"enter the b value = \"))\n",
    "    \n",
    "#callling the function \n",
    "subtraction(a,b)"
   ]
  },
  {
   "cell_type": "code",
   "execution_count": 7,
   "id": "2a87ccc5",
   "metadata": {},
   "outputs": [
    {
     "name": "stdout",
     "output_type": "stream",
     "text": [
      "enter the a value = 5\n",
      "enter the b value = 3\n",
      "the multiplication value =  15\n"
     ]
    }
   ],
   "source": [
    "#3 return with no arguments \n",
    "\n",
    "#multiplication function\n",
    "\n",
    "def multiplication():\n",
    "    #getting values from the user\n",
    "    a=int(input(\"enter the a value = \"))\n",
    "    b=int(input(\"enter the b value = \"))\n",
    "    c=a*b\n",
    "    return c\n",
    "\n",
    "\n",
    "    \n",
    "#callling the function \n",
    "mul=multiplication()\n",
    "print(\"the multiplication value = \",mul)"
   ]
  },
  {
   "cell_type": "code",
   "execution_count": 8,
   "id": "38c45819",
   "metadata": {},
   "outputs": [
    {
     "name": "stdout",
     "output_type": "stream",
     "text": [
      "enter the a value = 53\n",
      "enter the b value = 5\n",
      "the multiplication value =  10\n",
      "\n",
      "    this function gets two arguments as input and return floor division value\n",
      "    \n"
     ]
    }
   ],
   "source": [
    "#4 return with arguments \n",
    "\n",
    "#floor division funcntion\n",
    "\n",
    "def floor_division(a,b):\n",
    "    \"\"\"\n",
    "    this function gets two arguments as input and return floor division value\n",
    "    \"\"\"\n",
    "    c=a//b\n",
    "    return c\n",
    "\n",
    "#getting values from the user\n",
    "a=int(input(\"enter the a value = \"))\n",
    "b=int(input(\"enter the b value = \")) \n",
    "\n",
    "#callling addition function \n",
    "mul=floor_division(a,b)\n",
    "print(\"the multiplication value = \",mul)\n",
    "\n",
    "#toget function info \n",
    "print(floor_division.__doc__)"
   ]
  },
  {
   "cell_type": "code",
   "execution_count": null,
   "id": "394cb793",
   "metadata": {},
   "outputs": [],
   "source": []
  }
 ],
 "metadata": {
  "kernelspec": {
   "display_name": "Python 3 (ipykernel)",
   "language": "python",
   "name": "python3"
  },
  "language_info": {
   "codemirror_mode": {
    "name": "ipython",
    "version": 3
   },
   "file_extension": ".py",
   "mimetype": "text/x-python",
   "name": "python",
   "nbconvert_exporter": "python",
   "pygments_lexer": "ipython3",
   "version": "3.11.5"
  }
 },
 "nbformat": 4,
 "nbformat_minor": 5
}
