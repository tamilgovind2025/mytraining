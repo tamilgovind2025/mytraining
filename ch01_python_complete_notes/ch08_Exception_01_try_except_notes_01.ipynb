{
 "cells": [
  {
   "cell_type": "code",
   "execution_count": null,
   "id": "cbf03a2e",
   "metadata": {},
   "outputs": [],
   "source": [
    "\"\"\"\n",
    "try \n",
    "except \n",
    "else \n",
    "finally \n",
    "raise \n",
    "assert\n",
    "\n",
    "\n",
    "\"\"\""
   ]
  },
  {
   "cell_type": "markdown",
   "id": "bf713be8",
   "metadata": {},
   "source": [
    "# raise error "
   ]
  },
  {
   "cell_type": "raw",
   "id": "d10559a6",
   "metadata": {},
   "source": [
    "#raise error handling in python \n",
    "In Python, you can raise exceptions to indicate that an error or exceptional condition has occurred in your code. You can raise built-in exceptions or create your own custom exceptions. Here's how you can raise exceptions in Python:\n",
    "\n",
    "1. Raising Built-in Exceptions: You can raise built-in exceptions like ValueError, TypeError, RuntimeError, etc. by using      the raise keyword followed by the exception type and an optional error message."
   ]
  },
  {
   "cell_type": "code",
   "execution_count": 1,
   "id": "5921aa31",
   "metadata": {},
   "outputs": [
    {
     "ename": "ValueError",
     "evalue": "x should be a positive integer",
     "output_type": "error",
     "traceback": [
      "\u001b[1;31m---------------------------------------------------------------------------\u001b[0m",
      "\u001b[1;31mValueError\u001b[0m                                Traceback (most recent call last)",
      "Cell \u001b[1;32mIn[1], line 4\u001b[0m\n\u001b[0;32m      2\u001b[0m x \u001b[38;5;241m=\u001b[39m \u001b[38;5;241m-\u001b[39m\u001b[38;5;241m1\u001b[39m\n\u001b[0;32m      3\u001b[0m \u001b[38;5;28;01mif\u001b[39;00m x \u001b[38;5;241m<\u001b[39m \u001b[38;5;241m0\u001b[39m:\n\u001b[1;32m----> 4\u001b[0m     \u001b[38;5;28;01mraise\u001b[39;00m \u001b[38;5;167;01mValueError\u001b[39;00m(\u001b[38;5;124m\"\u001b[39m\u001b[38;5;124mx should be a positive integer\u001b[39m\u001b[38;5;124m\"\u001b[39m)\n",
      "\u001b[1;31mValueError\u001b[0m: x should be a positive integer"
     ]
    }
   ],
   "source": [
    "# Example of raising a ValueError\n",
    "x = -1\n",
    "if x < 0:\n",
    "    raise ValueError(\"x should be a positive integer\")"
   ]
  },
  {
   "cell_type": "raw",
   "id": "7d489df2",
   "metadata": {},
   "source": [
    "2. Raising Custom Exceptions: You can create your own custom exceptions by subclassing the Exception class or one of its      subclasses. Here's an example:"
   ]
  },
  {
   "cell_type": "code",
   "execution_count": 3,
   "id": "66953772",
   "metadata": {},
   "outputs": [
    {
     "name": "stdout",
     "output_type": "stream",
     "text": [
      "Value should be non-negative\n"
     ]
    }
   ],
   "source": [
    "# Example of raising a custom exception\n",
    "class MyCustomError(Exception):\n",
    "    pass\n",
    "\n",
    "def my_function(value):\n",
    "    if value < 0:\n",
    "        raise MyCustomError(\"Value should be non-negative\")\n",
    "\n",
    "try:\n",
    "    my_function(-1)\n",
    "except MyCustomError as e:\n",
    "    print(e)"
   ]
  },
  {
   "cell_type": "markdown",
   "id": "20b2cb02",
   "metadata": {},
   "source": [
    "# assert  error "
   ]
  },
  {
   "cell_type": "raw",
   "id": "ced49a5a",
   "metadata": {},
   "source": [
    "In Python, the assert statement is used for debugging purposes to check if a condition is true. If the condition is false, an AssertionError exception is raised. The assert statement has the following syntax:"
   ]
  },
  {
   "cell_type": "raw",
   "id": "18122134",
   "metadata": {},
   "source": [
    "\n",
    "assert condition,message\n",
    "\n",
    "Where:\n",
    "condition is the expression to be checked. If it evaluates to False, an AssertionError is raised.\n",
    "\n",
    "message is an optional argument that can be used to provide a custom error message when the assertion fails."
   ]
  },
  {
   "cell_type": "code",
   "execution_count": 4,
   "id": "884e7db5",
   "metadata": {},
   "outputs": [],
   "source": [
    "x = 5\n",
    "assert x == 5, \"x should be equal to 5\""
   ]
  },
  {
   "cell_type": "code",
   "execution_count": 6,
   "id": "db5dba2d",
   "metadata": {},
   "outputs": [
    {
     "ename": "AssertionError",
     "evalue": "x should be equal to 5 ok",
     "output_type": "error",
     "traceback": [
      "\u001b[1;31m---------------------------------------------------------------------------\u001b[0m",
      "\u001b[1;31mAssertionError\u001b[0m                            Traceback (most recent call last)",
      "Cell \u001b[1;32mIn[6], line 2\u001b[0m\n\u001b[0;32m      1\u001b[0m x \u001b[38;5;241m=\u001b[39m \u001b[38;5;241m3\u001b[39m\n\u001b[1;32m----> 2\u001b[0m \u001b[38;5;28;01massert\u001b[39;00m x \u001b[38;5;241m==\u001b[39m \u001b[38;5;241m5\u001b[39m, \u001b[38;5;124m\"\u001b[39m\u001b[38;5;124mx should be equal to 5 ok\u001b[39m\u001b[38;5;124m\"\u001b[39m\n",
      "\u001b[1;31mAssertionError\u001b[0m: x should be equal to 5 ok"
     ]
    }
   ],
   "source": [
    "x = 3\n",
    "assert x == 5, \"x should be equal to 5 ok\""
   ]
  },
  {
   "cell_type": "markdown",
   "id": "5e5b51a7",
   "metadata": {},
   "source": [
    "# writing exception classes \n"
   ]
  },
  {
   "cell_type": "code",
   "execution_count": 7,
   "id": "159b2108",
   "metadata": {},
   "outputs": [
    {
     "name": "stdout",
     "output_type": "stream",
     "text": [
      "Caught an exception: Value should be non-negative\n"
     ]
    }
   ],
   "source": [
    "class MyCustomError(Exception): # inheritance of Exception class \n",
    "    def __init__(self, message=\"An error occurred\"):  #custom error creating \n",
    "        self.message = message   # assing \n",
    "        super().__init__(self.message)  #sending to the base class \n",
    "\n",
    "def my_function(value):\n",
    "    if value < 0:\n",
    "        raise MyCustomError(\"Value should be non-negative\")\n",
    "        \n",
    "try:\n",
    "    my_function(-1)\n",
    "except MyCustomError as e:\n",
    "    print(\"Caught an exception:\", e)"
   ]
  },
  {
   "cell_type": "code",
   "execution_count": null,
   "id": "503c47bc",
   "metadata": {},
   "outputs": [],
   "source": []
  }
 ],
 "metadata": {
  "kernelspec": {
   "display_name": "Python 3 (ipykernel)",
   "language": "python",
   "name": "python3"
  },
  "language_info": {
   "codemirror_mode": {
    "name": "ipython",
    "version": 3
   },
   "file_extension": ".py",
   "mimetype": "text/x-python",
   "name": "python",
   "nbconvert_exporter": "python",
   "pygments_lexer": "ipython3",
   "version": "3.11.5"
  }
 },
 "nbformat": 4,
 "nbformat_minor": 5
}
