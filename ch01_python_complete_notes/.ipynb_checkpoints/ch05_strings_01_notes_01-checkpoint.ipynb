{
 "cells": [
  {
   "cell_type": "code",
   "execution_count": 10,
   "id": "ec16f47b",
   "metadata": {},
   "outputs": [],
   "source": [
    "strings =\"\"\"\n",
    "strings are sequences of characters. or group of characters\n",
    "enclosed within either single quotes (' '), double quotes (\" \"), or triple quotes (''' ''' or \"\"\" \"\"\"). \n",
    "\n",
    "strings are immutable (values cannot change)\n",
    "\"\"\""
   ]
  },
  {
   "cell_type": "code",
   "execution_count": 1,
   "id": "1a9805b3",
   "metadata": {},
   "outputs": [
    {
     "data": {
      "text/plain": [
       "'welcome to python'"
      ]
     },
     "execution_count": 1,
     "metadata": {},
     "output_type": "execute_result"
    }
   ],
   "source": [
    "my_string = 'welcome to python'\n",
    "my_string"
   ]
  },
  {
   "cell_type": "code",
   "execution_count": 2,
   "id": "d59c1464",
   "metadata": {},
   "outputs": [
    {
     "name": "stdout",
     "output_type": "stream",
     "text": [
      "\n",
      "welcome to python \n",
      "it is most powerful language \n",
      "it is very easy to learn \n",
      "\n"
     ]
    }
   ],
   "source": [
    "#multi line string \n",
    "str1=\"\"\"\n",
    "welcome to python \n",
    "it is most powerful language \n",
    "it is very easy to learn \n",
    "\"\"\"\n",
    "print(str1)"
   ]
  },
  {
   "cell_type": "code",
   "execution_count": 4,
   "id": "689d38f3",
   "metadata": {},
   "outputs": [
    {
     "name": "stdout",
     "output_type": "stream",
     "text": [
      "w\n",
      "e\n",
      "e\n"
     ]
    }
   ],
   "source": [
    "# string indexing \n",
    "\"\"\"\n",
    "postivie index start from zero and ends with n-1\n",
    "nengative index start from -1 \n",
    "\n",
    "Ex:\n",
    "  W  e  l  c  o  m  e \n",
    "  0  1  2  3  4  5  6  #postive index \n",
    " -7 -6 -5 -4 -3 -2 -1  #negative index \n",
    "\n",
    "\"\"\"\n",
    "my_string = \"welcome\"\n",
    "print(my_string[0])     # Output: w\n",
    "print(my_string[6])     # Output: e\n",
    "print(my_string[-1])    # Output: e"
   ]
  },
  {
   "cell_type": "code",
   "execution_count": 9,
   "id": "f3814c1d",
   "metadata": {},
   "outputs": [
    {
     "name": "stdout",
     "output_type": "stream",
     "text": [
      "welco\n",
      " to python\n",
      "welco\n",
      "wloet yhn\n",
      "the reverse string is\n",
      "nohtyp ot emoclew\n"
     ]
    }
   ],
   "source": [
    "#string slicing [start:end:step] \n",
    "#end not included (n-1)\n",
    "\n",
    "my_string = \"welcome to python\"\n",
    "print(my_string[0:5])   \n",
    "print(my_string[7:])    \n",
    "print(my_string[:5])   \n",
    "print(my_string[::2])\n",
    "#to reverse a string \n",
    "print(\"the reverse string is\")\n",
    "print(my_string[::-1])"
   ]
  },
  {
   "cell_type": "code",
   "execution_count": 16,
   "id": "6e2df398",
   "metadata": {},
   "outputs": [
    {
     "name": "stdout",
     "output_type": "stream",
     "text": [
      "ytho\n",
      "welcome to p\n",
      "e to python\n",
      "et y\n"
     ]
    }
   ],
   "source": [
    "#negative slicing \n",
    "print(my_string[-5:-1])\n",
    "print(my_string[:-5])\n",
    "print(my_string[-11:])\n",
    "print(my_string[-11:-3:2])"
   ]
  },
  {
   "cell_type": "code",
   "execution_count": 18,
   "id": "f1f009b0",
   "metadata": {},
   "outputs": [
    {
     "ename": "TypeError",
     "evalue": "'str' object does not support item assignment",
     "output_type": "error",
     "traceback": [
      "\u001b[1;31m---------------------------------------------------------------------------\u001b[0m",
      "\u001b[1;31mTypeError\u001b[0m                                 Traceback (most recent call last)",
      "Cell \u001b[1;32mIn[18], line 3\u001b[0m\n\u001b[0;32m      1\u001b[0m \u001b[38;5;66;03m#strings are immutable (cannot change)\u001b[39;00m\n\u001b[0;32m      2\u001b[0m my_string\n\u001b[1;32m----> 3\u001b[0m my_string[\u001b[38;5;241m0\u001b[39m]\u001b[38;5;241m=\u001b[39m\u001b[38;5;124m\"\u001b[39m\u001b[38;5;124mh\u001b[39m\u001b[38;5;124m\"\u001b[39m \u001b[38;5;66;03m#cannot assign\u001b[39;00m\n\u001b[0;32m      4\u001b[0m my_string\n",
      "\u001b[1;31mTypeError\u001b[0m: 'str' object does not support item assignment"
     ]
    }
   ],
   "source": [
    "#strings are immutable (cannot change)\n",
    "my_string\n",
    "my_string[0]=\"h\" #cannot assign\n",
    "my_string"
   ]
  },
  {
   "cell_type": "code",
   "execution_count": 19,
   "id": "b7e85674",
   "metadata": {},
   "outputs": [
    {
     "ename": "TypeError",
     "evalue": "'str' object doesn't support item deletion",
     "output_type": "error",
     "traceback": [
      "\u001b[1;31m---------------------------------------------------------------------------\u001b[0m",
      "\u001b[1;31mTypeError\u001b[0m                                 Traceback (most recent call last)",
      "Cell \u001b[1;32mIn[19], line 4\u001b[0m\n\u001b[0;32m      1\u001b[0m \u001b[38;5;66;03m#del particular element \u001b[39;00m\n\u001b[0;32m      3\u001b[0m str1\u001b[38;5;241m=\u001b[39m\u001b[38;5;124m\"\u001b[39m\u001b[38;5;124mhi python \u001b[39m\u001b[38;5;124m\"\u001b[39m\n\u001b[1;32m----> 4\u001b[0m \u001b[38;5;28;01mdel\u001b[39;00m str1[\u001b[38;5;241m0\u001b[39m]\n\u001b[0;32m      5\u001b[0m \u001b[38;5;28mprint\u001b[39m(str1)\n",
      "\u001b[1;31mTypeError\u001b[0m: 'str' object doesn't support item deletion"
     ]
    }
   ],
   "source": [
    "#del particular element, immutable cant change and delete\n",
    "\n",
    "str1=\"hi python \"\n",
    "del str1[0]\n",
    "print(str1)"
   ]
  },
  {
   "cell_type": "code",
   "execution_count": 20,
   "id": "1cc3ba57",
   "metadata": {},
   "outputs": [],
   "source": [
    "del str1"
   ]
  },
  {
   "cell_type": "code",
   "execution_count": 21,
   "id": "2124bdd9",
   "metadata": {},
   "outputs": [
    {
     "ename": "NameError",
     "evalue": "name 'str1' is not defined",
     "output_type": "error",
     "traceback": [
      "\u001b[1;31m---------------------------------------------------------------------------\u001b[0m",
      "\u001b[1;31mNameError\u001b[0m                                 Traceback (most recent call last)",
      "Cell \u001b[1;32mIn[21], line 1\u001b[0m\n\u001b[1;32m----> 1\u001b[0m \u001b[38;5;28mprint\u001b[39m(str1)\n",
      "\u001b[1;31mNameError\u001b[0m: name 'str1' is not defined"
     ]
    }
   ],
   "source": [
    "print(str1)"
   ]
  },
  {
   "cell_type": "markdown",
   "id": "678f2afc",
   "metadata": {},
   "source": [
    "## string operations"
   ]
  },
  {
   "cell_type": "code",
   "execution_count": 22,
   "id": "4e218afe",
   "metadata": {},
   "outputs": [
    {
     "name": "stdout",
     "output_type": "stream",
     "text": [
      "welcome python\n"
     ]
    }
   ],
   "source": [
    "# string addition \n",
    "str1=\"welcome \"\n",
    "str2=\"python\"\n",
    "\n",
    "total=str1+str2\n",
    "print(total)"
   ]
  },
  {
   "cell_type": "code",
   "execution_count": 25,
   "id": "262bee7a",
   "metadata": {},
   "outputs": [
    {
     "name": "stdout",
     "output_type": "stream",
     "text": [
      "welcome welcome welcome welcome welcome \n"
     ]
    },
    {
     "ename": "TypeError",
     "evalue": "unsupported operand type(s) for -: 'str' and 'str'",
     "output_type": "error",
     "traceback": [
      "\u001b[1;31m---------------------------------------------------------------------------\u001b[0m",
      "\u001b[1;31mTypeError\u001b[0m                                 Traceback (most recent call last)",
      "Cell \u001b[1;32mIn[25], line 9\u001b[0m\n\u001b[0;32m      5\u001b[0m \u001b[38;5;28mprint\u001b[39m(str3)\n\u001b[0;32m      7\u001b[0m \u001b[38;5;66;03m#string division \u001b[39;00m\n\u001b[0;32m      8\u001b[0m \u001b[38;5;66;03m#str4=str1/str2\u001b[39;00m\n\u001b[1;32m----> 9\u001b[0m str4\u001b[38;5;241m=\u001b[39mstr1\u001b[38;5;241m-\u001b[39mstr2\n",
      "\u001b[1;31mTypeError\u001b[0m: unsupported operand type(s) for -: 'str' and 'str'"
     ]
    }
   ],
   "source": [
    "#string multiply  and cannot divide subtract module expo\n",
    "\n",
    "#string multiply \n",
    "str3=str1*5\n",
    "print(str3)\n",
    "\n",
    "#string division \n",
    "#str4=str1/str2\n",
    "str4=str1-str2\n"
   ]
  },
  {
   "cell_type": "code",
   "execution_count": 32,
   "id": "b3dd7d66",
   "metadata": {},
   "outputs": [
    {
     "name": "stdout",
     "output_type": "stream",
     "text": [
      "python world\n",
      "python world\n",
      "<class 'str'>\n",
      "('python ', 'world')\n",
      "<class 'tuple'>\n"
     ]
    }
   ],
   "source": [
    "#two string literars together \n",
    "\n",
    "str1='python ' 'world'\n",
    "\n",
    "str2=(\"python \" \"world\") #donot put comma in middle. if put it will convert to tuple\n",
    "print(str1)\n",
    "print(str2)\n",
    "print(type(str2))\n",
    "\n",
    "str2=(\"python \", \"world\")\n",
    "print(str2)\n",
    "print(type(str2))"
   ]
  },
  {
   "cell_type": "markdown",
   "id": "de37c26b",
   "metadata": {},
   "source": [
    "# iterating "
   ]
  },
  {
   "cell_type": "code",
   "execution_count": 33,
   "id": "37b906e7",
   "metadata": {},
   "outputs": [
    {
     "name": "stdout",
     "output_type": "stream",
     "text": [
      "the length of the string =  10\n"
     ]
    }
   ],
   "source": [
    "#iterating \n",
    "\n",
    "str1=\"hi welcome\"\n",
    "\n",
    "count=0\n",
    "\n",
    "for i in str1:\n",
    "    count+=1\n",
    "print(\"the length of the string = \",count)"
   ]
  },
  {
   "cell_type": "code",
   "execution_count": 38,
   "id": "57b9d4f7",
   "metadata": {},
   "outputs": [
    {
     "name": "stdout",
     "output_type": "stream",
     "text": [
      "enter the string = hi welcome to python program i love to program\n",
      "enter the char to count in string =o\n",
      "the char count =  7\n"
     ]
    }
   ],
   "source": [
    "#write a python program how many times particular charcter present get sting and char from user \n",
    "\n",
    "str1=input(\"enter the string = \")\n",
    "char=input(\"enter the char to count in string =\")\n",
    "\n",
    "count=0\n",
    "\n",
    "for i in str1:\n",
    "    if char==i:\n",
    "        count+=1\n",
    "\n",
    "print(\"the char count = \",count)\n"
   ]
  },
  {
   "cell_type": "code",
   "execution_count": 36,
   "id": "09e16366",
   "metadata": {},
   "outputs": [
    {
     "name": "stdout",
     "output_type": "stream",
     "text": [
      "True\n",
      "False\n",
      "False\n",
      "True\n"
     ]
    }
   ],
   "source": [
    "#string membership\n",
    "\n",
    "print(\"hi\" in str1)\n",
    "print(\"govind\" in str1)\n",
    "print(\"hi\" not in str1)\n",
    "print(\"govind\" not in str1)"
   ]
  },
  {
   "cell_type": "markdown",
   "id": "ab36a8ea",
   "metadata": {},
   "source": [
    "## built in function or predefined function "
   ]
  },
  {
   "cell_type": "code",
   "execution_count": null,
   "id": "42250322",
   "metadata": {},
   "outputs": [],
   "source": []
  },
  {
   "cell_type": "code",
   "execution_count": 39,
   "id": "06137ddc",
   "metadata": {},
   "outputs": [
    {
     "name": "stdout",
     "output_type": "stream",
     "text": [
      "875\n",
      "<class 'int'>\n",
      "875\n",
      "<class 'str'>\n"
     ]
    }
   ],
   "source": [
    "#1 str() function converts any data type to str data type \n",
    "\n",
    "a=875\n",
    "print(a)\n",
    "print(type(a))\n",
    "\n",
    "a=str(a)\n",
    "print(a)\n",
    "print(type(a))"
   ]
  },
  {
   "cell_type": "code",
   "execution_count": 40,
   "id": "c2438c2b",
   "metadata": {},
   "outputs": [
    {
     "name": "stdout",
     "output_type": "stream",
     "text": [
      "the string length is =  20\n"
     ]
    }
   ],
   "source": [
    "#2 len() function used to find length of the string \n",
    "\n",
    "str1=\"hi welcome to python\"\n",
    "\n",
    "str1_len =len(str1)\n",
    "print(\"the string length is = \",str1_len)"
   ]
  },
  {
   "cell_type": "code",
   "execution_count": 43,
   "id": "9a87c73d",
   "metadata": {},
   "outputs": [
    {
     "name": "stdout",
     "output_type": "stream",
     "text": [
      "orignal string =  Hi my name is Govind\n",
      "lower string =  hi my name is govind\n",
      "upper string =  HI MY NAME IS GOVIND\n"
     ]
    }
   ],
   "source": [
    "#3 lower() and upper() \n",
    "str1=\"Hi my name is Govind\"\n",
    "\n",
    "print(\"orignal string = \",str1)\n",
    "#string lower \n",
    "print(\"lower string = \",str1.lower())\n",
    "\n",
    "#upper string \n",
    "print(\"upper string = \",str1.upper())\n",
    "\n"
   ]
  },
  {
   "cell_type": "code",
   "execution_count": 46,
   "id": "3ab60c1b",
   "metadata": {},
   "outputs": [
    {
     "name": "stdout",
     "output_type": "stream",
     "text": [
      "Hello, World!\n",
      "Hello, World!   \n",
      "   Hello, World!\n"
     ]
    }
   ],
   "source": [
    "#4 strip(), lstrip(), and rstrip()\n",
    "my_string = \"   Hello, World!   \"\n",
    "print(my_string.strip()) \n",
    "print(my_string.lstrip()) \n",
    "print(my_string.rstrip()) "
   ]
  },
  {
   "cell_type": "code",
   "execution_count": 48,
   "id": "c1273d72",
   "metadata": {},
   "outputs": [
    {
     "name": "stdout",
     "output_type": "stream",
     "text": [
      "['tamilgovind2025', 'gmail.com']\n",
      "['apple', 'banana', 'orange']\n"
     ]
    }
   ],
   "source": [
    "#5 split() \n",
    "\n",
    "#ex1\n",
    "str1=\"tamilgovind2025@gmail.com\"\n",
    "\n",
    "str_split=str1.split(\"@\")\n",
    "print(str_split)\n",
    "\n",
    "#ex2\n",
    "my_string = \"apple,banana,orange\"\n",
    "split_list = my_string.split(\",\")\n",
    "print(split_list)"
   ]
  },
  {
   "cell_type": "code",
   "execution_count": 49,
   "id": "a1e0b042",
   "metadata": {},
   "outputs": [
    {
     "name": "stdout",
     "output_type": "stream",
     "text": [
      "apple,banana,orange\n"
     ]
    }
   ],
   "source": [
    "#6 join()  \n",
    "\n",
    "my_list = ['apple', 'banana', 'orange']\n",
    "\n",
    "delimiter = \",\"\n",
    "\n",
    "joined_string = delimiter.join(my_list)\n",
    "\n",
    "print(joined_string)  "
   ]
  },
  {
   "cell_type": "code",
   "execution_count": 54,
   "id": "558271b7",
   "metadata": {},
   "outputs": [
    {
     "name": "stdout",
     "output_type": "stream",
     "text": [
      "7\n",
      "7\n",
      "3\n",
      "-1\n"
     ]
    }
   ],
   "source": [
    "#find() and index()\n",
    "my_string = \"Hello, World!\"\n",
    "print(my_string.find(\"World\")) \n",
    "print(my_string.index(\"World\")) \n",
    "\n",
    "print(my_string.find(\"lo\"))\n",
    "print(my_string.find(\"govind\")) "
   ]
  },
  {
   "cell_type": "code",
   "execution_count": 56,
   "id": "8bde1923",
   "metadata": {},
   "outputs": [
    {
     "name": "stdout",
     "output_type": "stream",
     "text": [
      "original string =  Hello, World!\n",
      "replace string =  Hello, Python!\n"
     ]
    }
   ],
   "source": [
    "#replace() \n",
    "\n",
    "my_string = \"Hello, World!\"\n",
    "print(\"original string = \",my_string)\n",
    "print(\"replace string = \",my_string.replace(\"World\", \"Python\"))\n"
   ]
  },
  {
   "cell_type": "code",
   "execution_count": 58,
   "id": "55962227",
   "metadata": {},
   "outputs": [
    {
     "name": "stdout",
     "output_type": "stream",
     "text": [
      "True\n",
      "True\n",
      "False\n"
     ]
    }
   ],
   "source": [
    "# startswith() and endswith()\n",
    "my_string = \"Hello, World!\"\n",
    "print(my_string.startswith(\"Hello\"))  \n",
    "print(my_string.endswith(\"!\"))   \n",
    "print(my_string.endswith(\".\"))  "
   ]
  },
  {
   "cell_type": "code",
   "execution_count": 59,
   "id": "7d97ed55",
   "metadata": {},
   "outputs": [
    {
     "name": "stdout",
     "output_type": "stream",
     "text": [
      "3\n"
     ]
    }
   ],
   "source": [
    "#count()\n",
    "#Counts the occurrences of a substring within the string.\n",
    "my_string = \"Hello, World!\"\n",
    "print(my_string.count(\"l\"))  # Output: 3"
   ]
  },
  {
   "cell_type": "code",
   "execution_count": 60,
   "id": "e36a4b88",
   "metadata": {},
   "outputs": [
    {
     "name": "stdout",
     "output_type": "stream",
     "text": [
      "True\n",
      "True\n",
      "True\n",
      "True\n",
      "True\n",
      "True\n"
     ]
    }
   ],
   "source": [
    "#isdigit(), isalpha(), isalnum(), isspace(), islower(), isupper()\n",
    "#it will return boolean type\n",
    "\n",
    "print(\"123\".isdigit())      \n",
    "print(\"abc\".isalpha())      \n",
    "print(\"123abc\".isalnum())  \n",
    "print(\"   \".isspace())      \n",
    "print(\"hello\".islower())    \n",
    "print(\"HELLO\".isupper())    "
   ]
  },
  {
   "cell_type": "code",
   "execution_count": 61,
   "id": "636acdb5",
   "metadata": {},
   "outputs": [
    {
     "name": "stdout",
     "output_type": "stream",
     "text": [
      "Hello World\n",
      "Hello world\n"
     ]
    }
   ],
   "source": [
    "# title() and capitalize()\n",
    "my_string = \"hello world\"\n",
    "print(my_string.title())       # Output: Hello World\n",
    "print(my_string.capitalize())  # Output: Hello world"
   ]
  },
  {
   "cell_type": "code",
   "execution_count": 62,
   "id": "8fd9d87e",
   "metadata": {},
   "outputs": [
    {
     "name": "stdout",
     "output_type": "stream",
     "text": [
      "hELLO, wORLD!\n"
     ]
    }
   ],
   "source": [
    "#swap case\n",
    "my_string = \"Hello, World!\"\n",
    "print(my_string.swapcase())"
   ]
  },
  {
   "cell_type": "code",
   "execution_count": 65,
   "id": "8acdef3b",
   "metadata": {},
   "outputs": [
    {
     "name": "stdout",
     "output_type": "stream",
     "text": [
      "orignal string =  my name is govind\n",
      "encoded string =  b'my name is govind'\n",
      "decoded string =  my name is govind\n"
     ]
    }
   ],
   "source": [
    "# encode() and decode()\n",
    "my_string = \"my name is govind\"\n",
    "print(\"orignal string = \",my_string)\n",
    "encoded_string = my_string.encode(\"utf-8\") #encoding format\n",
    "print(\"encoded string = \",encoded_string)          \n",
    "decoded_string = encoded_string.decode(\"utf-8\")\n",
    "print(\"decoded string = \",decoded_string)  "
   ]
  },
  {
   "cell_type": "code",
   "execution_count": 66,
   "id": "13510488",
   "metadata": {},
   "outputs": [
    {
     "name": "stdout",
     "output_type": "stream",
     "text": [
      "**govind**\n",
      "govind****\n",
      "****govind\n"
     ]
    }
   ],
   "source": [
    "# center(width, fillchar), ljust(width, fillchar), and rjust(width, fillchar)\n",
    "my_string = \"govind\"\n",
    "print(my_string.center(10, '*'))  \n",
    "print(my_string.ljust(10, '*'))   \n",
    "print(my_string.rjust(10, '*'))"
   ]
  },
  {
   "cell_type": "code",
   "execution_count": 68,
   "id": "d6a198e6",
   "metadata": {},
   "outputs": [
    {
     "name": "stdout",
     "output_type": "stream",
     "text": [
      "  25000   \n",
      "25000     \n",
      "     25000\n"
     ]
    }
   ],
   "source": [
    "my_string = str(25000)\n",
    "print(my_string.center(10, ' '))  \n",
    "print(my_string.ljust(10, ' '))   \n",
    "print(my_string.rjust(10, ' '))"
   ]
  },
  {
   "cell_type": "code",
   "execution_count": 71,
   "id": "e7ebaec3",
   "metadata": {},
   "outputs": [
    {
     "name": "stdout",
     "output_type": "stream",
     "text": [
      "   25000.0\n",
      "    2500.0\n",
      " 2500000.0\n"
     ]
    }
   ],
   "source": [
    "my_string = str(25000.00)\n",
    "print(my_string.rjust(10, ' '))\n",
    "my_string = str(2500.00)\n",
    "print(my_string.rjust(10, ' '))\n",
    "my_string = str(2500000.00)\n",
    "print(my_string.rjust(10, ' '))"
   ]
  },
  {
   "cell_type": "code",
   "execution_count": 72,
   "id": "399a847b",
   "metadata": {},
   "outputs": [
    {
     "name": "stdout",
     "output_type": "stream",
     "text": [
      "00042\n"
     ]
    }
   ],
   "source": [
    "#zfill(width)\n",
    "#Pads a numeric string with zeros on the left to fill a specified width.\n",
    "numeric_string = \"42\"\n",
    "print(numeric_string.zfill(5))"
   ]
  },
  {
   "cell_type": "markdown",
   "id": "dfceef0b",
   "metadata": {},
   "source": [
    "partition(separator) and rpartition(separator) are string methods in Python that are used to split a string into three parts based on a specified separator. Here's how they work:\n",
    "\n",
    "partition(separator): This method splits the string at the first occurrence of the specified separator and returns a tuple containing three elements:\n",
    "\n",
    "The part of the string before the separator.\n",
    "The separator itself.\n",
    "The part of the string after the separator.\n",
    "If the separator is not found in the string, the original string is returned as the first element of the tuple, and two empty strings are returned for the other elements."
   ]
  },
  {
   "cell_type": "code",
   "execution_count": 73,
   "id": "11ab9c53",
   "metadata": {},
   "outputs": [
    {
     "name": "stdout",
     "output_type": "stream",
     "text": [
      "('hello', ' ', 'world')\n",
      "('hello world', '', '')\n"
     ]
    }
   ],
   "source": [
    "s = \"hello world\"\n",
    "print(s.partition(\" \"))  \n",
    "print(s.partition(\"x\")) "
   ]
  },
  {
   "cell_type": "markdown",
   "id": "e0282705",
   "metadata": {},
   "source": [
    "rpartition(separator): This method is similar to partition(), but it splits the string at the last occurrence of the specified separator instead of the first one."
   ]
  },
  {
   "cell_type": "code",
   "execution_count": 74,
   "id": "1e9091df",
   "metadata": {},
   "outputs": [
    {
     "name": "stdout",
     "output_type": "stream",
     "text": [
      "('hello', ' ', 'world')\n",
      "('', '', 'hello world')\n"
     ]
    }
   ],
   "source": [
    "s = \"hello world\"\n",
    "print(s.rpartition(\" \")) \n",
    "print(s.rpartition(\"x\"))"
   ]
  },
  {
   "cell_type": "code",
   "execution_count": 80,
   "id": "40b190f7",
   "metadata": {},
   "outputs": [
    {
     "name": "stdout",
     "output_type": "stream",
     "text": [
      "Hello   World\n",
      "Hello     World\n",
      "Hello               World\n"
     ]
    }
   ],
   "source": [
    "#expandtabs(tabsize)\n",
    "my_string = \"Hello\\tWorld\"\n",
    "print(my_string.expandtabs(4))\n",
    "print(my_string.expandtabs(10))\n",
    "print(my_string.expandtabs(20))"
   ]
  },
  {
   "cell_type": "raw",
   "id": "8f7bc91d",
   "metadata": {},
   "source": [
    "\n",
    "maketrans() and translate()\n",
    "These functions are used together for translating characters in a string. \n",
    "maketrans() creates a translation table, and translate() applies it to the string."
   ]
  },
  {
   "cell_type": "code",
   "execution_count": 81,
   "id": "90e91c35",
   "metadata": {},
   "outputs": [
    {
     "name": "stdout",
     "output_type": "stream",
     "text": [
      "Hello, World!\n",
      "H2ll4, W4rld!\n"
     ]
    }
   ],
   "source": [
    "translation_table = str.maketrans(\"aeiou\", \"12345\")\n",
    "my_string = \"Hello, World!\"\n",
    "print(my_string)\n",
    "print(my_string.translate(translation_table))"
   ]
  },
  {
   "cell_type": "code",
   "execution_count": 83,
   "id": "963f7a02",
   "metadata": {},
   "outputs": [
    {
     "name": "stdout",
     "output_type": "stream",
     "text": [
      "4\n",
      "8\n",
      "4\n",
      "8\n"
     ]
    }
   ],
   "source": [
    "#find(), rfind(), index(), and rindex()\n",
    "\"\"\"\n",
    "These functions are used to find the index of the first (or last) \n",
    "occurrence of a substring within the string. \n",
    "find() and index() return -1 if the substring is not found, while rfind() and \n",
    "rindex() search from the end of the string.\n",
    "\n",
    "\"\"\"\n",
    "my_string = \"Hello, World!\"\n",
    "print(my_string.find(\"o\"))     \n",
    "print(my_string.rfind(\"o\"))     \n",
    "print(my_string.index(\"o\"))     \n",
    "print(my_string.rindex(\"o\"))"
   ]
  },
  {
   "cell_type": "markdown",
   "id": "1a3a5e1f",
   "metadata": {},
   "source": [
    "asefold()\n",
    "Similar to lower(), but more aggressive; it converts the string to lowercase and removes all case distinctions in a string."
   ]
  },
  {
   "cell_type": "code",
   "execution_count": 84,
   "id": "94b9ab61",
   "metadata": {},
   "outputs": [
    {
     "name": "stdout",
     "output_type": "stream",
     "text": [
      "hello\n"
     ]
    }
   ],
   "source": [
    "my_string = \"HELLO\"\n",
    "print(my_string.casefold())"
   ]
  },
  {
   "cell_type": "code",
   "execution_count": 85,
   "id": "c556c690",
   "metadata": {},
   "outputs": [
    {
     "name": "stdout",
     "output_type": "stream",
     "text": [
      "Welcome to python\n"
     ]
    }
   ],
   "source": [
    "str=\"welcome to python\"\n",
    "print(str.capitalize())"
   ]
  },
  {
   "cell_type": "code",
   "execution_count": 86,
   "id": "50286227",
   "metadata": {},
   "outputs": [
    {
     "name": "stdout",
     "output_type": "stream",
     "text": [
      "Character 'H' at index 0\n",
      "Character 'e' at index 1\n",
      "Character 'l' at index 2\n",
      "Character 'l' at index 3\n",
      "Character 'o' at index 4\n"
     ]
    }
   ],
   "source": [
    "#enumerate\n",
    "my_string = \"Hello\"\n",
    "\n",
    "for index, char in enumerate(my_string):\n",
    "    print(f\"Character '{char}' at index {index}\")"
   ]
  },
  {
   "cell_type": "code",
   "execution_count": 87,
   "id": "74f96973",
   "metadata": {},
   "outputs": [
    {
     "name": "stdout",
     "output_type": "stream",
     "text": [
      "Character 'H' at index 0\n",
      "Character 'e' at index 1\n",
      "Character 'l' at index 2\n",
      "Character 'l' at index 3\n",
      "Character 'o' at index 4\n"
     ]
    }
   ],
   "source": [
    "my_string = \"Hello\"\n",
    "index = 0\n",
    "\n",
    "while index < len(my_string):\n",
    "    char = my_string[index]\n",
    "    print(f\"Character '{char}' at index {index}\")\n",
    "    index += 1"
   ]
  },
  {
   "cell_type": "code",
   "execution_count": 88,
   "id": "e655317e",
   "metadata": {},
   "outputs": [
    {
     "ename": "SyntaxError",
     "evalue": "invalid syntax. Perhaps you forgot a comma? (4176339214.py, line 2)",
     "output_type": "error",
     "traceback": [
      "\u001b[1;36m  Cell \u001b[1;32mIn[88], line 2\u001b[1;36m\u001b[0m\n\u001b[1;33m    print(\"she asked \"what is python\"\")\u001b[0m\n\u001b[1;37m          ^\u001b[0m\n\u001b[1;31mSyntaxError\u001b[0m\u001b[1;31m:\u001b[0m invalid syntax. Perhaps you forgot a comma?\n"
     ]
    }
   ],
   "source": [
    "#string formating \n",
    "print(\"she asked, \"what is python\"\") #it whill throw an error "
   ]
  },
  {
   "cell_type": "code",
   "execution_count": 89,
   "id": "b513695c",
   "metadata": {},
   "outputs": [
    {
     "name": "stdout",
     "output_type": "stream",
     "text": [
      "she asked, \"what is python ?\"\n"
     ]
    }
   ],
   "source": [
    "print('she asked, \"what is python ?\"')"
   ]
  },
  {
   "cell_type": "code",
   "execution_count": 91,
   "id": "bbc56284",
   "metadata": {},
   "outputs": [
    {
     "name": "stdout",
     "output_type": "stream",
     "text": [
      "<enumerate object at 0x00000203766C3330>\n",
      "[(0, 't'), (1, 'a'), (2, 'm'), (3, 'i'), (4, 'l'), (5, 'g'), (6, 'o'), (7, 'v'), (8, 'i'), (9, 'n'), (10, 'd')]\n"
     ]
    }
   ],
   "source": [
    "str1=\"tamilgovind\"\n",
    "enum=enumerate(str1) #it will return on object \n",
    "print(enum)\n",
    "enum=list(enum)\n",
    "print(enum)"
   ]
  },
  {
   "cell_type": "code",
   "execution_count": 107,
   "id": "43276bf9",
   "metadata": {},
   "outputs": [
    {
     "name": "stdout",
     "output_type": "stream",
     "text": [
      "amanacatacodgnn12344343r\n"
     ]
    }
   ],
   "source": [
    "a=\"a man A cat A codg nn 12344343 r\"\n",
    "s=\"\"\n",
    "for i in a:\n",
    "    #print(i,end=\" \")\n",
    "    if i.isalnum():\n",
    "        #print(i,end=\" \")\n",
    "        s+=i.lower()\n",
    "        #print(s,end=\"\")\n",
    "print(s)"
   ]
  },
  {
   "cell_type": "code",
   "execution_count": 110,
   "id": "44dee886",
   "metadata": {},
   "outputs": [
    {
     "name": "stdout",
     "output_type": "stream",
     "text": [
      "enter the string = govinda govinda govinda\n",
      "enter the char to find = o\n",
      "enter the char to replace = m\n",
      "the orignal string =  govinda govinda govinda\n",
      "the replace string =  gmvinda gmvinda gmvinda\n"
     ]
    }
   ],
   "source": [
    "#q1 write a python program to replace a char from a string \n",
    "\n",
    "str1=input(\"enter the string = \")\n",
    "str2=\"\"\n",
    "find_char=input(\"enter the char to find = \")\n",
    "rep_char=input(\"enter the char to replace = \")\n",
    "\n",
    "for i in range(len(str1)):\n",
    "    if find_char==str1[i]:\n",
    "        str2=str2+rep_char\n",
    "    else:\n",
    "        str2+=str1[i]\n",
    "\n",
    "print(\"the orignal string = \",str1)\n",
    "print(\"the replace string = \",str2)"
   ]
  },
  {
   "cell_type": "code",
   "execution_count": null,
   "id": "93ed4241",
   "metadata": {},
   "outputs": [],
   "source": []
  }
 ],
 "metadata": {
  "kernelspec": {
   "display_name": "Python 3 (ipykernel)",
   "language": "python",
   "name": "python3"
  },
  "language_info": {
   "codemirror_mode": {
    "name": "ipython",
    "version": 3
   },
   "file_extension": ".py",
   "mimetype": "text/x-python",
   "name": "python",
   "nbconvert_exporter": "python",
   "pygments_lexer": "ipython3",
   "version": "3.11.5"
  }
 },
 "nbformat": 4,
 "nbformat_minor": 5
}
