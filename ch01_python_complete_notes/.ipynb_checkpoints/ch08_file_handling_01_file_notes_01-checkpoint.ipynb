{
 "cells": [
  {
   "cell_type": "code",
   "execution_count": null,
   "id": "0b2ceafb",
   "metadata": {},
   "outputs": [],
   "source": [
    "It's the ability to create, read, write, modify, and delete files using your Python code.\n",
    "This allows you to interact with text, images, or other data stored in files.\n",
    "Key functions and methods:\n",
    "\n",
    "open(filename, mode): Opens a file with the specified mode:\n",
    "'r': Read-only (default)\n",
    "'w': Write, overwrites existing content\n",
    "'a': Append, adds to the end of the file\n",
    "'r+': Read and write\n",
    "'w+': Write and read, overwrites existing content\n",
    "'a+': Append and read\n",
    "'b': Binary mode (for non-text files)\n",
    "read(): Reads the entire file content as a string (default) or up to a specified number of bytes.\n",
    "readline(): Reads a single line from the file.\n",
    "readlines(): Reads all lines from the file as a list of strings.\n",
    "write(data): Writes data (string or bytes) to the file.\n",
    "close(): Closes the file, releases resources."
   ]
  },
  {
   "cell_type": "code",
   "execution_count": 1,
   "id": "520f0798",
   "metadata": {},
   "outputs": [],
   "source": [
    "# Open a file in write mode ('w')\n",
    "file= open('test01.txt', 'w')\n",
    "file.write('Hello, world!\\n')\n",
    "file.write('This is a Python file write example.\\n')\n",
    "file.close()"
   ]
  },
  {
   "cell_type": "code",
   "execution_count": 2,
   "id": "24bbafc2",
   "metadata": {},
   "outputs": [],
   "source": [
    "# Open a file in write mode ('w')\n",
    "with open('test02.txt', 'w') as file:\n",
    "    file.write('Hello, world!\\n')\n",
    "    file.write('This is a Python file write example.\\n')\n",
    "    file.close()"
   ]
  },
  {
   "cell_type": "code",
   "execution_count": null,
   "id": "d697fca0",
   "metadata": {},
   "outputs": [],
   "source": []
  }
 ],
 "metadata": {
  "kernelspec": {
   "display_name": "Python 3 (ipykernel)",
   "language": "python",
   "name": "python3"
  },
  "language_info": {
   "codemirror_mode": {
    "name": "ipython",
    "version": 3
   },
   "file_extension": ".py",
   "mimetype": "text/x-python",
   "name": "python",
   "nbconvert_exporter": "python",
   "pygments_lexer": "ipython3",
   "version": "3.11.5"
  }
 },
 "nbformat": 4,
 "nbformat_minor": 5
}
