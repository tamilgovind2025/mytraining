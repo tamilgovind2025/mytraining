{
 "cells": [
  {
   "cell_type": "markdown",
   "id": "f5ed4804",
   "metadata": {},
   "source": [
    "# list notes"
   ]
  },
  {
   "cell_type": "markdown",
   "id": "dfef7336",
   "metadata": {},
   "source": [
    "## intro"
   ]
  },
  {
   "cell_type": "raw",
   "id": "892e67d7",
   "metadata": {},
   "source": [
    "list =\"\"\"\n",
    "The list is one of the fundamental data structures in Python. \n",
    "It is a mutable, ordered collection of items, where each item is stored at a specific index within \n",
    "the list. Lists can contain elements of different data types, including other lists (nested lists).\n",
    "\n",
    "litst= collection of objects/data to store under a variable, mututable(value can change), ordered with index \n",
    "\n",
    "You can create a list by enclosing comma-separated values within square brackets [ ].\n",
    "\n",
    "and also called as compund data types and have any numbers of items and different or similar data \n",
    "\"\"\""
   ]
  },
  {
   "cell_type": "code",
   "execution_count": 2,
   "id": "5f14ea36",
   "metadata": {},
   "outputs": [
    {
     "name": "stdout",
     "output_type": "stream",
     "text": [
      "[]\n",
      "<class 'list'>\n",
      "[]\n",
      "<class 'list'>\n"
     ]
    }
   ],
   "source": [
    "#create empty list \n",
    "\n",
    "l1=[]\n",
    "print(l1)\n",
    "print(type(l1))\n",
    "\n",
    "#another way to create \n",
    "l2=list()\n",
    "print(l2)\n",
    "print(type(l2))"
   ]
  },
  {
   "cell_type": "code",
   "execution_count": 4,
   "id": "13e0467b",
   "metadata": {},
   "outputs": [
    {
     "name": "stdout",
     "output_type": "stream",
     "text": [
      "[21, 22, 23, 54, 32, 21, 45, 67]\n",
      "<class 'list'>\n"
     ]
    }
   ],
   "source": [
    "#create a list\n",
    "\n",
    "my_list1 = [21,22,23,54,32,21,45,67]\n",
    "print(my_list1)\n",
    "print(type(my_list1))"
   ]
  },
  {
   "cell_type": "code",
   "execution_count": 14,
   "id": "63e2d3c6",
   "metadata": {},
   "outputs": [
    {
     "name": "stdout",
     "output_type": "stream",
     "text": [
      "the list values =  [22, 22.5, 'govind', True, [22, 44, 55], {33, 11, 22}, (21, 34, 55), {'key': [21, 54, 21]}, (3+3j), None]\n",
      "the data type is  <class 'list'>\n",
      "the 0th index value =  22\n",
      "21\n"
     ]
    }
   ],
   "source": [
    "l1=[22,22.5,\"govind\",True,[22,44,55],{11,22,33},(21,34,55),{\"key\":[21,54,21]},3+3j,None]\n",
    "print(\"the list values = \",l1)\n",
    "print(\"the data type is \",type(l1))\n",
    "print(\"the 0th index value = \",l1[0])\n",
    "print(l1[7][\"key\"][2])"
   ]
  },
  {
   "cell_type": "markdown",
   "id": "48867fc9",
   "metadata": {},
   "source": [
    "## list indexing and slicing "
   ]
  },
  {
   "cell_type": "raw",
   "id": "a3fbc184",
   "metadata": {},
   "source": [
    "l1=[12,13,14,15]\n",
    "     0  1  2  3  #positve index \n",
    "    -4 -3 -2 -1  #negative index"
   ]
  },
  {
   "cell_type": "code",
   "execution_count": 16,
   "id": "b9b0f36f",
   "metadata": {},
   "outputs": [
    {
     "name": "stdout",
     "output_type": "stream",
     "text": [
      "21\n"
     ]
    }
   ],
   "source": [
    "l1 = [21,22,23,54,32,21,45,67]\n",
    "print(l1[0])"
   ]
  },
  {
   "cell_type": "code",
   "execution_count": 17,
   "id": "cdfb5371",
   "metadata": {},
   "outputs": [
    {
     "name": "stdout",
     "output_type": "stream",
     "text": [
      "[21, 22, 23, 54]\n"
     ]
    }
   ],
   "source": [
    "print(l1[0:4])"
   ]
  },
  {
   "cell_type": "code",
   "execution_count": 18,
   "id": "0340a739",
   "metadata": {},
   "outputs": [
    {
     "name": "stdout",
     "output_type": "stream",
     "text": [
      "[21, 23, 32, 45]\n"
     ]
    }
   ],
   "source": [
    "print(l1[::2])"
   ]
  },
  {
   "cell_type": "code",
   "execution_count": 19,
   "id": "7d15e42d",
   "metadata": {},
   "outputs": [
    {
     "name": "stdout",
     "output_type": "stream",
     "text": [
      "67\n"
     ]
    }
   ],
   "source": [
    "#negative indexing \n",
    "print(l1[-1])"
   ]
  },
  {
   "cell_type": "code",
   "execution_count": 21,
   "id": "ff5d1a3d",
   "metadata": {},
   "outputs": [
    {
     "name": "stdout",
     "output_type": "stream",
     "text": [
      "[54, 32, 21]\n"
     ]
    }
   ],
   "source": [
    "#negative slicing \n",
    "print(l1[-5:-2])"
   ]
  },
  {
   "cell_type": "code",
   "execution_count": 20,
   "id": "9223a45b",
   "metadata": {},
   "outputs": [
    {
     "name": "stdout",
     "output_type": "stream",
     "text": [
      "[67, 45, 21, 32, 54, 23, 22, 21]\n"
     ]
    }
   ],
   "source": [
    "#reverse \n",
    "print(l1[::-1])"
   ]
  },
  {
   "cell_type": "code",
   "execution_count": 22,
   "id": "64353915",
   "metadata": {},
   "outputs": [
    {
     "name": "stdout",
     "output_type": "stream",
     "text": [
      "[21, 22, 23, 54, 32, 21, 45, 67]\n"
     ]
    }
   ],
   "source": [
    "#slicing \n",
    "#[start:stop:step]\n",
    "print(l1[::])"
   ]
  },
  {
   "cell_type": "code",
   "execution_count": 23,
   "id": "1b7b8806",
   "metadata": {},
   "outputs": [
    {
     "name": "stdout",
     "output_type": "stream",
     "text": [
      "[23, 54, 32, 21, 45, 67]\n"
     ]
    }
   ],
   "source": [
    "print(l1[2:])"
   ]
  },
  {
   "cell_type": "code",
   "execution_count": 25,
   "id": "473bd1fd",
   "metadata": {},
   "outputs": [
    {
     "name": "stdout",
     "output_type": "stream",
     "text": [
      "[21, 22, 23, 54, 32, 21, 45]\n"
     ]
    }
   ],
   "source": [
    "print(l1[:7])"
   ]
  },
  {
   "cell_type": "code",
   "execution_count": 26,
   "id": "97e87574",
   "metadata": {},
   "outputs": [
    {
     "name": "stdout",
     "output_type": "stream",
     "text": [
      "[54, 32, 21, 45]\n"
     ]
    }
   ],
   "source": [
    "print(l1[3:7])"
   ]
  },
  {
   "cell_type": "code",
   "execution_count": 27,
   "id": "277ae85f",
   "metadata": {},
   "outputs": [
    {
     "name": "stdout",
     "output_type": "stream",
     "text": [
      "[22, 54, 21]\n"
     ]
    }
   ],
   "source": [
    "print(l1[1:7:2])"
   ]
  },
  {
   "cell_type": "markdown",
   "id": "72567ccc",
   "metadata": {},
   "source": [
    "## copy vs view"
   ]
  },
  {
   "cell_type": "code",
   "execution_count": 38,
   "id": "7d90733f",
   "metadata": {},
   "outputs": [
    {
     "name": "stdout",
     "output_type": "stream",
     "text": [
      "original list =  [23, 34, 56, 67, 87, 98, 34, 67, 54, 21]\n",
      "new list =  [23, 34, 56, 67, 87, 98, 34, 67, 54, 21]\n",
      "the new list =  [100, 34, 56, 67, 87, 98, 34, 67, 54, 21]\n",
      "the original list = [100, 34, 56, 67, 87, 98, 34, 67, 54, 21]\n"
     ]
    }
   ],
   "source": [
    "#view \n",
    "list1=[23,34,56,67,87,98,34,67,54,21]\n",
    "print(\"original list = \",l1)\n",
    "\n",
    "new_list=list1\n",
    "print(\"new list = \",new_list)\n",
    "\n",
    "new_list[0]=100\n",
    "print(\"the new list = \",new_list)\n",
    "print('the original list =',list1)"
   ]
  },
  {
   "cell_type": "code",
   "execution_count": 39,
   "id": "785c5aeb",
   "metadata": {},
   "outputs": [
    {
     "name": "stdout",
     "output_type": "stream",
     "text": [
      "original list =  [23, 34, 56, 67, 87, 98, 34, 67, 54, 21]\n",
      "new list =  [23, 34, 56, 67, 87, 98, 34, 67, 54, 21]\n",
      "the new list =  [100, 34, 56, 67, 87, 98, 34, 67, 54, 21]\n",
      "the original list = [23, 34, 56, 67, 87, 98, 34, 67, 54, 21]\n"
     ]
    }
   ],
   "source": [
    "#copy\n",
    "list1=[23,34,56,67,87,98,34,67,54,21]\n",
    "print(\"original list = \",l1)\n",
    "\n",
    "new_list=list1.copy()\n",
    "print(\"new list = \",new_list)\n",
    "\n",
    "new_list[0]=100\n",
    "print(\"the new list = \",new_list)\n",
    "print('the original list =',list1)"
   ]
  },
  {
   "cell_type": "markdown",
   "id": "4a546ac6",
   "metadata": {},
   "source": [
    "## inbuilt methods and function in list "
   ]
  },
  {
   "cell_type": "code",
   "execution_count": 42,
   "id": "55e24b65",
   "metadata": {},
   "outputs": [
    {
     "name": "stdout",
     "output_type": "stream",
     "text": [
      "True\n",
      "False\n"
     ]
    }
   ],
   "source": [
    "#all() #return true if all eleemets true\n",
    "l1=[22,23,45,32]\n",
    "l2=[22,0,1,0]\n",
    "\n",
    "print(all(l1))\n",
    "print(all(l2))"
   ]
  },
  {
   "cell_type": "code",
   "execution_count": 46,
   "id": "75ab82e1",
   "metadata": {},
   "outputs": [
    {
     "name": "stdout",
     "output_type": "stream",
     "text": [
      "False\n",
      "True\n"
     ]
    }
   ],
   "source": [
    "#any() #return true if any element present\n",
    "l1=[22,3,33,0]\n",
    "l2=[]\n",
    "\n",
    "print(any(l2))\n",
    "print(any(l1))"
   ]
  },
  {
   "cell_type": "code",
   "execution_count": 50,
   "id": "26f83989",
   "metadata": {},
   "outputs": [
    {
     "name": "stdout",
     "output_type": "stream",
     "text": [
      "(12, 12, 13)\n",
      "<class 'tuple'>\n",
      "[12, 12, 13]\n",
      "<class 'list'>\n"
     ]
    }
   ],
   "source": [
    "#list() convert any data to list \n",
    "a=12,12,13\n",
    "print(a)\n",
    "print(type(a))\n",
    "a=list(a)\n",
    "print(a)\n",
    "print(type(a))"
   ]
  },
  {
   "cell_type": "code",
   "execution_count": 51,
   "id": "f12c7e1a",
   "metadata": {},
   "outputs": [
    {
     "name": "stdout",
     "output_type": "stream",
     "text": [
      "index =  0 value =  22\n",
      "index =  1 value =  23\n",
      "index =  2 value =  45\n",
      "index =  3 value =  32\n"
     ]
    }
   ],
   "source": [
    "#enumerate(list)  #it will return index,values from enumerate(list) in tuple format\n",
    "l1=[22,23,45,32]\n",
    "\n",
    "for index,value in enumerate(l1):\n",
    "    print(\"index = \",index,\"value = \",value)"
   ]
  },
  {
   "cell_type": "code",
   "execution_count": 56,
   "id": "cff6f60d",
   "metadata": {},
   "outputs": [
    {
     "name": "stdout",
     "output_type": "stream",
     "text": [
      "max value =  45\n",
      "min value =  22\n",
      "the sum value =  122\n",
      "the len of list =  4\n"
     ]
    }
   ],
   "source": [
    "print(\"max value = \",max(l1))\n",
    "print(\"min value = \",min(l1))\n",
    "print(\"the sum value = \",sum(l1))\n",
    "print(\"the len of list = \",len(l1))"
   ]
  },
  {
   "cell_type": "code",
   "execution_count": 63,
   "id": "717e3bae",
   "metadata": {},
   "outputs": [
    {
     "name": "stdout",
     "output_type": "stream",
     "text": [
      "[22, 23, 45, 32]\n",
      "the ascendiing sorted list  [22, 23, 32, 45]\n",
      "the descending sorted list  [45, 32, 23, 22]\n",
      "the descending sorted list  [45, 32, 23, 22]\n"
     ]
    }
   ],
   "source": [
    "#sorted() \n",
    "print(l1)\n",
    "print(\"the ascendiing sorted list \",sorted(l1))\n",
    "\n",
    "print(\"the descending sorted list \",sorted(l1)[::-1])\n",
    "print(\"the descending sorted list \",sorted(l1,reverse=True))"
   ]
  },
  {
   "cell_type": "code",
   "execution_count": 64,
   "id": "b8253a9e",
   "metadata": {},
   "outputs": [],
   "source": [
    "#methods\n",
    "l1=[22,23,45,32]\n"
   ]
  },
  {
   "cell_type": "code",
   "execution_count": 68,
   "id": "ad958e77",
   "metadata": {},
   "outputs": [
    {
     "name": "stdout",
     "output_type": "stream",
     "text": [
      "original list =  [22, 23, 45, 32, 25, 25, (21, 34, 56, 43, 67, 2), 25, (21, 34, 56, 43, 67, 2), [34, 56, 78, 32, 45]]\n",
      "append list =  [22, 23, 45, 32, 25, 25, (21, 34, 56, 43, 67, 2), 25, (21, 34, 56, 43, 67, 2), [34, 56, 78, 32, 45], 25]\n",
      "append list =  [22, 23, 45, 32, 25, 25, (21, 34, 56, 43, 67, 2), 25, (21, 34, 56, 43, 67, 2), [34, 56, 78, 32, 45], 25, (21, 34, 56, 43, 67, 2)]\n",
      "append list =  [22, 23, 45, 32, 25, 25, (21, 34, 56, 43, 67, 2), 25, (21, 34, 56, 43, 67, 2), [34, 56, 78, 32, 45], 25, (21, 34, 56, 43, 67, 2), [34, 56, 78, 32, 45]]\n"
     ]
    }
   ],
   "source": [
    "#append()  #can add only one data at a time \n",
    "print(\"original list = \",l1)\n",
    "l1.append(25)\n",
    "print(\"append list = \",l1)\n",
    "\n",
    "a2=(21,34,56,43,67,2)\n",
    "l1.append(a2)\n",
    "print(\"append list = \",l1)\n",
    "\n",
    "a2=[34,56,78,32,45]\n",
    "l1.append(a2)\n",
    "print(\"append list = \",l1)"
   ]
  },
  {
   "cell_type": "code",
   "execution_count": 72,
   "id": "79b08a27",
   "metadata": {},
   "outputs": [],
   "source": [
    "l1=[22,23,45,32]"
   ]
  },
  {
   "cell_type": "code",
   "execution_count": 73,
   "id": "95f8fcc1",
   "metadata": {},
   "outputs": [
    {
     "name": "stdout",
     "output_type": "stream",
     "text": [
      "[22, 23, 45, 32]\n",
      "[]\n"
     ]
    }
   ],
   "source": [
    "#clear() it wil clear all the elements in list and return empty list \n",
    "print(l1)\n",
    "l1.clear()\n",
    "print(l1)"
   ]
  },
  {
   "cell_type": "code",
   "execution_count": 75,
   "id": "2dece904",
   "metadata": {},
   "outputs": [
    {
     "name": "stdout",
     "output_type": "stream",
     "text": [
      "[22, 23, 45, 32]\n",
      "[22, 23, 45, 32]\n"
     ]
    }
   ],
   "source": [
    "#copy()\n",
    "l1=[22,23,45,32]\n",
    "print(l1)\n",
    "l2=l1.copy()\n",
    "print(l2)"
   ]
  },
  {
   "cell_type": "code",
   "execution_count": 76,
   "id": "f46711b8",
   "metadata": {},
   "outputs": [
    {
     "name": "stdout",
     "output_type": "stream",
     "text": [
      "4\n"
     ]
    }
   ],
   "source": [
    "#count(num) #it will return number of counts \n",
    "l1=[22,23,45,32,22,33,22,56,22]\n",
    "print(l1.count(22))"
   ]
  },
  {
   "cell_type": "code",
   "execution_count": 77,
   "id": "df1f4f47",
   "metadata": {},
   "outputs": [
    {
     "name": "stdout",
     "output_type": "stream",
     "text": [
      "original list =  [21, 34, 56, 78]\n",
      "the extended list =  [21, 34, 56, 78, 21, 22, 54, 67]\n"
     ]
    }
   ],
   "source": [
    "#extend() \n",
    "\n",
    "l1=[21,34,56,78]\n",
    "print(\"original list = \",l1)\n",
    "l1.extend([21,22,54,67])\n",
    "print(\"the extended list = \",l1)"
   ]
  },
  {
   "cell_type": "code",
   "execution_count": 80,
   "id": "81a5945e",
   "metadata": {},
   "outputs": [
    {
     "name": "stdout",
     "output_type": "stream",
     "text": [
      "2\n"
     ]
    },
    {
     "ename": "ValueError",
     "evalue": "568 is not in list",
     "output_type": "error",
     "traceback": [
      "\u001b[1;31m---------------------------------------------------------------------------\u001b[0m",
      "\u001b[1;31mValueError\u001b[0m                                Traceback (most recent call last)",
      "Cell \u001b[1;32mIn[80], line 5\u001b[0m\n\u001b[0;32m      2\u001b[0m l1\u001b[38;5;241m=\u001b[39m[\u001b[38;5;241m21\u001b[39m,\u001b[38;5;241m34\u001b[39m,\u001b[38;5;241m56\u001b[39m,\u001b[38;5;241m78\u001b[39m,\u001b[38;5;241m21\u001b[39m,\u001b[38;5;241m21\u001b[39m,\u001b[38;5;241m34\u001b[39m,\u001b[38;5;241m78\u001b[39m]\n\u001b[0;32m      3\u001b[0m \u001b[38;5;28mprint\u001b[39m(l1\u001b[38;5;241m.\u001b[39mindex(\u001b[38;5;241m56\u001b[39m))\n\u001b[1;32m----> 5\u001b[0m \u001b[38;5;28mprint\u001b[39m(l1\u001b[38;5;241m.\u001b[39mindex(\u001b[38;5;241m568\u001b[39m))\n",
      "\u001b[1;31mValueError\u001b[0m: 568 is not in list"
     ]
    }
   ],
   "source": [
    "#index(num)\n",
    "#it will return first index of given numbers if num not available throw an error \n",
    "l1=[21,34,56,78,21,21,34,78]\n",
    "print(l1.index(56))\n",
    "\n",
    "print(l1.index(568))"
   ]
  },
  {
   "cell_type": "code",
   "execution_count": 83,
   "id": "5b70c47a",
   "metadata": {},
   "outputs": [
    {
     "name": "stdout",
     "output_type": "stream",
     "text": [
      "the original list =  [23, 54, 67, 32, 45, 69]\n",
      "the inserted list =  [23, 100, 54, 67, 32, 45, 69]\n",
      "the inserted list =  [23, 100, 250, 54, 67, 32, 45, 69]\n"
     ]
    }
   ],
   "source": [
    "#insert(index,value)\n",
    "l1=[23,54,67,32,45,69]\n",
    "print(\"the original list = \",l1)\n",
    "\n",
    "l1.insert(1,100)\n",
    "print(\"the inserted list = \",l1)\n",
    "\n",
    "a=(2,250)\n",
    "l1.insert(a[0],a[1])\n",
    "print(\"the inserted list = \",l1)"
   ]
  },
  {
   "cell_type": "code",
   "execution_count": 85,
   "id": "1685a1f7",
   "metadata": {},
   "outputs": [
    {
     "name": "stdout",
     "output_type": "stream",
     "text": [
      "[23, 100, 250, 54, 67, 32, 45]\n",
      "45\n",
      "[23, 100, 250, 54, 67, 32]\n"
     ]
    }
   ],
   "source": [
    "#pop() removing the last element in list \n",
    "\n",
    "print(l1)\n",
    "print(l1.pop())\n",
    "print(l1)"
   ]
  },
  {
   "cell_type": "code",
   "execution_count": 88,
   "id": "ed996c17",
   "metadata": {},
   "outputs": [
    {
     "name": "stdout",
     "output_type": "stream",
     "text": [
      "[23, 54, 34, 21, 78, 35, 54, 21, 54]\n",
      "[23, 54, 34, 21, 35, 54, 21, 54]\n"
     ]
    }
   ],
   "source": [
    "#remove \n",
    "l1=[23,54,34,21,78,35,54,21,54]\n",
    "print(l1)\n",
    "l1.remove(78)\n",
    "print(l1)"
   ]
  },
  {
   "cell_type": "code",
   "execution_count": 94,
   "id": "fd1ddd54",
   "metadata": {},
   "outputs": [
    {
     "name": "stdout",
     "output_type": "stream",
     "text": [
      "[54, 21, 54, 35, 21, 34, 54, 23]\n",
      "[23, 54, 34, 21, 35, 54, 21, 54]\n"
     ]
    }
   ],
   "source": [
    "#reverse() it will take inplace\n",
    "print(l1)\n",
    "l1.reverse()\n",
    "print(l1)"
   ]
  },
  {
   "cell_type": "code",
   "execution_count": 97,
   "id": "8dae8d61",
   "metadata": {},
   "outputs": [
    {
     "name": "stdout",
     "output_type": "stream",
     "text": [
      "[23, 45, 65, 21, 34, 87, 32]\n",
      "[21, 23, 32, 34, 45, 65, 87]\n"
     ]
    }
   ],
   "source": [
    "#sort()\n",
    "l1=[23,45,65,21,34,87,32]\n",
    "print(l1)\n",
    "l1.sort()\n",
    "print(l1)"
   ]
  },
  {
   "cell_type": "code",
   "execution_count": 99,
   "id": "c51c344a",
   "metadata": {},
   "outputs": [
    {
     "name": "stdout",
     "output_type": "stream",
     "text": [
      "[87, 65, 45, 34, 32, 23, 21]\n"
     ]
    }
   ],
   "source": [
    "l1.sort(reverse=True)\n",
    "print(l1)"
   ]
  },
  {
   "cell_type": "markdown",
   "id": "fe5d93f0",
   "metadata": {},
   "source": [
    "## deleting particular element and list "
   ]
  },
  {
   "cell_type": "code",
   "execution_count": 100,
   "id": "130fd319",
   "metadata": {},
   "outputs": [
    {
     "name": "stdout",
     "output_type": "stream",
     "text": [
      "[87, 65, 45, 34, 32, 23, 21]\n"
     ]
    }
   ],
   "source": [
    "print(l1)"
   ]
  },
  {
   "cell_type": "code",
   "execution_count": 101,
   "id": "8672c750",
   "metadata": {},
   "outputs": [
    {
     "name": "stdout",
     "output_type": "stream",
     "text": [
      "[65, 45, 34, 32, 23, 21]\n"
     ]
    }
   ],
   "source": [
    "del l1[0]\n",
    "print(l1)"
   ]
  },
  {
   "cell_type": "code",
   "execution_count": 102,
   "id": "102ee5e2",
   "metadata": {},
   "outputs": [
    {
     "name": "stdout",
     "output_type": "stream",
     "text": [
      "[34, 32, 23, 21]\n"
     ]
    }
   ],
   "source": [
    "del l1[0:2]\n",
    "print(l1)"
   ]
  },
  {
   "cell_type": "code",
   "execution_count": 103,
   "id": "49c8710b",
   "metadata": {},
   "outputs": [],
   "source": [
    "del l1"
   ]
  },
  {
   "cell_type": "code",
   "execution_count": 104,
   "id": "f008ebf7",
   "metadata": {},
   "outputs": [
    {
     "ename": "NameError",
     "evalue": "name 'l1' is not defined",
     "output_type": "error",
     "traceback": [
      "\u001b[1;31m---------------------------------------------------------------------------\u001b[0m",
      "\u001b[1;31mNameError\u001b[0m                                 Traceback (most recent call last)",
      "Cell \u001b[1;32mIn[104], line 1\u001b[0m\n\u001b[1;32m----> 1\u001b[0m \u001b[38;5;28mprint\u001b[39m(l1)\n",
      "\u001b[1;31mNameError\u001b[0m: name 'l1' is not defined"
     ]
    }
   ],
   "source": [
    "print(l1)  #deleted the list"
   ]
  },
  {
   "cell_type": "code",
   "execution_count": 105,
   "id": "66baccb6",
   "metadata": {},
   "outputs": [
    {
     "name": "stdout",
     "output_type": "stream",
     "text": [
      "[1, 2, 3, 4, 1, 2, 3, 4]\n"
     ]
    }
   ],
   "source": [
    "l1=[1,2,3,4]\n",
    "l2=[1,2,3,4]\n",
    "\n",
    "total=l1+l2\n",
    "print(total)"
   ]
  },
  {
   "cell_type": "code",
   "execution_count": 106,
   "id": "8d2f93f5",
   "metadata": {},
   "outputs": [
    {
     "name": "stdout",
     "output_type": "stream",
     "text": [
      "[1, 2, 3, 4, 1, 2, 3, 4, 1, 2, 3, 4]\n"
     ]
    }
   ],
   "source": [
    "print(l2*3)"
   ]
  },
  {
   "cell_type": "code",
   "execution_count": 107,
   "id": "48e8cb35",
   "metadata": {},
   "outputs": [
    {
     "ename": "TypeError",
     "evalue": "unsupported operand type(s) for -: 'list' and 'list'",
     "output_type": "error",
     "traceback": [
      "\u001b[1;31m---------------------------------------------------------------------------\u001b[0m",
      "\u001b[1;31mTypeError\u001b[0m                                 Traceback (most recent call last)",
      "Cell \u001b[1;32mIn[107], line 4\u001b[0m\n\u001b[0;32m      1\u001b[0m l1\u001b[38;5;241m=\u001b[39m[\u001b[38;5;241m1\u001b[39m,\u001b[38;5;241m2\u001b[39m,\u001b[38;5;241m3\u001b[39m,\u001b[38;5;241m4\u001b[39m]\n\u001b[0;32m      2\u001b[0m l2\u001b[38;5;241m=\u001b[39m[\u001b[38;5;241m1\u001b[39m,\u001b[38;5;241m2\u001b[39m,\u001b[38;5;241m3\u001b[39m,\u001b[38;5;241m4\u001b[39m]\n\u001b[1;32m----> 4\u001b[0m total\u001b[38;5;241m=\u001b[39ml1\u001b[38;5;241m-\u001b[39ml2\n\u001b[0;32m      5\u001b[0m \u001b[38;5;28mprint\u001b[39m(total)\n",
      "\u001b[1;31mTypeError\u001b[0m: unsupported operand type(s) for -: 'list' and 'list'"
     ]
    }
   ],
   "source": [
    "l1=[1,2,3,4]\n",
    "l2=[1,2,3,4]\n",
    "\n",
    "total=l1-l2\n",
    "print(total)"
   ]
  },
  {
   "cell_type": "markdown",
   "id": "ce2d14d5",
   "metadata": {},
   "source": [
    "## list comprehensive "
   ]
  },
  {
   "cell_type": "code",
   "execution_count": 108,
   "id": "027e8d0c",
   "metadata": {},
   "outputs": [
    {
     "name": "stdout",
     "output_type": "stream",
     "text": [
      "[1, 3, 5, 7, 9]\n"
     ]
    }
   ],
   "source": [
    "#create a list using range \n",
    "\n",
    "l1=[i for i in range(1,10,2)]\n",
    "print(l1)"
   ]
  },
  {
   "cell_type": "code",
   "execution_count": 109,
   "id": "518faae4",
   "metadata": {},
   "outputs": [
    {
     "name": "stdout",
     "output_type": "stream",
     "text": [
      "[1, 2, 3, 4, 5, 6, 7, 8, 9, 10]\n"
     ]
    }
   ],
   "source": [
    "l1=[i for i in range(1,11)]\n",
    "print(l1)"
   ]
  },
  {
   "cell_type": "code",
   "execution_count": 110,
   "id": "952fa01f",
   "metadata": {},
   "outputs": [
    {
     "name": "stdout",
     "output_type": "stream",
     "text": [
      "[0, 1, 2, 3, 4, 5, 6, 7, 8, 9]\n"
     ]
    }
   ],
   "source": [
    "l1=[i for i in range(10)]\n",
    "print(l1)"
   ]
  },
  {
   "cell_type": "code",
   "execution_count": 111,
   "id": "fcc7ee3a",
   "metadata": {},
   "outputs": [
    {
     "name": "stdout",
     "output_type": "stream",
     "text": [
      "['w', 'e', 'l', 'c', 'o', 'm', 'e', ' ', 't', 'o', ' ', 'p', 'y', 't', 'h', 'o', 'n']\n"
     ]
    }
   ],
   "source": [
    "a=\"welcome to python\"\n",
    "l1=[x for x in a]\n",
    "print(l1)"
   ]
  },
  {
   "cell_type": "code",
   "execution_count": 112,
   "id": "f496f906",
   "metadata": {},
   "outputs": [
    {
     "name": "stdout",
     "output_type": "stream",
     "text": [
      "[0, 1, 4, 9, 16, 25, 36, 49, 64, 81]\n"
     ]
    }
   ],
   "source": [
    "l1=[x**2 for x in range(10)]\n",
    "print(l1)"
   ]
  },
  {
   "cell_type": "code",
   "execution_count": 114,
   "id": "19126e2a",
   "metadata": {},
   "outputs": [
    {
     "name": "stdout",
     "output_type": "stream",
     "text": [
      "[1, 3, 5, 7, 9, 11, 13, 15, 17, 19]\n"
     ]
    }
   ],
   "source": [
    "#odd numbers using if \n",
    "my_list=[x for x in range(1,21) if x%2==1]\n",
    "print(my_list)"
   ]
  },
  {
   "cell_type": "code",
   "execution_count": 115,
   "id": "88e20151",
   "metadata": {},
   "outputs": [
    {
     "name": "stdout",
     "output_type": "stream",
     "text": [
      "[2, 4, 6, 8, 10, 12, 14, 16, 18, 20]\n"
     ]
    }
   ],
   "source": [
    "#even numbers using if \n",
    "my_list=[x for x in range(1,21) if x%2==0]\n",
    "print(my_list)"
   ]
  },
  {
   "cell_type": "code",
   "execution_count": 117,
   "id": "4bc377fd",
   "metadata": {},
   "outputs": [
    {
     "name": "stdout",
     "output_type": "stream",
     "text": [
      "[21, 45, 67, 89, 98, 34, 21, 87, 23]\n",
      "[13, 15, 12, 11, 16]\n"
     ]
    }
   ],
   "source": [
    "l1=[21,45,67,89,13,15,12,11,98,34,21,16,87,23]\n",
    "\n",
    "l2=[x for x in l1 if x>=18]\n",
    "print(l2)\n",
    "l3=[x for x in l1 if x<18]\n",
    "print(l3)"
   ]
  },
  {
   "cell_type": "code",
   "execution_count": 119,
   "id": "8581f860",
   "metadata": {},
   "outputs": [
    {
     "name": "stdout",
     "output_type": "stream",
     "text": [
      "['python program', 'python langauge', 'python script', 'java program', 'java langauge', 'java script', 'cpp program', 'cpp langauge', 'cpp script']\n"
     ]
    }
   ],
   "source": [
    "l3=[x+y for x in [\"python \",\"java \",\"cpp \"] for y in [\"program\",'langauge',\"script\"]]\n",
    "print(l3)"
   ]
  },
  {
   "cell_type": "code",
   "execution_count": 120,
   "id": "ac895258",
   "metadata": {},
   "outputs": [
    {
     "name": "stdout",
     "output_type": "stream",
     "text": [
      "['python ', 'python python ', 'python python python ', 'java ', 'java java ', 'java java java ', 'cpp ', 'cpp cpp ', 'cpp cpp cpp ']\n"
     ]
    }
   ],
   "source": [
    "l3=[x*y for x in [\"python \",\"java \",\"cpp \"] for y in [1,2,3]]\n",
    "print(l3)"
   ]
  },
  {
   "cell_type": "code",
   "execution_count": 121,
   "id": "75b1f246",
   "metadata": {},
   "outputs": [
    {
     "ename": "TypeError",
     "evalue": "can only concatenate str (not \"int\") to str",
     "output_type": "error",
     "traceback": [
      "\u001b[1;31m---------------------------------------------------------------------------\u001b[0m",
      "\u001b[1;31mTypeError\u001b[0m                                 Traceback (most recent call last)",
      "Cell \u001b[1;32mIn[121], line 1\u001b[0m\n\u001b[1;32m----> 1\u001b[0m l3\u001b[38;5;241m=\u001b[39m[x\u001b[38;5;241m+\u001b[39my \u001b[38;5;28;01mfor\u001b[39;00m x \u001b[38;5;129;01min\u001b[39;00m [\u001b[38;5;124m\"\u001b[39m\u001b[38;5;124mpython \u001b[39m\u001b[38;5;124m\"\u001b[39m,\u001b[38;5;124m\"\u001b[39m\u001b[38;5;124mjava \u001b[39m\u001b[38;5;124m\"\u001b[39m,\u001b[38;5;124m\"\u001b[39m\u001b[38;5;124mcpp \u001b[39m\u001b[38;5;124m\"\u001b[39m] \u001b[38;5;28;01mfor\u001b[39;00m y \u001b[38;5;129;01min\u001b[39;00m [\u001b[38;5;241m1\u001b[39m,\u001b[38;5;241m2\u001b[39m,\u001b[38;5;241m3\u001b[39m]]\n\u001b[0;32m      2\u001b[0m \u001b[38;5;28mprint\u001b[39m(l3)\n",
      "Cell \u001b[1;32mIn[121], line 1\u001b[0m, in \u001b[0;36m<listcomp>\u001b[1;34m(.0)\u001b[0m\n\u001b[1;32m----> 1\u001b[0m l3\u001b[38;5;241m=\u001b[39m[x\u001b[38;5;241m+\u001b[39my \u001b[38;5;28;01mfor\u001b[39;00m x \u001b[38;5;129;01min\u001b[39;00m [\u001b[38;5;124m\"\u001b[39m\u001b[38;5;124mpython \u001b[39m\u001b[38;5;124m\"\u001b[39m,\u001b[38;5;124m\"\u001b[39m\u001b[38;5;124mjava \u001b[39m\u001b[38;5;124m\"\u001b[39m,\u001b[38;5;124m\"\u001b[39m\u001b[38;5;124mcpp \u001b[39m\u001b[38;5;124m\"\u001b[39m] \u001b[38;5;28;01mfor\u001b[39;00m y \u001b[38;5;129;01min\u001b[39;00m [\u001b[38;5;241m1\u001b[39m,\u001b[38;5;241m2\u001b[39m,\u001b[38;5;241m3\u001b[39m]]\n\u001b[0;32m      2\u001b[0m \u001b[38;5;28mprint\u001b[39m(l3)\n",
      "\u001b[1;31mTypeError\u001b[0m: can only concatenate str (not \"int\") to str"
     ]
    }
   ],
   "source": [
    "#cannot possible to add str and int x is string and y is int of list\n",
    "l3=[x+y for x in [\"python \",\"java \",\"cpp \"] for y in [1,2,3]]\n",
    "print(l3)"
   ]
  },
  {
   "cell_type": "markdown",
   "id": "bb19f465",
   "metadata": {},
   "source": [
    "## membership and iteration in list "
   ]
  },
  {
   "cell_type": "code",
   "execution_count": 122,
   "id": "c46b7c84",
   "metadata": {},
   "outputs": [
    {
     "name": "stdout",
     "output_type": "stream",
     "text": [
      "False\n",
      "True\n"
     ]
    }
   ],
   "source": [
    "l1=[21,23,24,54,67,55]\n",
    "print(25 in l1)\n",
    "print(99 not in l1)"
   ]
  },
  {
   "cell_type": "code",
   "execution_count": 123,
   "id": "7641a6d8",
   "metadata": {},
   "outputs": [
    {
     "name": "stdout",
     "output_type": "stream",
     "text": [
      "i like  apple\n",
      "i like  banana\n",
      "i like  cherry\n",
      "i like  dragon\n"
     ]
    }
   ],
   "source": [
    "fruits =[\"apple\",\"banana\",\"cherry\",\"dragon\"]\n",
    "\n",
    "for fruit in fruits:\n",
    "    print(\"i like \",fruit)\n"
   ]
  },
  {
   "cell_type": "markdown",
   "id": "e42279a7",
   "metadata": {},
   "source": [
    "## collection of collections\n",
    "\n",
    "list of lists"
   ]
  },
  {
   "cell_type": "code",
   "execution_count": 127,
   "id": "404ad532",
   "metadata": {},
   "outputs": [
    {
     "name": "stdout",
     "output_type": "stream",
     "text": [
      "[[1, 2, 3], [4, 5, 6], [7, 8, 9]]\n",
      "<class 'list'>\n",
      "[1, 2, 3]\n",
      "<class 'list'>\n"
     ]
    }
   ],
   "source": [
    "a=[1,2,3]\n",
    "b=[4,5,6]\n",
    "c=[7,8,9]\n",
    "\n",
    "l1=[a,b,c]\n",
    "print(l1)\n",
    "print(type(l1))\n",
    "print(l1[0])\n",
    "print(type(l1[0]))"
   ]
  },
  {
   "cell_type": "code",
   "execution_count": 132,
   "id": "bfaa8794",
   "metadata": {},
   "outputs": [
    {
     "name": "stdout",
     "output_type": "stream",
     "text": [
      "[[1, 2, 3], [4, 5, 6], [7, 8, 9]]\n",
      "\n",
      "\n",
      "\n",
      "[12, 13, 14, 15]\n",
      "[16, 17, 18, 19]\n",
      "[20, 21, 22, 23]\n",
      "\n",
      "\n",
      "\n",
      "12\n",
      "13\n",
      "14\n",
      "15\n",
      "16\n",
      "17\n",
      "18\n",
      "19\n",
      "20\n",
      "21\n",
      "22\n",
      "23\n"
     ]
    }
   ],
   "source": [
    "list1=[[12,13,14,15],[16,17,18,19],[20,21,22,23]]\n",
    "print(l1)\n",
    "\n",
    "print(\"\\n\\n\")\n",
    "for inner in list1:\n",
    "    print(inner)\n",
    "    \n",
    "print(\"\\n\\n\")\n",
    "for inner in list1:\n",
    "    for inner2 in inner:\n",
    "        print(inner2)"
   ]
  },
  {
   "cell_type": "markdown",
   "id": "6938f25b",
   "metadata": {},
   "source": [
    "## slicing and indexing"
   ]
  },
  {
   "cell_type": "code",
   "execution_count": 133,
   "id": "880b3790",
   "metadata": {},
   "outputs": [
    {
     "name": "stdout",
     "output_type": "stream",
     "text": [
      "[23, 13, 44, 15]\n"
     ]
    }
   ],
   "source": [
    "list1=[[23,13,44,15],[81,17,54,19],[20,29,72,23]]\n",
    "\n",
    "print(list1[0])"
   ]
  },
  {
   "cell_type": "code",
   "execution_count": 134,
   "id": "2ea955b2",
   "metadata": {},
   "outputs": [
    {
     "name": "stdout",
     "output_type": "stream",
     "text": [
      "23\n"
     ]
    }
   ],
   "source": [
    "print(list1[0][0])"
   ]
  },
  {
   "cell_type": "code",
   "execution_count": 138,
   "id": "440d95ad",
   "metadata": {},
   "outputs": [
    {
     "name": "stdout",
     "output_type": "stream",
     "text": [
      "[[23, 13, 44, 15], [81, 17, 54, 19], [20, 29, 72, 23]]\n"
     ]
    }
   ],
   "source": [
    "print(list1)"
   ]
  },
  {
   "cell_type": "code",
   "execution_count": 141,
   "id": "a22b33c7",
   "metadata": {},
   "outputs": [
    {
     "name": "stdout",
     "output_type": "stream",
     "text": [
      "[[23, 13, 44, 15], [81, 17, 54, 19]]\n"
     ]
    }
   ],
   "source": [
    "print(list1[0:2][::])"
   ]
  },
  {
   "cell_type": "code",
   "execution_count": 146,
   "id": "782768ec",
   "metadata": {},
   "outputs": [
    {
     "name": "stdout",
     "output_type": "stream",
     "text": [
      "44\n"
     ]
    }
   ],
   "source": [
    "print(list1[0:2][0][2])"
   ]
  },
  {
   "cell_type": "markdown",
   "id": "48d16665",
   "metadata": {},
   "source": [
    "## sorting "
   ]
  },
  {
   "cell_type": "code",
   "execution_count": 147,
   "id": "7fc16813",
   "metadata": {},
   "outputs": [
    {
     "name": "stdout",
     "output_type": "stream",
     "text": [
      "[[23, 13, 44, 15], [81, 17, 54, 19], [20, 29, 72, 23]]\n"
     ]
    }
   ],
   "source": [
    "list1=[[23,13,44,15],[81,17,54,19],[20,29,72,23]]\n",
    "print(list1)"
   ]
  },
  {
   "cell_type": "code",
   "execution_count": 148,
   "id": "ac0edfbb",
   "metadata": {},
   "outputs": [
    {
     "name": "stdout",
     "output_type": "stream",
     "text": [
      "the sorted list \n",
      "[[20, 29, 72, 23], [23, 13, 44, 15], [81, 17, 54, 19]]\n"
     ]
    }
   ],
   "source": [
    "sorted_list=sorted(list1,key=lambda x : x[0])\n",
    "print(\"the sorted list \")\n",
    "print(sorted_list)"
   ]
  },
  {
   "cell_type": "code",
   "execution_count": 149,
   "id": "4551214d",
   "metadata": {},
   "outputs": [
    {
     "name": "stdout",
     "output_type": "stream",
     "text": [
      "the sorted list \n",
      "[[23, 13, 44, 15], [81, 17, 54, 19], [20, 29, 72, 23]]\n"
     ]
    }
   ],
   "source": [
    "sorted_list=sorted(list1,key=lambda x : x[1])\n",
    "print(\"the sorted list \")\n",
    "print(sorted_list)"
   ]
  },
  {
   "cell_type": "code",
   "execution_count": 150,
   "id": "fd25b857",
   "metadata": {},
   "outputs": [
    {
     "data": {
      "text/plain": [
       "[23, 13, 44, 15, 81, 17, 54, 19, 20, 29, 72, 23]"
      ]
     },
     "execution_count": 150,
     "metadata": {},
     "output_type": "execute_result"
    }
   ],
   "source": [
    "list1=[[23,13,44,15],[81,17,54,19],[20,29,72,23]]\n",
    "flattened_list = [item for sublist in list1 for item in sublist]\n",
    "flattened_list"
   ]
  },
  {
   "cell_type": "code",
   "execution_count": null,
   "id": "804040c8",
   "metadata": {},
   "outputs": [],
   "source": []
  }
 ],
 "metadata": {
  "kernelspec": {
   "display_name": "Python 3 (ipykernel)",
   "language": "python",
   "name": "python3"
  },
  "language_info": {
   "codemirror_mode": {
    "name": "ipython",
    "version": 3
   },
   "file_extension": ".py",
   "mimetype": "text/x-python",
   "name": "python",
   "nbconvert_exporter": "python",
   "pygments_lexer": "ipython3",
   "version": "3.11.5"
  }
 },
 "nbformat": 4,
 "nbformat_minor": 5
}
