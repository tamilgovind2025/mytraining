{
 "cells": [
  {
   "cell_type": "code",
   "execution_count": null,
   "id": "62e277bd",
   "metadata": {},
   "outputs": [],
   "source": [
    "intro=\"\"\"\n",
    "A dictionary in Python is a mutable, unordered collection of key-value pairs. It's also known as an \n",
    "associative array or hash table in other programming languages. \n",
    "Each key in a dictionary must be unique, and it maps to a corresponding value. \n",
    "Keys must be of an immutable data type such as strings, numbers, or tuples, while values can be of any\n",
    "data type, including lists, tuples, sets, or  even other dictionaries.\n",
    "\n",
    "\"\"\""
   ]
  },
  {
   "cell_type": "code",
   "execution_count": 2,
   "id": "3e674bb1",
   "metadata": {},
   "outputs": [
    {
     "name": "stdout",
     "output_type": "stream",
     "text": [
      "{}\n",
      "<class 'dict'>\n",
      "{}\n",
      "<class 'dict'>\n"
     ]
    }
   ],
   "source": [
    "#empty dict \n",
    "\n",
    "a={}\n",
    "print(a)\n",
    "print(type(a))\n",
    "\n",
    "#alterway \n",
    "\n",
    "b=dict()\n",
    "print(b)\n",
    "print(type(b))"
   ]
  },
  {
   "cell_type": "code",
   "execution_count": 6,
   "id": "bdb5b786",
   "metadata": {},
   "outputs": [
    {
     "name": "stdout",
     "output_type": "stream",
     "text": [
      "{'name': 'govind', 'age': 34, 'city': 'chennai', 'idno': 1146}\n"
     ]
    }
   ],
   "source": [
    "#create a dict \n",
    "\n",
    "mydict1={\n",
    "    \"name\":\"govind\",\n",
    "    \"age\":34,\n",
    "    \"city\":\"chennai\",\n",
    "    \"idno\":1146,\n",
    "}\n",
    "\n",
    "print(mydict1)"
   ]
  },
  {
   "cell_type": "code",
   "execution_count": 7,
   "id": "9f139105",
   "metadata": {},
   "outputs": [
    {
     "data": {
      "text/plain": [
       "{'name': 'govind', 'age': 25, 'city': 'chennai', 'idno': 1146}"
      ]
     },
     "execution_count": 7,
     "metadata": {},
     "output_type": "execute_result"
    }
   ],
   "source": [
    "mydict1[\"age\"]=25\n",
    "mydict1"
   ]
  },
  {
   "cell_type": "code",
   "execution_count": 8,
   "id": "bfd22605",
   "metadata": {},
   "outputs": [
    {
     "data": {
      "text/plain": [
       "{'name': 'govind', 'age': 25, 'city': 'chennai', 'idno': 1146}"
      ]
     },
     "execution_count": 8,
     "metadata": {},
     "output_type": "execute_result"
    }
   ],
   "source": [
    "#methods \n",
    "mydict2=mydict1.copy()\n",
    "mydict2"
   ]
  },
  {
   "cell_type": "code",
   "execution_count": 9,
   "id": "809850b0",
   "metadata": {},
   "outputs": [
    {
     "data": {
      "text/plain": [
       "{}"
      ]
     },
     "execution_count": 9,
     "metadata": {},
     "output_type": "execute_result"
    }
   ],
   "source": [
    "mydict2.clear()\n",
    "mydict2"
   ]
  },
  {
   "cell_type": "code",
   "execution_count": 10,
   "id": "227a2312",
   "metadata": {},
   "outputs": [
    {
     "name": "stdout",
     "output_type": "stream",
     "text": [
      "dict_keys(['name', 'age', 'city', 'idno'])\n"
     ]
    }
   ],
   "source": [
    "print(mydict1.keys())"
   ]
  },
  {
   "cell_type": "code",
   "execution_count": 11,
   "id": "319439f5",
   "metadata": {},
   "outputs": [
    {
     "name": "stdout",
     "output_type": "stream",
     "text": [
      "dict_values(['govind', 25, 'chennai', 1146])\n"
     ]
    }
   ],
   "source": [
    "print(mydict1.values())"
   ]
  },
  {
   "cell_type": "code",
   "execution_count": 12,
   "id": "ae24656f",
   "metadata": {},
   "outputs": [
    {
     "name": "stdout",
     "output_type": "stream",
     "text": [
      "dict_items([('name', 'govind'), ('age', 25), ('city', 'chennai'), ('idno', 1146)])\n"
     ]
    }
   ],
   "source": [
    "print(mydict1.items())"
   ]
  },
  {
   "cell_type": "code",
   "execution_count": 13,
   "id": "5f6e2485",
   "metadata": {},
   "outputs": [
    {
     "data": {
      "text/plain": [
       "'govind'"
      ]
     },
     "execution_count": 13,
     "metadata": {},
     "output_type": "execute_result"
    }
   ],
   "source": [
    "mydict1.get(\"name\")"
   ]
  },
  {
   "cell_type": "code",
   "execution_count": 16,
   "id": "8cd773cf",
   "metadata": {},
   "outputs": [
    {
     "data": {
      "text/plain": [
       "{'name': 'govind', 'age': 25, 'city': 'chennai'}"
      ]
     },
     "execution_count": 16,
     "metadata": {},
     "output_type": "execute_result"
    }
   ],
   "source": [
    "mydict1.pop(\"idno\")\n",
    "mydict1"
   ]
  },
  {
   "cell_type": "code",
   "execution_count": 17,
   "id": "20d06d7c",
   "metadata": {},
   "outputs": [
    {
     "data": {
      "text/plain": [
       "{'name': 'govind', 'city': 'chennai'}"
      ]
     },
     "execution_count": 17,
     "metadata": {},
     "output_type": "execute_result"
    }
   ],
   "source": [
    "mydict1.pop(\"age\")\n",
    "mydict1"
   ]
  },
  {
   "cell_type": "code",
   "execution_count": 1,
   "id": "bb3c9def",
   "metadata": {},
   "outputs": [
    {
     "name": "stdout",
     "output_type": "stream",
     "text": [
      "{'name': 'govind', 'age': 34, 'city': 'chennai', 'idno': 1146}\n"
     ]
    }
   ],
   "source": [
    "#create a dict \n",
    "\n",
    "mydict1={\n",
    "    \"name\":\"govind\",\n",
    "    \"age\":34,\n",
    "    \"city\":\"chennai\",\n",
    "    \"idno\":1146,\n",
    "}\n",
    "\n",
    "print(mydict1)"
   ]
  },
  {
   "cell_type": "code",
   "execution_count": 7,
   "id": "fdd4b48f",
   "metadata": {},
   "outputs": [
    {
     "name": "stdout",
     "output_type": "stream",
     "text": [
      "{'name': None}\n"
     ]
    }
   ],
   "source": [
    "mydict1 = dict.fromkeys([\"name\"])\n",
    "\n",
    "print(mydict1)\n"
   ]
  },
  {
   "cell_type": "code",
   "execution_count": 9,
   "id": "3eaae025",
   "metadata": {},
   "outputs": [
    {
     "name": "stdout",
     "output_type": "stream",
     "text": [
      "{'name': 'govind', 'age': 34, 'city': 'chennai', 'idno': 1146}\n",
      "{'name': 'govind', 'age': 34, 'city': 'chennai'}\n"
     ]
    }
   ],
   "source": [
    "#popitem()\n",
    "\n",
    "#create a dict \n",
    "\n",
    "mydict1={\n",
    "    \"name\":\"govind\",\n",
    "    \"age\":34,\n",
    "    \"city\":\"chennai\",\n",
    "    \"idno\":1146,\n",
    "}\n",
    "\n",
    "print(mydict1)\n",
    "mydict1.popitem()\n",
    "print(mydict1)"
   ]
  },
  {
   "cell_type": "code",
   "execution_count": 10,
   "id": "72aebf71",
   "metadata": {},
   "outputs": [
    {
     "name": "stdout",
     "output_type": "stream",
     "text": [
      "{'name': 'govind', 'age': 34}\n"
     ]
    }
   ],
   "source": [
    "mydict1.popitem()\n",
    "print(mydict1)"
   ]
  },
  {
   "cell_type": "code",
   "execution_count": 11,
   "id": "b24cb3c3",
   "metadata": {},
   "outputs": [
    {
     "ename": "TypeError",
     "evalue": "dict.popitem() takes no arguments (1 given)",
     "output_type": "error",
     "traceback": [
      "\u001b[1;31m---------------------------------------------------------------------------\u001b[0m",
      "\u001b[1;31mTypeError\u001b[0m                                 Traceback (most recent call last)",
      "Cell \u001b[1;32mIn[11], line 1\u001b[0m\n\u001b[1;32m----> 1\u001b[0m mydict1\u001b[38;5;241m.\u001b[39mpopitem(\u001b[38;5;124m\"\u001b[39m\u001b[38;5;124mname\u001b[39m\u001b[38;5;124m\"\u001b[39m)\n\u001b[0;32m      2\u001b[0m \u001b[38;5;28mprint\u001b[39m(mydict1)\n",
      "\u001b[1;31mTypeError\u001b[0m: dict.popitem() takes no arguments (1 given)"
     ]
    }
   ],
   "source": [
    "#\n",
    "mydict1.popitem(\"name\")# it will not take arguments where as pop takes arguments\n",
    "print(mydict1)"
   ]
  },
  {
   "cell_type": "code",
   "execution_count": 12,
   "id": "225339bc",
   "metadata": {},
   "outputs": [
    {
     "name": "stdout",
     "output_type": "stream",
     "text": [
      "{'name': 'govind', 'age': 34, 'city': 'chennai', 'idno': 1146}\n"
     ]
    }
   ],
   "source": [
    "#create a dict \n",
    "\n",
    "mydict1={\n",
    "    \"name\":\"govind\",\n",
    "    \"age\":34,\n",
    "    \"city\":\"chennai\",\n",
    "    \"idno\":1146,\n",
    "}\n",
    "\n",
    "print(mydict1)\n"
   ]
  },
  {
   "cell_type": "code",
   "execution_count": 20,
   "id": "8cabcef9",
   "metadata": {},
   "outputs": [
    {
     "name": "stdout",
     "output_type": "stream",
     "text": [
      "{'name': [10], 'age': [10], 'city': [10]}\n"
     ]
    }
   ],
   "source": [
    "# Create an empty dictionary\n",
    "mydict = {}\n",
    "\n",
    "# Initialize dictionary keys using dict.fromkeys()\n",
    "mydict.update(dict.fromkeys([\"name\", \"age\", \"city\"],[10]))\n",
    "\n",
    "# Print the initialized dictionary\n",
    "print(mydict)"
   ]
  },
  {
   "cell_type": "code",
   "execution_count": 22,
   "id": "c82cb892",
   "metadata": {},
   "outputs": [
    {
     "name": "stdout",
     "output_type": "stream",
     "text": [
      "{'name': None, 'age': None, 'city': None}\n"
     ]
    }
   ],
   "source": [
    "# Create an empty dictionary\n",
    "mydict = {}\n",
    "\n",
    "# Initialize dictionary keys using dict.fromkeys()\n",
    "mydict.update(dict.fromkeys([\"name\", \"age\", \"city\"]))\n",
    "\n",
    "# Print the initialized dictionary\n",
    "print(mydict)"
   ]
  },
  {
   "cell_type": "code",
   "execution_count": 15,
   "id": "1d7ee00a",
   "metadata": {},
   "outputs": [
    {
     "name": "stdout",
     "output_type": "stream",
     "text": [
      "{'name': None, 'age': None, 'city': None}\n"
     ]
    },
    {
     "ename": "NameError",
     "evalue": "name 'mydict' is not defined",
     "output_type": "error",
     "traceback": [
      "\u001b[1;31m---------------------------------------------------------------------------\u001b[0m",
      "\u001b[1;31mNameError\u001b[0m                                 Traceback (most recent call last)",
      "Cell \u001b[1;32mIn[15], line 5\u001b[0m\n\u001b[0;32m      3\u001b[0m \u001b[38;5;28mprint\u001b[39m(mydict)\n\u001b[0;32m      4\u001b[0m \u001b[38;5;28;01mdel\u001b[39;00m mydict\n\u001b[1;32m----> 5\u001b[0m \u001b[38;5;28mprint\u001b[39m(mydict)\n",
      "\u001b[1;31mNameError\u001b[0m: name 'mydict' is not defined"
     ]
    }
   ],
   "source": [
    "#del a dict \n",
    "#for remove element in dict we use pop,popitem, clear can use \n",
    "#pop takes arguments, popitem cannot take arguments, arbitary it can take\n",
    "\n",
    "print(mydict)\n",
    "del mydict #mydict deleted now\n",
    "print(mydict)"
   ]
  },
  {
   "cell_type": "markdown",
   "id": "0de2f62d",
   "metadata": {},
   "source": [
    "## functions in dict"
   ]
  },
  {
   "cell_type": "code",
   "execution_count": 26,
   "id": "5d95ed6d",
   "metadata": {},
   "outputs": [
    {
     "name": "stdout",
     "output_type": "stream",
     "text": [
      "{'name': 'govind', 'age': 34, 'city': 'chennai', 'idno': 1146}\n",
      "True\n",
      "True\n",
      "True\n",
      "False\n"
     ]
    }
   ],
   "source": [
    "#all(),any\\(),len(),cmp(),sorted()\n",
    "\n",
    "#create a dict \n",
    "\n",
    "mydict1={\n",
    "    \"name\":\"govind\",\n",
    "    \"age\":34,\n",
    "    \"city\":\"chennai\",\n",
    "    \"idno\":1146,\n",
    "}\n",
    "\n",
    "mydict2={}\n",
    "\n",
    "#all() returns true if all keys of dict are true and if dict is empty \n",
    "\n",
    "print(mydict1)\n",
    "print(all(mydict1))\n",
    "print(all(mydict2))\n",
    "\n",
    "#any() #true if value are there, return false if empty\n",
    "print(any(mydict1))\n",
    "print(any(mydict2))"
   ]
  },
  {
   "cell_type": "code",
   "execution_count": 27,
   "id": "ea6c6b44",
   "metadata": {},
   "outputs": [],
   "source": [
    "mydict1={\n",
    "    \"name\":\"govind\",\n",
    "    \"age\":34,\n",
    "    \"city\":\"chennai\",\n",
    "    \"idno\":21,\n",
    "}"
   ]
  },
  {
   "cell_type": "code",
   "execution_count": 28,
   "id": "d513a119",
   "metadata": {},
   "outputs": [
    {
     "name": "stdout",
     "output_type": "stream",
     "text": [
      "4\n"
     ]
    }
   ],
   "source": [
    "#len()\n",
    "dict_len=len(mydict1)\n",
    "print(dict_len)"
   ]
  },
  {
   "cell_type": "code",
   "execution_count": 35,
   "id": "7b7e270e",
   "metadata": {},
   "outputs": [],
   "source": [
    "mydict1={\n",
    "    \"name\":\"govind\",\n",
    "    \"age\":34,\n",
    "    \"city\":\"chennai\",\n",
    "    \"idno\":21,\n",
    "}\n",
    "\n",
    "mydict2={\n",
    "    \"name\":\"govind\",\n",
    "    \"age\":34,\n",
    "    \"city\":\"chennai\",\n",
    "}\n"
   ]
  },
  {
   "cell_type": "code",
   "execution_count": 31,
   "id": "8efa0433",
   "metadata": {},
   "outputs": [
    {
     "data": {
      "text/plain": [
       "['age', 'city', 'idno', 'name']"
      ]
     },
     "execution_count": 31,
     "metadata": {},
     "output_type": "execute_result"
    }
   ],
   "source": [
    "mydict1={\n",
    "    \"name\":\"govind\",\n",
    "    \"age\":34,\n",
    "    \"city\":\"chennai\",\n",
    "    \"idno\":21,\n",
    "}\n",
    "\n",
    "mydict2={\n",
    "    \"name\":\"govind\",\n",
    "    \"age\":34,\n",
    "    \"city\":\"chennai\",\n",
    "}\n",
    "\n",
    "c=sorted(mydict1)\n",
    "c"
   ]
  },
  {
   "cell_type": "code",
   "execution_count": 37,
   "id": "ec268e4c",
   "metadata": {},
   "outputs": [
    {
     "name": "stdout",
     "output_type": "stream",
     "text": [
      "{1: 2, 2: 4, 3: 6, 4: 8, 5: 10, 6: 12, 7: 14, 8: 16, 9: 18, 10: 20}\n"
     ]
    }
   ],
   "source": [
    "#dict comprehensions \n",
    "\n",
    "dict1={x:x*2 for x in range(1,11)}\n",
    "print(dict1)"
   ]
  },
  {
   "cell_type": "code",
   "execution_count": null,
   "id": "6b676c57",
   "metadata": {},
   "outputs": [],
   "source": []
  }
 ],
 "metadata": {
  "kernelspec": {
   "display_name": "Python 3 (ipykernel)",
   "language": "python",
   "name": "python3"
  },
  "language_info": {
   "codemirror_mode": {
    "name": "ipython",
    "version": 3
   },
   "file_extension": ".py",
   "mimetype": "text/x-python",
   "name": "python",
   "nbconvert_exporter": "python",
   "pygments_lexer": "ipython3",
   "version": "3.11.5"
  }
 },
 "nbformat": 4,
 "nbformat_minor": 5
}
