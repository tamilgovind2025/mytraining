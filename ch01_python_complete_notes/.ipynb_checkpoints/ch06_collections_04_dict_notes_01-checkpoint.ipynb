{
 "cells": [
  {
   "cell_type": "code",
   "execution_count": null,
   "id": "62e277bd",
   "metadata": {},
   "outputs": [],
   "source": [
    "intro=\"\"\"\n",
    "A dictionary in Python is a mutable, unordered collection of key-value pairs. It's also known as an associative array or hash table in other programming languages. Each key in a dictionary must be unique, and it maps to a corresponding value. Keys must be of an immutable data type such as strings, numbers, or tuples, while values can be of any data type, including lists, tuples, sets, or \n",
    "even other dictionaries.\n",
    "\n",
    "\"\"\""
   ]
  },
  {
   "cell_type": "code",
   "execution_count": 2,
   "id": "3e674bb1",
   "metadata": {},
   "outputs": [
    {
     "name": "stdout",
     "output_type": "stream",
     "text": [
      "{}\n",
      "<class 'dict'>\n",
      "{}\n",
      "<class 'dict'>\n"
     ]
    }
   ],
   "source": [
    "#empty dict \n",
    "\n",
    "a={}\n",
    "print(a)\n",
    "print(type(a))\n",
    "\n",
    "#alterway \n",
    "\n",
    "b=dict()\n",
    "print(b)\n",
    "print(type(b))"
   ]
  },
  {
   "cell_type": "code",
   "execution_count": 6,
   "id": "bdb5b786",
   "metadata": {},
   "outputs": [
    {
     "name": "stdout",
     "output_type": "stream",
     "text": [
      "{'name': 'govind', 'age': 34, 'city': 'chennai', 'idno': 1146}\n"
     ]
    }
   ],
   "source": [
    "#create a dict \n",
    "\n",
    "mydict1={\n",
    "    \"name\":\"govind\",\n",
    "    \"age\":34,\n",
    "    \"city\":\"chennai\",\n",
    "    \"idno\":1146,\n",
    "}\n",
    "\n",
    "print(mydict1)"
   ]
  },
  {
   "cell_type": "code",
   "execution_count": 7,
   "id": "9f139105",
   "metadata": {},
   "outputs": [
    {
     "data": {
      "text/plain": [
       "{'name': 'govind', 'age': 25, 'city': 'chennai', 'idno': 1146}"
      ]
     },
     "execution_count": 7,
     "metadata": {},
     "output_type": "execute_result"
    }
   ],
   "source": [
    "mydict1[\"age\"]=25\n",
    "mydict1"
   ]
  },
  {
   "cell_type": "code",
   "execution_count": 8,
   "id": "bfd22605",
   "metadata": {},
   "outputs": [
    {
     "data": {
      "text/plain": [
       "{'name': 'govind', 'age': 25, 'city': 'chennai', 'idno': 1146}"
      ]
     },
     "execution_count": 8,
     "metadata": {},
     "output_type": "execute_result"
    }
   ],
   "source": [
    "#methods \n",
    "mydict2=mydict1.copy()\n",
    "mydict2"
   ]
  },
  {
   "cell_type": "code",
   "execution_count": 9,
   "id": "809850b0",
   "metadata": {},
   "outputs": [
    {
     "data": {
      "text/plain": [
       "{}"
      ]
     },
     "execution_count": 9,
     "metadata": {},
     "output_type": "execute_result"
    }
   ],
   "source": [
    "mydict2.clear()\n",
    "mydict2"
   ]
  },
  {
   "cell_type": "code",
   "execution_count": 10,
   "id": "227a2312",
   "metadata": {},
   "outputs": [
    {
     "name": "stdout",
     "output_type": "stream",
     "text": [
      "dict_keys(['name', 'age', 'city', 'idno'])\n"
     ]
    }
   ],
   "source": [
    "print(mydict1.keys())"
   ]
  },
  {
   "cell_type": "code",
   "execution_count": 11,
   "id": "319439f5",
   "metadata": {},
   "outputs": [
    {
     "name": "stdout",
     "output_type": "stream",
     "text": [
      "dict_values(['govind', 25, 'chennai', 1146])\n"
     ]
    }
   ],
   "source": [
    "print(mydict1.values())"
   ]
  },
  {
   "cell_type": "code",
   "execution_count": 12,
   "id": "ae24656f",
   "metadata": {},
   "outputs": [
    {
     "name": "stdout",
     "output_type": "stream",
     "text": [
      "dict_items([('name', 'govind'), ('age', 25), ('city', 'chennai'), ('idno', 1146)])\n"
     ]
    }
   ],
   "source": [
    "print(mydict1.items())"
   ]
  },
  {
   "cell_type": "code",
   "execution_count": 13,
   "id": "5f6e2485",
   "metadata": {},
   "outputs": [
    {
     "data": {
      "text/plain": [
       "'govind'"
      ]
     },
     "execution_count": 13,
     "metadata": {},
     "output_type": "execute_result"
    }
   ],
   "source": [
    "mydict1.get(\"name\")"
   ]
  },
  {
   "cell_type": "code",
   "execution_count": 16,
   "id": "8cd773cf",
   "metadata": {},
   "outputs": [
    {
     "data": {
      "text/plain": [
       "{'name': 'govind', 'age': 25, 'city': 'chennai'}"
      ]
     },
     "execution_count": 16,
     "metadata": {},
     "output_type": "execute_result"
    }
   ],
   "source": [
    "mydict1.pop(\"idno\")\n",
    "mydict1"
   ]
  },
  {
   "cell_type": "code",
   "execution_count": 17,
   "id": "20d06d7c",
   "metadata": {},
   "outputs": [
    {
     "data": {
      "text/plain": [
       "{'name': 'govind', 'city': 'chennai'}"
      ]
     },
     "execution_count": 17,
     "metadata": {},
     "output_type": "execute_result"
    }
   ],
   "source": [
    "mydict1.pop(\"age\")\n",
    "mydict1"
   ]
  },
  {
   "cell_type": "code",
   "execution_count": 18,
   "id": "bb3c9def",
   "metadata": {},
   "outputs": [
    {
     "name": "stdout",
     "output_type": "stream",
     "text": [
      "{'name': 'govind', 'age': 34, 'city': 'chennai', 'idno': 1146}\n"
     ]
    }
   ],
   "source": [
    "#create a dict \n",
    "\n",
    "mydict1={\n",
    "    \"name\":\"govind\",\n",
    "    \"age\":34,\n",
    "    \"city\":\"chennai\",\n",
    "    \"idno\":1146,\n",
    "}\n",
    "\n",
    "print(mydict1)"
   ]
  },
  {
   "cell_type": "code",
   "execution_count": null,
   "id": "fdd4b48f",
   "metadata": {},
   "outputs": [],
   "source": []
  }
 ],
 "metadata": {
  "kernelspec": {
   "display_name": "Python 3 (ipykernel)",
   "language": "python",
   "name": "python3"
  },
  "language_info": {
   "codemirror_mode": {
    "name": "ipython",
    "version": 3
   },
   "file_extension": ".py",
   "mimetype": "text/x-python",
   "name": "python",
   "nbconvert_exporter": "python",
   "pygments_lexer": "ipython3",
   "version": "3.11.5"
  }
 },
 "nbformat": 4,
 "nbformat_minor": 5
}
