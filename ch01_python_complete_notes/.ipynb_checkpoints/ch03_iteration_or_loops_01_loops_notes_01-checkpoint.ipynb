{
 "cells": [
  {
   "cell_type": "markdown",
   "id": "0ca6c1ec",
   "metadata": {},
   "source": [
    "# iterations in python"
   ]
  },
  {
   "cell_type": "raw",
   "id": "8ca87e8c",
   "metadata": {},
   "source": [
    "#loops in python \n",
    "\"\"\"\n",
    "1. while loop \n",
    "2. for loop \n",
    "3. range() function \n",
    "4. while else \n",
    "5. for else \n",
    "6. break and continue in while and for loops \n",
    "\n",
    "note:\n",
    " while loop in python generally used to iterate over a block of code as long as the test condition is \n",
    " true. while loop generally used when we donot know beforehand, the number of times to iterate \n",
    " \n",
    " for loop in python generally used to iterate over a sequnce (list,tuple,string) or other iterating \n",
    " objects. iterating over a sequence is called traversal. generally we use range() functions in for \n",
    " loops. we know numbers of times to iterate.\n",
    " \n",
    " else is optional. if loop not completed else will work\n",
    " \n",
    " break used to come out of the loop and continue is use to continue the loop. generally \n",
    " associate with if condition \n",
    " \n",
    " #general  method for while loop\n",
    " start \n",
    " condition \n",
    " stop \n",
    "\n",
    "\"\"\""
   ]
  },
  {
   "cell_type": "code",
   "execution_count": 2,
   "id": "dd84c015",
   "metadata": {},
   "outputs": [
    {
     "name": "stdout",
     "output_type": "stream",
     "text": [
      "hello world  1\n",
      "hello world  2\n",
      "hello world  3\n",
      "hello world  4\n",
      "hello world  5\n",
      "hello world  6\n",
      "hello world  7\n",
      "hello world  8\n",
      "hello world  9\n",
      "hello world  10\n"
     ]
    }
   ],
   "source": [
    "#1 while loop \n",
    "i=1\n",
    "while i<=10:\n",
    "    print(\"hello world \",i)\n",
    "    i=i+1"
   ]
  },
  {
   "cell_type": "code",
   "execution_count": 3,
   "id": "198c0f6d",
   "metadata": {},
   "outputs": [
    {
     "name": "stdout",
     "output_type": "stream",
     "text": [
      "hello world  10\n",
      "hello world  9\n",
      "hello world  8\n",
      "hello world  7\n",
      "hello world  6\n",
      "hello world  5\n",
      "hello world  4\n",
      "hello world  3\n",
      "hello world  2\n",
      "hello world  1\n"
     ]
    }
   ],
   "source": [
    "i=10\n",
    "while i>=1:\n",
    "    print(\"hello world \",i)\n",
    "    i=i-1"
   ]
  },
  {
   "cell_type": "code",
   "execution_count": 4,
   "id": "460e4f2a",
   "metadata": {},
   "outputs": [
    {
     "name": "stdout",
     "output_type": "stream",
     "text": [
      "welcome to python. have a fun with loops  0\n",
      "welcome to python. have a fun with loops  1\n",
      "welcome to python. have a fun with loops  2\n",
      "welcome to python. have a fun with loops  3\n",
      "welcome to python. have a fun with loops  4\n",
      "welcome to python. have a fun with loops  5\n",
      "welcome to python. have a fun with loops  6\n",
      "welcome to python. have a fun with loops  7\n",
      "welcome to python. have a fun with loops  8\n",
      "welcome to python. have a fun with loops  9\n"
     ]
    }
   ],
   "source": [
    "#2&3 for loop with range function \n",
    "#range(start,end,step)\n",
    "for i in range(10): #start with zero\n",
    "    print(\"welcome to python. have a fun with loops \",i)"
   ]
  },
  {
   "cell_type": "code",
   "execution_count": 5,
   "id": "039c81f0",
   "metadata": {},
   "outputs": [
    {
     "name": "stdout",
     "output_type": "stream",
     "text": [
      "welcome to python. have a fun with loops  1\n",
      "welcome to python. have a fun with loops  2\n",
      "welcome to python. have a fun with loops  3\n",
      "welcome to python. have a fun with loops  4\n",
      "welcome to python. have a fun with loops  5\n",
      "welcome to python. have a fun with loops  6\n",
      "welcome to python. have a fun with loops  7\n",
      "welcome to python. have a fun with loops  8\n",
      "welcome to python. have a fun with loops  9\n"
     ]
    }
   ],
   "source": [
    "#range(start,end,step)\n",
    "for i in range(1,10):\n",
    "    print(\"welcome to python. have a fun with loops \",i)"
   ]
  },
  {
   "cell_type": "code",
   "execution_count": 6,
   "id": "1761ca85",
   "metadata": {},
   "outputs": [
    {
     "name": "stdout",
     "output_type": "stream",
     "text": [
      "welcome to python. have a fun with loops  1\n",
      "welcome to python. have a fun with loops  3\n",
      "welcome to python. have a fun with loops  5\n",
      "welcome to python. have a fun with loops  7\n",
      "welcome to python. have a fun with loops  9\n"
     ]
    }
   ],
   "source": [
    "#range(start,end,step)\n",
    "for i in range(1,10,2):\n",
    "    print(\"welcome to python. have a fun with loops \",i)"
   ]
  },
  {
   "cell_type": "code",
   "execution_count": 9,
   "id": "d0091d57",
   "metadata": {},
   "outputs": [
    {
     "name": "stdout",
     "output_type": "stream",
     "text": [
      "welcome to python. have a fun with loops  10\n",
      "welcome to python. have a fun with loops  9\n",
      "welcome to python. have a fun with loops  8\n",
      "welcome to python. have a fun with loops  7\n",
      "welcome to python. have a fun with loops  6\n",
      "welcome to python. have a fun with loops  5\n",
      "welcome to python. have a fun with loops  4\n",
      "welcome to python. have a fun with loops  3\n",
      "welcome to python. have a fun with loops  2\n",
      "welcome to python. have a fun with loops  1\n"
     ]
    }
   ],
   "source": [
    "#range(start,end,step)\n",
    "for i in range(10,0,-1):\n",
    "    print(\"welcome to python. have a fun with loops \",i)"
   ]
  },
  {
   "cell_type": "code",
   "execution_count": 10,
   "id": "e07d95a9",
   "metadata": {},
   "outputs": [
    {
     "name": "stdout",
     "output_type": "stream",
     "text": [
      "welcome to python. have a fun with loops  10\n",
      "welcome to python. have a fun with loops  8\n",
      "welcome to python. have a fun with loops  6\n",
      "welcome to python. have a fun with loops  4\n",
      "welcome to python. have a fun with loops  2\n"
     ]
    }
   ],
   "source": [
    "#range(start,end,step)\n",
    "for i in range(10,0,-2):\n",
    "    print(\"welcome to python. have a fun with loops \",i)"
   ]
  },
  {
   "cell_type": "code",
   "execution_count": 12,
   "id": "8a3ad7f9",
   "metadata": {},
   "outputs": [
    {
     "name": "stdout",
     "output_type": "stream",
     "text": [
      "hello world  1\n",
      "hello world  2\n",
      "hello world  3\n",
      "hello world  4\n",
      "hello world  5\n",
      "hello world  6\n",
      "hello world  7\n",
      "hello world  8\n",
      "hello world  9\n",
      "hello world  10\n",
      "while loop completed\n"
     ]
    }
   ],
   "source": [
    "#4 while loop with else\n",
    "i=1\n",
    "while i<=10:\n",
    "    print(\"hello world \",i)\n",
    "    i=i+1\n",
    "else:\n",
    "    print(\"while loop completed\")"
   ]
  },
  {
   "cell_type": "code",
   "execution_count": 11,
   "id": "75b9efeb",
   "metadata": {},
   "outputs": [
    {
     "name": "stdout",
     "output_type": "stream",
     "text": [
      "welcome to python. have a fun with loops  0\n",
      "welcome to python. have a fun with loops  1\n",
      "welcome to python. have a fun with loops  2\n",
      "welcome to python. have a fun with loops  3\n",
      "welcome to python. have a fun with loops  4\n",
      "welcome to python. have a fun with loops  5\n",
      "welcome to python. have a fun with loops  6\n",
      "welcome to python. have a fun with loops  7\n",
      "welcome to python. have a fun with loops  8\n",
      "welcome to python. have a fun with loops  9\n",
      "for loop completed \n"
     ]
    }
   ],
   "source": [
    "#5 for loop with else:\n",
    "#range(start,end,step)\n",
    "for i in range(10): #start with zero\n",
    "    print(\"welcome to python. have a fun with loops \",i)\n",
    "else:\n",
    "    print(\"for loop completed \")"
   ]
  },
  {
   "cell_type": "code",
   "execution_count": 13,
   "id": "f44b47cb",
   "metadata": {},
   "outputs": [
    {
     "name": "stdout",
     "output_type": "stream",
     "text": [
      "hello world  1\n",
      "hello world  2\n",
      "hello world  3\n",
      "hello world  4\n"
     ]
    }
   ],
   "source": [
    "#6 break in while loop with else\n",
    "i=1\n",
    "while i<=10:\n",
    "    print(\"hello world \",i)\n",
    "    i=i+1\n",
    "    if i==5:\n",
    "        break\n",
    "else:\n",
    "    print(\"while loop completed\")"
   ]
  },
  {
   "cell_type": "code",
   "execution_count": 16,
   "id": "865e6c3b",
   "metadata": {},
   "outputs": [
    {
     "name": "stdout",
     "output_type": "stream",
     "text": [
      "hello world  2\n",
      "hello world  3\n",
      "hello world  4\n",
      "hello world  6\n",
      "hello world  7\n",
      "hello world  8\n",
      "hello world  9\n",
      "hello world  10\n",
      "hello world  11\n",
      "while loop completed\n"
     ]
    }
   ],
   "source": [
    "#6 continue in while loop with else\n",
    "i=1\n",
    "while i<=10:\n",
    "    i=i+1\n",
    "    if i==5:\n",
    "        continue\n",
    "    else:\n",
    "        print(\"hello world \",i)\n",
    "else:\n",
    "    print(\"while loop completed\")"
   ]
  },
  {
   "cell_type": "code",
   "execution_count": 21,
   "id": "a183f244",
   "metadata": {},
   "outputs": [
    {
     "name": "stdout",
     "output_type": "stream",
     "text": [
      "welcome to python. have a fun with loops  1\n",
      "welcome to python. have a fun with loops  2\n",
      "welcome to python. have a fun with loops  3\n",
      "welcome to python. have a fun with loops  4\n",
      "welcome to python. have a fun with loops  5\n",
      "welcome to python. have a fun with loops  6\n"
     ]
    }
   ],
   "source": [
    "#6 break in for loop with else\n",
    "for i in range(1,10):   \n",
    "    if i>=7:\n",
    "        break\n",
    "    else:\n",
    "        print(\"welcome to python. have a fun with loops \",i)\n",
    "else:\n",
    "    print(\"for loop completed\")"
   ]
  },
  {
   "cell_type": "code",
   "execution_count": 22,
   "id": "b0da980d",
   "metadata": {},
   "outputs": [
    {
     "name": "stdout",
     "output_type": "stream",
     "text": [
      "welcome to python. have a fun with loops  1\n",
      "welcome to python. have a fun with loops  2\n",
      "welcome to python. have a fun with loops  3\n",
      "welcome to python. have a fun with loops  4\n",
      "welcome to python. have a fun with loops  5\n",
      "welcome to python. have a fun with loops  6\n",
      "for loop completed\n"
     ]
    }
   ],
   "source": [
    "#6 continue in for loop with else\n",
    "for i in range(1,10):\n",
    "    if i>=7:\n",
    "        continue\n",
    "    else:\n",
    "        print(\"welcome to python. have a fun with loops \",i)\n",
    "        \n",
    "else:\n",
    "    print(\"for loop completed\")"
   ]
  },
  {
   "cell_type": "code",
   "execution_count": 23,
   "id": "1668ec9a",
   "metadata": {},
   "outputs": [
    {
     "name": "stdout",
     "output_type": "stream",
     "text": [
      "22\n",
      "34\n",
      "56\n",
      "78\n",
      "43\n",
      "56\n",
      "78\n",
      "32\n"
     ]
    }
   ],
   "source": [
    "#loops to print collections \n",
    "l1=[22,34,56,78,43,56,78,32]\n",
    "\n",
    "for i in l1:\n",
    "    print(i)"
   ]
  },
  {
   "cell_type": "code",
   "execution_count": null,
   "id": "673443fd",
   "metadata": {},
   "outputs": [],
   "source": []
  }
 ],
 "metadata": {
  "kernelspec": {
   "display_name": "Python 3 (ipykernel)",
   "language": "python",
   "name": "python3"
  },
  "language_info": {
   "codemirror_mode": {
    "name": "ipython",
    "version": 3
   },
   "file_extension": ".py",
   "mimetype": "text/x-python",
   "name": "python",
   "nbconvert_exporter": "python",
   "pygments_lexer": "ipython3",
   "version": "3.11.5"
  }
 },
 "nbformat": 4,
 "nbformat_minor": 5
}
