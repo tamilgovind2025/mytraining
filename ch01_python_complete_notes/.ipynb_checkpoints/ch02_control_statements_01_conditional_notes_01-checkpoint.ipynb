{
 "cells": [
  {
   "cell_type": "markdown",
   "id": "0fcfc94c",
   "metadata": {},
   "source": [
    "# conditional statements in python "
   ]
  },
  {
   "cell_type": "raw",
   "id": "2d36d9ea",
   "metadata": {},
   "source": [
    "Conditional statements in Python are used to execute certain code blocks based on specified conditions. The main conditional statements in Python are if, elif (short for \"else if\"), and else"
   ]
  },
  {
   "cell_type": "code",
   "execution_count": 2,
   "id": "8a08d667",
   "metadata": {},
   "outputs": [
    {
     "name": "stdout",
     "output_type": "stream",
     "text": [
      "enter your age = 15\n"
     ]
    }
   ],
   "source": [
    "#1 if condition \n",
    "#else is optional \n",
    "age=int(input(\"enter your age = \"))\n",
    "\n",
    "if age>=18:\n",
    "    print(\"you are eligible for vote \")\n",
    "    "
   ]
  },
  {
   "cell_type": "code",
   "execution_count": 4,
   "id": "45c21358",
   "metadata": {},
   "outputs": [
    {
     "name": "stdout",
     "output_type": "stream",
     "text": [
      "enter your age = 15\n",
      "you are not eligible for vote \n"
     ]
    }
   ],
   "source": [
    "#if-else condition in python \n",
    "\n",
    "age=int(input(\"enter your age = \"))\n",
    "\n",
    "if age>=18:\n",
    "    print(\"you are eligible for vote \")\n",
    "else:\n",
    "    print(\"you are not eligible for vote \")"
   ]
  },
  {
   "cell_type": "code",
   "execution_count": 6,
   "id": "d68bf1dc",
   "metadata": {},
   "outputs": [
    {
     "name": "stdout",
     "output_type": "stream",
     "text": [
      "i am in first if condition \n",
      "i am in second if condition \n",
      "i am in third if condition \n",
      "i am in fourth if condition \n",
      "i am in fifth if condition \n"
     ]
    }
   ],
   "source": [
    "#multiple if condition \n",
    "i=5\n",
    "if i==5:\n",
    "    print(\"i am in first if condition \")\n",
    "if i==5:\n",
    "    print(\"i am in second if condition \")\n",
    "if i==5:\n",
    "    print(\"i am in third if condition \")\n",
    "if i==5:\n",
    "    print(\"i am in fourth if condition \")\n",
    "if i==5:\n",
    "    print(\"i am in fifth if condition \")"
   ]
  },
  {
   "cell_type": "code",
   "execution_count": 8,
   "id": "6d73ce55",
   "metadata": {},
   "outputs": [
    {
     "name": "stdout",
     "output_type": "stream",
     "text": [
      "i am in second if condition \n"
     ]
    }
   ],
   "source": [
    "#multiple if-else condition (in python elif)\n",
    "i=5\n",
    "if i==4:\n",
    "    print(\"i am in first if condition \")\n",
    "elif i==5:\n",
    "    print(\"i am in second if condition \")\n",
    "elif i==5:\n",
    "    print(\"i am in third if condition \")\n",
    "elif i==5:\n",
    "    print(\"i am in fourth if condition \")\n",
    "elif i==5:\n",
    "    print(\"i am in fifth if condition \")\n",
    "else:\n",
    "    print(\"i am in else block\")"
   ]
  },
  {
   "cell_type": "code",
   "execution_count": 12,
   "id": "9a423247",
   "metadata": {},
   "outputs": [
    {
     "name": "stdout",
     "output_type": "stream",
     "text": [
      "enter your age = 25\n",
      "you are eligible for vote \n",
      "enter your gender (male/female) = male\n",
      "go to room no 5 to vote \n"
     ]
    }
   ],
   "source": [
    "#nested if -else in python \n",
    "\n",
    "age=int(input(\"enter your age = \"))\n",
    "\n",
    "if age>=18:\n",
    "    print(\"you are eligible for vote \")\n",
    "    gender=input(\"enter your gender (male/female) = \")\n",
    "    if gender==\"male\":\n",
    "        print(\"go to room no 5 to vote \")\n",
    "    else:\n",
    "        print(\"go to room 6 to vote \")\n",
    "else:\n",
    "    print(\"you are not eligible for vote \")"
   ]
  },
  {
   "cell_type": "code",
   "execution_count": 19,
   "id": "b757977f",
   "metadata": {},
   "outputs": [
    {
     "name": "stdout",
     "output_type": "stream",
     "text": [
      "enter the married status (married or unmarried) = married\n",
      "he/she is married and eligible for insurance\n"
     ]
    }
   ],
   "source": [
    "#nested if -else in python with one more example\n",
    "\"\"\"insurance company checking eligible for insurance with following conditions \n",
    "1. if man and married eligible for insurance, man if not married age morethan 25 eligible\n",
    "2. if women married eligible for insurance, if not married and age morethan 21 eligible\n",
    "\"\"\"\n",
    "married_status=input(\"enter the married status (married or unmarried) = \")\n",
    "\n",
    "if married_status==\"married\":\n",
    "    print(\"he/she is married and eligible for insurance\")\n",
    "else:\n",
    "    gender=input(\"enter your gender (male/female) = \")\n",
    "    age =int(input(\"enter the age = \"))\n",
    "    \n",
    "    if gender=='male':\n",
    "        if age >=25:\n",
    "            print(\"you are a unmarried male eligible for insurance \")\n",
    "        else:\n",
    "            print(\"you are unmarried male not eligible for insurance \")\n",
    "    else:\n",
    "        if age>=21:\n",
    "            print(\"you are a unmarried women eligible for insurance \")\n",
    "        else:\n",
    "            print(\"you are a unmarried women not eligible for insurance \")"
   ]
  },
  {
   "cell_type": "code",
   "execution_count": 25,
   "id": "22ca9ecf",
   "metadata": {},
   "outputs": [
    {
     "name": "stdout",
     "output_type": "stream",
     "text": [
      "enter the married status (married or unmarried) = unmarried\n",
      "enter your gender (male/female) = male\n",
      "enter the age = 25\n",
      "eligible for insurance \n"
     ]
    }
   ],
   "source": [
    "#using logical operators for previous question\n",
    "\n",
    "married_status=input(\"enter the married status (married or unmarried) = \")\n",
    "gender=input(\"enter your gender (male/female) = \")\n",
    "age =int(input(\"enter the age = \"))\n",
    "\n",
    "if (married_status==\"married\") or (gender==\"male\" and age>=25) or (gender==\"female\" and age>=21):\n",
    "    print(\"eligible for insurance \")\n",
    "else:\n",
    "    print(\"not eligible for insurance\")"
   ]
  },
  {
   "cell_type": "code",
   "execution_count": null,
   "id": "4e6aea9e",
   "metadata": {},
   "outputs": [],
   "source": []
  },
  {
   "cell_type": "code",
   "execution_count": null,
   "id": "d2c570e5",
   "metadata": {},
   "outputs": [],
   "source": []
  }
 ],
 "metadata": {
  "kernelspec": {
   "display_name": "Python 3 (ipykernel)",
   "language": "python",
   "name": "python3"
  },
  "language_info": {
   "codemirror_mode": {
    "name": "ipython",
    "version": 3
   },
   "file_extension": ".py",
   "mimetype": "text/x-python",
   "name": "python",
   "nbconvert_exporter": "python",
   "pygments_lexer": "ipython3",
   "version": "3.11.5"
  }
 },
 "nbformat": 4,
 "nbformat_minor": 5
}
