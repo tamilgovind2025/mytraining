{
 "cells": [
  {
   "cell_type": "markdown",
   "id": "00b190cb",
   "metadata": {},
   "source": [
    "#  python introduction "
   ]
  },
  {
   "cell_type": "raw",
   "id": "3e0059b9",
   "metadata": {},
   "source": [
    "#introduction to language \n",
    "\n",
    "to learn any langauge ex: english \n",
    "steps:\n",
    "    1. alphabets =(a-z)\n",
    "    2. words =(cat,mat,that,put,etc)\n",
    "    3. sentence =(i am a boy / i are a boy ) i am a boy is correct because of english grammer \n",
    "    4. paragraph =(English is a global language spoken by millions of people around the world. It originated in England and has evolved over centuries through various influences from different cultures and languages. As one of the most widely spoken languages, English serves as a lingua franca in international communication, business, science, technology, and entertainment. Its widespread use has made it an essential skill for individuals seeking to connect with others globally and access a wide range of opportunities)\n",
    "    5. book \n",
    "    \n",
    "    this is general procedure for learn any langauge both human speaking and  machine speaking langauges"
   ]
  },
  {
   "cell_type": "raw",
   "id": "395075b9",
   "metadata": {},
   "source": [
    "#python language \n",
    "steps:\n",
    "    1. alphabets : alphabets(a,z),numbers(0-9),special characters(@,$,%,etc)\n",
    "    2. words : variables,operators,operands,keywords,etc,\n",
    "    3. sentence: condtional statements, loops, collections etc \n",
    "    4. paragraph: a small modules based on sentences \n",
    "    5. book : packages or applications "
   ]
  },
  {
   "cell_type": "raw",
   "id": "70d0c69a",
   "metadata": {},
   "source": [
    "# python intro:\n",
    "    1. high level langauage (human can understand) & machine only knows binary(0's & 1's)\n",
    "    2. interpreted (execute line by line )\n",
    "    3. object oriented (oops -object,class,polymorphism,abstract,encapsulation,inheritance) it follow DRY (donot repeat   yourself) method\n",
    "    4. general purpose programming language (web,desktop,automation, machine learning,deep learning,data analysis to scientific computing etc)\n",
    "    5. open source (free )\n",
    "    6. portable ( we can use any os ex: windows,linux,mac )\n",
    "    7. dynamic programming (no need to mention data types )\n",
    "    8. huge community support(webs,forum,chats)\n",
    "    9. developed by guido van rassum in 1980's. BBC comedy tv series \"montys python's flying circus\"\n",
    "    10. easy to learn and huge numbers of library "
   ]
  },
  {
   "cell_type": "raw",
   "id": "af2c1b9b",
   "metadata": {},
   "source": [
    "companies using python \n",
    "Google\n",
    "Facebook\n",
    "Instagram\n",
    "Netflix\n",
    "Dropbox\n",
    "Spotify\n",
    "Reddit\n",
    "NASA\n",
    "Amazon\n",
    "Microsoft\n",
    "Pinterest\n",
    "Quora\n",
    "Yelp\n",
    "Uber\n",
    "Lyft\n",
    "Airbnb\n",
    "Tesla\n",
    "Slack\n",
    "Instagram\n",
    "YouTube and more "
   ]
  },
  {
   "cell_type": "raw",
   "id": "97538020",
   "metadata": {},
   "source": [
    "#jobs \n",
    "\n",
    "Python Job Roles:\n",
    "Development:\n",
    "\n",
    "Python Developer\n",
    "Back-End Developer\n",
    "Full-Stack Developer\n",
    "Web Developer\n",
    "Mobile Developer (with frameworks)\n",
    "Game Developer\n",
    "Data Science & Analytics:\n",
    "\n",
    "Data Scientist\n",
    "Data Analyst\n",
    "Machine Learning Engineer\n",
    "AI Engineer\n",
    "Business Analyst\n",
    "Quantitative Analyst\n",
    "DevOps & Automation:\n",
    "\n",
    "DevOps Engineer\n",
    "Automation Engineer\n",
    "Cloud Engineer\n",
    "System Administrator\n",
    "Network Engineer\n",
    "Scientific & Research:\n",
    "\n",
    "Data Analyst/Scientist (various domains)\n",
    "Software Engineer (scientific applications)\n",
    "Research Scientist (various domains)\n",
    "Quantitative Researcher\n",
    "Others:\n",
    "\n",
    "Security Analyst\n",
    "Financial Analyst\n",
    "QA Tester\n",
    "Automation Specialist\n",
    "Web Scraper  and more opportunities"
   ]
  },
  {
   "cell_type": "code",
   "execution_count": null,
   "id": "9655740a",
   "metadata": {},
   "outputs": [],
   "source": [
    "#python ides \n",
    "\n",
    "Full-Featured IDEs:\n",
    "\n",
    "Python IDE\n",
    "PyCharm\n",
    "Visual Studio Code\n",
    "Eclipse (with PyDev plugin)\n",
    "Spyder\n",
    "Thonny\n",
    "IDLE\n",
    "\n",
    "Lightweight Code Editors:\n",
    "\n",
    "Sublime Text\n",
    "Atom\n",
    "Vim\n",
    "Emacs\n",
    "Brackets\n",
    "GNU nano\n",
    "\n",
    "Specialized IDEs:\n",
    "\n",
    "Jupyter Notebook\n",
    "Pyzo\n",
    "\n",
    "Online IDEs:\n",
    "\n",
    "Google Colab\n",
    "Replit\n",
    "Gitpod\n",
    "Azure"
   ]
  },
  {
   "cell_type": "code",
   "execution_count": null,
   "id": "30ce3e21",
   "metadata": {},
   "outputs": [],
   "source": [
    "Advantages\n",
    "\n",
    "    + Easy to learn and read\n",
    "    + Versatile\n",
    "    + Large and active community\n",
    "    + Cross-platform compatibility\n",
    "    + Standard library\n",
    "    + Great for prototyping\n",
    "\n",
    "Disadvantages\n",
    "\n",
    "    - Performance limitations\n",
    "    - Global Interpreter Lock (GIL)\n",
    "    - Memory usage\n",
    "    - Error handling\n",
    "    - Debugging"
   ]
  },
  {
   "cell_type": "code",
   "execution_count": null,
   "id": "95de1fb0",
   "metadata": {},
   "outputs": [],
   "source": [
    "python prgram can be accessed by\n",
    "\n",
    "1. interactive mode or shell mode (only run time cannot save )\n",
    "2. script mode  (save and can run any time)"
   ]
  },
  {
   "cell_type": "markdown",
   "id": "d4d23e75",
   "metadata": {},
   "source": [
    "## basics"
   ]
  },
  {
   "cell_type": "raw",
   "id": "abca9e0c",
   "metadata": {},
   "source": [
    "#1 variable name \n",
    "\n",
    "A variable in programming is a symbolic name that represents or refers to a value stored in the computer's memory. It acts as a placeholder for data that can change during the execution of a program. Variables are fundamental concepts in programming and are used to store various types of information, such as numbers, text, lists, or complex data structures.\n",
    "\n",
    "rules to name a variable:\n",
    "\n",
    "    1. Variable names cannot start with a digit.always start with alphabet\n",
    "    2. They cannot contain spaces or special characters such as !, @, #, $, %, etc. except underscore(_)\n",
    "    3. Variable names are case-sensitive. For example, myVar, MyVar, and myvar are treated as different variables.\n",
    "    4. Python keywords cannot be used as variable names. Keywords are reserved words that have special meanings in Python,         such as if, else, for, while, import, def, class, etc.\n",
    "\n",
    "valid names:\n",
    "    my_variable\n",
    "    count\n",
    "    x\n",
    "    temperature_reading\n",
    "    userInput\n",
    "    \n",
    "invalid names:\n",
    "    2nd_variable   # Cannot start with a digit\n",
    "    my variable    # Contains a space\n",
    "    my-variable    # Contains a hyphen\n",
    "    if            # Reserved keyword\n",
    "    \n",
    "examples in pyton :\n",
    "    a=10\n",
    "    name=\"govindarasan\"\n",
    "    "
   ]
  },
  {
   "cell_type": "code",
   "execution_count": null,
   "id": "1e0c33b7",
   "metadata": {},
   "outputs": [],
   "source": [
    "#2 data types in python \n",
    "#used to store data in computer memory \n",
    "\n",
    "Numeric Types:\n",
    "\n",
    "int: Represents whole numbers (e.g., 10, -25)\n",
    "float: Represents numbers with decimals (e.g., 3.14, -42.0)\n",
    "complex: Represents complex numbers with real and imaginary parts (e.g., 3+2j, 1.5-4.8j)\n",
    "    \n",
    "Sequence Types:\n",
    "\n",
    "list: Ordered, mutable collection of items (e.g., [1, \"hello\", 3.7])\n",
    "tuple: Ordered, immutable collection of items (e.g., (10, \"world\", True))\n",
    "range: Represents an immutable sequence of numbers within a specified range (e.g., range(5) creates [0, 1, 2, 3, 4])\n",
    "    \n",
    "Mapping Type:\n",
    "\n",
    "dict: Unordered collection of key-value pairs (e.g., {\"name\": \"Alice\", \"age\": 30})\n",
    "    \n",
    "Set Types:\n",
    "\n",
    "set: Unordered collection of unique items (e.g., {1, 2, \"apple\"})\n",
    "frozenset: Immutable version of a set (e.g., frozenset({3, 4, \"banana\"}))\n",
    "    \n",
    "Boolean Type:\n",
    "\n",
    "bool: Represents True or False values\n",
    "    \n",
    "Binary Types:\n",
    "\n",
    "bytes: Represents immutable sequence of bytes (e.g., b\"hello\")\n",
    "bytearray: Mutable version of bytes\n",
    "memoryview: Allows accessing and manipulating memory\n",
    "    \n",
    "Special Value:\n",
    "\n",
    "None: Represents the absence of a value\n",
    "    \n",
    "Remember, you can easily check the data type of a variable using the type() function:\n"
   ]
  },
  {
   "cell_type": "code",
   "execution_count": 2,
   "id": "db0f68d2",
   "metadata": {},
   "outputs": [
    {
     "name": "stdout",
     "output_type": "stream",
     "text": [
      "<class 'int'>\n",
      "<class 'str'>\n",
      "<class 'bool'>\n",
      "<class 'NoneType'>\n"
     ]
    }
   ],
   "source": [
    "x = 10\n",
    "y = \"hello\"\n",
    "z = True\n",
    "a=None\n",
    "print(type(x)) \n",
    "print(type(y))  \n",
    "print(type(z))\n",
    "print(type(a))"
   ]
  },
  {
   "cell_type": "code",
   "execution_count": 3,
   "id": "3141f194",
   "metadata": {},
   "outputs": [
    {
     "name": "stdout",
     "output_type": "stream",
     "text": [
      "['False', 'None', 'True', 'and', 'as', 'assert', 'async', 'await', 'break', 'class', 'continue', 'def', 'del', 'elif', 'else', 'except', 'finally', 'for', 'from', 'global', 'if', 'import', 'in', 'is', 'lambda', 'nonlocal', 'not', 'or', 'pass', 'raise', 'return', 'try', 'while', 'with', 'yield']\n"
     ]
    }
   ],
   "source": [
    "#3 keywords in python \n",
    "#keywords are reserved words which has special meaning to do some specific task. \n",
    "\n",
    "import keyword \n",
    "print(keyword.kwlist)"
   ]
  },
  {
   "cell_type": "code",
   "execution_count": null,
   "id": "962850a0",
   "metadata": {},
   "outputs": [],
   "source": [
    "#type casting in python \n",
    "\n",
    "In Python, type casting, also known as type conversion, refers to the process of changing the data type of a variable.\n",
    "Here are some key points:\n",
    "\n",
    "Types:\n",
    "\n",
    "Explicit Casting: Manually convert using built-in functions like int(), float(), str().\n",
    "Implicit Casting: Python automatically converts types during operations when possible.\n",
    "Common Uses:\n",
    "\n",
    "Converting user input from strings to numbers for calculations.\n",
    "Formatting data for output or storage in different formats.\n",
    "Ensuring data compatibility in operations that require specific types.\n",
    "Examples:\n",
    "\n",
    "int(\"10\") -> 10 (string to integer)\n",
    "float(3.14) -> 3.14 (integer to float)\n",
    "str(True) -> 'True' (boolean to string)\n",
    "Limitations:\n",
    "\n",
    "Not always possible (e.g., converting \"hello\" to an integer).\n",
    "May lead to data loss (e.g., converting 3.14159 to an integer truncates decimals).\n",
    "Alternatives:\n",
    "\n",
    "Using data types directly where possible.\n",
    "String formatting for output.\n",
    "\n",
    "Remember: Choose the appropriate type casting method based on your specific needs and data. Be mindful of potential \n",
    "    limitations and data loss."
   ]
  },
  {
   "cell_type": "code",
   "execution_count": 4,
   "id": "a48d7ba7",
   "metadata": {},
   "outputs": [
    {
     "name": "stdout",
     "output_type": "stream",
     "text": [
      "What is your name? govindarasan\n",
      "Hello, govindarasan\n",
      "This is 10 times 2: 20\n",
      "This is on the same line, but now a new line!\n"
     ]
    }
   ],
   "source": [
    "#input and output in python \n",
    "\"\"\"\n",
    "In Python, you have two main functions for working with input and output:\n",
    "\n",
    "Input:\n",
    "\n",
    "input(prompt=None):\n",
    "Prompts the user to enter text and returns it as a string.\n",
    "Optionally, you can provide a prompt message to display before the user input.\n",
    "Output:\n",
    "\n",
    "print(*objects, sep=' ', end='\\n', file=None, flush=False):\n",
    "    \n",
    "Prints one or more objects to the console or a specified file.\n",
    "Each object is separated by sep (default: space).\n",
    "You can control the newline behavior with end (default: new line).\n",
    "Optionally, specify a file object to write to instead of the console.\n",
    "Set flush to True to force immediate output.\n",
    "\n",
    "\"\"\"\n",
    "# Take user input for name\n",
    "name = input(\"What is your name? \")\n",
    "\n",
    "# Print a greeting with the name\n",
    "print(\"Hello,\", name)\n",
    "\n",
    "# Print different objects with separator and newline control\n",
    "print(\"This is\", 10, \"times 2:\", 10 * 2)\n",
    "print(\"This is on the same line\", end=\"\")\n",
    "print(\", but now a new line!\")"
   ]
  },
  {
   "cell_type": "code",
   "execution_count": 6,
   "id": "58ad270c",
   "metadata": {},
   "outputs": [
    {
     "name": "stdout",
     "output_type": "stream",
     "text": [
      "Hello, world!\n",
      "This is a multi-line docstring describing my_function.\n"
     ]
    }
   ],
   "source": [
    "#comment lines in python \n",
    "\"\"\"\n",
    "Python uses two styles for commenting code:\n",
    "\n",
    "Single-line comments:\n",
    "\n",
    "Use the # symbol at the beginning of a line. Everything written after the # on that line is ignored by the Python \n",
    "interpreter. For example:\n",
    "\"\"\"\n",
    "# This is a single-line comment\n",
    "x = 5  # Assign the value 5 to variable x\n",
    "print(\"Hello, world!\")  # Print a message\n",
    "\n",
    "\"\"\"\n",
    "Multi-line comments (Docstrings):\n",
    "\n",
    "# Triple quotes, either \"\"\" or \"\"\", are used for multi-line comments. \n",
    "These comments are typically used for docstrings, which provide documentation for functions, classes, and modules. \n",
    "Docstrings are ignored by the interpreter but included in the compiled code and accessible using introspection features.\n",
    "\n",
    "\"\"\"\n",
    "def my_function():\n",
    "    \"\"\"This is a multi-line docstring describing my_function.\"\"\"\n",
    "    # This is a single-line comment inside the docstring\n",
    "    return \"This is the function's output\"\n",
    "\n",
    "print(my_function.__doc__)  # Access the docstring"
   ]
  },
  {
   "cell_type": "code",
   "execution_count": 11,
   "id": "fe27d844",
   "metadata": {},
   "outputs": [
    {
     "name": "stdout",
     "output_type": "stream",
     "text": [
      "enter a num = 25\n",
      "25\n",
      "Enter your name and age separated by a comma: govind,34\n",
      "Name: govind\n",
      "Age: 34\n"
     ]
    }
   ],
   "source": [
    "#getting input from user \n",
    "\n",
    "#single input \n",
    "a=int(input(\"enter a num = \"))\n",
    "print(a)\n",
    "\n",
    "#getting input more than one \n",
    "name, age = input(\"Enter your name and age separated by a comma: \").split(\",\")\n",
    "print(\"Name:\", name)\n",
    "print(\"Age:\", age)"
   ]
  },
  {
   "cell_type": "code",
   "execution_count": null,
   "id": "4e5df993",
   "metadata": {},
   "outputs": [],
   "source": []
  },
  {
   "cell_type": "code",
   "execution_count": null,
   "id": "69bf0094",
   "metadata": {},
   "outputs": [],
   "source": []
  }
 ],
 "metadata": {
  "kernelspec": {
   "display_name": "Python 3 (ipykernel)",
   "language": "python",
   "name": "python3"
  },
  "language_info": {
   "codemirror_mode": {
    "name": "ipython",
    "version": 3
   },
   "file_extension": ".py",
   "mimetype": "text/x-python",
   "name": "python",
   "nbconvert_exporter": "python",
   "pygments_lexer": "ipython3",
   "version": "3.11.5"
  }
 },
 "nbformat": 4,
 "nbformat_minor": 5
}
