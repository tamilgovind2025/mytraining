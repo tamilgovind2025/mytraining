{
 "cells": [
  {
   "cell_type": "markdown",
   "id": "18440277",
   "metadata": {},
   "source": [
    "# tuple introduction "
   ]
  },
  {
   "cell_type": "code",
   "execution_count": 6,
   "id": "577d573b",
   "metadata": {},
   "outputs": [
    {
     "name": "stdout",
     "output_type": "stream",
     "text": [
      "(23, 45, 67, 43)\n",
      "<class 'tuple'>\n",
      "(23, 45, 67, 34)\n",
      "<class 'tuple'>\n"
     ]
    }
   ],
   "source": [
    "intro =\"\"\"\n",
    "tuples are also collection of objects or data, ordered indexed and immutable \n",
    "\n",
    "Tuples in Python are ordered collections of elements, similar to lists, but with one major difference:\n",
    "tuples are immutable, meaning once they are created, their elements cannot be modified, added, or \n",
    "removed.\n",
    "\n",
    "You can create a tuple by enclosing elements within parentheses ()\n",
    "\n",
    "why tuple:\n",
    "\n",
    "1. generally tuple use for hetrogeneous (different)data types and list used for homogeneous (similar)\n",
    "   data types \n",
    "2. tuples are immutable. iterating through tuple faster than list \n",
    "\n",
    "3.  tuple contain immutable elements can be used for dictionary keys. in list not possible \n",
    "\n",
    "4. if you want to donot change the data. then tuple is best write protected \n",
    "\n",
    "paranthesis optinal. but good practice to use parenthesis \n",
    "\"\"\"\n",
    "\n",
    "a=23,45,67,43\n",
    "print(a)\n",
    "print(type(a))\n",
    "\n",
    "b=(23,45,67,34)\n",
    "print(b)\n",
    "print(type(b))"
   ]
  },
  {
   "cell_type": "code",
   "execution_count": 24,
   "id": "6520f475",
   "metadata": {},
   "outputs": [
    {
     "name": "stdout",
     "output_type": "stream",
     "text": [
      "10\n",
      "<class 'int'>\n",
      "(10,)\n",
      "<class 'tuple'>\n"
     ]
    }
   ],
   "source": [
    "#tuple tricky for single object or data \n",
    "\n",
    "a=(10)\n",
    "print(a)\n",
    "print(type(a))\n",
    "\n",
    "a=(10,) #single data also use comma to convert to tuple\n",
    "print(a)\n",
    "print(type(a))"
   ]
  },
  {
   "cell_type": "code",
   "execution_count": null,
   "id": "8011eed5",
   "metadata": {},
   "outputs": [],
   "source": []
  },
  {
   "cell_type": "code",
   "execution_count": 1,
   "id": "7585a22e",
   "metadata": {},
   "outputs": [
    {
     "name": "stdout",
     "output_type": "stream",
     "text": [
      "()\n",
      "<class 'tuple'>\n",
      "()\n",
      "<class 'tuple'>\n"
     ]
    }
   ],
   "source": [
    "#empty tuple \n",
    "\n",
    "a=()\n",
    "print(a)\n",
    "print(type(a))\n",
    "\n",
    "#another way to create empty tuple \n",
    "\n",
    "b=tuple()\n",
    "print(b)\n",
    "print(type(b))"
   ]
  },
  {
   "cell_type": "code",
   "execution_count": 4,
   "id": "43bf62f9",
   "metadata": {},
   "outputs": [
    {
     "name": "stdout",
     "output_type": "stream",
     "text": [
      "(1, 2, 3, 4, 5, 7, 8, 9, 10, 11, 12)\n",
      "<class 'tuple'>\n",
      "1909707441856\n"
     ]
    }
   ],
   "source": [
    "#creating a tuple \n",
    "\n",
    "my_tuple = (1, 2, 3, 4, 5,7,8,9,10,11,12)\n",
    "print(my_tuple)\n",
    "print(type(my_tuple))\n",
    "print(id(my_tuple))"
   ]
  },
  {
   "cell_type": "code",
   "execution_count": 8,
   "id": "8ac2e6e1",
   "metadata": {},
   "outputs": [
    {
     "name": "stdout",
     "output_type": "stream",
     "text": [
      "(23, False, 45.67, (3+3j), [1, 2, 3, 4], (7, 8, 9), 'welcome to python')\n",
      "<class 'tuple'>\n",
      "welcome to python\n",
      "<class 'str'>\n"
     ]
    }
   ],
   "source": [
    "a=(23,False,45.67,3+3j,[1,2,3,4],(7,8,9),\"welcome to python\")\n",
    "print(a)\n",
    "print(type(a))\n",
    "\n",
    "print(a[-1])\n",
    "print(type(a[-1]))"
   ]
  },
  {
   "cell_type": "markdown",
   "id": "4b93e6da",
   "metadata": {},
   "source": [
    "## tuple indexing and slicing "
   ]
  },
  {
   "cell_type": "code",
   "execution_count": null,
   "id": "f528409c",
   "metadata": {},
   "outputs": [],
   "source": [
    "\"\"\"\n",
    "t1=( 23,  56,  78,  98,  32,  45,  12,  78,  54,  34)\n",
    "      0    1    2    3    4    5    6    7    8    9  #postive indexing \n",
    "    -10   -9   -8   -7   -6   -5   -4   -3   -2   -1  #negative indexing \n",
    "\n",
    "\"\"\""
   ]
  },
  {
   "cell_type": "code",
   "execution_count": 16,
   "id": "c39f5975",
   "metadata": {},
   "outputs": [
    {
     "name": "stdout",
     "output_type": "stream",
     "text": [
      "23\n",
      "34\n",
      "78\n"
     ]
    }
   ],
   "source": [
    "t1=(23,56,78,98,32,45,12,78,54,34)\n",
    "\n",
    "#indexing \n",
    "print(t1[0])\n",
    "print(t1[-1])\n",
    "print(t1[2])"
   ]
  },
  {
   "cell_type": "code",
   "execution_count": 14,
   "id": "5f56e3ae",
   "metadata": {},
   "outputs": [
    {
     "name": "stdout",
     "output_type": "stream",
     "text": [
      "[1, 2, 3, 4]\n",
      "4\n",
      "(7, 8, 9)\n",
      "8\n",
      "welcome to python\n",
      "e\n"
     ]
    }
   ],
   "source": [
    "a=(23,False,45.67,3+3j,[1,2,3,4],(7,8,9),\"welcome to python\")\n",
    "print(a[4])\n",
    "print(a[4][3])\n",
    "\n",
    "print(a[5])\n",
    "print(a[5][1])\n",
    "\n",
    "print(a[6])\n",
    "print(a[6][1])"
   ]
  },
  {
   "cell_type": "code",
   "execution_count": 21,
   "id": "7bba013f",
   "metadata": {},
   "outputs": [
    {
     "name": "stdout",
     "output_type": "stream",
     "text": [
      "(78, 98, 32, 45, 12, 78, 54, 34)\n",
      "(23, 56, 78, 98)\n",
      "(78, 98, 32)\n",
      "(23, 78, 32, 12, 54)\n",
      "(45, 12, 78)\n",
      "(45, 12, 78, 54, 34)\n",
      "(23, 56, 78, 98, 32)\n",
      "(34, 54, 78, 12, 45, 32, 98, 78, 56, 23)\n"
     ]
    }
   ],
   "source": [
    "#slicing \n",
    "#[start:end:step]  end always ends with -1 \n",
    "\n",
    "t1=(23,56,78,98,32,45,12,78,54,34)\n",
    "\n",
    "#indexing \n",
    "print(t1[2:])\n",
    "print(t1[:4])\n",
    "print(t1[2:5])\n",
    "\n",
    "print(t1[::2])\n",
    "\n",
    "#negative slicing \n",
    "\n",
    "print(t1[-5:-2])\n",
    "print(t1[-5:])\n",
    "print(t1[:-5])\n",
    "\n",
    "#revese the tuple \n",
    "print(t1[::-1])\n"
   ]
  },
  {
   "cell_type": "code",
   "execution_count": 25,
   "id": "7274f2c7",
   "metadata": {},
   "outputs": [
    {
     "ename": "TypeError",
     "evalue": "'tuple' object does not support item assignment",
     "output_type": "error",
     "traceback": [
      "\u001b[1;31m---------------------------------------------------------------------------\u001b[0m",
      "\u001b[1;31mTypeError\u001b[0m                                 Traceback (most recent call last)",
      "Cell \u001b[1;32mIn[25], line 3\u001b[0m\n\u001b[0;32m      1\u001b[0m \u001b[38;5;66;03m#changing the tuple value (not possible let try)\u001b[39;00m\n\u001b[0;32m      2\u001b[0m t1\u001b[38;5;241m=\u001b[39m(\u001b[38;5;241m23\u001b[39m,\u001b[38;5;241m56\u001b[39m,\u001b[38;5;241m78\u001b[39m,\u001b[38;5;241m98\u001b[39m,\u001b[38;5;241m32\u001b[39m,\u001b[38;5;241m45\u001b[39m,\u001b[38;5;241m12\u001b[39m,\u001b[38;5;241m78\u001b[39m,\u001b[38;5;241m54\u001b[39m,\u001b[38;5;241m34\u001b[39m)\n\u001b[1;32m----> 3\u001b[0m t1[\u001b[38;5;241m0\u001b[39m]\u001b[38;5;241m=\u001b[39m\u001b[38;5;241m100\u001b[39m\n\u001b[0;32m      4\u001b[0m \u001b[38;5;28mprint\u001b[39m(t1)\n",
      "\u001b[1;31mTypeError\u001b[0m: 'tuple' object does not support item assignment"
     ]
    }
   ],
   "source": [
    "#changing the tuple value (not possible let try)\n",
    "t1=(23,56,78,98,32,45,12,78,54,34)\n",
    "t1[0]=100\n",
    "print(t1)\n"
   ]
  },
  {
   "cell_type": "code",
   "execution_count": 26,
   "id": "ea509ba2",
   "metadata": {},
   "outputs": [
    {
     "ename": "TypeError",
     "evalue": "'tuple' object doesn't support item deletion",
     "output_type": "error",
     "traceback": [
      "\u001b[1;31m---------------------------------------------------------------------------\u001b[0m",
      "\u001b[1;31mTypeError\u001b[0m                                 Traceback (most recent call last)",
      "Cell \u001b[1;32mIn[26], line 2\u001b[0m\n\u001b[0;32m      1\u001b[0m t1\u001b[38;5;241m=\u001b[39m(\u001b[38;5;241m23\u001b[39m,\u001b[38;5;241m56\u001b[39m,\u001b[38;5;241m78\u001b[39m,\u001b[38;5;241m98\u001b[39m,\u001b[38;5;241m32\u001b[39m,\u001b[38;5;241m45\u001b[39m,\u001b[38;5;241m12\u001b[39m,\u001b[38;5;241m78\u001b[39m,\u001b[38;5;241m54\u001b[39m,\u001b[38;5;241m34\u001b[39m)\n\u001b[1;32m----> 2\u001b[0m \u001b[38;5;28;01mdel\u001b[39;00m t1[\u001b[38;5;241m0\u001b[39m]\n\u001b[0;32m      3\u001b[0m \u001b[38;5;28mprint\u001b[39m(t1)\n",
      "\u001b[1;31mTypeError\u001b[0m: 'tuple' object doesn't support item deletion"
     ]
    }
   ],
   "source": [
    "#cannot remove the tuple elements \n",
    "\n",
    "t1=(23,56,78,98,32,45,12,78,54,34)\n",
    "del t1[0]\n",
    "print(t1)"
   ]
  },
  {
   "cell_type": "code",
   "execution_count": 27,
   "id": "ad881a08",
   "metadata": {},
   "outputs": [
    {
     "ename": "NameError",
     "evalue": "name 't1' is not defined",
     "output_type": "error",
     "traceback": [
      "\u001b[1;31m---------------------------------------------------------------------------\u001b[0m",
      "\u001b[1;31mNameError\u001b[0m                                 Traceback (most recent call last)",
      "Cell \u001b[1;32mIn[27], line 2\u001b[0m\n\u001b[0;32m      1\u001b[0m \u001b[38;5;28;01mdel\u001b[39;00m t1 \u001b[38;5;66;03m#we can delete the tuple but remember cannot able to del tuple elements \u001b[39;00m\n\u001b[1;32m----> 2\u001b[0m \u001b[38;5;28mprint\u001b[39m(t1)\n",
      "\u001b[1;31mNameError\u001b[0m: name 't1' is not defined"
     ]
    }
   ],
   "source": [
    "del t1 #we can delete the tuple but remember cannot able to del tuple elements \n",
    "print(t1)"
   ]
  },
  {
   "cell_type": "code",
   "execution_count": 32,
   "id": "3a5f7d7d",
   "metadata": {},
   "outputs": [
    {
     "name": "stdout",
     "output_type": "stream",
     "text": [
      "(23, 56, 78, [23, 4, 5, 67, 8, 9])\n",
      "(23, 45, 55, [65, 12, 13, 21, 10], ['govind', 'ram', 'sam'])\n",
      "['govind', 'ram', 'sam']\n",
      "sam\n",
      "original tuple =  (23, 45, 55, [65, 12, 13, 21, 10], ['govind', 'ram', 'sam'])\n",
      "modify tuple =  (23, 45, 55, [65, 12, 13, 21, 10], ['govind', 'ram', 'sam kumar'])\n"
     ]
    }
   ],
   "source": [
    "t1=(23,56,78,[23,4,5,67,8,9])\n",
    "print(t1)\n",
    "t1=(23,45,55,[65,12,13,21,10],[\"govind\",\"ram\",\"sam\"])\n",
    "print(t1)\n",
    "\n",
    "#inside tuple we have list. list item can be changed \n",
    "print(t1[4])\n",
    "print(t1[4][2])\n",
    "\n",
    "print(\"original tuple = \",t1)\n",
    "t1[4][2]=\"sam kumar\"\n",
    "print(\"modify tuple = \",t1)\n"
   ]
  },
  {
   "cell_type": "code",
   "execution_count": 34,
   "id": "55b48015",
   "metadata": {},
   "outputs": [
    {
     "name": "stdout",
     "output_type": "stream",
     "text": [
      "new tuple is =  [21, 23, 25, 27, 23, 21, 24, 22]\n",
      "new tuple is =  [21, 23, 25, 27, 21, 23, 25, 27, 21, 23, 25, 27]\n"
     ]
    }
   ],
   "source": [
    "#tuple concatenate \n",
    "t1=[21,23,25,27]\n",
    "t2=[23,21,24,22]\n",
    "\n",
    "new=t1+t2\n",
    "print(\"new tuple is = \",new)\n",
    "\n",
    "new=t1*3\n",
    "print(\"new tuple is = \",new)"
   ]
  },
  {
   "cell_type": "markdown",
   "id": "a5d40436",
   "metadata": {},
   "source": [
    "## inbuild methods and function in tuple "
   ]
  },
  {
   "cell_type": "code",
   "execution_count": null,
   "id": "e74aa227",
   "metadata": {},
   "outputs": [],
   "source": [
    "#functions \n",
    "\"\"\"\n",
    "all()\n",
    "any()\n",
    "enumerate()\n",
    "len()\n",
    "max()\n",
    "min()\n",
    "sum()\n",
    "sorted()\n",
    "tuple()\n",
    "\"\"\""
   ]
  },
  {
   "cell_type": "code",
   "execution_count": 36,
   "id": "66d5426d",
   "metadata": {},
   "outputs": [
    {
     "name": "stdout",
     "output_type": "stream",
     "text": [
      "False\n",
      "True\n"
     ]
    }
   ],
   "source": [
    "#all() \n",
    "a=(21,0,0,23,0,5)\n",
    "b=(21,23,45,67,54)\n",
    "\n",
    "print(all(a))\n",
    "print(all(b))"
   ]
  },
  {
   "cell_type": "code",
   "execution_count": 38,
   "id": "b629aefb",
   "metadata": {},
   "outputs": [
    {
     "name": "stdout",
     "output_type": "stream",
     "text": [
      "False\n",
      "True\n",
      "True\n"
     ]
    }
   ],
   "source": [
    "#any()\n",
    "\n",
    "a=()\n",
    "b=(25,0,5)\n",
    "c=(22,23,24)\n",
    "\n",
    "print(any(a))\n",
    "print(any(b))\n",
    "print(any(c))"
   ]
  },
  {
   "cell_type": "code",
   "execution_count": 39,
   "id": "161497f1",
   "metadata": {},
   "outputs": [
    {
     "name": "stdout",
     "output_type": "stream",
     "text": [
      "0 21\n",
      "1 45\n",
      "2 67\n",
      "3 32\n",
      "4 45\n"
     ]
    }
   ],
   "source": [
    "#enumerate it will return index,values in tuple format \n",
    "\n",
    "a=(21,45,67,32,45)\n",
    "\n",
    "for index,value in enumerate(a):\n",
    "    print(index,value)"
   ]
  },
  {
   "cell_type": "code",
   "execution_count": 40,
   "id": "4e7490fd",
   "metadata": {},
   "outputs": [
    {
     "name": "stdout",
     "output_type": "stream",
     "text": [
      "0 21\n",
      "1 45\n",
      "2 67\n",
      "3 32\n",
      "4 45\n"
     ]
    }
   ],
   "source": [
    "a=(21,45,67,32,45)\n",
    "\n",
    "for (index,value) in enumerate(a):\n",
    "    print(index,value)"
   ]
  },
  {
   "cell_type": "code",
   "execution_count": 41,
   "id": "207a35fb",
   "metadata": {},
   "outputs": [
    {
     "name": "stdout",
     "output_type": "stream",
     "text": [
      "the length of tuple is =  5\n",
      "the maximum value of tuple =  67\n",
      "the minimum value of tuple =  21\n",
      "the sum of the tuple =  210\n"
     ]
    }
   ],
   "source": [
    "a=(21,45,67,32,45)\n",
    "\n",
    "print(\"the length of tuple is = \",len(a))\n",
    "print(\"the maximum value of tuple = \",max(a))\n",
    "print(\"the minimum value of tuple = \",min(a))\n",
    "print(\"the sum of the tuple = \",sum(a))"
   ]
  },
  {
   "cell_type": "code",
   "execution_count": 43,
   "id": "3893790e",
   "metadata": {},
   "outputs": [
    {
     "name": "stdout",
     "output_type": "stream",
     "text": [
      "[12, 13, 14]\n",
      "<class 'list'>\n",
      "(12, 13, 14)\n",
      "<class 'tuple'>\n"
     ]
    }
   ],
   "source": [
    "#tuple()\n",
    "\n",
    "a=[12,13,14]\n",
    "print(a)\n",
    "print(type(a))\n",
    "\n",
    "#convert list to tuple \n",
    "a=tuple(a)\n",
    "print(a)\n",
    "print(type(a))"
   ]
  },
  {
   "cell_type": "code",
   "execution_count": 45,
   "id": "27f9204e",
   "metadata": {},
   "outputs": [
    {
     "name": "stdout",
     "output_type": "stream",
     "text": [
      "original tuple =  (21, 45, 67, 32, 45)\n",
      "the sorted tuple =  [21, 32, 45, 45, 67]\n"
     ]
    }
   ],
   "source": [
    "#sorted()\n",
    "a=(21,45,67,32,45)\n",
    "\n",
    "print(\"original tuple = \",a)\n",
    "a=sorted(a)\n",
    "print(\"the sorted tuple = \",a)"
   ]
  },
  {
   "cell_type": "code",
   "execution_count": 1,
   "id": "45e00aca",
   "metadata": {},
   "outputs": [
    {
     "name": "stdout",
     "output_type": "stream",
     "text": [
      "original tuple =  (21, 45, 67, 32, 45)\n",
      "the sorted tuple =  [21, 32, 45, 45, 67]\n"
     ]
    }
   ],
   "source": [
    "a=(21,45,67,32,45)\n",
    "\n",
    "print(\"original tuple = \",a)\n",
    "a=sorted(a)\n",
    "print(\"the sorted tuple = \",a)"
   ]
  },
  {
   "cell_type": "markdown",
   "id": "9431128f",
   "metadata": {},
   "source": [
    "##  tuple methods"
   ]
  },
  {
   "cell_type": "code",
   "execution_count": 6,
   "id": "78142717",
   "metadata": {},
   "outputs": [
    {
     "name": "stdout",
     "output_type": "stream",
     "text": [
      "3\n",
      "2\n",
      "0\n"
     ]
    }
   ],
   "source": [
    "#count() and index()\n",
    "\n",
    "a=(22,25,46,76,33,28,22,34,22)\n",
    "#count \n",
    "value=a.count(22)\n",
    "print(value)\n",
    "\n",
    "#index\n",
    "index=a.index(46)\n",
    "print(index)\n",
    "\n",
    "#index \n",
    "index=a.index(22)\n",
    "print(index)"
   ]
  },
  {
   "cell_type": "code",
   "execution_count": 7,
   "id": "edaa8a7c",
   "metadata": {},
   "outputs": [
    {
     "name": "stdout",
     "output_type": "stream",
     "text": [
      "0\n"
     ]
    }
   ],
   "source": [
    "a=(22,25,46,76,33,28,22,34,22)\n",
    "#count \n",
    "value=a.count(220)\n",
    "print(value)"
   ]
  },
  {
   "cell_type": "code",
   "execution_count": 8,
   "id": "86fd88f5",
   "metadata": {},
   "outputs": [
    {
     "ename": "ValueError",
     "evalue": "tuple.index(x): x not in tuple",
     "output_type": "error",
     "traceback": [
      "\u001b[1;31m---------------------------------------------------------------------------\u001b[0m",
      "\u001b[1;31mValueError\u001b[0m                                Traceback (most recent call last)",
      "Cell \u001b[1;32mIn[8], line 2\u001b[0m\n\u001b[0;32m      1\u001b[0m \u001b[38;5;66;03m#index \u001b[39;00m\n\u001b[1;32m----> 2\u001b[0m index\u001b[38;5;241m=\u001b[39ma\u001b[38;5;241m.\u001b[39mindex(\u001b[38;5;241m220\u001b[39m)\n\u001b[0;32m      3\u001b[0m \u001b[38;5;28mprint\u001b[39m(index)\n",
      "\u001b[1;31mValueError\u001b[0m: tuple.index(x): x not in tuple"
     ]
    }
   ],
   "source": [
    "#index \n",
    "index=a.index(220)\n",
    "print(index)"
   ]
  },
  {
   "cell_type": "code",
   "execution_count": 18,
   "id": "58d8ff5c",
   "metadata": {},
   "outputs": [
    {
     "name": "stdout",
     "output_type": "stream",
     "text": [
      "23 65 45\n"
     ]
    }
   ],
   "source": [
    "#packing and unpacking \n",
    "\n",
    "a=(23,65,45) #packing \n",
    "\n",
    "b,c,d=a #unpacking \n",
    "print(b,c,d)"
   ]
  },
  {
   "cell_type": "code",
   "execution_count": 28,
   "id": "115806f1",
   "metadata": {},
   "outputs": [
    {
     "name": "stdout",
     "output_type": "stream",
     "text": [
      "1\n",
      "5\n",
      "[2, 3, 4]\n",
      "(2, 3, 4)\n"
     ]
    }
   ],
   "source": [
    "# Tuple Unpacking with * (Extended Unpacking):\n",
    "\n",
    "my_tuple = (1, 2, 3, 4, 5)\n",
    "a, *rest, b = my_tuple\n",
    "print(a)    \n",
    "print(b)    \n",
    "print(rest) \n",
    "print(tuple(rest))"
   ]
  },
  {
   "cell_type": "code",
   "execution_count": 29,
   "id": "53eb1c9a",
   "metadata": {},
   "outputs": [
    {
     "name": "stdout",
     "output_type": "stream",
     "text": [
      "2 1\n"
     ]
    }
   ],
   "source": [
    "#swapping values without using third variable\n",
    "\n",
    "a = 1\n",
    "b = 2\n",
    "a, b = b, a\n",
    "print(a, b) "
   ]
  },
  {
   "cell_type": "code",
   "execution_count": 30,
   "id": "811a7043",
   "metadata": {},
   "outputs": [
    {
     "name": "stdout",
     "output_type": "stream",
     "text": [
      "(1, 4, 9)\n"
     ]
    }
   ],
   "source": [
    "#tuple comprehensions \n",
    "\n",
    "my_list = [1, 2, 3]\n",
    "my_tuple = tuple(x ** 2 for x in my_list)\n",
    "print(my_tuple)  \n"
   ]
  },
  {
   "cell_type": "code",
   "execution_count": 32,
   "id": "02a0b262",
   "metadata": {},
   "outputs": [
    {
     "name": "stdout",
     "output_type": "stream",
     "text": [
      "3 74\n"
     ]
    }
   ],
   "source": [
    "# Returning Multiple Values from Functions\n",
    "def min_max(values):\n",
    "    return min(values), max(values)\n",
    "\n",
    "values = [12, 32, 3, 74, 65]\n",
    "min_val, max_val = min_max(values)\n",
    "print(min_val, max_val)  "
   ]
  },
  {
   "cell_type": "markdown",
   "id": "0d4f6e41",
   "metadata": {},
   "source": [
    " Tuple as Dictionary Keys: Tuples, being immutable, can be used as keys in dictionaries. This is useful when you need to create a composite key based on multiple values"
   ]
  },
  {
   "cell_type": "code",
   "execution_count": 33,
   "id": "d1f6b096",
   "metadata": {},
   "outputs": [
    {
     "name": "stdout",
     "output_type": "stream",
     "text": [
      "Engineer\n"
     ]
    }
   ],
   "source": [
    "my_dict = {('John', 25): 'Engineer', ('Alice', 30): 'Manager'}\n",
    "print(my_dict[('John', 25)]) "
   ]
  },
  {
   "cell_type": "code",
   "execution_count": 36,
   "id": "c7ed020d",
   "metadata": {},
   "outputs": [
    {
     "name": "stdout",
     "output_type": "stream",
     "text": [
      "total =  6\n",
      "total =  165\n",
      "total =  43\n",
      "total =  126\n"
     ]
    }
   ],
   "source": [
    "#tuple as function arguments \n",
    "\n",
    "def my_function(*args):\n",
    "    total=0\n",
    "    for arg in args:\n",
    "        total+=arg\n",
    "    print(\"total = \",total)\n",
    "\n",
    "my_function(1, 2, 3)\n",
    "my_function(12, 22, 43,56,32)\n",
    "my_function(32,11)\n",
    "my_function(22,43,55,6)\n"
   ]
  },
  {
   "cell_type": "code",
   "execution_count": 37,
   "id": "6966ec8f",
   "metadata": {},
   "outputs": [
    {
     "name": "stdout",
     "output_type": "stream",
     "text": [
      "1 2 3\n"
     ]
    }
   ],
   "source": [
    "def my_function(a, b, c):\n",
    "    print(a, b, c)\n",
    "\n",
    "my_tuple = (1, 2, 3)\n",
    "my_function(*my_tuple)"
   ]
  },
  {
   "cell_type": "code",
   "execution_count": 39,
   "id": "8051d629",
   "metadata": {},
   "outputs": [
    {
     "name": "stdout",
     "output_type": "stream",
     "text": [
      "Alice 30\n",
      "Bob 25\n",
      "Charlie 35\n"
     ]
    }
   ],
   "source": [
    "#zip function \n",
    "names = ['Alice', 'Bob', 'Charlie']\n",
    "ages = [30, 25, 35]\n",
    "\n",
    "for name, age in zip(names, ages):\n",
    "    print(name, age)"
   ]
  },
  {
   "cell_type": "code",
   "execution_count": 41,
   "id": "e96ebe58",
   "metadata": {},
   "outputs": [
    {
     "name": "stdout",
     "output_type": "stream",
     "text": [
      "<class 'tuple'>\n"
     ]
    }
   ],
   "source": [
    "#conversion \n",
    "my_tuple = (1, 2, 3)\n",
    "my_list = list(my_tuple)\n",
    "\n",
    "my_list = [4, 5, 6]\n",
    "my_tuple = tuple(my_list)\n",
    "print(type(my_tuple))"
   ]
  },
  {
   "cell_type": "code",
   "execution_count": 23,
   "id": "59c99ae5",
   "metadata": {},
   "outputs": [
    {
     "name": "stdout",
     "output_type": "stream",
     "text": [
      "(23, 44, 67, 89, 90, 45, 35)\n",
      "True\n",
      "False\n",
      "True\n",
      "False\n"
     ]
    }
   ],
   "source": [
    "#membership operators \n",
    "\n",
    "a=(23,44,67,89,90,45,35)\n",
    "print(a)\n",
    "\n",
    "print(90 in a)\n",
    "print(100 in a )\n",
    "\n",
    "print(100 not in a)\n",
    "print(90 not in a )"
   ]
  },
  {
   "cell_type": "code",
   "execution_count": 25,
   "id": "287b1961",
   "metadata": {},
   "outputs": [
    {
     "name": "stdout",
     "output_type": "stream",
     "text": [
      "23\n",
      "44\n",
      "67\n",
      "89\n",
      "90\n",
      "45\n",
      "35\n"
     ]
    }
   ],
   "source": [
    "#iterating the tuples \n",
    "a=(23,44,67,89,90,45,35)\n",
    "\n",
    "for i in a:\n",
    "    print(i)\n"
   ]
  },
  {
   "cell_type": "markdown",
   "id": "79e994ec",
   "metadata": {},
   "source": [
    "## collection of collections of tuple "
   ]
  },
  {
   "cell_type": "code",
   "execution_count": 9,
   "id": "813989a9",
   "metadata": {},
   "outputs": [
    {
     "name": "stdout",
     "output_type": "stream",
     "text": [
      "((23, 25, 27, 29), (33, 35, 37, 39), (43, 45, 47, 49))\n"
     ]
    }
   ],
   "source": [
    "#tuples \n",
    "\n",
    "a=(23,25,27,29)\n",
    "b=(33,35,37,39)\n",
    "c=(43,45,47,49)\n",
    "\n",
    "nested_tuple=(a,b,c)\n",
    "print(nested_tuple)\n"
   ]
  },
  {
   "cell_type": "code",
   "execution_count": 10,
   "id": "cce3a104",
   "metadata": {},
   "outputs": [
    {
     "name": "stdout",
     "output_type": "stream",
     "text": [
      "((11, 12, 13, 14), (21, 22, 23, 24), (31, 31, 33, 34))\n"
     ]
    }
   ],
   "source": [
    "t1=((11,12,13,14),(21,22,23,24),(31,31,33,34))\n",
    "print(t1)"
   ]
  },
  {
   "cell_type": "code",
   "execution_count": 11,
   "id": "c7945a8f",
   "metadata": {},
   "outputs": [
    {
     "name": "stdout",
     "output_type": "stream",
     "text": [
      "(11, 12, 13, 14)\n"
     ]
    }
   ],
   "source": [
    "print(t1[0])"
   ]
  },
  {
   "cell_type": "code",
   "execution_count": 12,
   "id": "93e61e75",
   "metadata": {},
   "outputs": [
    {
     "name": "stdout",
     "output_type": "stream",
     "text": [
      "14\n"
     ]
    }
   ],
   "source": [
    "print(t1[0][3])"
   ]
  },
  {
   "cell_type": "code",
   "execution_count": 13,
   "id": "5430bec8",
   "metadata": {},
   "outputs": [
    {
     "name": "stdout",
     "output_type": "stream",
     "text": [
      "((21, 24, 12, 34), (54, 76, 21, 35), (56, 75, 21, 56), (56, 87, 92, 45))\n"
     ]
    }
   ],
   "source": [
    "#sorting \n",
    "t1=((21,24,12,34),(54,76,21,35),(56,75,21,56),(56,87,92,45))\n",
    "print(t1)"
   ]
  },
  {
   "cell_type": "code",
   "execution_count": 15,
   "id": "5c9e66ac",
   "metadata": {},
   "outputs": [
    {
     "name": "stdout",
     "output_type": "stream",
     "text": [
      "[(21, 24, 12, 34), (56, 75, 21, 56), (54, 76, 21, 35), (56, 87, 92, 45)]\n"
     ]
    }
   ],
   "source": [
    "s1=sorted(t1,key = lambda x : x[1])\n",
    "print(s1)"
   ]
  },
  {
   "cell_type": "code",
   "execution_count": 16,
   "id": "b661bed0",
   "metadata": {},
   "outputs": [
    {
     "name": "stdout",
     "output_type": "stream",
     "text": [
      "[(21, 24, 12, 34), (54, 76, 21, 35), (56, 75, 21, 56), (56, 87, 92, 45)]\n"
     ]
    }
   ],
   "source": [
    "s1=sorted(t1,key = lambda x : x[2])\n",
    "print(s1)"
   ]
  },
  {
   "cell_type": "code",
   "execution_count": 17,
   "id": "17a3f6bf",
   "metadata": {},
   "outputs": [
    {
     "name": "stdout",
     "output_type": "stream",
     "text": [
      "[(21, 24, 12, 34), (54, 76, 21, 35), (56, 87, 92, 45), (56, 75, 21, 56)]\n"
     ]
    }
   ],
   "source": [
    "s1=sorted(t1,key = lambda x : x[3])\n",
    "print(s1)"
   ]
  },
  {
   "cell_type": "code",
   "execution_count": null,
   "id": "faaabdbc",
   "metadata": {},
   "outputs": [],
   "source": []
  }
 ],
 "metadata": {
  "kernelspec": {
   "display_name": "Python 3 (ipykernel)",
   "language": "python",
   "name": "python3"
  },
  "language_info": {
   "codemirror_mode": {
    "name": "ipython",
    "version": 3
   },
   "file_extension": ".py",
   "mimetype": "text/x-python",
   "name": "python",
   "nbconvert_exporter": "python",
   "pygments_lexer": "ipython3",
   "version": "3.11.5"
  }
 },
 "nbformat": 4,
 "nbformat_minor": 5
}
