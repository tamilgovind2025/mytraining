{
 "cells": [
  {
   "cell_type": "markdown",
   "id": "543d26c6",
   "metadata": {},
   "source": [
    "# strings formats to print in python "
   ]
  },
  {
   "cell_type": "code",
   "execution_count": null,
   "id": "0019f013",
   "metadata": {},
   "outputs": [],
   "source": []
  },
  {
   "cell_type": "code",
   "execution_count": 22,
   "id": "5d8ec15a",
   "metadata": {},
   "outputs": [
    {
     "name": "stdout",
     "output_type": "stream",
     "text": [
      "the addition value of 10 + 25 = 35\n",
      "the addition value of 10 + 25 = 35\n"
     ]
    }
   ],
   "source": [
    "#Manual String Formatting\n",
    "a=10\n",
    "b=25\n",
    "c=a+b\n",
    "\n",
    "print(\"the addition value of \"+str(a)+\" + \"+str(b)+\" = \"+str(c))\n",
    "\n",
    "print(\"the addition value of\",a,\"+\",b,\"=\",c)"
   ]
  },
  {
   "cell_type": "code",
   "execution_count": 3,
   "id": "7a2f90e7",
   "metadata": {},
   "outputs": [
    {
     "name": "stdout",
     "output_type": "stream",
     "text": [
      "My name is tamilgovind and I am 34 years old.\n",
      "My name is vinoth and I am 33 years old.\n",
      "My name is tamilgovind and I am 34 years old.\n",
      "My name is kavitha and I am 32 years old.\n"
     ]
    }
   ],
   "source": [
    "#format() method \n",
    "\n",
    "name = \"tamilgovind\"\n",
    "age = 34\n",
    "\n",
    "# Using positional arguments\n",
    "print(\"My name is {} and I am {} years old.\".format(name, age))\n",
    "\n",
    "# Using positional arguments\n",
    "print(\"My name is {} and I am {} years old.\".format(\"vinoth\", 33))\n",
    "\n",
    "# Using keyword arguments\n",
    "print(\"My name is {name} and I am {age} years old.\".format(name=name, age=age))\n",
    "\n",
    "# Using keyword arguments\n",
    "print(\"My name is {name} and I am {age} years old.\".format(name=\"kavitha\", age=32))"
   ]
  },
  {
   "cell_type": "code",
   "execution_count": 6,
   "id": "ced425e2",
   "metadata": {},
   "outputs": [
    {
     "name": "stdout",
     "output_type": "stream",
     "text": [
      "My name is govindarasan v d and I am 35 years old.\n",
      "My name is vijay and I am 22 years old.\n"
     ]
    }
   ],
   "source": [
    "# f\" sting method \n",
    "\n",
    "name = \"govindarasan v d\"\n",
    "age = 35\n",
    "\n",
    "# Using f-strings\n",
    "print(f\"My name is {name} and I am {age} years old.\")\n",
    "\n",
    "name=\"vijay\"\n",
    "age=22\n",
    "# Using f-strings\n",
    "print(f\"My name is {name} and I am {age} years old.\")"
   ]
  },
  {
   "cell_type": "code",
   "execution_count": 12,
   "id": "66e32de1",
   "metadata": {},
   "outputs": [
    {
     "name": "stdout",
     "output_type": "stream",
     "text": [
      "The value of pi is 3.14\n",
      "Hello,      Alice\n",
      "Hello, Alice     \n",
      "Hello,   Alice   \n",
      "item cost v1 =     2000.0\n",
      "item cost v2 =    30000.0\n",
      "item cost v3 =     3500.0\n",
      "item cost v4 =   750000.0\n"
     ]
    }
   ],
   "source": [
    "# Formatting numbers\n",
    "pi = 3.14159\n",
    "\n",
    "print(\"The value of pi is {:.2f}\".format(pi))  #.2 denotes 2 point decimalnotation \n",
    "\n",
    "# Specifying field width and alignment\n",
    "name = \"Alice\"\n",
    "print(\"Hello, {:>10}\".format(name))  #right allign\n",
    "print(\"Hello, {:<10}\".format(name)) #left allign      \n",
    "print(\"Hello, {:^10}\".format(name)) #center allign\n",
    "\n",
    "v1=2000.00\n",
    "v2=30000.00\n",
    "v3=3500.00\n",
    "v4=750000.00\n",
    "\n",
    "print(\"item cost v1 = {:>10}\".format(v1))\n",
    "print(\"item cost v2 = {:>10}\".format(v2))\n",
    "print(\"item cost v3 = {:>10}\".format(v3))\n",
    "print(\"item cost v4 = {:>10}\".format(v4))\n"
   ]
  },
  {
   "cell_type": "code",
   "execution_count": 16,
   "id": "0b7b51b5",
   "metadata": {},
   "outputs": [
    {
     "name": "stdout",
     "output_type": "stream",
     "text": [
      "Hello,     tamilgovind     ! You are 34 years old.\n",
      "Hello,     tamilgovind     ! You are 34 years old.\n",
      "Hello,          tamilgovind! You are 34 years old.\n",
      "Hello,          tamilgovind! You are 34 years old.\n",
      "Hello, tamilgovind         ! You are 34 years old.\n",
      "Hello, tamilgovind         ! You are 34 years old.\n"
     ]
    }
   ],
   "source": [
    "# Combining both methods\n",
    "\n",
    "name = \"tamilgovind\"\n",
    "age = 34\n",
    "\n",
    "#center alligned\n",
    "print(\"Hello, {name:^20}! You are {age} years old.\".format(name=name, age=age))  \n",
    "print(f\"Hello, {name:^20}! You are {age} years old.\")  \n",
    "\n",
    "#right alligned\n",
    "print(\"Hello, {name:>20}! You are {age} years old.\".format(name=name, age=age))  \n",
    "print(f\"Hello, {name:>20}! You are {age} years old.\")  \n",
    "\n",
    "#left alligned\n",
    "print(\"Hello, {name:<20}! You are {age} years old.\".format(name=name, age=age))  \n",
    "print(f\"Hello, {name:<20}! You are {age} years old.\") "
   ]
  },
  {
   "cell_type": "code",
   "execution_count": 18,
   "id": "7ba6d638",
   "metadata": {},
   "outputs": [
    {
     "name": "stdout",
     "output_type": "stream",
     "text": [
      "regular string output \n",
      "C:\n",
      "otes\\python.txt\n",
      "raw string output\n",
      "C:\\notes\\python.txt\n"
     ]
    }
   ],
   "source": [
    "# Regular string\n",
    "regular_string = \"C:\\notes\\python.txt\"\n",
    "\n",
    "print(\"regular string output \")\n",
    "print(regular_string)  \n",
    "\n",
    "# Raw string\n",
    "raw_string = r\"C:\\notes\\python.txt\"\n",
    "\n",
    "print(\"raw string output\")\n",
    "print(raw_string)  # "
   ]
  },
  {
   "cell_type": "code",
   "execution_count": 26,
   "id": "7f781219",
   "metadata": {},
   "outputs": [
    {
     "name": "stdout",
     "output_type": "stream",
     "text": [
      "1.6666666666666665\n",
      "1.67\n",
      "1.67\n"
     ]
    }
   ],
   "source": [
    "#floating point numbers handling in python \n",
    "\n",
    "a = 3.5\n",
    "b = 2.1\n",
    "\n",
    "result_division = a / b \n",
    "print(result_division)\n",
    "\n",
    "#1 using round function to truncate \n",
    "rounded_num = round(result_division, 2) \n",
    "print(rounded_num)\n",
    "\n",
    "# Rounding using string formatting\n",
    "formatted_num = \"{:.2f}\".format(result_division)\n",
    "print(formatted_num)"
   ]
  },
  {
   "cell_type": "code",
   "execution_count": 29,
   "id": "b593aa01",
   "metadata": {},
   "outputs": [
    {
     "name": "stdout",
     "output_type": "stream",
     "text": [
      "0.30000000000000004\n",
      "0.3\n",
      "False\n",
      "0.3\n",
      "0.3\n",
      "True\n"
     ]
    }
   ],
   "source": [
    "#floating point comparison \n",
    "\n",
    "a = 0.1 + 0.2\n",
    "b = 0.3\n",
    "\n",
    "print(a)\n",
    "print(b)\n",
    "print(a == b)\n",
    "#note it will be False, due to floating-point precision issues\n",
    "\n",
    "a=round(a,2)\n",
    "print(a)\n",
    "b=round(b,2)\n",
    "print(b)\n",
    "print(a == b)"
   ]
  },
  {
   "cell_type": "code",
   "execution_count": 30,
   "id": "c968b07f",
   "metadata": {},
   "outputs": [
    {
     "name": "stdout",
     "output_type": "stream",
     "text": [
      "380\n"
     ]
    }
   ],
   "source": [
    "#multi line statements in python \n",
    "\n",
    "a=10+20+30+\\\n",
    "40+50+60+\\\n",
    "80+90\n",
    "\n",
    "print(a)"
   ]
  },
  {
   "cell_type": "code",
   "execution_count": 31,
   "id": "e4f71a7e",
   "metadata": {},
   "outputs": [
    {
     "name": "stdout",
     "output_type": "stream",
     "text": [
      "[380]\n"
     ]
    }
   ],
   "source": [
    "a=[10+20+30+\n",
    "40+50+60+\n",
    "80+90]\n",
    "\n",
    "print(a)"
   ]
  },
  {
   "cell_type": "code",
   "execution_count": 32,
   "id": "9c9dcc5d",
   "metadata": {},
   "outputs": [
    {
     "name": "stdout",
     "output_type": "stream",
     "text": [
      "10 20.5 govind\n"
     ]
    }
   ],
   "source": [
    "#multiple assignments \n",
    "\n",
    "a,b,c=10,20.5,\"govind\"\n",
    "\n",
    "print(a,b,c)"
   ]
  },
  {
   "cell_type": "code",
   "execution_count": 33,
   "id": "e869f70d",
   "metadata": {},
   "outputs": [
    {
     "name": "stdout",
     "output_type": "stream",
     "text": [
      "22 22 22 22 22\n"
     ]
    }
   ],
   "source": [
    "a=b=c=d=e=22\n",
    "print(a,b,c,d,e)"
   ]
  },
  {
   "cell_type": "raw",
   "id": "54776122",
   "metadata": {},
   "source": [
    "#pass keyword in python \n",
    "\n",
    "The pass keyword in Python serves a specific purpose, and understanding its use cases can be helpful when writing robust code. Here's a breakdown:\n",
    "\n",
    "What is pass in Python?\n",
    "\n",
    "It's a null statement, meaning it does nothing.\n",
    "When executed, the interpreter simply skips over it without performing any action.\n",
    "When to use pass:\n",
    "\n",
    "Placeholder: While developing code, you might have incomplete sections or conditional branches. Using pass prevents syntax errors until you implement the actual logic.\n",
    "Empty blocks: Certain Python constructs require blocks of code (e.g., if, while, for, functions, classes). If you haven't decided what to do yet, pass keeps the syntax valid.\n",
    "Indentation control: When nested structures require specific indentation levels, pass helps maintain readability without introducing actual code.\n",
    "\n",
    "Important notes:\n",
    "\n",
    "While pass is useful for temporary use, don't overuse it in production code. Leaving placeholders might indicate incomplete or buggy code.\n",
    "Consider alternative approaches like comments or comments with NotImplementedError for indicating future development intentions.\n",
    "\n"
   ]
  },
  {
   "cell_type": "code",
   "execution_count": 37,
   "id": "c52b897e",
   "metadata": {},
   "outputs": [],
   "source": [
    "# pass in if conditions \n",
    "\n",
    "condition=False\n",
    "if condition:\n",
    "    pass # Placeholder until you decide what to do\n",
    "else:\n",
    "    pass  # Placeholder until you decide what to do"
   ]
  },
  {
   "cell_type": "code",
   "execution_count": 38,
   "id": "0b25f195",
   "metadata": {},
   "outputs": [],
   "source": [
    "#pass in loops \n",
    "\n",
    "for i in range(10):\n",
    "    pass  # No code yet, but preserves the loop structure"
   ]
  },
  {
   "cell_type": "code",
   "execution_count": 39,
   "id": "ad555ea0",
   "metadata": {},
   "outputs": [],
   "source": [
    "def greet(name):\n",
    "    pass  # Function signature defined, but implementation pending"
   ]
  },
  {
   "cell_type": "code",
   "execution_count": null,
   "id": "95c5304d",
   "metadata": {},
   "outputs": [],
   "source": []
  }
 ],
 "metadata": {
  "kernelspec": {
   "display_name": "Python 3 (ipykernel)",
   "language": "python",
   "name": "python3"
  },
  "language_info": {
   "codemirror_mode": {
    "name": "ipython",
    "version": 3
   },
   "file_extension": ".py",
   "mimetype": "text/x-python",
   "name": "python",
   "nbconvert_exporter": "python",
   "pygments_lexer": "ipython3",
   "version": "3.11.5"
  }
 },
 "nbformat": 4,
 "nbformat_minor": 5
}
