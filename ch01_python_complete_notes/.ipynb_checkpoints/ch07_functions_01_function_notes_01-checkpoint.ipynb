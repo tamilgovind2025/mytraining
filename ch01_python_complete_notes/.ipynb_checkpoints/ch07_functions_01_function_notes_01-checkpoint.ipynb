{
 "cells": [
  {
   "cell_type": "markdown",
   "id": "ca573046",
   "metadata": {},
   "source": [
    "# functions notes"
   ]
  },
  {
   "cell_type": "code",
   "execution_count": null,
   "id": "19c8c2c1",
   "metadata": {},
   "outputs": [],
   "source": [
    "introduction =\"\"\"\n",
    "functions are blocks of code that carry out a specific task and can be reused throughout your program.\n",
    "They are defined using the def keyword followed by the function name and parentheses containing any \n",
    "parameters the function accepts\n",
    "\n",
    "functions help to break our program into smaller and modular chunks \n",
    "\n",
    "it avoids repetition and make code reusable \n",
    "\n",
    "\n",
    "functions can divide into two types \n",
    "1. predefined or built in functions \n",
    "2. user defined functions \n",
    "\n",
    "always starts with def in python ex:\n",
    "\n",
    "def function_name(parameters or arguments ): #parameters are optional\n",
    "    \"\"\" doc string \"\"\"\n",
    "    statement(s)\n",
    "    return arg #return also optinal \n",
    "\n",
    "1. user defined functions: \n",
    "     which is already explain to python interpretor to do some specific task\n",
    "ex: print(),input(),max(),min()\n",
    "\n",
    "2. user defined functions:\n",
    "    fucntions defined by the users/developers themselves. let us discuss one by one in this chapter\n",
    "\n",
    "\"\"\""
   ]
  },
  {
   "cell_type": "code",
   "execution_count": 1,
   "id": "d4a6cf30",
   "metadata": {},
   "outputs": [
    {
     "name": "stdout",
     "output_type": "stream",
     "text": [
      "welcome to python programming world...\n",
      "have fun with python functions \n"
     ]
    }
   ],
   "source": [
    "#example of a function\n",
    "#note: funcntion cannot activate untill u call from outside the function \n",
    "\n",
    "#function definitions\n",
    "def welcome():\n",
    "    print(\"welcome to python programming world...\")\n",
    "    print(\"have fun with python functions... \")\n",
    "\n",
    "#calling fuctions \n",
    "welcome()"
   ]
  },
  {
   "cell_type": "code",
   "execution_count": 3,
   "id": "749ae6c9",
   "metadata": {},
   "outputs": [
    {
     "name": "stdout",
     "output_type": "stream",
     "text": [
      "hi,govind\n",
      "welcome to python programming world... \n",
      "have fun with python functions... \n"
     ]
    }
   ],
   "source": [
    "#function definitions\n",
    "def welcome(name):\n",
    "    print(\"hi,\"+name)\n",
    "    print(\"welcome to python programming world... \")\n",
    "    print(\"have fun with python functions... \")\n",
    "\n",
    "#calling fuctions \n",
    "welcome(\"govind\")"
   ]
  },
  {
   "cell_type": "markdown",
   "id": "57c0f39e",
   "metadata": {},
   "source": [
    "## variable scopes "
   ]
  },
  {
   "cell_type": "markdown",
   "id": "80508e83",
   "metadata": {},
   "source": [
    "Global Scope: Variables defined outside of any function or class have global scope. They can be accessed from anywhere within the program, including inside functions and classes.\n",
    "\n",
    "Local Scope: Variables defined inside a function have local scope. They can only be accessed within the function in which they are defined. Local variables are not accessible from outside the function.\n",
    "\n",
    "Enclosing Scope (Non-local Scope): This scope applies to variables defined in the enclosing function of a nested function. In other words, if a function is defined inside another function, it can access variables from the enclosing function's scope.\n",
    "\n",
    "Built-in Scope: Python comes with a set of built-in functions and objects that are always available without the need for import statements. Variables in the built-in scope are accessible from anywhere in the program"
   ]
  },
  {
   "cell_type": "code",
   "execution_count": 5,
   "id": "db8701cf",
   "metadata": {},
   "outputs": [
    {
     "name": "stdout",
     "output_type": "stream",
     "text": [
      "Inside inner_function:\n",
      "Accessing global_var: 10\n",
      "Accessing enclosing_var: 20\n",
      "Accessing local_var: 30\n",
      "Outside functions:\n",
      "Accessing global_var: 10\n"
     ]
    }
   ],
   "source": [
    "# Global variable\n",
    "global_var = 10\n",
    "\n",
    "def outer_function():\n",
    "    # Enclosing scope variable\n",
    "    enclosing_var = 20\n",
    "    \n",
    "    def inner_function():\n",
    "        # Local variable\n",
    "        local_var = 30\n",
    "        print(\"Inside inner_function:\")\n",
    "        print(\"Accessing global_var:\", global_var)    # Access global variable\n",
    "        print(\"Accessing enclosing_var:\", enclosing_var)  # Access enclosing scope variable\n",
    "        print(\"Accessing local_var:\", local_var)      # Access local variable\n",
    "\n",
    "    inner_function()\n",
    "    \n",
    "    # Attempting to access local_var here would result in an error\n",
    "\n",
    "outer_function()\n",
    "\n",
    "# Access global variable outside functions\n",
    "print(\"Outside functions:\")\n",
    "print(\"Accessing global_var:\", global_var)\n",
    "\n",
    "# Attempting to access local_var or enclosing_var here would result in an error\n"
   ]
  },
  {
   "cell_type": "code",
   "execution_count": 10,
   "id": "12a4fd5d",
   "metadata": {},
   "outputs": [
    {
     "name": "stdout",
     "output_type": "stream",
     "text": [
      "the x value inside function =  25\n",
      "the y value inside function =  100\n",
      "the x value inside function =  25\n",
      "the y value inside function =  22\n"
     ]
    }
   ],
   "source": [
    "\n",
    "x=25\n",
    "y=22\n",
    "\n",
    "def my_func():\n",
    "    y=100\n",
    "    print(\"the x value inside function = \",x)\n",
    "    print(\"the y value inside function = \",y) #local variable\n",
    "\n",
    "#calling function \n",
    "my_func()\n",
    "#outside of function\n",
    "print(\"the x value inside function = \",x)\n",
    "print(\"the y value inside function = \",y) #global variable"
   ]
  },
  {
   "cell_type": "markdown",
   "id": "87278192",
   "metadata": {},
   "source": [
    "## functions types "
   ]
  },
  {
   "cell_type": "code",
   "execution_count": 5,
   "id": "fe8ca553",
   "metadata": {},
   "outputs": [
    {
     "name": "stdout",
     "output_type": "stream",
     "text": [
      "enter the a value = 25\n",
      "enter the b value = 25\n",
      "the addition value =  50\n"
     ]
    }
   ],
   "source": [
    "#1 no return with no arguments \n",
    "\n",
    "#addition function\n",
    "\n",
    "def addition():\n",
    "    a=int(input(\"enter the a value = \"))\n",
    "    b=int(input(\"enter the b value = \"))\n",
    "    c=a+b\n",
    "    print(\"the addition value = \",c)\n",
    "\n",
    "#callling the function \n",
    "addition()"
   ]
  },
  {
   "cell_type": "code",
   "execution_count": 6,
   "id": "627cd8af",
   "metadata": {},
   "outputs": [
    {
     "name": "stdout",
     "output_type": "stream",
     "text": [
      "enter the a value = 56\n",
      "enter the b value = 22\n",
      "the subtraction value =  34\n"
     ]
    }
   ],
   "source": [
    "#2 no return with arguments \n",
    "\n",
    "#subtraction function\n",
    "\n",
    "def subtraction(num1,num2):\n",
    "    c=num1-num2\n",
    "    print(\"the subtraction value = \",c)\n",
    "\n",
    "#getting values from the user\n",
    "a=int(input(\"enter the a value = \"))\n",
    "b=int(input(\"enter the b value = \"))\n",
    "    \n",
    "#callling the function \n",
    "subtraction(a,b)"
   ]
  },
  {
   "cell_type": "code",
   "execution_count": 7,
   "id": "2a87ccc5",
   "metadata": {},
   "outputs": [
    {
     "name": "stdout",
     "output_type": "stream",
     "text": [
      "enter the a value = 5\n",
      "enter the b value = 3\n",
      "the multiplication value =  15\n"
     ]
    }
   ],
   "source": [
    "#3 return with no arguments \n",
    "\n",
    "#multiplication function\n",
    "\n",
    "def multiplication():\n",
    "    #getting values from the user\n",
    "    a=int(input(\"enter the a value = \"))\n",
    "    b=int(input(\"enter the b value = \"))\n",
    "    c=a*b\n",
    "    return c\n",
    "\n",
    "\n",
    "    \n",
    "#callling the function \n",
    "mul=multiplication()\n",
    "print(\"the multiplication value = \",mul)"
   ]
  },
  {
   "cell_type": "code",
   "execution_count": 8,
   "id": "38c45819",
   "metadata": {},
   "outputs": [
    {
     "name": "stdout",
     "output_type": "stream",
     "text": [
      "enter the a value = 53\n",
      "enter the b value = 5\n",
      "the multiplication value =  10\n",
      "\n",
      "    this function gets two arguments as input and return floor division value\n",
      "    \n"
     ]
    }
   ],
   "source": [
    "#4 return with arguments \n",
    "\n",
    "#floor division funcntion\n",
    "\n",
    "def floor_division(a,b):\n",
    "    \"\"\"\n",
    "    this function gets two arguments as input and return floor division value\n",
    "    \"\"\"\n",
    "    c=a//b\n",
    "    return c\n",
    "\n",
    "#getting values from the user\n",
    "a=int(input(\"enter the a value = \"))\n",
    "b=int(input(\"enter the b value = \")) \n",
    "\n",
    "#callling addition function \n",
    "mul=floor_division(a,b)\n",
    "print(\"the multiplication value = \",mul)\n",
    "\n",
    "#toget function info \n",
    "print(floor_division.__doc__)"
   ]
  },
  {
   "cell_type": "code",
   "execution_count": 7,
   "id": "394cb793",
   "metadata": {},
   "outputs": [
    {
     "name": "stdout",
     "output_type": "stream",
     "text": [
      "<class 'tuple'>\n",
      "the total value =  30\n",
      "<class 'tuple'>\n",
      "the total value =  110\n",
      "<class 'tuple'>\n",
      "the total value =  -10\n",
      "<class 'tuple'>\n",
      "the total value =  289\n",
      "<class 'tuple'>\n",
      "the total value =  60\n"
     ]
    }
   ],
   "source": [
    "#5 arbitary arguments/parameters functions \n",
    "\n",
    "def addition(*num): #data receives in tuple format\n",
    "    total=0\n",
    "    print(type(num))\n",
    "    for i in num:\n",
    "        total=total+i\n",
    "    print(\"the total value = \",total)\n",
    "\n",
    "addition(10,20)\n",
    "addition(10,20,30,50)\n",
    "addition(10,20,-40)\n",
    "addition(10,35,78,89,45,32)\n",
    "addition(10,20,30)"
   ]
  },
  {
   "cell_type": "code",
   "execution_count": 5,
   "id": "b7943608",
   "metadata": {},
   "outputs": [
    {
     "name": "stdout",
     "output_type": "stream",
     "text": [
      "govind\n",
      "govind\n",
      "vinoth\n",
      "guru\n"
     ]
    }
   ],
   "source": [
    "# arbitary arguments/parameters functions \n",
    "\n",
    "def name_print(*num):\n",
    "    for i in num:\n",
    "        print(i)\n",
    "\n",
    "name_print(\"govind\")\n",
    "name_print(\"govind\",\"vinoth\",\"guru\")\n"
   ]
  },
  {
   "cell_type": "code",
   "execution_count": 9,
   "id": "942ed23d",
   "metadata": {},
   "outputs": [
    {
     "name": "stdout",
     "output_type": "stream",
     "text": [
      "<class 'dict'>\n",
      "{'name': 'govind', 'age': 34, 'city': 'chennai', 'gender': 'male', 'role': 'R&D Developer'}\n",
      "<class 'dict'>\n",
      "{'name': 'govind', 'age': 34, 'city': 'chennai'}\n"
     ]
    }
   ],
   "source": [
    "#6 arbitary keyword functions \n",
    "\n",
    "def bio_data(**Data): #data receives in dict format\n",
    "    print(type(Data))\n",
    "    print(Data)\n",
    "\n",
    "bio_data(name=\"govind\",age=34,city=\"chennai\",gender=\"male\",role=\"R&D Developer\")\n",
    "bio_data(name=\"govind\",age=34,city=\"chennai\")"
   ]
  },
  {
   "cell_type": "code",
   "execution_count": 17,
   "id": "0c777311",
   "metadata": {},
   "outputs": [
    {
     "name": "stdout",
     "output_type": "stream",
     "text": [
      "user name is  govind and age is  34 from  chennai his contact num is  9786907526\n",
      "user name is  govind and age is  34 from  chennai his contact num is  97890\n"
     ]
    }
   ],
   "source": [
    "#7 keyword arguments functions\n",
    "\n",
    "def user_info(name,age,city,phone_num):\n",
    "    print(\"user name is \",name,\"and age is \",age,\"from \",city,\"his contact num is \",phone_num )\n",
    "\n",
    "user_info(name=\"govind\",city=\"chennai\",age=34,phone_num=9786907526)\n",
    "user_info(name=\"govind\",city=\"chennai\",age=34,phone_num=97890)"
   ]
  },
  {
   "cell_type": "code",
   "execution_count": 18,
   "id": "af438f6b",
   "metadata": {},
   "outputs": [
    {
     "name": "stdout",
     "output_type": "stream",
     "text": [
      "user name is  govind and age is  34 from  chennai his contact num is  9786907526\n",
      "user name is  govind and age is  0 from  chennai his contact num is  None\n",
      "user name is  govind and age is  0 from  city his contact num is  None\n"
     ]
    }
   ],
   "source": [
    "#8 default keyword parameter/arguments functions \n",
    "\n",
    "def user_info(name,age=0,city=\"city\",phone_num=None):\n",
    "    print(\"user name is \",name,\"and age is \",age,\"from \",city,\"his contact num is \",phone_num )\n",
    "\n",
    "user_info(name=\"govind\",city=\"chennai\",age=34,phone_num=9786907526)\n",
    "user_info(name=\"govind\",city=\"chennai\")\n",
    "user_info(name=\"govind\")"
   ]
  },
  {
   "cell_type": "code",
   "execution_count": 22,
   "id": "393557e6",
   "metadata": {},
   "outputs": [
    {
     "name": "stdout",
     "output_type": "stream",
     "text": [
      "welcome to python  0\n",
      "welcome to python  1\n",
      "welcome to python  2\n",
      "welcome to python  3\n",
      "welcome to python  4\n",
      "welcome to python  5\n",
      "welcome to python  6\n",
      "welcome to python  7\n",
      "welcome to python  8\n",
      "welcome to python  9\n"
     ]
    }
   ],
   "source": [
    "#9 recursive functions \n",
    "#a function can call it self. remember to activate function intiallly we have to call out side the fucntion \n",
    "\n",
    "#ex:\n",
    "i=0\n",
    "def welcome():\n",
    "    global i\n",
    "    if i==10:\n",
    "        exit()\n",
    "    else:\n",
    "        print(\"welcome to python \",i)\n",
    "        i+=1\n",
    "        welcome()\n",
    "welcome()"
   ]
  },
  {
   "cell_type": "code",
   "execution_count": 1,
   "id": "d32aa171",
   "metadata": {},
   "outputs": [
    {
     "name": "stdout",
     "output_type": "stream",
     "text": [
      "the factorial value = 120\n"
     ]
    }
   ],
   "source": [
    "#factorial numbers finding using recursive \n",
    "#remember if you not apply conditinal statements it will make infinite loop. handle with careful\n",
    "def factorial(num):\n",
    "    if num==1:\n",
    "        return 1\n",
    "    else:\n",
    "        product=num*factorial(num-1)\n",
    "    return product\n",
    "value=factorial(5)\n",
    "print(\"the factorial value =\",value)"
   ]
  },
  {
   "cell_type": "raw",
   "id": "05a0368e",
   "metadata": {},
   "source": [
    "#10 lamda functions \n",
    "#more powerful in pyton \n",
    "a lambda function is a small anonymous function defined using the lambda keyword. Lambda functions can have any number of \n",
    "arguments but can only have one expression. \n",
    "They are often used as a way to create simple functions without the need for a full function definition\n"
   ]
  },
  {
   "cell_type": "code",
   "execution_count": 2,
   "id": "09d75aca",
   "metadata": {},
   "outputs": [
    {
     "name": "stdout",
     "output_type": "stream",
     "text": [
      "the total of 2 num =  50\n"
     ]
    }
   ],
   "source": [
    "#10 lamda functions \n",
    "\n",
    "sum_of_two_num=lambda a,b:a+b\n",
    "total=sum_of_two_num(20,30)\n",
    "print(\"the total of 2 num = \",total)"
   ]
  },
  {
   "cell_type": "code",
   "execution_count": 4,
   "id": "4c898afe",
   "metadata": {},
   "outputs": [
    {
     "name": "stdout",
     "output_type": "stream",
     "text": [
      "the square value =  25\n"
     ]
    }
   ],
   "source": [
    "square=lambda a,b:a**2+b**2+2*a*b\n",
    "print(\"the square value = \",square(2,3))"
   ]
  },
  {
   "cell_type": "code",
   "execution_count": null,
   "id": "7a3d92e8",
   "metadata": {},
   "outputs": [],
   "source": []
  }
 ],
 "metadata": {
  "kernelspec": {
   "display_name": "Python 3 (ipykernel)",
   "language": "python",
   "name": "python3"
  },
  "language_info": {
   "codemirror_mode": {
    "name": "ipython",
    "version": 3
   },
   "file_extension": ".py",
   "mimetype": "text/x-python",
   "name": "python",
   "nbconvert_exporter": "python",
   "pygments_lexer": "ipython3",
   "version": "3.11.5"
  }
 },
 "nbformat": 4,
 "nbformat_minor": 5
}
