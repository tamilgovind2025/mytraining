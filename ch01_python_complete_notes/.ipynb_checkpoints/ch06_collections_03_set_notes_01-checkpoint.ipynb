{
 "cells": [
  {
   "cell_type": "markdown",
   "id": "45359ad4",
   "metadata": {},
   "source": [
    "# set introduction"
   ]
  },
  {
   "cell_type": "code",
   "execution_count": null,
   "id": "36e8e724",
   "metadata": {},
   "outputs": [],
   "source": [
    "intro=\"\"\"\n",
    "a set is an unordered collection of unique elements. Sets are mutable, meaning you can add or remove elements from them, \n",
    "but the elements themselves must be immutable (such as numbers, strings, or tuples).\n",
    "\n",
    "cannot index and slicing \n",
    "\n",
    "\"\"\""
   ]
  },
  {
   "cell_type": "code",
   "execution_count": 2,
   "id": "2fe1b1ce",
   "metadata": {},
   "outputs": [
    {
     "name": "stdout",
     "output_type": "stream",
     "text": [
      "<class 'dict'>\n",
      "<class 'set'>\n",
      "<class 'set'>\n"
     ]
    }
   ],
   "source": [
    "#creating an empty set is tricky \n",
    "\n",
    "s1={} #default is dict not set\n",
    "s2={1}\n",
    "print(type(s1))\n",
    "print(type(s2))\n",
    "\n",
    "#to create empty set \n",
    "s3=set()\n",
    "print(type(s3))\n"
   ]
  },
  {
   "cell_type": "code",
   "execution_count": 6,
   "id": "fe23d3e9",
   "metadata": {},
   "outputs": [
    {
     "name": "stdout",
     "output_type": "stream",
     "text": [
      "{2, 3, 4, 5, 6, 7, 8, 9}\n",
      "{32, 65, 34, 87, 56, 12, 78}\n"
     ]
    }
   ],
   "source": [
    "#creating set \n",
    "\n",
    "s1={3,2,4,5,7,9,4,2,3,4,5,6,7,8}\n",
    "print(s1)\n",
    "\n",
    "s1={34,65,87,32,12,34,56,78,65,34,32}\n",
    "print(s1)"
   ]
  },
  {
   "cell_type": "code",
   "execution_count": 7,
   "id": "7969c201",
   "metadata": {},
   "outputs": [
    {
     "ename": "TypeError",
     "evalue": "'set' object is not subscriptable",
     "output_type": "error",
     "traceback": [
      "\u001b[1;31m---------------------------------------------------------------------------\u001b[0m",
      "\u001b[1;31mTypeError\u001b[0m                                 Traceback (most recent call last)",
      "Cell \u001b[1;32mIn[7], line 4\u001b[0m\n\u001b[0;32m      1\u001b[0m \u001b[38;5;66;03m#sets cannot slicing and indexing \u001b[39;00m\n\u001b[0;32m      3\u001b[0m s1\u001b[38;5;241m=\u001b[39m{\u001b[38;5;241m34\u001b[39m,\u001b[38;5;241m65\u001b[39m,\u001b[38;5;241m87\u001b[39m,\u001b[38;5;241m32\u001b[39m,\u001b[38;5;241m12\u001b[39m,\u001b[38;5;241m34\u001b[39m,\u001b[38;5;241m56\u001b[39m,\u001b[38;5;241m78\u001b[39m,\u001b[38;5;241m65\u001b[39m,\u001b[38;5;241m34\u001b[39m,\u001b[38;5;241m32\u001b[39m}\n\u001b[1;32m----> 4\u001b[0m \u001b[38;5;28mprint\u001b[39m(s1[\u001b[38;5;241m0\u001b[39m])\n",
      "\u001b[1;31mTypeError\u001b[0m: 'set' object is not subscriptable"
     ]
    }
   ],
   "source": [
    "#sets cannot slicing and indexing \n",
    "\n",
    "s1={34,65,87,32,12,34,56,78,65,34,32}\n",
    "print(s1[0])"
   ]
  },
  {
   "cell_type": "markdown",
   "id": "16fbcf62",
   "metadata": {},
   "source": [
    "## set functions and inbuilt methods"
   ]
  },
  {
   "cell_type": "code",
   "execution_count": 12,
   "id": "5011a70c",
   "metadata": {},
   "outputs": [
    {
     "name": "stdout",
     "output_type": "stream",
     "text": [
      "{32, 65, 34, 87, 56, 12, 78}\n",
      "True\n",
      "False\n",
      "True\n",
      "True\n",
      "True\n",
      "False\n",
      "sum =  364\n",
      "the max value =  87\n",
      "the min value =  12\n",
      "the len of set =  7\n",
      "the sorted set =  [12, 32, 34, 56, 65, 78, 87]\n",
      "0 32\n",
      "1 65\n",
      "2 34\n",
      "3 87\n",
      "4 56\n",
      "5 12\n",
      "6 78\n"
     ]
    }
   ],
   "source": [
    "s1={34,65,87,32,12,34,56,78,65,34,32}\n",
    "s2=set()\n",
    "s3={0,2,3,4,5}\n",
    "\n",
    "print(s1)\n",
    "\n",
    "print(any(s1))\n",
    "print(any(s2))\n",
    "print(any(s3))\n",
    "\n",
    "print(all(s1))\n",
    "print(all(s2))\n",
    "print(all(s3))\n",
    "\n",
    "print(\"sum = \",sum(s1))\n",
    "print(\"the max value = \",max(s1))\n",
    "print(\"the min value = \",min(s1))\n",
    "print('the len of set = ',len(s1))\n",
    "print(\"the sorted set = \",sorted(s1))\n",
    "\n",
    "for index,value in enumerate(s1):\n",
    "    print(index,value)\n"
   ]
  },
  {
   "cell_type": "code",
   "execution_count": 18,
   "id": "136807df",
   "metadata": {},
   "outputs": [
    {
     "name": "stdout",
     "output_type": "stream",
     "text": [
      "{21, 23, 24, 25, 27, 28}\n",
      "{27, 28, 29, 30}\n",
      "{32, 27, 28, 29, 30}\n",
      "set()\n",
      "s3 set =  {21, 23, 24, 25, 27, 28}\n"
     ]
    }
   ],
   "source": [
    "#inbuilt methods \n",
    "s1={21,23,24,25,27,28}\n",
    "s2={27,28,29,30}\n",
    "\n",
    "print(s1)\n",
    "print(s2)\n",
    "\n",
    "#add()\n",
    "s2.add(32) #note only one argument has to give\n",
    "print(s2)\n",
    "\n",
    "#clear()\n",
    "s2.clear() #clear all the data in set2\n",
    "print(s2) \n",
    "\n",
    "#copy()\n",
    "s3=s1.copy()\n",
    "print(\"s3 set = \",s3)"
   ]
  },
  {
   "cell_type": "code",
   "execution_count": 24,
   "id": "f4ef024a",
   "metadata": {},
   "outputs": [
    {
     "name": "stdout",
     "output_type": "stream",
     "text": [
      "{21, 23, 24, 25, 27, 28}\n",
      "{27, 28, 29, 30}\n",
      "s1.difference(s2) value =  {24, 25, 21, 23}\n",
      "s1.difference_update(s1) value =  {21, 23, 24, 25}\n"
     ]
    }
   ],
   "source": [
    "s1={21,23,24,25,27,28}\n",
    "s2={27,28,29,30}\n",
    "\n",
    "print(s1)\n",
    "print(s2)\n",
    "\n",
    "s3=s1.difference(s2)\n",
    "print(\"s1.difference(s2) value = \",s3)\n",
    "\n",
    "s1.difference_update(s2)\n",
    "print(\"s1.difference_update(s1) value = \",s1)"
   ]
  },
  {
   "cell_type": "code",
   "execution_count": 27,
   "id": "8dc96a03",
   "metadata": {},
   "outputs": [
    {
     "name": "stdout",
     "output_type": "stream",
     "text": [
      "{21, 23, 24, 25, 27, 28}\n",
      "{27, 28, 29, 30}\n",
      "{21, 23, 24, 25, 27}\n",
      "{21, 23, 24, 25, 27}\n",
      "{21, 23, 24, 25}\n"
     ]
    },
    {
     "ename": "KeyError",
     "evalue": "277",
     "output_type": "error",
     "traceback": [
      "\u001b[1;31m---------------------------------------------------------------------------\u001b[0m",
      "\u001b[1;31mKeyError\u001b[0m                                  Traceback (most recent call last)",
      "Cell \u001b[1;32mIn[27], line 16\u001b[0m\n\u001b[0;32m     13\u001b[0m s1\u001b[38;5;241m.\u001b[39mremove(\u001b[38;5;241m27\u001b[39m)\n\u001b[0;32m     14\u001b[0m \u001b[38;5;28mprint\u001b[39m(s1)\n\u001b[1;32m---> 16\u001b[0m s1\u001b[38;5;241m.\u001b[39mremove(\u001b[38;5;241m277\u001b[39m)\n\u001b[0;32m     17\u001b[0m \u001b[38;5;28mprint\u001b[39m(s2)\n",
      "\u001b[1;31mKeyError\u001b[0m: 277"
     ]
    }
   ],
   "source": [
    "s1={21,23,24,25,27,28}\n",
    "s2={27,28,29,30}\n",
    "\n",
    "print(s1)\n",
    "print(s2)\n",
    "\n",
    "s1.discard(28)\n",
    "print(s1)\n",
    "\n",
    "s1.discard(288) #it value not present in set it will not throw error but remove method will throw error\n",
    "print(s1)\n",
    "\n",
    "s1.remove(27)\n",
    "print(s1)\n",
    "\n",
    "s1.remove(277) #it will throw error\n",
    "print(s2)"
   ]
  },
  {
   "cell_type": "code",
   "execution_count": 2,
   "id": "38ab7dec",
   "metadata": {},
   "outputs": [
    {
     "name": "stdout",
     "output_type": "stream",
     "text": [
      "the intersection s1 and s2 =  {27, 28}\n",
      "the intersection s1 and s2 =  {27, 28}\n"
     ]
    }
   ],
   "source": [
    "s1={21,23,24,25,27,28}\n",
    "s2={27,28,29,30}\n",
    "\n",
    "#intersection \n",
    "s3= s1.intersection(s2)\n",
    "print(\"the intersection s1 and s2 = \",s3)\n",
    "\n",
    "s1.intersection_update(s2)\n",
    "print(\"the intersection s1 and s2 = \",s1)"
   ]
  },
  {
   "cell_type": "code",
   "execution_count": 4,
   "id": "037f8d9f",
   "metadata": {},
   "outputs": [
    {
     "name": "stdout",
     "output_type": "stream",
     "text": [
      "False\n",
      "True\n"
     ]
    }
   ],
   "source": [
    "#isdisjoint()\n",
    "\n",
    "s1={1,2,3,4,5,6}\n",
    "s2={4,5,6,7,8,9}\n",
    "s3={10,11,12,13,14}\n",
    "\n",
    "s4=s1.isdisjoint(s2)\n",
    "print(s4)\n",
    "\n",
    "s4=s1.isdisjoint(s3)\n",
    "print(s4)"
   ]
  },
  {
   "cell_type": "code",
   "execution_count": 7,
   "id": "dc4d604c",
   "metadata": {},
   "outputs": [
    {
     "name": "stdout",
     "output_type": "stream",
     "text": [
      "False\n",
      "False\n",
      "True\n",
      "False\n"
     ]
    }
   ],
   "source": [
    "#issubset() and issuperset()\n",
    "\n",
    "s1={1,2,3,4,5,6}\n",
    "s2={1,2,3}\n",
    "s3={10,11,12,13,14}\n",
    "\n",
    "s4=s1.issubset(s2)\n",
    "print(s4)\n",
    "s4=s1.issubset(s3)\n",
    "print(s4)\n",
    "\n",
    "s4=s1.issuperset(s2)\n",
    "print(s4)\n",
    "s4=s1.issuperset(s3)\n",
    "print(s4)"
   ]
  },
  {
   "cell_type": "code",
   "execution_count": 8,
   "id": "5e387563",
   "metadata": {},
   "outputs": [
    {
     "name": "stdout",
     "output_type": "stream",
     "text": [
      "{32, 21, 87, 56, 43, 12, 45}\n",
      "{21, 87, 56, 43, 12, 45}\n"
     ]
    }
   ],
   "source": [
    "#pop()\n",
    "s1={21,43,56,87,32,12,45}\n",
    "print(s1)\n",
    "s1.pop()\n",
    "print(s1)"
   ]
  },
  {
   "cell_type": "code",
   "execution_count": 10,
   "id": "05c36a6b",
   "metadata": {},
   "outputs": [
    {
     "name": "stdout",
     "output_type": "stream",
     "text": [
      "{43, 12, 46, 48, 22, 87, 56}\n",
      "{43, 12, 46, 48, 22, 87, 56}\n"
     ]
    }
   ],
   "source": [
    "#symmetric_difference() and symmetric_difference_update()\n",
    "\n",
    "s1={21,43,56,87,32,12,45}\n",
    "s2={21,32,45,22,46,48}\n",
    "\n",
    "s3=s1.symmetric_difference(s2)\n",
    "print(s3)\n",
    "\n",
    "s1.symmetric_difference_update(s2)\n",
    "print(s1)"
   ]
  },
  {
   "cell_type": "code",
   "execution_count": 11,
   "id": "61a5b439",
   "metadata": {},
   "outputs": [
    {
     "name": "stdout",
     "output_type": "stream",
     "text": [
      "{32, 43, 12, 45, 46, 48, 21, 22, 87, 56}\n",
      "{32, 43, 12, 45, 46, 48, 21, 22, 87, 56}\n"
     ]
    }
   ],
   "source": [
    "#union() and update()\n",
    "\n",
    "s1={21,43,56,87,32,12,45}\n",
    "s2={21,32,45,22,46,48}\n",
    "\n",
    "s3=s1.union(s2)\n",
    "print(s3)\n",
    "\n",
    "s1.update(s2)\n",
    "print(s1)"
   ]
  },
  {
   "cell_type": "markdown",
   "id": "f01891cd",
   "metadata": {},
   "source": [
    "## membership and iteration in sets \n"
   ]
  },
  {
   "cell_type": "code",
   "execution_count": 13,
   "id": "34ff180f",
   "metadata": {},
   "outputs": [
    {
     "name": "stdout",
     "output_type": "stream",
     "text": [
      "False\n",
      "True\n",
      "True\n",
      "False\n"
     ]
    }
   ],
   "source": [
    "#membership operators \n",
    "\n",
    "s1={21,43,56,87,32,12,45}\n",
    "\n",
    "print(55 in s1)\n",
    "print(45 in s1)\n",
    "\n",
    "print(55 not in s1)\n",
    "print(45 not in s1)"
   ]
  },
  {
   "cell_type": "code",
   "execution_count": 15,
   "id": "39d03eb3",
   "metadata": {},
   "outputs": [
    {
     "name": "stdout",
     "output_type": "stream",
     "text": [
      "32\n",
      "21\n",
      "87\n",
      "56\n",
      "43\n",
      "12\n",
      "45\n"
     ]
    }
   ],
   "source": [
    "#iteration \n",
    "\n",
    "s1={21,43,56,87,32,12,45}\n",
    "\n",
    "for i in s1:\n",
    "    print(i)"
   ]
  },
  {
   "cell_type": "code",
   "execution_count": 16,
   "id": "177df8d1",
   "metadata": {},
   "outputs": [
    {
     "name": "stdout",
     "output_type": "stream",
     "text": [
      "{0, 2, 4, 6, 8, 10}\n"
     ]
    }
   ],
   "source": [
    "#set comprehension \n",
    "\n",
    "myset={x for x in range(11) if x%2==0}\n",
    "print(myset)"
   ]
  },
  {
   "cell_type": "code",
   "execution_count": 17,
   "id": "915798bb",
   "metadata": {},
   "outputs": [
    {
     "name": "stdout",
     "output_type": "stream",
     "text": [
      "{(2, 'a'), (3, 'a'), (1, 'a'), (2, 'b'), (3, 'b'), (1, 'b')}\n"
     ]
    }
   ],
   "source": [
    "# Cartesian Product of two sets\n",
    "cartesian_product = {(x, y) for x in {1, 2, 3} for y in {'a', 'b'}}\n",
    "print(cartesian_product)"
   ]
  },
  {
   "cell_type": "code",
   "execution_count": 18,
   "id": "6bde11ba",
   "metadata": {},
   "outputs": [
    {
     "data": {
      "text/plain": [
       "True"
      ]
     },
     "execution_count": 18,
     "metadata": {},
     "output_type": "execute_result"
    }
   ],
   "source": [
    "# Check if two sets are equal\n",
    "are_equal = {1, 2, 3} == {3, 2, 1}\n",
    "are_equal"
   ]
  },
  {
   "cell_type": "code",
   "execution_count": 20,
   "id": "859f6f32",
   "metadata": {},
   "outputs": [
    {
     "data": {
      "text/plain": [
       "{'l', 'o'}"
      ]
     },
     "execution_count": 20,
     "metadata": {},
     "output_type": "execute_result"
    }
   ],
   "source": [
    "# Creating a set of characters from a string\n",
    "my_string = \"hello\"\n",
    "char_set = set(my_string)\n",
    "\n",
    "# Check for common characters between two strings\n",
    "common_chars = set(\"hello\").intersection(\"world\")\n",
    "common_chars"
   ]
  },
  {
   "cell_type": "code",
   "execution_count": 21,
   "id": "26807ca6",
   "metadata": {},
   "outputs": [
    {
     "name": "stdout",
     "output_type": "stream",
     "text": [
      "[{8}, {1, 2}, {6, 7}, {3, 4, 5}]\n"
     ]
    }
   ],
   "source": [
    "# List of sets\n",
    "sets_list = [{1, 2}, {3, 4, 5}, {6, 7}, {8}]\n",
    "\n",
    "# Sort the list based on the length of sets\n",
    "sorted_sets_list = sorted(sets_list, key=len)\n",
    "\n",
    "print(sorted_sets_list)"
   ]
  },
  {
   "cell_type": "code",
   "execution_count": null,
   "id": "733a8a54",
   "metadata": {},
   "outputs": [],
   "source": []
  },
  {
   "cell_type": "code",
   "execution_count": null,
   "id": "6c942ccf",
   "metadata": {},
   "outputs": [],
   "source": []
  }
 ],
 "metadata": {
  "kernelspec": {
   "display_name": "Python 3 (ipykernel)",
   "language": "python",
   "name": "python3"
  },
  "language_info": {
   "codemirror_mode": {
    "name": "ipython",
    "version": 3
   },
   "file_extension": ".py",
   "mimetype": "text/x-python",
   "name": "python",
   "nbconvert_exporter": "python",
   "pygments_lexer": "ipython3",
   "version": "3.11.5"
  }
 },
 "nbformat": 4,
 "nbformat_minor": 5
}
