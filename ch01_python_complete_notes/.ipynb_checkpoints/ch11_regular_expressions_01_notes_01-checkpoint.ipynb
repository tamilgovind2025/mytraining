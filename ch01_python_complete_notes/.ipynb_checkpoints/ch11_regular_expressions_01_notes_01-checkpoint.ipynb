{
 "cells": [
  {
   "cell_type": "markdown",
   "id": "cafd523c",
   "metadata": {},
   "source": [
    "# regular expression"
   ]
  },
  {
   "cell_type": "markdown",
   "id": "8a08816e",
   "metadata": {},
   "source": [
    "## findall"
   ]
  },
  {
   "cell_type": "raw",
   "id": "7e2c7633",
   "metadata": {},
   "source": [
    "\"\"\"\n",
    "regular expression \n",
    "re \n",
    "\n",
    "\"\"\""
   ]
  },
  {
   "cell_type": "code",
   "execution_count": 2,
   "id": "89d841d0",
   "metadata": {},
   "outputs": [
    {
     "name": "stdout",
     "output_type": "stream",
     "text": [
      "['come']\n"
     ]
    }
   ],
   "source": [
    "import re \n",
    "string=\"welcome to python class\"\n",
    "result=re.findall(\"come\",string)\n",
    "print(result)"
   ]
  },
  {
   "cell_type": "code",
   "execution_count": 3,
   "id": "9c79e17a",
   "metadata": {},
   "outputs": [
    {
     "name": "stdout",
     "output_type": "stream",
     "text": [
      "['o', 'o', 'o']\n"
     ]
    }
   ],
   "source": [
    "import re \n",
    "string=\"welcome to python class\"\n",
    "result=re.findall(\"o\",string)\n",
    "print(result)"
   ]
  },
  {
   "cell_type": "code",
   "execution_count": 4,
   "id": "2b287da0",
   "metadata": {},
   "outputs": [
    {
     "name": "stdout",
     "output_type": "stream",
     "text": [
      "[]\n"
     ]
    }
   ],
   "source": [
    "import re \n",
    "string=\"welcome to python class\"\n",
    "result=re.findall(\"z\",string)\n",
    "print(result)"
   ]
  },
  {
   "cell_type": "code",
   "execution_count": 5,
   "id": "c887da62",
   "metadata": {},
   "outputs": [
    {
     "name": "stdout",
     "output_type": "stream",
     "text": [
      "[]\n"
     ]
    }
   ],
   "source": [
    "import re \n",
    "string=\"welcome to python class\"\n",
    "find=\"love\"\n",
    "result=re.findall(find,string)\n",
    "print(result)"
   ]
  },
  {
   "cell_type": "markdown",
   "id": "04cf7bd3",
   "metadata": {},
   "source": [
    "##  search"
   ]
  },
  {
   "cell_type": "code",
   "execution_count": 7,
   "id": "f41147a7",
   "metadata": {},
   "outputs": [
    {
     "name": "stdout",
     "output_type": "stream",
     "text": [
      "<re.Match object; span=(3, 7), match='come'>\n"
     ]
    }
   ],
   "source": [
    "import re \n",
    "string=\"welcome to python class\"\n",
    "find=\"come\"\n",
    "result=re.search(find,string)\n",
    "print(result)"
   ]
  },
  {
   "cell_type": "code",
   "execution_count": 8,
   "id": "6b03763a",
   "metadata": {},
   "outputs": [
    {
     "name": "stdout",
     "output_type": "stream",
     "text": [
      "3\n"
     ]
    }
   ],
   "source": [
    "#search and start\n",
    "import re \n",
    "string=\"welcome to python class\"\n",
    "find=\"come\"\n",
    "result=re.search(find,string).start()\n",
    "print(result)"
   ]
  },
  {
   "cell_type": "code",
   "execution_count": 9,
   "id": "d51b1c42",
   "metadata": {},
   "outputs": [
    {
     "name": "stdout",
     "output_type": "stream",
     "text": [
      "(3, 7)\n"
     ]
    }
   ],
   "source": [
    "#span \n",
    "import re \n",
    "string=\"welcome to python class\"\n",
    "find=\"come\"\n",
    "result=re.search(find,string).span()\n",
    "print(result)"
   ]
  },
  {
   "cell_type": "code",
   "execution_count": 2,
   "id": "9ed6e687",
   "metadata": {},
   "outputs": [
    {
     "name": "stdout",
     "output_type": "stream",
     "text": [
      "welcome to python class\n"
     ]
    }
   ],
   "source": [
    "#string \n",
    "\n",
    "import re \n",
    "string2=\"welcome to python class\"\n",
    "find=\"come\"\n",
    "result=re.search(find,string2).string\n",
    "print(result)"
   ]
  },
  {
   "cell_type": "code",
   "execution_count": 4,
   "id": "af3f48af",
   "metadata": {},
   "outputs": [
    {
     "name": "stdout",
     "output_type": "stream",
     "text": [
      "7\n"
     ]
    }
   ],
   "source": [
    "import re \n",
    "string2=\"welcome to python class\"\n",
    "find=\"come\"\n",
    "result=re.search(find,string2).end()\n",
    "print(result)"
   ]
  },
  {
   "cell_type": "code",
   "execution_count": 6,
   "id": "1adcbdad",
   "metadata": {},
   "outputs": [
    {
     "name": "stdout",
     "output_type": "stream",
     "text": [
      "23\n"
     ]
    }
   ],
   "source": [
    "import re \n",
    "string2=\"welcome to python class\"\n",
    "find=\"come\"\n",
    "result=re.search(find,string2).endpos\n",
    "print(result)"
   ]
  },
  {
   "cell_type": "code",
   "execution_count": 8,
   "id": "a0c8c159",
   "metadata": {},
   "outputs": [
    {
     "name": "stdout",
     "output_type": "stream",
     "text": [
      "<re.Match object; span=(3, 7), match='come'>\n"
     ]
    }
   ],
   "source": [
    "import re \n",
    "string2=\"welcome to python class\"\n",
    "find=\"come\"\n",
    "result=re.search(find,string2)\n",
    "print(result)\n"
   ]
  },
  {
   "cell_type": "markdown",
   "id": "67762f0f",
   "metadata": {},
   "source": [
    "## split"
   ]
  },
  {
   "cell_type": "code",
   "execution_count": 10,
   "id": "970ddf18",
   "metadata": {},
   "outputs": [
    {
     "name": "stdout",
     "output_type": "stream",
     "text": [
      "['hi ', ' to python class']\n"
     ]
    }
   ],
   "source": [
    "import re \n",
    "string1=\"hi welcome to python class\"\n",
    "result=re.split(\"welcome\",string1)\n",
    "print(result)"
   ]
  },
  {
   "cell_type": "code",
   "execution_count": 11,
   "id": "9041d9b7",
   "metadata": {},
   "outputs": [
    {
     "name": "stdout",
     "output_type": "stream",
     "text": [
      "['', ' welcome to python class']\n"
     ]
    }
   ],
   "source": [
    "import re \n",
    "string1=\"hi welcome to python class\"\n",
    "result=re.split(\"hi\",string1)\n",
    "print(result)"
   ]
  },
  {
   "cell_type": "code",
   "execution_count": 12,
   "id": "c95dddd6",
   "metadata": {},
   "outputs": [
    {
     "name": "stdout",
     "output_type": "stream",
     "text": [
      "['hi', 'welcome', 'to', 'python', 'class']\n"
     ]
    }
   ],
   "source": [
    "import re \n",
    "string1=\"hi welcome to python class\"\n",
    "result=re.split(\" \",string1)\n",
    "print(result)"
   ]
  },
  {
   "cell_type": "code",
   "execution_count": 13,
   "id": "c8709e4d",
   "metadata": {},
   "outputs": [
    {
     "name": "stdout",
     "output_type": "stream",
     "text": [
      "['hi', 'welcome', 'to python class']\n"
     ]
    }
   ],
   "source": [
    "import re \n",
    "string1=\"hi welcome to python class\"\n",
    "result=re.split(\" \",string1,2)\n",
    "print(result)"
   ]
  },
  {
   "cell_type": "markdown",
   "id": "c985fa07",
   "metadata": {},
   "source": [
    "## sub"
   ]
  },
  {
   "cell_type": "code",
   "execution_count": 14,
   "id": "0d2dd013",
   "metadata": {},
   "outputs": [
    {
     "name": "stdout",
     "output_type": "stream",
     "text": [
      "hi*welcome*to*python*class\n"
     ]
    }
   ],
   "source": [
    "import re \n",
    "string1=\"hi welcome to python class\"\n",
    "result=re.sub(\" \",\"*\",string1)\n",
    "print(result)"
   ]
  },
  {
   "cell_type": "code",
   "execution_count": 15,
   "id": "94f3035a",
   "metadata": {},
   "outputs": [
    {
     "name": "stdout",
     "output_type": "stream",
     "text": [
      "hi*welcome*to python class\n"
     ]
    }
   ],
   "source": [
    "import re \n",
    "string1=\"hi welcome to python class\"\n",
    "result=re.sub(\" \",\"*\",string1,2)\n",
    "print(result)"
   ]
  },
  {
   "cell_type": "markdown",
   "id": "bd837f7f",
   "metadata": {},
   "source": [
    "# meta characters"
   ]
  },
  {
   "cell_type": "code",
   "execution_count": 16,
   "id": "e38e00b7",
   "metadata": {},
   "outputs": [
    {
     "name": "stdout",
     "output_type": "stream",
     "text": [
      "['w']\n"
     ]
    }
   ],
   "source": [
    "import re \n",
    "string1=\"welcome to python class\"\n",
    "result=re.findall(\"[w]\",string1)\n",
    "print(result)"
   ]
  },
  {
   "cell_type": "code",
   "execution_count": 17,
   "id": "2b20f5e1",
   "metadata": {},
   "outputs": [
    {
     "name": "stdout",
     "output_type": "stream",
     "text": [
      "['w', 'e', 'o', 'e', 'o', 'o']\n"
     ]
    }
   ],
   "source": [
    "import re \n",
    "string1=\"welcome to python class\"\n",
    "result=re.findall(\"[weo]\",string1) #separate the characters\n",
    "print(result)"
   ]
  },
  {
   "cell_type": "code",
   "execution_count": 18,
   "id": "6229f468",
   "metadata": {},
   "outputs": [
    {
     "name": "stdout",
     "output_type": "stream",
     "text": [
      "['w']\n"
     ]
    }
   ],
   "source": [
    "import re \n",
    "string1=\"welcome to python class\"\n",
    "result=re.findall(\"^w\",string1) #separate the characters\n",
    "print(result)"
   ]
  },
  {
   "cell_type": "code",
   "execution_count": 19,
   "id": "48a5dc91",
   "metadata": {},
   "outputs": [
    {
     "name": "stdout",
     "output_type": "stream",
     "text": [
      "[]\n"
     ]
    }
   ],
   "source": [
    "import re \n",
    "string1=\"welcome to python class\"\n",
    "result=re.findall(\"^zer\",string1) #separate the characters\n",
    "print(result)"
   ]
  },
  {
   "cell_type": "code",
   "execution_count": 20,
   "id": "1737d44b",
   "metadata": {},
   "outputs": [
    {
     "name": "stdout",
     "output_type": "stream",
     "text": [
      "['welc']\n"
     ]
    }
   ],
   "source": [
    "import re \n",
    "string1=\"welcome to python class\"\n",
    "result=re.findall(\"^welc\",string1) #separate the characters\n",
    "print(result)"
   ]
  },
  {
   "cell_type": "code",
   "execution_count": 21,
   "id": "a2533a6f",
   "metadata": {},
   "outputs": [
    {
     "name": "stdout",
     "output_type": "stream",
     "text": [
      "['a', 'a']\n"
     ]
    }
   ],
   "source": [
    "#regular expressions \n",
    "\n",
    "import re\n",
    "\n",
    "string = \"This is a sample string with some words.\"\n",
    "pattern = r'a'\n",
    "\n",
    "matches = re.findall(pattern, string)\n",
    "print(matches)"
   ]
  },
  {
   "cell_type": "markdown",
   "id": "3749c45c",
   "metadata": {},
   "source": [
    "# Special Characters"
   ]
  },
  {
   "cell_type": "raw",
   "id": "132edf9f",
   "metadata": {},
   "source": [
    "In regular expressions, some characters have special meanings and are used to perform specific tasks. To match these special characters as literal characters, you need to escape them with a backslash \\.\n",
    "\n",
    "Here are some common special characters in regular expressions:\n",
    "\n",
    ". : Matches any character except a newline.\n",
    "^ : Matches the start of the string.\n",
    "$ : Matches the end of the string.\n",
    "* : Matches 0 or more occurrences of the preceding character.\n",
    "+ : Matches 1 or more occurrences of the preceding character.\n",
    "? : Matches 0 or 1 occurrence of the preceding character.\n",
    "\\ : Escapes a special character, allowing you to match it as a literal character.\n",
    "Here's an example that shows how to match a period . as a literal character:"
   ]
  },
  {
   "cell_type": "code",
   "execution_count": 24,
   "id": "0e270a7e",
   "metadata": {},
   "outputs": [
    {
     "name": "stdout",
     "output_type": "stream",
     "text": [
      "['T']\n"
     ]
    }
   ],
   "source": [
    "import re\n",
    "\n",
    "string = \"The price is $5.99.\"\n",
    "pattern = r'^T'\n",
    "\n",
    "matches = re.findall(pattern, string)\n",
    "print(matches)\n"
   ]
  },
  {
   "cell_type": "code",
   "execution_count": 25,
   "id": "bf888c9f",
   "metadata": {},
   "outputs": [
    {
     "name": "stdout",
     "output_type": "stream",
     "text": [
      "['.', '.']\n"
     ]
    }
   ],
   "source": [
    "import re\n",
    "\n",
    "string = \"The price is $5.99.\"\n",
    "pattern = r'\\.'\n",
    "\n",
    "matches = re.findall(pattern, string)\n",
    "print(matches)\n"
   ]
  },
  {
   "cell_type": "code",
   "execution_count": 31,
   "id": "e01aa5e2",
   "metadata": {},
   "outputs": [
    {
     "name": "stdout",
     "output_type": "stream",
     "text": [
      "[]\n"
     ]
    }
   ],
   "source": [
    "import re\n",
    "\n",
    "string = \"The price is $5.99.\"\n",
    "pattern = r'\\+'\n",
    "\n",
    "matches = re.findall(pattern, string)\n",
    "print(matches)\n"
   ]
  },
  {
   "cell_type": "code",
   "execution_count": 33,
   "id": "630858ae",
   "metadata": {},
   "outputs": [
    {
     "name": "stdout",
     "output_type": "stream",
     "text": [
      "['$']\n"
     ]
    }
   ],
   "source": [
    "import re\n",
    "\n",
    "string = \"The price is $5.99.\"\n",
    "pattern = r'\\$'\n",
    "\n",
    "matches = re.findall(pattern, string)\n",
    "print(matches)"
   ]
  },
  {
   "cell_type": "code",
   "execution_count": 34,
   "id": "b6a51f34",
   "metadata": {},
   "outputs": [
    {
     "name": "stdout",
     "output_type": "stream",
     "text": [
      "['T', 'h', 'e', 'p', 'a', 's', 's', 'w', 'o', 'r', 'd', 'i', 's', 'P', 's', 's', 'w', '0', 'r', 'd']\n"
     ]
    }
   ],
   "source": [
    "#character class \n",
    "\n",
    "import re\n",
    "\n",
    "string = \"The password is P@ssw0rd!\"\n",
    "pattern = r'[a-zA-Z0-9]'\n",
    "\n",
    "matches = re.findall(pattern, string)\n",
    "print(matches)\n"
   ]
  },
  {
   "cell_type": "raw",
   "id": "7a2e1460",
   "metadata": {},
   "source": [
    ". : Matches any character except a newline.\n",
    "\\d : Matches any digit, equivalent to [0-9].\n",
    "\\D : Matches any non-digit character, equivalent to [^0-9].\n",
    "\\w : Matches any alphanumeric character, equivalent to [a-zA-Z0-9_].\n",
    "\\W : Matches any non-alphanumeric character, equivalent to [^a-zA-Z0-9_].\n",
    "\\s : Matches any whitespace character (space, tab, newline).\n",
    "\\S : Matches any non-whitespace character.\n",
    "Here's an example that demonstrates some of these character classes:"
   ]
  },
  {
   "cell_type": "code",
   "execution_count": 35,
   "id": "77e94aa7",
   "metadata": {},
   "outputs": [
    {
     "name": "stdout",
     "output_type": "stream",
     "text": [
      "[' ', ' ', ' ', '@', '!']\n"
     ]
    }
   ],
   "source": [
    "import re\n",
    "\n",
    "string = \"The password is P@ssw0rd!\"\n",
    "pattern = r'\\W'\n",
    "\n",
    "matches = re.findall(pattern, string)\n",
    "print(matches)\n"
   ]
  },
  {
   "cell_type": "markdown",
   "id": "869641dc",
   "metadata": {},
   "source": [
    "# quantifiers"
   ]
  },
  {
   "cell_type": "raw",
   "id": "8b4d6aa3",
   "metadata": {},
   "source": [
    "Quantifiers in regular expressions specify how many times a character or a group of characters can occur. They can be used to match patterns like \"zero or more occurrences,\" \"one or more occurrences,\" or \"exactly n occurrences\" of a character or group.\n",
    "\n",
    "Here are some common quantifiers:\n",
    "\n",
    "* : Matches 0 or more occurrences of the preceding character or group.\n",
    "+ : Matches 1 or more occurrences of the preceding character or group.\n",
    "? : Matches 0 or 1 occurrence of the preceding character or group.\n",
    "{n} : Matches exactly n occurrences of the preceding character or group.\n",
    "{n,} : Matches n or more occurrences of the preceding character or group.\n",
    "{n,m} : Matches between n and m occurrences of the preceding character or group.\n",
    "Here's an example that demonstrates quantifiers:"
   ]
  },
  {
   "cell_type": "code",
   "execution_count": 36,
   "id": "353d26d7",
   "metadata": {},
   "outputs": [
    {
     "name": "stdout",
     "output_type": "stream",
     "text": [
      "['', '', 'ccc', '', '', '', '', '', '', '', '', '', '', '', '', '']\n",
      "['eeee']\n",
      "['ddd']\n"
     ]
    }
   ],
   "source": [
    "import re\n",
    "\n",
    "string = \"abcccdddeeeefffff\"\n",
    "pattern1 = r'c*'\n",
    "pattern2 = r'e+'\n",
    "pattern3 = r'd{2,3}'\n",
    "\n",
    "matches1 = re.findall(pattern1, string)\n",
    "matches2 = re.findall(pattern2, string)\n",
    "matches3 = re.findall(pattern3, string)\n",
    "\n",
    "print(matches1)\n",
    "print(matches2)\n",
    "print(matches3)\n"
   ]
  },
  {
   "cell_type": "raw",
   "id": "6f5d9cfe",
   "metadata": {},
   "source": [
    "* : Matches 0 or more occurrences.\n",
    "+ : Matches 1 or more occurrences.\n",
    "? : Matches 0 or 1 occurrence.\n",
    "{n} : Matches exactly n occurrences.\n",
    "{n,} : Matches n or more occurrences.\n",
    "{n,m} : Matches between n and m occurrences."
   ]
  },
  {
   "cell_type": "code",
   "execution_count": 38,
   "id": "25362960",
   "metadata": {},
   "outputs": [
    {
     "name": "stdout",
     "output_type": "stream",
     "text": [
      "['The', 'cat', 'sat', 'the', 'mat']\n",
      "['that', 'power']\n",
      "['that', 'power']\n"
     ]
    }
   ],
   "source": [
    "import re\n",
    "\n",
    "string = \"The cat sat on the mat that is power\"\n",
    "pattern1 = r'\\b\\w{3}\\b'  # Matches 3-letter words\n",
    "pattern2 = r'\\b\\w{4,}\\b'  # Matches words with 4 or more letters\n",
    "pattern3 = r'\\b\\w{4,6}\\b'  # Matches words with 4 to 6 letters\n",
    "\n",
    "matches1 = re.findall(pattern1, string)\n",
    "matches2 = re.findall(pattern2, string)\n",
    "matches3 = re.findall(pattern3, string)\n",
    "\n",
    "print(matches1)\n",
    "print(matches2)\n",
    "print(matches3)\n"
   ]
  },
  {
   "cell_type": "markdown",
   "id": "ba29c40c",
   "metadata": {},
   "source": [
    "# dot character"
   ]
  },
  {
   "cell_type": "raw",
   "id": "39dd7899",
   "metadata": {},
   "source": [
    "\n",
    "In regular expressions, the dot . character matches any single character except a newline character (\\n). It can be used to represent any character in a pattern.\n",
    "\n",
    "Here's an example that demonstrates the use of the dot . character:"
   ]
  },
  {
   "cell_type": "code",
   "execution_count": 39,
   "id": "fd4a7494",
   "metadata": {},
   "outputs": [
    {
     "name": "stdout",
     "output_type": "stream",
     "text": [
      "['cat', 'sat', 'mat']\n"
     ]
    }
   ],
   "source": [
    "import re\n",
    "\n",
    "string = \"The cat sat on the mat.\"\n",
    "pattern = r'.at'\n",
    "\n",
    "matches = re.findall(pattern, string)\n",
    "print(matches)\n"
   ]
  },
  {
   "cell_type": "raw",
   "id": "48a72fa4",
   "metadata": {},
   "source": [
    "Here are some more examples of using the dot . character in regular expressions:\n",
    "\n",
    ". : Matches any character except a newline.\n",
    ".. : Matches any two characters.\n",
    "... : Matches any three characters.\n",
    ".{3} : Matches any three characters.\n",
    ".* : Matches zero or more occurrences of any character.\n",
    ".+ : Matches one or more occurrences of any character."
   ]
  },
  {
   "cell_type": "code",
   "execution_count": 40,
   "id": "ccdd7e6c",
   "metadata": {},
   "outputs": [
    {
     "name": "stdout",
     "output_type": "stream",
     "text": [
      "['cat', 'sat', 'mat']\n",
      "['cat', 'sat', 'n t', 'mat']\n",
      "['The', ' ca', 't s', 'at ', 'on ', 'the', ' ma']\n",
      "['The cat sat on the mat.', '']\n",
      "['The cat sat on the mat.']\n"
     ]
    }
   ],
   "source": [
    "import re\n",
    "\n",
    "string = \"The cat sat on the mat.\"\n",
    "pattern1 = r'.a.'  # Matches any three-character sequence with 'a' in the middle\n",
    "pattern2 = r'..t'  # Matches any three-character sequence ending with 't'\n",
    "pattern3 = r'.{3}'  # Matches any three-character sequence\n",
    "pattern4 = r'.*'  # Matches zero or more occurrences of any character\n",
    "pattern5 = r'.+'  # Matches one or more occurrences of any character\n",
    "\n",
    "matches1 = re.findall(pattern1, string)\n",
    "matches2 = re.findall(pattern2, string)\n",
    "matches3 = re.findall(pattern3, string)\n",
    "matches4 = re.findall(pattern4, string)\n",
    "matches5 = re.findall(pattern5, string)\n",
    "\n",
    "print(matches1)\n",
    "print(matches2)\n",
    "print(matches3)\n",
    "print(matches4)\n",
    "print(matches5)\n"
   ]
  },
  {
   "cell_type": "raw",
   "id": "458874e9",
   "metadata": {},
   "source": [
    "Here are some more examples of using the dot . character in regular expressions:\n",
    "\n",
    "^. : Matches any character at the beginning of the string.\n",
    ".$ : Matches any character at the end of the string.\n",
    "..$ : Matches any two characters at the end of the string.\n",
    "^.{3}$ : Matches exactly three characters from the start to the end of the string."
   ]
  },
  {
   "cell_type": "code",
   "execution_count": 41,
   "id": "0086ee00",
   "metadata": {},
   "outputs": [
    {
     "name": "stdout",
     "output_type": "stream",
     "text": [
      "['T']\n",
      "['.']\n",
      "['t.']\n",
      "[]\n"
     ]
    }
   ],
   "source": [
    "import re\n",
    "\n",
    "string = \"The cat sat on the mat.\"\n",
    "pattern1 = r'^.'  # Matches any character at the beginning of the string\n",
    "pattern2 = r'.$'  # Matches any character at the end of the string\n",
    "pattern3 = r'..$'  # Matches any two characters at the end of the string\n",
    "pattern4 = r'^.{3}$'  # Matches exactly three characters from start to end\n",
    "\n",
    "matches1 = re.findall(pattern1, string)\n",
    "matches2 = re.findall(pattern2, string)\n",
    "matches3 = re.findall(pattern3, string)\n",
    "matches4 = re.findall(pattern4, string)\n",
    "\n",
    "print(matches1)\n",
    "print(matches2)\n",
    "print(matches3)\n",
    "print(matches4)\n"
   ]
  },
  {
   "cell_type": "markdown",
   "id": "9d575c7e",
   "metadata": {},
   "source": [
    "# greedy mathces"
   ]
  },
  {
   "cell_type": "raw",
   "id": "1f04d5ca",
   "metadata": {},
   "source": [
    "In regular expressions, quantifiers (*, +, ?, {n}, {n,}, {n,m}) are greedy by default, which means they try to match as much of the string as possible. This behavior can sometimes lead to unexpected results, especially when combined with other parts of the regular expression.\n",
    "\n",
    "For example, consider the following code:"
   ]
  },
  {
   "cell_type": "code",
   "execution_count": 42,
   "id": "df5b92ea",
   "metadata": {},
   "outputs": [
    {
     "name": "stdout",
     "output_type": "stream",
     "text": [
      "['This is a test sentence. Another test sentence']\n"
     ]
    }
   ],
   "source": [
    "import re\n",
    "\n",
    "string = \"This is a test sentence. Another test sentence.\"\n",
    "pattern = r'.+sentence'\n",
    "\n",
    "matches = re.findall(pattern, string)\n",
    "print(matches)\n"
   ]
  },
  {
   "cell_type": "raw",
   "id": "23b3aa97",
   "metadata": {},
   "source": [
    "# You might expect this to match two sentences, but it actually matches the entire string because the .+ quantifier is greedy and tries to match as much as possible. To make the quantifier non-greedy and match as little as possible, you can use the ? modifier after the quantifier, like this"
   ]
  },
  {
   "cell_type": "code",
   "execution_count": 43,
   "id": "6703319c",
   "metadata": {},
   "outputs": [
    {
     "name": "stdout",
     "output_type": "stream",
     "text": [
      "['This is a test sentence', '. Another test sentence']\n"
     ]
    }
   ],
   "source": [
    "import re\n",
    "\n",
    "string = \"This is a test sentence. Another test sentence.\"\n",
    "pattern = r'.+?sentence'\n",
    "\n",
    "matches = re.findall(pattern, string)\n",
    "print(matches)\n"
   ]
  },
  {
   "cell_type": "code",
   "execution_count": 44,
   "id": "cef9c20e",
   "metadata": {},
   "outputs": [
    {
     "name": "stdout",
     "output_type": "stream",
     "text": [
      "['123', '456']\n"
     ]
    }
   ],
   "source": [
    "#greedy match\n",
    "import re\n",
    "\n",
    "string = \"abc123def456\"\n",
    "pattern = r'\\d+'\n",
    "\n",
    "matches = re.findall(pattern, string)\n",
    "print(matches)"
   ]
  },
  {
   "cell_type": "code",
   "execution_count": 45,
   "id": "d7f24298",
   "metadata": {},
   "outputs": [
    {
     "name": "stdout",
     "output_type": "stream",
     "text": [
      "['1', '2', '3', '4', '5', '6']\n"
     ]
    }
   ],
   "source": [
    "#non greedy  matches\n",
    "import re\n",
    "\n",
    "string = \"abc123def456\"\n",
    "pattern = r'\\d+?'\n",
    "\n",
    "matches = re.findall(pattern, string)\n",
    "print(matches)"
   ]
  },
  {
   "cell_type": "code",
   "execution_count": 46,
   "id": "845be968",
   "metadata": {},
   "outputs": [
    {
     "name": "stdout",
     "output_type": "stream",
     "text": [
      "['123', '456']\n"
     ]
    }
   ],
   "source": [
    "#Greedy Match with Quantifier:\n",
    "import re\n",
    "\n",
    "string = \"abc123def456\"\n",
    "pattern = r'\\d{2,4}'\n",
    "\n",
    "matches = re.findall(pattern, string)\n",
    "print(matches)\n"
   ]
  },
  {
   "cell_type": "code",
   "execution_count": 47,
   "id": "73e22540",
   "metadata": {},
   "outputs": [
    {
     "name": "stdout",
     "output_type": "stream",
     "text": [
      "['12', '45']\n"
     ]
    }
   ],
   "source": [
    "#Non-Greedy Match with Quantifier\n",
    "import re\n",
    "\n",
    "string = \"abc123def456\"\n",
    "pattern = r'\\d{2,4}?'\n",
    "\n",
    "matches = re.findall(pattern, string)\n",
    "print(matches)"
   ]
  },
  {
   "cell_type": "code",
   "execution_count": 48,
   "id": "53293632",
   "metadata": {},
   "outputs": [
    {
     "name": "stdout",
     "output_type": "stream",
     "text": [
      "['<def>ghi<jkl>']\n"
     ]
    }
   ],
   "source": [
    "#greedy match\n",
    "import re\n",
    "\n",
    "string = \"abc<def>ghi<jkl>\" #mathc between < and >\n",
    "pattern = r'<.*>'\n",
    "\n",
    "matches = re.findall(pattern, string)\n",
    "print(matches)"
   ]
  },
  {
   "cell_type": "code",
   "execution_count": 49,
   "id": "94e33091",
   "metadata": {},
   "outputs": [
    {
     "name": "stdout",
     "output_type": "stream",
     "text": [
      "['<def>', '<jkl>']\n"
     ]
    }
   ],
   "source": [
    "#non greedy match\n",
    "import re\n",
    "\n",
    "string = \"abc<def>ghi<jkl>\"\n",
    "pattern = r'<.*?>'\n",
    "\n",
    "matches = re.findall(pattern, string)\n",
    "print(matches)"
   ]
  },
  {
   "cell_type": "markdown",
   "id": "f621e04b",
   "metadata": {},
   "source": [
    "# grouping "
   ]
  },
  {
   "cell_type": "raw",
   "id": "d2cb87d2",
   "metadata": {},
   "source": [
    " grouping is used to capture parts of a pattern so that they can be treated as a single unit. This is done by enclosing the part of the pattern to be grouped in parentheses ().\n",
    "\n",
    "Here's an example that demonstrates grouping:"
   ]
  },
  {
   "cell_type": "code",
   "execution_count": 50,
   "id": "0f746f8e",
   "metadata": {},
   "outputs": [
    {
     "name": "stdout",
     "output_type": "stream",
     "text": [
      "[('10', 'apples'), ('5', 'oranges')]\n"
     ]
    }
   ],
   "source": [
    "import re\n",
    "\n",
    "string = \"John has 10 apples and 5 oranges.\"\n",
    "pattern = r'(\\d+) (\\w+)'\n",
    "\n",
    "matches = re.findall(pattern, string)\n",
    "print(matches)\n"
   ]
  },
  {
   "cell_type": "code",
   "execution_count": 52,
   "id": "c3d89ee5",
   "metadata": {},
   "outputs": [
    {
     "name": "stdout",
     "output_type": "stream",
     "text": [
      "<re.Match object; span=(9, 18), match='10 apples'>\n",
      "Quantity: 10, Item: apples\n"
     ]
    }
   ],
   "source": [
    "import re\n",
    "\n",
    "string = \"John has 10 apples and 5 oranges.\"\n",
    "pattern = r'(\\d+) (\\w+)'\n",
    "\n",
    "match = re.search(pattern, string)\n",
    "print(match)\n",
    "if match:\n",
    "    quantity = match.group(1)\n",
    "    item = match.group(2)\n",
    "    print(f\"Quantity: {quantity}, Item: {item}\")\n"
   ]
  },
  {
   "cell_type": "code",
   "execution_count": 53,
   "id": "22cce311",
   "metadata": {},
   "outputs": [
    {
     "name": "stdout",
     "output_type": "stream",
     "text": [
      "Quantity 1: 10, Item 1: apples\n",
      "Quantity 2: 5, Item 2: oranges\n"
     ]
    }
   ],
   "source": [
    "#nested group \n",
    "import re\n",
    "\n",
    "string = \"John has 10 apples and 5 oranges.\"\n",
    "pattern = r'(\\d+) (\\w+)(?: and (\\d+) (\\w+))?'\n",
    "\n",
    "match = re.search(pattern, string)\n",
    "if match:\n",
    "    quantity1, item1, quantity2, item2 = match.groups()\n",
    "    print(f\"Quantity 1: {quantity1}, Item 1: {item1}\")\n",
    "    if quantity2 and item2:\n",
    "        print(f\"Quantity 2: {quantity2}, Item 2: {item2}\")\n"
   ]
  },
  {
   "cell_type": "code",
   "execution_count": 54,
   "id": "2f9b7300",
   "metadata": {},
   "outputs": [
    {
     "name": "stdout",
     "output_type": "stream",
     "text": [
      "Quantity: 10, Item: apples\n"
     ]
    }
   ],
   "source": [
    "#named groups \n",
    "import re\n",
    "\n",
    "string = \"John has 10 apples and 5 oranges.\"\n",
    "pattern = r'(?P<quantity>\\d+) (?P<item>\\w+)'\n",
    "\n",
    "match = re.search(pattern, string)\n",
    "if match:\n",
    "    quantity = match.group('quantity')\n",
    "    item = match.group('item')\n",
    "    print(f\"Quantity: {quantity}, Item: {item}\")\n"
   ]
  },
  {
   "cell_type": "markdown",
   "id": "bb940a5f",
   "metadata": {},
   "source": [
    "# Matching at Beginning or End "
   ]
  },
  {
   "cell_type": "raw",
   "id": "785708c3",
   "metadata": {},
   "source": [
    "In regular expressions, you can use special characters to match patterns at the beginning or end of a string:\n",
    "\n",
    "^ : Matches the beginning of a string.\n",
    "$ : Matches the end of a string.\n",
    "Here are some examples:\n",
    "\n",
    "Matching at the Beginning:"
   ]
  },
  {
   "cell_type": "code",
   "execution_count": 56,
   "id": "8abc91a2",
   "metadata": {},
   "outputs": [
    {
     "name": "stdout",
     "output_type": "stream",
     "text": [
      "Pattern found at the beginning of the string.\n"
     ]
    }
   ],
   "source": [
    "#beginning matching\n",
    "import re\n",
    "\n",
    "string = \"hello world\"\n",
    "pattern = r'^hello'\n",
    "\n",
    "match = re.search(pattern, string)\n",
    "if match:\n",
    "    print(\"Pattern found at the beginning of the string.\")\n",
    "else:\n",
    "    print(\"Pattern not found at the beginning of the string.\")\n"
   ]
  },
  {
   "cell_type": "code",
   "execution_count": 57,
   "id": "cff0613e",
   "metadata": {},
   "outputs": [
    {
     "name": "stdout",
     "output_type": "stream",
     "text": [
      "Pattern found at the end of the string.\n"
     ]
    }
   ],
   "source": [
    "#End matching\n",
    "import re\n",
    "\n",
    "string = \"hello world\"\n",
    "pattern = r'world$'\n",
    "\n",
    "match = re.search(pattern, string)\n",
    "if match:\n",
    "    print(\"Pattern found at the end of the string.\")\n",
    "else:\n",
    "    print(\"Pattern not found at the end of the string.\")\n"
   ]
  },
  {
   "cell_type": "code",
   "execution_count": 58,
   "id": "bfc7532d",
   "metadata": {},
   "outputs": [
    {
     "name": "stdout",
     "output_type": "stream",
     "text": [
      "['1.', '2.', '3.']\n"
     ]
    }
   ],
   "source": [
    "#some more examples of using ^ and $ to match at the beginning or end of a string:\n",
    "import re\n",
    "\n",
    "text = \"\"\"1. First item\n",
    "2. Second item\n",
    "3. Third item\"\"\"\n",
    "\n",
    "pattern = r'^\\d+\\.'\n",
    "\n",
    "matches = re.findall(pattern, text, re.MULTILINE)\n",
    "print(matches)\n"
   ]
  },
  {
   "cell_type": "markdown",
   "id": "1b1e8684",
   "metadata": {},
   "source": [
    "# Match Objects"
   ]
  },
  {
   "cell_type": "code",
   "execution_count": 59,
   "id": "7559ec8a",
   "metadata": {},
   "outputs": [
    {
     "name": "stdout",
     "output_type": "stream",
     "text": [
      "Match found: Hello\n"
     ]
    }
   ],
   "source": [
    "import re\n",
    "\n",
    "string = \"Hello, world!\"\n",
    "pattern = r'Hello'\n",
    "\n",
    "match = re.match(pattern, string)\n",
    "if match:\n",
    "    print(\"Match found:\", match.group())\n",
    "else:\n",
    "    print(\"No match found.\")\n"
   ]
  },
  {
   "cell_type": "raw",
   "id": "457e40d6",
   "metadata": {},
   "source": [
    "In this example, re.match(pattern, string) is used to search for the pattern \"Hello\" at the beginning of the string. If a match is found, it returns a match object. The match.group() method is then used to get the matched string.\n",
    "\n",
    "Match objects have several useful methods and attributes:\n",
    "\n",
    "group(): Returns the matched string.\n",
    "start(): Returns the start index of the matched string in the original string.\n",
    "end(): Returns the end index of the matched string in the original string.\n",
    "span(): Returns a tuple containing the start and end indices of the matched string.\n",
    "Here's an example that demonstrates these methods:"
   ]
  },
  {
   "cell_type": "code",
   "execution_count": 60,
   "id": "351cbe75",
   "metadata": {},
   "outputs": [
    {
     "name": "stdout",
     "output_type": "stream",
     "text": [
      "Match found: world\n",
      "Start index: 7\n",
      "End index: 12\n",
      "Start and end indices: (7, 12)\n"
     ]
    }
   ],
   "source": [
    "import re\n",
    "\n",
    "string = \"Hello, world!\"\n",
    "pattern = r'world'\n",
    "\n",
    "match = re.search(pattern, string)\n",
    "if match:\n",
    "    print(\"Match found:\", match.group())\n",
    "    print(\"Start index:\", match.start())\n",
    "    print(\"End index:\", match.end())\n",
    "    print(\"Start and end indices:\", match.span())\n",
    "else:\n",
    "    print(\"No match found.\")\n"
   ]
  },
  {
   "cell_type": "markdown",
   "id": "da1e9e2b",
   "metadata": {},
   "source": [
    "# Substituting \n"
   ]
  },
  {
   "cell_type": "raw",
   "id": "97c32fed",
   "metadata": {},
   "source": [
    "In Python's re module, you can use the re.sub() function to substitute occurrences of a pattern in a string with another string. The re.sub() function takes three arguments: the pattern to search for, the replacement string, and the input string.\n",
    "\n",
    "Here's a basic example:"
   ]
  },
  {
   "cell_type": "code",
   "execution_count": 61,
   "id": "1dbb88ed",
   "metadata": {},
   "outputs": [
    {
     "name": "stdout",
     "output_type": "stream",
     "text": [
      "Hello, Python!\n"
     ]
    }
   ],
   "source": [
    "import re\n",
    "\n",
    "string = \"Hello, world!\"\n",
    "pattern = r'world'\n",
    "replacement = 'Python'\n",
    "\n",
    "new_string = re.sub(pattern, replacement, string)\n",
    "print(new_string)\n"
   ]
  },
  {
   "cell_type": "code",
   "execution_count": 62,
   "id": "d52a33aa",
   "metadata": {},
   "outputs": [
    {
     "name": "stdout",
     "output_type": "stream",
     "text": [
      "First name: John, Last name: Smith\n"
     ]
    }
   ],
   "source": [
    "import re\n",
    "\n",
    "string = \"Last name: Smith, First name: John\"\n",
    "pattern = r'Last name: (\\w+), First name: (\\w+)'\n",
    "replacement = r'First name: \\2, Last name: \\1'\n",
    "\n",
    "new_string = re.sub(pattern, replacement, string)\n",
    "print(new_string)\n"
   ]
  },
  {
   "cell_type": "markdown",
   "id": "dd013b25",
   "metadata": {},
   "source": [
    "# Splitting a String"
   ]
  },
  {
   "cell_type": "code",
   "execution_count": 64,
   "id": "03beb00a",
   "metadata": {},
   "outputs": [
    {
     "name": "stdout",
     "output_type": "stream",
     "text": [
      "['Hello', 'world']\n"
     ]
    }
   ],
   "source": [
    "import re\n",
    "\n",
    "string = \"Hello,world\"\n",
    "pattern = r','\n",
    "result = re.split(pattern, string)\n",
    "print(result)"
   ]
  },
  {
   "cell_type": "code",
   "execution_count": 65,
   "id": "907f913a",
   "metadata": {},
   "outputs": [
    {
     "name": "stdout",
     "output_type": "stream",
     "text": [
      "['Hello', 'world']\n"
     ]
    }
   ],
   "source": [
    "#You can also use more complex patterns for splitting, such as splitting at any whitespace character (\\s+):\n",
    "import re\n",
    "\n",
    "string = \"Hello    world\"\n",
    "pattern = r'\\s+'\n",
    "result = re.split(pattern, string)\n",
    "print(result)\n"
   ]
  },
  {
   "cell_type": "code",
   "execution_count": null,
   "id": "1412dd4c",
   "metadata": {},
   "outputs": [],
   "source": []
  }
 ],
 "metadata": {
  "kernelspec": {
   "display_name": "Python 3 (ipykernel)",
   "language": "python",
   "name": "python3"
  },
  "language_info": {
   "codemirror_mode": {
    "name": "ipython",
    "version": 3
   },
   "file_extension": ".py",
   "mimetype": "text/x-python",
   "name": "python",
   "nbconvert_exporter": "python",
   "pygments_lexer": "ipython3",
   "version": "3.11.5"
  }
 },
 "nbformat": 4,
 "nbformat_minor": 5
}
