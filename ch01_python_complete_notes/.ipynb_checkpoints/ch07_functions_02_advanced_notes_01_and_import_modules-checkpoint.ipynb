{
 "cells": [
  {
   "cell_type": "code",
   "execution_count": null,
   "id": "0b072a79",
   "metadata": {},
   "outputs": [],
   "source": [
    "\"\"\"\n",
    "functions advanced topics \n",
    "\n",
    "\"\"\""
   ]
  },
  {
   "cell_type": "markdown",
   "id": "4c949c85",
   "metadata": {},
   "source": [
    "# functions "
   ]
  },
  {
   "cell_type": "code",
   "execution_count": 2,
   "id": "a7aeff6e",
   "metadata": {},
   "outputs": [
    {
     "name": "stdout",
     "output_type": "stream",
     "text": [
      "i am in function 2 \n",
      "i am in function 1\n"
     ]
    }
   ],
   "source": [
    "#passing function to a function as arguments \n",
    "\n",
    "def function1():\n",
    "    print(\"i am in function 1\")\n",
    "    \n",
    "def function2(func):\n",
    "    print(\"i am in function 2 \")\n",
    "    func()\n",
    "    #function1()\n",
    "    \n",
    "function2(function1)"
   ]
  },
  {
   "cell_type": "code",
   "execution_count": null,
   "id": "08076a51",
   "metadata": {},
   "outputs": [],
   "source": [
    "#generators in python \n",
    "\"\"\"\n",
    "easy way to work with seq of values that doesnot need to be stored in memory all at once \n",
    "efficient memory management when handling large data sets \n",
    "\n",
    "generators:\n",
    " a normal function. but whenever it nees to generate a value. it does so with yield keyword rather than return \n",
    " if body contains yield keyword. then the functin  becomes a generator function \n",
    " \n",
    "yield:\n",
    "   suspend a function execution and sends value back to the caller. it continues executions immediately after last yield run\n",
    "   \n",
    "   yield produces seq of values. we can use to iterable over the seq. but donot want to store entire seq in memory\n",
    "\"\"\""
   ]
  },
  {
   "cell_type": "code",
   "execution_count": 6,
   "id": "7c4c47d5",
   "metadata": {},
   "outputs": [
    {
     "name": "stdout",
     "output_type": "stream",
     "text": [
      "1\n",
      "8\n",
      "27\n",
      "64\n"
     ]
    }
   ],
   "source": [
    "#generator example \n",
    "\n",
    "def cube():\n",
    "    i=1\n",
    "    while True:\n",
    "        yield i*i*i\n",
    "        i+=1\n",
    "\n",
    "#testing\n",
    "for num in cube():\n",
    "    if num>=100:\n",
    "        break\n",
    "    print(num)"
   ]
  },
  {
   "cell_type": "code",
   "execution_count": 8,
   "id": "37fb19b1",
   "metadata": {},
   "outputs": [
    {
     "name": "stdout",
     "output_type": "stream",
     "text": [
      "1\n",
      "8\n",
      "27\n",
      "64\n",
      "125\n",
      "216\n",
      "343\n",
      "512\n",
      "729\n"
     ]
    }
   ],
   "source": [
    "#testing\n",
    "for num in cube():\n",
    "    if num>=1000:\n",
    "        break\n",
    "    print(num)"
   ]
  },
  {
   "cell_type": "code",
   "execution_count": 11,
   "id": "8c719dab",
   "metadata": {},
   "outputs": [
    {
     "name": "stdout",
     "output_type": "stream",
     "text": [
      "0\n",
      "1\n",
      "4\n",
      "9\n",
      "16\n",
      "25\n",
      "36\n",
      "49\n",
      "64\n",
      "81\n"
     ]
    }
   ],
   "source": [
    "#another example \n",
    "\n",
    "def square_number(num):\n",
    "    for i in range(num):\n",
    "        yield i*i\n",
    "for square in square_number(10):\n",
    "    print(square)"
   ]
  },
  {
   "cell_type": "code",
   "execution_count": 13,
   "id": "3df5f21f",
   "metadata": {},
   "outputs": [
    {
     "name": "stdout",
     "output_type": "stream",
     "text": [
      "current temp :27.72'C\n",
      "processing....\n",
      "done.\n",
      "current temp :25.93'C\n",
      "processing....\n",
      "done.\n",
      "current temp :22.35'C\n",
      "processing....\n",
      "done.\n",
      "current temp :29.61'C\n",
      "processing....\n",
      "done.\n",
      "current temp :27.16'C\n",
      "processing....\n",
      "done.\n"
     ]
    }
   ],
   "source": [
    "#realtime application \n",
    "\n",
    "import time \n",
    "import random \n",
    "\n",
    "def temp_sensor():\n",
    "    while True:\n",
    "        temperature=random.uniform(20,30)\n",
    "        yield  temperature\n",
    "        time.sleep(1)\n",
    "        \n",
    "for i in range(5):\n",
    "    current_temp=next(temp_sensor())\n",
    "    print(f\"current temp :{current_temp:0.2f}'C\")\n",
    "    print(\"processing....\")\n",
    "    time.sleep(5)\n",
    "    print(\"done.\")"
   ]
  },
  {
   "cell_type": "markdown",
   "id": "8bfe420d",
   "metadata": {},
   "source": [
    "# decorators in python \n"
   ]
  },
  {
   "cell_type": "raw",
   "id": "488f7f82",
   "metadata": {},
   "source": [
    "Decorators are a very powerful and useful tool in Python since it allows programmers to modify the behaviour of a function or class. Decorators allow us to wrap another function in order to extend the behaviour of the wrapped function,without permanently modifying it. But before diving deep into decorators let us understand some concepts that will come in handy in learning the decorators."
   ]
  },
  {
   "cell_type": "raw",
   "id": "bcd624c3",
   "metadata": {},
   "source": [
    "First Class Objects\n",
    "In Python, functions are first class objects which means that functions in Python can be used or passed as arguments.\n",
    "Properties of first class functions:\n",
    "A function is an instance of the Object type.\n",
    "You can store the function in a variable.\n",
    "You can pass the function as a parameter to another function.\n",
    "You can return the function from a function.\n",
    "You can store them in data structures such as hash tables, lists, …"
   ]
  },
  {
   "cell_type": "markdown",
   "id": "e145094b",
   "metadata": {},
   "source": [
    "In Python, functions are first-class citizens, which means they can be treated like any other object. This means that functions can be assigned to variables, passed as arguments to other functions, and returned from functions.\n",
    "\n",
    "Here's an example to illustrate this concept:"
   ]
  },
  {
   "cell_type": "code",
   "execution_count": 10,
   "id": "88284482",
   "metadata": {},
   "outputs": [
    {
     "name": "stdout",
     "output_type": "stream",
     "text": [
      "Hello, Alice!\n",
      "i am in function 2 \n",
      "i am in function 1\n",
      "Hello, Bob!\n",
      "Hi, Charlie!\n",
      "Hello, Alice!\n",
      "Goodbye, Bob!\n"
     ]
    }
   ],
   "source": [
    "#### 1 You can store the function in a variable.\n",
    "def greet(name):\n",
    "    return f\"Hello, {name}!\"\n",
    "\n",
    "# Assigning the function to a variable\n",
    "greet_someone = greet\n",
    "\n",
    "# Calling the function using the variable\n",
    "print(greet_someone(\"Alice\"))\n",
    "\n",
    "#####2 You can pass the function as a parameter to another function.\n",
    "#passing function to a function as arguments \n",
    "\n",
    "def function1():\n",
    "    print(\"i am in function 1\")\n",
    "    \n",
    "def function2(func):\n",
    "    print(\"i am in function 2 \")\n",
    "    func()\n",
    "    #function1()\n",
    "    \n",
    "function2(function1)\n",
    "\n",
    "\n",
    "# Passing a function as an argument to another function\n",
    "def call_func(func, name):\n",
    "    return func(name)\n",
    "\n",
    "print(call_func(greet, \"Bob\"))\n",
    "\n",
    "\n",
    "###### 3 You can return the function from a function.\n",
    "# Returning a function from another function\n",
    "def create_greeting_function():\n",
    "    def new_greet(name):\n",
    "        return f\"Hi, {name}!\"\n",
    "    return new_greet\n",
    "\n",
    "new_greet_func = create_greeting_function()\n",
    "print(new_greet_func(\"Charlie\"))\n",
    "\n",
    "######4 You can store them in data structures such as hash tables, lists\n",
    "\n",
    "def greet(name):\n",
    "    return f\"Hello, {name}!\"\n",
    "\n",
    "def farewell(name):\n",
    "    return f\"Goodbye, {name}!\"\n",
    "\n",
    "# Storing functions in a dictionary\n",
    "func_dict = {\n",
    "    'greet': greet,\n",
    "    'farewell': farewell\n",
    "}\n",
    "\n",
    "# Calling a function from the dictionary\n",
    "print(func_dict['greet']('Alice'))\n",
    "\n",
    "# Storing functions in a list\n",
    "func_list = [greet, farewell]\n",
    "\n",
    "# Calling a function from the list\n",
    "print(func_list[1]('Bob'))\n"
   ]
  },
  {
   "cell_type": "code",
   "execution_count": 8,
   "id": "7fa92315",
   "metadata": {},
   "outputs": [
    {
     "name": "stdout",
     "output_type": "stream",
     "text": [
      "i am in function 2 \n",
      "i am in function 1\n"
     ]
    }
   ],
   "source": [
    "#passing function to a function as arguments \n",
    "\n",
    "def function1():\n",
    "    print(\"i am in function 1\")\n",
    "    \n",
    "def function2(func):\n",
    "    print(\"i am in function 2 \")\n",
    "    func()\n",
    "    #function1()\n",
    "    \n",
    "function2(function1)"
   ]
  },
  {
   "cell_type": "code",
   "execution_count": 15,
   "id": "a0f195ad",
   "metadata": {},
   "outputs": [
    {
     "name": "stdout",
     "output_type": "stream",
     "text": [
      "Result: 3\n"
     ]
    }
   ],
   "source": [
    "#decorators \n",
    "def add_decorator(func):\n",
    "    def wrapper(a, b):\n",
    "        result = func(a, b)\n",
    "        return result\n",
    "    return wrapper\n",
    "\n",
    "@add_decorator\n",
    "def add_numbers(a, b):\n",
    "    return a + b\n",
    "\n",
    "result = add_numbers(1, 2)\n",
    "print(\"Result:\", result)\n"
   ]
  },
  {
   "cell_type": "code",
   "execution_count": 11,
   "id": "0083253b",
   "metadata": {},
   "outputs": [
    {
     "name": "stdout",
     "output_type": "stream",
     "text": [
      "Calling function add with args (1, 2) and kwargs {}\n",
      "Function add returned 3\n",
      "Result: 3\n"
     ]
    }
   ],
   "source": [
    "#decorators \n",
    "def log_decorator(func):\n",
    "    def wrapper(*args, **kwargs):\n",
    "        print(f\"Calling function {func.__name__} with args {args} and kwargs {kwargs}\")\n",
    "        result = func(*args, **kwargs)\n",
    "        print(f\"Function {func.__name__} returned {result}\")\n",
    "        return result\n",
    "    return wrapper\n",
    "\n",
    "@log_decorator\n",
    "def add(a, b):\n",
    "    return a + b\n",
    "\n",
    "result = add(1, 2)\n",
    "print(\"Result:\", result)\n"
   ]
  },
  {
   "cell_type": "code",
   "execution_count": 17,
   "id": "a5a67b26",
   "metadata": {},
   "outputs": [
    {
     "name": "stdout",
     "output_type": "stream",
     "text": [
      "<function outer_function.<locals>.inner_function at 0x00000140D6EBBE20>\n",
      "15\n"
     ]
    }
   ],
   "source": [
    "#closures in python \n",
    "\n",
    "def outer_function(x):\n",
    "    def inner_function(y):\n",
    "        return x + y\n",
    "    return inner_function\n",
    "\n",
    "closure = outer_function(10)\n",
    "print(closure)\n",
    "result = closure(5)\n",
    "print(result) "
   ]
  },
  {
   "cell_type": "markdown",
   "id": "047c5f4f",
   "metadata": {},
   "source": [
    "# iterators"
   ]
  },
  {
   "cell_type": "raw",
   "id": "a6edc7b4",
   "metadata": {},
   "source": [
    "In Python, an iterator is an object that implements the iterator protocol, which consists of two methods: __iter__() and __next__().\n",
    "\n",
    "The __iter__() method returns the iterator object itself and is used to initialize the iteration.\n",
    "The __next__() method returns the next item in the sequence. When there are no more items, it raises the StopIteration exception."
   ]
  },
  {
   "cell_type": "code",
   "execution_count": 18,
   "id": "cd677244",
   "metadata": {},
   "outputs": [
    {
     "name": "stdout",
     "output_type": "stream",
     "text": [
      "1\n",
      "2\n",
      "3\n",
      "4\n",
      "5\n"
     ]
    }
   ],
   "source": [
    "class MyIterator:\n",
    "    def __init__(self, max_num):\n",
    "        self.max_num = max_num\n",
    "        self.current = 0\n",
    "\n",
    "    def __iter__(self):\n",
    "        return self\n",
    "\n",
    "    def __next__(self):\n",
    "        if self.current < self.max_num:\n",
    "            self.current += 1\n",
    "            return self.current\n",
    "        else:\n",
    "            raise StopIteration\n",
    "\n",
    "# Using the iterator\n",
    "my_iter = MyIterator(5)\n",
    "for num in my_iter:\n",
    "    print(num)\n"
   ]
  },
  {
   "cell_type": "code",
   "execution_count": null,
   "id": "442512a3",
   "metadata": {},
   "outputs": [],
   "source": []
  }
 ],
 "metadata": {
  "kernelspec": {
   "display_name": "Python 3 (ipykernel)",
   "language": "python",
   "name": "python3"
  },
  "language_info": {
   "codemirror_mode": {
    "name": "ipython",
    "version": 3
   },
   "file_extension": ".py",
   "mimetype": "text/x-python",
   "name": "python",
   "nbconvert_exporter": "python",
   "pygments_lexer": "ipython3",
   "version": "3.11.5"
  }
 },
 "nbformat": 4,
 "nbformat_minor": 5
}
