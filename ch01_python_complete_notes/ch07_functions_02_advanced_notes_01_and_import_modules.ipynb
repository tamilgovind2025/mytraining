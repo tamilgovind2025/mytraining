{
 "cells": [
  {
   "cell_type": "code",
   "execution_count": null,
   "id": "0b072a79",
   "metadata": {},
   "outputs": [],
   "source": [
    "\"\"\"\n",
    "functions advanced topics \n",
    "\n",
    "\"\"\""
   ]
  },
  {
   "cell_type": "code",
   "execution_count": 5,
   "id": "a7aeff6e",
   "metadata": {},
   "outputs": [
    {
     "name": "stdout",
     "output_type": "stream",
     "text": [
      "i am in function 2 \n",
      "i am in function 1\n"
     ]
    }
   ],
   "source": [
    "#passing function to a function as arguments \n",
    "\n",
    "def function1():\n",
    "    print(\"i am in function 1\")\n",
    "    \n",
    "def function2(func):\n",
    "    print(\"i am in function 2 \")\n",
    "    func()\n",
    "    \n",
    "function2(function1)"
   ]
  },
  {
   "cell_type": "code",
   "execution_count": null,
   "id": "08076a51",
   "metadata": {},
   "outputs": [],
   "source": [
    "#generators in python \n",
    "\"\"\"\n",
    "easy way to work with seq of values that doesnot need to be stored in memory all at once \n",
    "efficient memory management when handling large data sets \n",
    "\n",
    "generators:\n",
    " a normal function. but whenever it nees to generate a value. it does so with yield keyword rather than return \n",
    " if body contains yield keyword. then the functin  becomes a generator function \n",
    " \n",
    "yield:\n",
    "   suspend a function execution and sends value back to the caller. it continues executions immediately after last yield run\n",
    "   \n",
    "   yield produces seq of values. we can use to iterable over the seq. but donot want to store entire seq in memory\n",
    "\"\"\""
   ]
  },
  {
   "cell_type": "code",
   "execution_count": 6,
   "id": "7c4c47d5",
   "metadata": {},
   "outputs": [
    {
     "name": "stdout",
     "output_type": "stream",
     "text": [
      "1\n",
      "8\n",
      "27\n",
      "64\n"
     ]
    }
   ],
   "source": [
    "#generator example \n",
    "\n",
    "def cube():\n",
    "    i=1\n",
    "    while True:\n",
    "        yield i*i*i\n",
    "        i+=1\n",
    "\n",
    "#testing\n",
    "for num in cube():\n",
    "    if num>=100:\n",
    "        break\n",
    "    print(num)"
   ]
  },
  {
   "cell_type": "code",
   "execution_count": 8,
   "id": "37fb19b1",
   "metadata": {},
   "outputs": [
    {
     "name": "stdout",
     "output_type": "stream",
     "text": [
      "1\n",
      "8\n",
      "27\n",
      "64\n",
      "125\n",
      "216\n",
      "343\n",
      "512\n",
      "729\n"
     ]
    }
   ],
   "source": [
    "#testing\n",
    "for num in cube():\n",
    "    if num>=1000:\n",
    "        break\n",
    "    print(num)"
   ]
  },
  {
   "cell_type": "code",
   "execution_count": 11,
   "id": "8c719dab",
   "metadata": {},
   "outputs": [
    {
     "name": "stdout",
     "output_type": "stream",
     "text": [
      "0\n",
      "1\n",
      "4\n",
      "9\n",
      "16\n",
      "25\n",
      "36\n",
      "49\n",
      "64\n",
      "81\n"
     ]
    }
   ],
   "source": [
    "#another example \n",
    "\n",
    "def square_number(num):\n",
    "    for i in range(num):\n",
    "        yield i*i\n",
    "for square in square_number(10):\n",
    "    print(square)"
   ]
  },
  {
   "cell_type": "code",
   "execution_count": 13,
   "id": "3df5f21f",
   "metadata": {},
   "outputs": [
    {
     "name": "stdout",
     "output_type": "stream",
     "text": [
      "current temp :27.72'C\n",
      "processing....\n",
      "done.\n",
      "current temp :25.93'C\n",
      "processing....\n",
      "done.\n",
      "current temp :22.35'C\n",
      "processing....\n",
      "done.\n",
      "current temp :29.61'C\n",
      "processing....\n",
      "done.\n",
      "current temp :27.16'C\n",
      "processing....\n",
      "done.\n"
     ]
    }
   ],
   "source": [
    "#realtime application \n",
    "\n",
    "import time \n",
    "import random \n",
    "\n",
    "def temp_sensor():\n",
    "    while True:\n",
    "        temperature=random.uniform(20,30)\n",
    "        yield  temperature\n",
    "        time.sleep(1)\n",
    "        \n",
    "for i in range(5):\n",
    "    current_temp=next(temp_sensor())\n",
    "    print(f\"current temp :{current_temp:0.2f}'C\")\n",
    "    print(\"processing....\")\n",
    "    time.sleep(5)\n",
    "    print(\"done.\")"
   ]
  },
  {
   "cell_type": "code",
   "execution_count": null,
   "id": "d4977583",
   "metadata": {},
   "outputs": [],
   "source": []
  }
 ],
 "metadata": {
  "kernelspec": {
   "display_name": "Python 3 (ipykernel)",
   "language": "python",
   "name": "python3"
  },
  "language_info": {
   "codemirror_mode": {
    "name": "ipython",
    "version": 3
   },
   "file_extension": ".py",
   "mimetype": "text/x-python",
   "name": "python",
   "nbconvert_exporter": "python",
   "pygments_lexer": "ipython3",
   "version": "3.11.5"
  }
 },
 "nbformat": 4,
 "nbformat_minor": 5
}
