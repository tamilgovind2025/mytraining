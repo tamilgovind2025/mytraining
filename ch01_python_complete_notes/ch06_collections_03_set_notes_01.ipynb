{
 "cells": [
  {
   "cell_type": "markdown",
   "id": "45359ad4",
   "metadata": {},
   "source": [
    "# set introduction"
   ]
  },
  {
   "cell_type": "code",
   "execution_count": null,
   "id": "36e8e724",
   "metadata": {},
   "outputs": [],
   "source": [
    "intro=\"\"\"\n",
    "a set is an unordered collection of unique elements. Sets are mutable, meaning you can add or remove elements from them, but the elements themselves must be immutable \n",
    "(such as numbers, strings, or tuples).\n",
    "\n",
    "\"\"\""
   ]
  }
 ],
 "metadata": {
  "kernelspec": {
   "display_name": "Python 3 (ipykernel)",
   "language": "python",
   "name": "python3"
  },
  "language_info": {
   "codemirror_mode": {
    "name": "ipython",
    "version": 3
   },
   "file_extension": ".py",
   "mimetype": "text/x-python",
   "name": "python",
   "nbconvert_exporter": "python",
   "pygments_lexer": "ipython3",
   "version": "3.11.5"
  }
 },
 "nbformat": 4,
 "nbformat_minor": 5
}
