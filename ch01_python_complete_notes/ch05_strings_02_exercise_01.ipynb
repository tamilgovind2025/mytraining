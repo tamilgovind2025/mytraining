{
 "cells": [
  {
   "cell_type": "code",
   "execution_count": 1,
   "id": "ac7a76cc",
   "metadata": {},
   "outputs": [
    {
     "name": "stdout",
     "output_type": "stream",
     "text": [
      "enter the string = govinda is a good boy when compare to another\n",
      "enter the char to find = o\n",
      "enter the char to replace = 0\n",
      "the orignal string =  govinda is a good boy when compare to another\n",
      "the replace string =  g0vinda is a g00d b0y when c0mpare t0 an0ther\n"
     ]
    }
   ],
   "source": [
    "#q1 write a python program to replace a char from a string \n",
    "\n",
    "str1=input(\"enter the string = \")\n",
    "str2=\"\"\n",
    "find_char=input(\"enter the char to find = \")\n",
    "rep_char=input(\"enter the char to replace = \")\n",
    "\n",
    "for i in range(len(str1)):\n",
    "    if find_char==str1[i]:\n",
    "        str2=str2+rep_char\n",
    "    else:\n",
    "        str2+=str1[i]\n",
    "\n",
    "print(\"the orignal string = \",str1)\n",
    "print(\"the replace string = \",str2)"
   ]
  },
  {
   "cell_type": "code",
   "execution_count": 4,
   "id": "f77205ca",
   "metadata": {},
   "outputs": [
    {
     "name": "stdout",
     "output_type": "stream",
     "text": [
      "enter the string = hi my name is tamilgovind2020\n",
      "ccount =  13\n",
      "vcount =  8\n",
      "ncount =  4\n",
      "scount =  4\n"
     ]
    }
   ],
   "source": [
    "#q2 write a python program to count num of vowels,consonats,digits and other char in given strings \n",
    "\n",
    "consonants =\"bBcCdDfFgGhHjJkKlLmMnNpPqQrRsStTvVWwxXyYzZ\"\n",
    "#len(consonants)\n",
    "vowels=\"aAeEiIoOuU\"\n",
    "numbers=\"0123456789\"\n",
    "\n",
    "ccount=0\n",
    "vcount=0\n",
    "ncount=0\n",
    "scount=0\n",
    "\n",
    "str1=input(\"enter the string = \")\n",
    "\n",
    "for i in str1:\n",
    "    if i in consonants:\n",
    "        ccount+=1\n",
    "    elif i in vowels:\n",
    "        vcount+=1\n",
    "    elif i in numbers:\n",
    "        ncount+=1\n",
    "    else:\n",
    "        scount+=1\n",
    "        \n",
    "print(\"ccount = \",ccount)\n",
    "print(\"vcount = \",vcount)\n",
    "print(\"ncount = \",ncount)\n",
    "print(\"scount = \",scount)"
   ]
  },
  {
   "cell_type": "code",
   "execution_count": null,
   "id": "97b1fb29",
   "metadata": {},
   "outputs": [],
   "source": []
  }
 ],
 "metadata": {
  "kernelspec": {
   "display_name": "Python 3 (ipykernel)",
   "language": "python",
   "name": "python3"
  },
  "language_info": {
   "codemirror_mode": {
    "name": "ipython",
    "version": 3
   },
   "file_extension": ".py",
   "mimetype": "text/x-python",
   "name": "python",
   "nbconvert_exporter": "python",
   "pygments_lexer": "ipython3",
   "version": "3.11.5"
  }
 },
 "nbformat": 4,
 "nbformat_minor": 5
}
