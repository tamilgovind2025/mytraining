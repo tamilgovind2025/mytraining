{
 "cells": [
  {
   "cell_type": "markdown",
   "id": "33aadb88",
   "metadata": {},
   "source": [
    "# python class"
   ]
  },
  {
   "cell_type": "code",
   "execution_count": null,
   "id": "01592671",
   "metadata": {},
   "outputs": [],
   "source": [
    "\"\"\"\n",
    "1. class:\n",
    "    A class is user defined template which contains data/attributes/properties and methods. \n",
    "    it is a blueprint or template from which individual object created \n",
    "\n",
    "2. object:\n",
    "    object is instance of class which consist of method and properties \n",
    "    \n",
    "3. Abstraction (Data abstraction)\n",
    "    provide only essencial information to the outside world and hide background details ex: tv, car\n",
    "    to present needed information in a program without present details \n",
    "\n",
    "4. encapsulation:\n",
    "    process of wrapping code and data together into a single unit \n",
    "    \n",
    "5. inheritance:\n",
    "    inheritance is a process of in which one object acqures all the properties and behaviour of its parent object \n",
    "    automatically \n",
    "    \n",
    "    types:\n",
    "     1. single inheritance (a<-b)\n",
    "     2. multiple inheritance (a,b <-c)\n",
    "     3. multilevel inheritance (a <- b <- c)\n",
    "     4. diamond inheritance (like diamond shape) (d ->b,c ->a)\n",
    "     \n",
    "    \n",
    "\"\"\""
   ]
  },
  {
   "cell_type": "code",
   "execution_count": 2,
   "id": "a4ea0237",
   "metadata": {},
   "outputs": [
    {
     "name": "stdout",
     "output_type": "stream",
     "text": [
      "<class 'int'>\n",
      "<class 'type'>\n",
      "True\n",
      "True\n",
      "<class '__main__.car'>\n"
     ]
    }
   ],
   "source": [
    "class car():\n",
    "    pass \n",
    "a=22\n",
    "print(type(a))\n",
    "print(type(car))\n",
    "\n",
    "swift=car()\n",
    "print(isinstance(swift,car))\n",
    "print(isinstance(a,int))\n",
    "print(type(swift))"
   ]
  },
  {
   "cell_type": "code",
   "execution_count": 10,
   "id": "d95196e7",
   "metadata": {},
   "outputs": [
    {
     "name": "stdout",
     "output_type": "stream",
     "text": [
      "govind\n",
      "34\n",
      "no city found\n",
      "govind\n",
      "34\n",
      "male\n",
      "chennai\n"
     ]
    }
   ],
   "source": [
    "#class attributes \n",
    "\n",
    "class students:\n",
    "    name=\"govind\"\n",
    "    age=34\n",
    "    \n",
    "#two ways can aceess getattr() method and dot method \n",
    "#getattr methods \n",
    "\n",
    "print(getattr(students,\"name\"))\n",
    "print(getattr(students,\"age\"))\n",
    "\n",
    "print(getattr(students,\"city\",\"no city found\"))\n",
    "\n",
    "#dot notation \n",
    "\n",
    "print(students.name)\n",
    "print(students.age)\n",
    "\n",
    "#setattr() methods \n",
    "\n",
    "setattr(students,\"gender\",\"male\")\n",
    "print(students.gender)\n",
    "\n",
    "students.city=\"chennai\"\n",
    "print(students.city)"
   ]
  },
  {
   "cell_type": "code",
   "execution_count": 11,
   "id": "63205949",
   "metadata": {},
   "outputs": [
    {
     "name": "stdout",
     "output_type": "stream",
     "text": [
      "{'__module__': '__main__', 'name': 'govind', 'age': 34, '__dict__': <attribute '__dict__' of 'students' objects>, '__weakref__': <attribute '__weakref__' of 'students' objects>, '__doc__': None, 'gender': 'male', 'city': 'chennai'}\n"
     ]
    }
   ],
   "source": [
    "print(students.__dict__)"
   ]
  },
  {
   "cell_type": "code",
   "execution_count": 12,
   "id": "a6e83e5e",
   "metadata": {},
   "outputs": [
    {
     "name": "stdout",
     "output_type": "stream",
     "text": [
      "{'__module__': '__main__', 'name': 'govind', 'age': 34, '__dict__': <attribute '__dict__' of 'students' objects>, '__weakref__': <attribute '__weakref__' of 'students' objects>, '__doc__': None, 'gender': 'male'}\n"
     ]
    }
   ],
   "source": [
    "delattr(students,\"city\")\n",
    "print(students.__dict__)"
   ]
  },
  {
   "cell_type": "code",
   "execution_count": 13,
   "id": "eafcdf28",
   "metadata": {},
   "outputs": [
    {
     "name": "stdout",
     "output_type": "stream",
     "text": [
      "{'__module__': '__main__', 'name': 'govind', 'age': 34, '__dict__': <attribute '__dict__' of 'students' objects>, '__weakref__': <attribute '__weakref__' of 'students' objects>, '__doc__': None}\n"
     ]
    }
   ],
   "source": [
    "del students.gender\n",
    "print(students.__dict__)"
   ]
  },
  {
   "cell_type": "code",
   "execution_count": 6,
   "id": "a2e239e1",
   "metadata": {},
   "outputs": [
    {
     "name": "stdout",
     "output_type": "stream",
     "text": [
      "{'__module__': '__main__', 'course': 'java', '__dict__': <attribute '__dict__' of 'user' objects>, '__weakref__': <attribute '__weakref__' of 'user' objects>, '__doc__': None}\n",
      "{}\n",
      "java\n",
      "java\n",
      "java\n",
      "python\n",
      "{'__module__': '__main__', 'course': 'java', '__dict__': <attribute '__dict__' of 'user' objects>, '__weakref__': <attribute '__weakref__' of 'user' objects>, '__doc__': None}\n",
      "{'course': 'python'}\n"
     ]
    }
   ],
   "source": [
    "#instance attributes or object \n",
    "\n",
    "class user:\n",
    "    course=\"java\"\n",
    "obj=user()\n",
    "\n",
    "#class dict\n",
    "print(user.__dict__)\n",
    "\n",
    "#obj dict \n",
    "print(obj.__dict__)\n",
    "\n",
    "#print values \n",
    "print(user.course) #class attributes\n",
    "print(obj.course)  #instance attributes\n",
    "\n",
    "#change the value \n",
    "obj.course=\"python\"\n",
    "\n",
    "#print values \n",
    "print(user.course) #class attributes\n",
    "print(obj.course)  #instance attributes\n",
    "\n",
    "#class dict\n",
    "print(user.__dict__)\n",
    "\n",
    "#obj dict \n",
    "print(obj.__dict__)"
   ]
  },
  {
   "cell_type": "code",
   "execution_count": 7,
   "id": "12b213f9",
   "metadata": {},
   "outputs": [
    {
     "name": "stdout",
     "output_type": "stream",
     "text": [
      "cpp\n",
      "python\n"
     ]
    }
   ],
   "source": [
    "user.course=\"cpp\"\n",
    "\n",
    "#print values \n",
    "print(user.course) #class attributes\n",
    "print(obj.course)  #instance attributes\n"
   ]
  },
  {
   "cell_type": "code",
   "execution_count": 8,
   "id": "1a80be67",
   "metadata": {},
   "outputs": [],
   "source": [
    "#classs methods or function \n",
    "\n",
    "class students:\n",
    "    name=\"govind\"\n",
    "    age=25\n",
    "    city=\"chennai\"\n",
    "    \n",
    "    def printall():\n",
    "        print(\"name : \",students.name)\n",
    "        print(\"age : \",students.age)\n",
    "        print(\"city : \",students.city)"
   ]
  },
  {
   "cell_type": "code",
   "execution_count": 13,
   "id": "3a6a5f3a",
   "metadata": {},
   "outputs": [
    {
     "name": "stdout",
     "output_type": "stream",
     "text": [
      "<function students.printall at 0x000002AD15014F40>\n"
     ]
    }
   ],
   "source": [
    "print(getattr(students,\"printall\"))"
   ]
  },
  {
   "cell_type": "code",
   "execution_count": 14,
   "id": "1154a4df",
   "metadata": {},
   "outputs": [
    {
     "name": "stdout",
     "output_type": "stream",
     "text": [
      "name :  govind\n",
      "age :  25\n",
      "city :  chennai\n"
     ]
    }
   ],
   "source": [
    "getattr(students,\"printall\")()"
   ]
  },
  {
   "cell_type": "code",
   "execution_count": 16,
   "id": "66df2807",
   "metadata": {},
   "outputs": [
    {
     "name": "stdout",
     "output_type": "stream",
     "text": [
      "<function students.printall at 0x000002AD15014F40>\n"
     ]
    }
   ],
   "source": [
    "print(students.__dict__[\"printall\"])"
   ]
  },
  {
   "cell_type": "code",
   "execution_count": 17,
   "id": "7aa4716a",
   "metadata": {},
   "outputs": [
    {
     "name": "stdout",
     "output_type": "stream",
     "text": [
      "name :  govind\n",
      "age :  25\n",
      "city :  chennai\n"
     ]
    }
   ],
   "source": [
    "students.__dict__[\"printall\"]()"
   ]
  },
  {
   "cell_type": "code",
   "execution_count": 18,
   "id": "8bfd0ffb",
   "metadata": {},
   "outputs": [
    {
     "name": "stdout",
     "output_type": "stream",
     "text": [
      "name :  govind\n",
      "age :  25\n",
      "city :  chennai\n"
     ]
    }
   ],
   "source": [
    "students.printall()"
   ]
  },
  {
   "cell_type": "code",
   "execution_count": 26,
   "id": "52acfcbe",
   "metadata": {},
   "outputs": [],
   "source": [
    "#instance method \n",
    "\n",
    "class students:\n",
    "    name=\"govind\"\n",
    "    age=25\n",
    "    city=\"chennai\"\n",
    "    \n",
    "    def printall(self):\n",
    "        print(\"name : \",students.name)\n",
    "        print(\"age : \",students.age)\n",
    "        print(\"city : \",students.city)\n",
    "        \n",
    "    def printall2(self,gender):\n",
    "        print(\"name : \",students.name)\n",
    "        print(\"age : \",students.age)\n",
    "        print(\"city : \",students.city)\n",
    "        print(\"gender : \",gender)"
   ]
  },
  {
   "cell_type": "code",
   "execution_count": 27,
   "id": "55b87540",
   "metadata": {},
   "outputs": [],
   "source": [
    "obj=students()"
   ]
  },
  {
   "cell_type": "code",
   "execution_count": 28,
   "id": "ba1ceae4",
   "metadata": {},
   "outputs": [
    {
     "name": "stdout",
     "output_type": "stream",
     "text": [
      "name :  govind\n",
      "age :  25\n",
      "city :  chennai\n"
     ]
    }
   ],
   "source": [
    "students.printall(obj) #this is std method. but mostly used dot method"
   ]
  },
  {
   "cell_type": "code",
   "execution_count": 29,
   "id": "4d9efd39",
   "metadata": {},
   "outputs": [
    {
     "name": "stdout",
     "output_type": "stream",
     "text": [
      "name :  govind\n",
      "age :  25\n",
      "city :  chennai\n",
      "gender :  male\n"
     ]
    }
   ],
   "source": [
    "obj1=students()\n",
    "obj1.printall2(\"male\")"
   ]
  },
  {
   "cell_type": "code",
   "execution_count": 30,
   "id": "5b841954",
   "metadata": {},
   "outputs": [],
   "source": [
    "# __init__ method or constructors in python \n",
    "\n",
    "class user:\n",
    "    def __init__(self):\n",
    "        print(\"call when instance initiated \")"
   ]
  },
  {
   "cell_type": "code",
   "execution_count": 31,
   "id": "b3937436",
   "metadata": {},
   "outputs": [
    {
     "name": "stdout",
     "output_type": "stream",
     "text": [
      "call when instance initiated \n"
     ]
    }
   ],
   "source": [
    "obj1=user()"
   ]
  },
  {
   "cell_type": "code",
   "execution_count": 32,
   "id": "5c5e5d75",
   "metadata": {},
   "outputs": [
    {
     "name": "stdout",
     "output_type": "stream",
     "text": [
      "call when instance initiated \n"
     ]
    }
   ],
   "source": [
    "obj2=user()"
   ]
  },
  {
   "cell_type": "code",
   "execution_count": 33,
   "id": "bc59089b",
   "metadata": {},
   "outputs": [],
   "source": [
    "# __init__ method or constructors in python \n",
    "\n",
    "class user:\n",
    "    \n",
    "    def __init__(self,name):\n",
    "        #print(\"call when instance initiated \")\n",
    "        self.name=name\n",
    "    \n",
    "    def printall(self):\n",
    "        print(\"name = \",self.name)\n",
    "    \n",
    "    "
   ]
  },
  {
   "cell_type": "code",
   "execution_count": 35,
   "id": "cfa18f1d",
   "metadata": {},
   "outputs": [],
   "source": [
    "obj1=user(\"govind\")"
   ]
  },
  {
   "cell_type": "code",
   "execution_count": 36,
   "id": "ad67911a",
   "metadata": {},
   "outputs": [
    {
     "name": "stdout",
     "output_type": "stream",
     "text": [
      "{'__module__': '__main__', '__init__': <function user.__init__ at 0x000002AD15CB8400>, 'printall': <function user.printall at 0x000002AD15CBA3E0>, '__dict__': <attribute '__dict__' of 'user' objects>, '__weakref__': <attribute '__weakref__' of 'user' objects>, '__doc__': None}\n"
     ]
    }
   ],
   "source": [
    "print(user.__dict__)"
   ]
  },
  {
   "cell_type": "code",
   "execution_count": 39,
   "id": "ed953221",
   "metadata": {},
   "outputs": [
    {
     "name": "stdout",
     "output_type": "stream",
     "text": [
      "{'name': 'govind'}\n",
      "name =  govind\n"
     ]
    }
   ],
   "source": [
    "print(obj1.__dict__)\n",
    "obj1.printall()"
   ]
  },
  {
   "cell_type": "code",
   "execution_count": 40,
   "id": "a14ff2d4",
   "metadata": {},
   "outputs": [
    {
     "name": "stdout",
     "output_type": "stream",
     "text": [
      "name =  vinoth\n"
     ]
    }
   ],
   "source": [
    "obj2=user(\"vinoth\")\n",
    "obj2.__dict__\n",
    "obj2.printall()"
   ]
  },
  {
   "cell_type": "code",
   "execution_count": 2,
   "id": "05cc4d0c",
   "metadata": {},
   "outputs": [],
   "source": [
    "#an example for data abstraction and encapsulation \n",
    "\n",
    "class library:\n",
    "    \n",
    "    def __init__(self,books):\n",
    "        self.books=books \n",
    "        \n",
    "    def list_books(self):\n",
    "        print(\"the available books are \")\n",
    "        for i in self.books:\n",
    "            print(i)\n",
    "    \n",
    "    def borrow_book(self,borrow_book):\n",
    "        if borrow_book in self.books:\n",
    "            print(\"you can buy the books now \")\n",
    "            self.books.remove(borrow_book)\n",
    "        else:\n",
    "            print(\"books not available to borrow \")\n",
    "    \n",
    "    def return_book(self,return_book):\n",
    "        self.books.append(return_book)\n",
    "        print(\"returned\")\n",
    "        "
   ]
  },
  {
   "cell_type": "code",
   "execution_count": 3,
   "id": "c4191f28",
   "metadata": {},
   "outputs": [
    {
     "name": "stdout",
     "output_type": "stream",
     "text": [
      "\n",
      "    1. list of books\n",
      "    2. borrow book\n",
      "    3. return book\n",
      "\n",
      "enter your choice = 4\n",
      "thank you. visit again\n"
     ]
    },
    {
     "ename": "SystemExit",
     "evalue": "1",
     "output_type": "error",
     "traceback": [
      "An exception has occurred, use %tb to see the full traceback.\n",
      "\u001b[1;31mSystemExit\u001b[0m\u001b[1;31m:\u001b[0m 1\n"
     ]
    },
    {
     "name": "stderr",
     "output_type": "stream",
     "text": [
      "C:\\ProgramData\\anaconda3\\Lib\\site-packages\\IPython\\core\\interactiveshell.py:3534: UserWarning: To exit: use 'exit', 'quit', or Ctrl-D.\n",
      "  warn(\"To exit: use 'exit', 'quit', or Ctrl-D.\", stacklevel=1)\n"
     ]
    }
   ],
   "source": [
    "import sys\n",
    "\n",
    "books=[\"java\",\"python\",\"c++\",\"c\",\"c+\",\"perl\",\"r\",\"html\",\"php\"]\n",
    "\n",
    "msg=\"\"\"\n",
    "    1. list of books\n",
    "    2. borrow book\n",
    "    3. return book\n",
    "\"\"\"\n",
    "obj=library(books)\n",
    "\n",
    "while True:\n",
    "    \n",
    "    print(msg)\n",
    "    \n",
    "    ch=int(input(\"enter your choice = \"))\n",
    "    \n",
    "    if ch==1:\n",
    "        #print(\"the available books are\")\n",
    "        obj.list_books()\n",
    "        \n",
    "    elif ch==2:\n",
    "        book=input(\"enter the book name to get = \")\n",
    "        obj.borrow_book(book)\n",
    "        #print(\"book get successfully\")\n",
    "        \n",
    "    elif ch==3:\n",
    "        book=input(\"enter the book name to return = \")\n",
    "        obj.return_book(book)\n",
    "        print(\"book returned successfully\")\n",
    "        \n",
    "    else:\n",
    "        print(\"thank you. visit again\")\n",
    "        sys.exit(1)\n",
    "        "
   ]
  },
  {
   "cell_type": "code",
   "execution_count": 9,
   "id": "6af74101",
   "metadata": {},
   "outputs": [],
   "source": [
    "#inheritance \n",
    "\n",
    "#1 single inheritance \n",
    "# inheritated from only one base class \n",
    "\n",
    "class nokia:\n",
    "    \n",
    "    company=\"nokia-india\"\n",
    "    website=\"www.nokia-india.com\"\n",
    "    \n",
    "    def contact_details(self):\n",
    "        print(\"\"\"\n",
    "                  Address : \n",
    "                  OZ-8,19, 20&21, \n",
    "                  SIPCOT Industrial Park Electronic Hardware Oragadam, \n",
    "                  Sriperumdur Taluk, \n",
    "                  Kanchipuram. \n",
    "                  Tamil Nadu 602105.\n",
    "        \"\"\")\n",
    "\n",
    "\n",
    "class nokia_1100(nokia):\n",
    "    def __init__(self,name,model_year):\n",
    "        self.name=name\n",
    "        self.model_year=model_year\n",
    "        \n",
    "    def product_details(self):\n",
    "        print(\"name       = \",self.name)\n",
    "        print(\"model_year = \",self.model_year)\n",
    "        print(\"company    = \",self.company)\n",
    "        print(\"website    = \",self.website)"
   ]
  },
  {
   "cell_type": "code",
   "execution_count": 10,
   "id": "bb8efd20",
   "metadata": {},
   "outputs": [
    {
     "name": "stdout",
     "output_type": "stream",
     "text": [
      "name       =  nokia1100\n",
      "model_year =  2003\n",
      "company    =  nokia-india\n",
      "website    =  www.nokia-india.com\n"
     ]
    }
   ],
   "source": [
    "obj1=nokia_1100(\"nokia1100\",2003)\n",
    "obj1.product_details()"
   ]
  },
  {
   "cell_type": "code",
   "execution_count": 12,
   "id": "7b2c5547",
   "metadata": {},
   "outputs": [
    {
     "name": "stdout",
     "output_type": "stream",
     "text": [
      "\n",
      "                  Address : \n",
      "                  OZ-8,19, 20&21, \n",
      "                  SIPCOT Industrial Park Electronic Hardware Oragadam, \n",
      "                  Sriperumdur Taluk, \n",
      "                  Kanchipuram. \n",
      "                  Tamil Nadu 602105.\n",
      "        \n"
     ]
    }
   ],
   "source": [
    "obj1.contact_details()"
   ]
  },
  {
   "cell_type": "code",
   "execution_count": 26,
   "id": "7e5ba1e7",
   "metadata": {},
   "outputs": [],
   "source": [
    "#multiple inheritance \n",
    "\n",
    "class father:\n",
    "    def business(self):\n",
    "        print(\"father is doing gold business \")\n",
    "        \n",
    "    def chess(self):\n",
    "        print(\"father knows chess\")\n",
    "        \n",
    "class mother:\n",
    "    def cooking(self):\n",
    "        print(\"mother knows cooking well \")\n",
    "        \n",
    "    def chess(self):\n",
    "        print(\"mother knows chess \")\n",
    "        \n",
    "class son(father,mother):\n",
    "    def studying(self):\n",
    "        print(\"son studing master from iit madrass\")\n",
    "        "
   ]
  },
  {
   "cell_type": "code",
   "execution_count": 27,
   "id": "1ffd379c",
   "metadata": {},
   "outputs": [
    {
     "name": "stdout",
     "output_type": "stream",
     "text": [
      "father is doing gold business \n",
      "father knows chess\n",
      "mother knows cooking well \n",
      "son studing master from iit madrass\n"
     ]
    }
   ],
   "source": [
    "obj=son()\n",
    "obj.business()\n",
    "obj.chess()\n",
    "obj.cooking()\n",
    "obj.studying()"
   ]
  },
  {
   "cell_type": "code",
   "execution_count": 24,
   "id": "476af1fd",
   "metadata": {},
   "outputs": [],
   "source": [
    "#multiple inheritance \n",
    "\n",
    "class father:\n",
    "    def business(self):\n",
    "        print(\"father is doing gold business \")\n",
    "        \n",
    "    def chess(self):\n",
    "        print(\"father knows chess\")\n",
    "        \n",
    "class mother:\n",
    "    def cooking(self):\n",
    "        print(\"mother knows cooking well \")\n",
    "        \n",
    "    def chess(self):\n",
    "        print(\"mother knows chess \")\n",
    "        \n",
    "class son(mother,father):\n",
    "    def studying(self):\n",
    "        print(\"son studing master from iit madrass\")\n",
    "        "
   ]
  },
  {
   "cell_type": "code",
   "execution_count": 25,
   "id": "c02ab0bc",
   "metadata": {},
   "outputs": [
    {
     "name": "stdout",
     "output_type": "stream",
     "text": [
      "father is doing gold business \n",
      "mother knows chess \n",
      "mother knows cooking well \n",
      "son studing master from iit madrass\n"
     ]
    }
   ],
   "source": [
    "obj=son()\n",
    "obj.business()\n",
    "obj.chess()\n",
    "obj.cooking()\n",
    "obj.studying()"
   ]
  },
  {
   "cell_type": "code",
   "execution_count": 28,
   "id": "643cc9b7",
   "metadata": {},
   "outputs": [],
   "source": [
    "#multilevel inheritance \n",
    "\n",
    "class grandfather:\n",
    "    def house(self):\n",
    "        print(\"granpa has own house \")\n",
    "        \n",
    "class father(grandfather):\n",
    "    def bike(self):\n",
    "        print(\"father has a bike \")\n",
    "        \n",
    "class son(father):\n",
    "    def book(self):\n",
    "        print(\"son has book\")\n",
    "\n",
    "        \n",
    "    "
   ]
  },
  {
   "cell_type": "code",
   "execution_count": 31,
   "id": "0f6dfbda",
   "metadata": {},
   "outputs": [
    {
     "name": "stdout",
     "output_type": "stream",
     "text": [
      "son has book\n",
      "father has a bike \n",
      "granpa has own house \n"
     ]
    }
   ],
   "source": [
    "obj=son()\n",
    "obj.book()\n",
    "obj.bike()\n",
    "obj.house()"
   ]
  },
  {
   "cell_type": "code",
   "execution_count": 33,
   "id": "68bc4476",
   "metadata": {},
   "outputs": [
    {
     "name": "stdout",
     "output_type": "stream",
     "text": [
      " i am in class d\n"
     ]
    }
   ],
   "source": [
    "#diamond problem \n",
    "\n",
    "class a:\n",
    "    def display(self):\n",
    "        print(\" i am in class a\")\n",
    "        \n",
    "class b(a):\n",
    "    def display(self):\n",
    "        print(\" i am in class b\")\n",
    "        \n",
    "class c(a):\n",
    "    def display(self):\n",
    "        print(\" i am in class c\")\n",
    "        \n",
    "class d(b,c):\n",
    "    def display(self):\n",
    "        print(\" i am in class d\")\n",
    "        \n",
    "obj=d()\n",
    "obj.display()  #commnd methods and see the output of all classes"
   ]
  },
  {
   "cell_type": "code",
   "execution_count": 34,
   "id": "2ab4e441",
   "metadata": {},
   "outputs": [
    {
     "name": "stdout",
     "output_type": "stream",
     "text": [
      "30\n"
     ]
    }
   ],
   "source": [
    "#polymorphism\n",
    "\n",
    "a=10\n",
    "b=20\n",
    "c=a+b  #addtion \n",
    "print(c) "
   ]
  },
  {
   "cell_type": "code",
   "execution_count": 35,
   "id": "da56059d",
   "metadata": {},
   "outputs": [
    {
     "name": "stdout",
     "output_type": "stream",
     "text": [
      "tamilgovind\n"
     ]
    }
   ],
   "source": [
    "a=\"tamil\"\n",
    "b=\"govind\"\n",
    "c=a+b     #concatenation \n",
    "print(c)"
   ]
  },
  {
   "cell_type": "code",
   "execution_count": 36,
   "id": "162c46d3",
   "metadata": {},
   "outputs": [
    {
     "ename": "TypeError",
     "evalue": "unsupported operand type(s) for +: 'addition' and 'addition'",
     "output_type": "error",
     "traceback": [
      "\u001b[1;31m---------------------------------------------------------------------------\u001b[0m",
      "\u001b[1;31mTypeError\u001b[0m                                 Traceback (most recent call last)",
      "Cell \u001b[1;32mIn[36], line 9\u001b[0m\n\u001b[0;32m      6\u001b[0m o1\u001b[38;5;241m=\u001b[39maddition(\u001b[38;5;241m10\u001b[39m)\n\u001b[0;32m      7\u001b[0m o2\u001b[38;5;241m=\u001b[39maddition(\u001b[38;5;241m20\u001b[39m)\n\u001b[1;32m----> 9\u001b[0m c\u001b[38;5;241m=\u001b[39mo1\u001b[38;5;241m+\u001b[39mo2\n\u001b[0;32m     10\u001b[0m \u001b[38;5;28mprint\u001b[39m(c)\n",
      "\u001b[1;31mTypeError\u001b[0m: unsupported operand type(s) for +: 'addition' and 'addition'"
     ]
    }
   ],
   "source": [
    "class addition:\n",
    "    def __init__(self,a):\n",
    "        self.a=a\n",
    "    \n",
    "\n",
    "o1=addition(10)\n",
    "o2=addition(20)\n",
    "\n",
    "c=o1+o2\n",
    "print(c)"
   ]
  },
  {
   "cell_type": "code",
   "execution_count": 38,
   "id": "d0a1648e",
   "metadata": {},
   "outputs": [
    {
     "name": "stdout",
     "output_type": "stream",
     "text": [
      "30\n"
     ]
    }
   ],
   "source": [
    "#polymorphism for addition \n",
    "class addition:\n",
    "    def __init__(self,a):\n",
    "        self.a=a\n",
    "        \n",
    "    def __add__(o1,o2):\n",
    "        return o1.a+o2.a\n",
    "    \n",
    "\n",
    "o1=addition(10)\n",
    "o2=addition(20)\n",
    "\n",
    "c=o1+o2\n",
    "print(c)"
   ]
  },
  {
   "cell_type": "code",
   "execution_count": null,
   "id": "756632df",
   "metadata": {},
   "outputs": [],
   "source": []
  }
 ],
 "metadata": {
  "kernelspec": {
   "display_name": "Python 3 (ipykernel)",
   "language": "python",
   "name": "python3"
  },
  "language_info": {
   "codemirror_mode": {
    "name": "ipython",
    "version": 3
   },
   "file_extension": ".py",
   "mimetype": "text/x-python",
   "name": "python",
   "nbconvert_exporter": "python",
   "pygments_lexer": "ipython3",
   "version": "3.11.5"
  }
 },
 "nbformat": 4,
 "nbformat_minor": 5
}
