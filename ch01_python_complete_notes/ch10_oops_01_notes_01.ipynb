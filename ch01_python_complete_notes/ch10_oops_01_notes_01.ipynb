{
 "cells": [
  {
   "cell_type": "markdown",
   "id": "33aadb88",
   "metadata": {},
   "source": [
    "# python class"
   ]
  },
  {
   "cell_type": "code",
   "execution_count": null,
   "id": "01592671",
   "metadata": {},
   "outputs": [],
   "source": [
    "\"\"\"\n",
    "A class is user defined template which contains data/attributes/properties and methods. \n",
    "it is a blueprint or template from which individual object created \n",
    "\n",
    "object is instance of class which consist of method and properties \n",
    "\"\"\""
   ]
  },
  {
   "cell_type": "code",
   "execution_count": 2,
   "id": "a4ea0237",
   "metadata": {},
   "outputs": [
    {
     "name": "stdout",
     "output_type": "stream",
     "text": [
      "<class 'int'>\n",
      "<class 'type'>\n",
      "True\n",
      "True\n",
      "<class '__main__.car'>\n"
     ]
    }
   ],
   "source": [
    "class car():\n",
    "    pass \n",
    "a=22\n",
    "print(type(a))\n",
    "print(type(car))\n",
    "\n",
    "swift=car()\n",
    "print(isinstance(swift,car))\n",
    "print(isinstance(a,int))\n",
    "print(type(swift))"
   ]
  },
  {
   "cell_type": "code",
   "execution_count": 10,
   "id": "d95196e7",
   "metadata": {},
   "outputs": [
    {
     "name": "stdout",
     "output_type": "stream",
     "text": [
      "govind\n",
      "34\n",
      "no city found\n",
      "govind\n",
      "34\n",
      "male\n",
      "chennai\n"
     ]
    }
   ],
   "source": [
    "#class attributes \n",
    "\n",
    "class students:\n",
    "    name=\"govind\"\n",
    "    age=34\n",
    "    \n",
    "#two ways can aceess getattr() method and dot method \n",
    "#getattr methods \n",
    "\n",
    "print(getattr(students,\"name\"))\n",
    "print(getattr(students,\"age\"))\n",
    "\n",
    "print(getattr(students,\"city\",\"no city found\"))\n",
    "\n",
    "#dot notation \n",
    "\n",
    "print(students.name)\n",
    "print(students.age)\n",
    "\n",
    "#setattr() methods \n",
    "\n",
    "setattr(students,\"gender\",\"male\")\n",
    "print(students.gender)\n",
    "\n",
    "students.city=\"chennai\"\n",
    "print(students.city)"
   ]
  },
  {
   "cell_type": "code",
   "execution_count": 11,
   "id": "63205949",
   "metadata": {},
   "outputs": [
    {
     "name": "stdout",
     "output_type": "stream",
     "text": [
      "{'__module__': '__main__', 'name': 'govind', 'age': 34, '__dict__': <attribute '__dict__' of 'students' objects>, '__weakref__': <attribute '__weakref__' of 'students' objects>, '__doc__': None, 'gender': 'male', 'city': 'chennai'}\n"
     ]
    }
   ],
   "source": [
    "print(students.__dict__)"
   ]
  },
  {
   "cell_type": "code",
   "execution_count": 12,
   "id": "a6e83e5e",
   "metadata": {},
   "outputs": [
    {
     "name": "stdout",
     "output_type": "stream",
     "text": [
      "{'__module__': '__main__', 'name': 'govind', 'age': 34, '__dict__': <attribute '__dict__' of 'students' objects>, '__weakref__': <attribute '__weakref__' of 'students' objects>, '__doc__': None, 'gender': 'male'}\n"
     ]
    }
   ],
   "source": [
    "delattr(students,\"city\")\n",
    "print(students.__dict__)"
   ]
  },
  {
   "cell_type": "code",
   "execution_count": 13,
   "id": "eafcdf28",
   "metadata": {},
   "outputs": [
    {
     "name": "stdout",
     "output_type": "stream",
     "text": [
      "{'__module__': '__main__', 'name': 'govind', 'age': 34, '__dict__': <attribute '__dict__' of 'students' objects>, '__weakref__': <attribute '__weakref__' of 'students' objects>, '__doc__': None}\n"
     ]
    }
   ],
   "source": [
    "del students.gender\n",
    "print(students.__dict__)"
   ]
  },
  {
   "cell_type": "code",
   "execution_count": null,
   "id": "a2e239e1",
   "metadata": {},
   "outputs": [],
   "source": []
  }
 ],
 "metadata": {
  "kernelspec": {
   "display_name": "Python 3 (ipykernel)",
   "language": "python",
   "name": "python3"
  },
  "language_info": {
   "codemirror_mode": {
    "name": "ipython",
    "version": 3
   },
   "file_extension": ".py",
   "mimetype": "text/x-python",
   "name": "python",
   "nbconvert_exporter": "python",
   "pygments_lexer": "ipython3",
   "version": "3.11.5"
  }
 },
 "nbformat": 4,
 "nbformat_minor": 5
}
