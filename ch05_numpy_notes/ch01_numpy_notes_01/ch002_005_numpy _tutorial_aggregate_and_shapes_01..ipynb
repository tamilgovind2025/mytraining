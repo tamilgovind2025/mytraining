{
 "cells": [
  {
   "cell_type": "markdown",
   "id": "194209c8",
   "metadata": {},
   "source": [
    "# array handlings"
   ]
  },
  {
   "cell_type": "code",
   "execution_count": 56,
   "id": "bf949a4e",
   "metadata": {},
   "outputs": [
    {
     "name": "stdout",
     "output_type": "stream",
     "text": [
      "array values\n",
      " [[21 22 45]\n",
      " [65 87 89]]\n",
      "array type is =  <class 'numpy.ndarray'>\n",
      "array id is =  2840765071984\n"
     ]
    }
   ],
   "source": [
    "arr=np.array([21,22,45,65,87,89]).reshape(2,3)\n",
    "print(\"array values\\n\",arr)\n",
    "print(\"array type is = \",type(arr))\n",
    "print(\"array id is = \",id(arr))"
   ]
  },
  {
   "cell_type": "markdown",
   "id": "2beee1f2",
   "metadata": {},
   "source": [
    "# transpose"
   ]
  },
  {
   "cell_type": "code",
   "execution_count": 57,
   "id": "b17c886a",
   "metadata": {},
   "outputs": [
    {
     "data": {
      "text/plain": [
       "array([[21, 65],\n",
       "       [22, 87],\n",
       "       [45, 89]])"
      ]
     },
     "execution_count": 57,
     "metadata": {},
     "output_type": "execute_result"
    }
   ],
   "source": [
    "new_arr=arr.T\n",
    "new_arr"
   ]
  },
  {
   "cell_type": "markdown",
   "id": "92eb7460",
   "metadata": {},
   "source": [
    "# ravel() -> convert to 1d array"
   ]
  },
  {
   "cell_type": "code",
   "execution_count": 58,
   "id": "c0885c85",
   "metadata": {},
   "outputs": [
    {
     "data": {
      "text/plain": [
       "array([21, 65, 22, 87, 45, 89])"
      ]
     },
     "execution_count": 58,
     "metadata": {},
     "output_type": "execute_result"
    }
   ],
   "source": [
    "flat=new_arr.ravel()\n",
    "flat"
   ]
  },
  {
   "cell_type": "markdown",
   "id": "031c6e95",
   "metadata": {},
   "source": [
    "# append and concatnate"
   ]
  },
  {
   "cell_type": "code",
   "execution_count": 59,
   "id": "45d8e327",
   "metadata": {},
   "outputs": [
    {
     "name": "stdout",
     "output_type": "stream",
     "text": [
      "Appended matrix (vertically):\n",
      "[[1 2]\n",
      " [3 4]\n",
      " [5 6]\n",
      " [7 8]]\n"
     ]
    }
   ],
   "source": [
    "import numpy as np\n",
    "\n",
    "# Example matrices\n",
    "matrix1 = np.array([[1, 2],\n",
    "                    [3, 4]])\n",
    "\n",
    "matrix2 = np.array([[5, 6],\n",
    "                    [7, 8]])\n",
    "\n",
    "# Append matrices vertically (stack row-wise)\n",
    "appended_matrix = np.concatenate((matrix1, matrix2), axis=0)\n",
    "print(\"Appended matrix (vertically):\")\n",
    "print(appended_matrix)\n"
   ]
  },
  {
   "cell_type": "code",
   "execution_count": 60,
   "id": "34b0ec40",
   "metadata": {},
   "outputs": [
    {
     "name": "stdout",
     "output_type": "stream",
     "text": [
      "Appended matrix (vertically):\n",
      "[[1 2 5 6]\n",
      " [3 4 7 8]]\n"
     ]
    }
   ],
   "source": [
    "import numpy as np\n",
    "\n",
    "# Example matrices\n",
    "matrix1 = np.array([[1, 2],\n",
    "                    [3, 4]])\n",
    "\n",
    "matrix2 = np.array([[5, 6],\n",
    "                    [7, 8]])\n",
    "\n",
    "# Append matrices vertically (stack row-wise)\n",
    "appended_matrix = np.concatenate((matrix1, matrix2), axis=1)\n",
    "print(\"Appended matrix (vertically):\")\n",
    "print(appended_matrix)"
   ]
  },
  {
   "cell_type": "code",
   "execution_count": null,
   "id": "8ac8a4ad",
   "metadata": {},
   "outputs": [],
   "source": [
    "import numpy as np\n",
    "\n",
    "# Example matrices\n",
    "matrix1 = np.array([[1, 2],\n",
    "                    [3, 4]])\n",
    "\n",
    "matrix2 = np.array([[5, 6],\n",
    "                    [7, 8]])\n",
    "\n",
    "# Append matrices vertically (stack row-wise)\n",
    "appended_matrix = np.concatenate((matrix1, matrix2), axis=1)\n",
    "print(\"Appended matrix (vertically):\")\n",
    "print(appended_matrix)"
   ]
  },
  {
   "cell_type": "code",
   "execution_count": 63,
   "id": "4d19653a",
   "metadata": {},
   "outputs": [
    {
     "name": "stdout",
     "output_type": "stream",
     "text": [
      "Appended matrix (vertically):\n",
      "[1 2 3 4 5 6 7 8]\n"
     ]
    }
   ],
   "source": [
    "#append worksi in vectos not in matrix data format\n",
    "\n",
    "import numpy as np\n",
    "\n",
    "# Example matrices\n",
    "matrix1 = np.array([[1, 2],\n",
    "                    [3, 4]])\n",
    "\n",
    "matrix2 = np.array([[5, 6],\n",
    "                    [7, 8]])\n",
    "\n",
    "appended_matrix = np.append(matrix1,matrix2)\n",
    "print(\"Appended matrix (vertically):\")\n",
    "print(appended_matrix)"
   ]
  },
  {
   "cell_type": "markdown",
   "id": "0f81adf3",
   "metadata": {},
   "source": [
    "# insert"
   ]
  },
  {
   "cell_type": "code",
   "execution_count": 66,
   "id": "090e2524",
   "metadata": {},
   "outputs": [
    {
     "name": "stdout",
     "output_type": "stream",
     "text": [
      "array values\n",
      " [21 22 45 65 87 89]\n",
      "array values\n",
      " [ 21 555  22  45  65  87  89]\n"
     ]
    }
   ],
   "source": [
    "arr=np.array([21,22,45,65,87,89])\n",
    "print(\"array values\\n\",arr)\n",
    "arr=np.insert(arr,1,555)\n",
    "print(\"array values\\n\",arr)"
   ]
  },
  {
   "cell_type": "markdown",
   "id": "bcbf741e",
   "metadata": {},
   "source": [
    "# delete"
   ]
  },
  {
   "cell_type": "code",
   "execution_count": 68,
   "id": "8c1c74d6",
   "metadata": {},
   "outputs": [
    {
     "data": {
      "text/plain": [
       "array([21, 45, 65, 87, 89])"
      ]
     },
     "execution_count": 68,
     "metadata": {},
     "output_type": "execute_result"
    }
   ],
   "source": [
    "arr=np.delete(arr,[1]) \n",
    "arr"
   ]
  },
  {
   "cell_type": "markdown",
   "id": "5ff78b8c",
   "metadata": {},
   "source": [
    "# percentile(arr,percent)"
   ]
  },
  {
   "cell_type": "code",
   "execution_count": 77,
   "id": "e31a8bb7",
   "metadata": {},
   "outputs": [
    {
     "name": "stdout",
     "output_type": "stream",
     "text": [
      "50th percentile: 3.0\n"
     ]
    }
   ],
   "source": [
    "import numpy as np\n",
    "\n",
    "data = np.array([1, 2, 3, 4, 5])\n",
    "percentile_50 = np.percentile(data, 50)  # 50th percentile (median)\n",
    "print(\"50th percentile:\", percentile_50)\n",
    "\n"
   ]
  },
  {
   "cell_type": "markdown",
   "id": "2385d300",
   "metadata": {},
   "source": [
    "# unique"
   ]
  },
  {
   "cell_type": "code",
   "execution_count": 78,
   "id": "acc3cf2b",
   "metadata": {},
   "outputs": [
    {
     "name": "stdout",
     "output_type": "stream",
     "text": [
      "Unique values: [1 2 3 4 5]\n"
     ]
    }
   ],
   "source": [
    "import numpy as np\n",
    "\n",
    "data = np.array([1, 2, 2, 3, 3, 3, 4, 4, 5])\n",
    "unique_values = np.unique(data)\n",
    "print(\"Unique values:\", unique_values)"
   ]
  },
  {
   "cell_type": "code",
   "execution_count": 79,
   "id": "2c0a0e78",
   "metadata": {},
   "outputs": [
    {
     "name": "stdout",
     "output_type": "stream",
     "text": [
      "Unique values: [1 2 3 4 5]\n"
     ]
    }
   ],
   "source": [
    "import numpy as np\n",
    "\n",
    "data = np.array([[1, 2, 2, 3, 3, 3, 4, 4, 5],[1, 2, 2, 3, 3, 3, 5, 4, 5],[1, 2, 2, 3, 3, 3, 4, 4, 5]])\n",
    "unique_values = np.unique(data)\n",
    "print(\"Unique values:\", unique_values)"
   ]
  },
  {
   "cell_type": "markdown",
   "id": "a7bff08e",
   "metadata": {},
   "source": [
    "# sqrt"
   ]
  },
  {
   "cell_type": "code",
   "execution_count": 80,
   "id": "3591e86a",
   "metadata": {},
   "outputs": [
    {
     "name": "stdout",
     "output_type": "stream",
     "text": [
      "Square root values: [1. 2. 3. 4. 5.]\n"
     ]
    }
   ],
   "source": [
    "import numpy as np\n",
    "\n",
    "data = np.array([1, 4, 9, 16, 25])\n",
    "sqrt_values = np.sqrt(data)\n",
    "print(\"Square root values:\", sqrt_values)\n"
   ]
  },
  {
   "cell_type": "markdown",
   "id": "0151183b",
   "metadata": {},
   "source": [
    "# arg sort"
   ]
  },
  {
   "cell_type": "code",
   "execution_count": 81,
   "id": "27146cb3",
   "metadata": {},
   "outputs": [
    {
     "name": "stdout",
     "output_type": "stream",
     "text": [
      "Indices that would sort the array: [1 2 0]\n"
     ]
    }
   ],
   "source": [
    "#numpy.argsort(): Returns the indices that would sort an array.\n",
    "\n",
    "import numpy as np\n",
    "\n",
    "data = np.array([3, 1, 2])\n",
    "sorted_indices = np.argsort(data)\n",
    "print(\"Indices that would sort the array:\", sorted_indices)"
   ]
  },
  {
   "cell_type": "code",
   "execution_count": 82,
   "id": "586d1778",
   "metadata": {},
   "outputs": [
    {
     "name": "stdout",
     "output_type": "stream",
     "text": [
      "Index of the maximum value: 0\n"
     ]
    }
   ],
   "source": [
    "# arg max \n",
    "\n",
    "import numpy as np\n",
    "\n",
    "data = np.array([3, 1, 2])\n",
    "max_index = np.argmax(data)\n",
    "print(\"Index of the maximum value:\", max_index)\n"
   ]
  },
  {
   "cell_type": "code",
   "execution_count": 83,
   "id": "921f366a",
   "metadata": {},
   "outputs": [
    {
     "name": "stdout",
     "output_type": "stream",
     "text": [
      "Index of the minimum value: 1\n"
     ]
    }
   ],
   "source": [
    "import numpy as np\n",
    "\n",
    "data = np.array([3, 1, 2])\n",
    "min_index = np.argmin(data)\n",
    "print(\"Index of the minimum value:\", min_index)\n"
   ]
  },
  {
   "cell_type": "code",
   "execution_count": 84,
   "id": "3237af51",
   "metadata": {},
   "outputs": [
    {
     "name": "stdout",
     "output_type": "stream",
     "text": [
      "Sorted array: [1 2 3]\n"
     ]
    }
   ],
   "source": [
    "import numpy as np\n",
    "\n",
    "data = np.array([3, 1, 2])\n",
    "sorted_data = np.sort(data)\n",
    "print(\"Sorted array:\", sorted_data)\n"
   ]
  },
  {
   "cell_type": "code",
   "execution_count": null,
   "id": "c6000c98",
   "metadata": {},
   "outputs": [],
   "source": []
  },
  {
   "cell_type": "markdown",
   "id": "8b8b4063",
   "metadata": {},
   "source": [
    "# numpy.ptp(): Returns the range of values (max - min) along an axis."
   ]
  },
  {
   "cell_type": "code",
   "execution_count": 85,
   "id": "da85b92a",
   "metadata": {},
   "outputs": [
    {
     "name": "stdout",
     "output_type": "stream",
     "text": [
      "Range of values: 2\n"
     ]
    }
   ],
   "source": [
    "import numpy as np\n",
    "\n",
    "data = np.array([3, 1, 2])\n",
    "range_values = np.ptp(data)\n",
    "print(\"Range of values:\", range_values)"
   ]
  },
  {
   "cell_type": "markdown",
   "id": "951be6f1",
   "metadata": {},
   "source": [
    "# numpy.searchsorted(): Finds the indices where elements should be inserted to maintain order."
   ]
  },
  {
   "cell_type": "code",
   "execution_count": 86,
   "id": "b25bca0e",
   "metadata": {},
   "outputs": [
    {
     "name": "stdout",
     "output_type": "stream",
     "text": [
      "Indices to insert 4 to maintain order: 2\n"
     ]
    }
   ],
   "source": [
    "import numpy as np\n",
    "\n",
    "data = np.array([1, 3, 5])\n",
    "indices = np.searchsorted(data, 4)\n",
    "print(\"Indices to insert 4 to maintain order:\", indices)\n"
   ]
  },
  {
   "cell_type": "code",
   "execution_count": null,
   "id": "c665c8e5",
   "metadata": {},
   "outputs": [],
   "source": []
  },
  {
   "cell_type": "markdown",
   "id": "665db1d1",
   "metadata": {},
   "source": [
    "# aggregate function"
   ]
  },
  {
   "cell_type": "code",
   "execution_count": 2,
   "id": "0035f7fc",
   "metadata": {},
   "outputs": [
    {
     "name": "stdout",
     "output_type": "stream",
     "text": [
      "[0 1 2 3 4 5 6 7 8 9]\n",
      "[array([0, 1, 2, 3]), array([4, 5, 6]), array([7, 8, 9])]\n"
     ]
    }
   ],
   "source": [
    "\"\"\"\n",
    "array_split: Split an array into multiple sub-arrays\n",
    "\"\"\"\n",
    "import numpy as np\n",
    "\n",
    "arr = np.arange(10)\n",
    "print(arr)\n",
    "sub_arrays = np.array_split(arr, 3)\n",
    "print(sub_arrays)\n"
   ]
  },
  {
   "cell_type": "code",
   "execution_count": 3,
   "id": "142ddfeb",
   "metadata": {},
   "outputs": [
    {
     "name": "stdout",
     "output_type": "stream",
     "text": [
      "[[1 4]\n",
      " [2 5]\n",
      " [3 6]]\n"
     ]
    }
   ],
   "source": [
    "\"\"\"\n",
    "column_stack: Stack 1-D arrays as columns into a 2-D array.\n",
    "\"\"\"\n",
    "\n",
    "import numpy as np\n",
    "\n",
    "a = np.array([1, 2, 3])\n",
    "b = np.array([4, 5, 6])\n",
    "result = np.column_stack((a, b))\n",
    "print(result)"
   ]
  },
  {
   "cell_type": "code",
   "execution_count": 6,
   "id": "272cd4ea",
   "metadata": {},
   "outputs": [
    {
     "name": "stdout",
     "output_type": "stream",
     "text": [
      "[[1 2]\n",
      " [3 4]]\n",
      "----------------\n",
      "[[5 6]]\n",
      "-----------\n",
      "[[1 2]\n",
      " [3 4]\n",
      " [5 6]]\n"
     ]
    }
   ],
   "source": [
    "\"\"\"\n",
    "concatenate: Concatenate arrays along a specified axis.\n",
    "\n",
    "\"\"\"\n",
    "\n",
    "import numpy as np\n",
    "\n",
    "a = np.array([[1, 2], [3, 4]])\n",
    "print(a)\n",
    "print(\"----------------\")\n",
    "\n",
    "b = np.array([[5, 6]])\n",
    "print(b)\n",
    "print(\"-----------\")\n",
    "\n",
    "result = np.concatenate((a, b), axis=0)\n",
    "print(result)"
   ]
  },
  {
   "cell_type": "code",
   "execution_count": 8,
   "id": "09bee2e3",
   "metadata": {},
   "outputs": [
    {
     "name": "stdout",
     "output_type": "stream",
     "text": [
      "[1 5 9]\n"
     ]
    }
   ],
   "source": [
    "\"\"\"\n",
    "diagonal: Return the diagonal of an array.\n",
    "\n",
    "\"\"\"\n",
    "\n",
    "import numpy as np\n",
    "\n",
    "arr = np.array([[1, 2, 3], [4, 5, 6], [7, 8, 9]])\n",
    "diagonal = np.diagonal(arr)\n",
    "print(diagonal)"
   ]
  },
  {
   "cell_type": "code",
   "execution_count": 11,
   "id": "0401569f",
   "metadata": {},
   "outputs": [
    {
     "data": {
      "text/plain": [
       "array([[[ 0,  1,  2,  3],\n",
       "        [ 4,  5,  6,  7]],\n",
       "\n",
       "       [[ 8,  9, 10, 11],\n",
       "        [12, 13, 14, 15]]])"
      ]
     },
     "execution_count": 11,
     "metadata": {},
     "output_type": "execute_result"
    }
   ],
   "source": [
    "\"\"\"\n",
    "dsplit: Split array along the third axis.\n",
    "\"\"\"\n",
    "\n",
    "import numpy as np\n",
    "\n",
    "arr = np.arange(16).reshape((2, 2, 4))\n",
    "arr\n"
   ]
  },
  {
   "cell_type": "code",
   "execution_count": 12,
   "id": "9b0a98b1",
   "metadata": {},
   "outputs": [
    {
     "data": {
      "text/plain": [
       "[array([[[ 0,  1],\n",
       "         [ 4,  5]],\n",
       " \n",
       "        [[ 8,  9],\n",
       "         [12, 13]]]),\n",
       " array([[[ 2,  3],\n",
       "         [ 6,  7]],\n",
       " \n",
       "        [[10, 11],\n",
       "         [14, 15]]])]"
      ]
     },
     "execution_count": 12,
     "metadata": {},
     "output_type": "execute_result"
    }
   ],
   "source": [
    "result = np.dsplit(arr, 2)\n",
    "result"
   ]
  },
  {
   "cell_type": "code",
   "execution_count": 13,
   "id": "64334294",
   "metadata": {},
   "outputs": [
    {
     "name": "stdout",
     "output_type": "stream",
     "text": [
      "[[[1 5]\n",
      "  [2 6]]\n",
      "\n",
      " [[3 7]\n",
      "  [4 8]]]\n"
     ]
    }
   ],
   "source": [
    "\"\"\"\n",
    "dstack: Stack arrays in sequence along the third axis.\n",
    "\"\"\"\n",
    "\n",
    "import numpy as np\n",
    "\n",
    "a = np.array([[1, 2], [3, 4]])\n",
    "b = np.array([[5, 6], [7, 8]])\n",
    "result = np.dstack((a, b))\n",
    "print(result)\n"
   ]
  },
  {
   "cell_type": "code",
   "execution_count": 21,
   "id": "a6611553",
   "metadata": {},
   "outputs": [
    {
     "data": {
      "text/plain": [
       "[array([[ 0,  1],\n",
       "        [ 4,  5],\n",
       "        [ 8,  9],\n",
       "        [12, 13]]),\n",
       " array([[ 2,  3],\n",
       "        [ 6,  7],\n",
       "        [10, 11],\n",
       "        [14, 15]])]"
      ]
     },
     "execution_count": 21,
     "metadata": {},
     "output_type": "execute_result"
    }
   ],
   "source": [
    "\"\"\"\n",
    "hsplit: Split array into multiple sub-arrays horizontally (column-wise).\n",
    "\"\"\"\n",
    "import numpy as np\n",
    "\n",
    "arr = np.arange(16).reshape((4, 4))\n",
    "result = np.hsplit(arr, 2)\n",
    "result\n",
    "#result[0].shape\n",
    "#print(arr.shape)"
   ]
  },
  {
   "cell_type": "code",
   "execution_count": 22,
   "id": "1333388f",
   "metadata": {},
   "outputs": [
    {
     "name": "stdout",
     "output_type": "stream",
     "text": [
      "[1 2 3 4 5 6]\n"
     ]
    }
   ],
   "source": [
    "\"\"\"\n",
    "hstack: Stack arrays in sequence horizontally (column-wise).\n",
    "\n",
    "\"\"\"\n",
    "import numpy as np\n",
    "\n",
    "a = np.array([1, 2, 3])\n",
    "b = np.array([4, 5, 6])\n",
    "result = np.hstack((a, b))\n",
    "print(result)"
   ]
  },
  {
   "cell_type": "code",
   "execution_count": 24,
   "id": "adb6750a",
   "metadata": {},
   "outputs": [
    {
     "name": "stdout",
     "output_type": "stream",
     "text": [
      "1\n"
     ]
    }
   ],
   "source": [
    "\"\"\"\n",
    "ndarray.item: Get a specific element of an array.\n",
    "\"\"\"\n",
    "import numpy as np\n",
    "\n",
    "arr = np.array([1, 2, 3])\n",
    "\n",
    "item = arr.item(0)\n",
    "\n",
    "print(item)"
   ]
  },
  {
   "cell_type": "code",
   "execution_count": 25,
   "id": "7a8d18a8",
   "metadata": {},
   "outputs": [
    {
     "name": "stdout",
     "output_type": "stream",
     "text": [
      "[[1]\n",
      " [2]\n",
      " [3]]\n"
     ]
    }
   ],
   "source": [
    "\"\"\"\n",
    "newaxis: Increase the dimension of the existing array.\n",
    "\n",
    "\"\"\"\n",
    "import numpy as np\n",
    "\n",
    "arr = np.array([1, 2, 3])\n",
    "new_arr = arr[:, np.newaxis]\n",
    "print(new_arr)\n"
   ]
  },
  {
   "cell_type": "code",
   "execution_count": 26,
   "id": "78624a53",
   "metadata": {},
   "outputs": [
    {
     "name": "stdout",
     "output_type": "stream",
     "text": [
      "[1 2 3 4]\n"
     ]
    }
   ],
   "source": [
    "\"\"\"\n",
    "ravel: Flatten an array into a 1-D array.\n",
    "\n",
    "\"\"\"\n",
    "import numpy as np\n",
    "\n",
    "arr = np.array([[1, 2], [3, 4]])\n",
    "flattened = np.ravel(arr)\n",
    "print(flattened)\n"
   ]
  },
  {
   "cell_type": "code",
   "execution_count": 27,
   "id": "9a088e4b",
   "metadata": {},
   "outputs": [
    {
     "name": "stdout",
     "output_type": "stream",
     "text": [
      "[1 1 1 2 2 2 3 3 3]\n"
     ]
    }
   ],
   "source": [
    "\"\"\"\n",
    "repeat: Repeat elements of an array.\n",
    "\"\"\"\n",
    "\n",
    "import numpy as np\n",
    "\n",
    "arr = np.array([1, 2, 3])\n",
    "repeated = np.repeat(arr, 3)\n",
    "print(repeated)"
   ]
  },
  {
   "cell_type": "code",
   "execution_count": 28,
   "id": "255e73f8",
   "metadata": {},
   "outputs": [
    {
     "name": "stdout",
     "output_type": "stream",
     "text": [
      "[[0 1 2]\n",
      " [3 4 5]]\n"
     ]
    }
   ],
   "source": [
    "\"\"\"\n",
    "reshape: Reshape an array into a specified shape.\n",
    "\"\"\"\n",
    "import numpy as np\n",
    "\n",
    "arr = np.arange(6)\n",
    "reshaped = np.reshape(arr, (2, 3))\n",
    "print(reshaped)\n"
   ]
  },
  {
   "cell_type": "code",
   "execution_count": 29,
   "id": "10070dad",
   "metadata": {},
   "outputs": [
    {
     "name": "stdout",
     "output_type": "stream",
     "text": [
      "[0 1 2 0 1]\n"
     ]
    }
   ],
   "source": [
    "\"\"\"\n",
    "resize: Resize an array.\n",
    "\"\"\"\n",
    "\n",
    "import numpy as np\n",
    "\n",
    "arr = np.arange(3)\n",
    "resized = np.resize(arr, (5,))\n",
    "print(resized)\n"
   ]
  },
  {
   "cell_type": "code",
   "execution_count": 1,
   "id": "22c7d8fd",
   "metadata": {},
   "outputs": [
    {
     "name": "stdout",
     "output_type": "stream",
     "text": [
      "(3,)\n",
      "[0 1 2]\n"
     ]
    }
   ],
   "source": [
    "\"\"\"\n",
    "squeeze: Remove single-dimensional entries from the shape of an array.\n",
    "\"\"\"\n",
    "import numpy as np\n",
    "\n",
    "arr = np.array([[[0], [1], [2]]])\n",
    "squeezed = np.squeeze(arr)\n",
    "print(squeezed.shape)\n",
    "print(squeezed)"
   ]
  },
  {
   "cell_type": "code",
   "execution_count": 4,
   "id": "cafa5900",
   "metadata": {},
   "outputs": [
    {
     "name": "stdout",
     "output_type": "stream",
     "text": [
      "[[1]\n",
      " [2]\n",
      " [3]]\n"
     ]
    }
   ],
   "source": [
    "\"\"\"\n",
    "swapaxes: Interchange two axes of an array.\n",
    "\"\"\"\n",
    "import numpy as np\n",
    "\n",
    "arr = np.array([[1, 2, 3]])\n",
    "swapped = np.swapaxes(arr,0,1)\n",
    "print(swapped)\n"
   ]
  },
  {
   "cell_type": "code",
   "execution_count": 5,
   "id": "67f3c09c",
   "metadata": {},
   "outputs": [
    {
     "name": "stdout",
     "output_type": "stream",
     "text": [
      "[4 5 7]\n"
     ]
    }
   ],
   "source": [
    "\"\"\"\n",
    "take: Return elements from an array along a specified axis.\n",
    "\"\"\"\n",
    "import numpy as np\n",
    "\n",
    "arr = np.array([4, 3, 5, 7, 6])\n",
    "indices = [0, 2, 3]\n",
    "taken = np.take(arr, indices)\n",
    "print(taken)\n"
   ]
  },
  {
   "cell_type": "code",
   "execution_count": 7,
   "id": "9d94ca61",
   "metadata": {},
   "outputs": [
    {
     "name": "stdout",
     "output_type": "stream",
     "text": [
      "[[0 1]\n",
      " [2 3]]\n",
      "[[0 2]\n",
      " [1 3]]\n"
     ]
    }
   ],
   "source": [
    "\"\"\"\n",
    "transpose: Permute the dimensions of an array.\n",
    "\n",
    "\"\"\"\n",
    "\n",
    "import numpy as np\n",
    "\n",
    "arr = np.arange(4).reshape((2, 2))\n",
    "print(arr)\n",
    "transposed = np.transpose(arr)\n",
    "print(transposed)"
   ]
  },
  {
   "cell_type": "code",
   "execution_count": 9,
   "id": "273317e5",
   "metadata": {},
   "outputs": [
    {
     "data": {
      "text/plain": [
       "[array([[0, 1, 2, 3],\n",
       "        [4, 5, 6, 7]]),\n",
       " array([[ 8,  9, 10, 11],\n",
       "        [12, 13, 14, 15]])]"
      ]
     },
     "execution_count": 9,
     "metadata": {},
     "output_type": "execute_result"
    }
   ],
   "source": [
    "\"\"\"\n",
    "vsplit: Split array into multiple sub-arrays vertically (row-wise).\n",
    "\n",
    "\"\"\"\n",
    "import numpy as np\n",
    "\n",
    "arr = np.arange(16).reshape((4, 4))\n",
    "result = np.vsplit(arr, 2)\n",
    "result"
   ]
  },
  {
   "cell_type": "code",
   "execution_count": 10,
   "id": "1802f145",
   "metadata": {},
   "outputs": [
    {
     "data": {
      "text/plain": [
       "array([[ 0,  1,  2,  3],\n",
       "       [ 4,  5,  6,  7],\n",
       "       [ 8,  9, 10, 11],\n",
       "       [12, 13, 14, 15]])"
      ]
     },
     "execution_count": 10,
     "metadata": {},
     "output_type": "execute_result"
    }
   ],
   "source": [
    "arr"
   ]
  },
  {
   "cell_type": "code",
   "execution_count": 11,
   "id": "82b30227",
   "metadata": {},
   "outputs": [
    {
     "name": "stdout",
     "output_type": "stream",
     "text": [
      "[[1 2 3]\n",
      " [4 5 6]]\n"
     ]
    }
   ],
   "source": [
    "\"\"\"\n",
    "vstack: Stack arrays in sequence vertically (row-wise).\n",
    "\"\"\"\n",
    "\n",
    "\n",
    "\n",
    "import numpy as np\n",
    "\n",
    "a = np.array([1, 2, 3])\n",
    "b = np.array([4, 5, 6])\n",
    "result = np.vstack((a, b))\n",
    "print(result)"
   ]
  },
  {
   "cell_type": "markdown",
   "id": "25054d1e",
   "metadata": {},
   "source": [
    "# aggregate functions "
   ]
  },
  {
   "cell_type": "markdown",
   "id": "d6cfaca5",
   "metadata": {},
   "source": [
    "# sum()"
   ]
  },
  {
   "cell_type": "code",
   "execution_count": 14,
   "id": "01127c70",
   "metadata": {},
   "outputs": [
    {
     "name": "stdout",
     "output_type": "stream",
     "text": [
      "[1 2 3 4 5]\n",
      "15\n"
     ]
    }
   ],
   "source": [
    "\"\"\"\n",
    "sum\n",
    "\"\"\"\n",
    "\n",
    "a1=np.arange(1,6)\n",
    "print(a1)\n",
    "total=a1.sum()\n",
    "print(total)"
   ]
  },
  {
   "cell_type": "code",
   "execution_count": 17,
   "id": "612e40c0",
   "metadata": {},
   "outputs": [
    {
     "name": "stdout",
     "output_type": "stream",
     "text": [
      "[[ 1  2  3  4  5]\n",
      " [ 6  7  8  9 10]\n",
      " [11 12 13 14 15]]\n",
      "120\n",
      "[18 21 24 27 30]\n",
      "[15 40 65]\n"
     ]
    }
   ],
   "source": [
    "a1=np.arange(1,16).reshape((3,5))\n",
    "print(a1)\n",
    "total=a1.sum()\n",
    "print(total)\n",
    "\n",
    "#column wise addition\n",
    "total=a1.sum(axis=0)\n",
    "print(total)\n",
    "\n",
    "#row wise wise of matrix addition\n",
    "total=a1.sum(axis=1)\n",
    "print(total)"
   ]
  },
  {
   "cell_type": "markdown",
   "id": "1e9d671a",
   "metadata": {},
   "source": [
    "# min()"
   ]
  },
  {
   "cell_type": "code",
   "execution_count": 18,
   "id": "2fed6559",
   "metadata": {},
   "outputs": [
    {
     "name": "stdout",
     "output_type": "stream",
     "text": [
      "[1 2 3 4 5]\n",
      "1\n"
     ]
    }
   ],
   "source": [
    "a1=np.arange(1,6)\n",
    "print(a1)\n",
    "total=a1.min()\n",
    "print(total)"
   ]
  },
  {
   "cell_type": "code",
   "execution_count": 21,
   "id": "6532b7f1",
   "metadata": {},
   "outputs": [
    {
     "name": "stdout",
     "output_type": "stream",
     "text": [
      "[[ 1  2  3  4  5]\n",
      " [ 6  7  8  9 10]\n",
      " [11 12 13 14 15]]\n",
      "1\n"
     ]
    }
   ],
   "source": [
    "a2=np.arange(1,16).reshape((3,5))\n",
    "print(a2)\n",
    "total=a2.min()\n",
    "print(total)"
   ]
  },
  {
   "cell_type": "code",
   "execution_count": 22,
   "id": "1d877b30",
   "metadata": {},
   "outputs": [
    {
     "name": "stdout",
     "output_type": "stream",
     "text": [
      "[1 2 3 4 5]\n",
      "[ 1  6 11]\n"
     ]
    }
   ],
   "source": [
    "#column wise \n",
    "total=a2.min(axis=0)\n",
    "print(total)\n",
    "\n",
    "#row wise wise \n",
    "total=a2.min(axis=1)\n",
    "print(total)"
   ]
  },
  {
   "cell_type": "markdown",
   "id": "4c0020ff",
   "metadata": {},
   "source": [
    "# max()"
   ]
  },
  {
   "cell_type": "code",
   "execution_count": 24,
   "id": "ccb1f6d5",
   "metadata": {},
   "outputs": [
    {
     "name": "stdout",
     "output_type": "stream",
     "text": [
      "5\n"
     ]
    }
   ],
   "source": [
    "total=a1.max()\n",
    "print(total)"
   ]
  },
  {
   "cell_type": "code",
   "execution_count": 25,
   "id": "92bb772d",
   "metadata": {},
   "outputs": [
    {
     "name": "stdout",
     "output_type": "stream",
     "text": [
      "15\n"
     ]
    }
   ],
   "source": [
    "total=a2.max()\n",
    "print(total)"
   ]
  },
  {
   "cell_type": "code",
   "execution_count": 27,
   "id": "f906bd17",
   "metadata": {},
   "outputs": [
    {
     "name": "stdout",
     "output_type": "stream",
     "text": [
      "[11 12 13 14 15]\n",
      "[ 5 10 15]\n"
     ]
    }
   ],
   "source": [
    "#column wise \n",
    "total=a2.max(axis=0)\n",
    "print(total)\n",
    "\n",
    "#row wise wise \n",
    "total=a2.max(axis=1)\n",
    "print(total)"
   ]
  },
  {
   "cell_type": "markdown",
   "id": "617fb19a",
   "metadata": {},
   "source": [
    "# cumsum()"
   ]
  },
  {
   "cell_type": "code",
   "execution_count": 29,
   "id": "ab8ed654",
   "metadata": {},
   "outputs": [
    {
     "name": "stdout",
     "output_type": "stream",
     "text": [
      "[ 1  3  6 10 15]\n"
     ]
    }
   ],
   "source": [
    "total=a1.cumsum()\n",
    "print(total)"
   ]
  },
  {
   "cell_type": "code",
   "execution_count": 30,
   "id": "3479daf0",
   "metadata": {},
   "outputs": [
    {
     "name": "stdout",
     "output_type": "stream",
     "text": [
      "[  1   3   6  10  15  21  28  36  45  55  66  78  91 105 120]\n"
     ]
    }
   ],
   "source": [
    "total=a2.cumsum()\n",
    "print(total)"
   ]
  },
  {
   "cell_type": "code",
   "execution_count": 31,
   "id": "4efe77f9",
   "metadata": {},
   "outputs": [
    {
     "name": "stdout",
     "output_type": "stream",
     "text": [
      "[[ 1  2  3  4  5]\n",
      " [ 7  9 11 13 15]\n",
      " [18 21 24 27 30]]\n"
     ]
    }
   ],
   "source": [
    "#col\n",
    "total=a2.cumsum(axis=0)\n",
    "print(total)"
   ]
  },
  {
   "cell_type": "code",
   "execution_count": 33,
   "id": "49405ac2",
   "metadata": {},
   "outputs": [
    {
     "name": "stdout",
     "output_type": "stream",
     "text": [
      "[[ 1  3  6 10 15]\n",
      " [ 6 13 21 30 40]\n",
      " [11 23 36 50 65]]\n"
     ]
    }
   ],
   "source": [
    "#col\n",
    "total=a2.cumsum(axis=1)\n",
    "print(total)"
   ]
  },
  {
   "cell_type": "markdown",
   "id": "cf6eb5ce",
   "metadata": {},
   "source": [
    "# mean"
   ]
  },
  {
   "cell_type": "code",
   "execution_count": 34,
   "id": "8830aac6",
   "metadata": {},
   "outputs": [
    {
     "name": "stdout",
     "output_type": "stream",
     "text": [
      "3.0\n"
     ]
    }
   ],
   "source": [
    "total=a1.mean()\n",
    "print(total)"
   ]
  },
  {
   "cell_type": "code",
   "execution_count": 36,
   "id": "aa03ac6a",
   "metadata": {},
   "outputs": [
    {
     "name": "stdout",
     "output_type": "stream",
     "text": [
      "8.0\n"
     ]
    }
   ],
   "source": [
    "total=a2.mean()\n",
    "print(total)"
   ]
  },
  {
   "cell_type": "code",
   "execution_count": 38,
   "id": "178697d1",
   "metadata": {},
   "outputs": [
    {
     "name": "stdout",
     "output_type": "stream",
     "text": [
      "[ 6.  7.  8.  9. 10.]\n",
      "[ 3.  8. 13.]\n"
     ]
    }
   ],
   "source": [
    "#column wise \n",
    "total=a2.mean(axis=0)\n",
    "print(total)\n",
    "\n",
    "#row wise wise \n",
    "total=a2.mean(axis=1)\n",
    "print(total)"
   ]
  },
  {
   "cell_type": "markdown",
   "id": "8b2a327a",
   "metadata": {},
   "source": [
    "# median"
   ]
  },
  {
   "cell_type": "code",
   "execution_count": 40,
   "id": "3c74789c",
   "metadata": {},
   "outputs": [
    {
     "name": "stdout",
     "output_type": "stream",
     "text": [
      "3.0\n"
     ]
    }
   ],
   "source": [
    "total=np.median(a1)\n",
    "print(total)"
   ]
  },
  {
   "cell_type": "code",
   "execution_count": 41,
   "id": "fc025b7e",
   "metadata": {},
   "outputs": [
    {
     "name": "stdout",
     "output_type": "stream",
     "text": [
      "8.0\n"
     ]
    }
   ],
   "source": [
    "total=np.median(a2)\n",
    "print(total)"
   ]
  },
  {
   "cell_type": "code",
   "execution_count": 42,
   "id": "bacb8bb3",
   "metadata": {},
   "outputs": [
    {
     "name": "stdout",
     "output_type": "stream",
     "text": [
      "[ 6.  7.  8.  9. 10.]\n"
     ]
    }
   ],
   "source": [
    "total=np.median(a2,axis=0)\n",
    "print(total)"
   ]
  },
  {
   "cell_type": "code",
   "execution_count": 43,
   "id": "e824bf21",
   "metadata": {},
   "outputs": [
    {
     "name": "stdout",
     "output_type": "stream",
     "text": [
      "[ 3.  8. 13.]\n"
     ]
    }
   ],
   "source": [
    "total=np.median(a2,axis=1)\n",
    "print(total)"
   ]
  },
  {
   "cell_type": "markdown",
   "id": "c56b5369",
   "metadata": {},
   "source": [
    "# standard deviation "
   ]
  },
  {
   "cell_type": "code",
   "execution_count": 44,
   "id": "db4697e3",
   "metadata": {},
   "outputs": [
    {
     "name": "stdout",
     "output_type": "stream",
     "text": [
      "1.4142135623730951\n"
     ]
    }
   ],
   "source": [
    "total=np.std(a1)\n",
    "print(total)"
   ]
  },
  {
   "cell_type": "code",
   "execution_count": 45,
   "id": "c5d98752",
   "metadata": {},
   "outputs": [
    {
     "name": "stdout",
     "output_type": "stream",
     "text": [
      "4.320493798938574\n"
     ]
    }
   ],
   "source": [
    "total=np.std(a2)\n",
    "print(total)"
   ]
  },
  {
   "cell_type": "code",
   "execution_count": 46,
   "id": "b712b29e",
   "metadata": {},
   "outputs": [
    {
     "name": "stdout",
     "output_type": "stream",
     "text": [
      "[1.41421356 1.41421356 1.41421356]\n"
     ]
    }
   ],
   "source": [
    "total=np.std(a2,axis=1)\n",
    "print(total)"
   ]
  },
  {
   "cell_type": "code",
   "execution_count": 47,
   "id": "48434927",
   "metadata": {},
   "outputs": [
    {
     "name": "stdout",
     "output_type": "stream",
     "text": [
      "[4.0824829 4.0824829 4.0824829 4.0824829 4.0824829]\n"
     ]
    }
   ],
   "source": [
    "total=np.std(a2,axis=0)\n",
    "print(total)"
   ]
  },
  {
   "cell_type": "markdown",
   "id": "8c1e10e1",
   "metadata": {},
   "source": [
    "# correlation coefficient "
   ]
  },
  {
   "cell_type": "raw",
   "id": "561d67b9",
   "metadata": {},
   "source": [
    "# In NumPy, you can compute the correlation coefficient between variables using the numpy.corrcoef() function. The correlation coefficient is a measure of the linear relationship between two variables. It ranges from -1 to 1, where:\n",
    "\n",
    "1 indicates a perfect positive linear relationship,\n",
    "-1 indicates a perfect negative linear relationship, and\n",
    "0 indicates no linear relationship.\n",
    "Here's how you can use numpy.corrcoef():\n",
    "\n",
    "\n"
   ]
  },
  {
   "cell_type": "code",
   "execution_count": 49,
   "id": "0599b8ac",
   "metadata": {},
   "outputs": [
    {
     "name": "stdout",
     "output_type": "stream",
     "text": [
      "Correlation coefficient matrix:\n",
      "[[ 1. -1.]\n",
      " [-1.  1.]]\n"
     ]
    }
   ],
   "source": [
    "import numpy as np\n",
    "\n",
    "# Example data\n",
    "x = np.array([1, 2, 3, 4, 5])\n",
    "y = np.array([5, 4, 3, 2, 1])\n",
    "\n",
    "# Compute correlation coefficient matrix\n",
    "correlation_matrix = np.corrcoef(x, y)\n",
    "\n",
    "print(\"Correlation coefficient matrix:\")\n",
    "print(correlation_matrix)\n"
   ]
  },
  {
   "cell_type": "code",
   "execution_count": 50,
   "id": "6a705bc3",
   "metadata": {},
   "outputs": [
    {
     "name": "stdout",
     "output_type": "stream",
     "text": [
      "Correlation coefficient matrix:\n",
      "[[1.         0.39782585]\n",
      " [0.39782585 1.        ]]\n"
     ]
    }
   ],
   "source": [
    "import numpy as np\n",
    "\n",
    "# Example data\n",
    "x = np.array([1, 2, 3, 4, 5])\n",
    "y = np.array([2.5,6.7,8.5,33.5,5])\n",
    "\n",
    "# Compute correlation coefficient matrix\n",
    "correlation_matrix = np.corrcoef(x, y)\n",
    "\n",
    "print(\"Correlation coefficient matrix:\")\n",
    "print(correlation_matrix)"
   ]
  },
  {
   "cell_type": "markdown",
   "id": "161e6fd5",
   "metadata": {},
   "source": [
    "# operations"
   ]
  },
  {
   "cell_type": "raw",
   "id": "e9003940",
   "metadata": {},
   "source": [
    "np.choose: This function constructs an array from an index array and a set of arrays to choose from. It returns an array formed by taking elements from the input arrays corresponding to the indices in the index array. Here's an example:"
   ]
  },
  {
   "cell_type": "code",
   "execution_count": 87,
   "id": "d1b8cc2b",
   "metadata": {},
   "outputs": [
    {
     "name": "stdout",
     "output_type": "stream",
     "text": [
      "[ 0 21 32 13]\n"
     ]
    }
   ],
   "source": [
    "import numpy as np\n",
    "\n",
    "choices = [[0, 1, 2, 3], [10, 11, 12, 13], [20, 21, 22, 23], [30, 31, 32, 33]]\n",
    "index_array = np.array([0, 2, 3, 1])\n",
    "result = np.choose(index_array, choices)\n",
    "print(result)\n",
    "# Output: [ 0 21 32 13]\n"
   ]
  },
  {
   "cell_type": "raw",
   "id": "dbff3fe0",
   "metadata": {},
   "source": [
    "np.compress: This function returns selected slices of an array along a given axis. It takes a boolean mask and compresses the array by returning only the elements corresponding to True values in the mask. Example:"
   ]
  },
  {
   "cell_type": "code",
   "execution_count": 88,
   "id": "01471b76",
   "metadata": {},
   "outputs": [
    {
     "name": "stdout",
     "output_type": "stream",
     "text": [
      "[1 3 5]\n"
     ]
    }
   ],
   "source": [
    "arr = np.array([1, 2, 3, 4, 5])\n",
    "mask = [True, False, True, False, True]\n",
    "result = np.compress(mask, arr)\n",
    "print(result)\n",
    "# Output: [1 3 5]\n"
   ]
  },
  {
   "cell_type": "raw",
   "id": "0a2a92ab",
   "metadata": {},
   "source": [
    "np.cumprod: This function returns the cumulative product of elements along a given axis. Example:"
   ]
  },
  {
   "cell_type": "code",
   "execution_count": 89,
   "id": "5a9b7867",
   "metadata": {},
   "outputs": [
    {
     "name": "stdout",
     "output_type": "stream",
     "text": [
      "[ 1  2  6 24]\n"
     ]
    }
   ],
   "source": [
    "arr = np.array([1, 2, 3, 4])\n",
    "result = np.cumprod(arr)\n",
    "print(result)\n",
    "# Output: [ 1  2  6 24]\n"
   ]
  },
  {
   "cell_type": "raw",
   "id": "f2bd41ea",
   "metadata": {},
   "source": [
    "np.inner: This function returns the inner product of two arrays. For 1-D arrays, it is the sum of the element-wise products. For higher-dimensional arrays, it is equivalent to summing over the last axis of the first array and the second-to-last axis of the second array. Example:"
   ]
  },
  {
   "cell_type": "code",
   "execution_count": 90,
   "id": "5c21cc1f",
   "metadata": {},
   "outputs": [
    {
     "name": "stdout",
     "output_type": "stream",
     "text": [
      "11\n"
     ]
    }
   ],
   "source": [
    "a = np.array([1, 2])\n",
    "b = np.array([3, 4])\n",
    "result = np.inner(a, b)\n",
    "print(result)\n",
    "# Output: 11 (since 1*3 + 2*4 = 11)\n"
   ]
  },
  {
   "cell_type": "code",
   "execution_count": 91,
   "id": "2c2f50d7",
   "metadata": {},
   "outputs": [
    {
     "name": "stdout",
     "output_type": "stream",
     "text": [
      "[[5. 5.]\n",
      " [5. 5.]]\n"
     ]
    }
   ],
   "source": [
    "#np.ndarray.fill: This method fills the array with a scalar value. Example:\n",
    "\n",
    "arr = np.zeros((2, 2))\n",
    "arr.fill(5)\n",
    "print(arr)\n",
    "# Output: [[5. 5.]\n",
    "#          [5. 5.]]\n"
   ]
  },
  {
   "cell_type": "code",
   "execution_count": 92,
   "id": "4f8de78b",
   "metadata": {},
   "outputs": [
    {
     "name": "stdout",
     "output_type": "stream",
     "text": [
      "24\n"
     ]
    }
   ],
   "source": [
    "#np.product: This function returns the product of array elements over a given axis. Example:\n",
    "\n",
    "arr = np.array([1, 2, 3, 4])\n",
    "result = np.product(arr)\n",
    "print(result)\n",
    "# Output: 24\n"
   ]
  },
  {
   "cell_type": "code",
   "execution_count": 93,
   "id": "f074eb11",
   "metadata": {},
   "outputs": [
    {
     "name": "stdout",
     "output_type": "stream",
     "text": [
      "[-1  2 -2  4]\n"
     ]
    }
   ],
   "source": [
    "#np.put: This function replaces specified elements of an array with given values. Example:\n",
    "\n",
    "arr = np.array([1, 2, 3, 4])\n",
    "np.put(arr, [0, 2], [-1, -2]) #np.put(arr,indexes, values to place in index)\n",
    "print(arr)\n",
    "# Output: [-1  2 -2  4]"
   ]
  },
  {
   "cell_type": "code",
   "execution_count": 94,
   "id": "304f6cb5",
   "metadata": {},
   "outputs": [
    {
     "name": "stdout",
     "output_type": "stream",
     "text": [
      "[ 1  2 -1 -1]\n"
     ]
    }
   ],
   "source": [
    "#np.putmask: This function changes elements of an array based on conditional statement and values. Example:\n",
    "\n",
    "arr = np.array([1, 2, 3, 4])\n",
    "np.putmask(arr, arr > 2, -1)\n",
    "print(arr)\n",
    "# Output: [ 1  2 -1 -1]"
   ]
  },
  {
   "cell_type": "code",
   "execution_count": 95,
   "id": "16045775",
   "metadata": {},
   "outputs": [
    {
     "name": "stdout",
     "output_type": "stream",
     "text": [
      "[1. 3.]\n"
     ]
    }
   ],
   "source": [
    "#np.real: This function returns the real part of the complex argument. Example:\n",
    "\n",
    "arr = np.array([1+2j, 3+4j])\n",
    "result = np.real(arr)\n",
    "print(result)\n",
    "# Output: [1. 3.]"
   ]
  },
  {
   "cell_type": "code",
   "execution_count": 96,
   "id": "07cce1f5",
   "metadata": {},
   "outputs": [
    {
     "name": "stdout",
     "output_type": "stream",
     "text": [
      "10\n"
     ]
    }
   ],
   "source": [
    "#np.sum: This function returns the sum of array elements over a given axis. Example:\n",
    "\n",
    "arr = np.array([[1, 2], [3, 4]])\n",
    "result = np.sum(arr)\n",
    "print(result)\n",
    "# Output: 10"
   ]
  },
  {
   "cell_type": "code",
   "execution_count": 98,
   "id": "74973e5a",
   "metadata": {
    "collapsed": true
   },
   "outputs": [
    {
     "name": "stdout",
     "output_type": "stream",
     "text": [
      "array(object, dtype=None, *, copy=True, order='K', subok=False, ndmin=0,\n",
      "      like=None)\n",
      "\n",
      "Create an array.\n",
      "\n",
      "Parameters\n",
      "----------\n",
      "object : array_like\n",
      "    An array, any object exposing the array interface, an object whose\n",
      "    ``__array__`` method returns an array, or any (nested) sequence.\n",
      "    If object is a scalar, a 0-dimensional array containing object is\n",
      "    returned.\n",
      "dtype : data-type, optional\n",
      "    The desired data-type for the array. If not given, NumPy will try to use\n",
      "    a default ``dtype`` that can represent the values (by applying promotion\n",
      "    rules when necessary.)\n",
      "copy : bool, optional\n",
      "    If true (default), then the object is copied.  Otherwise, a copy will\n",
      "    only be made if ``__array__`` returns a copy, if obj is a nested\n",
      "    sequence, or if a copy is needed to satisfy any of the other\n",
      "    requirements (``dtype``, ``order``, etc.).\n",
      "order : {'K', 'A', 'C', 'F'}, optional\n",
      "    Specify the memory layout of the array. If object is not an array, the\n",
      "    newly created array will be in C order (row major) unless 'F' is\n",
      "    specified, in which case it will be in Fortran order (column major).\n",
      "    If object is an array the following holds.\n",
      "\n",
      "    ===== ========= ===================================================\n",
      "    order  no copy                     copy=True\n",
      "    ===== ========= ===================================================\n",
      "    'K'   unchanged F & C order preserved, otherwise most similar order\n",
      "    'A'   unchanged F order if input is F and not C, otherwise C order\n",
      "    'C'   C order   C order\n",
      "    'F'   F order   F order\n",
      "    ===== ========= ===================================================\n",
      "\n",
      "    When ``copy=False`` and a copy is made for other reasons, the result is\n",
      "    the same as if ``copy=True``, with some exceptions for 'A', see the\n",
      "    Notes section. The default order is 'K'.\n",
      "subok : bool, optional\n",
      "    If True, then sub-classes will be passed-through, otherwise\n",
      "    the returned array will be forced to be a base-class array (default).\n",
      "ndmin : int, optional\n",
      "    Specifies the minimum number of dimensions that the resulting\n",
      "    array should have.  Ones will be prepended to the shape as\n",
      "    needed to meet this requirement.\n",
      "like : array_like, optional\n",
      "    Reference object to allow the creation of arrays which are not\n",
      "    NumPy arrays. If an array-like passed in as ``like`` supports\n",
      "    the ``__array_function__`` protocol, the result will be defined\n",
      "    by it. In this case, it ensures the creation of an array object\n",
      "    compatible with that passed in via this argument.\n",
      "\n",
      "    .. versionadded:: 1.20.0\n",
      "\n",
      "Returns\n",
      "-------\n",
      "out : ndarray\n",
      "    An array object satisfying the specified requirements.\n",
      "\n",
      "See Also\n",
      "--------\n",
      "empty_like : Return an empty array with shape and type of input.\n",
      "ones_like : Return an array of ones with shape and type of input.\n",
      "zeros_like : Return an array of zeros with shape and type of input.\n",
      "full_like : Return a new array with shape of input filled with value.\n",
      "empty : Return a new uninitialized array.\n",
      "ones : Return a new array setting values to one.\n",
      "zeros : Return a new array setting values to zero.\n",
      "full : Return a new array of given shape filled with value.\n",
      "\n",
      "\n",
      "Notes\n",
      "-----\n",
      "When order is 'A' and ``object`` is an array in neither 'C' nor 'F' order,\n",
      "and a copy is forced by a change in dtype, then the order of the result is\n",
      "not necessarily 'C' as expected. This is likely a bug.\n",
      "\n",
      "Examples\n",
      "--------\n",
      ">>> np.array([1, 2, 3])\n",
      "array([1, 2, 3])\n",
      "\n",
      "Upcasting:\n",
      "\n",
      ">>> np.array([1, 2, 3.0])\n",
      "array([ 1.,  2.,  3.])\n",
      "\n",
      "More than one dimension:\n",
      "\n",
      ">>> np.array([[1, 2], [3, 4]])\n",
      "array([[1, 2],\n",
      "       [3, 4]])\n",
      "\n",
      "Minimum dimensions 2:\n",
      "\n",
      ">>> np.array([1, 2, 3], ndmin=2)\n",
      "array([[1, 2, 3]])\n",
      "\n",
      "Type provided:\n",
      "\n",
      ">>> np.array([1, 2, 3], dtype=complex)\n",
      "array([ 1.+0.j,  2.+0.j,  3.+0.j])\n",
      "\n",
      "Data-type consisting of more than one element:\n",
      "\n",
      ">>> x = np.array([(1,2),(3,4)],dtype=[('a','<i4'),('b','<i4')])\n",
      ">>> x['a']\n",
      "array([1, 3])\n",
      "\n",
      "Creating an array from sub-classes:\n",
      "\n",
      ">>> np.array(np.mat('1 2; 3 4'))\n",
      "array([[1, 2],\n",
      "       [3, 4]])\n",
      "\n",
      ">>> np.array(np.mat('1 2; 3 4'), subok=True)\n",
      "matrix([[1, 2],\n",
      "        [3, 4]])\n"
     ]
    }
   ],
   "source": [
    "np.info(np.array)"
   ]
  },
  {
   "cell_type": "code",
   "execution_count": null,
   "id": "6e940d6a",
   "metadata": {},
   "outputs": [],
   "source": []
  },
  {
   "cell_type": "code",
   "execution_count": null,
   "id": "6f378294",
   "metadata": {},
   "outputs": [],
   "source": []
  }
 ],
 "metadata": {
  "kernelspec": {
   "display_name": "Python 3 (ipykernel)",
   "language": "python",
   "name": "python3"
  },
  "language_info": {
   "codemirror_mode": {
    "name": "ipython",
    "version": 3
   },
   "file_extension": ".py",
   "mimetype": "text/x-python",
   "name": "python",
   "nbconvert_exporter": "python",
   "pygments_lexer": "ipython3",
   "version": "3.11.5"
  }
 },
 "nbformat": 4,
 "nbformat_minor": 5
}
