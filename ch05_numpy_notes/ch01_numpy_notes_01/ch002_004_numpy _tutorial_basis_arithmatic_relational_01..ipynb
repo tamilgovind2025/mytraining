{
 "cells": [
  {
   "cell_type": "markdown",
   "id": "fa5144c9",
   "metadata": {},
   "source": [
    "# operations "
   ]
  },
  {
   "cell_type": "code",
   "execution_count": 1,
   "id": "5ee8dd72",
   "metadata": {},
   "outputs": [
    {
     "name": "stdout",
     "output_type": "stream",
     "text": [
      "Addition: [5 7 9]\n",
      "Subtraction: [-3 -3 -3]\n",
      "Multiplication: [ 4 10 18]\n",
      "Division: [0.25 0.4  0.5 ]\n"
     ]
    }
   ],
   "source": [
    "import numpy as np\n",
    "\n",
    "# Create two NumPy arrays\n",
    "a = np.array([1, 2, 3])\n",
    "b = np.array([4, 5, 6])\n",
    "\n",
    "# Addition\n",
    "result_add = a + b  # or np.add(a, b)\n",
    "\n",
    "# Subtraction\n",
    "result_sub = a - b  # or np.subtract(a, b)\n",
    "\n",
    "# Multiplication\n",
    "result_mul = a * b  # or np.multiply(a, b)\n",
    "\n",
    "# Division\n",
    "result_div = a / b  # or np.divide(a, b)\n",
    "\n",
    "print(\"Addition:\", result_add)\n",
    "print(\"Subtraction:\", result_sub)\n",
    "print(\"Multiplication:\", result_mul)\n",
    "print(\"Division:\", result_div)\n"
   ]
  },
  {
   "cell_type": "code",
   "execution_count": 2,
   "id": "1673046c",
   "metadata": {},
   "outputs": [
    {
     "name": "stdout",
     "output_type": "stream",
     "text": [
      "Exponentiation: [ 2.71828183  7.3890561  20.08553692]\n"
     ]
    }
   ],
   "source": [
    "\n",
    "# Exponentiation\n",
    "result_exp = np.exp(a)\n",
    "print(\"Exponentiation:\", result_exp)\n"
   ]
  },
  {
   "cell_type": "code",
   "execution_count": 3,
   "id": "d1abc29e",
   "metadata": {},
   "outputs": [
    {
     "name": "stdout",
     "output_type": "stream",
     "text": [
      "Square Root: [1.         1.41421356 1.73205081]\n"
     ]
    }
   ],
   "source": [
    "# Square root\n",
    "result_sqrt = np.sqrt(a)\n",
    "print(\"Square Root:\", result_sqrt)\n"
   ]
  },
  {
   "cell_type": "code",
   "execution_count": 4,
   "id": "1009c1cb",
   "metadata": {},
   "outputs": [
    {
     "name": "stdout",
     "output_type": "stream",
     "text": [
      "Sin: [0.0000000e+00 1.0000000e+00 1.2246468e-16]\n",
      "Cos: [ 1.000000e+00  6.123234e-17 -1.000000e+00]\n",
      "Tan: [ 0.00000000e+00  1.63312394e+16 -1.22464680e-16]\n"
     ]
    }
   ],
   "source": [
    "# Trigonometric functions\n",
    "angles = np.array([0, np.pi/2, np.pi])\n",
    "sin_values = np.sin(angles)\n",
    "cos_values = np.cos(angles)\n",
    "tan_values = np.tan(angles)\n",
    "\n",
    "print(\"Sin:\", sin_values)\n",
    "print(\"Cos:\", cos_values)\n",
    "print(\"Tan:\", tan_values)\n"
   ]
  },
  {
   "cell_type": "code",
   "execution_count": 7,
   "id": "ded9c0b0",
   "metadata": {},
   "outputs": [
    {
     "name": "stdout",
     "output_type": "stream",
     "text": [
      "Natural Logarithm: [0.         2.30258509 4.60517019 6.90775528]\n",
      "Base-10 Logarithm: [0. 1. 2. 3.]\n",
      "Base-2 Logarithm: [0.         3.32192809 6.64385619 9.96578428]\n"
     ]
    }
   ],
   "source": [
    "# Logarithmic functions\n",
    "\n",
    "a=np.array([1,10,100,1000])\n",
    "result_log = np.log(a)\n",
    "result_log10 = np.log10(a)\n",
    "result_log2 = np.log2(a)\n",
    "\n",
    "print(\"Natural Logarithm:\", result_log)\n",
    "print(\"Base-10 Logarithm:\", result_log10)\n",
    "print(\"Base-2 Logarithm:\", result_log2)\n"
   ]
  },
  {
   "cell_type": "markdown",
   "id": "7be119d9",
   "metadata": {},
   "source": [
    "# matrix multiplication"
   ]
  },
  {
   "cell_type": "code",
   "execution_count": 8,
   "id": "54c75bfb",
   "metadata": {},
   "outputs": [
    {
     "name": "stdout",
     "output_type": "stream",
     "text": [
      "Matrix multiplication using np.dot():\n",
      "[[19 22]\n",
      " [43 50]]\n",
      "\n",
      "Matrix multiplication using @ operator:\n",
      "[[19 22]\n",
      " [43 50]]\n"
     ]
    }
   ],
   "source": [
    "#matrix multiplication \n",
    "\n",
    "import numpy as np\n",
    "\n",
    "# Create two NumPy arrays representing matrices\n",
    "A = np.array([[1, 2], [3, 4]])  # 2x2 matrix\n",
    "B = np.array([[5, 6], [7, 8]])  # 2x2 matrix\n",
    "\n",
    "# Perform matrix multiplication using np.dot()\n",
    "result_dot = np.dot(A, B)\n",
    "\n",
    "# Perform matrix multiplication using @ operator (Python 3.5+)\n",
    "result_at_operator = A @ B\n",
    "\n",
    "# Print the results\n",
    "print(\"Matrix multiplication using np.dot():\")\n",
    "print(result_dot)\n",
    "\n",
    "print(\"\\nMatrix multiplication using @ operator:\")\n",
    "print(result_at_operator)\n"
   ]
  },
  {
   "cell_type": "markdown",
   "id": "e8e9e02e",
   "metadata": {},
   "source": [
    "# comparisions "
   ]
  },
  {
   "cell_type": "code",
   "execution_count": 9,
   "id": "23b83102",
   "metadata": {},
   "outputs": [
    {
     "name": "stdout",
     "output_type": "stream",
     "text": [
      "[ True False  True]\n",
      "[False  True False]\n"
     ]
    }
   ],
   "source": [
    "import numpy as np\n",
    "\n",
    "arr1 = np.array([1, 2, 3])\n",
    "arr2 = np.array([1, 4, 3])\n",
    "\n",
    "print(arr1 == arr2)  # [ True False  True]\n",
    "print(arr1 != arr2)  # [False  True False]\n"
   ]
  },
  {
   "cell_type": "code",
   "execution_count": 10,
   "id": "3573a08e",
   "metadata": {},
   "outputs": [
    {
     "name": "stdout",
     "output_type": "stream",
     "text": [
      "[False  True False]\n",
      "[ True  True  True]\n",
      "[False False False]\n",
      "[ True False  True]\n"
     ]
    }
   ],
   "source": [
    "print(arr1 < arr2)   # [False  True False]\n",
    "print(arr1 <= arr2)  # [ True  True  True]\n",
    "print(arr1 > arr2)   # [False False False]\n",
    "print(arr1 >= arr2)  # [ True False  True]\n"
   ]
  },
  {
   "cell_type": "markdown",
   "id": "f80f1896",
   "metadata": {},
   "source": [
    "# Array Equality (np.array_equal()):"
   ]
  },
  {
   "cell_type": "code",
   "execution_count": 11,
   "id": "268d10e2",
   "metadata": {},
   "outputs": [
    {
     "name": "stdout",
     "output_type": "stream",
     "text": [
      "True\n"
     ]
    }
   ],
   "source": [
    "#Array Equality (np.array_equal()):\n",
    "#To check if two arrays are exactly equal in shape and elements, use np.array_equal().\n",
    "arr3 = np.array([1, 2, 3])\n",
    "arr4 = np.array([1, 2, 3])\n",
    "\n",
    "print(np.array_equal(arr3, arr4))  # True\n"
   ]
  },
  {
   "cell_type": "code",
   "execution_count": 12,
   "id": "48b13049",
   "metadata": {},
   "outputs": [
    {
     "name": "stdout",
     "output_type": "stream",
     "text": [
      "False\n"
     ]
    }
   ],
   "source": [
    "arr3 = np.array([1, 2, 3])\n",
    "arr4 = np.array([1, 2, 3,5])\n",
    "\n",
    "print(np.array_equal(arr3, arr4))  # True"
   ]
  },
  {
   "cell_type": "markdown",
   "id": "5f7698a6",
   "metadata": {},
   "source": [
    "# Array-wise Comparison (np.allclose()):"
   ]
  },
  {
   "cell_type": "raw",
   "id": "a87fb0b8",
   "metadata": {},
   "source": [
    "\n",
    "For numerical arrays, you often need to check if two arrays are approximately equal within some tolerance. Use np.allclose() for this."
   ]
  },
  {
   "cell_type": "code",
   "execution_count": 13,
   "id": "bc438216",
   "metadata": {},
   "outputs": [
    {
     "name": "stdout",
     "output_type": "stream",
     "text": [
      "True\n"
     ]
    }
   ],
   "source": [
    "arr5 = np.array([1.000001, 2.000001, 3.000001])\n",
    "arr6 = np.array([1.0, 2.0, 3.0])\n",
    "\n",
    "print(np.allclose(arr5, arr6))  # True (default tolerance used)"
   ]
  },
  {
   "cell_type": "markdown",
   "id": "6df7e699",
   "metadata": {},
   "source": [
    "# Comparing Maximum and Minimum Values (np.maximum() and np.minimum()):\n"
   ]
  },
  {
   "cell_type": "code",
   "execution_count": 15,
   "id": "85056db8",
   "metadata": {},
   "outputs": [
    {
     "name": "stdout",
     "output_type": "stream",
     "text": [
      "[1 4 3]\n",
      "[1 2 3]\n"
     ]
    }
   ],
   "source": [
    "\n",
    "#These functions compare corresponding elements of two arrays and return the element-wise maximum or minimum.\n",
    "arr1 = np.array([1, 2, 3])\n",
    "arr2 = np.array([1, 4, 3])\n",
    "\n",
    "print(np.maximum(arr1, arr2)) \n",
    "print(np.minimum(arr1, arr2)) "
   ]
  },
  {
   "cell_type": "markdown",
   "id": "c3bd09b9",
   "metadata": {},
   "source": [
    "# Comparing Array with Scalar:"
   ]
  },
  {
   "cell_type": "code",
   "execution_count": 16,
   "id": "25fe09a5",
   "metadata": {},
   "outputs": [
    {
     "name": "stdout",
     "output_type": "stream",
     "text": [
      "[False False  True]\n",
      "[False  True False]\n"
     ]
    }
   ],
   "source": [
    "# NumPy allows comparison between an array and a scalar value. The result is an array with the same shape as the original array containing boolean values.\n",
    "\n",
    "print(arr1 > 2)   # [False False  True]\n",
    "print(arr1 == 2)  # [False  True False]"
   ]
  },
  {
   "cell_type": "code",
   "execution_count": null,
   "id": "1ac92d47",
   "metadata": {},
   "outputs": [],
   "source": []
  }
 ],
 "metadata": {
  "kernelspec": {
   "display_name": "Python 3 (ipykernel)",
   "language": "python",
   "name": "python3"
  },
  "language_info": {
   "codemirror_mode": {
    "name": "ipython",
    "version": 3
   },
   "file_extension": ".py",
   "mimetype": "text/x-python",
   "name": "python",
   "nbconvert_exporter": "python",
   "pygments_lexer": "ipython3",
   "version": "3.11.5"
  }
 },
 "nbformat": 4,
 "nbformat_minor": 5
}
