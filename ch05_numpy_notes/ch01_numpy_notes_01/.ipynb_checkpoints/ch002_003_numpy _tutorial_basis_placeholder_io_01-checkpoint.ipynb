{
 "cells": [
  {
   "cell_type": "markdown",
   "id": "c35d4508",
   "metadata": {},
   "source": [
    "# placeholders"
   ]
  },
  {
   "cell_type": "raw",
   "id": "e274a15c",
   "metadata": {},
   "source": [
    "array, zeros, zeros_like, ones, ones_like, empty, empty_like, arange, linspace, random.Generator.random, random.Generator.normal, fromfunction, fromfile"
   ]
  },
  {
   "cell_type": "code",
   "execution_count": 1,
   "id": "e19ea909",
   "metadata": {},
   "outputs": [
    {
     "name": "stdout",
     "output_type": "stream",
     "text": [
      "[1 2 3 4 5]\n"
     ]
    }
   ],
   "source": [
    "\n",
    "#array: Create an array from a Python list or tuple.\n",
    "\n",
    "import numpy as np\n",
    "\n",
    "arr = np.array([1, 2, 3, 4, 5])\n",
    "print(arr)\n"
   ]
  },
  {
   "cell_type": "code",
   "execution_count": 3,
   "id": "c59e5586",
   "metadata": {},
   "outputs": [
    {
     "name": "stdout",
     "output_type": "stream",
     "text": [
      "[[0. 0. 0.]\n",
      " [0. 0. 0.]\n",
      " [0. 0. 0.]]\n"
     ]
    }
   ],
   "source": [
    "#zeros: Create an array filled with zeros.\n",
    "\n",
    "zeros_arr = np.zeros((3, 3))  # Creates a 3x3 array filled with zeros\n",
    "print(zeros_arr)"
   ]
  },
  {
   "cell_type": "code",
   "execution_count": 5,
   "id": "f41914ca",
   "metadata": {},
   "outputs": [
    {
     "name": "stdout",
     "output_type": "stream",
     "text": [
      "[[0 0 0]\n",
      " [0 0 0]]\n"
     ]
    }
   ],
   "source": [
    "# zeros_like: Create an array of zeros with the same shape and type as a given array.\n",
    "\n",
    "arr = np.array([[1, 2, 3], [4, 5, 6]])\n",
    "\n",
    "zeros_like_arr = np.zeros_like(arr)\n",
    "\n",
    "print(zeros_like_arr)"
   ]
  },
  {
   "cell_type": "code",
   "execution_count": 6,
   "id": "89f96492",
   "metadata": {},
   "outputs": [
    {
     "name": "stdout",
     "output_type": "stream",
     "text": [
      "[[1. 1.]\n",
      " [1. 1.]]\n"
     ]
    }
   ],
   "source": [
    "#ones: Create an array filled with ones.\n",
    "\n",
    "ones_arr = np.ones((2, 2))  # Creates a 2x2 array filled with ones\n",
    "print(ones_arr)"
   ]
  },
  {
   "cell_type": "code",
   "execution_count": 7,
   "id": "b07ec88f",
   "metadata": {},
   "outputs": [
    {
     "name": "stdout",
     "output_type": "stream",
     "text": [
      "[[1 1]\n",
      " [1 1]]\n"
     ]
    }
   ],
   "source": [
    "#ones_like: Create an array of ones with the same shape and type as a given array.\n",
    "arr = np.array([[1, 2], [3, 4]])\n",
    "ones_like_arr = np.ones_like(arr)\n",
    "print(ones_like_arr)"
   ]
  },
  {
   "cell_type": "code",
   "execution_count": 11,
   "id": "6931b204",
   "metadata": {},
   "outputs": [
    {
     "name": "stdout",
     "output_type": "stream",
     "text": [
      "[[1. 1.]\n",
      " [1. 1.]]\n"
     ]
    }
   ],
   "source": [
    "#empty: Create an uninitialized array (values are not set).\n",
    "\n",
    "empty_arr = np.empty((2, 2))  # Creates a 2x2 uninitialized array\n",
    "print(empty_arr)"
   ]
  },
  {
   "cell_type": "code",
   "execution_count": 12,
   "id": "82517387",
   "metadata": {},
   "outputs": [
    {
     "name": "stdout",
     "output_type": "stream",
     "text": [
      "[[1667689040        611]\n",
      " [         0          0]]\n"
     ]
    }
   ],
   "source": [
    "#empty_like: Create an uninitialized array with the same shape and type as a given array.\n",
    "arr = np.array([[1, 2], [3, 4]])\n",
    "empty_like_arr = np.empty_like(arr)\n",
    "print(empty_like_arr)"
   ]
  },
  {
   "cell_type": "markdown",
   "id": "f2135e60",
   "metadata": {},
   "source": [
    "## arange function "
   ]
  },
  {
   "cell_type": "code",
   "execution_count": 15,
   "id": "3433a5c6",
   "metadata": {},
   "outputs": [
    {
     "name": "stdout",
     "output_type": "stream",
     "text": [
      "[0 1 2 3 4 5 6 7 8 9]\n"
     ]
    }
   ],
   "source": [
    "#arange: Create an array with evenly spaced values within a specified range.\n",
    "#arange(start,stop-1,step)\n",
    "\n",
    "arange_arr = np.arange(10) \n",
    "print(arange_arr)"
   ]
  },
  {
   "cell_type": "code",
   "execution_count": 16,
   "id": "b4cd0252",
   "metadata": {},
   "outputs": [
    {
     "name": "stdout",
     "output_type": "stream",
     "text": [
      "[2 3 4 5 6 7 8 9]\n"
     ]
    }
   ],
   "source": [
    "arange_arr = np.arange(2, 10) \n",
    "print(arange_arr)"
   ]
  },
  {
   "cell_type": "code",
   "execution_count": 17,
   "id": "e5ba6f9b",
   "metadata": {},
   "outputs": [
    {
     "name": "stdout",
     "output_type": "stream",
     "text": [
      "[2 4 6 8]\n"
     ]
    }
   ],
   "source": [
    "arange_arr = np.arange(2,10,2) \n",
    "print(arange_arr)"
   ]
  },
  {
   "cell_type": "code",
   "execution_count": 18,
   "id": "582e0e30",
   "metadata": {},
   "outputs": [
    {
     "name": "stdout",
     "output_type": "stream",
     "text": [
      "[10  9  8  7  6  5  4  3]\n"
     ]
    }
   ],
   "source": [
    "arange_arr = np.arange(10,2,-1) \n",
    "print(arange_arr)"
   ]
  },
  {
   "cell_type": "markdown",
   "id": "b7433969",
   "metadata": {},
   "source": [
    "## linspace function"
   ]
  },
  {
   "cell_type": "code",
   "execution_count": 19,
   "id": "636a1403",
   "metadata": {},
   "outputs": [
    {
     "name": "stdout",
     "output_type": "stream",
     "text": [
      "[0.   0.25 0.5  0.75 1.  ]\n"
     ]
    }
   ],
   "source": [
    "#linspace: Create an array with evenly spaced values over a specified range.\n",
    "\n",
    "linspace_arr = np.linspace(0, 1, 5)  \n",
    "print(linspace_arr)"
   ]
  },
  {
   "cell_type": "code",
   "execution_count": 22,
   "id": "5e2a4bb6",
   "metadata": {},
   "outputs": [
    {
     "name": "stdout",
     "output_type": "stream",
     "text": [
      "[ 5.          5.10204082  5.20408163  5.30612245  5.40816327  5.51020408\n",
      "  5.6122449   5.71428571  5.81632653  5.91836735  6.02040816  6.12244898\n",
      "  6.2244898   6.32653061  6.42857143  6.53061224  6.63265306  6.73469388\n",
      "  6.83673469  6.93877551  7.04081633  7.14285714  7.24489796  7.34693878\n",
      "  7.44897959  7.55102041  7.65306122  7.75510204  7.85714286  7.95918367\n",
      "  8.06122449  8.16326531  8.26530612  8.36734694  8.46938776  8.57142857\n",
      "  8.67346939  8.7755102   8.87755102  8.97959184  9.08163265  9.18367347\n",
      "  9.28571429  9.3877551   9.48979592  9.59183673  9.69387755  9.79591837\n",
      "  9.89795918 10.        ]\n",
      "50\n"
     ]
    }
   ],
   "source": [
    "linspace_arr = np.linspace(5,10)  #if step not mention default is 50 \n",
    "print(linspace_arr)\n",
    "print(len(linspace_arr))"
   ]
  },
  {
   "cell_type": "markdown",
   "id": "a975f978",
   "metadata": {},
   "source": [
    "## random number generation \n"
   ]
  },
  {
   "cell_type": "code",
   "execution_count": 23,
   "id": "722dc5fb",
   "metadata": {},
   "outputs": [
    {
     "name": "stdout",
     "output_type": "stream",
     "text": [
      "[[0.22162522 0.27289122 0.88069602 0.07950712 0.38247723]\n",
      " [0.58973408 0.54507975 0.97270056 0.73702506 0.40536372]\n",
      " [0.1883711  0.92563191 0.72920029 0.82139781 0.18952368]\n",
      " [0.96337479 0.40797436 0.51161487 0.91669249 0.55400151]\n",
      " [0.58291189 0.37046845 0.40384056 0.30868453 0.96534453]]\n"
     ]
    }
   ],
   "source": [
    "#random.Generator.random: Create an array of random values from a uniform distribution.\n",
    "import numpy as np \n",
    "rng = np.random.default_rng()\n",
    "random_arr = rng.random((5, 5))  # Creates a 2x2 array of random values between 0 and 1\n",
    "print(random_arr)"
   ]
  },
  {
   "cell_type": "code",
   "execution_count": 24,
   "id": "cc7f9750",
   "metadata": {},
   "outputs": [
    {
     "name": "stdout",
     "output_type": "stream",
     "text": [
      "[0.72248222 0.56639195 0.37629181 0.16783484 0.79956031 0.29529262\n",
      " 0.15847312 0.22914877 0.18829527 0.82493564]\n"
     ]
    }
   ],
   "source": [
    "#random.Generator.random: Create an array of random values from a uniform distribution.\n",
    "import numpy as np \n",
    "rng = np.random.default_rng()\n",
    "random_arr = rng.random(10)  # Creates a 2x2 array of random values between 0 and 1\n",
    "print(random_arr)"
   ]
  },
  {
   "cell_type": "code",
   "execution_count": 25,
   "id": "0bbfe93a",
   "metadata": {},
   "outputs": [
    {
     "name": "stdout",
     "output_type": "stream",
     "text": [
      "[[ 2.25128616  0.77369515]\n",
      " [-0.27371039  0.08662521]]\n"
     ]
    }
   ],
   "source": [
    "#random.Generator.normal: Create an array of random values from a normal (Gaussian) distribution.\n",
    "\n",
    "import numpy as np \n",
    "\n",
    "random_normal_arr = rng.normal(0, 1, (2, 2))  # Creates a 2x2 array of random values from a normal distribution\n",
    "print(random_normal_arr)"
   ]
  },
  {
   "cell_type": "code",
   "execution_count": 26,
   "id": "8636c54e",
   "metadata": {},
   "outputs": [
    {
     "name": "stdout",
     "output_type": "stream",
     "text": [
      "[[ 2.97724293  5.01580916]\n",
      " [-0.62982233  8.06626132]]\n"
     ]
    }
   ],
   "source": [
    "#random.Generator.normal: Create an array of random values from a normal (Gaussian) distribution.\n",
    "\n",
    "import numpy as np \n",
    "\n",
    "random_normal_arr = rng.normal(5, 10, (2, 2))  # Creates a 2x2 array of random values from a normal distribution\n",
    "print(random_normal_arr)"
   ]
  },
  {
   "cell_type": "code",
   "execution_count": 27,
   "id": "40fa01f2",
   "metadata": {},
   "outputs": [
    {
     "name": "stdout",
     "output_type": "stream",
     "text": [
      "[  9.1965057    6.62044764  14.96974405  19.92568505 -10.55055421]\n"
     ]
    }
   ],
   "source": [
    "#random.Generator.normal: Create an array of random values from a normal (Gaussian) distribution.\n",
    "\n",
    "import numpy as np \n",
    "\n",
    "random_normal_arr = rng.normal(5, 10, 5)  # Creates a 2x2 array of random values from a normal distribution\n",
    "print(random_normal_arr)"
   ]
  },
  {
   "cell_type": "code",
   "execution_count": 28,
   "id": "4fd7757b",
   "metadata": {},
   "outputs": [
    {
     "name": "stdout",
     "output_type": "stream",
     "text": [
      "16.325510232465298\n"
     ]
    }
   ],
   "source": [
    "#random.Generator.normal: Create an array of random values from a normal (Gaussian) distribution.\n",
    "\n",
    "import numpy as np \n",
    "\n",
    "random_normal_arr = rng.normal(5, 10)  # Creates a 2x2 array of random values from a normal distribution\n",
    "print(random_normal_arr)"
   ]
  },
  {
   "cell_type": "code",
   "execution_count": 29,
   "id": "c88d7e8c",
   "metadata": {},
   "outputs": [
    {
     "name": "stdout",
     "output_type": "stream",
     "text": [
      "3.4293696379076666\n"
     ]
    }
   ],
   "source": [
    "#random.Generator.normal: Create an array of random values from a normal (Gaussian) distribution.\n",
    "\n",
    "import numpy as np \n",
    "\n",
    "random_normal_arr = rng.normal(5)  # Creates a 2x2 array of random values from a normal distribution\n",
    "print(random_normal_arr)"
   ]
  },
  {
   "cell_type": "code",
   "execution_count": 32,
   "id": "cc0794b3",
   "metadata": {},
   "outputs": [
    {
     "data": {
      "text/plain": [
       "array([1, 3, 4, 4, 6, 9, 4, 2, 3, 8])"
      ]
     },
     "execution_count": 32,
     "metadata": {},
     "output_type": "execute_result"
    }
   ],
   "source": [
    "np.random.randint(1,10,10)"
   ]
  },
  {
   "cell_type": "code",
   "execution_count": 33,
   "id": "4196cf27",
   "metadata": {
    "collapsed": true
   },
   "outputs": [
    {
     "data": {
      "text/plain": [
       "array([[[0.45424086, 0.78382656, 0.90857554, 0.14082547, 0.24608019,\n",
       "         0.1045754 , 0.73583007, 0.9327859 , 0.78136422, 0.86722413],\n",
       "        [0.85463708, 0.77226121, 0.73799356, 0.77020499, 0.67792002,\n",
       "         0.84403463, 0.45440774, 0.77874524, 0.33717599, 0.9176172 ],\n",
       "        [0.2558183 , 0.4829354 , 0.42798568, 0.08317151, 0.68826847,\n",
       "         0.26217651, 0.95020405, 0.02058158, 0.62934299, 0.87115481],\n",
       "        [0.73563851, 0.12794486, 0.19056412, 0.03972562, 0.91538974,\n",
       "         0.50732932, 0.29601342, 0.95848959, 0.79618055, 0.46167148],\n",
       "        [0.42792822, 0.14777514, 0.48376156, 0.93375319, 0.30664413,\n",
       "         0.8990526 , 0.26438428, 0.14560622, 0.86953118, 0.10018672],\n",
       "        [0.9240535 , 0.638587  , 0.84367892, 0.99560585, 0.74151636,\n",
       "         0.44539508, 0.44736402, 0.90501562, 0.76380952, 0.60321938],\n",
       "        [0.149786  , 0.76249087, 0.24040746, 0.9777548 , 0.83220119,\n",
       "         0.87938826, 0.97597895, 0.0592753 , 0.44079012, 0.54828598],\n",
       "        [0.86914413, 0.29067731, 0.8313204 , 0.61683907, 0.35089846,\n",
       "         0.09425723, 0.69870368, 0.42300076, 0.37485522, 0.34349136],\n",
       "        [0.1018075 , 0.58612544, 0.32897486, 0.19451926, 0.64462271,\n",
       "         0.70763247, 0.40778133, 0.57879037, 0.24477637, 0.57913143],\n",
       "        [0.96664736, 0.934762  , 0.71387467, 0.0181465 , 0.84484656,\n",
       "         0.54773052, 0.18410591, 0.01776073, 0.23439175, 0.01069523]]])"
      ]
     },
     "execution_count": 33,
     "metadata": {},
     "output_type": "execute_result"
    }
   ],
   "source": [
    "np.random.rand(1,10,10) #(1X10X10)"
   ]
  },
  {
   "cell_type": "markdown",
   "id": "7e503e2f",
   "metadata": {},
   "source": [
    "##  from function "
   ]
  },
  {
   "cell_type": "raw",
   "id": "77606821",
   "metadata": {},
   "source": [
    "he numpy.fromfunction() function is used to construct an array by executing a function over each coordinate. This can be useful when you want to create an array where each element is computed based on its indices.\n",
    "\n",
    "Here's an example to demonstrate how fromfunction() works:\n",
    "In this example:\n",
    "\n",
    "We define a function my_func(x, y) that takes two arguments x and y, which represent the indices of the array.\n",
    "Inside the function, we define the computation for each element of the array based on its indices. In this case, we return 3 * x + y.\n",
    "We then call np.fromfunction() with our function my_func and the shape of the desired array (3, 3). This specifies that we want a 3x3 array.\n",
    "The fromfunction() function then iterates over each coordinate in the array (i.e., each combination of x and y indices) and applies the function my_func to compute the value for that element.\n",
    "Finally, the computed array is printed, showing the result."
   ]
  },
  {
   "cell_type": "code",
   "execution_count": 41,
   "id": "ad319677",
   "metadata": {},
   "outputs": [
    {
     "name": "stdout",
     "output_type": "stream",
     "text": [
      "[[0. 1. 2.]\n",
      " [3. 4. 5.]\n",
      " [6. 7. 8.]]\n"
     ]
    }
   ],
   "source": [
    "import numpy as np\n",
    "\n",
    "# Define a function that takes two arguments (indices) and returns a value based on those indices\n",
    "def my_func(x, y):\n",
    "    return 3 * x + y\n",
    "\n",
    "# Create a 3x3 array using fromfunction with the defined function\n",
    "result_arr = np.fromfunction(my_func, (3, 3))\n",
    "\n",
    "print(result_arr)\n"
   ]
  },
  {
   "cell_type": "code",
   "execution_count": 36,
   "id": "0a934c81",
   "metadata": {},
   "outputs": [
    {
     "name": "stdout",
     "output_type": "stream",
     "text": [
      "[[0. 1. 2.]\n",
      " [1. 2. 3.]\n",
      " [2. 3. 4.]]\n"
     ]
    }
   ],
   "source": [
    "#fromfunction: Construct an array by executing a function over each coordinate.\n",
    "\n",
    "def my_func(x, y):\n",
    "    return x + y\n",
    "\n",
    "from_func_arr = np.fromfunction(my_func, (3, 3))\n",
    "print(from_func_arr)"
   ]
  },
  {
   "cell_type": "code",
   "execution_count": 40,
   "id": "de46e59c",
   "metadata": {},
   "outputs": [
    {
     "name": "stdout",
     "output_type": "stream",
     "text": [
      "[[0. 1. 2. 3.]\n",
      " [1. 2. 3. 4.]\n",
      " [2. 3. 4. 5.]\n",
      " [3. 4. 5. 6.]]\n"
     ]
    }
   ],
   "source": [
    "#fromfunction: Construct an array by executing a function over each coordinate.\n",
    "import numpy as np\n",
    "\n",
    "def my_func(x, y):\n",
    "    return x + y\n",
    "\n",
    "a = [1, 2, 3, 4]\n",
    "b = [1, 2, 3, 4]\n",
    "\n",
    "a = np.array(a)\n",
    "b = np.array(b)\n",
    "\n",
    "# Create coordinate arrays using meshgrid\n",
    "x, y = np.meshgrid(a, b)\n",
    "\n",
    "# Use fromfunction with coordinate arrays\n",
    "from_func_arr = np.fromfunction(my_func, (len(a), len(b)))\n",
    "\n",
    "print(from_func_arr)\n"
   ]
  },
  {
   "cell_type": "code",
   "execution_count": 42,
   "id": "61f0ce51",
   "metadata": {},
   "outputs": [
    {
     "name": "stdout",
     "output_type": "stream",
     "text": [
      "[[1. 0. 0.]\n",
      " [0. 1. 0.]\n",
      " [0. 0. 1.]]\n"
     ]
    }
   ],
   "source": [
    "#eye: Create a 2-D array with ones on the diagonal and zeros elsewhere (identity-like).\n",
    "\n",
    "import numpy as np\n",
    "\n",
    "eye_arr = np.eye(3)  # Create a 3x3 identity matrix\n",
    "print(eye_arr)"
   ]
  },
  {
   "cell_type": "code",
   "execution_count": 43,
   "id": "6b07a714",
   "metadata": {},
   "outputs": [
    {
     "name": "stdout",
     "output_type": "stream",
     "text": [
      "[[1. 0. 0. 0.]\n",
      " [0. 1. 0. 0.]\n",
      " [0. 0. 1. 0.]\n",
      " [0. 0. 0. 1.]]\n"
     ]
    }
   ],
   "source": [
    "#identity: Create a square identity matrix of given size.\n",
    "\n",
    "identity_arr = np.identity(4)  # Create a 4x4 identity matrix\n",
    "print(identity_arr)"
   ]
  },
  {
   "cell_type": "code",
   "execution_count": 44,
   "id": "dc71e3b6",
   "metadata": {},
   "outputs": [
    {
     "name": "stdout",
     "output_type": "stream",
     "text": [
      "[  10.           31.6227766   100.          316.22776602 1000.        ]\n"
     ]
    }
   ],
   "source": [
    "#logspace: Return numbers spaced evenly on a logarithmic scale.\n",
    "\n",
    "logspace_arr = np.logspace(1, 3, num=5)  # Create an array of 5 numbers spaced evenly on a log scale between 10^1 and 10^3\n",
    "print(logspace_arr)"
   ]
  },
  {
   "cell_type": "code",
   "execution_count": 45,
   "id": "19e7a300",
   "metadata": {},
   "outputs": [
    {
     "name": "stdout",
     "output_type": "stream",
     "text": [
      "[[0 0 0]\n",
      " [1 1 1]\n",
      " [2 2 2]]\n",
      "[[0 1 2]\n",
      " [0 1 2]\n",
      " [0 1 2]]\n"
     ]
    }
   ],
   "source": [
    "#mgrid: Create a dense multi-dimensional \"meshgrid\".\n",
    "\n",
    "x, y = np.mgrid[0:3, 0:3]  # Create a meshgrid of points from (0,0) to (2,2) in 2D\n",
    "print(x)\n",
    "print(y)"
   ]
  },
  {
   "cell_type": "code",
   "execution_count": 46,
   "id": "9f763600",
   "metadata": {},
   "outputs": [
    {
     "name": "stdout",
     "output_type": "stream",
     "text": [
      "[[0]\n",
      " [1]\n",
      " [2]]\n",
      "[[0 1 2]]\n"
     ]
    }
   ],
   "source": [
    "#ogrid: Create an open multi-dimensional \"meshgrid\".\n",
    "\n",
    "x, y = np.ogrid[0:3, 0:3]  # Create an open meshgrid of points from (0,0) to (2,2) in 2D\n",
    "print(x)\n",
    "print(y)"
   ]
  },
  {
   "cell_type": "code",
   "execution_count": 47,
   "id": "5bd4647e",
   "metadata": {},
   "outputs": [
    {
     "name": "stdout",
     "output_type": "stream",
     "text": [
      "[1 2 3 4 5 6]\n"
     ]
    }
   ],
   "source": [
    "#r_: Translates slice objects to concatenation along the first axis.\n",
    "\n",
    "concatenated_arr = np.r_[np.array([1, 2, 3]), np.array([4, 5, 6])]  # Concatenate two arrays along the first axis\n",
    "print(concatenated_arr)"
   ]
  },
  {
   "cell_type": "markdown",
   "id": "cba8f4b8",
   "metadata": {},
   "source": [
    "# input and output "
   ]
  },
  {
   "cell_type": "code",
   "execution_count": 53,
   "id": "52f60e36",
   "metadata": {},
   "outputs": [
    {
     "name": "stdout",
     "output_type": "stream",
     "text": [
      "[[ 1  2  3  4  5]\n",
      " [ 6  7  8  9 10]\n",
      " [11 12 13 14 15]]\n"
     ]
    }
   ],
   "source": [
    "\n",
    "import numpy as np\n",
    "\n",
    "from_file_arr = np.loadtxt('data.txt', dtype=int)\n",
    "print(from_file_arr)\n"
   ]
  },
  {
   "cell_type": "code",
   "execution_count": 54,
   "id": "e66afe6a",
   "metadata": {},
   "outputs": [
    {
     "name": "stdout",
     "output_type": "stream",
     "text": [
      "Loaded array:\n",
      "[[0.07640039 0.51539889 0.03685021 0.21889739 0.6434532  0.40082429\n",
      "  0.48827955 0.33156387 0.78404492 0.24472112]\n",
      " [0.70690041 0.23953858 0.61210588 0.90952303 0.88197293 0.10694115\n",
      "  0.96779901 0.3189961  0.58449192 0.0114859 ]\n",
      " [0.67279532 0.77660412 0.56155858 0.66986892 0.24905727 0.12958735\n",
      "  0.1528416  0.03546236 0.95422942 0.60306131]\n",
      " [0.51530804 0.01530335 0.91627201 0.42084975 0.97376889 0.42931428\n",
      "  0.16722209 0.43669262 0.12799044 0.27616721]\n",
      " [0.83023749 0.8383276  0.6165107  0.30969007 0.98460079 0.56479701\n",
      "  0.81335236 0.12614477 0.28255125 0.34946222]\n",
      " [0.16728767 0.77880231 0.41734731 0.95213237 0.24715688 0.06403557\n",
      "  0.80947934 0.26803349 0.42882108 0.63496787]\n",
      " [0.09585329 0.26218204 0.67398896 0.0502287  0.91124149 0.84696732\n",
      "  0.81713072 0.71424892 0.45255466 0.2212797 ]\n",
      " [0.71887949 0.90903988 0.86978169 0.95472756 0.86892937 0.31203109\n",
      "  0.60033897 0.51702105 0.34264894 0.30686432]\n",
      " [0.78522739 0.35312923 0.76835883 0.43394556 0.22654824 0.93993332\n",
      "  0.07874119 0.25536838 0.18684256 0.58156536]\n",
      " [0.76434247 0.53457293 0.80807279 0.86639165 0.93838368 0.62548174\n",
      "  0.64167178 0.62057622 0.79147805 0.57367391]]\n"
     ]
    }
   ],
   "source": [
    "import numpy as np\n",
    "\n",
    "# Create a large NumPy array\n",
    "large_array = np.random.rand(10, 10)\n",
    "\n",
    "# Save the array to a file\n",
    "np.save('large_array.npy', large_array)\n",
    "\n",
    "# Load the array from the saved file\n",
    "loaded_array = np.load('large_array.npy')\n",
    "\n",
    "# Print the loaded array\n",
    "print(\"Loaded array:\")\n",
    "print(loaded_array)\n"
   ]
  },
  {
   "cell_type": "markdown",
   "id": "3566863b",
   "metadata": {},
   "source": [
    "# np.savez"
   ]
  },
  {
   "cell_type": "raw",
   "id": "f06728fc",
   "metadata": {},
   "source": [
    "the np.savez() function is used to save multiple arrays into a single compressed .npz archive file. Here's how you can use it to save arrays a and b into an .npz file named array.npz:\n",
    "We create two NumPy arrays a and b.\n",
    "We use np.savez() to save both arrays into a single compressed .npz file named array.npz. The arrays are saved with keys 'a' and 'b' respectively, which can be used to access them later when loading the file.\n",
    "You can save as many arrays as you want using np.savez(), simply by providing them as additional arguments with their corresponding keys. When you load the .npz file, you'll get a dictionary-like object containing the saved arrays, which you can then access using their keys."
   ]
  },
  {
   "cell_type": "code",
   "execution_count": 55,
   "id": "60eac911",
   "metadata": {},
   "outputs": [],
   "source": [
    "import numpy as np\n",
    "\n",
    "# Create two NumPy arrays\n",
    "a = np.array([[1, 2, 3], [4, 5, 6], [7, 8, 9]])\n",
    "b = np.array([[9, 8, 7], [6, 5, 4], [3, 2, 1]])\n",
    "\n",
    "# Save the arrays to a `.npz` file\n",
    "np.savez('array.npz', a=a, b=b)\n"
   ]
  },
  {
   "cell_type": "code",
   "execution_count": 56,
   "id": "ab821326",
   "metadata": {},
   "outputs": [
    {
     "name": "stdout",
     "output_type": "stream",
     "text": [
      "Loaded array a:\n",
      "[[1 2 3]\n",
      " [4 5 6]\n",
      " [7 8 9]]\n",
      "Loaded array b:\n",
      "[[9 8 7]\n",
      " [6 5 4]\n",
      " [3 2 1]]\n"
     ]
    }
   ],
   "source": [
    "import numpy as np\n",
    "\n",
    "# Load the arrays from the saved file\n",
    "loaded_data = np.load('array.npz')\n",
    "\n",
    "# Extract the arrays from the loaded data\n",
    "loaded_a = loaded_data['a']\n",
    "loaded_b = loaded_data['b']\n",
    "\n",
    "# Print the loaded arrays\n",
    "print(\"Loaded array a:\")\n",
    "print(loaded_a)\n",
    "print(\"Loaded array b:\")\n",
    "print(loaded_b)\n"
   ]
  },
  {
   "cell_type": "code",
   "execution_count": 57,
   "id": "9b1bb246",
   "metadata": {},
   "outputs": [],
   "source": [
    "#csv file \n",
    "\n",
    "import numpy as np\n",
    "\n",
    "# Create some data\n",
    "data = np.array([[1, 2, 3],\n",
    "                 [4, 5, 6],\n",
    "                 [7, 8, 9]])\n",
    "\n",
    "# Save the data to a CSV file\n",
    "np.savetxt('my_file.csv', data, delimiter=',')\n"
   ]
  },
  {
   "cell_type": "code",
   "execution_count": 58,
   "id": "e6bcb397",
   "metadata": {},
   "outputs": [
    {
     "name": "stdout",
     "output_type": "stream",
     "text": [
      "Loaded data:\n",
      "[[1. 2. 3.]\n",
      " [4. 5. 6.]\n",
      " [7. 8. 9.]]\n"
     ]
    }
   ],
   "source": [
    "import numpy as np\n",
    "\n",
    "# Load the data from the CSV file\n",
    "loaded_data = np.genfromtxt(\"my_file.csv\", delimiter=',')\n",
    "\n",
    "# Print the loaded data\n",
    "print(\"Loaded data:\")\n",
    "print(loaded_data)\n"
   ]
  },
  {
   "cell_type": "code",
   "execution_count": null,
   "id": "1c505b9e",
   "metadata": {},
   "outputs": [],
   "source": []
  }
 ],
 "metadata": {
  "kernelspec": {
   "display_name": "Python 3 (ipykernel)",
   "language": "python",
   "name": "python3"
  },
  "language_info": {
   "codemirror_mode": {
    "name": "ipython",
    "version": 3
   },
   "file_extension": ".py",
   "mimetype": "text/x-python",
   "name": "python",
   "nbconvert_exporter": "python",
   "pygments_lexer": "ipython3",
   "version": "3.11.5"
  }
 },
 "nbformat": 4,
 "nbformat_minor": 5
}
