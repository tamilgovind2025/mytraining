{
 "cells": [
  {
   "cell_type": "markdown",
   "id": "34dbdc9b",
   "metadata": {},
   "source": [
    "# numpy introduction "
   ]
  },
  {
   "cell_type": "markdown",
   "id": "0872590e",
   "metadata": {},
   "source": [
    "## ch01 introduction "
   ]
  },
  {
   "cell_type": "code",
   "execution_count": null,
   "id": "1ed3374b",
   "metadata": {},
   "outputs": [],
   "source": [
    "\n",
    "intro=\"\"\"\n",
    "1. numpy is a python library. NumPy was created in 2005 by Travis Oliphant \n",
    "2. numpy stands for numerical python \n",
    "3. numpy is open source (free)\n",
    "4. universal standard for working with numerical data in Python\n",
    "5. The NumPy API is used extensively in Pandas, SciPy, Matplotlib, scikit-learn, scikit-image and most other data science \n",
    "   and scientific Python packages.\n",
    "   keras and tensorflow \n",
    "   \n",
    "   Data Science: is a branch of computer science where we study how to store, \n",
    "   use and analyze data for deriving information from it.\n",
    "   \n",
    "\"\"\""
   ]
  },
  {
   "cell_type": "raw",
   "id": "5dab34f3",
   "metadata": {},
   "source": [
    "What is Data?\n",
    "Data is a collection of information about objects. that may be anything gathered by observations, measurements, research or analysis. They may consist of facts, numbers, names, figures or even description of things. Data is organized in the form of graphs, charts or tables. There exist data scientist who does data mining and with the help of that data analyse our world."
   ]
  },
  {
   "cell_type": "raw",
   "id": "9090e603",
   "metadata": {},
   "source": [
    "You must have watched the weather forecast reports on news channels. They list the minimum temperature, the maximum temperature, rainfall predictions and measurements. The tabular representation is indicated below.\n",
    "\n",
    "City\tMin. Temp. (in Degrees)\tMax. Temp. (in Degrees)\tRain\n",
    "Mumbai\t25\t40\t22%\n",
    "Delhi\t32\t45\t16%\n",
    "Bangalore\t23\t35\t28%"
   ]
  },
  {
   "cell_type": "raw",
   "id": "b5065b7f",
   "metadata": {},
   "source": [
    "Classification of Data\n",
    "Data is classified into\n",
    "\n",
    "Qualitative: It describes the quality of something or someone. It is descriptive information. For example, the skin colour, eye colour, hair texture, etc. gives us the qualitative information about a person.\n",
    "Quantitative: It provides numerical information. Example, the height and weight of a person."
   ]
  },
  {
   "cell_type": "code",
   "execution_count": null,
   "id": "fd1400fe",
   "metadata": {},
   "outputs": [],
   "source": [
    "\"\"\"\n",
    "The source code for NumPy is located at this github repository https://github.com/numpy/numpy\n",
    "github: enables many people to work on the same codebase\n",
    "\n",
    "If you already have Python, you can install NumPy with:\n",
    "\n",
    "conda install numpy # anaconda \n",
    "or\n",
    "\n",
    "pip install numpy  #python ide \n",
    "\n",
    "or \n",
    "!pip install numpy #anaconda navigator \n",
    "\n",
    "\"\"\""
   ]
  },
  {
   "cell_type": "code",
   "execution_count": 2,
   "id": "c0f0430f",
   "metadata": {},
   "outputs": [
    {
     "name": "stdout",
     "output_type": "stream",
     "text": [
      "the l1 data type is =  <class 'list'>\n",
      "the arr data type is =  <class 'numpy.ndarray'>\n"
     ]
    }
   ],
   "source": [
    "\"\"\"\n",
    "The array object in NumPy is called ndarray\n",
    "Arrays are very frequently used in data science, where speed and resources are very important.\n",
    "\n",
    "numpy code are written in c \n",
    "\n",
    "\"\"\"\n",
    "import numpy as np \n",
    "list1=[12,14,15,67,55]\n",
    "print(\"the l1 data type is = \",type(list1))\n",
    "arr=np.array(list1)\n",
    "print(\"the arr data type is = \",type(arr))"
   ]
  },
  {
   "cell_type": "code",
   "execution_count": 3,
   "id": "4e070159",
   "metadata": {},
   "outputs": [
    {
     "name": "stdout",
     "output_type": "stream",
     "text": [
      "517 ms ± 5.29 ms per loop (mean ± std. dev. of 7 runs, 1 loop each)\n",
      "8.01 ms ± 98.3 µs per loop (mean ± std. dev. of 7 runs, 100 loops each)\n",
      "614 ms ± 5.29 ms per loop (mean ± std. dev. of 7 runs, 1 loop each)\n"
     ]
    }
   ],
   "source": [
    "\"\"\"\n",
    "6. NumPy aims to provide an array object that is up to 50x more faster than traditional Python lists.(see demo below)\n",
    "\"\"\"\n",
    "\n",
    "import numpy as np \n",
    "\n",
    "numbers=np.random.rand(10000000) #generate random numbers \n",
    "\n",
    "%timeit sum(numbers)  #python sum function  % magic functions in anaconda \n",
    "\n",
    "%timeit np.sum(numbers) #numpy sum functions \n",
    "\n",
    "#defining a user defined function to add sum of random numbers and check calculation speed \n",
    "\n",
    "def mysum(num):\n",
    "    total=0\n",
    "    for i in num:\n",
    "        total+=i\n",
    "    return total\n",
    "#now calling the function mysum \n",
    "%timeit mysum(numbers)"
   ]
  },
  {
   "cell_type": "code",
   "execution_count": 4,
   "id": "be4433e6",
   "metadata": {},
   "outputs": [
    {
     "name": "stdout",
     "output_type": "stream",
     "text": [
      "True\n"
     ]
    }
   ],
   "source": [
    "\"\"\"\n",
    " NumPy, array data is stored in a continuous block of memory. This is a key feature that contributes to the efficiency \n",
    " and speed of NumPy operations.\n",
    "\n",
    "The ndarray object in NumPy represents a multidimensional, homogeneous array of fixed-size items. \n",
    "The elements in the array are stored in a contiguous block of memory, and the information about the shape, \n",
    "data type, and strides is stored in a separate data structure. \n",
    "The contiguous memory layout allows for efficient access and manipulation of array elements.\n",
    "\"\"\"\n",
    "\n",
    "\n",
    "import numpy as np\n",
    "\n",
    "# Creating a NumPy array\n",
    "arr = np.array([[21,22,25,67],\n",
    "                [34,35,65,66],\n",
    "                [22,24,67,45]])\n",
    "\n",
    "# Checking the memory layout\n",
    "#flags['C_CONTIGUOUS'] attribute checks whether the array is stored in C-style contiguous memory\n",
    "print(arr.flags['C_CONTIGUOUS']) "
   ]
  },
  {
   "cell_type": "raw",
   "id": "f1cdbd4d",
   "metadata": {},
   "source": [
    "NumPy. It demonstrates how n-dimensional (n>=2) arrays are represented and can be manipulated. In particular, if you don’t know how to apply common functions to n-dimensional arrays (without using for-loops)"
   ]
  },
  {
   "cell_type": "code",
   "execution_count": 5,
   "id": "ba209bfc",
   "metadata": {},
   "outputs": [
    {
     "name": "stdout",
     "output_type": "stream",
     "text": [
      "1.26.1\n",
      "Build Dependencies:\n",
      "  blas:\n",
      "    detection method: pkgconfig\n",
      "    found: true\n",
      "    include directory: /c/opt/64/include\n",
      "    lib directory: /c/opt/64/lib\n",
      "    name: openblas64\n",
      "    openblas configuration: USE_64BITINT=1 DYNAMIC_ARCH=1 DYNAMIC_OLDER= NO_CBLAS=\n",
      "      NO_LAPACK= NO_LAPACKE= NO_AFFINITY=1 USE_OPENMP= SKYLAKEX MAX_THREADS=2\n",
      "    pc file directory: C:/opt/64/lib/pkgconfig\n",
      "    version: 0.3.23.dev\n",
      "  lapack:\n",
      "    detection method: internal\n",
      "    found: true\n",
      "    include directory: unknown\n",
      "    lib directory: unknown\n",
      "    name: dep2300277146320\n",
      "    openblas configuration: unknown\n",
      "    pc file directory: unknown\n",
      "    version: 1.26.1\n",
      "Compilers:\n",
      "  c:\n",
      "    commands: cl\n",
      "    linker: link\n",
      "    name: msvc\n",
      "    version: 19.29.30152\n",
      "  c++:\n",
      "    commands: cl\n",
      "    linker: link\n",
      "    name: msvc\n",
      "    version: 19.29.30152\n",
      "  cython:\n",
      "    commands: cython\n",
      "    linker: cython\n",
      "    name: cython\n",
      "    version: 3.0.3\n",
      "Machine Information:\n",
      "  build:\n",
      "    cpu: x86_64\n",
      "    endian: little\n",
      "    family: x86_64\n",
      "    system: windows\n",
      "  host:\n",
      "    cpu: x86_64\n",
      "    endian: little\n",
      "    family: x86_64\n",
      "    system: windows\n",
      "Python Information:\n",
      "  path: C:\\Users\\runneradmin\\AppData\\Local\\Temp\\cibw-run-yh7ulkgn\\cp311-win_amd64\\build\\venv\\Scripts\\python.exe\n",
      "  version: '3.11'\n",
      "SIMD Extensions:\n",
      "  baseline:\n",
      "  - SSE\n",
      "  - SSE2\n",
      "  - SSE3\n",
      "  found:\n",
      "  - SSSE3\n",
      "  - SSE41\n",
      "  - POPCNT\n",
      "  - SSE42\n",
      "  - AVX\n",
      "  - F16C\n",
      "  - FMA3\n",
      "  - AVX2\n",
      "  - AVX512F\n",
      "  - AVX512CD\n",
      "  - AVX512_SKX\n",
      "  - AVX512_CLX\n",
      "  - AVX512_CNL\n",
      "  - AVX512_ICL\n",
      "\n",
      "None\n"
     ]
    }
   ],
   "source": [
    "import numpy as np \n",
    "print(np.__version__)\n",
    "print(np.show_config())"
   ]
  },
  {
   "cell_type": "code",
   "execution_count": 6,
   "id": "67c7ec1d",
   "metadata": {},
   "outputs": [
    {
     "name": "stdout",
     "output_type": "stream",
     "text": [
      "[1 2 3 4 5 6 7 8 9]\n",
      "<class 'numpy.ndarray'>\n",
      "1541023262032\n"
     ]
    }
   ],
   "source": [
    "import numpy as np\n",
    "arr=np.array([1,2,3,4,5,6,7,8,9]) # 1d array\n",
    "print(arr)  #print the values\n",
    "print(type(arr)) #print the type \n",
    "print(id(arr)) #print the address "
   ]
  },
  {
   "cell_type": "code",
   "execution_count": null,
   "id": "13791bd9",
   "metadata": {},
   "outputs": [],
   "source": []
  }
 ],
 "metadata": {
  "kernelspec": {
   "display_name": "Python 3 (ipykernel)",
   "language": "python",
   "name": "python3"
  },
  "language_info": {
   "codemirror_mode": {
    "name": "ipython",
    "version": 3
   },
   "file_extension": ".py",
   "mimetype": "text/x-python",
   "name": "python",
   "nbconvert_exporter": "python",
   "pygments_lexer": "ipython3",
   "version": "3.11.5"
  }
 },
 "nbformat": 4,
 "nbformat_minor": 5
}
