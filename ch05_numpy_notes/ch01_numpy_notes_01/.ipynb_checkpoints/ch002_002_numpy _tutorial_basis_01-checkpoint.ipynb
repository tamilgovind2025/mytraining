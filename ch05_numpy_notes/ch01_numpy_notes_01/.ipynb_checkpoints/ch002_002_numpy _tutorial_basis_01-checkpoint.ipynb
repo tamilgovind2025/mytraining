{
 "cells": [
  {
   "cell_type": "markdown",
   "id": "e25b631a",
   "metadata": {},
   "source": [
    "# numpy basis"
   ]
  },
  {
   "cell_type": "code",
   "execution_count": null,
   "id": "d10d974f",
   "metadata": {},
   "outputs": [],
   "source": [
    "Learning Objectives\n",
    "\n",
    "After reading, you should be able to:\n",
    "\n",
    "Understand the difference between one-, two- and n-dimensional arrays in NumPy\n",
    "datatypes \n",
    "inspecting array \n",
    "Initial Placeholders"
   ]
  },
  {
   "cell_type": "raw",
   "id": "3dfca7a1",
   "metadata": {},
   "source": [
    "1. scalar - a single quantity (0 dimension )\n",
    "2. vector - a row or column (1 dimension)\n",
    "3. matrix - rows and columns (2d dimesion)\n"
   ]
  },
  {
   "cell_type": "markdown",
   "id": "a33f5461",
   "metadata": {},
   "source": [
    "# inspecting array "
   ]
  },
  {
   "cell_type": "raw",
   "id": "5e5fd3ad",
   "metadata": {},
   "source": [
    "#inspecting array \n",
    ">>> a.shape               Array dimensions\n",
    ">>> len(a)                Length of array      \n",
    ">>> b.ndim                Number of array dimensions  \n",
    ">>> e.size                Number of array elements \n",
    ">>> b.dtype               Data type of array elements\n",
    ">>> b.dtype.name          Name of data type  \n",
    ">>> b.astype(int)         Convert an array to a different type "
   ]
  },
  {
   "cell_type": "markdown",
   "id": "cc7eb973",
   "metadata": {},
   "source": [
    "# 1 scalar "
   ]
  },
  {
   "cell_type": "code",
   "execution_count": 54,
   "id": "e5670dc7",
   "metadata": {},
   "outputs": [
    {
     "name": "stdout",
     "output_type": "stream",
     "text": [
      "the value of a =  20\n",
      "--------------------------\n",
      "the value of numpy  a =  20\n",
      "the shape of the array =  ()\n",
      "the dimension of the array =  0\n",
      "the size of the array =  1\n",
      "the data type of the array  =  int32\n",
      "the item size is =  4\n",
      "the data of the array =  <memory at 0x0000024FADEAD080>\n",
      "the name of data type of the array  =  int32\n",
      "the as type of array =  20.0\n"
     ]
    }
   ],
   "source": [
    "#scalar it has signle quantity has no dimensions (dimension =0)\n",
    "\n",
    "import numpy as np \n",
    "\n",
    "a=20\n",
    "print(\"the value of a = \",a)\n",
    "arr=np.array(a)\n",
    "print(\"--------------------------\")\n",
    "print(\"the value of numpy  a = \",arr)\n",
    "print(\"the shape of the array = \",arr.shape)\n",
    "#print(\"the length of the array = \",len(arr)) cannnot apply for single values \n",
    "print(\"the dimension of the array = \",arr.ndim)\n",
    "print(\"the size of the array = \",arr.size)\n",
    "print(\"the data type of the array  = \",arr.dtype)\n",
    "\n",
    "print(\"the item size is = \",arr.itemsize)\n",
    "print(\"the data of the array = \", arr.data)\n",
    "t=arr.data\n",
    "t\n",
    "print(\"the name of data type of the array  = \",arr.dtype.name)\n",
    "print(\"the as type of array = \",arr.astype(float))\n"
   ]
  },
  {
   "cell_type": "code",
   "execution_count": 18,
   "id": "f6e6ea43",
   "metadata": {},
   "outputs": [
    {
     "name": "stdout",
     "output_type": "stream",
     "text": [
      "the value of a =  [20]\n",
      "--------------------------\n",
      "the value of numpy  a =  [20]\n",
      "the shape of the array =  (1,)\n",
      "the length of the array =  1\n",
      "the dimension of the array =  1\n",
      "the size of the array =  1\n",
      "the data type of the array  =  int32\n",
      "the name of data type of the array  =  int32\n",
      "the as type of array =  [20.]\n"
     ]
    }
   ],
   "source": [
    "#scalar it has signle quantity has no dimensions (dimension =0)\n",
    "\n",
    "import numpy as np \n",
    "\n",
    "a=[20]\n",
    "print(\"the value of a = \",a)\n",
    "arr=np.array(a)\n",
    "print(\"--------------------------\")\n",
    "print(\"the value of numpy  a = \",arr)\n",
    "print(\"the shape of the array = \",arr.shape)\n",
    "print(\"the length of the array = \",len(arr)) \n",
    "print(\"the dimension of the array = \",arr.ndim)\n",
    "print(\"the size of the array = \",arr.size)\n",
    "print(\"the data type of the array  = \",arr.dtype)\n",
    "\n",
    "print(\"the name of data type of the array  = \",arr.dtype.name)\n",
    "print(\"the as type of array = \",arr.astype(float))\n"
   ]
  },
  {
   "cell_type": "markdown",
   "id": "e64fb085",
   "metadata": {},
   "source": [
    "# data types in numpy "
   ]
  },
  {
   "cell_type": "raw",
   "id": "b14280a2",
   "metadata": {},
   "source": [
    ">>> np.int64          Signed 64-bit integer types (int8,int16,int32,int64,uint8,uint16,uint32,uint64) deffault: int_ or int32\n",
    "\n",
    ">>> np.float32         Standard double-precision floating point (float_,float16,float32,float64)\n",
    "\n",
    ">>> np.complex        Complex numbers represented by 128 floats (complex_,complex64,complex128)\n",
    "\n",
    ">>> np.bool           Boolean type storing TRUE and FALSE values(bool_)\n",
    "\n",
    ">>> np.object         Python object type (strings)\n",
    "\n",
    ">>> np.string_        Fixed-length string type\n",
    "\n",
    ">>> np.unicode_       Fixed-length unicode type(encoded)\n",
    "\n",
    ">>> np.byte           single character \n",
    ">>> np.ubyte\n",
    "\n",
    "strings - used to represent text data, the text is given under quote marks. e.g. \"ABCD\"\n",
    "integer - used to represent integer numbers. e.g. -1, -2, -3\n",
    "float - used to represent real numbers. e.g. 1.2, 42.42\n",
    "boolean - used to represent True or False.\n",
    "complex - used to represent complex numbers. e.g. 1.0 + 2.0j, 1.5 + 2.5j\n",
    "\n",
    "NumPy has some extra data types, and refer to data types with one character, like i for integers, u for unsigned integers etc.\n",
    "\n",
    "Below is a list of all data types in NumPy and the characters used to represent them.\n",
    "\n",
    "i - integer\n",
    "b - boolean\n",
    "u - unsigned integer\n",
    "f - float\n",
    "c - complex float\n",
    "m - timedelta\n",
    "M - datetime\n",
    "O - object\n",
    "S - string\n",
    "U - unicode string\n",
    "V - fixed chunk of memory for other type ( void )\n",
    "\n",
    "datetime64 - dateandtime \n",
    "\n",
    "\n",
    "Checking the Data Type of an Array\n",
    "The NumPy array object has a property called dtype that returns the data type of the array\n"
   ]
  },
  {
   "cell_type": "code",
   "execution_count": 19,
   "id": "2ead160a",
   "metadata": {},
   "outputs": [
    {
     "name": "stdout",
     "output_type": "stream",
     "text": [
      "int32\n"
     ]
    }
   ],
   "source": [
    "import numpy as np\n",
    "\n",
    "arr = np.array([1, 2, 3, 4])\n",
    "\n",
    "print(arr.dtype)"
   ]
  },
  {
   "cell_type": "code",
   "execution_count": 20,
   "id": "ba373a78",
   "metadata": {},
   "outputs": [
    {
     "name": "stdout",
     "output_type": "stream",
     "text": [
      "<U6\n"
     ]
    }
   ],
   "source": [
    "import numpy as np\n",
    "\n",
    "arr = np.array(['apple', 'banana', 'cherry'])\n",
    "\n",
    "print(arr.dtype)"
   ]
  },
  {
   "cell_type": "code",
   "execution_count": 24,
   "id": "fc227b3f",
   "metadata": {},
   "outputs": [
    {
     "name": "stdout",
     "output_type": "stream",
     "text": [
      "[1 2 3 4]\n"
     ]
    }
   ],
   "source": [
    "#int \n",
    "\n",
    "import numpy as np\n",
    "\n",
    "# Creating an integer array\n",
    "arr_int = np.array([1, 2, 3, 4], dtype=np.int_)\n",
    "print(arr_int)"
   ]
  },
  {
   "cell_type": "code",
   "execution_count": 25,
   "id": "3ad8b219",
   "metadata": {},
   "outputs": [
    {
     "name": "stdout",
     "output_type": "stream",
     "text": [
      "[1.  2.5 3.7]\n"
     ]
    }
   ],
   "source": [
    "# float \n",
    "\n",
    "import numpy as np\n",
    "\n",
    "# Creating a float array\n",
    "arr_float = np.array([1.0, 2.5, 3.7], dtype=np.float_)\n",
    "print(arr_float)\n"
   ]
  },
  {
   "cell_type": "code",
   "execution_count": 26,
   "id": "556ed60f",
   "metadata": {},
   "outputs": [
    {
     "data": {
      "text/plain": [
       "array([1.+2.j, 3.+4.j])"
      ]
     },
     "execution_count": 26,
     "metadata": {},
     "output_type": "execute_result"
    }
   ],
   "source": [
    "#complex \n",
    "\n",
    "import numpy as np\n",
    "\n",
    "# Creating a complex array\n",
    "arr_complex = np.array([1 + 2j, 3 + 4j], dtype=np.complex_)\n",
    "arr_complex\n"
   ]
  },
  {
   "cell_type": "code",
   "execution_count": 27,
   "id": "8065f9f0",
   "metadata": {},
   "outputs": [
    {
     "data": {
      "text/plain": [
       "array([ True, False,  True])"
      ]
     },
     "execution_count": 27,
     "metadata": {},
     "output_type": "execute_result"
    }
   ],
   "source": [
    "import numpy as np\n",
    "\n",
    "# Creating a boolean array\n",
    "arr_bool = np.array([True, False, True], dtype=np.bool_)\n",
    "arr_bool\n"
   ]
  },
  {
   "cell_type": "code",
   "execution_count": 28,
   "id": "2379632c",
   "metadata": {},
   "outputs": [
    {
     "data": {
      "text/plain": [
       "array(['a', 'b', 'c'], dtype='<U1')"
      ]
     },
     "execution_count": 28,
     "metadata": {},
     "output_type": "execute_result"
    }
   ],
   "source": [
    "import numpy as np\n",
    "\n",
    "# Creating a string array\n",
    "arr_str = np.array(['a', 'b', 'c'], dtype=np.str_)\n",
    "arr_str\n"
   ]
  },
  {
   "cell_type": "code",
   "execution_count": 29,
   "id": "b329f4d7",
   "metadata": {},
   "outputs": [
    {
     "data": {
      "text/plain": [
       "array(['2024-01-01', '2024-02-15'], dtype='datetime64[D]')"
      ]
     },
     "execution_count": 29,
     "metadata": {},
     "output_type": "execute_result"
    }
   ],
   "source": [
    "import numpy as np\n",
    "\n",
    "# Creating a datetime array\n",
    "\n",
    "arr_datetime = np.array(['2024-01-01', '2024-02-15'], dtype='datetime64')\n",
    "arr_datetime"
   ]
  },
  {
   "cell_type": "code",
   "execution_count": 34,
   "id": "fb280994",
   "metadata": {},
   "outputs": [
    {
     "name": "stdout",
     "output_type": "stream",
     "text": [
      "[1 2]\n",
      "[1 2]\n",
      "[1 2]\n",
      "[1 2]\n"
     ]
    },
    {
     "data": {
      "text/plain": [
       "array([1, 2], dtype='timedelta64[s]')"
      ]
     },
     "execution_count": 34,
     "metadata": {},
     "output_type": "execute_result"
    }
   ],
   "source": [
    "import numpy as np\n",
    "\n",
    "# Creating a timedelta array\n",
    "arr_timedelta = np.array([1, 2], dtype='timedelta64[D]')\n",
    "print(arr_timedelta)\n",
    "arr_timedelta = np.array([1, 2], dtype='timedelta64[h]') # hour\n",
    "print(arr_timedelta)\n",
    "arr_timedelta = np.array([1, 2], dtype='timedelta64[m]') # min\n",
    "print(arr_timedelta)\n",
    "arr_timedelta = np.array([1, 2], dtype='timedelta64[s]') #sec\n",
    "print(arr_timedelta)\n",
    "arr_timedelta\n"
   ]
  },
  {
   "cell_type": "code",
   "execution_count": 36,
   "id": "eed1cae0",
   "metadata": {},
   "outputs": [
    {
     "name": "stdout",
     "output_type": "stream",
     "text": [
      "[1 2 3 4]\n",
      "int32\n"
     ]
    }
   ],
   "source": [
    "arr=np.array([1,2,3,4], dtype=\"i4\")\n",
    "print(arr)\n",
    "print(arr.dtype)"
   ]
  },
  {
   "cell_type": "markdown",
   "id": "819cd322",
   "metadata": {},
   "source": [
    "# 2 vectors"
   ]
  },
  {
   "cell_type": "code",
   "execution_count": 46,
   "id": "c9601fbb",
   "metadata": {},
   "outputs": [
    {
     "name": "stdout",
     "output_type": "stream",
     "text": [
      "the value of a = [12, 15, 34, 67, 32, 85]\n",
      "the type of a =  <class 'list'>\n",
      "the numpy array =  [12 15 34 67 32 85]\n",
      "the type of array = <class 'numpy.ndarray'>\n",
      "the dimension of the array =  1\n",
      "the shape of the array = (6,)\n",
      "the size of the array =  6\n"
     ]
    }
   ],
   "source": [
    "#vector it has signle direction has one dimension (dimension =1) either row or columns vectors\n",
    "#in numpy it is neither a row vector nor a column vector by default. It is just a one-dimensional array.\n",
    "#its dimension is 1\n",
    "\n",
    "# from list we are making to numpy array \n",
    "import numpy as np \n",
    "\n",
    "a=[12,15,34,67,32,85]\n",
    "arr=np.array(a)\n",
    "#printing a value \n",
    "print(\"the value of a =\",a)\n",
    "print(\"the type of a = \",type(a))\n",
    "#printing arr value \n",
    "print(\"the numpy array = \",arr)\n",
    "print(\"the type of array =\",type(arr))\n",
    "print(\"the dimension of the array = \",arr.ndim) #print the dimension of numpy array  #default is row \n",
    "print(\"the shape of the array =\",arr.shape) #print the shape of array (row,columns) in tuple format\n",
    "print(\"the size of the array = \",arr.size) # print total number of elements present in array "
   ]
  },
  {
   "cell_type": "code",
   "execution_count": 41,
   "id": "ba540f48",
   "metadata": {},
   "outputs": [
    {
     "name": "stdout",
     "output_type": "stream",
     "text": [
      "the tuple values =  (12, 15, 34, 67, 32, 85)\n",
      "the numpy arrray =  [12 15 34 67 32 85]\n"
     ]
    }
   ],
   "source": [
    "# from tuple we are making to numpy array \n",
    "import numpy as np \n",
    "\n",
    "a=(12,15,34,67,32,85)\n",
    "print(\"the tuple values = \",a)\n",
    "arr=np.array(a)\n",
    "#printing a value \n",
    "print(\"the numpy arrray = \",arr)"
   ]
  },
  {
   "cell_type": "code",
   "execution_count": 42,
   "id": "c640d566",
   "metadata": {},
   "outputs": [
    {
     "name": "stdout",
     "output_type": "stream",
     "text": [
      "the set values =  {32, 34, 67, 85, 12, 15}\n",
      "the numpy arrray =  {32, 34, 67, 85, 12, 15}\n"
     ]
    }
   ],
   "source": [
    "# from set we are making to numpy array \n",
    "import numpy as np \n",
    "\n",
    "a={12,15,34,67,32,85}\n",
    "\n",
    "print(\"the set values = \",a)\n",
    "arr=np.array(a)\n",
    "#printing a value \n",
    "print(\"the numpy arrray = \",arr)"
   ]
  },
  {
   "cell_type": "code",
   "execution_count": 43,
   "id": "2445e762",
   "metadata": {},
   "outputs": [
    {
     "name": "stdout",
     "output_type": "stream",
     "text": [
      "{'a': 1, 'b': 2, 'c': 3}\n",
      "['a' 'b' 'c']\n"
     ]
    }
   ],
   "source": [
    "# from dict we are making to numpy array \n",
    "import numpy as np \n",
    "\n",
    "dict_keys = {'a': 1, 'b': 2, 'c': 3}\n",
    "print(dict_keys)\n",
    "array_from_keys = np.array(list(dict_keys.keys()))\n",
    "print(array_from_keys)"
   ]
  },
  {
   "cell_type": "code",
   "execution_count": 44,
   "id": "fa066246",
   "metadata": {},
   "outputs": [
    {
     "name": "stdout",
     "output_type": "stream",
     "text": [
      "{'a': 1, 'b': 2, 'c': 3}\n",
      "[1 2 3]\n"
     ]
    }
   ],
   "source": [
    "# from dict we are making to numpy array \n",
    "import numpy as np \n",
    "\n",
    "dict_keys = {'a': 1, 'b': 2, 'c': 3}\n",
    "print(dict_keys)\n",
    "array_from_keys = np.array(list(dict_keys.values()))\n",
    "print(array_from_keys)"
   ]
  },
  {
   "cell_type": "markdown",
   "id": "31e036d1",
   "metadata": {},
   "source": [
    "# changing row or colum vectors \n"
   ]
  },
  {
   "cell_type": "code",
   "execution_count": 56,
   "id": "ae6e0665",
   "metadata": {},
   "outputs": [
    {
     "name": "stdout",
     "output_type": "stream",
     "text": [
      "Original array:\n",
      "20\n",
      "\n",
      "Row vector:\n",
      "[[12 15 34 67 32 85]]\n",
      "<class 'numpy.ndarray'>\n",
      "2\n",
      "(1, 6)\n",
      "6\n"
     ]
    }
   ],
   "source": [
    "#However, if you want to explicitly convert it to a row or column vector, you can use the reshape method. For example:\n",
    "#now its dimension will be 2 \n",
    "import numpy as np\n",
    "\n",
    "a = [12, 15, 34, 67, 32, 85]\n",
    "print(\"Original array:\")\n",
    "print(arr)\n",
    "\n",
    "#convert to np array\n",
    "arr = np.array(a)\n",
    "\n",
    "# Convert to a row vector\n",
    "row_vector = arr.reshape(1, -1)\n",
    "print(\"\\nRow vector:\")\n",
    "print(row_vector)\n",
    "print(type(row_vector))\n",
    "print(row_vector.ndim) #print the dimension of numpy array \n",
    "print(row_vector.shape) #print the shape of array (row,columns) in tuple format\n",
    "print(row_vector.size) # print total number of elements present in array \n"
   ]
  },
  {
   "cell_type": "code",
   "execution_count": 58,
   "id": "eab0d427",
   "metadata": {},
   "outputs": [
    {
     "name": "stdout",
     "output_type": "stream",
     "text": [
      "Original array:\n",
      "[12 15 34 67 32 85]\n",
      "column vector:\n",
      "[[12]\n",
      " [15]\n",
      " [34]\n",
      " [67]\n",
      " [32]\n",
      " [85]]\n",
      "<class 'numpy.ndarray'>\n",
      "2\n",
      "(6, 1)\n",
      "6\n"
     ]
    }
   ],
   "source": [
    "#However, if you want to explicitly convert it to a row or column vector, you can use the reshape method. For example:\n",
    "#now its dimension will be 2 \n",
    "import numpy as np\n",
    "\n",
    "a = [12, 15, 34, 67, 32, 85]\n",
    "print(\"Original array:\")\n",
    "print(arr)\n",
    "\n",
    "#convert to np array\n",
    "arr = np.array(a)\n",
    "\n",
    "# Convert to a row vector\n",
    "row_vector = arr.reshape(-1, 1)\n",
    "print(\"column vector:\")\n",
    "print(row_vector)\n",
    "print(type(row_vector))\n",
    "print(row_vector.ndim) #print the dimension of numpy array \n",
    "print(row_vector.shape) #print the shape of array (row,columns) in tuple format\n",
    "print(row_vector.size) # print total number of elements present in array \n"
   ]
  },
  {
   "cell_type": "markdown",
   "id": "93b4504a",
   "metadata": {},
   "source": [
    "# indexing and slice arrays "
   ]
  },
  {
   "cell_type": "code",
   "execution_count": 66,
   "id": "ed7b93e4",
   "metadata": {},
   "outputs": [
    {
     "data": {
      "text/plain": [
       "array([ 0,  1,  2,  3,  4,  5,  6,  7,  8,  9, 10])"
      ]
     },
     "execution_count": 66,
     "metadata": {},
     "output_type": "execute_result"
    }
   ],
   "source": [
    "#Creating sample array \n",
    "#array starts with 0 and ends with n-1\n",
    "\n",
    "import numpy as np \n",
    "\n",
    "arr = np.arange(0,11)\n",
    "\n",
    "#Show\n",
    "arr"
   ]
  },
  {
   "cell_type": "code",
   "execution_count": 60,
   "id": "9c802119",
   "metadata": {},
   "outputs": [
    {
     "name": "stdout",
     "output_type": "stream",
     "text": [
      "4\n",
      "10\n",
      "0\n"
     ]
    }
   ],
   "source": [
    "#indexing \n",
    "print(arr[4])\n",
    "print(arr[-1])\n",
    "print(arr[0])\n"
   ]
  },
  {
   "cell_type": "code",
   "execution_count": 68,
   "id": "715c55f2",
   "metadata": {},
   "outputs": [
    {
     "name": "stdout",
     "output_type": "stream",
     "text": [
      "[12 15 34 67 32 85 88 78 56 45 34 32 56]\n"
     ]
    }
   ],
   "source": [
    "#slicing \n",
    "import numpy as np \n",
    "\n",
    "b = [12, 15, 34, 67, 32, 85,88,78,56,45,34,32,56]\n",
    "\n",
    "a=np.array(b)\n",
    "\n",
    "print(a[:])"
   ]
  },
  {
   "cell_type": "code",
   "execution_count": 69,
   "id": "6d5c678d",
   "metadata": {},
   "outputs": [
    {
     "name": "stdout",
     "output_type": "stream",
     "text": [
      "[34 67 32 85 88 78 56 45 34 32 56]\n"
     ]
    }
   ],
   "source": [
    "print(a[2:])"
   ]
  },
  {
   "cell_type": "code",
   "execution_count": 70,
   "id": "01c9045d",
   "metadata": {},
   "outputs": [
    {
     "name": "stdout",
     "output_type": "stream",
     "text": [
      "[34 67 32 85 88 78]\n"
     ]
    }
   ],
   "source": [
    "print(a[2:8])"
   ]
  },
  {
   "cell_type": "code",
   "execution_count": 71,
   "id": "a523b9bb",
   "metadata": {},
   "outputs": [
    {
     "name": "stdout",
     "output_type": "stream",
     "text": [
      "[12 15 34 67 32 85 88 78]\n"
     ]
    }
   ],
   "source": [
    "print(a[:8])"
   ]
  },
  {
   "cell_type": "code",
   "execution_count": 72,
   "id": "a9b7cf6c",
   "metadata": {},
   "outputs": [
    {
     "name": "stdout",
     "output_type": "stream",
     "text": [
      "[15 67 85 78]\n"
     ]
    }
   ],
   "source": [
    "print(a[1:8:2])"
   ]
  },
  {
   "cell_type": "code",
   "execution_count": 73,
   "id": "e044415a",
   "metadata": {},
   "outputs": [
    {
     "name": "stdout",
     "output_type": "stream",
     "text": [
      "[56 45 34]\n"
     ]
    }
   ],
   "source": [
    "print(a[-5:-2])"
   ]
  },
  {
   "cell_type": "code",
   "execution_count": 74,
   "id": "78861bd5",
   "metadata": {},
   "outputs": [
    {
     "name": "stdout",
     "output_type": "stream",
     "text": [
      "[56 32 34 45 56 78 88 85 32 67 34 15 12]\n"
     ]
    }
   ],
   "source": [
    "print(a[::-1])"
   ]
  },
  {
   "cell_type": "markdown",
   "id": "14e6a3c7",
   "metadata": {},
   "source": [
    "# 3  matrix"
   ]
  },
  {
   "cell_type": "code",
   "execution_count": 76,
   "id": "58f4cf18",
   "metadata": {},
   "outputs": [
    {
     "name": "stdout",
     "output_type": "stream",
     "text": [
      "[[1 2 3]\n",
      " [4 5 6]\n",
      " [7 8 9]]\n"
     ]
    }
   ],
   "source": [
    "#create 3X3 matrix with np.array()\n",
    "import numpy as np \n",
    "\n",
    "matrix=np.array([[1,2,3],[4,5,6],[7,8,9]])\n",
    "print(matrix)"
   ]
  },
  {
   "cell_type": "code",
   "execution_count": 77,
   "id": "12110c9d",
   "metadata": {},
   "outputs": [
    {
     "data": {
      "text/plain": [
       "array([[ 5, 10, 15],\n",
       "       [20, 25, 30],\n",
       "       [35, 40, 45]])"
      ]
     },
     "execution_count": 77,
     "metadata": {},
     "output_type": "execute_result"
    }
   ],
   "source": [
    "arr_2d = np.array(([5,10,15],[20,25,30],[35,40,45]))\n",
    "\n",
    "#Show\n",
    "arr_2d"
   ]
  },
  {
   "cell_type": "code",
   "execution_count": 78,
   "id": "64d4a0c9",
   "metadata": {},
   "outputs": [
    {
     "data": {
      "text/plain": [
       "array([20, 25, 30])"
      ]
     },
     "execution_count": 78,
     "metadata": {},
     "output_type": "execute_result"
    }
   ],
   "source": [
    "#Indexing row\n",
    "arr_2d[1]"
   ]
  },
  {
   "cell_type": "code",
   "execution_count": 79,
   "id": "57b35054",
   "metadata": {},
   "outputs": [
    {
     "data": {
      "text/plain": [
       "20"
      ]
     },
     "execution_count": 79,
     "metadata": {},
     "output_type": "execute_result"
    }
   ],
   "source": [
    "# Format is arr_2d[row][col] or arr_2d[row,col]\n",
    "\n",
    "# Getting individual element value\n",
    "arr_2d[1][0]"
   ]
  },
  {
   "cell_type": "code",
   "execution_count": 80,
   "id": "d95c75ac",
   "metadata": {},
   "outputs": [
    {
     "data": {
      "text/plain": [
       "20"
      ]
     },
     "execution_count": 80,
     "metadata": {},
     "output_type": "execute_result"
    }
   ],
   "source": [
    "# Getting individual element value\n",
    "arr_2d[1,0]"
   ]
  },
  {
   "cell_type": "code",
   "execution_count": 81,
   "id": "7c479d4c",
   "metadata": {},
   "outputs": [
    {
     "data": {
      "text/plain": [
       "array([[10, 15],\n",
       "       [25, 30]])"
      ]
     },
     "execution_count": 81,
     "metadata": {},
     "output_type": "execute_result"
    }
   ],
   "source": [
    "# 2D array slicing\n",
    "\n",
    "#Shape (2,2) from top right corner\n",
    "arr_2d[:2,1:]"
   ]
  },
  {
   "cell_type": "markdown",
   "id": "aa758fd6",
   "metadata": {},
   "source": [
    "# Fancy Indexing\n",
    "Fancy indexing allows you to select entire rows or columns out of order,to show this, let's quickly build out a numpy array:"
   ]
  },
  {
   "cell_type": "code",
   "execution_count": 82,
   "id": "c915e2e3",
   "metadata": {},
   "outputs": [],
   "source": [
    "#Set up matrix\n",
    "arr2d = np.zeros((10,10))"
   ]
  },
  {
   "cell_type": "code",
   "execution_count": 83,
   "id": "b749cab2",
   "metadata": {},
   "outputs": [
    {
     "data": {
      "text/plain": [
       "array([[0., 0., 0., 0., 0., 0., 0., 0., 0., 0.],\n",
       "       [0., 0., 0., 0., 0., 0., 0., 0., 0., 0.],\n",
       "       [0., 0., 0., 0., 0., 0., 0., 0., 0., 0.],\n",
       "       [0., 0., 0., 0., 0., 0., 0., 0., 0., 0.],\n",
       "       [0., 0., 0., 0., 0., 0., 0., 0., 0., 0.],\n",
       "       [0., 0., 0., 0., 0., 0., 0., 0., 0., 0.],\n",
       "       [0., 0., 0., 0., 0., 0., 0., 0., 0., 0.],\n",
       "       [0., 0., 0., 0., 0., 0., 0., 0., 0., 0.],\n",
       "       [0., 0., 0., 0., 0., 0., 0., 0., 0., 0.],\n",
       "       [0., 0., 0., 0., 0., 0., 0., 0., 0., 0.]])"
      ]
     },
     "execution_count": 83,
     "metadata": {},
     "output_type": "execute_result"
    }
   ],
   "source": [
    "arr2d"
   ]
  },
  {
   "cell_type": "code",
   "execution_count": 84,
   "id": "b294b75a",
   "metadata": {},
   "outputs": [
    {
     "data": {
      "text/plain": [
       "(10, 10)"
      ]
     },
     "execution_count": 84,
     "metadata": {},
     "output_type": "execute_result"
    }
   ],
   "source": [
    "arr2d.shape"
   ]
  },
  {
   "cell_type": "code",
   "execution_count": 85,
   "id": "d4faab34",
   "metadata": {},
   "outputs": [],
   "source": [
    "#Length of array\n",
    "arr_length = arr2d.shape[1]"
   ]
  },
  {
   "cell_type": "code",
   "execution_count": 86,
   "id": "59d1cb5b",
   "metadata": {},
   "outputs": [
    {
     "data": {
      "text/plain": [
       "array([[0., 0., 0., 0., 0., 0., 0., 0., 0., 0.],\n",
       "       [1., 1., 1., 1., 1., 1., 1., 1., 1., 1.],\n",
       "       [2., 2., 2., 2., 2., 2., 2., 2., 2., 2.],\n",
       "       [3., 3., 3., 3., 3., 3., 3., 3., 3., 3.],\n",
       "       [4., 4., 4., 4., 4., 4., 4., 4., 4., 4.],\n",
       "       [5., 5., 5., 5., 5., 5., 5., 5., 5., 5.],\n",
       "       [6., 6., 6., 6., 6., 6., 6., 6., 6., 6.],\n",
       "       [7., 7., 7., 7., 7., 7., 7., 7., 7., 7.],\n",
       "       [8., 8., 8., 8., 8., 8., 8., 8., 8., 8.],\n",
       "       [9., 9., 9., 9., 9., 9., 9., 9., 9., 9.]])"
      ]
     },
     "execution_count": 86,
     "metadata": {},
     "output_type": "execute_result"
    }
   ],
   "source": [
    "#Set up array\n",
    "\n",
    "for i in range(arr_length):\n",
    "    arr2d[i] = i\n",
    "    \n",
    "arr2d"
   ]
  },
  {
   "cell_type": "code",
   "execution_count": 87,
   "id": "9b2c2410",
   "metadata": {},
   "outputs": [
    {
     "data": {
      "text/plain": [
       "array([[2., 2., 2., 2., 2., 2., 2., 2., 2., 2.],\n",
       "       [4., 4., 4., 4., 4., 4., 4., 4., 4., 4.],\n",
       "       [6., 6., 6., 6., 6., 6., 6., 6., 6., 6.],\n",
       "       [8., 8., 8., 8., 8., 8., 8., 8., 8., 8.]])"
      ]
     },
     "execution_count": 87,
     "metadata": {},
     "output_type": "execute_result"
    }
   ],
   "source": [
    "arr2d[[2,4,6,8]]"
   ]
  },
  {
   "cell_type": "code",
   "execution_count": 88,
   "id": "c42b8315",
   "metadata": {},
   "outputs": [
    {
     "data": {
      "text/plain": [
       "array([[6., 6., 6., 6., 6., 6., 6., 6., 6., 6.],\n",
       "       [4., 4., 4., 4., 4., 4., 4., 4., 4., 4.],\n",
       "       [2., 2., 2., 2., 2., 2., 2., 2., 2., 2.],\n",
       "       [7., 7., 7., 7., 7., 7., 7., 7., 7., 7.]])"
      ]
     },
     "execution_count": 88,
     "metadata": {},
     "output_type": "execute_result"
    }
   ],
   "source": [
    "#Allows in any order\n",
    "arr2d[[6,4,2,7]]"
   ]
  },
  {
   "cell_type": "code",
   "execution_count": 89,
   "id": "10eb56f2",
   "metadata": {},
   "outputs": [
    {
     "name": "stdout",
     "output_type": "stream",
     "text": [
      "[[[0. 0. 0. 0.]\n",
      "  [0. 0. 0. 0.]\n",
      "  [0. 0. 0. 0.]]\n",
      "\n",
      " [[0. 0. 0. 0.]\n",
      "  [0. 0. 0. 0.]\n",
      "  [0. 0. 0. 0.]]\n",
      "\n",
      " [[0. 0. 0. 0.]\n",
      "  [0. 0. 0. 0.]\n",
      "  [0. 0. 0. 0.]]]\n",
      "\n",
      "the type of matix is = ndarray\n",
      "the matrix dimension is =  3\n",
      "matrix shape in tuple =  (3, 3, 4)\n",
      "elements present in matrix is =  36\n"
     ]
    }
   ],
   "source": [
    "#creating 3 dimension using np.zeros()\n",
    "import numpy as np\n",
    "\n",
    "# Creating a 3-dimensional matrix filled with zeros\n",
    "shape = (3, 3, 4)  # Specify the size of each dimension\n",
    "matrix = np.zeros(shape)\n",
    "\n",
    "print(matrix)\n",
    "print(\"\\nthe type of matix is =\",type(matrix).__name__)\n",
    "print(\"the matrix dimension is = \",matrix.ndim) #print the dimension of numpy array \n",
    "print(\"matrix shape in tuple = \",matrix.shape) #print the shape of array (row,columns) in tuple format\n",
    "print(\"elements present in matrix is = \",matrix.size) # print total number of elements present in array "
   ]
  },
  {
   "cell_type": "markdown",
   "id": "dbeaa062",
   "metadata": {},
   "source": [
    "# creating higher dimension \n"
   ]
  },
  {
   "cell_type": "code",
   "execution_count": 90,
   "id": "077b7f9f",
   "metadata": {},
   "outputs": [
    {
     "name": "stdout",
     "output_type": "stream",
     "text": [
      "[[[[[1 2 3 4]]]]]\n",
      "number of dimensions : 5\n"
     ]
    }
   ],
   "source": [
    "#creating a 5 dimension array \n",
    "import numpy as np\n",
    "\n",
    "arr = np.array([1, 2, 3, 4], ndmin=5)\n",
    "\n",
    "print(arr)\n",
    "print('number of dimensions :', arr.ndim)"
   ]
  },
  {
   "cell_type": "code",
   "execution_count": 91,
   "id": "51c47318",
   "metadata": {},
   "outputs": [
    {
     "name": "stdout",
     "output_type": "stream",
     "text": [
      "[[[[1 2 3 4]]]]\n",
      "number of dimensions : 4\n"
     ]
    }
   ],
   "source": [
    "#creating a 5 dimension array \n",
    "import numpy as np\n",
    "\n",
    "arr = np.array([1, 2, 3, 4], ndmin=4)\n",
    "\n",
    "print(arr)\n",
    "print('number of dimensions :', arr.ndim)"
   ]
  },
  {
   "cell_type": "markdown",
   "id": "5de40725",
   "metadata": {},
   "source": [
    "# broadcasting "
   ]
  },
  {
   "cell_type": "code",
   "execution_count": 96,
   "id": "d2dd1525",
   "metadata": {},
   "outputs": [
    {
     "name": "stdout",
     "output_type": "stream",
     "text": [
      "Array 1:\n",
      "[[1 2 3]\n",
      " [4 5 6]]\n",
      "\n",
      "Array 2:\n",
      "[10 20 30]\n",
      "\n",
      "Result of addition:\n",
      "[[11 22 33]\n",
      " [14 25 36]]\n"
     ]
    }
   ],
   "source": [
    "#example2 \n",
    "\n",
    "import numpy as np\n",
    "\n",
    "# Creating two arrays of different shapes\n",
    "array1 = np.array([[1, 2, 3],\n",
    "                   [4, 5, 6]])\n",
    "\n",
    "array2 = np.array([10, 20, 30])\n",
    "\n",
    "# Performing an operation between arrays of different shapes\n",
    "result = array1 + array2\n",
    "\n",
    "print(\"Array 1:\")\n",
    "print(array1)\n",
    "print(\"\\nArray 2:\")\n",
    "print(array2)\n",
    "print(\"\\nResult of addition:\")\n",
    "print(result)\n"
   ]
  },
  {
   "cell_type": "code",
   "execution_count": 101,
   "id": "177ae7f6",
   "metadata": {},
   "outputs": [
    {
     "name": "stdout",
     "output_type": "stream",
     "text": [
      "[ 1  2  3  4  5  6  7  8  9 10 11 12]\n",
      "[  1   2   3   4   5 120 120 120 120 120 120 120]\n"
     ]
    }
   ],
   "source": [
    "#example2\n",
    "\n",
    "arr=np.array([1,2,3,4,5,6,7,8,9,10,11,12])\n",
    "print(arr)\n",
    "#print(arr.shape)\n",
    "\n",
    "arr[5:]=120\n",
    "\n",
    "print(arr)"
   ]
  },
  {
   "cell_type": "markdown",
   "id": "630155c1",
   "metadata": {},
   "source": [
    "# copy vs view "
   ]
  },
  {
   "cell_type": "raw",
   "id": "a9de5cd2",
   "metadata": {},
   "source": [
    "\n",
    "Copy:\n",
    "A copy of an array is a new array with new memory allocated for its data. Modifications to the copy do not affect the original array, and vice versa."
   ]
  },
  {
   "cell_type": "code",
   "execution_count": 97,
   "id": "c7900ea1",
   "metadata": {},
   "outputs": [
    {
     "name": "stdout",
     "output_type": "stream",
     "text": [
      "Original array: [1 2 3 4 5]\n",
      "Copy of the array (after modification): [100   2   3   4   5]\n"
     ]
    }
   ],
   "source": [
    "import numpy as np\n",
    "\n",
    "arr = np.array([1, 2, 3, 4, 5])\n",
    "\n",
    "# Creating a copy of the array\n",
    "arr_copy = arr.copy()\n",
    "\n",
    "# Modifying the copy\n",
    "arr_copy[0] = 100\n",
    "\n",
    "print(\"Original array:\", arr)\n",
    "print(\"Copy of the array (after modification):\", arr_copy)\n"
   ]
  },
  {
   "cell_type": "raw",
   "id": "5c13a9de",
   "metadata": {},
   "source": [
    "View:\n",
    "A view of an array is a new array object that refers to the same data as the original array. Modifications to the view affect the original array, and vice versa."
   ]
  },
  {
   "cell_type": "code",
   "execution_count": 98,
   "id": "f0352d5b",
   "metadata": {},
   "outputs": [
    {
     "name": "stdout",
     "output_type": "stream",
     "text": [
      "Original array (after modification through view): [100   2   3   4   5]\n",
      "View of the array (after modification): [100   2   3   4   5]\n"
     ]
    }
   ],
   "source": [
    "import numpy as np\n",
    "\n",
    "arr = np.array([1, 2, 3, 4, 5])\n",
    "\n",
    "# Creating a view of the array\n",
    "arr_view = arr.view()\n",
    "\n",
    "# Modifying the view\n",
    "arr_view[0] = 100\n",
    "\n",
    "print(\"Original array (after modification through view):\", arr)\n",
    "print(\"View of the array (after modification):\", arr_view)\n"
   ]
  },
  {
   "cell_type": "code",
   "execution_count": 99,
   "id": "8d309f5e",
   "metadata": {},
   "outputs": [
    {
     "name": "stdout",
     "output_type": "stream",
     "text": [
      "Original array (after modification through view): [100   2   3   4   5]\n",
      "View of the array (after modification): [100   2   3   4   5]\n"
     ]
    }
   ],
   "source": [
    "import numpy as np\n",
    "\n",
    "arr = np.array([1, 2, 3, 4, 5])\n",
    "\n",
    "# Creating a view of the array\n",
    "arr_view = arr\n",
    "\n",
    "# Modifying the view\n",
    "arr_view[0] = 100\n",
    "\n",
    "print(\"Original array (after modification through view):\", arr)\n",
    "print(\"View of the array (after modification):\", arr_view)\n"
   ]
  },
  {
   "cell_type": "code",
   "execution_count": null,
   "id": "2c343190",
   "metadata": {},
   "outputs": [],
   "source": []
  }
 ],
 "metadata": {
  "kernelspec": {
   "display_name": "Python 3 (ipykernel)",
   "language": "python",
   "name": "python3"
  },
  "language_info": {
   "codemirror_mode": {
    "name": "ipython",
    "version": 3
   },
   "file_extension": ".py",
   "mimetype": "text/x-python",
   "name": "python",
   "nbconvert_exporter": "python",
   "pygments_lexer": "ipython3",
   "version": "3.11.5"
  }
 },
 "nbformat": 4,
 "nbformat_minor": 5
}
