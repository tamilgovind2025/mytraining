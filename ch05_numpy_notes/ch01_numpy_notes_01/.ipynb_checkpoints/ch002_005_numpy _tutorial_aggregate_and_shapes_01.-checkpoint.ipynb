{
 "cells": [
  {
   "cell_type": "code",
   "execution_count": 2,
   "id": "0035f7fc",
   "metadata": {},
   "outputs": [
    {
     "name": "stdout",
     "output_type": "stream",
     "text": [
      "[0 1 2 3 4 5 6 7 8 9]\n",
      "[array([0, 1, 2, 3]), array([4, 5, 6]), array([7, 8, 9])]\n"
     ]
    }
   ],
   "source": [
    "\"\"\"\n",
    "array_split: Split an array into multiple sub-arrays\n",
    "\"\"\"\n",
    "import numpy as np\n",
    "\n",
    "arr = np.arange(10)\n",
    "print(arr)\n",
    "sub_arrays = np.array_split(arr, 3)\n",
    "print(sub_arrays)\n"
   ]
  },
  {
   "cell_type": "code",
   "execution_count": 3,
   "id": "142ddfeb",
   "metadata": {},
   "outputs": [
    {
     "name": "stdout",
     "output_type": "stream",
     "text": [
      "[[1 4]\n",
      " [2 5]\n",
      " [3 6]]\n"
     ]
    }
   ],
   "source": [
    "\"\"\"\n",
    "column_stack: Stack 1-D arrays as columns into a 2-D array.\n",
    "\"\"\"\n",
    "\n",
    "import numpy as np\n",
    "\n",
    "a = np.array([1, 2, 3])\n",
    "b = np.array([4, 5, 6])\n",
    "result = np.column_stack((a, b))\n",
    "print(result)"
   ]
  },
  {
   "cell_type": "code",
   "execution_count": 6,
   "id": "272cd4ea",
   "metadata": {},
   "outputs": [
    {
     "name": "stdout",
     "output_type": "stream",
     "text": [
      "[[1 2]\n",
      " [3 4]]\n",
      "----------------\n",
      "[[5 6]]\n",
      "-----------\n",
      "[[1 2]\n",
      " [3 4]\n",
      " [5 6]]\n"
     ]
    }
   ],
   "source": [
    "\"\"\"\n",
    "concatenate: Concatenate arrays along a specified axis.\n",
    "\n",
    "\"\"\"\n",
    "\n",
    "import numpy as np\n",
    "\n",
    "a = np.array([[1, 2], [3, 4]])\n",
    "print(a)\n",
    "print(\"----------------\")\n",
    "\n",
    "b = np.array([[5, 6]])\n",
    "print(b)\n",
    "print(\"-----------\")\n",
    "\n",
    "result = np.concatenate((a, b), axis=0)\n",
    "print(result)"
   ]
  },
  {
   "cell_type": "code",
   "execution_count": 8,
   "id": "09bee2e3",
   "metadata": {},
   "outputs": [
    {
     "name": "stdout",
     "output_type": "stream",
     "text": [
      "[1 5 9]\n"
     ]
    }
   ],
   "source": [
    "\"\"\"\n",
    "diagonal: Return the diagonal of an array.\n",
    "\n",
    "\"\"\"\n",
    "\n",
    "import numpy as np\n",
    "\n",
    "arr = np.array([[1, 2, 3], [4, 5, 6], [7, 8, 9]])\n",
    "diagonal = np.diagonal(arr)\n",
    "print(diagonal)"
   ]
  },
  {
   "cell_type": "code",
   "execution_count": 11,
   "id": "0401569f",
   "metadata": {},
   "outputs": [
    {
     "data": {
      "text/plain": [
       "array([[[ 0,  1,  2,  3],\n",
       "        [ 4,  5,  6,  7]],\n",
       "\n",
       "       [[ 8,  9, 10, 11],\n",
       "        [12, 13, 14, 15]]])"
      ]
     },
     "execution_count": 11,
     "metadata": {},
     "output_type": "execute_result"
    }
   ],
   "source": [
    "\"\"\"\n",
    "dsplit: Split array along the third axis.\n",
    "\"\"\"\n",
    "\n",
    "import numpy as np\n",
    "\n",
    "arr = np.arange(16).reshape((2, 2, 4))\n",
    "arr\n"
   ]
  },
  {
   "cell_type": "code",
   "execution_count": 12,
   "id": "9b0a98b1",
   "metadata": {},
   "outputs": [
    {
     "data": {
      "text/plain": [
       "[array([[[ 0,  1],\n",
       "         [ 4,  5]],\n",
       " \n",
       "        [[ 8,  9],\n",
       "         [12, 13]]]),\n",
       " array([[[ 2,  3],\n",
       "         [ 6,  7]],\n",
       " \n",
       "        [[10, 11],\n",
       "         [14, 15]]])]"
      ]
     },
     "execution_count": 12,
     "metadata": {},
     "output_type": "execute_result"
    }
   ],
   "source": [
    "result = np.dsplit(arr, 2)\n",
    "result"
   ]
  },
  {
   "cell_type": "code",
   "execution_count": 13,
   "id": "64334294",
   "metadata": {},
   "outputs": [
    {
     "name": "stdout",
     "output_type": "stream",
     "text": [
      "[[[1 5]\n",
      "  [2 6]]\n",
      "\n",
      " [[3 7]\n",
      "  [4 8]]]\n"
     ]
    }
   ],
   "source": [
    "\"\"\"\n",
    "dstack: Stack arrays in sequence along the third axis.\n",
    "\"\"\"\n",
    "\n",
    "import numpy as np\n",
    "\n",
    "a = np.array([[1, 2], [3, 4]])\n",
    "b = np.array([[5, 6], [7, 8]])\n",
    "result = np.dstack((a, b))\n",
    "print(result)\n"
   ]
  },
  {
   "cell_type": "code",
   "execution_count": 21,
   "id": "a6611553",
   "metadata": {},
   "outputs": [
    {
     "data": {
      "text/plain": [
       "[array([[ 0,  1],\n",
       "        [ 4,  5],\n",
       "        [ 8,  9],\n",
       "        [12, 13]]),\n",
       " array([[ 2,  3],\n",
       "        [ 6,  7],\n",
       "        [10, 11],\n",
       "        [14, 15]])]"
      ]
     },
     "execution_count": 21,
     "metadata": {},
     "output_type": "execute_result"
    }
   ],
   "source": [
    "\"\"\"\n",
    "hsplit: Split array into multiple sub-arrays horizontally (column-wise).\n",
    "\"\"\"\n",
    "import numpy as np\n",
    "\n",
    "arr = np.arange(16).reshape((4, 4))\n",
    "result = np.hsplit(arr, 2)\n",
    "result\n",
    "#result[0].shape\n",
    "#print(arr.shape)"
   ]
  },
  {
   "cell_type": "code",
   "execution_count": 22,
   "id": "1333388f",
   "metadata": {},
   "outputs": [
    {
     "name": "stdout",
     "output_type": "stream",
     "text": [
      "[1 2 3 4 5 6]\n"
     ]
    }
   ],
   "source": [
    "\"\"\"\n",
    "hstack: Stack arrays in sequence horizontally (column-wise).\n",
    "\n",
    "\"\"\"\n",
    "import numpy as np\n",
    "\n",
    "a = np.array([1, 2, 3])\n",
    "b = np.array([4, 5, 6])\n",
    "result = np.hstack((a, b))\n",
    "print(result)"
   ]
  },
  {
   "cell_type": "code",
   "execution_count": 24,
   "id": "adb6750a",
   "metadata": {},
   "outputs": [
    {
     "name": "stdout",
     "output_type": "stream",
     "text": [
      "1\n"
     ]
    }
   ],
   "source": [
    "\"\"\"\n",
    "ndarray.item: Get a specific element of an array.\n",
    "\"\"\"\n",
    "import numpy as np\n",
    "\n",
    "arr = np.array([1, 2, 3])\n",
    "\n",
    "item = arr.item(0)\n",
    "\n",
    "print(item)"
   ]
  },
  {
   "cell_type": "code",
   "execution_count": 25,
   "id": "7a8d18a8",
   "metadata": {},
   "outputs": [
    {
     "name": "stdout",
     "output_type": "stream",
     "text": [
      "[[1]\n",
      " [2]\n",
      " [3]]\n"
     ]
    }
   ],
   "source": [
    "\"\"\"\n",
    "newaxis: Increase the dimension of the existing array.\n",
    "\n",
    "\"\"\"\n",
    "import numpy as np\n",
    "\n",
    "arr = np.array([1, 2, 3])\n",
    "new_arr = arr[:, np.newaxis]\n",
    "print(new_arr)\n"
   ]
  },
  {
   "cell_type": "code",
   "execution_count": 26,
   "id": "78624a53",
   "metadata": {},
   "outputs": [
    {
     "name": "stdout",
     "output_type": "stream",
     "text": [
      "[1 2 3 4]\n"
     ]
    }
   ],
   "source": [
    "\"\"\"\n",
    "ravel: Flatten an array into a 1-D array.\n",
    "\n",
    "\"\"\"\n",
    "import numpy as np\n",
    "\n",
    "arr = np.array([[1, 2], [3, 4]])\n",
    "flattened = np.ravel(arr)\n",
    "print(flattened)\n"
   ]
  },
  {
   "cell_type": "code",
   "execution_count": 27,
   "id": "9a088e4b",
   "metadata": {},
   "outputs": [
    {
     "name": "stdout",
     "output_type": "stream",
     "text": [
      "[1 1 1 2 2 2 3 3 3]\n"
     ]
    }
   ],
   "source": [
    "\"\"\"\n",
    "repeat: Repeat elements of an array.\n",
    "\"\"\"\n",
    "\n",
    "import numpy as np\n",
    "\n",
    "arr = np.array([1, 2, 3])\n",
    "repeated = np.repeat(arr, 3)\n",
    "print(repeated)"
   ]
  },
  {
   "cell_type": "code",
   "execution_count": 28,
   "id": "255e73f8",
   "metadata": {},
   "outputs": [
    {
     "name": "stdout",
     "output_type": "stream",
     "text": [
      "[[0 1 2]\n",
      " [3 4 5]]\n"
     ]
    }
   ],
   "source": [
    "\"\"\"\n",
    "reshape: Reshape an array into a specified shape.\n",
    "\"\"\"\n",
    "import numpy as np\n",
    "\n",
    "arr = np.arange(6)\n",
    "reshaped = np.reshape(arr, (2, 3))\n",
    "print(reshaped)\n"
   ]
  },
  {
   "cell_type": "code",
   "execution_count": 29,
   "id": "10070dad",
   "metadata": {},
   "outputs": [
    {
     "name": "stdout",
     "output_type": "stream",
     "text": [
      "[0 1 2 0 1]\n"
     ]
    }
   ],
   "source": [
    "\"\"\"\n",
    "resize: Resize an array.\n",
    "\"\"\"\n",
    "\n",
    "import numpy as np\n",
    "\n",
    "arr = np.arange(3)\n",
    "resized = np.resize(arr, (5,))\n",
    "print(resized)\n"
   ]
  },
  {
   "cell_type": "code",
   "execution_count": 1,
   "id": "22c7d8fd",
   "metadata": {},
   "outputs": [
    {
     "name": "stdout",
     "output_type": "stream",
     "text": [
      "(3,)\n",
      "[0 1 2]\n"
     ]
    }
   ],
   "source": [
    "\"\"\"\n",
    "squeeze: Remove single-dimensional entries from the shape of an array.\n",
    "\"\"\"\n",
    "import numpy as np\n",
    "\n",
    "arr = np.array([[[0], [1], [2]]])\n",
    "squeezed = np.squeeze(arr)\n",
    "print(squeezed.shape)\n",
    "print(squeezed)"
   ]
  },
  {
   "cell_type": "code",
   "execution_count": 4,
   "id": "cafa5900",
   "metadata": {},
   "outputs": [
    {
     "name": "stdout",
     "output_type": "stream",
     "text": [
      "[[1]\n",
      " [2]\n",
      " [3]]\n"
     ]
    }
   ],
   "source": [
    "\"\"\"\n",
    "swapaxes: Interchange two axes of an array.\n",
    "\"\"\"\n",
    "import numpy as np\n",
    "\n",
    "arr = np.array([[1, 2, 3]])\n",
    "swapped = np.swapaxes(arr,0,1)\n",
    "print(swapped)\n"
   ]
  },
  {
   "cell_type": "code",
   "execution_count": 5,
   "id": "67f3c09c",
   "metadata": {},
   "outputs": [
    {
     "name": "stdout",
     "output_type": "stream",
     "text": [
      "[4 5 7]\n"
     ]
    }
   ],
   "source": [
    "\"\"\"\n",
    "take: Return elements from an array along a specified axis.\n",
    "\"\"\"\n",
    "import numpy as np\n",
    "\n",
    "arr = np.array([4, 3, 5, 7, 6])\n",
    "indices = [0, 2, 3]\n",
    "taken = np.take(arr, indices)\n",
    "print(taken)\n"
   ]
  },
  {
   "cell_type": "code",
   "execution_count": 7,
   "id": "9d94ca61",
   "metadata": {},
   "outputs": [
    {
     "name": "stdout",
     "output_type": "stream",
     "text": [
      "[[0 1]\n",
      " [2 3]]\n",
      "[[0 2]\n",
      " [1 3]]\n"
     ]
    }
   ],
   "source": [
    "\"\"\"\n",
    "transpose: Permute the dimensions of an array.\n",
    "\n",
    "\"\"\"\n",
    "\n",
    "import numpy as np\n",
    "\n",
    "arr = np.arange(4).reshape((2, 2))\n",
    "print(arr)\n",
    "transposed = np.transpose(arr)\n",
    "print(transposed)"
   ]
  },
  {
   "cell_type": "code",
   "execution_count": 9,
   "id": "273317e5",
   "metadata": {},
   "outputs": [
    {
     "data": {
      "text/plain": [
       "[array([[0, 1, 2, 3],\n",
       "        [4, 5, 6, 7]]),\n",
       " array([[ 8,  9, 10, 11],\n",
       "        [12, 13, 14, 15]])]"
      ]
     },
     "execution_count": 9,
     "metadata": {},
     "output_type": "execute_result"
    }
   ],
   "source": [
    "\"\"\"\n",
    "vsplit: Split array into multiple sub-arrays vertically (row-wise).\n",
    "\n",
    "\"\"\"\n",
    "import numpy as np\n",
    "\n",
    "arr = np.arange(16).reshape((4, 4))\n",
    "result = np.vsplit(arr, 2)\n",
    "result"
   ]
  },
  {
   "cell_type": "code",
   "execution_count": 10,
   "id": "d07b2594",
   "metadata": {},
   "outputs": [
    {
     "data": {
      "text/plain": [
       "array([[ 0,  1,  2,  3],\n",
       "       [ 4,  5,  6,  7],\n",
       "       [ 8,  9, 10, 11],\n",
       "       [12, 13, 14, 15]])"
      ]
     },
     "execution_count": 10,
     "metadata": {},
     "output_type": "execute_result"
    }
   ],
   "source": [
    "arr"
   ]
  },
  {
   "cell_type": "code",
   "execution_count": 11,
   "id": "82b30227",
   "metadata": {},
   "outputs": [
    {
     "name": "stdout",
     "output_type": "stream",
     "text": [
      "[[1 2 3]\n",
      " [4 5 6]]\n"
     ]
    }
   ],
   "source": [
    "\"\"\"\n",
    "vstack: Stack arrays in sequence vertically (row-wise).\n",
    "\"\"\"\n",
    "\n",
    "\n",
    "\n",
    "import numpy as np\n",
    "\n",
    "a = np.array([1, 2, 3])\n",
    "b = np.array([4, 5, 6])\n",
    "result = np.vstack((a, b))\n",
    "print(result)"
   ]
  },
  {
   "cell_type": "markdown",
   "id": "06a4f59a",
   "metadata": {},
   "source": [
    "# aggregate functions "
   ]
  },
  {
   "cell_type": "markdown",
   "id": "42ee03ef",
   "metadata": {},
   "source": [
    "# sum()"
   ]
  },
  {
   "cell_type": "code",
   "execution_count": 14,
   "id": "01127c70",
   "metadata": {},
   "outputs": [
    {
     "name": "stdout",
     "output_type": "stream",
     "text": [
      "[1 2 3 4 5]\n",
      "15\n"
     ]
    }
   ],
   "source": [
    "\"\"\"\n",
    "sum\n",
    "\"\"\"\n",
    "\n",
    "a1=np.arange(1,6)\n",
    "print(a1)\n",
    "total=a1.sum()\n",
    "print(total)"
   ]
  },
  {
   "cell_type": "code",
   "execution_count": 17,
   "id": "a5c0d44d",
   "metadata": {},
   "outputs": [
    {
     "name": "stdout",
     "output_type": "stream",
     "text": [
      "[[ 1  2  3  4  5]\n",
      " [ 6  7  8  9 10]\n",
      " [11 12 13 14 15]]\n",
      "120\n",
      "[18 21 24 27 30]\n",
      "[15 40 65]\n"
     ]
    }
   ],
   "source": [
    "a1=np.arange(1,16).reshape((3,5))\n",
    "print(a1)\n",
    "total=a1.sum()\n",
    "print(total)\n",
    "\n",
    "#column wise addition\n",
    "total=a1.sum(axis=0)\n",
    "print(total)\n",
    "\n",
    "#row wise wise of matrix addition\n",
    "total=a1.sum(axis=1)\n",
    "print(total)"
   ]
  },
  {
   "cell_type": "markdown",
   "id": "eeb64950",
   "metadata": {},
   "source": [
    "# min()"
   ]
  },
  {
   "cell_type": "code",
   "execution_count": 18,
   "id": "2af6bc66",
   "metadata": {},
   "outputs": [
    {
     "name": "stdout",
     "output_type": "stream",
     "text": [
      "[1 2 3 4 5]\n",
      "1\n"
     ]
    }
   ],
   "source": [
    "a1=np.arange(1,6)\n",
    "print(a1)\n",
    "total=a1.min()\n",
    "print(total)"
   ]
  },
  {
   "cell_type": "code",
   "execution_count": 21,
   "id": "ea186f6c",
   "metadata": {},
   "outputs": [
    {
     "name": "stdout",
     "output_type": "stream",
     "text": [
      "[[ 1  2  3  4  5]\n",
      " [ 6  7  8  9 10]\n",
      " [11 12 13 14 15]]\n",
      "1\n"
     ]
    }
   ],
   "source": [
    "a2=np.arange(1,16).reshape((3,5))\n",
    "print(a2)\n",
    "total=a2.min()\n",
    "print(total)"
   ]
  },
  {
   "cell_type": "code",
   "execution_count": 22,
   "id": "cd60a8a1",
   "metadata": {},
   "outputs": [
    {
     "name": "stdout",
     "output_type": "stream",
     "text": [
      "[1 2 3 4 5]\n",
      "[ 1  6 11]\n"
     ]
    }
   ],
   "source": [
    "#column wise \n",
    "total=a2.min(axis=0)\n",
    "print(total)\n",
    "\n",
    "#row wise wise \n",
    "total=a2.min(axis=1)\n",
    "print(total)"
   ]
  },
  {
   "cell_type": "markdown",
   "id": "88e56680",
   "metadata": {},
   "source": [
    "# max()"
   ]
  },
  {
   "cell_type": "code",
   "execution_count": 24,
   "id": "54734703",
   "metadata": {},
   "outputs": [
    {
     "name": "stdout",
     "output_type": "stream",
     "text": [
      "5\n"
     ]
    }
   ],
   "source": [
    "total=a1.max()\n",
    "print(total)"
   ]
  },
  {
   "cell_type": "code",
   "execution_count": 25,
   "id": "34ce1f3e",
   "metadata": {},
   "outputs": [
    {
     "name": "stdout",
     "output_type": "stream",
     "text": [
      "15\n"
     ]
    }
   ],
   "source": [
    "total=a2.max()\n",
    "print(total)"
   ]
  },
  {
   "cell_type": "code",
   "execution_count": 27,
   "id": "5688b6fb",
   "metadata": {},
   "outputs": [
    {
     "name": "stdout",
     "output_type": "stream",
     "text": [
      "[11 12 13 14 15]\n",
      "[ 5 10 15]\n"
     ]
    }
   ],
   "source": [
    "#column wise \n",
    "total=a2.max(axis=0)\n",
    "print(total)\n",
    "\n",
    "#row wise wise \n",
    "total=a2.max(axis=1)\n",
    "print(total)"
   ]
  },
  {
   "cell_type": "markdown",
   "id": "70e016aa",
   "metadata": {},
   "source": [
    "# cumsum()"
   ]
  },
  {
   "cell_type": "code",
   "execution_count": 29,
   "id": "26eb6dad",
   "metadata": {},
   "outputs": [
    {
     "name": "stdout",
     "output_type": "stream",
     "text": [
      "[ 1  3  6 10 15]\n"
     ]
    }
   ],
   "source": [
    "total=a1.cumsum()\n",
    "print(total)"
   ]
  },
  {
   "cell_type": "code",
   "execution_count": 30,
   "id": "f515bfbe",
   "metadata": {},
   "outputs": [
    {
     "name": "stdout",
     "output_type": "stream",
     "text": [
      "[  1   3   6  10  15  21  28  36  45  55  66  78  91 105 120]\n"
     ]
    }
   ],
   "source": [
    "total=a2.cumsum()\n",
    "print(total)"
   ]
  },
  {
   "cell_type": "code",
   "execution_count": 31,
   "id": "4be3e78c",
   "metadata": {},
   "outputs": [
    {
     "name": "stdout",
     "output_type": "stream",
     "text": [
      "[[ 1  2  3  4  5]\n",
      " [ 7  9 11 13 15]\n",
      " [18 21 24 27 30]]\n"
     ]
    }
   ],
   "source": [
    "#col\n",
    "total=a2.cumsum(axis=0)\n",
    "print(total)"
   ]
  },
  {
   "cell_type": "code",
   "execution_count": 33,
   "id": "59882e93",
   "metadata": {},
   "outputs": [
    {
     "name": "stdout",
     "output_type": "stream",
     "text": [
      "[[ 1  3  6 10 15]\n",
      " [ 6 13 21 30 40]\n",
      " [11 23 36 50 65]]\n"
     ]
    }
   ],
   "source": [
    "#col\n",
    "total=a2.cumsum(axis=1)\n",
    "print(total)"
   ]
  },
  {
   "cell_type": "markdown",
   "id": "0f2adb29",
   "metadata": {},
   "source": [
    "# mean"
   ]
  },
  {
   "cell_type": "code",
   "execution_count": 34,
   "id": "d6cacb9b",
   "metadata": {},
   "outputs": [
    {
     "name": "stdout",
     "output_type": "stream",
     "text": [
      "3.0\n"
     ]
    }
   ],
   "source": [
    "total=a1.mean()\n",
    "print(total)"
   ]
  },
  {
   "cell_type": "code",
   "execution_count": 36,
   "id": "46e2b96e",
   "metadata": {},
   "outputs": [
    {
     "name": "stdout",
     "output_type": "stream",
     "text": [
      "8.0\n"
     ]
    }
   ],
   "source": [
    "total=a2.mean()\n",
    "print(total)"
   ]
  },
  {
   "cell_type": "code",
   "execution_count": 38,
   "id": "0c5fce45",
   "metadata": {},
   "outputs": [
    {
     "name": "stdout",
     "output_type": "stream",
     "text": [
      "[ 6.  7.  8.  9. 10.]\n",
      "[ 3.  8. 13.]\n"
     ]
    }
   ],
   "source": [
    "#column wise \n",
    "total=a2.mean(axis=0)\n",
    "print(total)\n",
    "\n",
    "#row wise wise \n",
    "total=a2.mean(axis=1)\n",
    "print(total)"
   ]
  },
  {
   "cell_type": "markdown",
   "id": "3ebf40ad",
   "metadata": {},
   "source": [
    "# median"
   ]
  },
  {
   "cell_type": "code",
   "execution_count": 40,
   "id": "004575a3",
   "metadata": {},
   "outputs": [
    {
     "name": "stdout",
     "output_type": "stream",
     "text": [
      "3.0\n"
     ]
    }
   ],
   "source": [
    "total=np.median(a1)\n",
    "print(total)"
   ]
  },
  {
   "cell_type": "code",
   "execution_count": 41,
   "id": "a0093e80",
   "metadata": {},
   "outputs": [
    {
     "name": "stdout",
     "output_type": "stream",
     "text": [
      "8.0\n"
     ]
    }
   ],
   "source": [
    "total=np.median(a2)\n",
    "print(total)"
   ]
  },
  {
   "cell_type": "code",
   "execution_count": 42,
   "id": "4a3510dd",
   "metadata": {},
   "outputs": [
    {
     "name": "stdout",
     "output_type": "stream",
     "text": [
      "[ 6.  7.  8.  9. 10.]\n"
     ]
    }
   ],
   "source": [
    "total=np.median(a2,axis=0)\n",
    "print(total)"
   ]
  },
  {
   "cell_type": "code",
   "execution_count": 43,
   "id": "ea733f0e",
   "metadata": {},
   "outputs": [
    {
     "name": "stdout",
     "output_type": "stream",
     "text": [
      "[ 3.  8. 13.]\n"
     ]
    }
   ],
   "source": [
    "total=np.median(a2,axis=1)\n",
    "print(total)"
   ]
  },
  {
   "cell_type": "markdown",
   "id": "4191af38",
   "metadata": {},
   "source": [
    "# standard deviation "
   ]
  },
  {
   "cell_type": "code",
   "execution_count": 44,
   "id": "8c107c1a",
   "metadata": {},
   "outputs": [
    {
     "name": "stdout",
     "output_type": "stream",
     "text": [
      "1.4142135623730951\n"
     ]
    }
   ],
   "source": [
    "total=np.std(a1)\n",
    "print(total)"
   ]
  },
  {
   "cell_type": "code",
   "execution_count": 45,
   "id": "96e27488",
   "metadata": {},
   "outputs": [
    {
     "name": "stdout",
     "output_type": "stream",
     "text": [
      "4.320493798938574\n"
     ]
    }
   ],
   "source": [
    "total=np.std(a2)\n",
    "print(total)"
   ]
  },
  {
   "cell_type": "code",
   "execution_count": 46,
   "id": "02fe9973",
   "metadata": {},
   "outputs": [
    {
     "name": "stdout",
     "output_type": "stream",
     "text": [
      "[1.41421356 1.41421356 1.41421356]\n"
     ]
    }
   ],
   "source": [
    "total=np.std(a2,axis=1)\n",
    "print(total)"
   ]
  },
  {
   "cell_type": "code",
   "execution_count": 47,
   "id": "b20bd32a",
   "metadata": {},
   "outputs": [
    {
     "name": "stdout",
     "output_type": "stream",
     "text": [
      "[4.0824829 4.0824829 4.0824829 4.0824829 4.0824829]\n"
     ]
    }
   ],
   "source": [
    "total=np.std(a2,axis=0)\n",
    "print(total)"
   ]
  },
  {
   "cell_type": "markdown",
   "id": "fb189042",
   "metadata": {},
   "source": [
    "# correlation coefficient "
   ]
  },
  {
   "cell_type": "raw",
   "id": "3368f938",
   "metadata": {},
   "source": [
    "# In NumPy, you can compute the correlation coefficient between variables using the numpy.corrcoef() function. The correlation coefficient is a measure of the linear relationship between two variables. It ranges from -1 to 1, where:\n",
    "\n",
    "1 indicates a perfect positive linear relationship,\n",
    "-1 indicates a perfect negative linear relationship, and\n",
    "0 indicates no linear relationship.\n",
    "Here's how you can use numpy.corrcoef():\n",
    "\n",
    "\n"
   ]
  },
  {
   "cell_type": "code",
   "execution_count": 49,
   "id": "edbf1896",
   "metadata": {},
   "outputs": [
    {
     "name": "stdout",
     "output_type": "stream",
     "text": [
      "Correlation coefficient matrix:\n",
      "[[ 1. -1.]\n",
      " [-1.  1.]]\n"
     ]
    }
   ],
   "source": [
    "import numpy as np\n",
    "\n",
    "# Example data\n",
    "x = np.array([1, 2, 3, 4, 5])\n",
    "y = np.array([5, 4, 3, 2, 1])\n",
    "\n",
    "# Compute correlation coefficient matrix\n",
    "correlation_matrix = np.corrcoef(x, y)\n",
    "\n",
    "print(\"Correlation coefficient matrix:\")\n",
    "print(correlation_matrix)\n"
   ]
  },
  {
   "cell_type": "code",
   "execution_count": 50,
   "id": "e5aa0ef9",
   "metadata": {},
   "outputs": [
    {
     "name": "stdout",
     "output_type": "stream",
     "text": [
      "Correlation coefficient matrix:\n",
      "[[1.         0.39782585]\n",
      " [0.39782585 1.        ]]\n"
     ]
    }
   ],
   "source": [
    "import numpy as np\n",
    "\n",
    "# Example data\n",
    "x = np.array([1, 2, 3, 4, 5])\n",
    "y = np.array([2.5,6.7,8.5,33.5,5])\n",
    "\n",
    "# Compute correlation coefficient matrix\n",
    "correlation_matrix = np.corrcoef(x, y)\n",
    "\n",
    "print(\"Correlation coefficient matrix:\")\n",
    "print(correlation_matrix)"
   ]
  },
  {
   "cell_type": "code",
   "execution_count": null,
   "id": "5c0d1173",
   "metadata": {},
   "outputs": [],
   "source": []
  }
 ],
 "metadata": {
  "kernelspec": {
   "display_name": "Python 3 (ipykernel)",
   "language": "python",
   "name": "python3"
  },
  "language_info": {
   "codemirror_mode": {
    "name": "ipython",
    "version": 3
   },
   "file_extension": ".py",
   "mimetype": "text/x-python",
   "name": "python",
   "nbconvert_exporter": "python",
   "pygments_lexer": "ipython3",
   "version": "3.11.5"
  }
 },
 "nbformat": 4,
 "nbformat_minor": 5
}
