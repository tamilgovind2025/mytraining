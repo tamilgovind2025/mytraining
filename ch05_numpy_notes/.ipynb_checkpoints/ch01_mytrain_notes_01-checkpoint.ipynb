{
 "cells": [
  {
   "cell_type": "markdown",
   "id": "6f151cbd",
   "metadata": {},
   "source": [
    "# numpy notes "
   ]
  },
  {
   "cell_type": "markdown",
   "id": "cd55ada9",
   "metadata": {},
   "source": [
    "## ch01 intro"
   ]
  },
  {
   "cell_type": "code",
   "execution_count": 1,
   "id": "d7344741",
   "metadata": {},
   "outputs": [],
   "source": [
    "\n",
    "intro=\"\"\"\n",
    "1. numpy is a python library. NumPy was created in 2005 by Travis Oliphant \n",
    "2. numpy stands for numerical python \n",
    "3. numpy is open source (free)\n",
    "4. universal standard for working with numerical data in Python\n",
    "5. The NumPy API is used extensively in Pandas, SciPy, Matplotlib, scikit-learn, scikit-image and most other data science \n",
    "   and scientific Python packages.\n",
    "   \n",
    "   Data Science: is a branch of computer science where we study how to store, \n",
    "   use and analyze data for deriving information from it.\n",
    "   \n",
    "\"\"\"\n"
   ]
  },
  {
   "cell_type": "code",
   "execution_count": 6,
   "id": "6699339a",
   "metadata": {},
   "outputs": [
    {
     "data": {
      "text/plain": [
       "'\\nThe source code for NumPy is located at this github repository https://github.com/numpy/numpy\\ngithub: enables many people to work on the same codebase\\n\\nIf you already have Python, you can install NumPy with:\\n\\nconda install numpy\\nor\\n\\npip install numpy\\n\\n'"
      ]
     },
     "execution_count": 6,
     "metadata": {},
     "output_type": "execute_result"
    }
   ],
   "source": [
    "\"\"\"\n",
    "The source code for NumPy is located at this github repository https://github.com/numpy/numpy\n",
    "github: enables many people to work on the same codebase\n",
    "\n",
    "If you already have Python, you can install NumPy with:\n",
    "\n",
    "conda install numpy\n",
    "or\n",
    "\n",
    "pip install numpy\n",
    "\n",
    "\"\"\""
   ]
  },
  {
   "cell_type": "code",
   "execution_count": 7,
   "id": "c815a96a",
   "metadata": {},
   "outputs": [
    {
     "name": "stdout",
     "output_type": "stream",
     "text": [
      "Defaulting to user installation because normal site-packages is not writeable\n",
      "Requirement already satisfied: numpy in c:\\users\\admin\\appdata\\roaming\\python\\python311\\site-packages (1.26.1)\n",
      "Note: you may need to restart the kernel to use updated packages.\n"
     ]
    },
    {
     "name": "stderr",
     "output_type": "stream",
     "text": [
      "\n",
      "[notice] A new release of pip is available: 23.3.2 -> 24.0\n",
      "[notice] To update, run: python.exe -m pip install --upgrade pip\n"
     ]
    }
   ],
   "source": [
    "pip install numpy"
   ]
  },
  {
   "cell_type": "code",
   "execution_count": 2,
   "id": "6b9aea50",
   "metadata": {},
   "outputs": [
    {
     "name": "stdout",
     "output_type": "stream",
     "text": [
      "512 ms ± 8.82 ms per loop (mean ± std. dev. of 7 runs, 1 loop each)\n",
      "8.24 ms ± 188 µs per loop (mean ± std. dev. of 7 runs, 100 loops each)\n",
      "602 ms ± 2.81 ms per loop (mean ± std. dev. of 7 runs, 1 loop each)\n"
     ]
    }
   ],
   "source": [
    "\"\"\"\n",
    "6. NumPy aims to provide an array object that is up to 50x more faster than traditional Python lists.(see demo below)\n",
    "\"\"\"\n",
    "\n",
    "import numpy as np \n",
    "\n",
    "numbers=np.random.rand(10000000) #generate random numbers \n",
    "\n",
    "%timeit sum(numbers)  #python sum function \n",
    "\n",
    "%timeit np.sum(numbers) #numpy sum functions \n",
    "\n",
    "#defining a user defined function to add sum of random numbers and check calculation speed \n",
    "\n",
    "def mysum(num):\n",
    "    total=0\n",
    "    for i in num:\n",
    "        total+=i\n",
    "    return total\n",
    "#now calling the function mysum \n",
    "%timeit mysum(numbers)"
   ]
  },
  {
   "cell_type": "code",
   "execution_count": 3,
   "id": "01647aa2",
   "metadata": {},
   "outputs": [
    {
     "name": "stdout",
     "output_type": "stream",
     "text": [
      "True\n"
     ]
    }
   ],
   "source": [
    "\"\"\"\n",
    " NumPy, array data is stored in a continuous block of memory. This is a key feature that contributes to the efficiency \n",
    " and speed of NumPy operations.\n",
    "\n",
    "The ndarray object in NumPy represents a multidimensional, homogeneous array of fixed-size items. \n",
    "The elements in the array are stored in a contiguous block of memory, and the information about the shape, \n",
    "data type, and strides is stored in a separate data structure. \n",
    "The contiguous memory layout allows for efficient access and manipulation of array elements.\n",
    "\"\"\"\n",
    "\n",
    "\n",
    "import numpy as np\n",
    "\n",
    "# Creating a NumPy array\n",
    "arr = np.array([[21,22,25,67],\n",
    "                [34,35,65,66],\n",
    "                [22,24,67,45]])\n",
    "\n",
    "# Checking the memory layout\n",
    "#flags['C_CONTIGUOUS'] attribute checks whether the array is stored in C-style contiguous memory\n",
    "print(arr.flags['C_CONTIGUOUS']) "
   ]
  },
  {
   "cell_type": "code",
   "execution_count": 5,
   "id": "cf2741bf",
   "metadata": {},
   "outputs": [
    {
     "name": "stdout",
     "output_type": "stream",
     "text": [
      "the l1 data type is =  <class 'list'>\n",
      "the arr data type is =  <class 'numpy.ndarray'>\n"
     ]
    }
   ],
   "source": [
    "\"\"\"\n",
    "The array object in NumPy is called ndarray\n",
    "Arrays are very frequently used in data science, where speed and resources are very important.\n",
    "\"\"\"\n",
    "import numpy as np \n",
    "list1=[12,14,15,67,55]\n",
    "print(\"the l1 data type is = \",type(list1))\n",
    "arr=np.array(list1)\n",
    "print(\"the arr data type is = \",type(arr))"
   ]
  },
  {
   "cell_type": "markdown",
   "id": "4f464bae",
   "metadata": {},
   "source": [
    "# #ch02 basics"
   ]
  },
  {
   "cell_type": "code",
   "execution_count": 8,
   "id": "23950af8",
   "metadata": {},
   "outputs": [
    {
     "data": {
      "text/plain": [
       "'\\nin this chaper cover basic of scalar(single quantity),vector(1d array),matrix(2d array) and \\ncovers 3d array (matrix of matrixes), \\nnd array, and conversion 1d to 2d array and vice versa \\nndarray.ndim, ndarray.size, ndarray.shape\\nnp.array(), np.zeros(), np.ones(), np.empty(), np.arange(), np.linspace(), dtype (data types)\\n\\n'"
      ]
     },
     "execution_count": 8,
     "metadata": {},
     "output_type": "execute_result"
    }
   ],
   "source": [
    "\"\"\"\n",
    "in this chaper cover basic of scalar(single quantity),vector(1d array),matrix(2d array) and \n",
    "covers 3d array (matrix of matrixes), \n",
    "nd array, and conversion 1d to 2d array and vice versa \n",
    "ndarray.ndim, ndarray.size, ndarray.shape\n",
    "np.array(), np.zeros(), np.ones(), np.empty(), np.arange(), np.linspace(), dtype (data types)\n",
    "\n",
    "\"\"\""
   ]
  },
  {
   "cell_type": "code",
   "execution_count": 9,
   "id": "a8fb553d",
   "metadata": {},
   "outputs": [
    {
     "name": "stdout",
     "output_type": "stream",
     "text": [
      "20\n",
      "<class 'int'>\n",
      "20\n",
      "<class 'numpy.ndarray'>\n",
      "0\n",
      "()\n",
      "1\n"
     ]
    }
   ],
   "source": [
    "#scalar it has signle quantity has no dimensions (dimension =0)\n",
    "\n",
    "import numpy as np \n",
    "\n",
    "a=20\n",
    "arr=np.array(a)\n",
    "#printing a value \n",
    "print(a)\n",
    "print(type(a))\n",
    "#printing arr value \n",
    "print(arr)\n",
    "print(type(arr))\n",
    "print(arr.ndim) #print the dimension of numpy array \n",
    "print(arr.shape) #print the shape of array (row,columns) in tuple format\n",
    "print(arr.size) # print total number of elements present in array "
   ]
  },
  {
   "cell_type": "code",
   "execution_count": 10,
   "id": "3a949021",
   "metadata": {},
   "outputs": [
    {
     "name": "stdout",
     "output_type": "stream",
     "text": [
      "[12, 15, 34, 67, 32, 85]\n",
      "<class 'list'>\n",
      "[12 15 34 67 32 85]\n",
      "<class 'numpy.ndarray'>\n",
      "1\n",
      "(6,)\n",
      "6\n"
     ]
    }
   ],
   "source": [
    "#vector it has signle direction has one dimension (dimension =1) either row or columns vectors\n",
    "#in numpy it is neither a row vector nor a column vector by default. It is just a one-dimensional array.\n",
    "#its dimension is 1\n",
    "\n",
    "import numpy as np \n",
    "\n",
    "a=[12,15,34,67,32,85]\n",
    "arr=np.array(a)\n",
    "#printing a value \n",
    "print(a)\n",
    "print(type(a))\n",
    "#printing arr value \n",
    "print(arr)\n",
    "print(type(arr))\n",
    "print(arr.ndim) #print the dimension of numpy array \n",
    "print(arr.shape) #print the shape of array (row,columns) in tuple format\n",
    "print(arr.size) # print total number of elements present in array "
   ]
  },
  {
   "cell_type": "code",
   "execution_count": 11,
   "id": "79c74622",
   "metadata": {},
   "outputs": [
    {
     "name": "stdout",
     "output_type": "stream",
     "text": [
      "Original array:\n",
      "[12 15 34 67 32 85]\n",
      "\n",
      "Row vector:\n",
      "[[12 15 34 67 32 85]]\n",
      "<class 'numpy.ndarray'>\n",
      "2\n",
      "(1, 6)\n",
      "6\n",
      "\n",
      "Column vector:\n",
      "[[12]\n",
      " [15]\n",
      " [34]\n",
      " [67]\n",
      " [32]\n",
      " [85]]\n",
      "<class 'numpy.ndarray'>\n",
      "2\n",
      "(6, 1)\n",
      "6\n"
     ]
    }
   ],
   "source": [
    "#However, if you want to explicitly convert it to a row or column vector, you can use the reshape method. For example:\n",
    "#now its dimension will be 2 \n",
    "import numpy as np\n",
    "\n",
    "a = [12, 15, 34, 67, 32, 85]\n",
    "print(\"Original array:\")\n",
    "print(arr)\n",
    "\n",
    "#convert to np array\n",
    "arr = np.array(a)\n",
    "\n",
    "# Convert to a row vector\n",
    "row_vector = arr.reshape(1, -1)\n",
    "print(\"\\nRow vector:\")\n",
    "print(row_vector)\n",
    "print(type(row_vector))\n",
    "print(row_vector.ndim) #print the dimension of numpy array \n",
    "print(row_vector.shape) #print the shape of array (row,columns) in tuple format\n",
    "print(row_vector.size) # print total number of elements present in array \n",
    "\n",
    "# Convert to a column vector\n",
    "column_vector = arr.reshape(-1, 1)\n",
    "print(\"\\nColumn vector:\")\n",
    "print(column_vector)\n",
    "print(type(column_vector))\n",
    "print(column_vector.ndim) #print the dimension of numpy array \n",
    "print(column_vector.shape) #print the shape of array (row,columns) in tuple format\n",
    "print(column_vector.size) # print total number of elements present in array \n",
    "\n"
   ]
  },
  {
   "cell_type": "code",
   "execution_count": 12,
   "id": "4baa71a1",
   "metadata": {},
   "outputs": [
    {
     "name": "stdout",
     "output_type": "stream",
     "text": [
      "[[1 2 3]\n",
      " [4 5 6]\n",
      " [7 8 9]]\n",
      "\n",
      "\n",
      "printing another matrix\n",
      "\n",
      " \n",
      "[[31 23 43]\n",
      " [94 55 86]\n",
      " [77 88 91]\n",
      " [34 65 78]]\n",
      "\n",
      "the type of matix is = ndarray\n",
      "the matrix dimension is =  2\n",
      "matrix shape in tuple =  (4, 3)\n",
      "elements present in matrix is =  12\n",
      "printing matrix row and columns values \n",
      "row =  4\n",
      "col =  3\n"
     ]
    }
   ],
   "source": [
    "#matrix it has two direction called row and columns vectors, it has dimension 2\n",
    "#in numpy it is neither a row vector nor a column vector by default. It is just a one-dimensional array.\n",
    "#its dimension is 2 it has both rows and colums more than 1 \n",
    "#note if row =1 columns more than one than it will be colummn matrix (1X6) in previous example\n",
    "#note if row =morethan one  columns =1 than it will be colummn matrix (6X1) in previous example \n",
    "\n",
    "#2d matrix \n",
    "\n",
    "import numpy as np\n",
    "\n",
    "# Using np.array with a list of lists\n",
    "matrix = np.array([\n",
    "                    [1, 2, 3],\n",
    "                    [4, 5, 6], \n",
    "                    [7, 8, 9]\n",
    "                ])\n",
    "\n",
    "print(matrix)\n",
    "\n",
    "\n",
    "print(\"\\n\\nprinting another matrix\\n\\n \")\n",
    "# Using np.array with a list of lists\n",
    "matrix = np.array([[31, 23, 43], [94, 55, 86], [77, 88, 91],[34,65,78]])\n",
    "\n",
    "print(matrix)\n",
    "print(\"\\nthe type of matix is =\",type(matrix).__name__)\n",
    "print(\"the matrix dimension is = \",matrix.ndim) #print the dimension of numpy array \n",
    "print(\"matrix shape in tuple = \",matrix.shape) #print the shape of array (row,columns) in tuple format\n",
    "print(\"elements present in matrix is = \",matrix.size) # print total number of elements present in array \n",
    "\n",
    "print(\"printing matrix row and columns values \")\n",
    "print(\"row = \",matrix.shape[0])\n",
    "print(\"col = \",matrix.shape[1])\n"
   ]
  },
  {
   "cell_type": "code",
   "execution_count": 13,
   "id": "2756cad5",
   "metadata": {},
   "outputs": [
    {
     "name": "stdout",
     "output_type": "stream",
     "text": [
      "[[[0. 0. 0. 0.]\n",
      "  [0. 0. 0. 0.]\n",
      "  [0. 0. 0. 0.]]\n",
      "\n",
      " [[0. 0. 0. 0.]\n",
      "  [0. 0. 0. 0.]\n",
      "  [0. 0. 0. 0.]]\n",
      "\n",
      " [[0. 0. 0. 0.]\n",
      "  [0. 0. 0. 0.]\n",
      "  [0. 0. 0. 0.]]]\n",
      "\n",
      "the type of matix is = ndarray\n",
      "the matrix dimension is =  3\n",
      "matrix shape in tuple =  (3, 3, 4)\n",
      "elements present in matrix is =  36\n"
     ]
    }
   ],
   "source": [
    "#creating 3 dimension using np.zeros()\n",
    "import numpy as np\n",
    "\n",
    "# Creating a 3-dimensional matrix filled with zeros\n",
    "shape = (3, 3, 4)  # Specify the size of each dimension\n",
    "matrix = np.zeros(shape)\n",
    "\n",
    "print(matrix)\n",
    "print(\"\\nthe type of matix is =\",type(matrix).__name__)\n",
    "print(\"the matrix dimension is = \",matrix.ndim) #print the dimension of numpy array \n",
    "print(\"matrix shape in tuple = \",matrix.shape) #print the shape of array (row,columns) in tuple format\n",
    "print(\"elements present in matrix is = \",matrix.size) # print total number of elements present in array \n",
    "\n"
   ]
  },
  {
   "cell_type": "markdown",
   "id": "c87a6ece",
   "metadata": {},
   "source": [
    "# matrix creation np.array(), np.zeros(), np.ones(), np.empty(), np.arange(), np.linspace()"
   ]
  },
  {
   "cell_type": "code",
   "execution_count": 14,
   "id": "12f48e75",
   "metadata": {},
   "outputs": [
    {
     "name": "stdout",
     "output_type": "stream",
     "text": [
      "[[1 2 3]\n",
      " [4 5 6]\n",
      " [7 8 9]]\n"
     ]
    }
   ],
   "source": [
    "#create 3X3 matrix with np.array()\n",
    "import numpy as np \n",
    "\n",
    "matrix=np.array([[1,2,3],[4,5,6],[7,8,9]])\n",
    "print(matrix)"
   ]
  },
  {
   "cell_type": "code",
   "execution_count": 15,
   "id": "9e9553fe",
   "metadata": {},
   "outputs": [
    {
     "name": "stdout",
     "output_type": "stream",
     "text": [
      "[[0. 0. 0.]\n",
      " [0. 0. 0.]\n",
      " [0. 0. 0.]]\n",
      "\n",
      "\n",
      "\n",
      "[[0. 0. 0.]\n",
      " [0. 0. 0.]\n",
      " [0. 0. 0.]\n",
      " [0. 0. 0.]]\n"
     ]
    }
   ],
   "source": [
    "#create 3X3 matrix with np.zeros() it will give all the elements zero\n",
    "#shapes should give in tuple format\n",
    "\n",
    "import numpy as np \n",
    "#ex1\n",
    "matrix=np.zeros((3,3))\n",
    "print(matrix)\n",
    "print(\"\\n\\n\")\n",
    "#ex2\n",
    "shape=(4,3)\n",
    "mat=np.zeros(shape)\n",
    "print(mat)"
   ]
  },
  {
   "cell_type": "code",
   "execution_count": 16,
   "id": "9063c37a",
   "metadata": {},
   "outputs": [
    {
     "name": "stdout",
     "output_type": "stream",
     "text": [
      "[[1. 1. 1.]\n",
      " [1. 1. 1.]\n",
      " [1. 1. 1.]]\n",
      "\n",
      "\n",
      "\n",
      "[[1. 1. 1.]\n",
      " [1. 1. 1.]\n",
      " [1. 1. 1.]\n",
      " [1. 1. 1.]]\n"
     ]
    }
   ],
   "source": [
    "#create 3X3 matrix with np.ones() it will give all the elements one\n",
    "#shapes should give in tuple format\n",
    "\n",
    "import numpy as np \n",
    "#ex1\n",
    "matrix=np.ones((3,3))\n",
    "print(matrix)\n",
    "print(\"\\n\\n\")\n",
    "#ex2\n",
    "shape=(4,3)\n",
    "mat=np.ones(shape)\n",
    "print(mat)"
   ]
  },
  {
   "cell_type": "code",
   "execution_count": 17,
   "id": "098afa6d",
   "metadata": {},
   "outputs": [
    {
     "name": "stdout",
     "output_type": "stream",
     "text": [
      "[[[[[1 2 3 4]]]]]\n",
      "number of dimensions : 5\n"
     ]
    }
   ],
   "source": [
    "#creating a 5 dimension array \n",
    "import numpy as np\n",
    "\n",
    "arr = np.array([1, 2, 3, 4], ndmin=5)\n",
    "\n",
    "print(arr)\n",
    "print('number of dimensions :', arr.ndim)"
   ]
  },
  {
   "cell_type": "code",
   "execution_count": 18,
   "id": "ee32775c",
   "metadata": {},
   "outputs": [
    {
     "name": "stdout",
     "output_type": "stream",
     "text": [
      "[[4.88059032e-313 1.99467604e-312 1.82491638e-312]\n",
      " [1.86735630e-312 7.21478569e-313 1.65515672e-312]]\n"
     ]
    }
   ],
   "source": [
    "# Creating an empty array with shape (2, 3)\n",
    "#it will contains some garbage values \n",
    "import numpy as np\n",
    "\n",
    "# Creating an empty array with shape (2, 3)\n",
    "empty_array = np.empty((2, 3))\n",
    "\n",
    "print(empty_array)"
   ]
  },
  {
   "cell_type": "code",
   "execution_count": 19,
   "id": "e627b888",
   "metadata": {},
   "outputs": [
    {
     "name": "stdout",
     "output_type": "stream",
     "text": [
      "[[0.00000000e+000 1.58101007e-322 0.00000000e+000 0.00000000e+000]\n",
      " [            nan 4.94065646e-324 9.48606040e-321 4.94065646e-324]\n",
      " [1.30438919e-311 1.30438919e-311 1.30436965e-311 0.00000000e+000]\n",
      " [0.00000000e+000 9.48606040e-321 0.00000000e+000 1.30437745e-311]\n",
      " [9.48606040e-321 1.30438914e-311 1.23516411e-322 2.12199579e-314]]\n"
     ]
    }
   ],
   "source": [
    "#another way to create \n",
    "#order: Specifies whether to store the array in C-style (row-major) or Fortran-style (column-major) order. Optional, \n",
    "#and if not specified, it defaults to 'C'.\n",
    "#\n",
    "#\n",
    "import numpy \n",
    "shape=(5,4)\n",
    "temp=numpy.empty(shape, dtype=float, order='C')\n",
    "print(temp)"
   ]
  },
  {
   "cell_type": "code",
   "execution_count": 20,
   "id": "581d2e70",
   "metadata": {},
   "outputs": [
    {
     "name": "stdout",
     "output_type": "stream",
     "text": [
      "[ 1  2  3  4  5  6  7  8  9 10]\n",
      "[ 0  1  2  3  4  5  6  7  8  9 10]\n",
      "[11 12 13 14 15 16 17 18 19 20 21]\n",
      "[11 13 15 17 19 21]\n",
      "[11 14 17 20]\n"
     ]
    }
   ],
   "source": [
    "#create arrays with np.arange(start:end:step) \n",
    "#end ends with n-1 ex: in this code end =11, but it stops at 10\n",
    "#step is default is 1. if you want we can change step \n",
    "import numpy as np\n",
    "\n",
    "arange_array=np.arange(1,11)\n",
    "print(arange_array)\n",
    "\n",
    "arange_array=np.arange(11)\n",
    "print(arange_array)\n",
    "\n",
    "arange_array=np.arange(11,22)\n",
    "print(arange_array)\n",
    "\n",
    "arange_array=np.arange(11,22,2)\n",
    "print(arange_array)\n",
    "\n",
    "arange_array=np.arange(11,22,3)\n",
    "print(arange_array)"
   ]
  },
  {
   "cell_type": "code",
   "execution_count": 21,
   "id": "f7c727bc",
   "metadata": {},
   "outputs": [
    {
     "name": "stdout",
     "output_type": "stream",
     "text": [
      "[ 1  2  3  4  5  6  7  8  9 10]\n"
     ]
    }
   ],
   "source": [
    "#reshape the np.range() values \n",
    "arange_array=np.arange(1,11)\n",
    "print(arange_array)\n"
   ]
  },
  {
   "cell_type": "code",
   "execution_count": 22,
   "id": "dca385e5",
   "metadata": {},
   "outputs": [
    {
     "name": "stdout",
     "output_type": "stream",
     "text": [
      "[[ 1  2  3  4  5]\n",
      " [ 6  7  8  9 10]]\n"
     ]
    }
   ],
   "source": [
    "arange_array=np.arange(1,11).reshape((2,5))\n",
    "print(arange_array)"
   ]
  },
  {
   "cell_type": "code",
   "execution_count": 23,
   "id": "3fc427f9",
   "metadata": {},
   "outputs": [
    {
     "name": "stdout",
     "output_type": "stream",
     "text": [
      "[[ 1  2]\n",
      " [ 3  4]\n",
      " [ 5  6]\n",
      " [ 7  8]\n",
      " [ 9 10]]\n"
     ]
    }
   ],
   "source": [
    "arange_array=np.arange(1,11).reshape((5,2))\n",
    "print(arange_array)\n"
   ]
  },
  {
   "cell_type": "code",
   "execution_count": null,
   "id": "2ac697a0",
   "metadata": {},
   "outputs": [],
   "source": []
  }
 ],
 "metadata": {
  "kernelspec": {
   "display_name": "Python 3 (ipykernel)",
   "language": "python",
   "name": "python3"
  },
  "language_info": {
   "codemirror_mode": {
    "name": "ipython",
    "version": 3
   },
   "file_extension": ".py",
   "mimetype": "text/x-python",
   "name": "python",
   "nbconvert_exporter": "python",
   "pygments_lexer": "ipython3",
   "version": "3.11.5"
  }
 },
 "nbformat": 4,
 "nbformat_minor": 5
}
