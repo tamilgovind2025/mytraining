{
 "cells": [
  {
   "cell_type": "raw",
   "id": "98083d17",
   "metadata": {},
   "source": [
    "str.lower(), .str.upper(), .str.title(): Convert strings to lowercase, uppercase, or title case (first letter capitalized)."
   ]
  },
  {
   "cell_type": "code",
   "execution_count": 1,
   "id": "aacdec62",
   "metadata": {},
   "outputs": [
    {
     "name": "stdout",
     "output_type": "stream",
     "text": [
      "      Name           City\n",
      "0    alice       NEW YORK\n",
      "1      bob    LOS ANGELES\n",
      "2  charlie  SAN FRANCISCO\n"
     ]
    }
   ],
   "source": [
    "import pandas as pd\n",
    "\n",
    "# Create a DataFrame\n",
    "data = {'Name': ['Alice', 'Bob', 'Charlie'],\n",
    "        'City': ['New York', 'Los Angeles', 'San Francisco']}\n",
    "df = pd.DataFrame(data)\n",
    "\n",
    "# Convert 'Name' column to lowercase\n",
    "df['Name'] = df['Name'].str.lower()\n",
    "\n",
    "# Convert 'City' column to uppercase\n",
    "df['City'] = df['City'].str.upper()\n",
    "\n",
    "print(df)\n"
   ]
  },
  {
   "cell_type": "raw",
   "id": "070d09d9",
   "metadata": {},
   "source": [
    "str.strip(), .str.lstrip(), .str.rstrip(): Remove leading and trailing whitespaces.\n",
    "\n"
   ]
  },
  {
   "cell_type": "code",
   "execution_count": 2,
   "id": "6668d7e8",
   "metadata": {},
   "outputs": [
    {
     "name": "stdout",
     "output_type": "stream",
     "text": [
      "      Name           City\n",
      "0    alice       NEW YORK\n",
      "1      bob    LOS ANGELES\n",
      "2  charlie  SAN FRANCISCO\n"
     ]
    }
   ],
   "source": [
    "# Strip whitespaces from 'Name' column\n",
    "df['Name'] = df['Name'].str.strip()\n",
    "\n",
    "print(df)\n"
   ]
  },
  {
   "cell_type": "raw",
   "id": "f0a180e2",
   "metadata": {},
   "source": [
    "str.replace(): Replace occurrences of a pattern with another string.\n"
   ]
  },
  {
   "cell_type": "code",
   "execution_count": 4,
   "id": "848131e5",
   "metadata": {},
   "outputs": [
    {
     "name": "stdout",
     "output_type": "stream",
     "text": [
      "      Name           City\n",
      "0    alice            Old\n",
      "1      bob    LOS ANGELES\n",
      "2  charlie  SAN FRANCISCO\n"
     ]
    }
   ],
   "source": [
    "# Replace 'New' with 'Old' in 'City' column\n",
    "df['City'] = df['City'].str.replace('NEW YORK', 'Old')\n",
    "\n",
    "print(df)\n"
   ]
  },
  {
   "cell_type": "raw",
   "id": "72fd5b9b",
   "metadata": {},
   "source": [
    ".str.contains(): Check if a pattern is contained in each string"
   ]
  },
  {
   "cell_type": "code",
   "execution_count": 5,
   "id": "72c9e685",
   "metadata": {},
   "outputs": [
    {
     "name": "stdout",
     "output_type": "stream",
     "text": [
      "      Name           City  Contains_a\n",
      "0    alice            Old        True\n",
      "1      bob    LOS ANGELES       False\n",
      "2  charlie  SAN FRANCISCO        True\n"
     ]
    }
   ],
   "source": [
    "# Check if 'a' is contained in 'Name' column\n",
    "df['Contains_a'] = df['Name'].str.contains('a')\n",
    "\n",
    "print(df)\n"
   ]
  },
  {
   "cell_type": "raw",
   "id": "57df7da6",
   "metadata": {},
   "source": [
    "str.split(): Split each string into a list of substrings."
   ]
  },
  {
   "cell_type": "code",
   "execution_count": 6,
   "id": "b60cb086",
   "metadata": {},
   "outputs": [
    {
     "name": "stdout",
     "output_type": "stream",
     "text": [
      "      Name           City  Contains_a         City_List\n",
      "0    alice            Old        True             [Old]\n",
      "1      bob    LOS ANGELES       False    [LOS, ANGELES]\n",
      "2  charlie  SAN FRANCISCO        True  [SAN, FRANCISCO]\n"
     ]
    }
   ],
   "source": [
    "# Split 'City' column by whitespace\n",
    "df['City_List'] = df['City'].str.split()\n",
    "\n",
    "print(df)\n"
   ]
  },
  {
   "cell_type": "raw",
   "id": "1030930f",
   "metadata": {},
   "source": [
    ".str.join(): Join the elements of each string list into a single string."
   ]
  },
  {
   "cell_type": "code",
   "execution_count": 8,
   "id": "db5bbe00",
   "metadata": {},
   "outputs": [
    {
     "name": "stdout",
     "output_type": "stream",
     "text": [
      "      Name           City  Contains_a         City_List    City_Joined\n",
      "0    alice            Old        True             [Old]            Old\n",
      "1      bob    LOS ANGELES       False    [LOS, ANGELES]    LOS ANGELES\n",
      "2  charlie  SAN FRANCISCO        True  [SAN, FRANCISCO]  SAN FRANCISCO\n"
     ]
    }
   ],
   "source": [
    "# Join elements of 'City_List' column with comma\n",
    "df['City_Joined'] = df['City_List'].str.join(' ')\n",
    "\n",
    "print(df)\n"
   ]
  },
  {
   "cell_type": "markdown",
   "id": "926a6672",
   "metadata": {},
   "source": [
    "# .str.startswith(), .str.endswith(): Check if strings start or end with a specified substring."
   ]
  },
  {
   "cell_type": "code",
   "execution_count": 9,
   "id": "bc703013",
   "metadata": {},
   "outputs": [
    {
     "name": "stdout",
     "output_type": "stream",
     "text": [
      "      Name           City  Contains_a         City_List    City_Joined  \\\n",
      "0    alice            Old        True             [Old]            Old   \n",
      "1      bob    LOS ANGELES       False    [LOS, ANGELES]    LOS ANGELES   \n",
      "2  charlie  SAN FRANCISCO        True  [SAN, FRANCISCO]  SAN FRANCISCO   \n",
      "\n",
      "   Starts_with_A  Ends_with_o  \n",
      "0          False        False  \n",
      "1          False        False  \n",
      "2          False        False  \n"
     ]
    }
   ],
   "source": [
    "# Check if 'Name' starts with 'A'\n",
    "df['Starts_with_A'] = df['Name'].str.startswith('A')\n",
    "\n",
    "# Check if 'City' ends with 'o'\n",
    "df['Ends_with_o'] = df['City'].str.endswith('o')\n",
    "\n",
    "print(df)\n"
   ]
  },
  {
   "cell_type": "raw",
   "id": "7b4ba826",
   "metadata": {},
   "source": [
    ".str.extract(), .str.extractall(): Extract substrings using regular expressions."
   ]
  },
  {
   "cell_type": "code",
   "execution_count": 11,
   "id": "1df72e67",
   "metadata": {},
   "outputs": [
    {
     "name": "stdout",
     "output_type": "stream",
     "text": [
      "      Name           City  Contains_a         City_List    City_Joined  \\\n",
      "0    alice            Old        True             [Old]            Old   \n",
      "1      bob    LOS ANGELES       False    [LOS, ANGELES]    LOS ANGELES   \n",
      "2  charlie  SAN FRANCISCO        True  [SAN, FRANCISCO]  SAN FRANCISCO   \n",
      "\n",
      "   Starts_with_A  Ends_with_o First_Letter  \n",
      "0          False        False            a  \n",
      "1          False        False            b  \n",
      "2          False        False            c  \n"
     ]
    }
   ],
   "source": [
    "# Extract first letter of 'Name' using a regex pattern\n",
    "df['First_Letter'] = df['Name'].str.extract(r'^(\\w)')\n",
    "\n",
    "print(df)\n"
   ]
  },
  {
   "cell_type": "raw",
   "id": "4a50dbd4",
   "metadata": {},
   "source": [
    ".str.len(): Get the length of each string."
   ]
  },
  {
   "cell_type": "code",
   "execution_count": 12,
   "id": "2807cbab",
   "metadata": {},
   "outputs": [
    {
     "name": "stdout",
     "output_type": "stream",
     "text": [
      "      Name           City  Contains_a         City_List    City_Joined  \\\n",
      "0    alice            Old        True             [Old]            Old   \n",
      "1      bob    LOS ANGELES       False    [LOS, ANGELES]    LOS ANGELES   \n",
      "2  charlie  SAN FRANCISCO        True  [SAN, FRANCISCO]  SAN FRANCISCO   \n",
      "\n",
      "   Starts_with_A  Ends_with_o First_Letter  Name_Length  \n",
      "0          False        False            a            5  \n",
      "1          False        False            b            3  \n",
      "2          False        False            c            7  \n"
     ]
    }
   ],
   "source": [
    "# Get the length of 'Name' column\n",
    "df['Name_Length'] = df['Name'].str.len()\n",
    "\n",
    "print(df)\n"
   ]
  },
  {
   "cell_type": "raw",
   "id": "fe7dcc46",
   "metadata": {},
   "source": [
    ".str.split() with expand: Split strings into multiple columns."
   ]
  },
  {
   "cell_type": "code",
   "execution_count": 13,
   "id": "e86f080a",
   "metadata": {},
   "outputs": [
    {
     "name": "stdout",
     "output_type": "stream",
     "text": [
      "      Name           City  Contains_a         City_List    City_Joined  \\\n",
      "0    alice            Old        True             [Old]            Old   \n",
      "1      bob    LOS ANGELES       False    [LOS, ANGELES]    LOS ANGELES   \n",
      "2  charlie  SAN FRANCISCO        True  [SAN, FRANCISCO]  SAN FRANCISCO   \n",
      "\n",
      "   Starts_with_A  Ends_with_o First_Letter  Name_Length City_Part1 City_Part2  \n",
      "0          False        False            a            5        Old       None  \n",
      "1          False        False            b            3        LOS    ANGELES  \n",
      "2          False        False            c            7        SAN  FRANCISCO  \n"
     ]
    }
   ],
   "source": [
    "# Split 'City' column by whitespace into two separate columns\n",
    "df[['City_Part1', 'City_Part2']] = df['City'].str.split(expand=True)\n",
    "\n",
    "print(df)\n"
   ]
  },
  {
   "cell_type": "code",
   "execution_count": null,
   "id": "53f9dfc7",
   "metadata": {},
   "outputs": [],
   "source": [
    ".str.cat(): Concatenate strings in each element."
   ]
  },
  {
   "cell_type": "code",
   "execution_count": 14,
   "id": "4a857804",
   "metadata": {},
   "outputs": [
    {
     "name": "stdout",
     "output_type": "stream",
     "text": [
      "      Name           City  Contains_a         City_List    City_Joined  \\\n",
      "0    alice            Old        True             [Old]            Old   \n",
      "1      bob    LOS ANGELES       False    [LOS, ANGELES]    LOS ANGELES   \n",
      "2  charlie  SAN FRANCISCO        True  [SAN, FRANCISCO]  SAN FRANCISCO   \n",
      "\n",
      "   Starts_with_A  Ends_with_o First_Letter  Name_Length City_Part1 City_Part2  \\\n",
      "0          False        False            a            5        Old       None   \n",
      "1          False        False            b            3        LOS    ANGELES   \n",
      "2          False        False            c            7        SAN  FRANCISCO   \n",
      "\n",
      "               Name_City  \n",
      "0              alice Old  \n",
      "1        bob LOS ANGELES  \n",
      "2  charlie SAN FRANCISCO  \n"
     ]
    }
   ],
   "source": [
    "\n",
    "# Concatenate 'Name' and 'City' with a space in between\n",
    "df['Name_City'] = df['Name'].str.cat(df['City'], sep=' ')\n",
    "\n",
    "print(df)"
   ]
  },
  {
   "cell_type": "markdown",
   "id": "5a462aba",
   "metadata": {},
   "source": [
    "# .str.pad(): Pad strings with specified characters."
   ]
  },
  {
   "cell_type": "code",
   "execution_count": 15,
   "id": "67756a47",
   "metadata": {},
   "outputs": [
    {
     "name": "stdout",
     "output_type": "stream",
     "text": [
      "      Name           City  Contains_a         City_List    City_Joined  \\\n",
      "0    alice            Old        True             [Old]            Old   \n",
      "1      bob    LOS ANGELES       False    [LOS, ANGELES]    LOS ANGELES   \n",
      "2  charlie  SAN FRANCISCO        True  [SAN, FRANCISCO]  SAN FRANCISCO   \n",
      "\n",
      "   Starts_with_A  Ends_with_o First_Letter  Name_Length City_Part1 City_Part2  \\\n",
      "0          False        False            a            5        Old       None   \n",
      "1          False        False            b            3        LOS    ANGELES   \n",
      "2          False        False            c            7        SAN  FRANCISCO   \n",
      "\n",
      "               Name_City Padded_Name  \n",
      "0              alice Old  alice-----  \n",
      "1        bob LOS ANGELES  bob-------  \n",
      "2  charlie SAN FRANCISCO  charlie---  \n"
     ]
    }
   ],
   "source": [
    "# Pad 'Name' column with '-' to make each string length 10\n",
    "df['Padded_Name'] = df['Name'].str.pad(width=10, side='right', fillchar='-')\n",
    "\n",
    "print(df)\n"
   ]
  },
  {
   "cell_type": "code",
   "execution_count": 16,
   "id": "2e366691",
   "metadata": {},
   "outputs": [
    {
     "name": "stdout",
     "output_type": "stream",
     "text": [
      "      Name           City  Contains_a         City_List    City_Joined  \\\n",
      "0    alice            Old        True             [Old]            Old   \n",
      "1      bob    LOS ANGELES       False    [LOS, ANGELES]    LOS ANGELES   \n",
      "2  charlie  SAN FRANCISCO        True  [SAN, FRANCISCO]  SAN FRANCISCO   \n",
      "\n",
      "   Starts_with_A  Ends_with_o First_Letter  Name_Length City_Part1 City_Part2  \\\n",
      "0          False        False            a            5        Old       None   \n",
      "1          False        False            b            3        LOS    ANGELES   \n",
      "2          False        False            c            7        SAN  FRANCISCO   \n",
      "\n",
      "               Name_City Padded_Name  Vowels  \n",
      "0              alice Old  alice-----  [a, e]  \n",
      "1        bob LOS ANGELES  bob-------      []  \n",
      "2  charlie SAN FRANCISCO  charlie---  [a, e]  \n"
     ]
    }
   ],
   "source": [
    "#.str.findall(): Find all occurrences of a pattern or substring in each element of the string.\n",
    "\n",
    "# Find all occurrences of 'a' or 'e' in 'Name' column\n",
    "df['Vowels'] = df['Name'].str.findall(r'[ae]')\n",
    "\n",
    "print(df)"
   ]
  },
  {
   "cell_type": "code",
   "execution_count": 17,
   "id": "f1277e65",
   "metadata": {},
   "outputs": [
    {
     "name": "stdout",
     "output_type": "stream",
     "text": [
      "      Name           City  Contains_a         City_List    City_Joined  \\\n",
      "0    alice            Old        True             [Old]            Old   \n",
      "1      bob    LOS ANGELES       False    [LOS, ANGELES]    LOS ANGELES   \n",
      "2  charlie  SAN FRANCISCO        True  [SAN, FRANCISCO]  SAN FRANCISCO   \n",
      "\n",
      "   Starts_with_A  Ends_with_o First_Letter  Name_Length City_Part1 City_Part2  \\\n",
      "0          False        False            a            5        Old       None   \n",
      "1          False        False            b            3        LOS    ANGELES   \n",
      "2          False        False            c            7        SAN  FRANCISCO   \n",
      "\n",
      "               Name_City Padded_Name  Vowels  Is_Alphanumeric  \n",
      "0              alice Old  alice-----  [a, e]             True  \n",
      "1        bob LOS ANGELES  bob-------      []             True  \n",
      "2  charlie SAN FRANCISCO  charlie---  [a, e]             True  \n"
     ]
    }
   ],
   "source": [
    "#.str.isnumeric(), .str.isalpha(), .str.isalnum()\n",
    "# Check if 'Name' column consists of alphanumeric characters\n",
    "df['Is_Alphanumeric'] = df['Name'].str.isalnum()\n",
    "\n",
    "print(df)"
   ]
  },
  {
   "cell_type": "code",
   "execution_count": 18,
   "id": "0da5a347",
   "metadata": {},
   "outputs": [
    {
     "name": "stdout",
     "output_type": "stream",
     "text": [
      "      Name           City  Contains_a         City_List    City_Joined  \\\n",
      "0    alice            Old        True             [Old]            Old   \n",
      "1      bob    LOS ANGELES       False    [LOS, ANGELES]    LOS ANGELES   \n",
      "2  charlie  SAN FRANCISCO        True  [SAN, FRANCISCO]  SAN FRANCISCO   \n",
      "\n",
      "   Starts_with_A  Ends_with_o First_Letter  Name_Length City_Part1 City_Part2  \\\n",
      "0          False        False            a            5        Old       None   \n",
      "1          False        False            b            3        LOS    ANGELES   \n",
      "2          False        False            c            7        SAN  FRANCISCO   \n",
      "\n",
      "               Name_City Padded_Name  Vowels  Is_Alphanumeric  \n",
      "0              alice Old  alice-----  [a, e]             True  \n",
      "1        bob LOS ANGELES  bob-------      []             True  \n",
      "2  charlie SAN FRANCISCO  charlie---  [a, e]             True  \n"
     ]
    }
   ],
   "source": [
    "#.str.split() with n parameter: Split strings into a maximum of n parts.\n",
    "\n",
    "# Split 'City' column by whitespace into two separate columns, max split of 1\n",
    "df[['City_Part1', 'City_Part2']] = df['City'].str.split(n=1, expand=True)\n",
    "\n",
    "print(df)"
   ]
  },
  {
   "cell_type": "code",
   "execution_count": 19,
   "id": "426874d4",
   "metadata": {},
   "outputs": [
    {
     "name": "stdout",
     "output_type": "stream",
     "text": [
      "      Name           City  Contains_a         City_List    City_Joined  \\\n",
      "0    alice            Old        True             [Old]            Old   \n",
      "1      bob    LOS ANGELES       False    [LOS, ANGELES]    LOS ANGELES   \n",
      "2  charlie  SAN FRANCISCO        True  [SAN, FRANCISCO]  SAN FRANCISCO   \n",
      "\n",
      "   Starts_with_A  Ends_with_o First_Letter  Name_Length City_Part1 City_Part2  \\\n",
      "0          False        False            a            5        Old       None   \n",
      "1          False        False            b            3        LOS    ANGELES   \n",
      "2          False        False            c            7        SAN  FRANCISCO   \n",
      "\n",
      "               Name_City Padded_Name  Vowels  Is_Alphanumeric City_First_Three  \n",
      "0              alice Old  alice-----  [a, e]             True              Old  \n",
      "1        bob LOS ANGELES  bob-------      []             True              LOS  \n",
      "2  charlie SAN FRANCISCO  charlie---  [a, e]             True              SAN  \n"
     ]
    }
   ],
   "source": [
    "#.str.slice(): Extract substrings from each element of the string using slice notation.\n",
    "\n",
    "# Extract the first three characters from 'City' column\n",
    "df['City_First_Three'] = df['City'].str.slice(0, 3)\n",
    "\n",
    "print(df)"
   ]
  },
  {
   "cell_type": "raw",
   "id": "710a5a7a",
   "metadata": {},
   "source": [
    "str.partition(): Split the string at the first occurrence of a separator and return a tuple containing the part before the separator, the separator itself, and the part after the separator.\n"
   ]
  },
  {
   "cell_type": "code",
   "execution_count": 20,
   "id": "280cdf31",
   "metadata": {},
   "outputs": [
    {
     "name": "stdout",
     "output_type": "stream",
     "text": [
      "      Name           City  Contains_a         City_List    City_Joined  \\\n",
      "0    alice            Old        True             [Old]            Old   \n",
      "1      bob    LOS ANGELES       False    [LOS, ANGELES]    LOS ANGELES   \n",
      "2  charlie  SAN FRANCISCO        True  [SAN, FRANCISCO]  SAN FRANCISCO   \n",
      "\n",
      "   Starts_with_A  Ends_with_o First_Letter  Name_Length City_Part1 City_Part2  \\\n",
      "0          False        False            a            5        Old              \n",
      "1          False        False            b            3        LOS    ANGELES   \n",
      "2          False        False            c            7        SAN  FRANCISCO   \n",
      "\n",
      "               Name_City Padded_Name  Vowels  Is_Alphanumeric  \\\n",
      "0              alice Old  alice-----  [a, e]             True   \n",
      "1        bob LOS ANGELES  bob-------      []             True   \n",
      "2  charlie SAN FRANCISCO  charlie---  [a, e]             True   \n",
      "\n",
      "  City_First_Three Separator  \n",
      "0              Old            \n",
      "1              LOS            \n",
      "2              SAN            \n"
     ]
    }
   ],
   "source": [
    "\n",
    "# Split 'City' column at the first space\n",
    "df[['City_Part1', 'Separator', 'City_Part2']] = df['City'].str.partition(' ')\n",
    "\n",
    "print(df)"
   ]
  },
  {
   "cell_type": "code",
   "execution_count": null,
   "id": "c20df8fe",
   "metadata": {},
   "outputs": [],
   "source": []
  }
 ],
 "metadata": {
  "kernelspec": {
   "display_name": "Python 3 (ipykernel)",
   "language": "python",
   "name": "python3"
  },
  "language_info": {
   "codemirror_mode": {
    "name": "ipython",
    "version": 3
   },
   "file_extension": ".py",
   "mimetype": "text/x-python",
   "name": "python",
   "nbconvert_exporter": "python",
   "pygments_lexer": "ipython3",
   "version": "3.11.5"
  }
 },
 "nbformat": 4,
 "nbformat_minor": 5
}
