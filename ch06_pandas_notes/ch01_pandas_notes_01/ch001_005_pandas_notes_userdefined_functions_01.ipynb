{
 "cells": [
  {
   "cell_type": "markdown",
   "id": "161a68ef",
   "metadata": {},
   "source": [
    "# apply(): Apply a function along an axis of the DataFrame."
   ]
  },
  {
   "cell_type": "code",
   "execution_count": 1,
   "id": "831e6bce",
   "metadata": {},
   "outputs": [
    {
     "name": "stdout",
     "output_type": "stream",
     "text": [
      "0     1\n",
      "1     4\n",
      "2     9\n",
      "3    16\n",
      "4    25\n",
      "Name: A, dtype: int64\n"
     ]
    }
   ],
   "source": [
    "import pandas as pd\n",
    "\n",
    "# Define a custom function\n",
    "def square(x):\n",
    "    return x ** 2\n",
    "\n",
    "# Create a DataFrame\n",
    "data = {'A': [1, 2, 3, 4, 5],\n",
    "        'B': [6, 7, 8, 9, 10]}\n",
    "df = pd.DataFrame(data)\n",
    "\n",
    "# Apply the function to each element of column 'A'\n",
    "result = df['A'].apply(square)\n",
    "print(result)\n"
   ]
  },
  {
   "cell_type": "markdown",
   "id": "e8ba72f6",
   "metadata": {},
   "source": [
    "# applymap(): Apply a function to every element of the DataFrame."
   ]
  },
  {
   "cell_type": "code",
   "execution_count": 2,
   "id": "da351694",
   "metadata": {},
   "outputs": [
    {
     "name": "stdout",
     "output_type": "stream",
     "text": [
      "    A   B\n",
      "0  11  16\n",
      "1  12  17\n",
      "2  13  18\n",
      "3  14  19\n",
      "4  15  20\n"
     ]
    },
    {
     "name": "stderr",
     "output_type": "stream",
     "text": [
      "C:\\Users\\admin\\AppData\\Local\\Temp\\ipykernel_164\\2556375136.py:6: FutureWarning: DataFrame.applymap has been deprecated. Use DataFrame.map instead.\n",
      "  result = df.applymap(add_ten)\n"
     ]
    }
   ],
   "source": [
    "# Define a custom function\n",
    "def add_ten(x):\n",
    "    return x + 10\n",
    "\n",
    "# Apply the function to every element of the DataFrame\n",
    "result = df.applymap(add_ten)\n",
    "print(result)\n"
   ]
  },
  {
   "cell_type": "markdown",
   "id": "99e3cdb3",
   "metadata": {},
   "source": [
    "# map(): Apply a function to each element of a Series."
   ]
  },
  {
   "cell_type": "code",
   "execution_count": 3,
   "id": "7dbfbd66",
   "metadata": {},
   "outputs": [
    {
     "name": "stdout",
     "output_type": "stream",
     "text": [
      "0    False\n",
      "1     True\n",
      "2    False\n",
      "3     True\n",
      "4    False\n",
      "Name: A, dtype: bool\n"
     ]
    }
   ],
   "source": [
    "# Define a custom function\n",
    "def is_even(x):\n",
    "    return x % 2 == 0\n",
    "\n",
    "# Apply the function to each element of the Series\n",
    "result = df['A'].map(is_even)\n",
    "print(result)\n"
   ]
  },
  {
   "cell_type": "markdown",
   "id": "6df9339f",
   "metadata": {},
   "source": [
    "# DataFrame.agg() and DataFrame.transform()"
   ]
  },
  {
   "cell_type": "raw",
   "id": "1dd3468e",
   "metadata": {},
   "source": [
    "DataFrame.agg() and DataFrame.transform() are powerful methods in Pandas for applying user-defined functions to DataFrames, but they have different purposes and behaviors:"
   ]
  },
  {
   "cell_type": "raw",
   "id": "7eeb7259",
   "metadata": {},
   "source": [
    "DataFrame.agg() (Aggregate):\n",
    "Applies a function that reduces the data to a single value per column or per group of columns.\n",
    "Typically used for summarizing data across columns.\n",
    "The result can be a scalar, a series, or a DataFrame."
   ]
  },
  {
   "cell_type": "code",
   "execution_count": 4,
   "id": "a01c21ba",
   "metadata": {},
   "outputs": [
    {
     "name": "stdout",
     "output_type": "stream",
     "text": [
      "A    15\n",
      "B    40\n",
      "dtype: int64\n"
     ]
    }
   ],
   "source": [
    "import pandas as pd\n",
    "\n",
    "# Create a DataFrame\n",
    "data = {'A': [1, 2, 3, 4, 5],\n",
    "        'B': [6, 7, 8, 9, 10]}\n",
    "df = pd.DataFrame(data)\n",
    "\n",
    "# Define a custom function for aggregation\n",
    "def custom_sum(x):\n",
    "    return x.sum()\n",
    "\n",
    "# Apply the custom aggregation function to each column\n",
    "result = df.agg(custom_sum)\n",
    "print(result)\n"
   ]
  },
  {
   "cell_type": "raw",
   "id": "7295f0b4",
   "metadata": {},
   "source": [
    "DataFrame.transform():\n",
    "Applies a function to each element, broadcasting the result to match the original DataFrame's shape.\n",
    "Useful for applying transformations to each element or row/column-wise operations.\n",
    "The result has the same shape as the original DataFrame."
   ]
  },
  {
   "cell_type": "code",
   "execution_count": 6,
   "id": "7e5b1d94",
   "metadata": {},
   "outputs": [
    {
     "name": "stdout",
     "output_type": "stream",
     "text": [
      "    A   B\n",
      "0   2  12\n",
      "1   4  14\n",
      "2   6  16\n",
      "3   8  18\n",
      "4  10  20\n"
     ]
    }
   ],
   "source": [
    "# Define a custom function for transformation\n",
    "def custom_multiply_by_two(x):\n",
    "    return x * 2\n",
    "\n",
    "# Apply the custom transformation function to each element\n",
    "result = df.transform(custom_multiply_by_two)\n",
    "print(result)\n"
   ]
  },
  {
   "cell_type": "markdown",
   "id": "183919e8",
   "metadata": {},
   "source": [
    "# values_counts()"
   ]
  },
  {
   "cell_type": "code",
   "execution_count": 8,
   "id": "9fd0f76c",
   "metadata": {},
   "outputs": [
    {
     "data": {
      "text/plain": [
       "0    3\n",
       "1    3\n",
       "5    2\n",
       "2    1\n",
       "6    1\n",
       "Name: count, dtype: int64"
      ]
     },
     "execution_count": 8,
     "metadata": {},
     "output_type": "execute_result"
    }
   ],
   "source": [
    "import numpy as np \n",
    "import pandas as pd \n",
    "\n",
    "s = pd.Series(np.random.randint(0, 7, size=10))\n",
    "s.value_counts()"
   ]
  },
  {
   "cell_type": "code",
   "execution_count": 9,
   "id": "32447a63",
   "metadata": {},
   "outputs": [
    {
     "data": {
      "text/plain": [
       "0    0\n",
       "1    5\n",
       "2    1\n",
       "3    0\n",
       "4    1\n",
       "5    5\n",
       "6    2\n",
       "7    0\n",
       "8    6\n",
       "9    1\n",
       "dtype: int32"
      ]
     },
     "execution_count": 9,
     "metadata": {},
     "output_type": "execute_result"
    }
   ],
   "source": [
    "s"
   ]
  },
  {
   "cell_type": "code",
   "execution_count": null,
   "id": "9882654a",
   "metadata": {},
   "outputs": [],
   "source": []
  }
 ],
 "metadata": {
  "kernelspec": {
   "display_name": "Python 3 (ipykernel)",
   "language": "python",
   "name": "python3"
  },
  "language_info": {
   "codemirror_mode": {
    "name": "ipython",
    "version": 3
   },
   "file_extension": ".py",
   "mimetype": "text/x-python",
   "name": "python",
   "nbconvert_exporter": "python",
   "pygments_lexer": "ipython3",
   "version": "3.11.5"
  }
 },
 "nbformat": 4,
 "nbformat_minor": 5
}
