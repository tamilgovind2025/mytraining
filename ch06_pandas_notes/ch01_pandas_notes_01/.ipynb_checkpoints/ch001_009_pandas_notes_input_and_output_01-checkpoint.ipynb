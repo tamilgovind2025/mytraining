{
 "cells": [
  {
   "cell_type": "markdown",
   "id": "960d5986",
   "metadata": {},
   "source": [
    "# input operations "
   ]
  },
  {
   "cell_type": "markdown",
   "id": "00b26466",
   "metadata": {},
   "source": [
    "# csv input"
   ]
  },
  {
   "cell_type": "code",
   "execution_count": 1,
   "id": "43c1eee2",
   "metadata": {},
   "outputs": [
    {
     "data": {
      "text/html": [
       "<div>\n",
       "<style scoped>\n",
       "    .dataframe tbody tr th:only-of-type {\n",
       "        vertical-align: middle;\n",
       "    }\n",
       "\n",
       "    .dataframe tbody tr th {\n",
       "        vertical-align: top;\n",
       "    }\n",
       "\n",
       "    .dataframe thead th {\n",
       "        text-align: right;\n",
       "    }\n",
       "</style>\n",
       "<table border=\"1\" class=\"dataframe\">\n",
       "  <thead>\n",
       "    <tr style=\"text-align: right;\">\n",
       "      <th></th>\n",
       "      <th>Duration</th>\n",
       "      <th>Date</th>\n",
       "      <th>Pulse</th>\n",
       "      <th>Maxpulse</th>\n",
       "      <th>Calories</th>\n",
       "    </tr>\n",
       "  </thead>\n",
       "  <tbody>\n",
       "    <tr>\n",
       "      <th>0</th>\n",
       "      <td>60</td>\n",
       "      <td>'2020/12/01'</td>\n",
       "      <td>110</td>\n",
       "      <td>130</td>\n",
       "      <td>409.1</td>\n",
       "    </tr>\n",
       "    <tr>\n",
       "      <th>1</th>\n",
       "      <td>60</td>\n",
       "      <td>'2020/12/02'</td>\n",
       "      <td>117</td>\n",
       "      <td>145</td>\n",
       "      <td>479.0</td>\n",
       "    </tr>\n",
       "    <tr>\n",
       "      <th>2</th>\n",
       "      <td>60</td>\n",
       "      <td>'2020/12/03'</td>\n",
       "      <td>103</td>\n",
       "      <td>135</td>\n",
       "      <td>340.0</td>\n",
       "    </tr>\n",
       "    <tr>\n",
       "      <th>3</th>\n",
       "      <td>45</td>\n",
       "      <td>'2020/12/04'</td>\n",
       "      <td>109</td>\n",
       "      <td>175</td>\n",
       "      <td>282.4</td>\n",
       "    </tr>\n",
       "    <tr>\n",
       "      <th>4</th>\n",
       "      <td>45</td>\n",
       "      <td>'2020/12/05'</td>\n",
       "      <td>117</td>\n",
       "      <td>148</td>\n",
       "      <td>406.0</td>\n",
       "    </tr>\n",
       "  </tbody>\n",
       "</table>\n",
       "</div>"
      ],
      "text/plain": [
       "   Duration          Date  Pulse  Maxpulse  Calories\n",
       "0        60  '2020/12/01'    110       130     409.1\n",
       "1        60  '2020/12/02'    117       145     479.0\n",
       "2        60  '2020/12/03'    103       135     340.0\n",
       "3        45  '2020/12/04'    109       175     282.4\n",
       "4        45  '2020/12/05'    117       148     406.0"
      ]
     },
     "execution_count": 1,
     "metadata": {},
     "output_type": "execute_result"
    }
   ],
   "source": [
    "import pandas as pd\n",
    "df = pd.read_csv('data.csv')\n",
    "df.head()"
   ]
  },
  {
   "cell_type": "markdown",
   "id": "2c180145",
   "metadata": {},
   "source": [
    "# csv output"
   ]
  },
  {
   "cell_type": "code",
   "execution_count": 14,
   "id": "c156bae3",
   "metadata": {},
   "outputs": [],
   "source": [
    "import pandas as pd\n",
    "df.to_csv('data.csv', index=False)"
   ]
  },
  {
   "cell_type": "markdown",
   "id": "a89ff7a8",
   "metadata": {},
   "source": [
    "# excel input "
   ]
  },
  {
   "cell_type": "code",
   "execution_count": 3,
   "id": "fce24c5b",
   "metadata": {},
   "outputs": [
    {
     "name": "stdout",
     "output_type": "stream",
     "text": [
      "<class 'pandas.core.frame.DataFrame'>\n",
      "RangeIndex: 35 entries, 0 to 34\n",
      "Data columns (total 5 columns):\n",
      " #   Column  Non-Null Count  Dtype \n",
      "---  ------  --------------  ----- \n",
      " 0   id      35 non-null     int64 \n",
      " 1   name    35 non-null     object\n",
      " 2   class   35 non-null     object\n",
      " 3   mark    35 non-null     int64 \n",
      " 4   gender  35 non-null     object\n",
      "dtypes: int64(2), object(3)\n",
      "memory usage: 1.5+ KB\n"
     ]
    }
   ],
   "source": [
    "import pandas as pd\n",
    "df = pd.read_excel('student.xlsx')\n",
    "df.info()"
   ]
  },
  {
   "cell_type": "markdown",
   "id": "377c9e12",
   "metadata": {},
   "source": [
    "# excel output"
   ]
  },
  {
   "cell_type": "code",
   "execution_count": 15,
   "id": "a481db21",
   "metadata": {},
   "outputs": [],
   "source": [
    "import pandas as pd\n",
    "df.to_excel('data.xlsx', index=False)"
   ]
  },
  {
   "cell_type": "markdown",
   "id": "224f636b",
   "metadata": {},
   "source": [
    "# reading sql data"
   ]
  },
  {
   "cell_type": "code",
   "execution_count": 7,
   "id": "060634d0",
   "metadata": {},
   "outputs": [
    {
     "data": {
      "text/html": [
       "<div>\n",
       "<style scoped>\n",
       "    .dataframe tbody tr th:only-of-type {\n",
       "        vertical-align: middle;\n",
       "    }\n",
       "\n",
       "    .dataframe tbody tr th {\n",
       "        vertical-align: top;\n",
       "    }\n",
       "\n",
       "    .dataframe thead th {\n",
       "        text-align: right;\n",
       "    }\n",
       "</style>\n",
       "<table border=\"1\" class=\"dataframe\">\n",
       "  <thead>\n",
       "    <tr style=\"text-align: right;\">\n",
       "      <th></th>\n",
       "      <th>id</th>\n",
       "      <th>name</th>\n",
       "      <th>age</th>\n",
       "      <th>salary</th>\n",
       "    </tr>\n",
       "  </thead>\n",
       "  <tbody>\n",
       "    <tr>\n",
       "      <th>0</th>\n",
       "      <td>1</td>\n",
       "      <td>Alice</td>\n",
       "      <td>30</td>\n",
       "      <td>50000.0</td>\n",
       "    </tr>\n",
       "    <tr>\n",
       "      <th>1</th>\n",
       "      <td>3</td>\n",
       "      <td>Charlie</td>\n",
       "      <td>25</td>\n",
       "      <td>45000.0</td>\n",
       "    </tr>\n",
       "  </tbody>\n",
       "</table>\n",
       "</div>"
      ],
      "text/plain": [
       "   id     name  age   salary\n",
       "0   1    Alice   30  50000.0\n",
       "1   3  Charlie   25  45000.0"
      ]
     },
     "execution_count": 7,
     "metadata": {},
     "output_type": "execute_result"
    }
   ],
   "source": [
    "import pandas as pd\n",
    "import sqlite3\n",
    "connection = sqlite3.connect('mydatabase.db')\n",
    "df = pd.read_sql('SELECT * FROM employees', connection)\n",
    "df"
   ]
  },
  {
   "cell_type": "code",
   "execution_count": null,
   "id": "c835fe58",
   "metadata": {},
   "outputs": [],
   "source": [
    "writing sql data "
   ]
  },
  {
   "cell_type": "code",
   "execution_count": 16,
   "id": "ab705aaa",
   "metadata": {},
   "outputs": [
    {
     "data": {
      "text/plain": [
       "150"
      ]
     },
     "execution_count": 16,
     "metadata": {},
     "output_type": "execute_result"
    }
   ],
   "source": [
    "import pandas as pd\n",
    "import sqlite3\n",
    "connection = sqlite3.connect('mydatabase.db')\n",
    "df.to_sql('employees', connection, if_exists='replace', index=False)\n"
   ]
  },
  {
   "cell_type": "markdown",
   "id": "35fccb8d",
   "metadata": {},
   "source": [
    "# json file format reading"
   ]
  },
  {
   "cell_type": "code",
   "execution_count": 9,
   "id": "24a7d9cf",
   "metadata": {},
   "outputs": [
    {
     "data": {
      "text/html": [
       "<div>\n",
       "<style scoped>\n",
       "    .dataframe tbody tr th:only-of-type {\n",
       "        vertical-align: middle;\n",
       "    }\n",
       "\n",
       "    .dataframe tbody tr th {\n",
       "        vertical-align: top;\n",
       "    }\n",
       "\n",
       "    .dataframe thead th {\n",
       "        text-align: right;\n",
       "    }\n",
       "</style>\n",
       "<table border=\"1\" class=\"dataframe\">\n",
       "  <thead>\n",
       "    <tr style=\"text-align: right;\">\n",
       "      <th></th>\n",
       "      <th>sepalLength</th>\n",
       "      <th>sepalWidth</th>\n",
       "      <th>petalLength</th>\n",
       "      <th>petalWidth</th>\n",
       "      <th>species</th>\n",
       "    </tr>\n",
       "  </thead>\n",
       "  <tbody>\n",
       "    <tr>\n",
       "      <th>0</th>\n",
       "      <td>5.1</td>\n",
       "      <td>3.5</td>\n",
       "      <td>1.4</td>\n",
       "      <td>0.2</td>\n",
       "      <td>setosa</td>\n",
       "    </tr>\n",
       "    <tr>\n",
       "      <th>1</th>\n",
       "      <td>4.9</td>\n",
       "      <td>3.0</td>\n",
       "      <td>1.4</td>\n",
       "      <td>0.2</td>\n",
       "      <td>setosa</td>\n",
       "    </tr>\n",
       "    <tr>\n",
       "      <th>2</th>\n",
       "      <td>4.7</td>\n",
       "      <td>3.2</td>\n",
       "      <td>1.3</td>\n",
       "      <td>0.2</td>\n",
       "      <td>setosa</td>\n",
       "    </tr>\n",
       "    <tr>\n",
       "      <th>3</th>\n",
       "      <td>4.6</td>\n",
       "      <td>3.1</td>\n",
       "      <td>1.5</td>\n",
       "      <td>0.2</td>\n",
       "      <td>setosa</td>\n",
       "    </tr>\n",
       "    <tr>\n",
       "      <th>4</th>\n",
       "      <td>5.0</td>\n",
       "      <td>3.6</td>\n",
       "      <td>1.4</td>\n",
       "      <td>0.2</td>\n",
       "      <td>setosa</td>\n",
       "    </tr>\n",
       "    <tr>\n",
       "      <th>...</th>\n",
       "      <td>...</td>\n",
       "      <td>...</td>\n",
       "      <td>...</td>\n",
       "      <td>...</td>\n",
       "      <td>...</td>\n",
       "    </tr>\n",
       "    <tr>\n",
       "      <th>145</th>\n",
       "      <td>6.7</td>\n",
       "      <td>3.0</td>\n",
       "      <td>5.2</td>\n",
       "      <td>2.3</td>\n",
       "      <td>virginica</td>\n",
       "    </tr>\n",
       "    <tr>\n",
       "      <th>146</th>\n",
       "      <td>6.3</td>\n",
       "      <td>2.5</td>\n",
       "      <td>5.0</td>\n",
       "      <td>1.9</td>\n",
       "      <td>virginica</td>\n",
       "    </tr>\n",
       "    <tr>\n",
       "      <th>147</th>\n",
       "      <td>6.5</td>\n",
       "      <td>3.0</td>\n",
       "      <td>5.2</td>\n",
       "      <td>2.0</td>\n",
       "      <td>virginica</td>\n",
       "    </tr>\n",
       "    <tr>\n",
       "      <th>148</th>\n",
       "      <td>6.2</td>\n",
       "      <td>3.4</td>\n",
       "      <td>5.4</td>\n",
       "      <td>2.3</td>\n",
       "      <td>virginica</td>\n",
       "    </tr>\n",
       "    <tr>\n",
       "      <th>149</th>\n",
       "      <td>5.9</td>\n",
       "      <td>3.0</td>\n",
       "      <td>5.1</td>\n",
       "      <td>1.8</td>\n",
       "      <td>virginica</td>\n",
       "    </tr>\n",
       "  </tbody>\n",
       "</table>\n",
       "<p>150 rows × 5 columns</p>\n",
       "</div>"
      ],
      "text/plain": [
       "     sepalLength  sepalWidth  petalLength  petalWidth    species\n",
       "0            5.1         3.5          1.4         0.2     setosa\n",
       "1            4.9         3.0          1.4         0.2     setosa\n",
       "2            4.7         3.2          1.3         0.2     setosa\n",
       "3            4.6         3.1          1.5         0.2     setosa\n",
       "4            5.0         3.6          1.4         0.2     setosa\n",
       "..           ...         ...          ...         ...        ...\n",
       "145          6.7         3.0          5.2         2.3  virginica\n",
       "146          6.3         2.5          5.0         1.9  virginica\n",
       "147          6.5         3.0          5.2         2.0  virginica\n",
       "148          6.2         3.4          5.4         2.3  virginica\n",
       "149          5.9         3.0          5.1         1.8  virginica\n",
       "\n",
       "[150 rows x 5 columns]"
      ]
     },
     "execution_count": 9,
     "metadata": {},
     "output_type": "execute_result"
    }
   ],
   "source": [
    "import pandas as pd\n",
    "df = pd.read_json('iris.json')\n",
    "df"
   ]
  },
  {
   "cell_type": "markdown",
   "id": "3d28e4b4",
   "metadata": {},
   "source": [
    "# json writing"
   ]
  },
  {
   "cell_type": "code",
   "execution_count": 17,
   "id": "86581a72",
   "metadata": {},
   "outputs": [],
   "source": [
    "import pandas as pd\n",
    "df.to_json('data.json')\n"
   ]
  },
  {
   "cell_type": "markdown",
   "id": "dcb97f38",
   "metadata": {},
   "source": [
    "# html "
   ]
  },
  {
   "cell_type": "code",
   "execution_count": 13,
   "id": "97672212",
   "metadata": {},
   "outputs": [
    {
     "data": {
      "text/plain": [
       "[    id         name  class  mark  gender\n",
       " 0    1     John Deo   Four    75  female\n",
       " 1    2     Max Ruin  Three    85    male\n",
       " 2    3       Arnold  Three    55    male\n",
       " 3    4   Krish Star   Four    60  female\n",
       " 4    5    John Mike   Four    60  female\n",
       " 5    6    Alex John   Four    55    male\n",
       " 6    7  My John Rob   Five    78    male\n",
       " 7    8       Asruid   Five    85    male\n",
       " 8    9      Tes Qry    Six    78    male\n",
       " 9   10     Big John   Four    55  female\n",
       " 10  11       Ronald    Six    89  female\n",
       " 11  12        Recky    Six    94  female\n",
       " 12  13          Kty  Seven    88  female\n",
       " 13  14         Bigy  Seven    88  female\n",
       " 14  15     Tade Row   Four    88    male\n",
       " 15  16        Gimmy   Four    88    male\n",
       " 16  17        Tumyu    Six    54    male\n",
       " 17  18        Honny   Five    75    male\n",
       " 18  19        Tinny   Nine    18    male\n",
       " 19  20       Jackly   Nine    65  female\n",
       " 20  21   Babby John   Four    69  female\n",
       " 21  22       Reggid  Seven    55  female\n",
       " 22  23        Herod  Eight    79    male\n",
       " 23  24    Tiddy Now  Seven    78    male\n",
       " 24  25     Giff Tow    Six    88    male\n",
       " 25  26       Crelea  Seven    79    male\n",
       " 26  27     Big Nose  Three    81  female\n",
       " 27  28    Rojj Base  Seven    86  female\n",
       " 28  29  Tess Played  Seven    55    male\n",
       " 29  30    Reppy Red    Six    79  female\n",
       " 30  31  Marry Toeey   Four    88    male\n",
       " 31  32    Binn Rott  Seven    90  female\n",
       " 32  33    Kenn Rein    Six    96  female\n",
       " 33  34     Gain Toe  Seven    69    male\n",
       " 34  35   Rows Noump    Six    88  female]"
      ]
     },
     "execution_count": 13,
     "metadata": {},
     "output_type": "execute_result"
    }
   ],
   "source": [
    "import pandas as pd\n",
    "\n",
    "file_path =r\"https://www.plus2net.com/python/download/student.html\"\n",
    "\n",
    "dfs = pd.read_html(file_path)\n",
    "dfs"
   ]
  },
  {
   "cell_type": "code",
   "execution_count": 18,
   "id": "08d831f8",
   "metadata": {},
   "outputs": [],
   "source": [
    "import pandas as pd\n",
    "df.to_clipboard()\n"
   ]
  },
  {
   "cell_type": "code",
   "execution_count": null,
   "id": "ebb668ec",
   "metadata": {},
   "outputs": [],
   "source": []
  }
 ],
 "metadata": {
  "kernelspec": {
   "display_name": "Python 3 (ipykernel)",
   "language": "python",
   "name": "python3"
  },
  "language_info": {
   "codemirror_mode": {
    "name": "ipython",
    "version": 3
   },
   "file_extension": ".py",
   "mimetype": "text/x-python",
   "name": "python",
   "nbconvert_exporter": "python",
   "pygments_lexer": "ipython3",
   "version": "3.11.5"
  }
 },
 "nbformat": 4,
 "nbformat_minor": 5
}
