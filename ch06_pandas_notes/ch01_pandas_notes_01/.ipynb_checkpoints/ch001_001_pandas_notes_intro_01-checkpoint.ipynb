{
 "cells": [
  {
   "cell_type": "markdown",
   "id": "364695f8",
   "metadata": {},
   "source": [
    "# Introduction to Pandas"
   ]
  },
  {
   "cell_type": "raw",
   "id": "ca143715",
   "metadata": {},
   "source": [
    "# Introduction to Pandas\n",
    "In this section of the course we will learn how to use pandas for data analysis. You can think of pandas as an extremely powerful version of Excel, with a lot more features. In this section of the course, you should go through the notebooks in this order:\n",
    "\n",
    ". Introduction to Pandas\n",
    ". Series\n",
    ". DataFrames\n",
    ". Missing Data\n",
    ". duplicated datas\n",
    ". GroupBy\n",
    ". Merging,Joining,and Concatenating\n",
    ". Operations\n",
    ". Data Input and Output"
   ]
  },
  {
   "cell_type": "raw",
   "id": "b1fa57ec",
   "metadata": {},
   "source": [
    "Pandas is a popular Python library used for data manipulation and analysis. It provides easy-to-use data structures and data analysis tools for handling structured data. Here's a brief introduction to some of the key components and features of Pandas:\n",
    "\n",
    "Data Structures:\n",
    "\n",
    "Series: A one-dimensional array-like object that can hold data of any type. It is similar to a list or a column in a table.\n",
    "DataFrame: A two-dimensional tabular data structure with labeled axes (rows and columns). It is similar to a spreadsheet or a SQL table.\n",
    "\n",
    "Key Features:\n",
    "\n",
    "Data Input/Output: Pandas can read and write data from various file formats, including CSV, Excel, SQL databases, and more.\n",
    "Data Cleaning: Pandas provides tools for handling missing data, filtering, sorting, and transforming data.\n",
    "Data Manipulation: Pandas supports operations like merging, joining, and reshaping datasets.\n",
    "Data Analysis: Pandas can perform various statistical and mathematical operations on data, such as mean, median, sum, etc.\n",
    "Data Visualization: While Pandas itself does not provide visualization capabilities, it can be used in conjunction with libraries like Matplotlib and Seaborn for data visualization.\n",
    "\n",
    "Basic Usage:\n",
    "\n",
    "Import the Pandas library: import pandas as pd"
   ]
  },
  {
   "cell_type": "raw",
   "id": "39a3bb5b",
   "metadata": {},
   "source": [
    "What is pandas?\n",
    "pandas is an open source, BSD-licensed library providing high-performance, easy-to-use data structures and data analysis tools for the Python programming language. pandas' data analysis and modeling features enable users to carry out their entire data analysis workflow in Python.\n",
    "\n",
    "Language: Python\n",
    "\n",
    "Industry: Business & Industry Applications, Higher Education Research & Teaching, Government\n",
    "\n",
    "Features:\n",
    "\n",
    "Data Wrangling\n",
    "Modeling\n",
    "Visualization\n",
    "High Performance Computing\n",
    "Big Data\n",
    "Statistical Computing\n",
    "Numerical Computing\n",
    "Data Mining\n",
    "Text Processing\n",
    "Computing Language\n",
    "Educational Outreach\n",
    "Computational thinking\n",
    "Due to its status as a foundational data wrangling tool, pandas is used in virtually every large company in tech and finance (e.g. Athena Capital Research, Two Sigma) and at every major university. It is used in national research labs such as the Program for Climate Model Diagnosis and Intercomparison (PCMDI)."
   ]
  },
  {
   "cell_type": "markdown",
   "id": "8fafe086",
   "metadata": {},
   "source": [
    "# installtion"
   ]
  },
  {
   "cell_type": "code",
   "execution_count": 1,
   "id": "e60e3324",
   "metadata": {},
   "outputs": [
    {
     "name": "stdout",
     "output_type": "stream",
     "text": [
      "Defaulting to user installation because normal site-packages is not writeableNote: you may need to restart the kernel to use updated packages.\n",
      "\n",
      "Requirement already satisfied: pandas in c:\\users\\admin\\appdata\\roaming\\python\\python311\\site-packages (2.1.2)\n",
      "Requirement already satisfied: numpy<2,>=1.23.2 in c:\\users\\admin\\appdata\\roaming\\python\\python311\\site-packages (from pandas) (1.26.1)\n",
      "Requirement already satisfied: python-dateutil>=2.8.2 in c:\\users\\admin\\appdata\\roaming\\python\\python311\\site-packages (from pandas) (2.8.2)\n",
      "Requirement already satisfied: pytz>=2020.1 in c:\\users\\admin\\appdata\\roaming\\python\\python311\\site-packages (from pandas) (2023.3.post1)\n",
      "Requirement already satisfied: tzdata>=2022.1 in c:\\users\\admin\\appdata\\roaming\\python\\python311\\site-packages (from pandas) (2023.3)\n",
      "Requirement already satisfied: six>=1.5 in c:\\users\\admin\\appdata\\roaming\\python\\python311\\site-packages (from python-dateutil>=2.8.2->pandas) (1.16.0)\n"
     ]
    }
   ],
   "source": [
    "pip install pandas"
   ]
  },
  {
   "cell_type": "markdown",
   "id": "e935da46",
   "metadata": {},
   "source": [
    "# importing modules"
   ]
  },
  {
   "cell_type": "code",
   "execution_count": 2,
   "id": "ad6dbe22",
   "metadata": {},
   "outputs": [],
   "source": [
    "import numpy as np\n",
    "\n",
    "import pandas as pd"
   ]
  },
  {
   "cell_type": "raw",
   "id": "8b7ea7e8",
   "metadata": {},
   "source": [
    "Basic data structures in pandas\n",
    "Pandas provides two types of classes for handling data:\n",
    "\n",
    "Series: a one-dimensional labeled array holding data of any type\n",
    "such as integers, strings, Python objects etc.\n",
    "\n",
    "DataFrame: a two-dimensional data structure that holds data like a two-dimension array or a table with rows and columns."
   ]
  },
  {
   "cell_type": "markdown",
   "id": "82aa0e17",
   "metadata": {},
   "source": [
    "# series"
   ]
  },
  {
   "cell_type": "code",
   "execution_count": 3,
   "id": "f92349ea",
   "metadata": {},
   "outputs": [
    {
     "data": {
      "text/plain": [
       "0    1.0\n",
       "1    3.0\n",
       "2    5.0\n",
       "3    NaN\n",
       "4    6.0\n",
       "5    8.0\n",
       "dtype: float64"
      ]
     },
     "execution_count": 3,
     "metadata": {},
     "output_type": "execute_result"
    }
   ],
   "source": [
    "s = pd.Series([1, 3, 5, np.nan, 6, 8])\n",
    "s"
   ]
  },
  {
   "cell_type": "code",
   "execution_count": 4,
   "id": "718629c8",
   "metadata": {},
   "outputs": [
    {
     "data": {
      "text/plain": [
       "DatetimeIndex(['2013-01-01', '2013-01-02', '2013-01-03', '2013-01-04',\n",
       "               '2013-01-05', '2013-01-06'],\n",
       "              dtype='datetime64[ns]', freq='D')"
      ]
     },
     "execution_count": 4,
     "metadata": {},
     "output_type": "execute_result"
    }
   ],
   "source": [
    "dates = pd.date_range(\"20130101\", periods=6)\n",
    "dates"
   ]
  },
  {
   "cell_type": "code",
   "execution_count": 5,
   "id": "fa63fdf7",
   "metadata": {},
   "outputs": [
    {
     "data": {
      "text/html": [
       "<div>\n",
       "<style scoped>\n",
       "    .dataframe tbody tr th:only-of-type {\n",
       "        vertical-align: middle;\n",
       "    }\n",
       "\n",
       "    .dataframe tbody tr th {\n",
       "        vertical-align: top;\n",
       "    }\n",
       "\n",
       "    .dataframe thead th {\n",
       "        text-align: right;\n",
       "    }\n",
       "</style>\n",
       "<table border=\"1\" class=\"dataframe\">\n",
       "  <thead>\n",
       "    <tr style=\"text-align: right;\">\n",
       "      <th></th>\n",
       "      <th>A</th>\n",
       "      <th>B</th>\n",
       "      <th>C</th>\n",
       "      <th>D</th>\n",
       "    </tr>\n",
       "  </thead>\n",
       "  <tbody>\n",
       "    <tr>\n",
       "      <th>2013-01-01</th>\n",
       "      <td>1.254258</td>\n",
       "      <td>-0.152146</td>\n",
       "      <td>-0.611067</td>\n",
       "      <td>-0.105790</td>\n",
       "    </tr>\n",
       "    <tr>\n",
       "      <th>2013-01-02</th>\n",
       "      <td>-0.815747</td>\n",
       "      <td>1.635001</td>\n",
       "      <td>-0.813270</td>\n",
       "      <td>0.124864</td>\n",
       "    </tr>\n",
       "    <tr>\n",
       "      <th>2013-01-03</th>\n",
       "      <td>1.908399</td>\n",
       "      <td>-0.931290</td>\n",
       "      <td>0.057411</td>\n",
       "      <td>-0.729629</td>\n",
       "    </tr>\n",
       "    <tr>\n",
       "      <th>2013-01-04</th>\n",
       "      <td>0.606129</td>\n",
       "      <td>0.036881</td>\n",
       "      <td>-0.448551</td>\n",
       "      <td>0.910032</td>\n",
       "    </tr>\n",
       "    <tr>\n",
       "      <th>2013-01-05</th>\n",
       "      <td>-0.587534</td>\n",
       "      <td>0.208725</td>\n",
       "      <td>1.433070</td>\n",
       "      <td>1.221662</td>\n",
       "    </tr>\n",
       "    <tr>\n",
       "      <th>2013-01-06</th>\n",
       "      <td>-0.534145</td>\n",
       "      <td>1.836099</td>\n",
       "      <td>-0.207791</td>\n",
       "      <td>-0.953247</td>\n",
       "    </tr>\n",
       "  </tbody>\n",
       "</table>\n",
       "</div>"
      ],
      "text/plain": [
       "                   A         B         C         D\n",
       "2013-01-01  1.254258 -0.152146 -0.611067 -0.105790\n",
       "2013-01-02 -0.815747  1.635001 -0.813270  0.124864\n",
       "2013-01-03  1.908399 -0.931290  0.057411 -0.729629\n",
       "2013-01-04  0.606129  0.036881 -0.448551  0.910032\n",
       "2013-01-05 -0.587534  0.208725  1.433070  1.221662\n",
       "2013-01-06 -0.534145  1.836099 -0.207791 -0.953247"
      ]
     },
     "execution_count": 5,
     "metadata": {},
     "output_type": "execute_result"
    }
   ],
   "source": [
    "df = pd.DataFrame(np.random.randn(6, 4), index=dates, columns=list(\"ABCD\"))\n",
    "df"
   ]
  },
  {
   "cell_type": "code",
   "execution_count": 6,
   "id": "7a6a2f37",
   "metadata": {},
   "outputs": [],
   "source": [
    "df2 = pd.DataFrame(\n",
    "    {\n",
    "        \"A\": 1.0,\n",
    "        \"B\": pd.Timestamp(\"20130102\"),\n",
    "        \"C\": pd.Series(1, index=list(range(4)), dtype=\"float32\"),\n",
    "        \"D\": np.array([3] * 4, dtype=\"int32\"),\n",
    "        \"E\": pd.Categorical([\"test\", \"train\", \"test\", \"train\"]),\n",
    "        \"F\": \"foo\",\n",
    "    }\n",
    ")"
   ]
  },
  {
   "cell_type": "code",
   "execution_count": 7,
   "id": "1faf643a",
   "metadata": {},
   "outputs": [
    {
     "data": {
      "text/html": [
       "<div>\n",
       "<style scoped>\n",
       "    .dataframe tbody tr th:only-of-type {\n",
       "        vertical-align: middle;\n",
       "    }\n",
       "\n",
       "    .dataframe tbody tr th {\n",
       "        vertical-align: top;\n",
       "    }\n",
       "\n",
       "    .dataframe thead th {\n",
       "        text-align: right;\n",
       "    }\n",
       "</style>\n",
       "<table border=\"1\" class=\"dataframe\">\n",
       "  <thead>\n",
       "    <tr style=\"text-align: right;\">\n",
       "      <th></th>\n",
       "      <th>A</th>\n",
       "      <th>B</th>\n",
       "      <th>C</th>\n",
       "      <th>D</th>\n",
       "      <th>E</th>\n",
       "      <th>F</th>\n",
       "    </tr>\n",
       "  </thead>\n",
       "  <tbody>\n",
       "    <tr>\n",
       "      <th>0</th>\n",
       "      <td>1.0</td>\n",
       "      <td>2013-01-02</td>\n",
       "      <td>1.0</td>\n",
       "      <td>3</td>\n",
       "      <td>test</td>\n",
       "      <td>foo</td>\n",
       "    </tr>\n",
       "    <tr>\n",
       "      <th>1</th>\n",
       "      <td>1.0</td>\n",
       "      <td>2013-01-02</td>\n",
       "      <td>1.0</td>\n",
       "      <td>3</td>\n",
       "      <td>train</td>\n",
       "      <td>foo</td>\n",
       "    </tr>\n",
       "    <tr>\n",
       "      <th>2</th>\n",
       "      <td>1.0</td>\n",
       "      <td>2013-01-02</td>\n",
       "      <td>1.0</td>\n",
       "      <td>3</td>\n",
       "      <td>test</td>\n",
       "      <td>foo</td>\n",
       "    </tr>\n",
       "    <tr>\n",
       "      <th>3</th>\n",
       "      <td>1.0</td>\n",
       "      <td>2013-01-02</td>\n",
       "      <td>1.0</td>\n",
       "      <td>3</td>\n",
       "      <td>train</td>\n",
       "      <td>foo</td>\n",
       "    </tr>\n",
       "  </tbody>\n",
       "</table>\n",
       "</div>"
      ],
      "text/plain": [
       "     A          B    C  D      E    F\n",
       "0  1.0 2013-01-02  1.0  3   test  foo\n",
       "1  1.0 2013-01-02  1.0  3  train  foo\n",
       "2  1.0 2013-01-02  1.0  3   test  foo\n",
       "3  1.0 2013-01-02  1.0  3  train  foo"
      ]
     },
     "execution_count": 7,
     "metadata": {},
     "output_type": "execute_result"
    }
   ],
   "source": [
    "df2"
   ]
  },
  {
   "cell_type": "code",
   "execution_count": 8,
   "id": "ff6e9fea",
   "metadata": {},
   "outputs": [
    {
     "data": {
      "text/plain": [
       "A          float64\n",
       "B    datetime64[s]\n",
       "C          float32\n",
       "D            int32\n",
       "E         category\n",
       "F           object\n",
       "dtype: object"
      ]
     },
     "execution_count": 8,
     "metadata": {},
     "output_type": "execute_result"
    }
   ],
   "source": [
    "df2.dtypes"
   ]
  },
  {
   "cell_type": "markdown",
   "id": "def11759",
   "metadata": {},
   "source": [
    "# pandas datatypes"
   ]
  },
  {
   "cell_type": "raw",
   "id": "c0eaf436",
   "metadata": {},
   "source": [
    "Sure, here are some common Pandas data types along with examples:\n",
    "\n",
    "int64: This is a 64-bit integer. Example: 5, -10, 456789.\n",
    "\n",
    "float64: This is a 64-bit floating point number. Example: 3.14, -0.001, 1000.0.\n",
    "\n",
    "bool: This represents boolean values True or False. Example: True, False.\n",
    "\n",
    "datetime64[ns]: This represents date and time. Example: 2024-03-27 08:30:00, 2024-01-01 12:00:00.\n",
    "\n",
    "timedelta64[ns]: This represents the difference between two datetime values. Example: 3 days, 5 hours, 10 minutes.\n",
    "\n",
    "object: This can hold any Python object as its elements. Example: 'hello', 'world', '123'.\n",
    "\n",
    "category: This is used for categorical data, where each value belongs to a finite set of categories. Example: 'red', 'blue', 'green'.\n",
    "\n",
    "string: Introduced in Pandas 1.0, this is used for storing strings. Example: 'apple', 'banana', 'cherry'.\n",
    "\n",
    "Note that Pandas also supports nullable integer and boolean data types (Int64, boolean), as well as extension data types such as SparseDtype, CategoricalDtype, and IntervalDtype for representing sparse data, categorical data, and intervals, respectively.\n"
   ]
  },
  {
   "cell_type": "code",
   "execution_count": 10,
   "id": "d045a7c2",
   "metadata": {},
   "outputs": [
    {
     "name": "stdout",
     "output_type": "stream",
     "text": [
      "Data Types:\n",
      "A              int64\n",
      "B            float64\n",
      "C               bool\n",
      "D     datetime64[ns]\n",
      "E    timedelta64[ns]\n",
      "F             object\n",
      "G           category\n",
      "H     string[python]\n",
      "dtype: object\n"
     ]
    }
   ],
   "source": [
    "import pandas as pd\n",
    "\n",
    "# Creating a sample DataFrame\n",
    "data = {\n",
    "    'A': [1, 2, 3, 4],                            # int64\n",
    "    'B': [1.1, 2.2, 3.3, 4.4],                     # float64\n",
    "    'C': [True, False, True, False],               # bool\n",
    "    'D': pd.to_datetime(['2024-01-01', '2024-01-02', '2024-01-03', '2024-01-04']),  # datetime64[ns]\n",
    "    'E': pd.timedelta_range(start='1 days', periods=4),  # timedelta64[ns]\n",
    "    'F': ['apple', 'banana', 'cherry', 'date'],    # object\n",
    "    'G': pd.Categorical(['cat', 'dog', 'bird', 'dog']),  # category\n",
    "    'H': pd.Series(['hello', 'world', '123', '456'], dtype=\"string\")  # string\n",
    "}\n",
    "\n",
    "df = pd.DataFrame(data)\n",
    "\n",
    "# Displaying data types of each column\n",
    "print(\"Data Types:\")\n",
    "print(df.dtypes)\n",
    "\n",
    "\n",
    "\n"
   ]
  },
  {
   "cell_type": "code",
   "execution_count": 11,
   "id": "eda67e36",
   "metadata": {},
   "outputs": [
    {
     "data": {
      "text/html": [
       "<div>\n",
       "<style scoped>\n",
       "    .dataframe tbody tr th:only-of-type {\n",
       "        vertical-align: middle;\n",
       "    }\n",
       "\n",
       "    .dataframe tbody tr th {\n",
       "        vertical-align: top;\n",
       "    }\n",
       "\n",
       "    .dataframe thead th {\n",
       "        text-align: right;\n",
       "    }\n",
       "</style>\n",
       "<table border=\"1\" class=\"dataframe\">\n",
       "  <thead>\n",
       "    <tr style=\"text-align: right;\">\n",
       "      <th></th>\n",
       "      <th>A</th>\n",
       "      <th>B</th>\n",
       "      <th>C</th>\n",
       "      <th>D</th>\n",
       "      <th>E</th>\n",
       "      <th>F</th>\n",
       "      <th>G</th>\n",
       "      <th>H</th>\n",
       "    </tr>\n",
       "  </thead>\n",
       "  <tbody>\n",
       "    <tr>\n",
       "      <th>0</th>\n",
       "      <td>1</td>\n",
       "      <td>1.1</td>\n",
       "      <td>True</td>\n",
       "      <td>2024-01-01</td>\n",
       "      <td>1 days</td>\n",
       "      <td>apple</td>\n",
       "      <td>cat</td>\n",
       "      <td>hello</td>\n",
       "    </tr>\n",
       "    <tr>\n",
       "      <th>1</th>\n",
       "      <td>2</td>\n",
       "      <td>2.2</td>\n",
       "      <td>False</td>\n",
       "      <td>2024-01-02</td>\n",
       "      <td>2 days</td>\n",
       "      <td>banana</td>\n",
       "      <td>dog</td>\n",
       "      <td>world</td>\n",
       "    </tr>\n",
       "    <tr>\n",
       "      <th>2</th>\n",
       "      <td>3</td>\n",
       "      <td>3.3</td>\n",
       "      <td>True</td>\n",
       "      <td>2024-01-03</td>\n",
       "      <td>3 days</td>\n",
       "      <td>cherry</td>\n",
       "      <td>bird</td>\n",
       "      <td>123</td>\n",
       "    </tr>\n",
       "    <tr>\n",
       "      <th>3</th>\n",
       "      <td>4</td>\n",
       "      <td>4.4</td>\n",
       "      <td>False</td>\n",
       "      <td>2024-01-04</td>\n",
       "      <td>4 days</td>\n",
       "      <td>date</td>\n",
       "      <td>dog</td>\n",
       "      <td>456</td>\n",
       "    </tr>\n",
       "  </tbody>\n",
       "</table>\n",
       "</div>"
      ],
      "text/plain": [
       "   A    B      C          D      E       F     G      H\n",
       "0  1  1.1   True 2024-01-01 1 days   apple   cat  hello\n",
       "1  2  2.2  False 2024-01-02 2 days  banana   dog  world\n",
       "2  3  3.3   True 2024-01-03 3 days  cherry  bird    123\n",
       "3  4  4.4  False 2024-01-04 4 days    date   dog    456"
      ]
     },
     "execution_count": 11,
     "metadata": {},
     "output_type": "execute_result"
    }
   ],
   "source": [
    "df"
   ]
  },
  {
   "cell_type": "markdown",
   "id": "0dea6575",
   "metadata": {},
   "source": [
    "# class attributes"
   ]
  },
  {
   "cell_type": "code",
   "execution_count": null,
   "id": "5200e054",
   "metadata": {},
   "outputs": [],
   "source": []
  },
  {
   "cell_type": "code",
   "execution_count": 14,
   "id": "6f505410",
   "metadata": {},
   "outputs": [
    {
     "data": {
      "text/html": [
       "<div>\n",
       "<style scoped>\n",
       "    .dataframe tbody tr th:only-of-type {\n",
       "        vertical-align: middle;\n",
       "    }\n",
       "\n",
       "    .dataframe tbody tr th {\n",
       "        vertical-align: top;\n",
       "    }\n",
       "\n",
       "    .dataframe thead th {\n",
       "        text-align: right;\n",
       "    }\n",
       "</style>\n",
       "<table border=\"1\" class=\"dataframe\">\n",
       "  <thead>\n",
       "    <tr style=\"text-align: right;\">\n",
       "      <th></th>\n",
       "      <th>A</th>\n",
       "      <th>B</th>\n",
       "      <th>C</th>\n",
       "    </tr>\n",
       "  </thead>\n",
       "  <tbody>\n",
       "    <tr>\n",
       "      <th>0</th>\n",
       "      <td>1</td>\n",
       "      <td>4</td>\n",
       "      <td>a</td>\n",
       "    </tr>\n",
       "    <tr>\n",
       "      <th>1</th>\n",
       "      <td>2</td>\n",
       "      <td>5</td>\n",
       "      <td>b</td>\n",
       "    </tr>\n",
       "    <tr>\n",
       "      <th>2</th>\n",
       "      <td>3</td>\n",
       "      <td>6</td>\n",
       "      <td>c</td>\n",
       "    </tr>\n",
       "    <tr>\n",
       "      <th>3</th>\n",
       "      <td>2</td>\n",
       "      <td>5</td>\n",
       "      <td>d</td>\n",
       "    </tr>\n",
       "    <tr>\n",
       "      <th>4</th>\n",
       "      <td>4</td>\n",
       "      <td>8</td>\n",
       "      <td>e</td>\n",
       "    </tr>\n",
       "  </tbody>\n",
       "</table>\n",
       "</div>"
      ],
      "text/plain": [
       "   A  B  C\n",
       "0  1  4  a\n",
       "1  2  5  b\n",
       "2  3  6  c\n",
       "3  2  5  d\n",
       "4  4  8  e"
      ]
     },
     "execution_count": 14,
     "metadata": {},
     "output_type": "execute_result"
    }
   ],
   "source": [
    "import pandas as pd\n",
    "\n",
    "# Creating a sample DataFrame\n",
    "data = {\n",
    "    'A': [1, 2, 3, 2, 4],\n",
    "    'B': [4, 5, 6, 5, 8],\n",
    "    'C': ['a', 'b', 'c', 'd', 'e']\n",
    "}\n",
    "\n",
    "df2 = pd.DataFrame(data)\n",
    "df2"
   ]
  },
  {
   "cell_type": "code",
   "execution_count": 15,
   "id": "84d1ee18",
   "metadata": {},
   "outputs": [
    {
     "name": "stdout",
     "output_type": "stream",
     "text": [
      "0    1\n",
      "1    2\n",
      "2    3\n",
      "3    2\n",
      "4    4\n",
      "Name: A, dtype: int64\n"
     ]
    }
   ],
   "source": [
    "# df2.A\n",
    "# This retrieves the column 'A' from the DataFrame.\n",
    "print(df2.A)"
   ]
  },
  {
   "cell_type": "code",
   "execution_count": 16,
   "id": "cf1427dd",
   "metadata": {},
   "outputs": [
    {
     "ename": "TypeError",
     "evalue": "bad operand type for abs(): 'str'",
     "output_type": "error",
     "traceback": [
      "\u001b[1;31m---------------------------------------------------------------------------\u001b[0m",
      "\u001b[1;31mTypeError\u001b[0m                                 Traceback (most recent call last)",
      "Cell \u001b[1;32mIn[16], line 3\u001b[0m\n\u001b[0;32m      1\u001b[0m \u001b[38;5;66;03m# df2.abs\u001b[39;00m\n\u001b[0;32m      2\u001b[0m \u001b[38;5;66;03m# This returns a DataFrame with the absolute values of each element.\u001b[39;00m\n\u001b[1;32m----> 3\u001b[0m \u001b[38;5;28mprint\u001b[39m(df2\u001b[38;5;241m.\u001b[39mabs())\n",
      "File \u001b[1;32m~\\AppData\\Roaming\\Python\\Python311\\site-packages\\pandas\\core\\generic.py:1652\u001b[0m, in \u001b[0;36mNDFrame.abs\u001b[1;34m(self)\u001b[0m\n\u001b[0;32m   1584\u001b[0m \u001b[38;5;129m@final\u001b[39m\n\u001b[0;32m   1585\u001b[0m \u001b[38;5;28;01mdef\u001b[39;00m \u001b[38;5;21mabs\u001b[39m(\u001b[38;5;28mself\u001b[39m) \u001b[38;5;241m-\u001b[39m\u001b[38;5;241m>\u001b[39m Self:\n\u001b[0;32m   1586\u001b[0m \u001b[38;5;250m    \u001b[39m\u001b[38;5;124;03m\"\"\"\u001b[39;00m\n\u001b[0;32m   1587\u001b[0m \u001b[38;5;124;03m    Return a Series/DataFrame with absolute numeric value of each element.\u001b[39;00m\n\u001b[0;32m   1588\u001b[0m \n\u001b[1;32m   (...)\u001b[0m\n\u001b[0;32m   1650\u001b[0m \u001b[38;5;124;03m    3    7   40  -50\u001b[39;00m\n\u001b[0;32m   1651\u001b[0m \u001b[38;5;124;03m    \"\"\"\u001b[39;00m\n\u001b[1;32m-> 1652\u001b[0m     res_mgr \u001b[38;5;241m=\u001b[39m \u001b[38;5;28mself\u001b[39m\u001b[38;5;241m.\u001b[39m_mgr\u001b[38;5;241m.\u001b[39mapply(np\u001b[38;5;241m.\u001b[39mabs)\n\u001b[0;32m   1653\u001b[0m     \u001b[38;5;28;01mreturn\u001b[39;00m \u001b[38;5;28mself\u001b[39m\u001b[38;5;241m.\u001b[39m_constructor_from_mgr(res_mgr, axes\u001b[38;5;241m=\u001b[39mres_mgr\u001b[38;5;241m.\u001b[39maxes)\u001b[38;5;241m.\u001b[39m__finalize__(\n\u001b[0;32m   1654\u001b[0m         \u001b[38;5;28mself\u001b[39m, name\u001b[38;5;241m=\u001b[39m\u001b[38;5;124m\"\u001b[39m\u001b[38;5;124mabs\u001b[39m\u001b[38;5;124m\"\u001b[39m\n\u001b[0;32m   1655\u001b[0m     )\n",
      "File \u001b[1;32m~\\AppData\\Roaming\\Python\\Python311\\site-packages\\pandas\\core\\internals\\managers.py:352\u001b[0m, in \u001b[0;36mBaseBlockManager.apply\u001b[1;34m(self, f, align_keys, **kwargs)\u001b[0m\n\u001b[0;32m    349\u001b[0m             kwargs[k] \u001b[38;5;241m=\u001b[39m obj[b\u001b[38;5;241m.\u001b[39mmgr_locs\u001b[38;5;241m.\u001b[39mindexer]\n\u001b[0;32m    351\u001b[0m \u001b[38;5;28;01mif\u001b[39;00m \u001b[38;5;28mcallable\u001b[39m(f):\n\u001b[1;32m--> 352\u001b[0m     applied \u001b[38;5;241m=\u001b[39m b\u001b[38;5;241m.\u001b[39mapply(f, \u001b[38;5;241m*\u001b[39m\u001b[38;5;241m*\u001b[39mkwargs)\n\u001b[0;32m    353\u001b[0m \u001b[38;5;28;01melse\u001b[39;00m:\n\u001b[0;32m    354\u001b[0m     applied \u001b[38;5;241m=\u001b[39m \u001b[38;5;28mgetattr\u001b[39m(b, f)(\u001b[38;5;241m*\u001b[39m\u001b[38;5;241m*\u001b[39mkwargs)\n",
      "File \u001b[1;32m~\\AppData\\Roaming\\Python\\Python311\\site-packages\\pandas\\core\\internals\\blocks.py:366\u001b[0m, in \u001b[0;36mBlock.apply\u001b[1;34m(self, func, **kwargs)\u001b[0m\n\u001b[0;32m    360\u001b[0m \u001b[38;5;129m@final\u001b[39m\n\u001b[0;32m    361\u001b[0m \u001b[38;5;28;01mdef\u001b[39;00m \u001b[38;5;21mapply\u001b[39m(\u001b[38;5;28mself\u001b[39m, func, \u001b[38;5;241m*\u001b[39m\u001b[38;5;241m*\u001b[39mkwargs) \u001b[38;5;241m-\u001b[39m\u001b[38;5;241m>\u001b[39m \u001b[38;5;28mlist\u001b[39m[Block]:\n\u001b[0;32m    362\u001b[0m \u001b[38;5;250m    \u001b[39m\u001b[38;5;124;03m\"\"\"\u001b[39;00m\n\u001b[0;32m    363\u001b[0m \u001b[38;5;124;03m    apply the function to my values; return a block if we are not\u001b[39;00m\n\u001b[0;32m    364\u001b[0m \u001b[38;5;124;03m    one\u001b[39;00m\n\u001b[0;32m    365\u001b[0m \u001b[38;5;124;03m    \"\"\"\u001b[39;00m\n\u001b[1;32m--> 366\u001b[0m     result \u001b[38;5;241m=\u001b[39m func(\u001b[38;5;28mself\u001b[39m\u001b[38;5;241m.\u001b[39mvalues, \u001b[38;5;241m*\u001b[39m\u001b[38;5;241m*\u001b[39mkwargs)\n\u001b[0;32m    368\u001b[0m     result \u001b[38;5;241m=\u001b[39m maybe_coerce_values(result)\n\u001b[0;32m    369\u001b[0m     \u001b[38;5;28;01mreturn\u001b[39;00m \u001b[38;5;28mself\u001b[39m\u001b[38;5;241m.\u001b[39m_split_op_result(result)\n",
      "\u001b[1;31mTypeError\u001b[0m: bad operand type for abs(): 'str'"
     ]
    }
   ],
   "source": [
    "# df2.abs\n",
    "# This returns a DataFrame with the absolute values of each element.\n",
    "print(df2.abs())"
   ]
  },
  {
   "cell_type": "code",
   "execution_count": 18,
   "id": "e0122420",
   "metadata": {},
   "outputs": [
    {
     "data": {
      "text/html": [
       "<div>\n",
       "<style scoped>\n",
       "    .dataframe tbody tr th:only-of-type {\n",
       "        vertical-align: middle;\n",
       "    }\n",
       "\n",
       "    .dataframe tbody tr th {\n",
       "        vertical-align: top;\n",
       "    }\n",
       "\n",
       "    .dataframe thead th {\n",
       "        text-align: right;\n",
       "    }\n",
       "</style>\n",
       "<table border=\"1\" class=\"dataframe\">\n",
       "  <thead>\n",
       "    <tr style=\"text-align: right;\">\n",
       "      <th></th>\n",
       "      <th>A</th>\n",
       "      <th>B</th>\n",
       "    </tr>\n",
       "  </thead>\n",
       "  <tbody>\n",
       "    <tr>\n",
       "      <th>0</th>\n",
       "      <td>1</td>\n",
       "      <td>4</td>\n",
       "    </tr>\n",
       "    <tr>\n",
       "      <th>1</th>\n",
       "      <td>2</td>\n",
       "      <td>-5</td>\n",
       "    </tr>\n",
       "    <tr>\n",
       "      <th>2</th>\n",
       "      <td>-3</td>\n",
       "      <td>-6</td>\n",
       "    </tr>\n",
       "    <tr>\n",
       "      <th>3</th>\n",
       "      <td>2</td>\n",
       "      <td>5</td>\n",
       "    </tr>\n",
       "    <tr>\n",
       "      <th>4</th>\n",
       "      <td>-4</td>\n",
       "      <td>8</td>\n",
       "    </tr>\n",
       "  </tbody>\n",
       "</table>\n",
       "</div>"
      ],
      "text/plain": [
       "   A  B\n",
       "0  1  4\n",
       "1  2 -5\n",
       "2 -3 -6\n",
       "3  2  5\n",
       "4 -4  8"
      ]
     },
     "execution_count": 18,
     "metadata": {},
     "output_type": "execute_result"
    }
   ],
   "source": [
    "import pandas as pd\n",
    "\n",
    "# Creating a sample DataFrame\n",
    "data = {\n",
    "    'A': [1, 2, -3, 2, -4],\n",
    "    'B': [4, -5, -6, 5, 8],\n",
    "}\n",
    "df2 = pd.DataFrame(data)\n",
    "df2"
   ]
  },
  {
   "cell_type": "code",
   "execution_count": 19,
   "id": "01931b41",
   "metadata": {},
   "outputs": [
    {
     "name": "stdout",
     "output_type": "stream",
     "text": [
      "   A  B\n",
      "0  1  4\n",
      "1  2  5\n",
      "2  3  6\n",
      "3  2  5\n",
      "4  4  8\n"
     ]
    }
   ],
   "source": [
    "print(df2.abs())"
   ]
  },
  {
   "cell_type": "code",
   "execution_count": 20,
   "id": "6c208421",
   "metadata": {},
   "outputs": [
    {
     "name": "stdout",
     "output_type": "stream",
     "text": [
      "    A   B\n",
      "0  11  14\n",
      "1  12   5\n",
      "2   7   4\n",
      "3  12  15\n",
      "4   6  18\n"
     ]
    }
   ],
   "source": [
    "# df2.add\n",
    "# This method performs element-wise addition with another DataFrame or scalar.\n",
    "print(df2.add(10))"
   ]
  },
  {
   "cell_type": "code",
   "execution_count": 21,
   "id": "9275a754",
   "metadata": {},
   "outputs": [
    {
     "name": "stdout",
     "output_type": "stream",
     "text": [
      "   X_A  X_B\n",
      "0    1    4\n",
      "1    2   -5\n",
      "2   -3   -6\n",
      "3    2    5\n",
      "4   -4    8\n"
     ]
    }
   ],
   "source": [
    "# df2.add_prefix\n",
    "# This adds a prefix to each column name.\n",
    "print(df2.add_prefix('X_'))\n"
   ]
  },
  {
   "cell_type": "code",
   "execution_count": 22,
   "id": "4bd07bd8",
   "metadata": {},
   "outputs": [
    {
     "name": "stdout",
     "output_type": "stream",
     "text": [
      "   A_Y  B_Y\n",
      "0    1    4\n",
      "1    2   -5\n",
      "2   -3   -6\n",
      "3    2    5\n",
      "4   -4    8\n"
     ]
    }
   ],
   "source": [
    "# df2.add_suffix\n",
    "# This adds a suffix to each column name.\n",
    "print(df2.add_suffix('_Y'))"
   ]
  },
  {
   "cell_type": "code",
   "execution_count": 24,
   "id": "15e2a332",
   "metadata": {},
   "outputs": [
    {
     "data": {
      "text/plain": [
       "<bound method NDFrame.align of    A  B\n",
       "0  1  4\n",
       "1  2 -5\n",
       "2 -3 -6\n",
       "3  2  5\n",
       "4 -4  8>"
      ]
     },
     "execution_count": 24,
     "metadata": {},
     "output_type": "execute_result"
    }
   ],
   "source": [
    "df2=df2.align\n",
    "df2\n",
    "# This aligns two objects on their axes.\n",
    "# Example: df1, df2 = df1.align(df2)\n",
    "# This aligns the two DataFrames df1 and df2 based on their indices and columns.\n"
   ]
  },
  {
   "cell_type": "code",
   "execution_count": 26,
   "id": "86b0edc6",
   "metadata": {},
   "outputs": [
    {
     "ename": "AttributeError",
     "evalue": "'function' object has no attribute 'all'",
     "output_type": "error",
     "traceback": [
      "\u001b[1;31m---------------------------------------------------------------------------\u001b[0m",
      "\u001b[1;31mAttributeError\u001b[0m                            Traceback (most recent call last)",
      "Cell \u001b[1;32mIn[26], line 1\u001b[0m\n\u001b[1;32m----> 1\u001b[0m df2\u001b[38;5;241m.\u001b[39mall\n",
      "\u001b[1;31mAttributeError\u001b[0m: 'function' object has no attribute 'all'"
     ]
    }
   ],
   "source": [
    "df2.all\n",
    "\n"
   ]
  },
  {
   "cell_type": "code",
   "execution_count": 27,
   "id": "a2e60154",
   "metadata": {},
   "outputs": [
    {
     "data": {
      "text/html": [
       "<div>\n",
       "<style scoped>\n",
       "    .dataframe tbody tr th:only-of-type {\n",
       "        vertical-align: middle;\n",
       "    }\n",
       "\n",
       "    .dataframe tbody tr th {\n",
       "        vertical-align: top;\n",
       "    }\n",
       "\n",
       "    .dataframe thead th {\n",
       "        text-align: right;\n",
       "    }\n",
       "</style>\n",
       "<table border=\"1\" class=\"dataframe\">\n",
       "  <thead>\n",
       "    <tr style=\"text-align: right;\">\n",
       "      <th></th>\n",
       "      <th>A</th>\n",
       "      <th>B</th>\n",
       "      <th>C</th>\n",
       "    </tr>\n",
       "  </thead>\n",
       "  <tbody>\n",
       "    <tr>\n",
       "      <th>0</th>\n",
       "      <td>1</td>\n",
       "      <td>4</td>\n",
       "      <td>a</td>\n",
       "    </tr>\n",
       "    <tr>\n",
       "      <th>1</th>\n",
       "      <td>2</td>\n",
       "      <td>5</td>\n",
       "      <td>b</td>\n",
       "    </tr>\n",
       "    <tr>\n",
       "      <th>2</th>\n",
       "      <td>3</td>\n",
       "      <td>6</td>\n",
       "      <td>c</td>\n",
       "    </tr>\n",
       "    <tr>\n",
       "      <th>3</th>\n",
       "      <td>2</td>\n",
       "      <td>5</td>\n",
       "      <td>d</td>\n",
       "    </tr>\n",
       "    <tr>\n",
       "      <th>4</th>\n",
       "      <td>4</td>\n",
       "      <td>8</td>\n",
       "      <td>e</td>\n",
       "    </tr>\n",
       "  </tbody>\n",
       "</table>\n",
       "</div>"
      ],
      "text/plain": [
       "   A  B  C\n",
       "0  1  4  a\n",
       "1  2  5  b\n",
       "2  3  6  c\n",
       "3  2  5  d\n",
       "4  4  8  e"
      ]
     },
     "execution_count": 27,
     "metadata": {},
     "output_type": "execute_result"
    }
   ],
   "source": [
    "import pandas as pd\n",
    "\n",
    "# Creating a sample DataFrame\n",
    "data = {\n",
    "    'A': [1, 2, 3, 2, 4],\n",
    "    'B': [4, 5, 6, 5, 8],\n",
    "    'C': ['a', 'b', 'c', 'd', 'e']\n",
    "}\n",
    "\n",
    "df2 = pd.DataFrame(data)\n",
    "df2"
   ]
  },
  {
   "cell_type": "code",
   "execution_count": 29,
   "id": "7b22d37d",
   "metadata": {},
   "outputs": [
    {
     "data": {
      "text/plain": [
       "A    True\n",
       "B    True\n",
       "C    True\n",
       "dtype: bool"
      ]
     },
     "execution_count": 29,
     "metadata": {},
     "output_type": "execute_result"
    }
   ],
   "source": [
    "df2.all()"
   ]
  },
  {
   "cell_type": "code",
   "execution_count": 30,
   "id": "182842f9",
   "metadata": {},
   "outputs": [
    {
     "data": {
      "text/plain": [
       "<bound method DataFrame.all of    A  B  C\n",
       "0  1  4  a\n",
       "1  2  5  b\n",
       "2  3  6  c\n",
       "3  2  5  d\n",
       "4  4  8  e>"
      ]
     },
     "execution_count": 30,
     "metadata": {},
     "output_type": "execute_result"
    }
   ],
   "source": [
    "df2.all"
   ]
  },
  {
   "cell_type": "code",
   "execution_count": 31,
   "id": "a4e10411",
   "metadata": {},
   "outputs": [
    {
     "name": "stdout",
     "output_type": "stream",
     "text": [
      "A    True\n",
      "B    True\n",
      "C    True\n",
      "dtype: bool\n"
     ]
    }
   ],
   "source": [
    "# df2.any\n",
    "# This checks if any element is True.\n",
    "print(df2.any())"
   ]
  },
  {
   "cell_type": "code",
   "execution_count": 34,
   "id": "8cfb485a",
   "metadata": {},
   "outputs": [
    {
     "ename": "AttributeError",
     "evalue": "'DataFrame' object has no attribute 'append'",
     "output_type": "error",
     "traceback": [
      "\u001b[1;31m---------------------------------------------------------------------------\u001b[0m",
      "\u001b[1;31mAttributeError\u001b[0m                            Traceback (most recent call last)",
      "\u001b[1;32m~\\AppData\\Local\\Temp\\ipykernel_14380\\216973788.py\u001b[0m in \u001b[0;36m?\u001b[1;34m()\u001b[0m\n\u001b[0;32m      1\u001b[0m \u001b[1;31m# df2.append\u001b[0m\u001b[1;33m\u001b[0m\u001b[1;33m\u001b[0m\u001b[0m\n\u001b[0;32m      2\u001b[0m \u001b[1;31m# This function appends rows of another DataFrame to the end of the caller DataFrame.\u001b[0m\u001b[1;33m\u001b[0m\u001b[1;33m\u001b[0m\u001b[0m\n\u001b[0;32m      3\u001b[0m \u001b[1;31m# Note: This is a function, not an attribute of the DataFrame object.\u001b[0m\u001b[1;33m\u001b[0m\u001b[1;33m\u001b[0m\u001b[0m\n\u001b[0;32m      4\u001b[0m \u001b[0mdf3\u001b[0m \u001b[1;33m=\u001b[0m \u001b[0mpd\u001b[0m\u001b[1;33m.\u001b[0m\u001b[0mDataFrame\u001b[0m\u001b[1;33m(\u001b[0m\u001b[1;33m{\u001b[0m\u001b[1;34m'A'\u001b[0m\u001b[1;33m:\u001b[0m \u001b[1;33m[\u001b[0m\u001b[1;36m5\u001b[0m\u001b[1;33m]\u001b[0m\u001b[1;33m,\u001b[0m \u001b[1;34m'B'\u001b[0m\u001b[1;33m:\u001b[0m \u001b[1;33m[\u001b[0m\u001b[1;36m9\u001b[0m\u001b[1;33m]\u001b[0m\u001b[1;33m,\u001b[0m \u001b[1;34m'C'\u001b[0m\u001b[1;33m:\u001b[0m \u001b[1;33m[\u001b[0m\u001b[1;34m'f'\u001b[0m\u001b[1;33m]\u001b[0m\u001b[1;33m}\u001b[0m\u001b[1;33m)\u001b[0m\u001b[1;33m\u001b[0m\u001b[1;33m\u001b[0m\u001b[0m\n\u001b[1;32m----> 5\u001b[1;33m \u001b[0mdf2\u001b[0m \u001b[1;33m=\u001b[0m \u001b[0mdf2\u001b[0m\u001b[1;33m.\u001b[0m\u001b[0mappend\u001b[0m\u001b[1;33m(\u001b[0m\u001b[0mdf3\u001b[0m\u001b[1;33m)\u001b[0m\u001b[1;33m\u001b[0m\u001b[1;33m\u001b[0m\u001b[0m\n\u001b[0m\u001b[0;32m      6\u001b[0m \u001b[0mprint\u001b[0m\u001b[1;33m(\u001b[0m\u001b[0mdf2\u001b[0m\u001b[1;33m)\u001b[0m\u001b[1;33m\u001b[0m\u001b[1;33m\u001b[0m\u001b[0m\n",
      "\u001b[1;32m~\\AppData\\Roaming\\Python\\Python311\\site-packages\\pandas\\core\\generic.py\u001b[0m in \u001b[0;36m?\u001b[1;34m(self, name)\u001b[0m\n\u001b[0;32m   6200\u001b[0m             \u001b[1;32mand\u001b[0m \u001b[0mname\u001b[0m \u001b[1;32mnot\u001b[0m \u001b[1;32min\u001b[0m \u001b[0mself\u001b[0m\u001b[1;33m.\u001b[0m\u001b[0m_accessors\u001b[0m\u001b[1;33m\u001b[0m\u001b[1;33m\u001b[0m\u001b[0m\n\u001b[0;32m   6201\u001b[0m             \u001b[1;32mand\u001b[0m \u001b[0mself\u001b[0m\u001b[1;33m.\u001b[0m\u001b[0m_info_axis\u001b[0m\u001b[1;33m.\u001b[0m\u001b[0m_can_hold_identifiers_and_holds_name\u001b[0m\u001b[1;33m(\u001b[0m\u001b[0mname\u001b[0m\u001b[1;33m)\u001b[0m\u001b[1;33m\u001b[0m\u001b[1;33m\u001b[0m\u001b[0m\n\u001b[0;32m   6202\u001b[0m         ):\n\u001b[0;32m   6203\u001b[0m             \u001b[1;32mreturn\u001b[0m \u001b[0mself\u001b[0m\u001b[1;33m[\u001b[0m\u001b[0mname\u001b[0m\u001b[1;33m]\u001b[0m\u001b[1;33m\u001b[0m\u001b[1;33m\u001b[0m\u001b[0m\n\u001b[1;32m-> 6204\u001b[1;33m         \u001b[1;32mreturn\u001b[0m \u001b[0mobject\u001b[0m\u001b[1;33m.\u001b[0m\u001b[0m__getattribute__\u001b[0m\u001b[1;33m(\u001b[0m\u001b[0mself\u001b[0m\u001b[1;33m,\u001b[0m \u001b[0mname\u001b[0m\u001b[1;33m)\u001b[0m\u001b[1;33m\u001b[0m\u001b[1;33m\u001b[0m\u001b[0m\n\u001b[0m",
      "\u001b[1;31mAttributeError\u001b[0m: 'DataFrame' object has no attribute 'append'"
     ]
    }
   ],
   "source": [
    "# df2.append\n",
    "# This function appends rows of another DataFrame to the end of the caller DataFrame.\n",
    "# Note: This is a function, not an attribute of the DataFrame object.\n",
    "df3 = pd.DataFrame({'A': [5], 'B': [9], 'C': ['f']})\n",
    "df2 = df2.append(df3)\n",
    "print(df2)\n"
   ]
  },
  {
   "cell_type": "code",
   "execution_count": 40,
   "id": "2c174345",
   "metadata": {},
   "outputs": [
    {
     "name": "stdout",
     "output_type": "stream",
     "text": [
      "     A    B    C    0\n",
      "0  1.0  4.0    a  NaN\n",
      "1  2.0  5.0    b  NaN\n",
      "2  3.0  6.0    c  NaN\n",
      "3  2.0  5.0    d  NaN\n",
      "4  4.0  8.0    e  NaN\n",
      "A  NaN  NaN  NaN    5\n",
      "B  NaN  NaN  NaN    9\n",
      "C  NaN  NaN  NaN    f\n"
     ]
    }
   ],
   "source": [
    "import pandas as pd\n",
    "\n",
    "# Creating a sample DataFrame\n",
    "data = {\n",
    "    'A': [1, 2, 3, 2, 4],\n",
    "    'B': [4, 5, 6, 5, 8],\n",
    "    'C': ['a', 'b', 'c', 'd', 'e']\n",
    "}\n",
    "\n",
    "df2 = pd.DataFrame(data)\n",
    "\n",
    "# Creating a sample Series\n",
    "df3 = pd.Series({'A': 5, 'B': 9, 'C': 'f'})\n",
    "\n",
    "# Appending the Series to the DataFrame using concat\n",
    "df2 = pd.concat([df2, df3], axis=0)\n",
    "\n",
    "print(df2)\n"
   ]
  },
  {
   "cell_type": "code",
   "execution_count": 42,
   "id": "82fcb8f3",
   "metadata": {},
   "outputs": [
    {
     "name": "stdout",
     "output_type": "stream",
     "text": [
      "     A    B    C    0\n",
      "0  1.0  4.0    a  NaN\n",
      "1  2.0  5.0    b  NaN\n",
      "2  3.0  6.0    c  NaN\n",
      "3  2.0  5.0    d  NaN\n",
      "4  4.0  8.0    e  NaN\n",
      "A  NaN  NaN  NaN    5\n",
      "B  NaN  NaN  NaN    9\n",
      "C  NaN  NaN  NaN    f\n"
     ]
    }
   ],
   "source": [
    "import pandas as pd\n",
    "\n",
    "# Creating a sample DataFrame\n",
    "data = {\n",
    "    'A': [1, 2, 3, 2, 4],\n",
    "    'B': [4, 5, 6, 5, 8],\n",
    "    'C': ['a', 'b', 'c', 'd', 'e']\n",
    "}\n",
    "\n",
    "df2 = pd.DataFrame(data)\n",
    "\n",
    "# Creating a sample Series\n",
    "df3 = pd.Series({'A': 5, 'B': 9, 'C': 'f'})\n",
    "\n",
    "# Appending the Series to the DataFrame using concat\n",
    "df2 = pd.concat([df2, df3], axis=1)\n",
    "\n",
    "print(df2)"
   ]
  },
  {
   "cell_type": "code",
   "execution_count": 43,
   "id": "e2d8d7fe",
   "metadata": {},
   "outputs": [
    {
     "name": "stdout",
     "output_type": "stream",
     "text": [
      "     A     B    C    0\n",
      "0  2.0   8.0   aa  NaN\n",
      "1  4.0  10.0   bb  NaN\n",
      "2  6.0  12.0   cc  NaN\n",
      "3  4.0  10.0   dd  NaN\n",
      "4  8.0  16.0   ee  NaN\n",
      "A  NaN   NaN  NaN   10\n",
      "B  NaN   NaN  NaN   18\n",
      "C  NaN   NaN  NaN   ff\n"
     ]
    }
   ],
   "source": [
    "# df2.apply\n",
    "# This applies a function along an axis of the DataFrame.\n",
    "print(df2.apply(lambda x: x*2))"
   ]
  },
  {
   "cell_type": "code",
   "execution_count": 45,
   "id": "32e70514",
   "metadata": {},
   "outputs": [
    {
     "name": "stdout",
     "output_type": "stream",
     "text": [
      "     A     B    C    0\n",
      "0  2.0   8.0   aa  NaN\n",
      "1  4.0  10.0   bb  NaN\n",
      "2  6.0  12.0   cc  NaN\n",
      "3  4.0  10.0   dd  NaN\n",
      "4  8.0  16.0   ee  NaN\n",
      "A  NaN   NaN  NaN   10\n",
      "B  NaN   NaN  NaN   18\n",
      "C  NaN   NaN  NaN   ff\n"
     ]
    }
   ],
   "source": [
    "# df2.applymap is depredicted only map \n",
    "# This applies a function to a DataFrame element-wise.\n",
    "print(df2.map(lambda x: x*2))"
   ]
  },
  {
   "cell_type": "code",
   "execution_count": 48,
   "id": "3382ec12",
   "metadata": {},
   "outputs": [
    {
     "name": "stdout",
     "output_type": "stream",
     "text": [
      "A    True\n",
      "B    True\n",
      "C    True\n",
      "0    True\n",
      "dtype: bool\n"
     ]
    }
   ],
   "source": [
    "# df2.bool  bool not available\n",
    "# This returns True unless the DataFrame is empty.\n",
    "print(df2.all())"
   ]
  },
  {
   "cell_type": "code",
   "execution_count": 49,
   "id": "2a870e91",
   "metadata": {},
   "outputs": [
    {
     "data": {
      "text/plain": [
       "<Axes: >"
      ]
     },
     "execution_count": 49,
     "metadata": {},
     "output_type": "execute_result"
    },
    {
     "data": {
      "image/png": "[encoded data removed]",
      "text/plain": [
       "<Figure size 640x480 with 1 Axes>"
      ]
     },
     "metadata": {},
     "output_type": "display_data"
    }
   ],
   "source": [
    "# df2.boxplot\n",
    "# This makes a box plot of the DataFrame columns.\n",
    "df2.boxplot()"
   ]
  },
  {
   "cell_type": "code",
   "execution_count": 50,
   "id": "d04dbe69",
   "metadata": {},
   "outputs": [
    {
     "name": "stdout",
     "output_type": "stream",
     "text": [
      "0      a\n",
      "1      b\n",
      "2      c\n",
      "3      d\n",
      "4      e\n",
      "A    NaN\n",
      "B    NaN\n",
      "C    NaN\n",
      "Name: C, dtype: object\n"
     ]
    }
   ],
   "source": [
    "# df2.C\n",
    "# This retrieves the column 'C' from the DataFrame.\n",
    "print(df2.C)"
   ]
  },
  {
   "cell_type": "code",
   "execution_count": 52,
   "id": "1fdd7cb6",
   "metadata": {},
   "outputs": [
    {
     "data": {
      "text/html": [
       "<div>\n",
       "<style scoped>\n",
       "    .dataframe tbody tr th:only-of-type {\n",
       "        vertical-align: middle;\n",
       "    }\n",
       "\n",
       "    .dataframe tbody tr th {\n",
       "        vertical-align: top;\n",
       "    }\n",
       "\n",
       "    .dataframe thead th {\n",
       "        text-align: right;\n",
       "    }\n",
       "</style>\n",
       "<table border=\"1\" class=\"dataframe\">\n",
       "  <thead>\n",
       "    <tr style=\"text-align: right;\">\n",
       "      <th></th>\n",
       "      <th>A</th>\n",
       "      <th>B</th>\n",
       "    </tr>\n",
       "  </thead>\n",
       "  <tbody>\n",
       "    <tr>\n",
       "      <th>0</th>\n",
       "      <td>1</td>\n",
       "      <td>4</td>\n",
       "    </tr>\n",
       "    <tr>\n",
       "      <th>1</th>\n",
       "      <td>2</td>\n",
       "      <td>-5</td>\n",
       "    </tr>\n",
       "    <tr>\n",
       "      <th>2</th>\n",
       "      <td>-3</td>\n",
       "      <td>-6</td>\n",
       "    </tr>\n",
       "    <tr>\n",
       "      <th>3</th>\n",
       "      <td>2</td>\n",
       "      <td>5</td>\n",
       "    </tr>\n",
       "    <tr>\n",
       "      <th>4</th>\n",
       "      <td>-4</td>\n",
       "      <td>8</td>\n",
       "    </tr>\n",
       "  </tbody>\n",
       "</table>\n",
       "</div>"
      ],
      "text/plain": [
       "   A  B\n",
       "0  1  4\n",
       "1  2 -5\n",
       "2 -3 -6\n",
       "3  2  5\n",
       "4 -4  8"
      ]
     },
     "execution_count": 52,
     "metadata": {},
     "output_type": "execute_result"
    }
   ],
   "source": [
    "import pandas as pd\n",
    "\n",
    "# Creating a sample DataFrame\n",
    "data = {\n",
    "    'A': [1, 2, -3, 2, -4],\n",
    "    'B': [4, -5, -6, 5, 8],\n",
    "}\n",
    "df2 = pd.DataFrame(data)\n",
    "df2"
   ]
  },
  {
   "cell_type": "code",
   "execution_count": 53,
   "id": "e79c62a4",
   "metadata": {},
   "outputs": [
    {
     "name": "stdout",
     "output_type": "stream",
     "text": [
      "   A  B\n",
      "0  2  4\n",
      "1  2  2\n",
      "2  2  2\n",
      "3  2  4\n",
      "4  2  4\n"
     ]
    }
   ],
   "source": [
    "# df2.clip\n",
    "# This clips (limit) the values in the DataFrame.\n",
    "print(df2.clip(2, 4))"
   ]
  },
  {
   "cell_type": "code",
   "execution_count": 54,
   "id": "c2fd4261",
   "metadata": {},
   "outputs": [
    {
     "name": "stdout",
     "output_type": "stream",
     "text": [
      "Index(['A', 'B'], dtype='object')\n"
     ]
    }
   ],
   "source": [
    "# df2.columns\n",
    "# This returns the column labels of the DataFrame.\n",
    "print(df2.columns)"
   ]
  },
  {
   "cell_type": "code",
   "execution_count": 56,
   "id": "2c6140cf",
   "metadata": {},
   "outputs": [
    {
     "data": {
      "text/html": [
       "<div>\n",
       "<style scoped>\n",
       "    .dataframe tbody tr th:only-of-type {\n",
       "        vertical-align: middle;\n",
       "    }\n",
       "\n",
       "    .dataframe tbody tr th {\n",
       "        vertical-align: top;\n",
       "    }\n",
       "\n",
       "    .dataframe thead th {\n",
       "        text-align: right;\n",
       "    }\n",
       "</style>\n",
       "<table border=\"1\" class=\"dataframe\">\n",
       "  <thead>\n",
       "    <tr style=\"text-align: right;\">\n",
       "      <th></th>\n",
       "      <th>A</th>\n",
       "      <th>B</th>\n",
       "    </tr>\n",
       "  </thead>\n",
       "  <tbody>\n",
       "    <tr>\n",
       "      <th>0</th>\n",
       "      <td>1</td>\n",
       "      <td>4</td>\n",
       "    </tr>\n",
       "    <tr>\n",
       "      <th>1</th>\n",
       "      <td>2</td>\n",
       "      <td>-5</td>\n",
       "    </tr>\n",
       "    <tr>\n",
       "      <th>2</th>\n",
       "      <td>-3</td>\n",
       "      <td>-6</td>\n",
       "    </tr>\n",
       "    <tr>\n",
       "      <th>3</th>\n",
       "      <td>2</td>\n",
       "      <td>5</td>\n",
       "    </tr>\n",
       "    <tr>\n",
       "      <th>4</th>\n",
       "      <td>-4</td>\n",
       "      <td>8</td>\n",
       "    </tr>\n",
       "  </tbody>\n",
       "</table>\n",
       "</div>"
      ],
      "text/plain": [
       "   A  B\n",
       "0  1  4\n",
       "1  2 -5\n",
       "2 -3 -6\n",
       "3  2  5\n",
       "4 -4  8"
      ]
     },
     "execution_count": 56,
     "metadata": {},
     "output_type": "execute_result"
    }
   ],
   "source": [
    "# df2.copy\n",
    "# This makes a copy of the DataFrame.\n",
    "df2_copy = df2.copy()\n",
    "df2_copy"
   ]
  },
  {
   "cell_type": "code",
   "execution_count": 57,
   "id": "99a6566f",
   "metadata": {},
   "outputs": [
    {
     "name": "stdout",
     "output_type": "stream",
     "text": [
      "A    5\n",
      "B    5\n",
      "dtype: int64\n"
     ]
    }
   ],
   "source": [
    "# df2.count\n",
    "# This counts non-NA/null values in each column.\n",
    "print(df2.count())"
   ]
  },
  {
   "cell_type": "code",
   "execution_count": 62,
   "id": "d004b35e",
   "metadata": {},
   "outputs": [
    {
     "name": "stdout",
     "output_type": "stream",
     "text": [
      "              A         B\n",
      "count  5.000000  5.000000\n",
      "mean  -0.400000  1.200000\n",
      "std    2.880972  6.300794\n",
      "min   -4.000000 -6.000000\n",
      "25%   -3.000000 -5.000000\n",
      "50%    1.000000  4.000000\n",
      "75%    2.000000  5.000000\n",
      "max    2.000000  8.000000\n"
     ]
    }
   ],
   "source": [
    "# df2.describe\n",
    "# This generates descriptive statistics of the DataFrame.\n",
    "print(df2.describe())"
   ]
  },
  {
   "cell_type": "code",
   "execution_count": 63,
   "id": "ee5cf5e1",
   "metadata": {},
   "outputs": [
    {
     "name": "stdout",
     "output_type": "stream",
     "text": [
      "     A     B\n",
      "0  NaN   NaN\n",
      "1  1.0  -9.0\n",
      "2 -5.0  -1.0\n",
      "3  5.0  11.0\n",
      "4 -6.0   3.0\n"
     ]
    }
   ],
   "source": [
    "# df2.diff\n",
    "# This calculates the difference of a DataFrame element compared with another element in the DataFrame.\n",
    "print(df2.diff())"
   ]
  },
  {
   "cell_type": "code",
   "execution_count": 64,
   "id": "9fb9d686",
   "metadata": {},
   "outputs": [
    {
     "name": "stdout",
     "output_type": "stream",
     "text": [
      "0    False\n",
      "1    False\n",
      "2    False\n",
      "3    False\n",
      "4    False\n",
      "dtype: bool\n"
     ]
    }
   ],
   "source": [
    "# df2.duplicated\n",
    "# This identifies duplicate rows in the DataFrame.\n",
    "print(df2.duplicated())"
   ]
  },
  {
   "cell_type": "code",
   "execution_count": null,
   "id": "3a4c794d",
   "metadata": {},
   "outputs": [],
   "source": []
  }
 ],
 "metadata": {
  "kernelspec": {
   "display_name": "Python 3 (ipykernel)",
   "language": "python",
   "name": "python3"
  },
  "language_info": {
   "codemirror_mode": {
    "name": "ipython",
    "version": 3
   },
   "file_extension": ".py",
   "mimetype": "text/x-python",
   "name": "python",
   "nbconvert_exporter": "python",
   "pygments_lexer": "ipython3",
   "version": "3.11.5"
  }
 },
 "nbformat": 4,
 "nbformat_minor": 5
}
