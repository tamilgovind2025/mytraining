{
 "cells": [
  {
   "cell_type": "code",
   "execution_count": 2,
   "id": "0626c9fd",
   "metadata": {},
   "outputs": [
    {
     "data": {
      "text/html": [
       "<div>\n",
       "<style scoped>\n",
       "    .dataframe tbody tr th:only-of-type {\n",
       "        vertical-align: middle;\n",
       "    }\n",
       "\n",
       "    .dataframe tbody tr th {\n",
       "        vertical-align: top;\n",
       "    }\n",
       "\n",
       "    .dataframe thead th {\n",
       "        text-align: right;\n",
       "    }\n",
       "</style>\n",
       "<table border=\"1\" class=\"dataframe\">\n",
       "  <thead>\n",
       "    <tr style=\"text-align: right;\">\n",
       "      <th></th>\n",
       "      <th>A</th>\n",
       "      <th>B</th>\n",
       "    </tr>\n",
       "  </thead>\n",
       "  <tbody>\n",
       "    <tr>\n",
       "      <th>0</th>\n",
       "      <td>1</td>\n",
       "      <td>10</td>\n",
       "    </tr>\n",
       "    <tr>\n",
       "      <th>1</th>\n",
       "      <td>2</td>\n",
       "      <td>20</td>\n",
       "    </tr>\n",
       "    <tr>\n",
       "      <th>2</th>\n",
       "      <td>3</td>\n",
       "      <td>30</td>\n",
       "    </tr>\n",
       "    <tr>\n",
       "      <th>3</th>\n",
       "      <td>4</td>\n",
       "      <td>40</td>\n",
       "    </tr>\n",
       "    <tr>\n",
       "      <th>4</th>\n",
       "      <td>5</td>\n",
       "      <td>50</td>\n",
       "    </tr>\n",
       "  </tbody>\n",
       "</table>\n",
       "</div>"
      ],
      "text/plain": [
       "   A   B\n",
       "0  1  10\n",
       "1  2  20\n",
       "2  3  30\n",
       "3  4  40\n",
       "4  5  50"
      ]
     },
     "execution_count": 2,
     "metadata": {},
     "output_type": "execute_result"
    }
   ],
   "source": [
    "import pandas as pd\n",
    "\n",
    "# Create a DataFrame\n",
    "data = {'A': [1, 2, 3, 4, 5],\n",
    "        'B': [10, 20, 30, 40, 50]}\n",
    "df = pd.DataFrame(data)\n",
    "df"
   ]
  },
  {
   "cell_type": "markdown",
   "id": "e2fa663f",
   "metadata": {},
   "source": [
    "# mean"
   ]
  },
  {
   "cell_type": "code",
   "execution_count": 4,
   "id": "6f84647e",
   "metadata": {},
   "outputs": [
    {
     "name": "stdout",
     "output_type": "stream",
     "text": [
      "Mean:\n",
      " A     3.0\n",
      "B    30.0\n",
      "dtype: float64\n"
     ]
    }
   ],
   "source": [
    "# Calculate mean\n",
    "mean = df.mean(axis=0)\n",
    "print(\"Mean:\\n\", mean)"
   ]
  },
  {
   "cell_type": "code",
   "execution_count": 5,
   "id": "7a3054a6",
   "metadata": {},
   "outputs": [
    {
     "name": "stdout",
     "output_type": "stream",
     "text": [
      "Mean:\n",
      " 0     5.5\n",
      "1    11.0\n",
      "2    16.5\n",
      "3    22.0\n",
      "4    27.5\n",
      "dtype: float64\n"
     ]
    }
   ],
   "source": [
    "# Calculate mean\n",
    "mean = df.mean(axis=1)\n",
    "print(\"Mean:\\n\", mean)"
   ]
  },
  {
   "cell_type": "markdown",
   "id": "753c4506",
   "metadata": {},
   "source": [
    "# median"
   ]
  },
  {
   "cell_type": "code",
   "execution_count": 6,
   "id": "0816c285",
   "metadata": {},
   "outputs": [
    {
     "name": "stdout",
     "output_type": "stream",
     "text": [
      "\n",
      "Median:\n",
      " A     3.0\n",
      "B    30.0\n",
      "dtype: float64\n"
     ]
    }
   ],
   "source": [
    "# Calculate median\n",
    "median = df.median()\n",
    "print(\"\\nMedian:\\n\", median)"
   ]
  },
  {
   "cell_type": "code",
   "execution_count": 7,
   "id": "dcd011db",
   "metadata": {},
   "outputs": [
    {
     "name": "stdout",
     "output_type": "stream",
     "text": [
      "\n",
      "Median:\n",
      " A     3.0\n",
      "B    30.0\n",
      "dtype: float64\n"
     ]
    }
   ],
   "source": [
    "# Calculate median\n",
    "median = df.median(axis=0)\n",
    "print(\"\\nMedian:\\n\", median)"
   ]
  },
  {
   "cell_type": "code",
   "execution_count": 8,
   "id": "976b233f",
   "metadata": {},
   "outputs": [
    {
     "name": "stdout",
     "output_type": "stream",
     "text": [
      "\n",
      "Median:\n",
      " 0     5.5\n",
      "1    11.0\n",
      "2    16.5\n",
      "3    22.0\n",
      "4    27.5\n",
      "dtype: float64\n"
     ]
    }
   ],
   "source": [
    "# Calculate median\n",
    "median = df.median(axis=1)\n",
    "print(\"\\nMedian:\\n\", median)"
   ]
  },
  {
   "cell_type": "markdown",
   "id": "ce453330",
   "metadata": {},
   "source": [
    "# min()"
   ]
  },
  {
   "cell_type": "code",
   "execution_count": 9,
   "id": "ae8b0830",
   "metadata": {},
   "outputs": [
    {
     "name": "stdout",
     "output_type": "stream",
     "text": [
      "\n",
      "Minimum:\n",
      " A     1\n",
      "B    10\n",
      "dtype: int64\n"
     ]
    }
   ],
   "source": [
    "# Calculate minimum\n",
    "min_value = df.min()\n",
    "print(\"\\nMinimum:\\n\", min_value)"
   ]
  },
  {
   "cell_type": "code",
   "execution_count": 10,
   "id": "796bb774",
   "metadata": {},
   "outputs": [
    {
     "name": "stdout",
     "output_type": "stream",
     "text": [
      "\n",
      "Minimum:\n",
      " A     1\n",
      "B    10\n",
      "dtype: int64\n"
     ]
    }
   ],
   "source": [
    "# Calculate minimum\n",
    "min_value = df.min(axis=0)\n",
    "print(\"\\nMinimum:\\n\", min_value)"
   ]
  },
  {
   "cell_type": "code",
   "execution_count": 11,
   "id": "9bfd7a13",
   "metadata": {},
   "outputs": [
    {
     "name": "stdout",
     "output_type": "stream",
     "text": [
      "\n",
      "Minimum:\n",
      " 0    1\n",
      "1    2\n",
      "2    3\n",
      "3    4\n",
      "4    5\n",
      "dtype: int64\n"
     ]
    }
   ],
   "source": [
    "# Calculate minimum\n",
    "min_value = df.min(axis=1)\n",
    "print(\"\\nMinimum:\\n\", min_value)"
   ]
  },
  {
   "cell_type": "markdown",
   "id": "1362cc41",
   "metadata": {},
   "source": [
    "# max()"
   ]
  },
  {
   "cell_type": "code",
   "execution_count": 12,
   "id": "1866ed21",
   "metadata": {},
   "outputs": [
    {
     "name": "stdout",
     "output_type": "stream",
     "text": [
      "\n",
      "Maximum:\n",
      " A     5\n",
      "B    50\n",
      "dtype: int64\n"
     ]
    }
   ],
   "source": [
    "# Calculate maximum\n",
    "max_value = df.max()\n",
    "print(\"\\nMaximum:\\n\", max_value)"
   ]
  },
  {
   "cell_type": "code",
   "execution_count": 13,
   "id": "99dacae5",
   "metadata": {},
   "outputs": [
    {
     "name": "stdout",
     "output_type": "stream",
     "text": [
      "\n",
      "Maximum:\n",
      " A     5\n",
      "B    50\n",
      "dtype: int64\n"
     ]
    }
   ],
   "source": [
    "# Calculate maximum\n",
    "max_value = df.max(axis=0)\n",
    "print(\"\\nMaximum:\\n\", max_value)"
   ]
  },
  {
   "cell_type": "code",
   "execution_count": 14,
   "id": "cca15ebd",
   "metadata": {},
   "outputs": [
    {
     "name": "stdout",
     "output_type": "stream",
     "text": [
      "\n",
      "Maximum:\n",
      " 0    10\n",
      "1    20\n",
      "2    30\n",
      "3    40\n",
      "4    50\n",
      "dtype: int64\n"
     ]
    }
   ],
   "source": [
    "# Calculate maximum\n",
    "max_value = df.max(axis=1)\n",
    "print(\"\\nMaximum:\\n\", max_value)"
   ]
  },
  {
   "cell_type": "markdown",
   "id": "80f9d324",
   "metadata": {},
   "source": [
    "# standard deviation"
   ]
  },
  {
   "cell_type": "code",
   "execution_count": 15,
   "id": "e1f7de47",
   "metadata": {},
   "outputs": [
    {
     "name": "stdout",
     "output_type": "stream",
     "text": [
      "\n",
      "Standard Deviation:\n",
      " A     1.581139\n",
      "B    15.811388\n",
      "dtype: float64\n"
     ]
    }
   ],
   "source": [
    "# Calculate standard deviation\n",
    "std_dev = df.std()\n",
    "print(\"\\nStandard Deviation:\\n\", std_dev)"
   ]
  },
  {
   "cell_type": "code",
   "execution_count": 28,
   "id": "f691cef4",
   "metadata": {},
   "outputs": [
    {
     "name": "stdout",
     "output_type": "stream",
     "text": [
      "\n",
      "Standard Deviation:\n",
      " A     1.581139\n",
      "B    15.811388\n",
      "dtype: float64\n"
     ]
    }
   ],
   "source": [
    "# Calculate standard deviation\n",
    "std_dev = df.std(axis=0)\n",
    "print(\"\\nStandard Deviation:\\n\", std_dev)"
   ]
  },
  {
   "cell_type": "code",
   "execution_count": 29,
   "id": "cd63adfe",
   "metadata": {},
   "outputs": [
    {
     "name": "stdout",
     "output_type": "stream",
     "text": [
      "\n",
      "Standard Deviation:\n",
      " 0     6.363961\n",
      "1    12.727922\n",
      "2    19.091883\n",
      "3    25.455844\n",
      "4    31.819805\n",
      "dtype: float64\n"
     ]
    }
   ],
   "source": [
    "# Calculate standard deviation\n",
    "std_dev = df.std(axis=1)\n",
    "print(\"\\nStandard Deviation:\\n\", std_dev)"
   ]
  },
  {
   "cell_type": "markdown",
   "id": "110d7eb8",
   "metadata": {},
   "source": [
    "# correlation "
   ]
  },
  {
   "cell_type": "code",
   "execution_count": 26,
   "id": "af955a2c",
   "metadata": {},
   "outputs": [
    {
     "name": "stdout",
     "output_type": "stream",
     "text": [
      "Correlation Matrix:\n",
      "      A    B\n",
      "A  1.0  1.0\n",
      "B  1.0  1.0\n"
     ]
    }
   ],
   "source": [
    "# Calculate correlation matrix\n",
    "correlation_matrix = df.corr()\n",
    "print(\"Correlation Matrix:\\n\", correlation_matrix)"
   ]
  },
  {
   "cell_type": "code",
   "execution_count": 31,
   "id": "ff89b0b8",
   "metadata": {},
   "outputs": [
    {
     "name": "stdout",
     "output_type": "stream",
     "text": [
      "Correlation Matrix:\n",
      "      A    B\n",
      "A  1.0  1.0\n",
      "B  1.0  1.0\n"
     ]
    }
   ],
   "source": [
    "# Calculate correlation matrix\n",
    "correlation_matrix = df.corr() #no axis \n",
    "print(\"Correlation Matrix:\\n\", correlation_matrix)"
   ]
  },
  {
   "cell_type": "markdown",
   "id": "194bc5d0",
   "metadata": {},
   "source": [
    "# co variance "
   ]
  },
  {
   "cell_type": "code",
   "execution_count": 34,
   "id": "7cc5cbb7",
   "metadata": {},
   "outputs": [
    {
     "name": "stdout",
     "output_type": "stream",
     "text": [
      "Covariance Matrix:\n",
      "       A      B\n",
      "A   2.5   25.0\n",
      "B  25.0  250.0\n"
     ]
    }
   ],
   "source": [
    "# Calculate covariance matrix\n",
    "covariance_matrix = df.cov()\n",
    "print(\"Covariance Matrix:\\n\", covariance_matrix)"
   ]
  },
  {
   "cell_type": "markdown",
   "id": "f2206ec6",
   "metadata": {},
   "source": [
    "# value counts "
   ]
  },
  {
   "cell_type": "code",
   "execution_count": 36,
   "id": "be333892",
   "metadata": {},
   "outputs": [
    {
     "name": "stdout",
     "output_type": "stream",
     "text": [
      "Value Counts for Column 'A':\n",
      " A\n",
      "1    1\n",
      "2    1\n",
      "3    1\n",
      "4    1\n",
      "5    1\n",
      "Name: count, dtype: int64\n"
     ]
    }
   ],
   "source": [
    "# Count unique values in column 'A'\n",
    "value_counts_A = df['A'].value_counts()\n",
    "print(\"Value Counts for Column 'A':\\n\", value_counts_A)\n"
   ]
  },
  {
   "cell_type": "code",
   "execution_count": 40,
   "id": "c4dc1fa8",
   "metadata": {},
   "outputs": [
    {
     "data": {
      "text/plain": [
       "A  B \n",
       "1  10    1\n",
       "2  20    1\n",
       "3  30    1\n",
       "4  40    1\n",
       "5  50    1\n",
       "Name: count, dtype: int64"
      ]
     },
     "execution_count": 40,
     "metadata": {},
     "output_type": "execute_result"
    }
   ],
   "source": [
    "# Count unique values in column 'A'\n",
    "value_counts_A = df.value_counts\n",
    "value_counts_A()"
   ]
  },
  {
   "cell_type": "markdown",
   "id": "54a87a0d",
   "metadata": {},
   "source": [
    "# summary statistics"
   ]
  },
  {
   "cell_type": "code",
   "execution_count": 41,
   "id": "90f6fb52",
   "metadata": {},
   "outputs": [
    {
     "name": "stdout",
     "output_type": "stream",
     "text": [
      "Summary Statistics:\n",
      "               A          B\n",
      "count  5.000000   5.000000\n",
      "mean   3.000000  30.000000\n",
      "std    1.581139  15.811388\n",
      "min    1.000000  10.000000\n",
      "25%    2.000000  20.000000\n",
      "50%    3.000000  30.000000\n",
      "75%    4.000000  40.000000\n",
      "max    5.000000  50.000000\n"
     ]
    }
   ],
   "source": [
    "# Get summary statistics\n",
    "summary_stats = df.describe()\n",
    "print(\"Summary Statistics:\\n\", summary_stats)\n"
   ]
  },
  {
   "cell_type": "code",
   "execution_count": 42,
   "id": "0c9ea084",
   "metadata": {},
   "outputs": [
    {
     "name": "stdout",
     "output_type": "stream",
     "text": [
      "Cumulative Sum:\n",
      "     A    B\n",
      "0   1   10\n",
      "1   3   30\n",
      "2   6   60\n",
      "3  10  100\n",
      "4  15  150\n"
     ]
    }
   ],
   "source": [
    "# Calculate cumulative sum\n",
    "cumulative_sum = df.cumsum()\n",
    "print(\"Cumulative Sum:\\n\", cumulative_sum)\n"
   ]
  },
  {
   "cell_type": "code",
   "execution_count": 43,
   "id": "782e0fba",
   "metadata": {},
   "outputs": [
    {
     "name": "stdout",
     "output_type": "stream",
     "text": [
      "Skewness:\n",
      " A    0.0\n",
      "B    0.0\n",
      "dtype: float64\n",
      "\n",
      "Kurtosis:\n",
      " A   -1.2\n",
      "B   -1.2\n",
      "dtype: float64\n"
     ]
    }
   ],
   "source": [
    "# Calculate skewness\n",
    "skewness = df.skew()\n",
    "print(\"Skewness:\\n\", skewness)\n",
    "\n",
    "# Calculate kurtosis\n",
    "kurtosis = df.kurtosis()\n",
    "print(\"\\nKurtosis:\\n\", kurtosis)\n"
   ]
  },
  {
   "cell_type": "code",
   "execution_count": null,
   "id": "6fd6a250",
   "metadata": {},
   "outputs": [],
   "source": []
  }
 ],
 "metadata": {
  "kernelspec": {
   "display_name": "Python 3 (ipykernel)",
   "language": "python",
   "name": "python3"
  },
  "language_info": {
   "codemirror_mode": {
    "name": "ipython",
    "version": 3
   },
   "file_extension": ".py",
   "mimetype": "text/x-python",
   "name": "python",
   "nbconvert_exporter": "python",
   "pygments_lexer": "ipython3",
   "version": "3.11.5"
  }
 },
 "nbformat": 4,
 "nbformat_minor": 5
}
