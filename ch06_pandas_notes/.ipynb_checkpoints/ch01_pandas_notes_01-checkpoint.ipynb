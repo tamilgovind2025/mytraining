{
 "cells": [
  {
   "cell_type": "raw",
   "id": "175d5e33",
   "metadata": {},
   "source": [
    "# Introduction to Pandas\n",
    "In this section of the course we will learn how to use pandas for data analysis. You can think of pandas as an extremely powerful version of Excel, with a lot more features. In this section of the course, you should go through the notebooks in this order:\n",
    "\n",
    ". Introduction to Pandas\n",
    ". Series\n",
    ". DataFrames\n",
    ". Missing Data\n",
    ". duplicated datas\n",
    ". GroupBy\n",
    ". Merging,Joining,and Concatenating\n",
    ". Operations\n",
    ". Data Input and Output"
   ]
  },
  {
   "cell_type": "raw",
   "id": "e32463af",
   "metadata": {},
   "source": []
  },
  {
   "cell_type": "code",
   "execution_count": null,
   "id": "f5848b5c",
   "metadata": {},
   "outputs": [],
   "source": []
  }
 ],
 "metadata": {
  "kernelspec": {
   "display_name": "Python 3 (ipykernel)",
   "language": "python",
   "name": "python3"
  },
  "language_info": {
   "codemirror_mode": {
    "name": "ipython",
    "version": 3
   },
   "file_extension": ".py",
   "mimetype": "text/x-python",
   "name": "python",
   "nbconvert_exporter": "python",
   "pygments_lexer": "ipython3",
   "version": "3.11.5"
  }
 },
 "nbformat": 4,
 "nbformat_minor": 5
}
