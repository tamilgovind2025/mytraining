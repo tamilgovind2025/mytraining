{
 "cells": [
  {
   "cell_type": "raw",
   "id": "175d5e33",
   "metadata": {},
   "source": [
    "# Introduction to Pandas\n",
    "In this section of the course we will learn how to use pandas for data analysis. You can think of pandas as an extremely powerful version of Excel, with a lot more features. In this section of the course, you should go through the notebooks in this order:\n",
    "\n",
    ". Introduction to Pandas\n",
    ". Series\n",
    ". DataFrames\n",
    ". Missing Data\n",
    ". duplicated datas\n",
    ". GroupBy\n",
    ". Merging,Joining,and Concatenating\n",
    ". Operations\n",
    ". Data Input and Output"
   ]
  },
  {
   "cell_type": "markdown",
   "id": "8e617d30",
   "metadata": {},
   "source": [
    "# introduction to pandas \n"
   ]
  },
  {
   "cell_type": "raw",
   "id": "dcf6c7cf",
   "metadata": {},
   "source": [
    "Pandas is a popular Python library used for data manipulation and analysis. It provides easy-to-use data structures and data analysis tools for handling structured data. Here's a brief introduction to some of the key components and features of Pandas:\n",
    "\n",
    "Data Structures:\n",
    "\n",
    "Series: A one-dimensional array-like object that can hold data of any type. It is similar to a list or a column in a table.\n",
    "DataFrame: A two-dimensional tabular data structure with labeled axes (rows and columns). It is similar to a spreadsheet or a SQL table.\n",
    "\n",
    "Key Features:\n",
    "\n",
    "Data Input/Output: Pandas can read and write data from various file formats, including CSV, Excel, SQL databases, and more.\n",
    "Data Cleaning: Pandas provides tools for handling missing data, filtering, sorting, and transforming data.\n",
    "Data Manipulation: Pandas supports operations like merging, joining, and reshaping datasets.\n",
    "Data Analysis: Pandas can perform various statistical and mathematical operations on data, such as mean, median, sum, etc.\n",
    "Data Visualization: While Pandas itself does not provide visualization capabilities, it can be used in conjunction with libraries like Matplotlib and Seaborn for data visualization.\n",
    "\n",
    "Basic Usage:\n",
    "\n",
    "Import the Pandas library: import pandas as pd\n",
    "Create a DataFrame from a dictionary:"
   ]
  },
  {
   "cell_type": "code",
   "execution_count": 2,
   "id": "4198c0f6",
   "metadata": {},
   "outputs": [],
   "source": [
    "import pandas as pd\n",
    "data = {'Name': ['Alice', 'Bob', 'Charlie', 'David'],\n",
    "        'Age': [25, 30, 35, 40],\n",
    "        'City': ['New York', 'Los Angeles', 'Chicago', 'Houston']}\n",
    "df = pd.DataFrame(data)\n"
   ]
  },
  {
   "cell_type": "code",
   "execution_count": 3,
   "id": "efa82d06",
   "metadata": {},
   "outputs": [
    {
     "data": {
      "text/html": [
       "<div>\n",
       "<style scoped>\n",
       "    .dataframe tbody tr th:only-of-type {\n",
       "        vertical-align: middle;\n",
       "    }\n",
       "\n",
       "    .dataframe tbody tr th {\n",
       "        vertical-align: top;\n",
       "    }\n",
       "\n",
       "    .dataframe thead th {\n",
       "        text-align: right;\n",
       "    }\n",
       "</style>\n",
       "<table border=\"1\" class=\"dataframe\">\n",
       "  <thead>\n",
       "    <tr style=\"text-align: right;\">\n",
       "      <th></th>\n",
       "      <th>Name</th>\n",
       "      <th>Age</th>\n",
       "      <th>City</th>\n",
       "    </tr>\n",
       "  </thead>\n",
       "  <tbody>\n",
       "    <tr>\n",
       "      <th>0</th>\n",
       "      <td>Alice</td>\n",
       "      <td>25</td>\n",
       "      <td>New York</td>\n",
       "    </tr>\n",
       "    <tr>\n",
       "      <th>1</th>\n",
       "      <td>Bob</td>\n",
       "      <td>30</td>\n",
       "      <td>Los Angeles</td>\n",
       "    </tr>\n",
       "    <tr>\n",
       "      <th>2</th>\n",
       "      <td>Charlie</td>\n",
       "      <td>35</td>\n",
       "      <td>Chicago</td>\n",
       "    </tr>\n",
       "    <tr>\n",
       "      <th>3</th>\n",
       "      <td>David</td>\n",
       "      <td>40</td>\n",
       "      <td>Houston</td>\n",
       "    </tr>\n",
       "  </tbody>\n",
       "</table>\n",
       "</div>"
      ],
      "text/plain": [
       "      Name  Age         City\n",
       "0    Alice   25     New York\n",
       "1      Bob   30  Los Angeles\n",
       "2  Charlie   35      Chicago\n",
       "3    David   40      Houston"
      ]
     },
     "execution_count": 3,
     "metadata": {},
     "output_type": "execute_result"
    }
   ],
   "source": [
    "df"
   ]
  },
  {
   "cell_type": "code",
   "execution_count": 4,
   "id": "830d1af2",
   "metadata": {},
   "outputs": [
    {
     "name": "stdout",
     "output_type": "stream",
     "text": [
      "      Name  Age         City\n",
      "0    Alice   25     New York\n",
      "1      Bob   30  Los Angeles\n",
      "2  Charlie   35      Chicago\n",
      "3    David   40      Houston\n",
      "(4, 3)\n",
      "             Age\n",
      "count   4.000000\n",
      "mean   32.500000\n",
      "std     6.454972\n",
      "min    25.000000\n",
      "25%    28.750000\n",
      "50%    32.500000\n",
      "75%    36.250000\n",
      "max    40.000000\n"
     ]
    }
   ],
   "source": [
    "# Display the first few rows of the DataFrame\n",
    "print(df.head())\n",
    "\n",
    "# Get the shape of the DataFrame\n",
    "print(df.shape)\n",
    "\n",
    "# Get summary statistics of the DataFrame\n",
    "print(df.describe())"
   ]
  },
  {
   "cell_type": "markdown",
   "id": "d2e06189",
   "metadata": {},
   "source": [
    "# pandas series"
   ]
  },
  {
   "cell_type": "code",
   "execution_count": 5,
   "id": "5c9aacad",
   "metadata": {},
   "outputs": [
    {
     "name": "stdout",
     "output_type": "stream",
     "text": [
      "0     apple\n",
      "1    banana\n",
      "2    cherry\n",
      "3      date\n",
      "dtype: object\n"
     ]
    }
   ],
   "source": [
    "#pandas series\n",
    "\n",
    "import pandas as pd\n",
    "data = ['apple', 'banana', 'cherry', 'date']\n",
    "series = pd.Series(data)\n",
    "print(series)\n"
   ]
  },
  {
   "cell_type": "code",
   "execution_count": 6,
   "id": "8c5eb066",
   "metadata": {},
   "outputs": [
    {
     "data": {
      "text/plain": [
       "0     apple\n",
       "1    banana\n",
       "2    cherry\n",
       "3      date\n",
       "dtype: object"
      ]
     },
     "execution_count": 6,
     "metadata": {},
     "output_type": "execute_result"
    }
   ],
   "source": [
    "series"
   ]
  },
  {
   "cell_type": "code",
   "execution_count": 7,
   "id": "f55cab72",
   "metadata": {},
   "outputs": [
    {
     "name": "stdout",
     "output_type": "stream",
     "text": [
      "0    a\n",
      "1    b\n",
      "2    c\n",
      "3    d\n",
      "dtype: object\n"
     ]
    }
   ],
   "source": [
    "#from numpy array \n",
    "\n",
    "import numpy as np\n",
    "import pandas as pd\n",
    "data = np.array(['a', 'b', 'c', 'd'])\n",
    "series = pd.Series(data)\n",
    "print(series)\n"
   ]
  },
  {
   "cell_type": "code",
   "execution_count": 8,
   "id": "49e406f9",
   "metadata": {},
   "outputs": [
    {
     "name": "stdout",
     "output_type": "stream",
     "text": [
      "b\n"
     ]
    }
   ],
   "source": [
    "#indexing \n",
    "print(series[1])  # Accessing the element at index 1\n"
   ]
  },
  {
   "cell_type": "code",
   "execution_count": 9,
   "id": "8655127b",
   "metadata": {},
   "outputs": [
    {
     "name": "stdout",
     "output_type": "stream",
     "text": [
      "1    b\n",
      "2    c\n",
      "dtype: object\n"
     ]
    }
   ],
   "source": [
    "#slicing\n",
    "print(series[1:3]) "
   ]
  },
  {
   "cell_type": "code",
   "execution_count": 10,
   "id": "fdee2b58",
   "metadata": {},
   "outputs": [
    {
     "name": "stdout",
     "output_type": "stream",
     "text": [
      "object\n"
     ]
    }
   ],
   "source": [
    "#attributes \n",
    "\n",
    "print(series.dtype)"
   ]
  },
  {
   "cell_type": "code",
   "execution_count": 11,
   "id": "91b3b903",
   "metadata": {},
   "outputs": [
    {
     "name": "stdout",
     "output_type": "stream",
     "text": [
      "RangeIndex(start=0, stop=4, step=1)\n"
     ]
    }
   ],
   "source": [
    "print(series.index)"
   ]
  },
  {
   "cell_type": "code",
   "execution_count": 12,
   "id": "d07e2024",
   "metadata": {},
   "outputs": [
    {
     "name": "stdout",
     "output_type": "stream",
     "text": [
      "0    A\n",
      "1    B\n",
      "2    C\n",
      "3    D\n",
      "dtype: object\n"
     ]
    }
   ],
   "source": [
    "#operations \n",
    "print(series.str.upper())  # Convert all elements to uppercase"
   ]
  },
  {
   "cell_type": "code",
   "execution_count": 13,
   "id": "38a8bc98",
   "metadata": {},
   "outputs": [
    {
     "name": "stdout",
     "output_type": "stream",
     "text": [
      "w    a\n",
      "x    b\n",
      "y    c\n",
      "z    d\n",
      "dtype: object\n"
     ]
    }
   ],
   "source": [
    "#adding labes for index \n",
    "\n",
    "series = pd.Series(data, index=['w', 'x', 'y', 'z'])\n",
    "print(series)"
   ]
  },
  {
   "cell_type": "code",
   "execution_count": 14,
   "id": "a8597619",
   "metadata": {},
   "outputs": [
    {
     "name": "stdout",
     "output_type": "stream",
     "text": [
      "a    1.0\n",
      "b    2.0\n",
      "c    NaN\n",
      "d    4.0\n",
      "dtype: float64\n"
     ]
    }
   ],
   "source": [
    "#handling missing data \n",
    "\n",
    "import pandas as pd\n",
    "import numpy as np\n",
    "data = {'a': 1, 'b': 2, 'c': np.nan, 'd': 4}\n",
    "series = pd.Series(data)\n",
    "print(series)"
   ]
  },
  {
   "cell_type": "code",
   "execution_count": 15,
   "id": "182fb313",
   "metadata": {},
   "outputs": [
    {
     "name": "stdout",
     "output_type": "stream",
     "text": [
      "a    False\n",
      "b    False\n",
      "c     True\n",
      "d    False\n",
      "dtype: bool\n"
     ]
    }
   ],
   "source": [
    "#checking null values \n",
    "print(series.isnull())"
   ]
  },
  {
   "cell_type": "code",
   "execution_count": 16,
   "id": "ba8d82a0",
   "metadata": {},
   "outputs": [
    {
     "name": "stdout",
     "output_type": "stream",
     "text": [
      "0    11\n",
      "1    22\n",
      "2    33\n",
      "3    44\n",
      "dtype: int64\n"
     ]
    }
   ],
   "source": [
    "#addition \n",
    "\n",
    "series1 = pd.Series([1, 2, 3, 4])\n",
    "series2 = pd.Series([10, 20, 30, 40])\n",
    "print(series1 + series2)"
   ]
  },
  {
   "cell_type": "code",
   "execution_count": 17,
   "id": "2711c271",
   "metadata": {},
   "outputs": [
    {
     "name": "stdout",
     "output_type": "stream",
     "text": [
      "0     10\n",
      "1     40\n",
      "2     90\n",
      "3    160\n",
      "dtype: int64\n"
     ]
    }
   ],
   "source": [
    "#multiplication \n",
    "\n",
    "print(series1 * series2)"
   ]
  },
  {
   "cell_type": "code",
   "execution_count": 18,
   "id": "6d210b0d",
   "metadata": {},
   "outputs": [
    {
     "name": "stdout",
     "output_type": "stream",
     "text": [
      "a    1.0\n",
      "b    2.0\n",
      "c    NaN\n",
      "d    4.0\n",
      "dtype: float64\n"
     ]
    }
   ],
   "source": [
    "#sort by index\n",
    "print(series.sort_index())"
   ]
  },
  {
   "cell_type": "code",
   "execution_count": 20,
   "id": "66946622",
   "metadata": {},
   "outputs": [
    {
     "name": "stdout",
     "output_type": "stream",
     "text": [
      "a    1.0\n",
      "b    2.0\n",
      "d    4.0\n",
      "c    NaN\n",
      "dtype: float64\n"
     ]
    }
   ],
   "source": [
    "#sort by values\n",
    "print(series.sort_values())"
   ]
  },
  {
   "cell_type": "code",
   "execution_count": 21,
   "id": "fa201a4e",
   "metadata": {},
   "outputs": [
    {
     "name": "stdout",
     "output_type": "stream",
     "text": [
      "a    2.0\n",
      "b    4.0\n",
      "c    NaN\n",
      "d    8.0\n",
      "dtype: float64\n"
     ]
    }
   ],
   "source": [
    "# apply functions \n",
    "\n",
    "print(series.apply(lambda x: x * 2))"
   ]
  },
  {
   "cell_type": "code",
   "execution_count": 22,
   "id": "82bb5813",
   "metadata": {},
   "outputs": [
    {
     "name": "stdout",
     "output_type": "stream",
     "text": [
      "0    1\n",
      "1    2\n",
      "2    3\n",
      "0    4\n",
      "1    5\n",
      "2    6\n",
      "dtype: int64\n"
     ]
    }
   ],
   "source": [
    "#merging or concatenation \n",
    "\n",
    "series1 = pd.Series([1, 2, 3])\n",
    "series2 = pd.Series([4, 5, 6])\n",
    "concatenated_series = pd.concat([series1, series2])\n",
    "print(concatenated_series)"
   ]
  },
  {
   "cell_type": "code",
   "execution_count": 23,
   "id": "a8de91f3",
   "metadata": {},
   "outputs": [
    {
     "name": "stdout",
     "output_type": "stream",
     "text": [
      "a    1.0\n",
      "b    2.0\n",
      "c    NaN\n",
      "d    4.0\n",
      "dtype: float64\n"
     ]
    }
   ],
   "source": [
    "replaced_series = series.replace({10: 100, 30: 300})\n",
    "print(replaced_series)"
   ]
  },
  {
   "cell_type": "code",
   "execution_count": 24,
   "id": "038b31cd",
   "metadata": {},
   "outputs": [
    {
     "name": "stdout",
     "output_type": "stream",
     "text": [
      "(5,)\n"
     ]
    }
   ],
   "source": [
    "import pandas as pd\n",
    "\n",
    "s = pd.Series([1, 2, 3, 4, 5])\n",
    "print(s.shape)\n"
   ]
  },
  {
   "cell_type": "code",
   "execution_count": 25,
   "id": "840cd614",
   "metadata": {},
   "outputs": [
    {
     "name": "stdout",
     "output_type": "stream",
     "text": [
      "1\n",
      "2\n"
     ]
    }
   ],
   "source": [
    "#dimension \n",
    "\n",
    "import pandas as pd\n",
    "\n",
    "s = pd.Series([1, 2, 3, 4, 5])\n",
    "print(s.ndim)  # Output: 1\n",
    "\n",
    "df = pd.DataFrame({'A': [1, 2, 3], 'B': [4, 5, 6]})\n",
    "print(df.ndim)  # Output: 2\n"
   ]
  },
  {
   "cell_type": "code",
   "execution_count": 26,
   "id": "feb95f9d",
   "metadata": {},
   "outputs": [
    {
     "name": "stdout",
     "output_type": "stream",
     "text": [
      "0    False\n",
      "1    False\n",
      "2     True\n",
      "3    False\n",
      "4     True\n",
      "5    False\n",
      "dtype: bool\n"
     ]
    }
   ],
   "source": [
    "#missing data \n",
    "import pandas as pd\n",
    "\n",
    "data = pd.Series([1, 2, None, 4, None, 6])\n",
    "print(data.isnull())"
   ]
  },
  {
   "cell_type": "code",
   "execution_count": 27,
   "id": "69c333bc",
   "metadata": {},
   "outputs": [
    {
     "name": "stdout",
     "output_type": "stream",
     "text": [
      "0    1.0\n",
      "1    2.0\n",
      "3    4.0\n",
      "5    6.0\n",
      "dtype: float64\n"
     ]
    }
   ],
   "source": [
    "cleaned_data = data.dropna()\n",
    "print(cleaned_data)"
   ]
  },
  {
   "cell_type": "code",
   "execution_count": 28,
   "id": "70b1d539",
   "metadata": {},
   "outputs": [
    {
     "name": "stdout",
     "output_type": "stream",
     "text": [
      "0    1.0\n",
      "1    2.0\n",
      "2    0.0\n",
      "3    4.0\n",
      "4    0.0\n",
      "5    6.0\n",
      "dtype: float64\n"
     ]
    }
   ],
   "source": [
    "filled_data = data.fillna(0)  # Fill NaNs with 0\n",
    "print(filled_data)"
   ]
  },
  {
   "cell_type": "code",
   "execution_count": 29,
   "id": "a7b2d134",
   "metadata": {},
   "outputs": [
    {
     "name": "stdout",
     "output_type": "stream",
     "text": [
      "0    False\n",
      "1    False\n",
      "2     True\n",
      "3    False\n",
      "4     True\n",
      "5    False\n",
      "6    False\n",
      "7     True\n",
      "dtype: bool\n"
     ]
    }
   ],
   "source": [
    "#duplicated values \n",
    "\n",
    "data = pd.Series([1, 2, 2, 3, 3, 4, 5, 5])\n",
    "print(data.duplicated())"
   ]
  },
  {
   "cell_type": "code",
   "execution_count": 30,
   "id": "38a3bcc1",
   "metadata": {},
   "outputs": [
    {
     "name": "stdout",
     "output_type": "stream",
     "text": [
      "0    1\n",
      "1    2\n",
      "3    3\n",
      "5    4\n",
      "6    5\n",
      "dtype: int64\n"
     ]
    }
   ],
   "source": [
    "cleaned_data = data.drop_duplicates()\n",
    "print(cleaned_data)"
   ]
  },
  {
   "cell_type": "code",
   "execution_count": 34,
   "id": "1a4ee4c9",
   "metadata": {},
   "outputs": [
    {
     "data": {
      "text/plain": [
       "0    1.0\n",
       "1    2.0\n",
       "2    3.0\n",
       "3    3.0\n",
       "4    5.0\n",
       "5    6.0\n",
       "6    6.0\n",
       "7    6.0\n",
       "dtype: float64"
      ]
     },
     "execution_count": 34,
     "metadata": {},
     "output_type": "execute_result"
    }
   ],
   "source": [
    "#Use ffill to fill missing values with the previous non-missing value (forward fill):\n",
    "data=pd.Series([1,2,3,np.nan,5,6,np.nan,np.nan])\n",
    "filled_data = data.ffill()\n",
    "filled_data"
   ]
  },
  {
   "cell_type": "code",
   "execution_count": 36,
   "id": "3ff38b19",
   "metadata": {},
   "outputs": [
    {
     "data": {
      "text/plain": [
       "0    1.0\n",
       "1    2.0\n",
       "2    3.0\n",
       "3    5.0\n",
       "4    5.0\n",
       "5    6.0\n",
       "6    8.0\n",
       "7    8.0\n",
       "8    8.0\n",
       "dtype: float64"
      ]
     },
     "execution_count": 36,
     "metadata": {},
     "output_type": "execute_result"
    }
   ],
   "source": [
    "#Use ffill to fill missing values with the previous non-missing value (forward fill):\n",
    "data=pd.Series([1,2,3,np.nan,5,6,np.nan,np.nan,8])\n",
    "filled_data = data.bfill()\n",
    "filled_data"
   ]
  },
  {
   "cell_type": "code",
   "execution_count": 37,
   "id": "c4e439f8",
   "metadata": {},
   "outputs": [
    {
     "data": {
      "text/plain": [
       "0     1.0\n",
       "1    20.0\n",
       "2     3.0\n",
       "3     NaN\n",
       "4     5.0\n",
       "5     6.0\n",
       "6     NaN\n",
       "7     NaN\n",
       "8     8.0\n",
       "dtype: float64"
      ]
     },
     "execution_count": 37,
     "metadata": {},
     "output_type": "execute_result"
    }
   ],
   "source": [
    "replaced_data = data.replace(2, 20)  # Replace all occurrences of 2 with 20\n",
    "replaced_data"
   ]
  },
  {
   "cell_type": "code",
   "execution_count": 41,
   "id": "75801141",
   "metadata": {},
   "outputs": [
    {
     "data": {
      "text/plain": [
       "0    1.0\n",
       "1    2.0\n",
       "2    3.0\n",
       "3    NaN\n",
       "4    5.0\n",
       "5    6.0\n",
       "8    8.0\n",
       "dtype: float64"
      ]
     },
     "execution_count": 41,
     "metadata": {},
     "output_type": "execute_result"
    }
   ],
   "source": [
    "cleaned_data = data.drop_duplicates()\n",
    "cleaned_data"
   ]
  },
  {
   "cell_type": "code",
   "execution_count": 42,
   "id": "ce985ebd",
   "metadata": {},
   "outputs": [
    {
     "data": {
      "text/plain": [
       "0    1.0\n",
       "1    2.0\n",
       "2    3.0\n",
       "3    NaN\n",
       "4    5.0\n",
       "5    6.0\n",
       "6    8.0\n",
       "dtype: float64"
      ]
     },
     "execution_count": 42,
     "metadata": {},
     "output_type": "execute_result"
    }
   ],
   "source": [
    "cleaned_data = data.drop_duplicates(ignore_index=True)\n",
    "cleaned_data"
   ]
  },
  {
   "cell_type": "code",
   "execution_count": 44,
   "id": "4db5b733",
   "metadata": {},
   "outputs": [
    {
     "data": {
      "text/plain": [
       "3"
      ]
     },
     "execution_count": 44,
     "metadata": {},
     "output_type": "execute_result"
    }
   ],
   "source": [
    "missing_count = data.isnull().sum()\n",
    "missing_count"
   ]
  },
  {
   "cell_type": "code",
   "execution_count": 45,
   "id": "161082da",
   "metadata": {},
   "outputs": [
    {
     "data": {
      "text/plain": [
       "2"
      ]
     },
     "execution_count": 45,
     "metadata": {},
     "output_type": "execute_result"
    }
   ],
   "source": [
    "duplicate_count = data.duplicated().sum()\n",
    "duplicate_count"
   ]
  },
  {
   "cell_type": "code",
   "execution_count": 46,
   "id": "b0a4d5e8",
   "metadata": {},
   "outputs": [],
   "source": [
    "mean_value = data.mean()\n",
    "median_value = data.median()\n",
    "mode_value = data.mode().iloc[0]\n",
    "\n",
    "filled_data_mean = data.fillna(mean_value)\n",
    "filled_data_median = data.fillna(median_value)\n",
    "filled_data_mode = data.fillna(mode_value)"
   ]
  },
  {
   "cell_type": "code",
   "execution_count": 47,
   "id": "6a292655",
   "metadata": {},
   "outputs": [],
   "source": [
    "cleaned_data_first = data.drop_duplicates(keep='first')  # Keep the first occurrence\n",
    "cleaned_data_last = data.drop_duplicates(keep='last')    # Keep the last occurrence\n",
    "cleaned_data_all = data.drop_duplicates(keep=False)"
   ]
  },
  {
   "cell_type": "code",
   "execution_count": 51,
   "id": "feea430e",
   "metadata": {},
   "outputs": [
    {
     "name": "stdout",
     "output_type": "stream",
     "text": [
      "[1 2 3 0 0 6 4 2 5 8 0 0]\n",
      "0     1\n",
      "1     2\n",
      "2     3\n",
      "3     0\n",
      "4     0\n",
      "5     6\n",
      "6     4\n",
      "7     2\n",
      "8     5\n",
      "9     8\n",
      "10    0\n",
      "11    0\n",
      "dtype: int64\n"
     ]
    }
   ],
   "source": [
    "import numpy as np\n",
    "\n",
    "data=pd.Series([1,2,3,-4,-5,6,4,2,5,8,-11,-14])\n",
    "replaced_data = np.where(data < 0, 0, data)  \n",
    "print(replaced_data)\n",
    "masked_data = data.mask(data < 0, 0) \n",
    "print(masked_data)"
   ]
  },
  {
   "cell_type": "markdown",
   "id": "2af541f7",
   "metadata": {},
   "source": [
    "# data frames"
   ]
  },
  {
   "cell_type": "code",
   "execution_count": 52,
   "id": "6a5bc2bc",
   "metadata": {},
   "outputs": [
    {
     "name": "stdout",
     "output_type": "stream",
     "text": [
      "      Name  Age  Score\n",
      "0    Alice   25     85\n",
      "1      Bob   30     90\n",
      "2  Charlie   35     75\n",
      "3    David   40     95\n"
     ]
    }
   ],
   "source": [
    "import pandas as pd\n",
    "\n",
    "data = {'Name': ['Alice', 'Bob', 'Charlie', 'David'],\n",
    "        'Age': [25, 30, 35, 40],\n",
    "        'Score': [85, 90, 75, 95]}\n",
    "\n",
    "df = pd.DataFrame(data)\n",
    "print(df)\n"
   ]
  },
  {
   "cell_type": "code",
   "execution_count": 53,
   "id": "99bda57a",
   "metadata": {},
   "outputs": [
    {
     "data": {
      "text/html": [
       "<div>\n",
       "<style scoped>\n",
       "    .dataframe tbody tr th:only-of-type {\n",
       "        vertical-align: middle;\n",
       "    }\n",
       "\n",
       "    .dataframe tbody tr th {\n",
       "        vertical-align: top;\n",
       "    }\n",
       "\n",
       "    .dataframe thead th {\n",
       "        text-align: right;\n",
       "    }\n",
       "</style>\n",
       "<table border=\"1\" class=\"dataframe\">\n",
       "  <thead>\n",
       "    <tr style=\"text-align: right;\">\n",
       "      <th></th>\n",
       "      <th>Name</th>\n",
       "      <th>Age</th>\n",
       "      <th>Score</th>\n",
       "    </tr>\n",
       "  </thead>\n",
       "  <tbody>\n",
       "    <tr>\n",
       "      <th>0</th>\n",
       "      <td>Alice</td>\n",
       "      <td>25</td>\n",
       "      <td>85</td>\n",
       "    </tr>\n",
       "    <tr>\n",
       "      <th>1</th>\n",
       "      <td>Bob</td>\n",
       "      <td>30</td>\n",
       "      <td>90</td>\n",
       "    </tr>\n",
       "    <tr>\n",
       "      <th>2</th>\n",
       "      <td>Charlie</td>\n",
       "      <td>35</td>\n",
       "      <td>75</td>\n",
       "    </tr>\n",
       "    <tr>\n",
       "      <th>3</th>\n",
       "      <td>David</td>\n",
       "      <td>40</td>\n",
       "      <td>95</td>\n",
       "    </tr>\n",
       "  </tbody>\n",
       "</table>\n",
       "</div>"
      ],
      "text/plain": [
       "      Name  Age  Score\n",
       "0    Alice   25     85\n",
       "1      Bob   30     90\n",
       "2  Charlie   35     75\n",
       "3    David   40     95"
      ]
     },
     "execution_count": 53,
     "metadata": {},
     "output_type": "execute_result"
    }
   ],
   "source": [
    "df"
   ]
  },
  {
   "cell_type": "code",
   "execution_count": 54,
   "id": "646753bb",
   "metadata": {},
   "outputs": [
    {
     "name": "stdout",
     "output_type": "stream",
     "text": [
      "      Name  Age  Score\n",
      "0    Alice   25     85\n",
      "1      Bob   30     90\n",
      "2  Charlie   35     75\n",
      "3    David   40     95\n"
     ]
    }
   ],
   "source": [
    "data = [{'Name': 'Alice', 'Age': 25, 'Score': 85},\n",
    "        {'Name': 'Bob', 'Age': 30, 'Score': 90},\n",
    "        {'Name': 'Charlie', 'Age': 35, 'Score': 75},\n",
    "        {'Name': 'David', 'Age': 40, 'Score': 95}]\n",
    "\n",
    "df = pd.DataFrame(data)\n",
    "print(df)\n"
   ]
  },
  {
   "cell_type": "code",
   "execution_count": 55,
   "id": "4a90467c",
   "metadata": {},
   "outputs": [
    {
     "data": {
      "text/html": [
       "<div>\n",
       "<style scoped>\n",
       "    .dataframe tbody tr th:only-of-type {\n",
       "        vertical-align: middle;\n",
       "    }\n",
       "\n",
       "    .dataframe tbody tr th {\n",
       "        vertical-align: top;\n",
       "    }\n",
       "\n",
       "    .dataframe thead th {\n",
       "        text-align: right;\n",
       "    }\n",
       "</style>\n",
       "<table border=\"1\" class=\"dataframe\">\n",
       "  <thead>\n",
       "    <tr style=\"text-align: right;\">\n",
       "      <th></th>\n",
       "      <th>Name</th>\n",
       "      <th>Age</th>\n",
       "      <th>Score</th>\n",
       "    </tr>\n",
       "  </thead>\n",
       "  <tbody>\n",
       "    <tr>\n",
       "      <th>0</th>\n",
       "      <td>Alice</td>\n",
       "      <td>25</td>\n",
       "      <td>85</td>\n",
       "    </tr>\n",
       "    <tr>\n",
       "      <th>1</th>\n",
       "      <td>Bob</td>\n",
       "      <td>30</td>\n",
       "      <td>90</td>\n",
       "    </tr>\n",
       "    <tr>\n",
       "      <th>2</th>\n",
       "      <td>Charlie</td>\n",
       "      <td>35</td>\n",
       "      <td>75</td>\n",
       "    </tr>\n",
       "    <tr>\n",
       "      <th>3</th>\n",
       "      <td>David</td>\n",
       "      <td>40</td>\n",
       "      <td>95</td>\n",
       "    </tr>\n",
       "  </tbody>\n",
       "</table>\n",
       "</div>"
      ],
      "text/plain": [
       "      Name  Age  Score\n",
       "0    Alice   25     85\n",
       "1      Bob   30     90\n",
       "2  Charlie   35     75\n",
       "3    David   40     95"
      ]
     },
     "execution_count": 55,
     "metadata": {},
     "output_type": "execute_result"
    }
   ],
   "source": []
  },
  {
   "cell_type": "code",
   "execution_count": 58,
   "id": "54cf5e83",
   "metadata": {},
   "outputs": [
    {
     "name": "stdout",
     "output_type": "stream",
     "text": [
      "      Name  Age  Score\n",
      "0    Alice   25     85\n",
      "1      Bob   30     90\n",
      "2  Charlie   35     75\n",
      "3    David   40     95\n"
     ]
    }
   ],
   "source": [
    "df = pd.DataFrame(data, columns=['Name', 'Age', 'Score'])\n",
    "print(df)"
   ]
  },
  {
   "cell_type": "code",
   "execution_count": 2,
   "id": "cb1e8e5d",
   "metadata": {},
   "outputs": [
    {
     "name": "stdout",
     "output_type": "stream",
     "text": [
      "      Name  Age  Score\n",
      "0    Alice   25     85\n",
      "1      Bob   30     90\n",
      "2  Charlie   35     75\n",
      "3    David   40     95\n",
      "4  Devaraj   65     15\n"
     ]
    }
   ],
   "source": [
    "import pandas as pd \n",
    "\n",
    "df = pd.DataFrame(columns=['Name', 'Age', 'Score'])\n",
    "df.loc[0] = ['Alice', 25, 85]\n",
    "df.loc[1] = ['Bob', 30, 90]\n",
    "df.loc[2] = ['Charlie', 35, 75]\n",
    "df.loc[3] = ['David', 40, 95]\n",
    "df.loc[4] = ['Devaraj', 65, 15]\n",
    "print(df)\n"
   ]
  },
  {
   "cell_type": "code",
   "execution_count": 4,
   "id": "2733f395",
   "metadata": {},
   "outputs": [
    {
     "name": "stdout",
     "output_type": "stream",
     "text": [
      "    id         name  class  mark  gender\n",
      "0    1     John Deo   Four    75  female\n",
      "1    2     Max Ruin  Three    85    male\n",
      "2    3       Arnold  Three    55    male\n",
      "3    4   Krish Star   Four    60  female\n",
      "4    5    John Mike   Four    60  female\n",
      "5    6    Alex John   Four    55    male\n",
      "6    7  My John Rob  Fifth    78    male\n",
      "7    8       Asruid   Five    85    male\n",
      "8    9      Tes Qry    Six    78    male\n",
      "9   10     Big John   Four    55  female\n",
      "10  11       Ronald    Six    89  female\n",
      "11  12        Recky    Six    94  female\n",
      "12  13          Kty  Seven    88  female\n",
      "13  14         Bigy  Seven    88  female\n",
      "14  15     Tade Row   Four    88    male\n",
      "15  16        Gimmy   Four    88    male\n",
      "16  17        Tumyu    Six    54    male\n",
      "17  18        Honny   Five    75    male\n",
      "18  19        Tinny   Nine    18    male\n",
      "19  20       Jackly   Nine    65  female\n",
      "20  21   Babby John   Four    69  female\n",
      "21  22       Reggid  Seven    55  female\n",
      "22  23        Herod  Eight    79    male\n",
      "23  24    Tiddy Now  Seven    78    male\n",
      "24  25     Giff Tow  Seven    88    male\n",
      "25  26       Crelea  Seven    79    male\n",
      "26  27     Big Nose  Three    81  female\n",
      "27  28    Rojj Base  Seven    86  female\n",
      "28  29  Tess Played  Seven    55    male\n",
      "29  30    Reppy Red    Six    79  female\n",
      "30  31  Marry Toeey   Four    88    male\n",
      "31  32    Binn Rott  Seven    90  female\n",
      "32  33    Kenn Rein    Six    96  female\n",
      "33  34     Gain Toe  Seven    69    male\n",
      "34  35   Rows Noump    Six    88  female\n"
     ]
    }
   ],
   "source": [
    "df = pd.read_csv('student.csv')\n",
    "print(df)"
   ]
  },
  {
   "cell_type": "code",
   "execution_count": 10,
   "id": "eccda279",
   "metadata": {},
   "outputs": [
    {
     "data": {
      "text/plain": [
       "18"
      ]
     },
     "execution_count": 10,
     "metadata": {},
     "output_type": "execute_result"
    }
   ],
   "source": [
    "df[\"gender\"].value_counts().sum()\n",
    "df[\"gender\"].value_counts().unique()[0]"
   ]
  },
  {
   "cell_type": "code",
   "execution_count": 63,
   "id": "bd1d4486",
   "metadata": {},
   "outputs": [
    {
     "name": "stdout",
     "output_type": "stream",
     "text": [
      "Accessing a specific element:\n",
      "John Deo\n",
      "\n",
      "Accessing a specific row:\n",
      "id               1\n",
      "name      John Deo\n",
      "class         Four\n",
      "mark            75\n",
      "gender      female\n",
      "Name: 0, dtype: object\n",
      "\n",
      "Accessing a specific column:\n",
      "0        John Deo\n",
      "1        Max Ruin\n",
      "2          Arnold\n",
      "3      Krish Star\n",
      "4       John Mike\n",
      "5       Alex John\n",
      "6     My John Rob\n",
      "7          Asruid\n",
      "8         Tes Qry\n",
      "9        Big John\n",
      "10         Ronald\n",
      "11          Recky\n",
      "12            Kty\n",
      "13           Bigy\n",
      "14       Tade Row\n",
      "15          Gimmy\n",
      "16          Tumyu\n",
      "17          Honny\n",
      "18          Tinny\n",
      "19         Jackly\n",
      "20     Babby John\n",
      "21         Reggid\n",
      "22          Herod\n",
      "23      Tiddy Now\n",
      "24       Giff Tow\n",
      "25         Crelea\n",
      "26       Big Nose\n",
      "27      Rojj Base\n",
      "28    Tess Played\n",
      "29      Reppy Red\n",
      "30    Marry Toeey\n",
      "31      Binn Rott\n",
      "32      Kenn Rein\n",
      "33       Gain Toe\n",
      "34     Rows Noump\n",
      "Name: name, dtype: object\n"
     ]
    }
   ],
   "source": [
    "print(\"Accessing a specific element:\")\n",
    "print(df.iloc[0, 1])  # Accessing the element at row 0, column 1\n",
    "\n",
    "print(\"\\nAccessing a specific row:\")\n",
    "print(df.iloc[0])  # Accessing the first row\n",
    "\n",
    "print(\"\\nAccessing a specific column:\")\n",
    "print(df['name'])  # Accessing the 'Name' column\n"
   ]
  },
  {
   "cell_type": "code",
   "execution_count": 66,
   "id": "64ddcd26",
   "metadata": {},
   "outputs": [
    {
     "name": "stdout",
     "output_type": "stream",
     "text": [
      "    id         name  class  mark  gender\n",
      "0    1     John Deo   Four    75  female\n",
      "1    2     Max Ruin  Three    85    male\n",
      "2    3       Arnold  Three    55    male\n",
      "3    4   Krish Star   Four    60  female\n",
      "4    5    John Mike   Four    60  female\n",
      "5    6    Alex John   Four    55    male\n",
      "6    7  My John Rob  Fifth    78    male\n",
      "7    8       Asruid   Five    85    male\n",
      "8    9      Tes Qry    Six    78    male\n",
      "9   10     Big John   Four    55  female\n",
      "10  11       Ronald    Six    89  female\n",
      "11  12        Recky    Six    94  female\n",
      "12  13          Kty  Seven    88  female\n",
      "13  14         Bigy  Seven    88  female\n",
      "14  15     Tade Row   Four    88    male\n",
      "15  16        Gimmy   Four    88    male\n",
      "16  17        Tumyu    Six    54    male\n",
      "17  18        Honny   Five    75    male\n",
      "19  20       Jackly   Nine    65  female\n",
      "20  21   Babby John   Four    69  female\n",
      "21  22       Reggid  Seven    55  female\n",
      "22  23        Herod  Eight    79    male\n",
      "23  24    Tiddy Now  Seven    78    male\n",
      "24  25     Giff Tow  Seven    88    male\n",
      "25  26       Crelea  Seven    79    male\n",
      "26  27     Big Nose  Three    81  female\n",
      "27  28    Rojj Base  Seven    86  female\n",
      "28  29  Tess Played  Seven    55    male\n",
      "29  30    Reppy Red    Six    79  female\n",
      "30  31  Marry Toeey   Four    88    male\n",
      "31  32    Binn Rott  Seven    90  female\n",
      "32  33    Kenn Rein    Six    96  female\n",
      "33  34     Gain Toe  Seven    69    male\n",
      "34  35   Rows Noump    Six    88  female\n"
     ]
    }
   ],
   "source": [
    "filtered_df = df[df['mark'] > 45]\n",
    "print(filtered_df)"
   ]
  },
  {
   "cell_type": "code",
   "execution_count": 67,
   "id": "d5969585",
   "metadata": {},
   "outputs": [
    {
     "name": "stdout",
     "output_type": "stream",
     "text": [
      "        id  name  class  mark\n",
      "gender                       \n",
      "female  17    17     17    17\n",
      "male    18    18     18    18\n"
     ]
    }
   ],
   "source": [
    "grouped_df = df.groupby('gender').count()\n",
    "print(grouped_df)"
   ]
  },
  {
   "cell_type": "code",
   "execution_count": 70,
   "id": "2013ad53",
   "metadata": {},
   "outputs": [
    {
     "data": {
      "text/html": [
       "<div>\n",
       "<style scoped>\n",
       "    .dataframe tbody tr th:only-of-type {\n",
       "        vertical-align: middle;\n",
       "    }\n",
       "\n",
       "    .dataframe tbody tr th {\n",
       "        vertical-align: top;\n",
       "    }\n",
       "\n",
       "    .dataframe thead th {\n",
       "        text-align: right;\n",
       "    }\n",
       "</style>\n",
       "<table border=\"1\" class=\"dataframe\">\n",
       "  <thead>\n",
       "    <tr style=\"text-align: right;\">\n",
       "      <th></th>\n",
       "      <th>id</th>\n",
       "      <th>name</th>\n",
       "      <th>class</th>\n",
       "      <th>gender</th>\n",
       "    </tr>\n",
       "    <tr>\n",
       "      <th>mark</th>\n",
       "      <th></th>\n",
       "      <th></th>\n",
       "      <th></th>\n",
       "      <th></th>\n",
       "    </tr>\n",
       "  </thead>\n",
       "  <tbody>\n",
       "    <tr>\n",
       "      <th>18</th>\n",
       "      <td>19</td>\n",
       "      <td>Tinny</td>\n",
       "      <td>Nine</td>\n",
       "      <td>male</td>\n",
       "    </tr>\n",
       "    <tr>\n",
       "      <th>54</th>\n",
       "      <td>17</td>\n",
       "      <td>Tumyu</td>\n",
       "      <td>Six</td>\n",
       "      <td>male</td>\n",
       "    </tr>\n",
       "    <tr>\n",
       "      <th>55</th>\n",
       "      <td>70</td>\n",
       "      <td>ArnoldAlex JohnBig JohnReggidTess Played</td>\n",
       "      <td>ThreeFourFourSevenSeven</td>\n",
       "      <td>malemalefemalefemalemale</td>\n",
       "    </tr>\n",
       "    <tr>\n",
       "      <th>60</th>\n",
       "      <td>9</td>\n",
       "      <td>Krish StarJohn Mike</td>\n",
       "      <td>FourFour</td>\n",
       "      <td>femalefemale</td>\n",
       "    </tr>\n",
       "    <tr>\n",
       "      <th>65</th>\n",
       "      <td>20</td>\n",
       "      <td>Jackly</td>\n",
       "      <td>Nine</td>\n",
       "      <td>female</td>\n",
       "    </tr>\n",
       "    <tr>\n",
       "      <th>69</th>\n",
       "      <td>55</td>\n",
       "      <td>Babby JohnGain Toe</td>\n",
       "      <td>FourSeven</td>\n",
       "      <td>femalemale</td>\n",
       "    </tr>\n",
       "    <tr>\n",
       "      <th>75</th>\n",
       "      <td>19</td>\n",
       "      <td>John DeoHonny</td>\n",
       "      <td>FourFive</td>\n",
       "      <td>femalemale</td>\n",
       "    </tr>\n",
       "    <tr>\n",
       "      <th>78</th>\n",
       "      <td>40</td>\n",
       "      <td>My John RobTes QryTiddy Now</td>\n",
       "      <td>FifthSixSeven</td>\n",
       "      <td>malemalemale</td>\n",
       "    </tr>\n",
       "    <tr>\n",
       "      <th>79</th>\n",
       "      <td>79</td>\n",
       "      <td>HerodCreleaReppy Red</td>\n",
       "      <td>EightSevenSix</td>\n",
       "      <td>malemalefemale</td>\n",
       "    </tr>\n",
       "    <tr>\n",
       "      <th>81</th>\n",
       "      <td>27</td>\n",
       "      <td>Big Nose</td>\n",
       "      <td>Three</td>\n",
       "      <td>female</td>\n",
       "    </tr>\n",
       "    <tr>\n",
       "      <th>85</th>\n",
       "      <td>10</td>\n",
       "      <td>Max RuinAsruid</td>\n",
       "      <td>ThreeFive</td>\n",
       "      <td>malemale</td>\n",
       "    </tr>\n",
       "    <tr>\n",
       "      <th>86</th>\n",
       "      <td>28</td>\n",
       "      <td>Rojj Base</td>\n",
       "      <td>Seven</td>\n",
       "      <td>female</td>\n",
       "    </tr>\n",
       "    <tr>\n",
       "      <th>88</th>\n",
       "      <td>149</td>\n",
       "      <td>KtyBigyTade RowGimmyGiff TowMarry ToeeyRows Noump</td>\n",
       "      <td>SevenSevenFourFourSevenFourSix</td>\n",
       "      <td>femalefemalemalemalemalemalefemale</td>\n",
       "    </tr>\n",
       "    <tr>\n",
       "      <th>89</th>\n",
       "      <td>11</td>\n",
       "      <td>Ronald</td>\n",
       "      <td>Six</td>\n",
       "      <td>female</td>\n",
       "    </tr>\n",
       "    <tr>\n",
       "      <th>90</th>\n",
       "      <td>32</td>\n",
       "      <td>Binn Rott</td>\n",
       "      <td>Seven</td>\n",
       "      <td>female</td>\n",
       "    </tr>\n",
       "    <tr>\n",
       "      <th>94</th>\n",
       "      <td>12</td>\n",
       "      <td>Recky</td>\n",
       "      <td>Six</td>\n",
       "      <td>female</td>\n",
       "    </tr>\n",
       "    <tr>\n",
       "      <th>96</th>\n",
       "      <td>33</td>\n",
       "      <td>Kenn Rein</td>\n",
       "      <td>Six</td>\n",
       "      <td>female</td>\n",
       "    </tr>\n",
       "  </tbody>\n",
       "</table>\n",
       "</div>"
      ],
      "text/plain": [
       "       id                                               name  \\\n",
       "mark                                                           \n",
       "18     19                                              Tinny   \n",
       "54     17                                              Tumyu   \n",
       "55     70           ArnoldAlex JohnBig JohnReggidTess Played   \n",
       "60      9                                Krish StarJohn Mike   \n",
       "65     20                                             Jackly   \n",
       "69     55                                 Babby JohnGain Toe   \n",
       "75     19                                      John DeoHonny   \n",
       "78     40                        My John RobTes QryTiddy Now   \n",
       "79     79                               HerodCreleaReppy Red   \n",
       "81     27                                           Big Nose   \n",
       "85     10                                     Max RuinAsruid   \n",
       "86     28                                          Rojj Base   \n",
       "88    149  KtyBigyTade RowGimmyGiff TowMarry ToeeyRows Noump   \n",
       "89     11                                             Ronald   \n",
       "90     32                                          Binn Rott   \n",
       "94     12                                              Recky   \n",
       "96     33                                          Kenn Rein   \n",
       "\n",
       "                               class                              gender  \n",
       "mark                                                                      \n",
       "18                              Nine                                male  \n",
       "54                               Six                                male  \n",
       "55           ThreeFourFourSevenSeven            malemalefemalefemalemale  \n",
       "60                          FourFour                        femalefemale  \n",
       "65                              Nine                              female  \n",
       "69                         FourSeven                          femalemale  \n",
       "75                          FourFive                          femalemale  \n",
       "78                     FifthSixSeven                        malemalemale  \n",
       "79                     EightSevenSix                      malemalefemale  \n",
       "81                             Three                              female  \n",
       "85                         ThreeFive                            malemale  \n",
       "86                             Seven                              female  \n",
       "88    SevenSevenFourFourSevenFourSix  femalefemalemalemalemalemalefemale  \n",
       "89                               Six                              female  \n",
       "90                             Seven                              female  \n",
       "94                               Six                              female  \n",
       "96                               Six                              female  "
      ]
     },
     "execution_count": 70,
     "metadata": {},
     "output_type": "execute_result"
    }
   ],
   "source": [
    "grouped_df = df.groupby('mark').sum()\n",
    "grouped_df"
   ]
  },
  {
   "cell_type": "code",
   "execution_count": null,
   "id": "81377d7e",
   "metadata": {},
   "outputs": [],
   "source": []
  }
 ],
 "metadata": {
  "kernelspec": {
   "display_name": "Python 3 (ipykernel)",
   "language": "python",
   "name": "python3"
  },
  "language_info": {
   "codemirror_mode": {
    "name": "ipython",
    "version": 3
   },
   "file_extension": ".py",
   "mimetype": "text/x-python",
   "name": "python",
   "nbconvert_exporter": "python",
   "pygments_lexer": "ipython3",
   "version": "3.11.5"
  }
 },
 "nbformat": 4,
 "nbformat_minor": 5
}
