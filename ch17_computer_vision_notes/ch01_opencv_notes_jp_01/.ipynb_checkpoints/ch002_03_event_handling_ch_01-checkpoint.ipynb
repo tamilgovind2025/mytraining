{
 "cells": [
  {
   "cell_type": "markdown",
   "id": "4b9df65e",
   "metadata": {},
   "source": [
    "# event handling "
   ]
  },
  {
   "cell_type": "raw",
   "id": "dacb9578",
   "metadata": {},
   "source": [
    "# connecting callback function \n",
    "adding funcntionality through event choices \n",
    "dragging mouse the functionality \n"
   ]
  },
  {
   "cell_type": "markdown",
   "id": "311b44dc",
   "metadata": {},
   "source": [
    "# event handling "
   ]
  },
  {
   "cell_type": "code",
   "execution_count": 5,
   "id": "e126899d",
   "metadata": {},
   "outputs": [],
   "source": [
    "import numpy as np\n",
    "import cv2\n",
    "\n",
    "#function \n",
    "def draw_circle(event,x,y,flags,param):\n",
    "    if event==cv2.EVENT_LBUTTONDOWN:\n",
    "        cv2.circle(img,(x,y),100,(0,255,0),-1)\n",
    "\n",
    "cv2.namedWindow(winname=\"my_drawing\")\n",
    "cv2.setMouseCallback(\"my_drawing\",draw_circle)\n",
    "\n",
    "\n",
    "#show images with opencv \n",
    "\n",
    "img = np.ones((512, 512, 3), dtype=np.uint8)\n",
    "\n",
    "while True:\n",
    "    cv2.imshow(\"my_drawing\", img)\n",
    "    if cv2.waitKey(20) & 0xFF == 27:  # Wait for ESC key to exit\n",
    "        break\n",
    "\n",
    "cv2.destroyAllWindows()\n"
   ]
  },
  {
   "cell_type": "markdown",
   "id": "e8f86d49",
   "metadata": {},
   "source": [
    "# multiple event handling "
   ]
  },
  {
   "cell_type": "code",
   "execution_count": 6,
   "id": "3da93b29",
   "metadata": {},
   "outputs": [],
   "source": [
    "import numpy as np\n",
    "import cv2\n",
    "\n",
    "#function \n",
    "def draw_circle(event,x,y,flags,param):\n",
    "    if event==cv2.EVENT_LBUTTONDOWN:\n",
    "        cv2.circle(img,(x,y),100,(0,255,0),-1)\n",
    "    elif event==cv2.EVENT_RBUTTONDOWN:\n",
    "        cv2.circle(img,(x,y),100,(255,0,0),-1)\n",
    "\n",
    "cv2.namedWindow(winname=\"my_drawing\")\n",
    "cv2.setMouseCallback(\"my_drawing\",draw_circle)\n",
    "\n",
    "\n",
    "#show images with opencv \n",
    "\n",
    "img = np.ones((512, 512, 3), dtype=np.uint8)\n",
    "\n",
    "while True:\n",
    "    cv2.imshow(\"my_drawing\", img)\n",
    "    if cv2.waitKey(20) & 0xFF == 27:  # Wait for ESC key to exit\n",
    "        break\n",
    "\n",
    "cv2.destroyAllWindows()\n"
   ]
  },
  {
   "cell_type": "markdown",
   "id": "13d45d4b",
   "metadata": {},
   "source": [
    "# draw rectangle"
   ]
  },
  {
   "cell_type": "code",
   "execution_count": 5,
   "id": "c4736ab0",
   "metadata": {},
   "outputs": [],
   "source": [
    "import cv2 \n",
    "import numpy as np \n",
    "\n",
    "#global variables \n",
    "drawing=False\n",
    "ix,iy=0,0\n",
    "\n",
    "\n",
    "#functions \n",
    "\n",
    "def draw_rectangle(event,x,y,flags,param):\n",
    "    global drawing,ix,iy\n",
    "    \n",
    "    if event==cv2.EVENT_LBUTTONDOWN:\n",
    "        drawing=True\n",
    "        ix,iy=x,y\n",
    "    elif event==cv2.EVENT_MOUSEMOVE:\n",
    "        if drawing==True:\n",
    "            cv2.rectangle(img1,(ix,iy),(x,y),(0,255,0),-1)\n",
    "    elif event==cv2.EVENT_LBUTTONUP:\n",
    "        drawing=False\n",
    "        cv2.rectangle(img1,(ix,iy),(x,y),(0,255,0),-1)\n",
    "\n",
    "#images \n",
    "\n",
    "img1=np.zeros((512,512,3),dtype=np.uint8)\n",
    "\n",
    "cv2.namedWindow(winname=\"my_drawing\")\n",
    "cv2.setMouseCallback(\"my_drawing\",draw_rectangle)\n",
    "\n",
    "while True:\n",
    "    cv2.imshow(\"my_drawing\",img1)\n",
    "    \n",
    "    if cv2.waitKey(20) & 0xFF == 27:\n",
    "        break\n",
    "cv2.destroyAllWindows()"
   ]
  },
  {
   "cell_type": "markdown",
   "id": "15c46900",
   "metadata": {},
   "source": [
    "# cg code"
   ]
  },
  {
   "cell_type": "code",
   "execution_count": 6,
   "id": "adc31f86",
   "metadata": {},
   "outputs": [],
   "source": [
    "import numpy as np\n",
    "import cv2\n",
    "\n",
    "# Global variables\n",
    "drawing = False  # True if mouse is pressed\n",
    "ix, iy = -1, -1  # Starting position of the circle\n",
    "\n",
    "# Mouse callback function\n",
    "def draw_circle(event, x, y, flags, param):\n",
    "    global ix, iy, drawing\n",
    "\n",
    "    if event == cv2.EVENT_LBUTTONDOWN:\n",
    "        drawing = True\n",
    "        ix, iy = x, y\n",
    "\n",
    "    elif event == cv2.EVENT_MOUSEMOVE:\n",
    "        if drawing == True:\n",
    "            cv2.circle(img, (x, y), 5, (0, 0, 255), -1)\n",
    "\n",
    "    elif event == cv2.EVENT_LBUTTONUP:\n",
    "        drawing = False\n",
    "        cv2.circle(img, (x, y), 5, (0, 0, 255), -1)\n",
    "\n",
    "# Create a black image\n",
    "img = np.zeros((512, 512, 3), np.uint8)\n",
    "cv2.namedWindow('image')\n",
    "cv2.setMouseCallback('image', draw_circle)\n",
    "\n",
    "while True:\n",
    "    cv2.imshow('image', img)\n",
    "    k = cv2.waitKey(1) & 0xFF\n",
    "    if k == ord('q'):  # Press 'q' to quit\n",
    "        break\n",
    "\n",
    "cv2.destroyAllWindows()\n"
   ]
  },
  {
   "cell_type": "code",
   "execution_count": null,
   "id": "11f74279",
   "metadata": {},
   "outputs": [],
   "source": []
  }
 ],
 "metadata": {
  "kernelspec": {
   "display_name": "Python 3 (ipykernel)",
   "language": "python",
   "name": "python3"
  },
  "language_info": {
   "codemirror_mode": {
    "name": "ipython",
    "version": 3
   },
   "file_extension": ".py",
   "mimetype": "text/x-python",
   "name": "python",
   "nbconvert_exporter": "python",
   "pygments_lexer": "ipython3",
   "version": "3.11.5"
  }
 },
 "nbformat": 4,
 "nbformat_minor": 5
}
