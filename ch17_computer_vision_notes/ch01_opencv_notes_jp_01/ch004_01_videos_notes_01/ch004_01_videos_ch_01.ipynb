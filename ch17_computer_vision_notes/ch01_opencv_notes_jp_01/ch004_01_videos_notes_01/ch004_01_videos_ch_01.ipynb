{
 "cells": [
  {
   "cell_type": "markdown",
   "id": "de506f23",
   "metadata": {},
   "source": [
    "# usb camera reading grayscale"
   ]
  },
  {
   "cell_type": "code",
   "execution_count": 11,
   "id": "d08547cb",
   "metadata": {},
   "outputs": [
    {
     "name": "stdout",
     "output_type": "stream",
     "text": [
      "the frames count is  -1\n"
     ]
    }
   ],
   "source": [
    "import cv2 \n",
    "\n",
    "cap=cv2.VideoCapture(0) #0 for default camera\n",
    "\n",
    "width=int(cap.get(cv2.CAP_PROP_FRAME_WIDTH))\n",
    "height=int(cap.get(cv2.CAP_PROP_FRAME_HEIGHT))\n",
    "frame=int(cap.get(cv2.CAP_PROP_FRAME_COUNT))\n",
    "\n",
    "print(\"the frames count is \",frame)\n",
    "\n",
    "while True:\n",
    "    ret,frame=cap.read()\n",
    "    \n",
    "    if not ret:\n",
    "        print(\"camera not working\")\n",
    "        break\n",
    "    \n",
    "    gray=cv2.cvtColor(frame,cv2.COLOR_BGR2GRAY)\n",
    "    \n",
    "    cv2.imshow(\"my_video\",gray)\n",
    "    \n",
    "    if cv2.waitKey(1) & 0xFF == 27:\n",
    "        break\n",
    "        \n",
    "cap.release()\n",
    "cv2.destroyAllWindows()"
   ]
  },
  {
   "cell_type": "markdown",
   "id": "c84064f2",
   "metadata": {},
   "source": [
    "# usb camera reading color"
   ]
  },
  {
   "cell_type": "code",
   "execution_count": null,
   "id": "34f6c3ff",
   "metadata": {},
   "outputs": [
    {
     "name": "stdout",
     "output_type": "stream",
     "text": [
      "the frames count is  -1\n"
     ]
    }
   ],
   "source": [
    "import cv2 \n",
    "\n",
    "cap=cv2.VideoCapture(0) #0 for default camera\n",
    "\n",
    "width=int(cap.get(cv2.CAP_PROP_FRAME_WIDTH))\n",
    "height=int(cap.get(cv2.CAP_PROP_FRAME_HEIGHT))\n",
    "frame=int(cap.get(cv2.CAP_PROP_FRAME_COUNT))\n",
    "\n",
    "print(\"the frames count is \",frame)\n",
    "\n",
    "while True:\n",
    "    ret,frame=cap.read()\n",
    "    \n",
    "    if not ret:\n",
    "        print(\"camera not working\")\n",
    "        break\n",
    "    \n",
    "    #gray=cv2.cvtColor(frame,cv2.COLOR_BGR2GRAY)\n",
    "    \n",
    "    cv2.imshow(\"my_video\",frame)\n",
    "    \n",
    "    if cv2.waitKey(1) & 0xFF == 27:\n",
    "        break\n",
    "        \n",
    "cap.release()\n",
    "cv2.destroyAllWindows()"
   ]
  },
  {
   "cell_type": "markdown",
   "id": "a83e6427",
   "metadata": {},
   "source": [
    "# usb camera reading color and write to file"
   ]
  },
  {
   "cell_type": "code",
   "execution_count": 13,
   "id": "53c6f62c",
   "metadata": {},
   "outputs": [
    {
     "name": "stdout",
     "output_type": "stream",
     "text": [
      "the frames count is  -1\n"
     ]
    }
   ],
   "source": [
    "import cv2 \n",
    "\n",
    "cap=cv2.VideoCapture(0) #0 for default camera\n",
    "\n",
    "width=int(cap.get(cv2.CAP_PROP_FRAME_WIDTH))\n",
    "height=int(cap.get(cv2.CAP_PROP_FRAME_HEIGHT))\n",
    "frame=int(cap.get(cv2.CAP_PROP_FRAME_COUNT))\n",
    "\n",
    "print(\"the frames count is \",frame)\n",
    "\n",
    "writer=cv2.VideoWriter(\"myvideo2.mp4\", cv2.VideoWriter_fourcc(*'XVID'),25, (width, height))\n",
    "\n",
    "while True:\n",
    "    ret,frame=cap.read()\n",
    "    \n",
    "    if not ret:\n",
    "        print(\"camera not working\")\n",
    "        break\n",
    "    \n",
    "    #gray=cv2.cvtColor(frame,cv2.COLOR_BGR2GRAY)\n",
    "    #write video files \n",
    "    writer.write(frame)\n",
    "    cv2.imshow(\"my_video\",frame)\n",
    "    \n",
    "    if cv2.waitKey(1) & 0xFF == 27:\n",
    "        break\n",
    "        \n",
    "cap.release()\n",
    "writer.release()\n",
    "cv2.destroyAllWindows()"
   ]
  },
  {
   "cell_type": "code",
   "execution_count": null,
   "id": "3ace66f8",
   "metadata": {},
   "outputs": [],
   "source": []
  }
 ],
 "metadata": {
  "kernelspec": {
   "display_name": "Python 3 (ipykernel)",
   "language": "python",
   "name": "python3"
  },
  "language_info": {
   "codemirror_mode": {
    "name": "ipython",
    "version": 3
   },
   "file_extension": ".py",
   "mimetype": "text/x-python",
   "name": "python",
   "nbconvert_exporter": "python",
   "pygments_lexer": "ipython3",
   "version": "3.11.5"
  }
 },
 "nbformat": 4,
 "nbformat_minor": 5
}
