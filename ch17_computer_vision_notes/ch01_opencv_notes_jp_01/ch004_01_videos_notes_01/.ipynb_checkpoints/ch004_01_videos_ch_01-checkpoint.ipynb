{
 "cells": [
  {
   "cell_type": "markdown",
   "id": "25f96920",
   "metadata": {},
   "source": [
    "# usb camera reading grayscale"
   ]
  },
  {
   "cell_type": "code",
   "execution_count": 11,
   "id": "a4291129",
   "metadata": {},
   "outputs": [
    {
     "name": "stdout",
     "output_type": "stream",
     "text": [
      "the frames count is  -1\n"
     ]
    }
   ],
   "source": [
    "import cv2 \n",
    "\n",
    "cap=cv2.VideoCapture(0) #0 for default camera\n",
    "\n",
    "width=int(cap.get(cv2.CAP_PROP_FRAME_WIDTH))\n",
    "height=int(cap.get(cv2.CAP_PROP_FRAME_HEIGHT))\n",
    "frame=int(cap.get(cv2.CAP_PROP_FRAME_COUNT))\n",
    "\n",
    "print(\"the frames count is \",frame)\n",
    "\n",
    "while True:\n",
    "    ret,frame=cap.read()\n",
    "    \n",
    "    if not ret:\n",
    "        print(\"camera not working\")\n",
    "        break\n",
    "    \n",
    "    gray=cv2.cvtColor(frame,cv2.COLOR_BGR2GRAY)\n",
    "    \n",
    "    cv2.imshow(\"my_video\",gray)\n",
    "    \n",
    "    if cv2.waitKey(1) & 0xFF == 27:\n",
    "        break\n",
    "        \n",
    "cap.release()\n",
    "cv2.destroyAllWindows()"
   ]
  },
  {
   "cell_type": "markdown",
   "id": "ebd87fa8",
   "metadata": {},
   "source": [
    "# usb camera reading color"
   ]
  },
  {
   "cell_type": "code",
   "execution_count": 14,
   "id": "984fa31f",
   "metadata": {},
   "outputs": [
    {
     "name": "stdout",
     "output_type": "stream",
     "text": [
      "the frames count is  -1\n"
     ]
    }
   ],
   "source": [
    "import cv2 \n",
    "\n",
    "cap=cv2.VideoCapture(0) #0 for default camera\n",
    "\n",
    "width=int(cap.get(cv2.CAP_PROP_FRAME_WIDTH))\n",
    "height=int(cap.get(cv2.CAP_PROP_FRAME_HEIGHT))\n",
    "frame=int(cap.get(cv2.CAP_PROP_FRAME_COUNT))\n",
    "\n",
    "print(\"the frames count is \",frame)\n",
    "\n",
    "while True:\n",
    "    ret,frame=cap.read()\n",
    "    \n",
    "    if not ret:\n",
    "        print(\"camera not working\")\n",
    "        break\n",
    "    \n",
    "    #gray=cv2.cvtColor(frame,cv2.COLOR_BGR2GRAY)\n",
    "    \n",
    "    cv2.imshow(\"my_video\",frame)\n",
    "    \n",
    "    if cv2.waitKey(1) & 0xFF == 27:\n",
    "        break\n",
    "        \n",
    "cap.release()\n",
    "cv2.destroyAllWindows()"
   ]
  },
  {
   "cell_type": "markdown",
   "id": "1c5c773c",
   "metadata": {},
   "source": [
    "# usb camera reading color and write to file"
   ]
  },
  {
   "cell_type": "code",
   "execution_count": 15,
   "id": "a351be07",
   "metadata": {},
   "outputs": [
    {
     "name": "stdout",
     "output_type": "stream",
     "text": [
      "the frames count is  -1\n"
     ]
    }
   ],
   "source": [
    "import cv2 \n",
    "\n",
    "cap=cv2.VideoCapture(0) #0 for default camera\n",
    "\n",
    "width=int(cap.get(cv2.CAP_PROP_FRAME_WIDTH))\n",
    "height=int(cap.get(cv2.CAP_PROP_FRAME_HEIGHT))\n",
    "frame=int(cap.get(cv2.CAP_PROP_FRAME_COUNT))\n",
    "\n",
    "print(\"the frames count is \",frame)\n",
    "\n",
    "writer=cv2.VideoWriter(\"myvideo2.mp4\", cv2.VideoWriter_fourcc(*'XVID'),25, (width, height))\n",
    "\n",
    "while True:\n",
    "    ret,frame=cap.read()\n",
    "    \n",
    "    if not ret:\n",
    "        print(\"camera not working\")\n",
    "        break\n",
    "    \n",
    "    #gray=cv2.cvtColor(frame,cv2.COLOR_BGR2GRAY)\n",
    "    #write video files \n",
    "    writer.write(frame)\n",
    "    cv2.imshow(\"my_video\",frame)\n",
    "    \n",
    "    if cv2.waitKey(1) & 0xFF == 27:\n",
    "        break\n",
    "        \n",
    "cap.release()\n",
    "writer.release()\n",
    "cv2.destroyAllWindows()"
   ]
  },
  {
   "cell_type": "markdown",
   "id": "33653feb",
   "metadata": {},
   "source": [
    "# playback videos"
   ]
  },
  {
   "cell_type": "code",
   "execution_count": 18,
   "id": "68c47834",
   "metadata": {},
   "outputs": [],
   "source": [
    "import cv2 \n",
    "import time \n",
    "\n",
    "cap=cv2.VideoCapture(\"myvideo.mp4\")\n",
    "\n",
    "if cap.isOpened()==False:\n",
    "    print(\"Error file not found or wrong codec used \")\n",
    "\n",
    "while cap.isOpened():\n",
    "    ret,frame=cap.read()\n",
    "    \n",
    "    if ret:\n",
    "        time.sleep(1/25)  #25 frames per second\n",
    "        cv2.imshow(\"frame\",frame)\n",
    "        \n",
    "        if cv2.waitKey(10) & 0xFF == 27:\n",
    "            break\n",
    "    else:\n",
    "        break\n",
    "\n",
    "cap.release()\n",
    "cv2.destroyAllWindows()"
   ]
  },
  {
   "cell_type": "markdown",
   "id": "cc9c5929",
   "metadata": {},
   "source": [
    "# drawing rectangle on  realtime videos "
   ]
  },
  {
   "cell_type": "code",
   "execution_count": 20,
   "id": "b8aee134",
   "metadata": {},
   "outputs": [
    {
     "ename": "error",
     "evalue": "OpenCV(4.8.1) D:\\a\\opencv-python\\opencv-python\\opencv\\modules\\highgui\\src\\window.cpp:971: error: (-215:Assertion failed) size.width>0 && size.height>0 in function 'cv::imshow'\n",
     "output_type": "error",
     "traceback": [
      "\u001b[1;31m---------------------------------------------------------------------------\u001b[0m",
      "\u001b[1;31merror\u001b[0m                                     Traceback (most recent call last)",
      "Cell \u001b[1;32mIn[20], line 31\u001b[0m\n\u001b[0;32m     28\u001b[0m  cv2\u001b[38;5;241m.\u001b[39mrectangle(frame, (x, y), (x\u001b[38;5;241m+\u001b[39mw, y\u001b[38;5;241m+\u001b[39mh), color\u001b[38;5;241m=\u001b[39m(\u001b[38;5;241m0\u001b[39m,\u001b[38;5;241m0\u001b[39m,\u001b[38;5;241m255\u001b[39m),thickness\u001b[38;5;241m=\u001b[39m \u001b[38;5;241m4\u001b[39m)\n\u001b[0;32m     30\u001b[0m  \u001b[38;5;66;03m# Display the resulting frame\u001b[39;00m\n\u001b[1;32m---> 31\u001b[0m  cv2\u001b[38;5;241m.\u001b[39mimshow(\u001b[38;5;124m'\u001b[39m\u001b[38;5;124mframe\u001b[39m\u001b[38;5;124m'\u001b[39m, frame)\n\u001b[0;32m     33\u001b[0m \u001b[38;5;66;03m# This command let's us quit with the \"q\" button on a keyboard.\u001b[39;00m\n\u001b[0;32m     34\u001b[0m  \u001b[38;5;66;03m# Simply pressing X on the window won't work!\u001b[39;00m\n\u001b[0;32m     35\u001b[0m  \u001b[38;5;28;01mif\u001b[39;00m cv2\u001b[38;5;241m.\u001b[39mwaitKey(\u001b[38;5;241m1\u001b[39m) \u001b[38;5;241m&\u001b[39m \u001b[38;5;241m0xFF\u001b[39m \u001b[38;5;241m==\u001b[39m \u001b[38;5;28mord\u001b[39m(\u001b[38;5;124m'\u001b[39m\u001b[38;5;124mq\u001b[39m\u001b[38;5;124m'\u001b[39m):\n",
      "\u001b[1;31merror\u001b[0m: OpenCV(4.8.1) D:\\a\\opencv-python\\opencv-python\\opencv\\modules\\highgui\\src\\window.cpp:971: error: (-215:Assertion failed) size.width>0 && size.height>0 in function 'cv::imshow'\n"
     ]
    }
   ],
   "source": [
    "import cv2\n",
    "\n",
    "cap = cv2.VideoCapture(0)\n",
    "\n",
    "\n",
    "# Automatically grab width and height from video feed\n",
    "# (returns float which we need to convert to integer for later on!)\n",
    "width = int(cap.get(cv2.CAP_PROP_FRAME_WIDTH))\n",
    "height = int(cap.get(cv2.CAP_PROP_FRAME_HEIGHT))\n",
    "\n",
    "# We're using // here because in Python // allows for int classical division, \n",
    "# because we can't pass a float to the cv2.rectangle function\n",
    "\n",
    "# Coordinates for Rectangle\n",
    "x = width//2\n",
    "y = height//2\n",
    "\n",
    "# Width and height\n",
    "w = width//4\n",
    "h = height//4\n",
    "\n",
    "while True:\n",
    "    # Capture frame-by-frame\n",
    "    ret, frame = cap.read()\n",
    "\n",
    "    # Draw a rectangle on stream\n",
    "    \n",
    "    cv2.rectangle(frame, (x, y), (x+w, y+h), color=(0,0,255),thickness= 4)\n",
    "\n",
    "    # Display the resulting frame\n",
    "    cv2.imshow('frame', frame)\n",
    "\n",
    "   # This command let's us quit with the \"q\" button on a keyboard.\n",
    "    # Simply pressing X on the window won't work!\n",
    "    if cv2.waitKey(1) & 0xFF == ord('q'):\n",
    "        break\n",
    "\n",
    "# When everything is done, release the capture\n",
    "cap.release()\n",
    "cv2.destroyAllWindows()"
   ]
  },
  {
   "cell_type": "code",
   "execution_count": 21,
   "id": "fa0a094a",
   "metadata": {},
   "outputs": [
    {
     "ename": "error",
     "evalue": "OpenCV(4.8.1) D:\\a\\opencv-python\\opencv-python\\opencv\\modules\\highgui\\src\\window.cpp:971: error: (-215:Assertion failed) size.width>0 && size.height>0 in function 'cv::imshow'\n",
     "output_type": "error",
     "traceback": [
      "\u001b[1;31m---------------------------------------------------------------------------\u001b[0m",
      "\u001b[1;31merror\u001b[0m                                     Traceback (most recent call last)",
      "Cell \u001b[1;32mIn[21], line 58\u001b[0m\n\u001b[0;32m     54\u001b[0m     cv2\u001b[38;5;241m.\u001b[39mrectangle(frame, pt1, pt2, (\u001b[38;5;241m0\u001b[39m, \u001b[38;5;241m0\u001b[39m, \u001b[38;5;241m255\u001b[39m), \u001b[38;5;241m2\u001b[39m)\n\u001b[0;32m     57\u001b[0m \u001b[38;5;66;03m# Display the resulting frame\u001b[39;00m\n\u001b[1;32m---> 58\u001b[0m cv2\u001b[38;5;241m.\u001b[39mimshow(\u001b[38;5;124m'\u001b[39m\u001b[38;5;124mTest\u001b[39m\u001b[38;5;124m'\u001b[39m, frame)\n\u001b[0;32m     60\u001b[0m \u001b[38;5;66;03m# This command let's us quit with the \"q\" button on a keyboard.\u001b[39;00m\n\u001b[0;32m     61\u001b[0m \u001b[38;5;66;03m# Simply pressing X on the window won't work!\u001b[39;00m\n\u001b[0;32m     62\u001b[0m \u001b[38;5;28;01mif\u001b[39;00m cv2\u001b[38;5;241m.\u001b[39mwaitKey(\u001b[38;5;241m1\u001b[39m) \u001b[38;5;241m&\u001b[39m \u001b[38;5;241m0xFF\u001b[39m \u001b[38;5;241m==\u001b[39m \u001b[38;5;28mord\u001b[39m(\u001b[38;5;124m'\u001b[39m\u001b[38;5;124mq\u001b[39m\u001b[38;5;124m'\u001b[39m):\n",
      "\u001b[1;31merror\u001b[0m: OpenCV(4.8.1) D:\\a\\opencv-python\\opencv-python\\opencv\\modules\\highgui\\src\\window.cpp:971: error: (-215:Assertion failed) size.width>0 && size.height>0 in function 'cv::imshow'\n"
     ]
    }
   ],
   "source": [
    "import cv2\n",
    "import numpy as np \n",
    "\n",
    "# Create a function based on a CV2 Event (Left button click)\n",
    "\n",
    "# mouse callback function\n",
    "def draw_rectangle(event,x,y,flags,param):\n",
    "\n",
    "    global pt1,pt2,topLeft_clicked,botRight_clicked\n",
    "\n",
    "    # get mouse click\n",
    "    if event == cv2.EVENT_LBUTTONDOWN:\n",
    "\n",
    "        if topLeft_clicked == True and botRight_clicked == True:\n",
    "            topLeft_clicked = False\n",
    "            botRight_clicked = False\n",
    "            pt1 = (0,0)\n",
    "            pt2 = (0,0)\n",
    "\n",
    "        if topLeft_clicked == False:\n",
    "            pt1 = (x,y)\n",
    "            topLeft_clicked = True\n",
    "            \n",
    "        elif botRight_clicked == False:\n",
    "            pt2 = (x,y)\n",
    "            botRight_clicked = True\n",
    "\n",
    "        \n",
    "# Haven't drawn anything yet!\n",
    "\n",
    "pt1 = (0,0)\n",
    "pt2 = (0,0)\n",
    "topLeft_clicked = False\n",
    "botRight_clicked = False\n",
    "\n",
    "cap = cv2.VideoCapture(0) \n",
    "\n",
    "# Create a named window for connections\n",
    "cv2.namedWindow('Test')\n",
    "\n",
    "# Bind draw_rectangle function to mouse cliks\n",
    "cv2.setMouseCallback('Test', draw_rectangle) \n",
    "\n",
    "\n",
    "while True:\n",
    "    # Capture frame-by-frame\n",
    "    ret, frame = cap.read()\n",
    "\n",
    "    if topLeft_clicked:\n",
    "        cv2.circle(frame, center=pt1, radius=5, color=(0,0,255), thickness=-1)\n",
    "        \n",
    "    #drawing rectangle\n",
    "    if topLeft_clicked and botRight_clicked:\n",
    "        cv2.rectangle(frame, pt1, pt2, (0, 0, 255), 2)\n",
    "        \n",
    "        \n",
    "    # Display the resulting frame\n",
    "    cv2.imshow('Test', frame)\n",
    "\n",
    "    # This command let's us quit with the \"q\" button on a keyboard.\n",
    "    # Simply pressing X on the window won't work!\n",
    "    if cv2.waitKey(1) & 0xFF == ord('q'):\n",
    "        break\n",
    "\n",
    "# When everything is done, release the capture\n",
    "cap.release()\n",
    "cv2.destroyAllWindows()"
   ]
  },
  {
   "cell_type": "code",
   "execution_count": null,
   "id": "52ad23e5",
   "metadata": {},
   "outputs": [],
   "source": []
  }
 ],
 "metadata": {
  "kernelspec": {
   "display_name": "Python 3 (ipykernel)",
   "language": "python",
   "name": "python3"
  },
  "language_info": {
   "codemirror_mode": {
    "name": "ipython",
    "version": 3
   },
   "file_extension": ".py",
   "mimetype": "text/x-python",
   "name": "python",
   "nbconvert_exporter": "python",
   "pygments_lexer": "ipython3",
   "version": "3.11.5"
  }
 },
 "nbformat": 4,
 "nbformat_minor": 5
}
